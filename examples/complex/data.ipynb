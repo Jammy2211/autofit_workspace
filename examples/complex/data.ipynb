{
  "cells": [
    {
      "cell_type": "code",
      "metadata": {},
      "source": [
        "import os\n",
        "from astropy.io import fits\n",
        "from autofit_workspace.examples.complex import model as m\n",
        "\n",
        "import numpy as np"
      ],
      "outputs": [],
      "execution_count": null
    },
    {
      "cell_type": "markdown",
      "metadata": {},
      "source": [
        "This script simulates the 1D Gaussians and Exponential profile datasets used throughout the example scripts."
      ]
    },
    {
      "cell_type": "code",
      "metadata": {},
      "source": [
        "%matplotlib inline"
      ],
      "outputs": [],
      "execution_count": null
    },
    {
      "cell_type": "code",
      "metadata": {},
      "source": [
        "def numpy_array_1d_to_fits(array_1d, file_path, overwrite=False):\n",
        "    \"\"\"Write a 1D NumPy array to a .fits file.\n",
        "\n",
        "    Parameters\n",
        "    ----------\n",
        "    array_1d : ndarray\n",
        "        The 1D array that is written to fits.\n",
        "    file_path : str\n",
        "        The full path of the file that is output, including the file name and '.fits' extension.\n",
        "    overwrite : bool\n",
        "        If True and a file already exists with the input file_path the .fits file is overwritten. If False, an error \\\n",
        "        will be raised.\n",
        "\n",
        "    Returns\n",
        "    -------\n",
        "    None\n",
        "\n",
        "    Examples\n",
        "    --------\n",
        "    array_1d = np.ones(shape=(,5))\n",
        "    numpy_array_1d_to_fits(array_1d=array_1d, file_path='/path/to/file/filename.fits', overwrite=True)\n",
        "    \"\"\"\n",
        "\n",
        "    if overwrite and os.path.exists(file_path):\n",
        "        os.remove(file_path)\n",
        "\n",
        "    new_hdr = fits.Header()\n",
        "    hdu = fits.PrimaryHDU(array_1d, new_hdr)\n",
        "    hdu.writeto(file_path)"
      ],
      "outputs": [],
      "execution_count": null
    },
    {
      "cell_type": "markdown",
      "metadata": {},
      "source": [
        "The path to the chapter and dataset folder on your computer. The data should be distributed with PyAutoFit, however\n",
        "if you wish to reuse this script to generate it again (or new datasets) you must update the paths appropriately."
      ]
    },
    {
      "cell_type": "code",
      "metadata": {},
      "source": [
        "workspace_path = \"/home/jammy/PycharmProjects/PyAuto/autofit_workspace\"\n",
        "dataset_path = f\"{workspace_path}/dataset\""
      ],
      "outputs": [],
      "execution_count": null
    },
    {
      "cell_type": "markdown",
      "metadata": {},
      "source": [
        "__Gaussian X1__\n",
        "\n",
        "Setup the path and filename the .fits file of the Gaussian is written to."
      ]
    },
    {
      "cell_type": "code",
      "metadata": {},
      "source": [
        "data_path = f\"{dataset_path}/gaussian_x1__exponential_x1\""
      ],
      "outputs": [],
      "execution_count": null
    },
    {
      "cell_type": "markdown",
      "metadata": {},
      "source": [
        "Create a model instance of the Gaussian and Exponential."
      ]
    },
    {
      "cell_type": "code",
      "metadata": {},
      "source": [
        "gaussian = m.Gaussian(centre=50.0, intensity=25.0, sigma=10.0)\n",
        "exponential = m.Exponential(centre=30.0, intensity=10.0, rate=0.1)"
      ],
      "outputs": [],
      "execution_count": null
    },
    {
      "cell_type": "markdown",
      "metadata": {},
      "source": [
        "Specify the number of pixels used to create the xvalues on which the 1D line of the profile is generated using and\n",
        "thus defining the number of data-points in our data."
      ]
    },
    {
      "cell_type": "code",
      "metadata": {},
      "source": [
        "pixels = 100\n",
        "xvalues = np.arange(pixels)"
      ],
      "outputs": [],
      "execution_count": null
    },
    {
      "cell_type": "markdown",
      "metadata": {},
      "source": [
        "Evaluate this Gaussian and Exponential model instances at every xvalues to create their model profiles and add \n",
        "them together."
      ]
    },
    {
      "cell_type": "code",
      "metadata": {},
      "source": [
        "model_line = gaussian.line_from_xvalues(xvalues=xvalues) + exponential.line_from_xvalues(xvalues=xvalues)"
      ],
      "outputs": [],
      "execution_count": null
    },
    {
      "cell_type": "markdown",
      "metadata": {},
      "source": [
        "Determine the noise (at a specified signal to noise level) in every pixel of our model profile."
      ]
    },
    {
      "cell_type": "code",
      "metadata": {},
      "source": [
        "signal_to_noise_ratio = 25.0\n",
        "noise = np.random.normal(0.0, 1.0 / signal_to_noise_ratio, pixels)"
      ],
      "outputs": [],
      "execution_count": null
    },
    {
      "cell_type": "markdown",
      "metadata": {},
      "source": [
        "Add this noise to the model line to create the line data that is fitted, using the signal-to-noise ratio to compute\n",
        "noise-map of our data which is required when evaluating the chi-squared value of the likelihood."
      ]
    },
    {
      "cell_type": "code",
      "metadata": {},
      "source": [
        "data = model_line + noise\n",
        "noise_map = (1.0 / signal_to_noise_ratio) * np.ones(pixels)"
      ],
      "outputs": [],
      "execution_count": null
    },
    {
      "cell_type": "markdown",
      "metadata": {},
      "source": [
        "Output this data to fits file, so it can be loaded and fitted in the HowToFit tutorials."
      ]
    },
    {
      "cell_type": "code",
      "metadata": {},
      "source": [
        "numpy_array_1d_to_fits(\n",
        "    array_1d=data, file_path=f\"{data_path}/data.fits\", overwrite=True\n",
        ")\n",
        "numpy_array_1d_to_fits(\n",
        "    array_1d=noise_map, file_path=f\"{data_path}/noise_map.fits\", overwrite=True\n",
        ")"
      ],
      "outputs": [],
      "execution_count": null
    }
  ],
  "metadata": {
    "anaconda-cloud": {},
    "kernelspec": {
      "display_name": "Python 3",
      "language": "python",
      "name": "python3"
    },
    "language_info": {
      "codemirror_mode": {
        "name": "ipython",
        "version": 3
      },
      "file_extension": ".py",
      "mimetype": "text/x-python",
      "name": "python",
      "nbconvert_exporter": "python",
      "pygments_lexer": "ipython3",
      "version": "3.6.1"
    }
  },
  "nbformat": 4,
  "nbformat_minor": 1
}