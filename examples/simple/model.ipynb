{
  "cells": [
    {
      "cell_type": "code",
      "metadata": {},
      "source": [
        "import numpy as np\n",
        "\n",
        "# The Gaussian class in this module is the model components that is fitted to data using a non-linear search. The\n",
        "# inputs of its __init__ constructor are the parameters which can be fitted for.\n",
        "\n",
        "# The log_likelihood_function in the Analysis class receives an instance of this classes where the values of its\n",
        "# parameters have been set up according to the non-linear search. Because instances of the classes are used, this means\n",
        "# their methods (e.g. line_from_xvalues) can be used in the log likelihood function.\n",
        "\n",
        "\n",
        "class Gaussian:\n",
        "    def __init__(\n",
        "        self,\n",
        "        centre=0.0,  # <- PyAutoFit recognises these constructor arguments\n",
        "        intensity=0.1,  # <- are the Gaussian's model parameters.\n",
        "        sigma=0.01,\n",
        "    ):\n",
        "        \"\"\"Represents a 1D Gaussian profile, which may be treated as a model-component of PyAutoFit the\n",
        "        parameters of which are fitted for by a non-linear search.\n",
        "\n",
        "        Parameters\n",
        "        ----------\n",
        "        centre : float\n",
        "            The x coordinate of the profile centre.\n",
        "        intensity : float\n",
        "            Overall intensity normalisation of the Gaussian profile.\n",
        "        sigma : float\n",
        "            The sigma value controlling the size of the Gaussian.\n",
        "        \"\"\"\n",
        "\n",
        "        self.centre = centre\n",
        "        self.intensity = intensity\n",
        "        self.sigma = sigma\n",
        "\n",
        "    def line_from_xvalues(self, xvalues):\n",
        "        \"\"\"\n",
        "        Calculate the intensity of the profile on a line of Cartesian x coordinates.\n",
        "\n",
        "        The input xvalues are translated to a coordinate system centred on the Gaussian, using its centre.\n",
        "\n",
        "        Parameters\n",
        "        ----------\n",
        "        xvalues : ndarray\n",
        "            The x coordinates in the original reference frame of the grid.\n",
        "        \"\"\"\n",
        "\n",
        "        transformed_xvalues = xvalues - self.centre\n",
        "\n",
        "        return np.multiply(\n",
        "            np.divide(self.intensity, self.sigma * np.sqrt(2.0 * np.pi)),\n",
        "            np.exp(-0.5 * np.square(np.divide(transformed_xvalues, self.sigma))),\n",
        "        )\n"
      ],
      "outputs": [],
      "execution_count": null
    }
  ],
  "metadata": {
    "anaconda-cloud": {},
    "kernelspec": {
      "display_name": "Python 3",
      "language": "python",
      "name": "python3"
    },
    "language_info": {
      "codemirror_mode": {
        "name": "ipython",
        "version": 3
      },
      "file_extension": ".py",
      "mimetype": "text/x-python",
      "name": "python",
      "nbconvert_exporter": "python",
      "pygments_lexer": "ipython3",
      "version": "3.6.1"
    }
  },
  "nbformat": 4,
  "nbformat_minor": 1
}