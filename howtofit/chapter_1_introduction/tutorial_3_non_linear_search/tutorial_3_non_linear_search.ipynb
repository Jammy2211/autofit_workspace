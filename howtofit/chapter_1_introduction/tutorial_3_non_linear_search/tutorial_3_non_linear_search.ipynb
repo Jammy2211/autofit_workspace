{
  "cells": [
    {
      "cell_type": "code",
      "metadata": {},
      "source": [
        "#%%\n",
        "\"\"\"\n",
        "__Non-linear Search__\n",
        "\n",
        "Okay, so its finally time to take our model and fit it to our data, hurrah!\n",
        "\n",
        "So, how do we infer the parameters for a Gaussian that give a good fit to our dataset?  In the last tutorial, we\n",
        "tried a very basic approach, randomly guessing models until we found one that gave a good fit and high log_likelihood.\n",
        "\n",
        "We discussed that this wasn't really a viable strategy for more complex models, and it isn't. However, this is the\n",
        "basis of how model fitting actually works! Basically, our model-fitting algorithm guesses lots of models, tracking\n",
        "the log likelihood of these models. As the algorithm progresses, it begins to guess more models using parameter\n",
        "combinations that gave higher log_likelihood solutions previously. If a set of parameters provided a good fit to the\n",
        "dataset previously, a model with similar values probably will too.\n",
        "\n",
        "This is called a 'non-linear search' and its a fairly common problem faced by scientists. We're going to use a\n",
        "non-linear search algorithm called 'MultiNest'. For now, lets not worry about the details of how MultiNest actually\n",
        "works. Instead, just picture that a non-linear search in PyAutoFit operates as follows:\n",
        "\n",
        "1) Randomly guess models, mapping their parameters via priors to instances of the model, in this case a Gaussian.\n",
        "\n",
        "2) Use this model instance to generate model data and compare this model data to the dataset to compute a log likelihood.\n",
        "\n",
        "3) Repeat this many times, using the likelihoods of previous fits (typically those with a high log_likelihood) to\n",
        "   find models with higher likelihoods.\n",
        "\n",
        "In chapter 2, we'll go into the details of how a non-linear search works and outline the benefits and drawbacks of\n",
        "different non-linear search algorithms. In this chapter, we just want to convince ourselves that we can fit a model!\n",
        "\"\"\"\n"
      ],
      "outputs": [],
      "execution_count": null
    },
    {
      "cell_type": "code",
      "metadata": {},
      "source": [
        "%matplotlib inline"
      ],
      "outputs": [],
      "execution_count": null
    },
    {
      "cell_type": "code",
      "metadata": {},
      "source": [
        "import autofit as af\n",
        "\n",
        "from howtofit.chapter_1_introduction.tutorial_3_non_linear_search.src.plot import (\n",
        "    fit_plots,\n",
        ")\n",
        "from howtofit.chapter_1_introduction.tutorial_3_non_linear_search.src.model import (\n",
        "    gaussian,\n",
        ")\n",
        "from howtofit.chapter_1_introduction.tutorial_3_non_linear_search.src.phase import (\n",
        "    phase as ph,\n",
        ")"
      ],
      "outputs": [],
      "execution_count": null
    },
    {
      "cell_type": "markdown",
      "metadata": {},
      "source": [
        "You need to change the path below to the chapter 1 directory so we can load the dataset."
      ]
    },
    {
      "cell_type": "code",
      "metadata": {},
      "source": [
        "chapter_path = \"/home/jammy/PycharmProjects/PyAuto/autofit_workspace/howtofit/chapter_1_introduction/\""
      ],
      "outputs": [],
      "execution_count": null
    },
    {
      "cell_type": "markdown",
      "metadata": {},
      "source": [
        "Setup the configs as we did in the previous tutorial, as well as the output folder for our non-linear search."
      ]
    },
    {
      "cell_type": "code",
      "metadata": {},
      "source": [
        "af.conf.instance = af.conf.Config(\n",
        "    config_path=chapter_path + \"/config\",\n",
        "    output_path=chapter_path\n",
        "    + \"output\",  # <- This sets up where the non-linear search's outputs go.\n",
        ")\n",
        "\n",
        "dataset_path = chapter_path + \"dataset/gaussian_x1/\"\n",
        "\n",
        "from howtofit.chapter_1_introduction.tutorial_3_non_linear_search.src.dataset import (\n",
        "    dataset as ds,\n",
        ")\n",
        "\n",
        "dataset = ds.Dataset.from_fits(\n",
        "    data_path=dataset_path + \"data.fits\", noise_map_path=dataset_path + \"noise_map.fits\"\n",
        ")"
      ],
      "outputs": [],
      "execution_count": null
    },
    {
      "cell_type": "markdown",
      "metadata": {},
      "source": [
        "To perform a non-linear search in PyAutoFit we use Phase objects. A Phase performs the following tasks:\n",
        "\n",
        "- Builds the model to be fitted and interfaces it with the non-linear search algorithm.\n",
        "- Receives the data to be fitted and prepares it so the model can fit it.\n",
        "- When the non-linear search is running, defines the function computes a log likelihood given a model instance.\n",
        "- Returns results giving the best-fit model and the inferred parameters (with errors) of the models fit to the data.\n",
        "\n",
        "We'll look at how the phase is set up in the tutorial in a moment, but first lets instantiate and run a phase to.\n",
        "Performing a model-fit in PyAutoFit boils down to two lines of code, simply making the phase (specifying a model)\n",
        "and running the phase (by passing it data). Go ahead and do it!"
      ]
    },
    {
      "cell_type": "code",
      "metadata": {},
      "source": [
        "phase = ph.Phase(phase_name=\"phase_t3\", gaussian=af.PriorModel(gaussian.Gaussian))"
      ],
      "outputs": [],
      "execution_count": null
    },
    {
      "cell_type": "markdown",
      "metadata": {},
      "source": [
        "This line will set off the non-linear search MultiNest - it'll probably take a minute or so to run (which is very\n",
        "fast for a model-fit). Whilst you're waiting, checkout the folder:\n",
        "\n",
        "'autofit_workspace/howtofit/chapter_1_introduction/output/phase_t3/'\n",
        "\n",
        "Here, the results of the model-fit are output to your hard-disk on-the-fly and you can inspect them as the non-linear\n",
        "search runs. In particular, you'll file:\n",
        "\n",
        "- model.info: A file listing every model component, parameter and prior in your model-fit.\n",
        "- model.results: A file giving the latest best-fit model, parameter estimates and errors of the fit.\n",
        "- optimizer: A folder containing the MultiNest output .txt files (you'll probably never need to look at these, but\n",
        "         its good to know what they are).\n",
        "- Other metadata which you can ignore for now."
      ]
    },
    {
      "cell_type": "code",
      "metadata": {},
      "source": [
        "print(\n",
        "    \"MultiNest has begun running - checkout the autofit_workspace/howtofit/chapter_1_introduction/output/phase_t3\"\n",
        "    \"folder for live output of the results.\"\n",
        "    \"This Jupyter notebook cell with progress once MultiNest has completed - this could take a few minutes!\"\n",
        ")\n",
        "\n",
        "result = phase.run(dataset=dataset)\n",
        "\n",
        "print(\"MultiNest has finished run - you may now continue the notebook.\")"
      ],
      "outputs": [],
      "execution_count": null
    },
    {
      "cell_type": "markdown",
      "metadata": {},
      "source": [
        "Once complete, the phase results a Result object, which as mentioned contains the best-fit model instance."
      ]
    },
    {
      "cell_type": "code",
      "metadata": {},
      "source": [
        "print(\"Best-fit Model:\\n\")\n",
        "print(\"Centre = \", result.instance.gaussian.centre)\n",
        "print(\"Intensity = \", result.instance.gaussian.intensity)\n",
        "print(\"Sigma = \", result.instance.gaussian.sigma)"
      ],
      "outputs": [],
      "execution_count": null
    },
    {
      "cell_type": "markdown",
      "metadata": {},
      "source": [
        "The Result class also has functions which generate an instance of the fit class using the best-fit model."
      ]
    },
    {
      "cell_type": "code",
      "metadata": {},
      "source": [
        "fit_plots.model_data(fit=result.max_log_likelihood_fit)\n",
        "fit_plots.residual_map(fit=result.max_log_likelihood_fit)\n",
        "fit_plots.chi_squared_map(fit=result.max_log_likelihood_fit)"
      ],
      "outputs": [],
      "execution_count": null
    },
    {
      "cell_type": "markdown",
      "metadata": {},
      "source": [
        "We also have an 'output' attribute, which in this case is a NestedSamplerSamples object:"
      ]
    },
    {
      "cell_type": "code",
      "metadata": {},
      "source": [
        "print(result.output)"
      ],
      "outputs": [],
      "execution_count": null
    },
    {
      "cell_type": "markdown",
      "metadata": {},
      "source": [
        "This object acts as an interface between the MultiNest output results on your hard-disk and this Python code. For\n",
        "example, we can use it to get the log evidence estimated by MultiNest."
      ]
    },
    {
      "cell_type": "code",
      "metadata": {},
      "source": [
        "print(result.output.log_evidence)"
      ],
      "outputs": [],
      "execution_count": null
    },
    {
      "cell_type": "markdown",
      "metadata": {},
      "source": [
        "We can also use it to get a model instance of the \"most probable\" model, which is the model where each parameter is\n",
        "the value estimated from the probability distribution of parameter space."
      ]
    },
    {
      "cell_type": "code",
      "metadata": {},
      "source": [
        "mp_instance = result.output.most_probable_instance\n",
        "print()\n",
        "print(\"Most Probable Model:\\n\")\n",
        "print(\"Centre = \", mp_instance.gaussian.centre)\n",
        "print(\"Intensity = \", mp_instance.gaussian.intensity)\n",
        "print(\"Sigma = \", mp_instance.gaussian.sigma)"
      ],
      "outputs": [],
      "execution_count": null
    },
    {
      "cell_type": "markdown",
      "metadata": {},
      "source": [
        "We'll come back to this output object in tutorial 7!\n",
        "\n",
        "At this point, you should open and inspect (in detail) the source code files 'phase.py', 'analysis.py' and 'result.py'.\n",
        "These 3 files are the heart of any PyAutoFit model fit - they are the only files you need in order fit a model to a\n",
        "data-set! An over view of each is as follows:\n",
        "\n",
        "phase.py:\n",
        "\n",
        "- Receives the model to be fitted (in this case a single Gaussian).\n",
        "- Handles the directory structure of the output (in this example results are output to the folder\n",
        "'/output/phase_example/'.\n",
        "- Is passed the data when run, which is set up for the analysis.\n",
        "\n",
        "analysis.py:\n",
        "\n",
        "- Prepares the dataset for fitting.\n",
        "- Fits this dataset with a model instance to compute a log likelihood for every iteration of the non-linear search.\n",
        "\n",
        "result.py\n",
        "\n",
        "- Stores the best-fit (highest log likelihood) model instance.\n",
        "- Has functions to create the best-fit model image, best-fit residuals, etc.\n",
        "- Has functions to inspect the overall quality of the model-fit (e.g. parameter estimates, errors, etc.). These\n",
        "will be detailed in chapter 5.\n",
        "\n",
        "Finally, the other thing to think about is the directory structure of the tutorial's 'source code', where we have\n",
        "separated modules into 5 packages: 'dataset', 'fit', 'model', 'plot' and 'phase'. This cleanly separates different\n",
        "parts of the code which do different thing and is a design I recommend your model-fitting project strictly adheres to!\n",
        "\n",
        "For example, this ensures the code which handles the model is completely separate from the code which handles phases.\n",
        "The model then never interfaces directly with PyAutoFit, ensuring good code design by removing dependencies between\n",
        "parts of the code that do not need to interact! Its the same for the part of the code that stores data ('dataset')\n",
        "and fits a model to a dataset ('fit') - by keeping them separate its clear which part of the code do what task.\n",
        "\n",
        "This is a principle aspect of object oriented design and software engineering called 'separation of concerns' and all\n",
        "templates we provide in the HowToFit series will adhere to it."
      ]
    }
  ],
  "metadata": {
    "anaconda-cloud": {},
    "kernelspec": {
      "display_name": "Python 3",
      "language": "python",
      "name": "python3"
    },
    "language_info": {
      "codemirror_mode": {
        "name": "ipython",
        "version": 3
      },
      "file_extension": ".py",
      "mimetype": "text/x-python",
      "name": "python",
      "nbconvert_exporter": "python",
      "pygments_lexer": "ipython3",
      "version": "3.6.1"
    }
  },
  "nbformat": 4,
  "nbformat_minor": 1
}