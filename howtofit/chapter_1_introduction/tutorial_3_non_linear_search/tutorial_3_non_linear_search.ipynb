{
 "cells": [
  {
   "cell_type": "markdown",
   "metadata": {},
   "source": [
    "__Non-Linear Search__\n",
    "\n",
    "Okay, so its finally time to take our model and fit it to our data, hurrah!\n",
    "\n",
    "So, how do we infer the parameters for a Gaussian that that give a good fit to our dataset?  In the last tutorial, we tried a very basic approach, randomly guessing models until we found one that gave a good fit and high likelihood.\n",
    "\n",
    "We discussed that this wasn't really a viable strategy for more complex models, and it isn't. Surprisisngly, however, this is the basis of how model fitting actually works! Basically, our model-fitting algorithm guesses lots of models, tracking the likelihood of these models. As the algorithm progresses, it begins to guess more models using parameter combinations that gave higher likelihood solutions previously, with the idea that if a set of parameters provided a good fit to the dataset, a model with similar values probably will too.\n",
    "\n",
    "This is called a 'non-linear search' and its a fairly common problem faced by scientists. We're going to use a non-linear search algorithm called 'MultiNest'. For now, lets not worry about the details of how MultiNest actually works. Instead, just picture that a non-linear search in PyAutoFit operates as follows:\n",
    "\n",
    "1) Randomly guess a model and map its parameters via the priors to make an instance of a Gaussian.\n",
    "\n",
    "2) Use this model instance to generate a model image and compare this model image to the imaging data to compute a likelihood.\n",
    "\n",
    "3) Repeat this many times, using the likelihoods of previous fits (typically those with a high likelihood) to guide us to the lens models with the highest likelihood.\n",
    "\n",
    "In chapter 2, we'll go into the details of how a non-linear search works and outline the benefits and drawbacks of different non-linear search algorithms. In this chapter, we just want to convince ourselves that we can fit a model!"
   ]
  },
  {
   "cell_type": "code",
   "execution_count": null,
   "metadata": {},
   "outputs": [],
   "source": [
    "import autofit as af\n",
    "import autoarray as aa\n",
    "import autoarray.plot as aplt\n",
    "\n",
    "from howtofit.chapter_1_introduction.tutorial_3_non_linear_search import (\n",
    "    gaussians,\n",
    "    phase as ph,\n",
    ")"
   ]
  },
  {
   "cell_type": "markdown",
   "metadata": {},
   "source": [
    "You need to change the path below to the chapter 1 directory so we can load the dataset."
   ]
  },
  {
   "cell_type": "code",
   "execution_count": null,
   "metadata": {},
   "outputs": [],
   "source": [
    "chapter_path = \"/home/jammy/PycharmProjects/PyAuto/autofit_workspace/howtofit/chapter_1_introduction/\""
   ]
  },
  {
   "cell_type": "markdown",
   "metadata": {},
   "source": [
    "Setup the configs as we did in the previous tutorial, as well as the output folder for our non-linear search."
   ]
  },
  {
   "cell_type": "code",
   "execution_count": null,
   "metadata": {},
   "outputs": [],
   "source": [
    "af.conf.instance = af.conf.Config(\n",
    "    config_path=chapter_path + \"/config\",\n",
    "    output_path=chapter_path\n",
    "    + \"tutorial_3_non_linear_search/output\",  # <- This sets up where the non-linear search's outputs go.\n",
    ")\n",
    "\n",
    "dataset_path = chapter_path + \"dataset/gaussian_x1/\"\n",
    "\n",
    "imaging = aa.imaging.from_fits(\n",
    "    image_path=dataset_path + \"image.fits\",\n",
    "    noise_map_path=dataset_path + \"noise_map.fits\",\n",
    "    psf_path=dataset_path + \"psf.fits\",\n",
    "    pixel_scales=1.0,\n",
    ")"
   ]
  },
  {
   "cell_type": "markdown",
   "metadata": {},
   "source": [
    "To perform a non-linear search in PyAutoFit we use Phase objects. A Phase performs the following tasks:\n",
    "\n",
    "- Builds the model to be fitted and interfaces it with the non-linear search algorithm.\n",
    "- Receives the data to be fitted and prepares it so the model can fit it.\n",
    "- When the non-linear search is running, defines the function that enables a likelihood to be computed given a model instance.\n",
    "- Handles Visualization of the results, albeit this feature will be omitted until the next tutorial.\n",
    "- Returns results giving the best-fit model and the inferred parameters (with errors) of the models fit to the data.\n",
    "\n",
    "At this point, you should open and inspect (in detail) the files 'phase.py', 'analysis.py' and 'result.py'. These 3 files are the heart of any PyAutoFit model fit - these are the only files you need in order fit any model imaginable to any data-set imaginable! An over view of each is as follows:\n",
    "\n",
    "__phase.py__\n",
    "\n",
    "- Receives the model to be fitted (in this case a single Gaussian).\n",
    "- Handles the directorry structure of the output (in this example results are output to the folder'autofit_workspace/howtofit/chapter_1_introduction/tutorial_3_non_linear_search/output/phase_example/'.\n",
    "- Is passed the data when run, which is then set up for the analsyis.\n",
    "\n",
    "__analysis.py__\n",
    "\n",
    "- Prepares the dataset for fitting (e.g. masking).\n",
    "- Fits this dataset with a model instance to compute a likelihood for every iteration of the non-linear search.\n",
    "- Handles visualization (this is omitted until tutorial 4)!\n",
    "\n",
    "__result.py__\n",
    "\n",
    "- Stores he best-fit (highest likelhood) model instance.\n",
    "- Has functions to create the best-fit model image, best-fit residuals, etc.\n",
    "- Has functions to inspect the overall quality of the model-fit (e.g. parameter estimates, errors, etc.). These will be detailed in chapter 5.\n",
    "\n",
    "Once the above files are set up correct, performing a model-fit in PyAutoFit boils down to two lines of code, simply making the phase (given a model) and running the phase (by passing it data). Go ahead and do it!"
   ]
  },
  {
   "cell_type": "code",
   "execution_count": null,
   "metadata": {},
   "outputs": [],
   "source": [
    "phase = ph.Phase(phase_name=\"phase_example\", gaussian=af.PriorModel(gaussians.Gaussian))"
   ]
  },
  {
   "cell_type": "markdown",
   "metadata": {},
   "source": [
    "This line will set off the non-linear search MultiNest - it'll probably take a minute or so to run (which is very fast for a model-fit). Whilst you're waiting, checkout the folder:\n",
    "\n",
    "'autofit_workspace/howtofit/chapter_1_introduction/tutorial_3_non_linear_search/output/phase_example/'\n",
    "\n",
    "Here, the results of the model-fit are output to your hard-disk on-the-fly and you can inspect them as the non-linear search runs. In particular, you'll file:\n",
    "\n",
    "- model.info: A file listing every model component, parameter and prior in your model-fit.\n",
    "-  model.results: A file giving the latest best-fit model, parameter estimates and errors of the fit.\n",
    "- optimizer: A folder containing the MultiNest output .txt files (you'll probably never need to look at these, but its good to know what they are).\n",
    "- Other metadata which you can ignore for now."
   ]
  },
  {
   "cell_type": "code",
   "execution_count": null,
   "metadata": {},
   "outputs": [],
   "source": [
    "result = phase.run(dataset=imaging)"
   ]
  },
  {
   "cell_type": "markdown",
   "metadata": {},
   "source": [
    "Once complete, the phase results a Result object, which as mentioned contains the best-fit model instance."
   ]
  },
  {
   "cell_type": "code",
   "execution_count": null,
   "metadata": {},
   "outputs": [],
   "source": [
    "print(\"Best-fit Model:\\n\")\n",
    "print(\"Centre = \", result.instance.gaussian.centre)\n",
    "print(\"Intensity = \", result.instance.gaussian.intensity)\n",
    "print(\"Sigma = \", result.instance.gaussian.sigma)"
   ]
  },
  {
   "cell_type": "markdown",
   "metadata": {},
   "source": [
    "In result.py, we also extended the Result class to have functions which generate the best-fit image and fit from the best-fit model."
   ]
  },
  {
   "cell_type": "code",
   "execution_count": null,
   "metadata": {},
   "outputs": [],
   "source": [
    "aplt.array(array=result.most_likely_model_image)\n",
    "aplt.fit_imaging.subplot_fit_imaging(fit=result.most_likely_fit)"
   ]
  },
  {
   "cell_type": "code",
   "execution_count": null,
   "metadata": {},
   "outputs": [],
   "source": []
  }
 ],
 "metadata": {
  "kernelspec": {
   "display_name": "Python 3",
   "language": "python",
   "name": "python3"
  },
  "language_info": {
   "codemirror_mode": {
    "name": "ipython",
    "version": 3
   },
   "file_extension": ".py",
   "mimetype": "text/x-python",
   "name": "python",
   "nbconvert_exporter": "python",
   "pygments_lexer": "ipython3",
   "version": "3.6.9"
  }
 },
 "nbformat": 4,
 "nbformat_minor": 2
}
