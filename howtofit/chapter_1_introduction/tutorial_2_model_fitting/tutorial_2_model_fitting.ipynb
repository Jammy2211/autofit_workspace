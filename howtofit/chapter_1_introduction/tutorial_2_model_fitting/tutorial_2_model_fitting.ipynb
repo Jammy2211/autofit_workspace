{
  "cells": [
    {
      "cell_type": "markdown",
      "metadata": {},
      "source": [
        "__Model Fitting__\n",
        "\n",
        "In this tutorial, we'll fit the Gaussian model from the previous tutorial to the data we loaded."
      ]
    },
    {
      "cell_type": "code",
      "metadata": {},
      "source": [
        "%matplotlib inline"
      ],
      "outputs": [],
      "execution_count": null
    },
    {
      "cell_type": "code",
      "metadata": {},
      "source": [
        "import autofit as af\n",
        "\n",
        "import numpy as np"
      ],
      "outputs": [],
      "execution_count": null
    },
    {
      "cell_type": "markdown",
      "metadata": {},
      "source": [
        "To begin, lets load the dataset again.\n",
        "\n",
        "You need to change the path below to the chapter 1 directory so we can load the dataset."
      ]
    },
    {
      "cell_type": "code",
      "metadata": {},
      "source": [
        "chapter_path = \"/home/jammy/PycharmProjects/PyAuto/autofit_workspace/howtofit/chapter_1_introduction/\""
      ],
      "outputs": [],
      "execution_count": null
    },
    {
      "cell_type": "markdown",
      "metadata": {},
      "source": [
        "These setup the configs as we did in the previous tutorial."
      ]
    },
    {
      "cell_type": "code",
      "metadata": {},
      "source": [
        "af.conf.instance = af.conf.Config(config_path=chapter_path + \"config\")\n",
        "\n",
        "dataset_path = chapter_path + \"dataset/gaussian_x1/\"\n",
        "\n",
        "from howtofit.chapter_1_introduction.tutorial_2_model_fitting.src.dataset import (\n",
        "    dataset as ds,\n",
        ")\n",
        "\n",
        "dataset = ds.Dataset.from_fits(\n",
        "    data_path=dataset_path + \"data.fits\", noise_map_path=dataset_path + \"noise_map.fits\"\n",
        ")"
      ],
      "outputs": [],
      "execution_count": null
    },
    {
      "cell_type": "markdown",
      "metadata": {},
      "source": [
        "From here on, we're going to perform all visualization using the 'plot' package, which contains functions for\n",
        "plotting our line dataset as well as other aspects of the model we'll cover later.\n",
        "\n",
        "By storing all of our visualization in one package, it will make visualization of our model-fits simpler in\n",
        "later tutorials."
      ]
    },
    {
      "cell_type": "code",
      "metadata": {},
      "source": [
        "from howtofit.chapter_1_introduction.tutorial_2_model_fitting.src.plot import (\n",
        "    dataset_plots,\n",
        ")\n",
        "\n",
        "dataset_plots.data(dataset=dataset)\n",
        "dataset_plots.noise_map(dataset=dataset)"
      ],
      "outputs": [],
      "execution_count": null
    },
    {
      "cell_type": "markdown",
      "metadata": {},
      "source": [
        "So, how do we actually go about fitting our Gaussian model to this data? First, we need to be able to generate\n",
        "an image of our 2D Gaussian model."
      ]
    },
    {
      "cell_type": "code",
      "metadata": {},
      "source": [
        "from howtofit.chapter_1_introduction.tutorial_2_model_fitting.src.model import gaussian"
      ],
      "outputs": [],
      "execution_count": null
    },
    {
      "cell_type": "markdown",
      "metadata": {},
      "source": [
        "Checkout the file:\n",
        "\n",
        "'autofit_workspace/howtofit/chapter_1_introduction/tutorial_2_model_fitting/src/model/gaussian.py'.\n",
        "\n",
        "Here, we've extended the Gaussian class to have a method \"line_from_values\". Given an input set of x coordinates\n",
        "this computes the intensity of the Gaussian at every point. Our data contains the xvalues we'll use, which are\n",
        "a 1D NumPy array spanning values 0 to 100."
      ]
    },
    {
      "cell_type": "code",
      "metadata": {},
      "source": [
        "print(dataset.xvalues)"
      ],
      "outputs": [],
      "execution_count": null
    },
    {
      "cell_type": "markdown",
      "metadata": {},
      "source": [
        "If we pass these values to an instance of the Gaussian class, we can create a line of the gaussian's values."
      ]
    },
    {
      "cell_type": "code",
      "metadata": {},
      "source": [
        "model = af.PriorModel(gaussian.Gaussian)\n",
        "\n",
        "gaussian = model.instance_from_vector(vector=[60.0, 20.0, 15.0])\n",
        "\n",
        "model_data = gaussian.line_from_xvalues(xvalues=dataset.xvalues)\n",
        "\n",
        "from howtofit.chapter_1_introduction.tutorial_2_model_fitting.src.plot import line_plots\n",
        "\n",
        "line_plots.line(xvalues=dataset.xvalues, line=model_data, ylabel=\"Model Data\")"
      ],
      "outputs": [],
      "execution_count": null
    },
    {
      "cell_type": "markdown",
      "metadata": {},
      "source": [
        "Different values of centre, intensity and sigma change the Gaussian's apperance - have a go at editing some of the\n",
        "values below."
      ]
    },
    {
      "cell_type": "code",
      "metadata": {},
      "source": [
        "gaussian = model.instance_from_vector(vector=[50.0, 10.0, 5.0])\n",
        "model_data = gaussian.line_from_xvalues(xvalues=dataset.xvalues)\n",
        "line_plots.line(xvalues=dataset.xvalues, line=model_data, ylabel=\"Model Data\")"
      ],
      "outputs": [],
      "execution_count": null
    },
    {
      "cell_type": "markdown",
      "metadata": {},
      "source": [
        "Okay, so lets recap. We've defined a model which is a 1D Gaussian and given a set of parameters for that model\n",
        "(x, I, sigma) we can create 'model_data' of the Gaussian. And, we have some data of a Gaussian we want to\n",
        "fit this model with. So how do we do that?\n",
        "\n",
        "Simple, we take the image from our data and our model_image of the Gaussian and subtract the two to get a\n",
        "'residual-map'."
      ]
    },
    {
      "cell_type": "code",
      "metadata": {},
      "source": [
        "residual_map = dataset.data - model_data\n",
        "line_plots.line(xvalues=dataset.xvalues, line=residual_map, ylabel=\"Residual Map\")"
      ],
      "outputs": [],
      "execution_count": null
    },
    {
      "cell_type": "markdown",
      "metadata": {},
      "source": [
        "Clearly, this model isn't a good fit to the data - which was to be expected as they looked nothing alike!\n",
        "\n",
        "Next, we want to quantify how good (or bad) the fit actually was, via some goodness-of-fit measure. This measure\n",
        "needs to account for noise in the data - after all if we fit a pixel badly simply because it was very noisy we want\n",
        "our goodness-of-fit to account for that.\n",
        "\n",
        "To account for noise, we take our residual-map and divide it by the noise-map, to get the 'normalized residual-map'."
      ]
    },
    {
      "cell_type": "code",
      "metadata": {},
      "source": [
        "normalized_residual_map = residual_map / dataset.noise_map\n",
        "line_plots.line(\n",
        "    xvalues=dataset.xvalues,\n",
        "    line=normalized_residual_map,\n",
        "    ylabel=\"Normalized Residual Map\",\n",
        ")"
      ],
      "outputs": [],
      "execution_count": null
    },
    {
      "cell_type": "markdown",
      "metadata": {},
      "source": [
        "We're getting close to a goodness-of-fit measure, but there is still a problem - we have negative and positive values\n",
        "in the normalized residual map. A value of -0.2 represents just as good of a fit as a value of 0.2, so we want them\n",
        "to both be the same value.\n",
        "\n",
        "Thus, we next define a 'chi-squared map', which is the normalized residual-map squared. This makes negative and\n",
        "positive values both positive and thus defined on a common overall scale."
      ]
    },
    {
      "cell_type": "code",
      "metadata": {},
      "source": [
        "chi_squared_map = (normalized_residual_map) ** 2\n",
        "line_plots.line(xvalues=dataset.xvalues, line=chi_squared_map, ylabel=\"Chi-Squared Map\")"
      ],
      "outputs": [],
      "execution_count": null
    },
    {
      "cell_type": "markdown",
      "metadata": {},
      "source": [
        "Great, even when looking at a chi-squared map its clear that our model gives a rubbish fit to the data.\n",
        "\n",
        "Finally, we want to reduce all the information in our chi-squared map into a single goodness-of-fit measure. To do\n",
        "this we define the 'chi-squared', which is the sum of all values on the chi-squared map."
      ]
    },
    {
      "cell_type": "code",
      "metadata": {},
      "source": [
        "chi_squared = np.sum(chi_squared_map)\n",
        "print(\"Chi-squared = \", chi_squared)"
      ],
      "outputs": [],
      "execution_count": null
    },
    {
      "cell_type": "markdown",
      "metadata": {},
      "source": [
        "Thus, the lower our chi-squared, the fewer residuals in the fit between our model and the data and therefore the\n",
        "better our fit!\n",
        "\n",
        "From the chi-squared we can then define our final goodness-of-fit measure, the 'likelihood', which is the\n",
        "chi-squared value times -0.5."
      ]
    },
    {
      "cell_type": "code",
      "metadata": {},
      "source": [
        "likelihood = -0.5 * chi_squared\n",
        "print(\"Likelihood = \", likelihood)"
      ],
      "outputs": [],
      "execution_count": null
    },
    {
      "cell_type": "markdown",
      "metadata": {},
      "source": [
        "Why is the likelihood the chi-squared times -0.5? Lets not worry about. This is simply the standard definition of a\n",
        "likelihood in statistics (it relates to the noise-properties of our data-set). For now, just accept that this is what\n",
        "a likelihood is and if we want to fit a model to data our goal is to thus find the combination of model parameters\n",
        "that maximizes our likelihood.\n",
        "\n",
        "There is a second quantity that enters the likelihood, called the 'noise-normalization'. This is the log sum of all\n",
        "noise values squared in our data-set (give the noise-map doesn't change the noise_normalization is the same value for\n",
        "all models that we fit)."
      ]
    },
    {
      "cell_type": "code",
      "metadata": {},
      "source": [
        "noise_normalization = np.sum(np.log(2 * np.pi * dataset.noise_map ** 2.0))"
      ],
      "outputs": [],
      "execution_count": null
    },
    {
      "cell_type": "markdown",
      "metadata": {},
      "source": [
        "Again, like the definition of a likelihood, lets not worry about why a noise normalization is defined in this way or\n",
        "why its in our goodness-of-fit. Lets just accept for now that this is how it is in statistics.\n",
        "\n",
        "Thus, we now have the definition of a likelihood that we'll use hereafter in all PyAutoFit tutorials."
      ]
    },
    {
      "cell_type": "code",
      "metadata": {},
      "source": [
        "likelihood = -0.5 * chi_squared + noise_normalization\n",
        "print(\"Likelihood = \", likelihood)"
      ],
      "outputs": [],
      "execution_count": null
    },
    {
      "cell_type": "markdown",
      "metadata": {},
      "source": [
        "If you are familiar with model-fitting, you'll have probably heard of terms like 'residuals', 'chi-squared' and\n",
        "'likelihood' before. These are the standard metrics by which a model-fit's quality is measured. They are used for\n",
        "model fitting in general, so not just when your data is 1D but when its a 2D image, 3D datacube)or something else\n",
        "entirely!\n",
        "\n",
        "If you haven't performed model fitting before and these terms are new to you, make sure you are clear on exactly what\n",
        "they all mean as they are at the core of all model-fitting performed in PyAutoFit!\n",
        "\n",
        "It was a lot of code performing the fits above and creating our residuals, chi-squareds and likelihoods.\n",
        "\n",
        "From here on we'll a class to do this, which can be found in the file:\n",
        "#\n",
        "'autofit_workspace/howtofit/chapter_1_introduction/tutorial_2_model_fitting/fit/fit.py'\n",
        "\n",
        "We'll use a 'fit.py' module in all remaining tutorials - for a model-fitting problem its not surprising that we need\n",
        "a module specific to fitting!"
      ]
    },
    {
      "cell_type": "code",
      "metadata": {},
      "source": [
        "from howtofit.chapter_1_introduction.tutorial_2_model_fitting.src.fit import fit as f\n",
        "\n",
        "fit = f.DatasetFit(dataset=dataset, model_data=model_data)\n",
        "\n",
        "print(\"Fit: \\n\")\n",
        "print(fit)\n",
        "print(\"Model Data:\\n\")\n",
        "print(fit.model_data)\n",
        "print()\n",
        "print(\"Residual Map:\\n\")\n",
        "print(fit.residual_map)\n",
        "print()\n",
        "print(\"Chi-Squareds Map:\\n\")\n",
        "print(fit.chi_squared_map)\n",
        "print(\"Likelihood:\")\n",
        "print(fit.likelihood)"
      ],
      "outputs": [],
      "execution_count": null
    },
    {
      "cell_type": "markdown",
      "metadata": {},
      "source": [
        "In the plot module, we've created simple tools for plotting different components of a fit. Again, setting up our\n",
        "plotting in this way will make visualization of our model a lot more straight forward in future tutorials."
      ]
    },
    {
      "cell_type": "code",
      "metadata": {},
      "source": [
        "from howtofit.chapter_1_introduction.tutorial_2_model_fitting.src.plot import fit_plots\n",
        "\n",
        "fit_plots.residual_map(fit=fit)\n",
        "fit_plots.normalized_residual_map(fit=fit)\n",
        "fit_plots.chi_squared_map(fit=fit)"
      ],
      "outputs": [],
      "execution_count": null
    },
    {
      "cell_type": "markdown",
      "metadata": {},
      "source": [
        "So to recap the previous tutorial and this one:\n",
        "\n",
        "- We can define a model components in PyAutoFit, like our Gaussian, using Python classes that follow a certain format.\n",
        "- The model component's parameters each have priors, which given a unit vector can be mapped to an instance of the\n",
        "  Gaussian class.\n",
        "- We can use this model-instance to create model data of our Gaussian and compare it to data and quantify the\n",
        "  goodness-of-fit via a likelihood.\n",
        "\n",
        "Thus we have everything we need to fit our model to our data! So, how do we go about finding the best-fit model?\n",
        "That is, the model which maximizes the likelihood.\n",
        "\n",
        "The most simple thing we can do is guess parameters, and when we guess parameters that give a good fit, guess another\n",
        "set of parameters near those values. We can then repeat this process, over and over, until we find a really good model!\n",
        "\n",
        "For our Gaussian this works pretty well, below I've fitted 5 diferent Gaussian models and ended up landing on\n",
        "the best-fit model (the model I used to create the dataset in the first place!)."
      ]
    },
    {
      "cell_type": "code",
      "metadata": {},
      "source": [
        "gaussian = model.instance_from_vector(vector=[50.0, 10.0, 5.0])\n",
        "model_data = gaussian.line_from_xvalues(xvalues=dataset.xvalues)\n",
        "fit = f.DatasetFit(dataset=dataset, model_data=model_data)\n",
        "fit_plots.chi_squared_map(fit=fit)\n",
        "print(\"Likelihood:\")\n",
        "print(fit.likelihood)\n",
        "\n",
        "gaussian = model.instance_from_vector(vector=[50.0, 25.0, 5.0])\n",
        "model_data = gaussian.line_from_xvalues(xvalues=dataset.xvalues)\n",
        "fit = f.DatasetFit(dataset=dataset, model_data=model_data)\n",
        "fit_plots.chi_squared_map(fit=fit)\n",
        "print(\"Likelihood:\")\n",
        "print(fit.likelihood)\n",
        "\n",
        "gaussian = model.instance_from_vector(vector=[50.0, 25.0, 10.0])\n",
        "model_data = gaussian.line_from_xvalues(xvalues=dataset.xvalues)\n",
        "fit = f.DatasetFit(dataset=dataset, model_data=model_data)\n",
        "fit_plots.chi_squared_map(fit=fit)\n",
        "print(\"Likelihood:\")\n",
        "print(fit.likelihood)"
      ],
      "outputs": [],
      "execution_count": null
    },
    {
      "cell_type": "markdown",
      "metadata": {},
      "source": [
        "You can now perform model-fitting with PyAutoFit! All we have to do is guess lots of parameters, over and over and\n",
        "over again, until we hit a model with a high likelihood. Yay!\n",
        "\n",
        "Of course, you're probably thinking, is that really it? Should we really be guessing models to find the best-fit?\n",
        "\n",
        "Obviously, the answer is no. Imagine our model was more complex, that it had many more parameters than just 4.\n",
        "Our approach of guessing parameters won't work - it could take days, maybe years, to find models with a high\n",
        "likelihood, and how could you even be sure they ware the best-fit models? Maybe a set of parameters you never tried\n",
        "provide an even better fit?\n",
        "\n",
        "Of course, there is a much better way to perform model-fitting, and in the next tutorial we'll take you through how\n",
        "to do such fitting in PyAutoFit, using whats called a 'non-linear search'.\n",
        "\n",
        "\n",
        "## Datasets and Fits ###\n",
        "\n",
        "In this tutorial, we relied heavily on PyAutoArray to take care of our data-set. We had a 'dataset.py' module which\n",
        "contained the data, but it inherited from PyAutoArray and thus handled all visualization for us. We're going to keep\n",
        "using PyAutoArray to handle our data, but I will make it explcit in templates where I ancitipate where you'll need to\n",
        "change code to to make it appropriate for data specific to your model-fitting problem. Afterall, there is no\n",
        "general template we can give you for any data-set.\n",
        "\n",
        "So, just bare in mind from here on, whenever we use PyAutoArray to load dat or visualize it, it'll be on\n",
        "you to do that yourself in you code!\n",
        "\n",
        "To perform fits, we made a new module, 'fit.py'. This module is written in a general way, and it should be nothing\n",
        "more than a copy and paste job for you to be able to reuse it for your model fitting problem, regardless of the\n",
        "structure of your data! In tutorial 4, we'll extend 'fit.py' to include data masking.\n",
        "\n",
        "\n",
        "###Your Model ###\n",
        "\n",
        "To end, its worth quickly thinking about the model you ultimately want to fit with PyAutoFit. In this example,\n",
        "we extended the Gaussian class to contain the function we needed to generate an image of the Gaussian and thus\n",
        "generate the model-image we need to fit our data. For your model fitting problem can you do something similar?\n",
        "Or is your model-fitting task a bit more complicated than this? Maybe there are more model component you want to\n",
        "combine or there is an inter-dependency between models?\n",
        "\n",
        "PyAutoFit provides a lot of flexibility in how you ultimate use your model instances, so whatever your problem you\n",
        "should find that it is straight forward to find a solution. But, whatever you need to do at its core your modeling\n",
        "problem will break down into the tasks we did in this tutorial:\n",
        "#\n",
        "1) Use your model to create some model data.\n",
        "2) Subtract it from the data to create residuals.\n",
        "3) Use these residuals in conjunction with your noise-map to define a likelihood.\n",
        "4) Find the highest likelihood models.\n",
        "\n",
        "So, get thinking about how these steps would be performed for your model!"
      ]
    }
  ],
  "metadata": {
    "anaconda-cloud": {},
    "kernelspec": {
      "display_name": "Python 3",
      "language": "python",
      "name": "python3"
    },
    "language_info": {
      "codemirror_mode": {
        "name": "ipython",
        "version": 3
      },
      "file_extension": ".py",
      "mimetype": "text/x-python",
      "name": "python",
      "nbconvert_exporter": "python",
      "pygments_lexer": "ipython3",
      "version": "3.6.1"
    }
  },
  "nbformat": 4,
  "nbformat_minor": 1
}