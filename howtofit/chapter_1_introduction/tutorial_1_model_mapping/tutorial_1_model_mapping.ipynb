{
 "cells": [
  {
   "cell_type": "markdown",
   "metadata": {},
   "source": [
    "__Model Mapping__\n",
    "\n",
    "In this tutorial, we'll parameterize a simple model and use PyAutoFit to map its parameters to a model instance, which we'll ultimately need to fit to data."
   ]
  },
  {
   "cell_type": "code",
   "execution_count": null,
   "metadata": {},
   "outputs": [],
   "source": [
    "import autofit as af\n",
    "import matplotlib.pyplot as plt"
   ]
  },
  {
   "cell_type": "markdown",
   "metadata": {},
   "source": [
    "To get a feeling for our model lets look at the data we'll ultimately be fitting, a 1D Gaussian.\n",
    "\n",
    "You need to change the path below to the chapter 1 directory so we can load the dataset."
   ]
  },
  {
   "cell_type": "code",
   "execution_count": null,
   "metadata": {},
   "outputs": [],
   "source": [
    "chapter_path = \"/home/jammy/PycharmProjects/PyAuto/autofit_workspace/howtofit/chapter_1_introduction/\""
   ]
  },
  {
   "cell_type": "markdown",
   "metadata": {},
   "source": [
    "Lets setup the config files for this tutorial. We'll cover what configs do as we go through the tutorials."
   ]
  },
  {
   "cell_type": "code",
   "execution_count": null,
   "metadata": {},
   "outputs": [],
   "source": [
    "af.conf.instance = af.conf.Config(config_path=chapter_path + \"/config\")"
   ]
  },
  {
   "cell_type": "markdown",
   "metadata": {},
   "source": [
    "The dataset path specifies where the dataset is located, this time in the directory 'chapter_path/dataset'. We'll load the example dataset containing one Gaussian."
   ]
  },
  {
   "cell_type": "code",
   "execution_count": null,
   "metadata": {},
   "outputs": [],
   "source": [
    "dataset_path = chapter_path + \"dataset/gaussian_x1/\""
   ]
  },
  {
   "cell_type": "markdown",
   "metadata": {},
   "source": [
    "We now load this dataset from .fits files and create an instance of a 'Dataset' object. Checkout the file\n",
    "\n",
    "'autofit_workspace/howtofit/chapter_1_introduction/tutorial_1_model_mapping/model/src/dataset/dataset.py'\n",
    "\n",
    "for a description of the Dataset class.\n",
    "\n",
    "This file is in the folder 'src',  signifying this code would be in the project's source-code. An aim of these tutorials is clearly define what belongs in the source code and what belongs in the code we use to perform model-fitting, e.g. these tutorial scripts. So, make sure to take note of what goes in the source code!"
   ]
  },
  {
   "cell_type": "code",
   "execution_count": null,
   "metadata": {},
   "outputs": [],
   "source": [
    "from howtofit.chapter_1_introduction.tutorial_1_model_mapping.src.dataset import (\n",
    "    dataset as ds,\n",
    ")\n",
    "\n",
    "dataset = ds.Dataset.from_fits(\n",
    "    data_path=dataset_path + \"data.fits\", noise_map_path=dataset_path + \"noise_map.fits\"\n",
    ")"
   ]
  },
  {
   "cell_type": "markdown",
   "metadata": {},
   "source": [
    "Lets plot the Gaussian. In this tutorial we'll just use a Matplotlib directly, but in tutorial 2 we'll expand our plotting tools."
   ]
  },
  {
   "cell_type": "code",
   "execution_count": null,
   "metadata": {},
   "outputs": [],
   "source": [
    "plt.plot(dataset.xvalues, dataset.data)\n",
    "plt.show()"
   ]
  },
  {
   "cell_type": "markdown",
   "metadata": {},
   "source": [
    "Its not until tutorial 3 that we'll actually fit this image with a model. But its worth us looking at it now so we can understand the model we're going to fit. So what is the model?\n",
    "\n",
    "Clearly, its a one-dimensional Gaussian defined as:\n",
    "\n",
    "g(x, I, sigma) = (I / (sigma * sqrt(2*pi)) * exp (-0.5 * (x / sigma)^2)\n",
    "\n",
    "Where:\n",
    "\n",
    "x - Is x-axis coordinate where the Gaussian is evaluated.\n",
    "I - Describes the intensity of the Gaussian.\n",
    "sigma - Describes the size of the Gaussian.\n",
    "\n",
    "This simple equation describes our model - a 1D Gaussian - and it has 3 parameters, (x, I, sigma). Using different values of these 3 parameters we can describe *any* possible 1D Gaussian.\n",
    "\n",
    "At its core, PyAutoFit is all about making it simple to define a model and straight forwardly map a set of input parameters to the model.\n",
    "\n",
    "So lets go ahead and create our model of a 1D Gaussian. Take a look at the file\n",
    "\n",
    "'autofit_workspace/howtofit/chapter_1_introduction/tutorial_1_model_mapping/model/src/model/gaussian.py'.\n",
    "\n",
    "Here we define our 1D Gaussian model using the code:"
   ]
  },
  {
   "cell_type": "code",
   "execution_count": null,
   "metadata": {},
   "outputs": [],
   "source": [
    "class Gaussian:\n",
    "    def __init__(\n",
    "        self,\n",
    "        centre=0.0,  # <- PyAutoFit recognises these constructor arguments\n",
    "        intensity=0.1,  # <- are the Gaussian's model parameters.\n",
    "        sigma=0.01,\n",
    "    ):\n",
    "        self.centre = centre\n",
    "        self.intensity = intensity\n",
    "        self.sigma = sigma"
   ]
  },
  {
   "cell_type": "markdown",
   "metadata": {},
   "source": [
    "The class's format is how PyAutoFit requires the components of a model to be written, where:\n",
    "\n",
    "- The name of the class is the name of the model component, in this case, \"Gaussian\".\n",
    "- The input arguments of the constructor are the model parameters which we will ultimately fit for.\n",
    "- The default values of the input arguments tell PyAutoFit whether a parameter is a single-valued float (e.g. like the intensity and sigma) or a multi-valued tuple. For the Gaussian class, no input parameters are a tuple, however we will show an example of a tuple input in a later tutorial).\n",
    "\n",
    "By writing a model component in this way, we can use the Python class to set it up as model in PyAutoFit."
   ]
  },
  {
   "cell_type": "code",
   "execution_count": null,
   "metadata": {},
   "outputs": [],
   "source": [
    "from howtofit.chapter_1_introduction.tutorial_1_model_mapping.src.model import gaussian\n",
    "\n",
    "model = af.PriorModel(gaussian.Gaussian)"
   ]
  },
  {
   "cell_type": "markdown",
   "metadata": {},
   "source": [
    "The model is what PyAutoFit calls a PriorModel - we'll explain the name below."
   ]
  },
  {
   "cell_type": "code",
   "execution_count": null,
   "metadata": {},
   "outputs": [],
   "source": []
  }
 ],
 "metadata": {
  "kernelspec": {
   "display_name": "Python 3",
   "language": "python",
   "name": "python3"
  },
  "language_info": {
   "codemirror_mode": {
    "name": "ipython",
    "version": 3
   },
   "file_extension": ".py",
   "mimetype": "text/x-python",
   "name": "python",
   "nbconvert_exporter": "python",
   "pygments_lexer": "ipython3",
   "version": "3.6.9"
  }
 },
 "nbformat": 4,
 "nbformat_minor": 2
}
