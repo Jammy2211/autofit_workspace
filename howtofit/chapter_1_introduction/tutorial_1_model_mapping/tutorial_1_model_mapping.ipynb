{
 "cells": [
  {
   "cell_type": "markdown",
   "metadata": {},
   "source": [
    "__Model Mapping__\n",
    "\n",
    "In this tutorial, we'll parameterize a simple model and use PyAutoFit to map its parameters to a model instance, which we'll ultimately need to fit it to data.\n",
    "\n",
    "To get a feeling for our model lets look at the data we'll ultimately be fitting, a 2D Gaussian."
   ]
  },
  {
   "cell_type": "code",
   "execution_count": null,
   "metadata": {},
   "outputs": [],
   "source": [
    "import autofit as af\n",
    "import autoarray as aa\n",
    "import autoarray.plot as aplt"
   ]
  },
  {
   "cell_type": "markdown",
   "metadata": {},
   "source": [
    "You need to change the path below to the chapter 1 directory so we can load the dataset."
   ]
  },
  {
   "cell_type": "code",
   "execution_count": null,
   "metadata": {},
   "outputs": [],
   "source": [
    "chapter_path = \"/home/jammy/PycharmProjects/PyAuto/autofit_workspace/howtofit/chapter_1_introduction/\""
   ]
  },
  {
   "cell_type": "markdown",
   "metadata": {},
   "source": [
    "Lets setup the config files for this tutorial. As we covered in the previous tutorial, these configure how visualization appears, but they also customize our model as we'll describe in this tutorial."
   ]
  },
  {
   "cell_type": "code",
   "execution_count": null,
   "metadata": {},
   "outputs": [],
   "source": [
    "af.conf.instance = af.conf.Config(\n",
    "    config_path=chapter_path + \"/config\",\n",
    ")"
   ]
  },
  {
   "cell_type": "markdown",
   "metadata": {},
   "source": [
    "The dataset path specifies where the dataset is located, this time in the directory 'chapter_path/dataset'. We'll load the example dataset containing one Gaussian."
   ]
  },
  {
   "cell_type": "code",
   "execution_count": null,
   "metadata": {},
   "outputs": [],
   "source": [
    "dataset_path = chapter_path + \"dataset/gaussian_x1/\""
   ]
  },
  {
   "cell_type": "markdown",
   "metadata": {},
   "source": [
    "We now load this dataset from .fits files and create an instance of an 'dataset' object."
   ]
  },
  {
   "cell_type": "code",
   "execution_count": null,
   "metadata": {},
   "outputs": [],
   "source": [
    "dataset = aa.dataset.from_fits(\n",
    "    image_path=dataset_path + \"image.fits\",\n",
    "    noise_map_path=dataset_path + \"noise_map.fits\",\n",
    "    psf_path=dataset_path + \"psf.fits\",\n",
    "    pixel_scales=0.1,\n",
    ")\n",
    "\n",
    "aplt.dataset.image(dataset=dataset)"
   ]
  },
  {
   "cell_type": "markdown",
   "metadata": {},
   "source": [
    "Its not until tutorial 3 that we'll actually this image with a model. But its worth us looking at it now so we can understand the model we're going to fit. So what is the model?\n",
    "\n",
    "Clearly, its a two dimensional Gaussian defined as:\n",
    "\n",
    "g(r) = (I / (sigma * sqrt(2*pi)) * exp (-0.5 * (r / sigma)^2)\n",
    "\n",
    "Where:\n",
    "\n",
    "I - Describes the intensity of the Gaussian.\n",
    "sigma - Describes the size of the Gaussian.\n",
    "r - The radial coordinate where the Gaussian is evaluated r = sqrt(y^2 + x^2).\n",
    "\n",
    "This simple equation describes our model - a 2D Gaussian - which has 4 parameters, (y, x, I, sigma). Using different values of these 4 parameters we can describe *any* possible 2D Gaussian.\n",
    "\n",
    "At its core, PyAutoFit is all about making it simple to define a model, like a 2D Gaussian, and straight forwardly map a set of input parameters to the model.\n",
    "\n",
    "So lets go ahead and create our model of a 2D Gaussian. Take a look at the file\n",
    "\n",
    "'autofit_workspace/howtofit/chapter_1_introduction.tutorial_1_model_mapping/src/model/gaussians.py'.\n",
    "\n",
    "This file is in the folder 'src',  signifying the code would be in the project source-code. For this tutorial where our 'source-code' is just one package it seems a bit pointless. However, later tutorials will add more code to the 'src' folder. We'll benefit from us clearly separating our source code from other code, so for now just go with it!\n",
    "        \n",
    "Here we define our 2D Gaussian model using the code:"
   ]
  },
  {
   "cell_type": "code",
   "execution_count": null,
   "metadata": {},
   "outputs": [],
   "source": [
    "class Gaussian:\n",
    "    def __init__(\n",
    "        self,\n",
    "        centre=(0.0, 0.0),  # <- PyAutoFit recognises these constructor arguments\n",
    "        intensity=0.1,  # <- are the Gaussian's model parameters.\n",
    "        sigma=0.01,\n",
    "    ):\n",
    "        self.centre = centre\n",
    "        self.intensity = intensity\n",
    "        self.sigma = sigma"
   ]
  },
  {
   "cell_type": "markdown",
   "metadata": {},
   "source": [
    "The class's format is key, as this format is how PyAutoFit requires the components of a model to be written, where:\n",
    "\n",
    "- The name of the class is the name of the model component, in this case, \"Gaussian\".\n",
    "- The input arguments of the constructor are the model parameters which we will ultimately fit for.\n",
    "- The default values of the input arguments tell PyAutoFit whether a parameter is a single-valued float (e.g. like the intensity and sigma) or a multi-valued tuple (e.g. like the centre).\n",
    "\n",
    "By writing a model component in this way, we can use the Python class to set it up as model in PyAutoFit."
   ]
  },
  {
   "cell_type": "code",
   "execution_count": null,
   "metadata": {},
   "outputs": [],
   "source": [
    "from howtofit.chapter_1_introduction.tutorial_1_model_mapping import gaussians\n",
    "\n",
    "model = af.PriorModel(gaussians.Gaussian)"
   ]
  },
  {
   "cell_type": "markdown",
   "metadata": {},
   "source": [
    "The model is what PyAutoFit calls a PriorModel - we'll explain the name below."
   ]
  },
  {
   "cell_type": "code",
   "execution_count": null,
   "metadata": {},
   "outputs": [],
   "source": [
    "print(\"PriorModel Gaussian object: \\n\")\n",
    "print(model)"
   ]
  },
  {
   "cell_type": "markdown",
   "metadata": {},
   "source": [
    "Using our model we can create an 'instance' of the model, by mapping a list of physical values of each parameter to the model."
   ]
  },
  {
   "cell_type": "code",
   "execution_count": null,
   "metadata": {},
   "outputs": [],
   "source": [
    "instance = model.instance_from_vector(vector=[1.0, 2.0, 3.0, 4.0])"
   ]
  },
  {
   "cell_type": "markdown",
   "metadata": {},
   "source": [
    "The instance is an instance of the Gaussian class."
   ]
  },
  {
   "cell_type": "code",
   "execution_count": null,
   "metadata": {},
   "outputs": [],
   "source": [
    "print(\"Model Instance: \\n\")\n",
    "print(instance)"
   ]
  },
  {
   "cell_type": "markdown",
   "metadata": {},
   "source": [
    "It has the parameters of our Gaussian with the values input above."
   ]
  },
  {
   "cell_type": "code",
   "execution_count": null,
   "metadata": {},
   "outputs": [],
   "source": [
    "print(\"Instance Parameters \\n\")\n",
    "print(\"y = \", instance.centre[0])\n",
    "print(\"x = \", instance.centre[1])\n",
    "print(\"intensity = \", instance.intensity)\n",
    "print(\"sigma = \", instance.sigma)"
   ]
  },
  {
   "cell_type": "markdown",
   "metadata": {},
   "source": [
    "Note that above, the centre's default input value was a 2D tuple (0.0, 0.0). The mapper creates the model instance with the centre as a tuple.\n",
    "\n",
    "It has the parameters of our Gaussian with the values input above."
   ]
  },
  {
   "cell_type": "code",
   "execution_count": null,
   "metadata": {},
   "outputs": [],
   "source": [
    "print(\"Instance Centre \\n\")\n",
    "print(\"y = \", instance.centre)"
   ]
  },
  {
   "cell_type": "markdown",
   "metadata": {},
   "source": [
    "Congratulations! You've defined your first model in PyAutoFit! :)\n",
    "\n",
    "So, why is it called a PriorModel?\n",
    "\n",
    "The parameters of a PriorModel in PyAutoFit all have a prior associated with them. Priors encode our expectations on what values we expect each parameter can have. For example, we might know that our Gaussian will be centred near (0.0, 0.0).\n",
    "\n",
    "Where are priors set? Checkout the config file:\n",
    "\n",
    "'autofit_workspace/howtofit/chapter_1_introduction/config/priors/default/gaussians.ini\n",
    "\n",
    "For our Gaussian, we use the following default priors:\n",
    "\n",
    "centre_0 (y) - GaussianPrior centred on (0.0) and with width (0.3).\n",
    "centre_1 (x) - GaussianPrior centred on (0.0) and with width (0.3).\n",
    "intensity (I) - LogUniformPrior (base 10) between 0.000001 and 100000.0\n",
    "sigma - UniformPrior between 0.0 and 10.0\n",
    "\n",
    "Config files in PyAutoFit use the module name to read the config files. This is why our Gaussian component is in the module \"gaussians.py\", so that PyAutoFit knows to look for config files with the name \"gaussians.ini\".\n",
    "\n",
    "So, when are these priors actually used? They are used to generate model instances from a unit-vector, a vector defined in the same way as the physical vector above but with values spanning from 0 -> 1.\n",
    "\n",
    "Unit values are mapped to physical values using the prior, for example:\n",
    "\n",
    "For a UniformPrior defined between 0.0 and 10.0:\n",
    "\n",
    "- An input unit value of 0.5 will give the physical value 5.0.\n",
    "- An input unit value of 0.8 will give te physical value 8.0.\n",
    "\n",
    "For a LogUniformPrior (base 10) defined between 1.0 and 100.0:\n",
    "\n",
    "- An input unit value of 0.5 will give the physical value 10.0.\n",
    "- An input unit value of 1.0 will give te physical value 100.0.\n",
    "\n",
    "For a GauassianPrior defined with mean 1.0 and sigma 1.0:\n",
    "\n",
    "- An input unit value of 0.5 (e.g. the centre of the Gaussian) will give the physical value 1.0.\n",
    "- An input unit value of 0.8173 (e.g. 1 sigma confidence) will give te physical value 1.9051.\n",
    "\n",
    "Lets Take a Look"
   ]
  },
  {
   "cell_type": "code",
   "execution_count": null,
   "metadata": {},
   "outputs": [],
   "source": [
    "instance = model.instance_from_unit_vector(unit_vector=[0.5, 0.5, 0.3, 0.8])"
   ]
  },
  {
   "cell_type": "markdown",
   "metadata": {},
   "source": [
    "The instance is again an instance of the Gaussian class."
   ]
  },
  {
   "cell_type": "code",
   "execution_count": null,
   "metadata": {},
   "outputs": [],
   "source": [
    "print(\"Model Instance: \\n\")\n",
    "print(instance)"
   ]
  },
  {
   "cell_type": "markdown",
   "metadata": {},
   "source": [
    "It has physical values for the parameters mapped from the priors defined in the gaussians.ini config file."
   ]
  },
  {
   "cell_type": "code",
   "execution_count": null,
   "metadata": {},
   "outputs": [],
   "source": [
    "print(\"Instance Parameters \\n\")\n",
    "print(\"y = \", instance.centre[0])\n",
    "print(\"x = \", instance.centre[1])\n",
    "print(\"intensity = \", instance.intensity)\n",
    "print(\"sigma = \", instance.sigma)"
   ]
  },
  {
   "cell_type": "markdown",
   "metadata": {},
   "source": [
    "We can overwrite the priors defined in the config."
   ]
  },
  {
   "cell_type": "code",
   "execution_count": null,
   "metadata": {},
   "outputs": [],
   "source": [
    "model.centre.centre_0 = af.UniformPrior(lower_limit=10.0, upper_limit=20.0)\n",
    "model.centre.centre_1 = af.UniformPrior(lower_limit=50.0, upper_limit=60.0)\n",
    "model.intensity = af.GaussianPrior(mean=5.0, sigma=7.0)\n",
    "model.sigma = af.LogUniformPrior(lower_limit=1.0, upper_limit=100.0)"
   ]
  },
  {
   "cell_type": "markdown",
   "metadata": {},
   "source": [
    "Our model, with all new priors, can again be used to map unit values to create a model instance."
   ]
  },
  {
   "cell_type": "code",
   "execution_count": null,
   "metadata": {},
   "outputs": [],
   "source": [
    "instance = model.instance_from_unit_vector(unit_vector=[0.5, 0.5, 0.3, 0.8])"
   ]
  },
  {
   "cell_type": "markdown",
   "metadata": {},
   "source": [
    "Its physical values are mapped using the new priors defined above and not those in the gaussians.ini config file."
   ]
  },
  {
   "cell_type": "code",
   "execution_count": null,
   "metadata": {},
   "outputs": [],
   "source": [
    "print(\"Instance Parameters \\n\")\n",
    "print(\"y = \", instance.centre[0])\n",
    "print(\"x = \", instance.centre[1])\n",
    "print(\"intensity = \", instance.intensity)\n",
    "print(\"sigma = \", instance.sigma)"
   ]
  },
  {
   "cell_type": "markdown",
   "metadata": {},
   "source": [
    "We can also set physical limits on parameters, such that a model instance cannot generate parameters outside of a specified range.\n",
    "\n",
    "For example, a Gaussian cannot has a negative intensity, so we can set its lower limit to a value of 0.0."
   ]
  },
  {
   "cell_type": "code",
   "execution_count": null,
   "metadata": {},
   "outputs": [],
   "source": [
    "model = af.PriorModel(gaussians.Gaussian)\n",
    "model.intensity = af.GaussianPrior(\n",
    "    mean=0.0, sigma=1.0, lower_limit=0.0, upper_limit=1000.0\n",
    ")"
   ]
  },
  {
   "cell_type": "markdown",
   "metadata": {},
   "source": [
    "The unit vector input below creates a negative intensity value, so the line below leads PyAutoFit to raise an error."
   ]
  },
  {
   "cell_type": "code",
   "execution_count": null,
   "metadata": {},
   "outputs": [],
   "source": [
    "instance = model.instance_from_unit_vector(unit_vector=[0.01, 0.01, 0.01, 0.01])"
   ]
  },
  {
   "cell_type": "markdown",
   "metadata": {},
   "source": [
    "The config file 'autofit_workspace/howtofit/chapter_1_introduction/config/priors/limits/gaussians.ini' set the default limits on all parameters of our model.\n",
    "\n",
    "\n",
    "And with that, you've completed tutorial 1!\n",
    "\n",
    "At this point, you might be wondering, whats the big deal? Sure, its cool that we set up a model and its nice that we can translate priors to parameters in this way, but how is this actually going to help me perform model fitting? With a bit of effort couldn't I have written some code to do this myself?\n",
    "\n",
    "Well, you're probably right, but this tutorial is covering just the backend of PyAutoFit, what holds everything together if you will. Once you start using PyAutoFit, you're ultimately never going to directly perform model mapping yourself, its the 'magic' behind the scenes that makes model-fitting work.\n",
    "\n",
    "So, we're pretty much ready to move on to tutorial 2, where we'll actually fit this model to some data. However, first, I want you to quickly think about the model you want to fit. How would you write it as a class using the PyAutoFit format above? what are the free parameters of you model? Are there multiple model components you are going to want to fit to your data?\n",
    "\n",
    "Below are two more classes one might use to perform model fitting, the first is the model of a linear-regression line of the form y = mx + c that you might fit to a 1D data-set:"
   ]
  },
  {
   "cell_type": "code",
   "execution_count": null,
   "metadata": {},
   "outputs": [],
   "source": [
    "class LinearFit:\n",
    "    def __init__(self, gradient=1.0, intercept=0.0):\n",
    "\n",
    "        self.gradient = gradient\n",
    "        self.intercept = intercept"
   ]
  },
  {
   "cell_type": "markdown",
   "metadata": {},
   "source": [
    "The second example is one from Astronomy. When fitting the light of a galaxy, a common analytic function used by Astronomers is the \"EllipticalSersic\" function, which ahs 7 free parameters:"
   ]
  },
  {
   "cell_type": "code",
   "execution_count": null,
   "metadata": {},
   "outputs": [],
   "source": [
    "class EllipticalSersic:\n",
    "    def __init__(\n",
    "        self,\n",
    "        centre=(0.0, 0.0),\n",
    "        axis_ratio=1.0,\n",
    "        phi=0.0,\n",
    "        intensity=0.1,\n",
    "        effective_radius=0.6,\n",
    "        sersic_index=4.0,\n",
    "    ):\n",
    "\n",
    "        self.centre = centre\n",
    "        self.axis_ratio = axis_ratio\n",
    "        self.phi = phi\n",
    "        self.intensity = intensity\n",
    "        self.effective_radius = effective_radius\n",
    "        self.sersic_index = sersic_index"
   ]
  },
  {
   "cell_type": "code",
   "execution_count": null,
   "metadata": {},
   "outputs": [],
   "source": []
  }
 ],
 "metadata": {
  "kernelspec": {
   "display_name": "Python 3",
   "language": "python",
   "name": "python3"
  },
  "language_info": {
   "codemirror_mode": {
    "name": "ipython",
    "version": 3
   },
   "file_extension": ".py",
   "mimetype": "text/x-python",
   "name": "python",
   "nbconvert_exporter": "python",
   "pygments_lexer": "ipython3",
   "version": "3.6.9"
  }
 },
 "nbformat": 4,
 "nbformat_minor": 2
}
