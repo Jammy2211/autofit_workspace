{
  "cells": [
    {
      "cell_type": "markdown",
      "metadata": {},
      "source": [
        "Tutorial 1: Model Mapping\n",
        "=========================\n",
        "\n",
        "In this tutorial, we'll parameterize a simple model and use PyAutoFit to map its parameters to a model instance,\n",
        "which we'll ultimately need to fit to data."
      ]
    },
    {
      "cell_type": "code",
      "metadata": {},
      "source": [
        "%matplotlib inline\n",
        "\n",
        "from autoconf import conf\n",
        "import autofit as af\n",
        "import numpy as np\n",
        "import matplotlib.pyplot as plt"
      ],
      "outputs": [],
      "execution_count": null
    },
    {
      "cell_type": "markdown",
      "metadata": {},
      "source": [
        "The tutorials need to know the path to your autolens_workspace folder, in order to:\n",
        "\n",
        " - Load configuration settings from the config files.\n",
        " - Load example data.\n",
        " - Output the results of models fits to your hard-disk. \n",
        "\n",
        "Unfortunately, Jupyter notebooks cannot use relative paths, therefore we use the library 'pyprojroot' to do instead. Its\n",
        "'here' function provides the path to the GitHub project directory, which is the autolens_workspace. For example on my \n",
        "computer the here() function returns:\n",
        "\n",
        " '/home/jammy/PycharmProjects/PyAuto/autolens_workspace'\n",
        "\n",
        "Throughout these tutorials, we will use this workspace_path. "
      ]
    },
    {
      "cell_type": "code",
      "metadata": {},
      "source": [
        "from pyprojroot import here\n",
        "\n",
        "workspace_path = str(here())\n",
        "print(\"Workspace Path: \", workspace_path)"
      ],
      "outputs": [],
      "execution_count": null
    },
    {
      "cell_type": "markdown",
      "metadata": {},
      "source": [
        "You're going to see a line like the one below (with 'conf.instance =') in every tutorial this chapter. This sets the\n",
        "following property:\n",
        "\n",
        " - The path to the configuration files used by PyAutoFit. You need to give the path to your autofit_workspace, so \n",
        " the configuration files in the workspace are used (e.g. '/path/to/autolens_workspace/config'). \n",
        "\n",
        "(These will work autommatically if the WORKSPACE environment variable was set up correctly during installation. \n",
        "Nevertheless, setting the paths explicitly within the code is good practise."
      ]
    },
    {
      "cell_type": "code",
      "metadata": {},
      "source": [
        "conf.instance = conf.Config(config_path=f\"{workspace_path}/howtofit/config\")"
      ],
      "outputs": [],
      "execution_count": null
    },
    {
      "cell_type": "markdown",
      "metadata": {},
      "source": [
        "Below, you'll notice the command:\n",
        "\n",
        " 'from autofit_workspace.howtofit.simulators.chapter_1.gaussian_x1'\n",
        "\n",
        "This will crop up in nearly every tutorial from here on. This imports a module that simulates the dataset we plot in\n",
        "this tutorialt. Feel free to check out the simulator scripts to see how this is done!\n",
        "\n",
        " - The data is a 1D numpy array of values corresponding to the observed counts of the Gaussian.\n",
        " - The noise-map corresponds to the expected noise in every data point."
      ]
    },
    {
      "cell_type": "code",
      "metadata": {},
      "source": [
        "from autofit_workspace.howtofit.simulators.chapter_1 import gaussian_x1\n",
        "\n",
        "data = gaussian_x1.data\n",
        "noise_map = gaussian_x1.noise_map"
      ],
      "outputs": [],
      "execution_count": null
    },
    {
      "cell_type": "markdown",
      "metadata": {},
      "source": [
        "Lets plot the Gaussian using Matplotlib. \n",
        "\n",
        "The Gaussian is on a line of xvalues, which we'll compute using the shape of the Gaussian data and plot on the x-axis.\n",
        "These xvalues will be used in later tutorials to create and fit Gaussians to the data."
      ]
    },
    {
      "cell_type": "code",
      "metadata": {},
      "source": [
        "xvalues = np.arange(data.shape[0])\n",
        "plt.plot(xvalues, data)\n",
        "plt.show()"
      ],
      "outputs": [],
      "execution_count": null
    },
    {
      "cell_type": "markdown",
      "metadata": {},
      "source": [
        "Its not until tutorial 3 that we'll actually fit this image with a model. But its worth us looking at it now so we\n",
        "can understand the model we're going to fit. So what is the model?\n",
        "\n",
        "Clearly, its a one-dimensional Gaussian defined as:\n",
        "\n",
        "g(x, I, sigma) = (I / (sigma * sqrt(2*pi)) * exp (-0.5 * (x / sigma)^2)\n",
        "\n",
        "Where:\n",
        "\n",
        "x - Is x-axis coordinate where the Gaussian is evaluated.\n",
        "I - Describes the intensity of the Gaussian.\n",
        "sigma - Describes the size of the Gaussian.\n",
        "\n",
        "This simple equation describes our model - a 1D Gaussian - and it has 3 parameters, (x, I, sigma). Using different\n",
        "values of these 3 parameters we can describe *any* possible 1D Gaussian.\n",
        "\n",
        "At its core, PyAutoFit is all about making it simple to define a model and straight forwardly map a set of input\n",
        "parameters to the model.\n",
        "\n",
        "So lets go ahead and create our model of a 1D Gaussian."
      ]
    },
    {
      "cell_type": "code",
      "metadata": {},
      "source": [
        "class Gaussian:\n",
        "    def __init__(\n",
        "        self,\n",
        "        centre=0.0,  # <- PyAutoFit recognises these constructor arguments\n",
        "        intensity=0.1,  # <- are the Gaussian's model parameters.\n",
        "        sigma=0.01,\n",
        "    ):\n",
        "        self.centre = centre\n",
        "        self.intensity = intensity\n",
        "        self.sigma = sigma\n",
        "\n",
        "    def profile_from_xvalues(self, xvalues):\n",
        "        \"\"\"\n",
        "        Calculate the intensity of the light profile on a line of Cartesian x coordinates.\n",
        "\n",
        "        The input xvalues are translated to a coordinate system centred on the Gaussian, using its centre.\n",
        "\n",
        "        Parameters\n",
        "        ----------\n",
        "        xvalues : ndarray\n",
        "            The x coordinates in the original reference frame of the data.\n",
        "        \"\"\"\n",
        "        transformed_xvalues = np.subtract(xvalues, self.centre)\n",
        "        return np.multiply(\n",
        "            np.divide(self.intensity, self.sigma * np.sqrt(2.0 * np.pi)),\n",
        "            np.exp(-0.5 * np.square(np.divide(transformed_xvalues, self.sigma))),\n",
        "        )\n"
      ],
      "outputs": [],
      "execution_count": null
    },
    {
      "cell_type": "markdown",
      "metadata": {},
      "source": [
        "The class's format is how PyAutoFit requires the components of a model to be written, where:\n",
        "\n",
        "- The name of the class is the name of the model component, in this case, \"Gaussian\".\n",
        "\n",
        "- The input arguments of the constructor are the model parameters which we will ultimately fit for, in this case the\n",
        "  centre, intensity and sigma.\n",
        "  \n",
        "- The default values of the input arguments tell PyAutoFit whether a parameter is a single-valued floats or a \n",
        "  multi-valued tuple. For the Gaussian class, no input parameters are a tuple and we will show an example of a tuple \n",
        "  input in a later tutorial).\n",
        "  \n",
        "By writing a model component in this way, we can use the Python class to set it up as model component in PyAutoFit.\n",
        "PyAutoFit can the generate model components as instances of their Python class, meaning that its functions \n",
        "(e.g. 'profile_from_xvalues') are accessible to PyAutoFit.\n",
        "\n",
        "To set it up as a model component, we use a _PriorModel_ object."
      ]
    },
    {
      "cell_type": "code",
      "metadata": {},
      "source": [
        "model = af.PriorModel(Gaussian)\n",
        "model.centre = af.UniformPrior(lower_limit=0.0, upper_limit=np.inf)\n",
        "model.intensity = af.UniformPrior(lower_limit=0.0, upper_limit=np.inf)\n",
        "model.sigma = af.UniformPrior(lower_limit=0.0, upper_limit=np.inf)\n",
        "print(\"PriorModel Gaussian object: \\n\")\n",
        "print(model)"
      ],
      "outputs": [],
      "execution_count": null
    },
    {
      "cell_type": "markdown",
      "metadata": {},
      "source": [
        "Using this _PriorModel_ we can create an 'instance' of the model, by mapping a list of physical values of each parameter \n",
        "as follows."
      ]
    },
    {
      "cell_type": "code",
      "metadata": {},
      "source": [
        "instance = model.instance_from_vector(vector=[1.0, 2.0, 3.0])"
      ],
      "outputs": [],
      "execution_count": null
    },
    {
      "cell_type": "markdown",
      "metadata": {},
      "source": [
        "The instance is an instance of the Gaussian class."
      ]
    },
    {
      "cell_type": "code",
      "metadata": {},
      "source": [
        "print(\"Model Instance: \\n\")\n",
        "print(instance)"
      ],
      "outputs": [],
      "execution_count": null
    },
    {
      "cell_type": "markdown",
      "metadata": {},
      "source": [
        "It has the parameters of the Gaussian with the values input above."
      ]
    },
    {
      "cell_type": "code",
      "metadata": {},
      "source": [
        "print(\"Instance Parameters \\n\")\n",
        "print(\"x = \", instance.centre)\n",
        "print(\"intensity = \", instance.intensity)\n",
        "print(\"sigma = \", instance.sigma)"
      ],
      "outputs": [],
      "execution_count": null
    },
    {
      "cell_type": "markdown",
      "metadata": {},
      "source": [
        "Congratulations! You've defined your first model in PyAutoFit! :)\n",
        "\n",
        "So, why is it called a PriorModel?\n",
        "\n",
        "The parameters of a _PriorModel_ in PyAutoFit all have a prior associated with them. Priors encode our expectations on\n",
        "what values we expect each parameter can have. For example, we might know that our Gaussian will be centred near 0.0.\n",
        "\n",
        "How are priors set? In this example, we did not specify priors, so they default to UniformPriors between 0 and 1. Below,\n",
        "we'll show how to customize priors, and in a later tutorial we'll explain how for a given model component we can \n",
        "define config files that specify the default priors.\n",
        "\n",
        "### How Are Priors Used? ###\n",
        "\n",
        "Priors are used to create model instances from a unit-vector, which is a vector defined in the same way as the vector \n",
        "above but with values spanning from 0 -> 1.\n",
        "\n",
        "Unit values are mapped to physical values via the prior, for example:\n",
        "\n",
        "For a UniformPrior defined between 0.0 and 10.0:\n",
        "\n",
        "- An input unit value of 0.5 will give the physical value 5.0.\n",
        "- An input unit value of 0.8 will give te physical value 8.0.\n",
        "\n",
        "For a LogUniformPrior (base 10) defined between 1.0 and 100.0:\n",
        "\n",
        "- An input unit value of 0.5 will give the physical value 10.0.\n",
        "- An input unit value of 1.0 will give te physical value 100.0.\n",
        "\n",
        "For a GauassianPrior defined with mean 1.0 and sigma 1.0:\n",
        "\n",
        "- An input unit value of 0.5 (e.g. the centre of the Gaussian) will give the physical value 1.0.\n",
        "- An input unit value of 0.8173 (e.g. 1 sigma confidence) will give te physical value 1.9051.\n",
        "\n",
        "Lets take a look:"
      ]
    },
    {
      "cell_type": "markdown",
      "metadata": {},
      "source": [
        "We can overwrite the default priors assumed for each parameter."
      ]
    },
    {
      "cell_type": "code",
      "metadata": {},
      "source": [
        "model.centre = af.UniformPrior(lower_limit=10.0, upper_limit=20.0)\n",
        "model.intensity = af.GaussianPrior(mean=5.0, sigma=7.0)\n",
        "model.sigma = af.LogUniformPrior(lower_limit=1.0, upper_limit=100.0)"
      ],
      "outputs": [],
      "execution_count": null
    },
    {
      "cell_type": "markdown",
      "metadata": {},
      "source": [
        "These priors are now used to map our unit values to physical values when we create an instance of the Gaussian\n",
        "class."
      ]
    },
    {
      "cell_type": "code",
      "metadata": {},
      "source": [
        "instance = model.instance_from_unit_vector(unit_vector=[0.5, 0.3, 0.8])"
      ],
      "outputs": [],
      "execution_count": null
    },
    {
      "cell_type": "markdown",
      "metadata": {},
      "source": [
        "Lets check that this instance is again an instance of the Gaussian class."
      ]
    },
    {
      "cell_type": "code",
      "metadata": {},
      "source": [
        "print(\"Model Instance: \\n\")\n",
        "print(instance)"
      ],
      "outputs": [],
      "execution_count": null
    },
    {
      "cell_type": "markdown",
      "metadata": {},
      "source": [
        "It now has physical values for the parameters mapped from the priors defined above."
      ]
    },
    {
      "cell_type": "code",
      "metadata": {},
      "source": [
        "print(\"Instance Parameters \\n\")\n",
        "print(\"x = \", instance.centre)\n",
        "print(\"intensity = \", instance.intensity)\n",
        "print(\"sigma = \", instance.sigma)"
      ],
      "outputs": [],
      "execution_count": null
    },
    {
      "cell_type": "markdown",
      "metadata": {},
      "source": [
        "We can also set physical limits on parameters, such that a model instance cannot generate parameters outside of a\n",
        "specified range.\n",
        "\n",
        "For example, a Gaussian cannot have a negative intensity, so we can set its lower limit to a value of 0.0."
      ]
    },
    {
      "cell_type": "code",
      "metadata": {},
      "source": [
        "model.intensity = af.GaussianPrior(\n",
        "    mean=0.0, sigma=1.0, lower_limit=0.0, upper_limit=1000.0\n",
        ")"
      ],
      "outputs": [],
      "execution_count": null
    },
    {
      "cell_type": "markdown",
      "metadata": {},
      "source": [
        "The unit vector input below creates a negative intensity value, such that if you uncomment the line below PyAutoFit \n",
        "raises an error."
      ]
    },
    {
      "cell_type": "code",
      "metadata": {},
      "source": [
        "# instance = model.instance_from_unit_vector(unit_vector=[0.01, 0.01, 0.01])"
      ],
      "outputs": [],
      "execution_count": null
    },
    {
      "cell_type": "markdown",
      "metadata": {},
      "source": [
        "In a later tutorial, we'll explain how config files can again be used to set the default limits of every parameter.\n",
        "\n",
        "\n",
        "And with that, you've completed tutorial 1!\n",
        "\n",
        "At this point, you might be wondering, whats the big deal? Sure, its cool that we set up a model and its nice that\n",
        "we can translate priors to parameters in this way, but how is this actually going to help me perform model fitting?\n",
        "With a bit of effort couldn't I have written some code to do this myself?\n",
        "\n",
        "Well, you're probably right, but this tutorial is covering just the backend of PyAutoFit - what holds everything\n",
        "together. Once you start using PyAutoFit, its unlikely that you'll perform model mapping yourself, its the 'magic' \n",
        "behind the scenes that makes model-fitting work.\n",
        "\n",
        "So, we're pretty much ready to move on to tutorial 2, where we'll actually fit this model to some data. However,\n",
        "first, I want you to quickly think about the model you want to fit. How would you write it as a class using the\n",
        "PyAutoFit format above? What are the free parameters of you model? Are there multiple model components you are going\n",
        "to want to fit to your data?\n",
        "\n",
        "Below are two more classes one might use to perform model fitting, the first is the model of a linear-regression line\n",
        "of the form y = mx + c that you might fit to a 1D data-set:"
      ]
    },
    {
      "cell_type": "code",
      "metadata": {},
      "source": [
        "class LinearFit:\n",
        "    def __init__(self, gradient=1.0, intercept=0.0):\n",
        "\n",
        "        self.gradient = gradient\n",
        "        self.intercept = intercept\n"
      ],
      "outputs": [],
      "execution_count": null
    },
    {
      "cell_type": "markdown",
      "metadata": {},
      "source": [
        "The second example is a two-dimensional Gaussian. Here, the centre now has two coordinates (y,x), which in PyAutoFit\n",
        "is more suitably defined using a tuple."
      ]
    },
    {
      "cell_type": "code",
      "metadata": {},
      "source": [
        "class Gaussian2D:\n",
        "    def __init__(self, centre=(0.0, 0.0), intensity=0.1, sigma=1.0):\n",
        "\n",
        "        self.centre = centre\n",
        "        self.intensity = intensity\n",
        "        self.sigma = sigma\n"
      ],
      "outputs": [],
      "execution_count": null
    }
  ],
  "metadata": {
    "anaconda-cloud": {},
    "kernelspec": {
      "display_name": "Python 3",
      "language": "python",
      "name": "python3"
    },
    "language_info": {
      "codemirror_mode": {
        "name": "ipython",
        "version": 3
      },
      "file_extension": ".py",
      "mimetype": "text/x-python",
      "name": "python",
      "nbconvert_exporter": "python",
      "pygments_lexer": "ipython3",
      "version": "3.6.1"
    }
  },
  "nbformat": 4,
  "nbformat_minor": 1
}