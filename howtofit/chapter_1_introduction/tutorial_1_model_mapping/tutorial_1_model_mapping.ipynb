{
  "cells": [
    {
      "cell_type": "markdown",
      "metadata": {},
      "source": [
        "__Model Mapping__\n",
        "\n",
        "In this tutorial, we'll parameterize a simple model and use PyAutoFit to map its parameters to a model instance,\n",
        "which we'll ultimately need to fit to data."
      ]
    },
    {
      "cell_type": "code",
      "metadata": {},
      "source": [
        "%matplotlib inline\n",
        "\n",
        "import autofit as af\n",
        "import matplotlib.pyplot as plt"
      ],
      "outputs": [],
      "execution_count": null
    },
    {
      "cell_type": "markdown",
      "metadata": {},
      "source": [
        "To get a feeling for our model lets look at the data we'll ultimately be fitting, a 1D Gaussian.\n",
        "\n",
        "You need to change the path below to the chapter 1 directory so we can load the dataset."
      ]
    },
    {
      "cell_type": "code",
      "metadata": {},
      "source": [
        "chapter_path = \"/home/jammy/PycharmProjects/PyAuto/autofit_workspace/howtofit/chapter_1_introduction/\""
      ],
      "outputs": [],
      "execution_count": null
    },
    {
      "cell_type": "markdown",
      "metadata": {},
      "source": [
        "Lets setup the config files for this tutorial. We'll cover what configs do as we go through the tutorials."
      ]
    },
    {
      "cell_type": "code",
      "metadata": {},
      "source": [
        "af.conf.instance = af.conf.Config(config_path=chapter_path + \"/config\")"
      ],
      "outputs": [],
      "execution_count": null
    },
    {
      "cell_type": "markdown",
      "metadata": {},
      "source": [
        "The dataset path specifies where the dataset is located, this time in the directory 'chapter_path/dataset'. We'll\n",
        "load the example dataset containing one Gaussian."
      ]
    },
    {
      "cell_type": "code",
      "metadata": {},
      "source": [
        "dataset_path = chapter_path + \"dataset/gaussian_x1/\""
      ],
      "outputs": [],
      "execution_count": null
    },
    {
      "cell_type": "markdown",
      "metadata": {},
      "source": [
        "We now load this dataset from .fits files and create an instance of a 'Dataset' object. Checkout the file\n",
        "\n",
        "'autofit_workspace/howtofit/chapter_1_introduction/tutorial_1_model_mapping/model/src/dataset/dataset.py'\n",
        "\n",
        "for a description of the Dataset class.\n",
        "\n",
        "\n",
        "This file is in the folder 'src',  signifying this code would be in the project's source-code. An aim of these\n",
        "tutorials is clearly define what belongs in the source code and what belongs in the code we use to perform\n",
        "model-fitting, e.g. these tutorial scripts. So, make sure to take note of what goes in the source code!"
      ]
    },
    {
      "cell_type": "code",
      "metadata": {},
      "source": [
        "from howtofit.chapter_1_introduction.tutorial_1_model_mapping.src.dataset import (\n",
        "    dataset as ds,\n",
        ")\n",
        "\n",
        "dataset = ds.Dataset.from_fits(\n",
        "    data_path=dataset_path + \"data.fits\", noise_map_path=dataset_path + \"noise_map.fits\"\n",
        ")"
      ],
      "outputs": [],
      "execution_count": null
    },
    {
      "cell_type": "markdown",
      "metadata": {},
      "source": [
        "Lets plot the Gaussian. In this tutorial we'll just use a Matplotlib directly, but in tutorial 2 we'll expand our\n",
        "plotting tools."
      ]
    },
    {
      "cell_type": "code",
      "metadata": {},
      "source": [
        "plt.plot(dataset.xvalues, dataset.data)\n",
        "plt.show()"
      ],
      "outputs": [],
      "execution_count": null
    },
    {
      "cell_type": "markdown",
      "metadata": {},
      "source": [
        "Its not until tutorial 3 that we'll actually fit this image with a model. But its worth us looking at it now so we\n",
        "can understand the model we're going to fit. So what is the model?\n",
        "\n",
        "Clearly, its a one-dimensional Gaussian defined as:\n",
        "\n",
        "g(x, I, sigma) = (I / (sigma * sqrt(2*pi)) * exp (-0.5 * (x / sigma)^2)\n",
        "\n",
        "Where:\n",
        "\n",
        "x - Is x-axis coordinate where the Gaussian is evaluated.\n",
        "I - Describes the intensity of the Gaussian.\n",
        "sigma - Describes the size of the Gaussian.\n",
        "\n",
        "This simple equation describes our model - a 1D Gaussian - and it has 3 parameters, (x, I, sigma). Using different\n",
        "values of these 3 parameters we can describe *any* possible 1D Gaussian.\n",
        "\n",
        "At its core, PyAutoFit is all about making it simple to define a model and straight forwardly map a set of input\n",
        "parameters to the model.\n",
        "\n",
        "So lets go ahead and create our model of a 1D Gaussian. Take a look at the file\n",
        "\n",
        "'autofit_workspace/howtofit/chapter_1_introduction/tutorial_1_model_mapping/model/src/model/gaussian.py'.\n",
        "\n",
        "Here we define our 1D Gaussian model using the code:"
      ]
    },
    {
      "cell_type": "code",
      "metadata": {},
      "source": [
        "class Gaussian:\n",
        "    def __init__(\n",
        "        self,\n",
        "        centre=0.0,  # <- PyAutoFit recognises these constructor arguments\n",
        "        intensity=0.1,  # <- are the Gaussian's model parameters.\n",
        "        sigma=0.01,\n",
        "    ):\n",
        "        self.centre = centre\n",
        "        self.intensity = intensity\n",
        "        self.sigma = sigma\n"
      ],
      "outputs": [],
      "execution_count": null
    },
    {
      "cell_type": "markdown",
      "metadata": {},
      "source": [
        "The class's format is how PyAutoFit requires the components of a model to be written, where:\n",
        "\n",
        "- The name of the class is the name of the model component, in this case, \"Gaussian\".\n",
        "- The input arguments of the constructor are the model parameters which we will ultimately fit for.\n",
        "- The default values of the input arguments tell PyAutoFit whether a parameter is a single-valued float (e.g. like\n",
        "  the intensity and sigma) or a multi-valued tuple. For the Gaussian class, no input parameters are a tuple, however\n",
        "  we will show an example of a tuple input in a later tutorial).\n",
        "\n",
        "By writing a model component in this way, we can use the Python class to set it up as model in PyAutoFit."
      ]
    },
    {
      "cell_type": "code",
      "metadata": {},
      "source": [
        "from howtofit.chapter_1_introduction.tutorial_1_model_mapping.src.model import gaussian\n",
        "\n",
        "model = af.PriorModel(gaussian.Gaussian)"
      ],
      "outputs": [],
      "execution_count": null
    },
    {
      "cell_type": "markdown",
      "metadata": {},
      "source": [
        "The model is what PyAutoFit calls a PriorModel - we'll explain the name below."
      ]
    },
    {
      "cell_type": "code",
      "metadata": {},
      "source": [
        "print(\"PriorModel Gaussian object: \\n\")\n",
        "print(model)"
      ],
      "outputs": [],
      "execution_count": null
    },
    {
      "cell_type": "markdown",
      "metadata": {},
      "source": [
        "Using our model we can create an 'instance' of the model, by mapping a list of physical values of each parameter to\n",
        "the model."
      ]
    },
    {
      "cell_type": "code",
      "metadata": {},
      "source": [
        "instance = model.instance_from_vector(vector=[1.0, 2.0, 3.0])"
      ],
      "outputs": [],
      "execution_count": null
    },
    {
      "cell_type": "markdown",
      "metadata": {},
      "source": [
        "The instance is an instance of the Gaussian class."
      ]
    },
    {
      "cell_type": "code",
      "metadata": {},
      "source": [
        "print(\"Model Instance: \\n\")\n",
        "print(instance)"
      ],
      "outputs": [],
      "execution_count": null
    },
    {
      "cell_type": "markdown",
      "metadata": {},
      "source": [
        "It has the parameters of our Gaussian with the values input above."
      ]
    },
    {
      "cell_type": "code",
      "metadata": {},
      "source": [
        "print(\"Instance Parameters \\n\")\n",
        "print(\"x = \", instance.centre)\n",
        "print(\"intensity = \", instance.intensity)\n",
        "print(\"sigma = \", instance.sigma)"
      ],
      "outputs": [],
      "execution_count": null
    },
    {
      "cell_type": "markdown",
      "metadata": {},
      "source": [
        "Congratulations! You've defined your first model in PyAutoFit! :)\n",
        "\n",
        "So, why is it called a PriorModel?\n",
        "\n",
        "The parameters of a PriorModel in PyAutoFit all have a prior associated with them. Priors encode our expectations on\n",
        "what values we expect each parameter can have. For example, we might know that our Gaussian will be centred near 0.0.\n",
        "\n",
        "Where are priors set? Checkout the config file:\n",
        "\n",
        "'autofit_workspace/howtofit/chapter_1_introduction/config/json_priors/gaussian.json\n",
        "\n",
        "For our Gaussian, we use the following default priors:\n",
        "\n",
        "centre (x) - UniformPrior between 0.0 to 100.0.\n",
        "intensity (I) - LogUniformPrior (base 10) between 0.01 and 100.0\n",
        "sigma - UniformPrior between 0.0 and 10.0\n",
        "\n",
        "Config files in PyAutoFit use the module name to read the config files. This is why our Gaussian component is in the\n",
        "the module \"gaussian.py\", so that PyAutoFit knows to look for config files with the name \"gaussian.json\".\n",
        "\n",
        "So, when are these priors actually used? They are used to generate model instances from a unit-vector, a vector\n",
        "defined in the same way as the vector above but with values spanning from 0 -> 1.\n",
        "\n",
        "Unit values are mapped to physical values using the prior, for example:\n",
        "\n",
        "For a UniformPrior defined between 0.0 and 10.0:\n",
        "\n",
        "- An input unit value of 0.5 will give the physical value 5.0.\n",
        "- An input unit value of 0.8 will give te physical value 8.0.\n",
        "\n",
        "For a LogUniformPrior (base 10) defined between 1.0 and 100.0:\n",
        "\n",
        "- An input unit value of 0.5 will give the physical value 10.0.\n",
        "- An input unit value of 1.0 will give te physical value 100.0.\n",
        "\n",
        "For a GauassianPrior defined with mean 1.0 and sigma 1.0:\n",
        "\n",
        "- An input unit value of 0.5 (e.g. the centre of the Gaussian) will give the physical value 1.0.\n",
        "- An input unit value of 0.8173 (e.g. 1 sigma confidence) will give te physical value 1.9051.\n",
        "\n",
        "Lets take a look:"
      ]
    },
    {
      "cell_type": "code",
      "metadata": {},
      "source": [
        "instance = model.instance_from_unit_vector(unit_vector=[0.5, 0.3, 0.8])"
      ],
      "outputs": [],
      "execution_count": null
    },
    {
      "cell_type": "markdown",
      "metadata": {},
      "source": [
        "The instance is again an instance of the Gaussian class."
      ]
    },
    {
      "cell_type": "code",
      "metadata": {},
      "source": [
        "print(\"Model Instance: \\n\")\n",
        "print(instance)"
      ],
      "outputs": [],
      "execution_count": null
    },
    {
      "cell_type": "markdown",
      "metadata": {},
      "source": [
        "It has physical values for the parameters mapped from the priors defined in the gaussian.json config file."
      ]
    },
    {
      "cell_type": "code",
      "metadata": {},
      "source": [
        "print(\"Instance Parameters \\n\")\n",
        "print(\"x = \", instance.centre)\n",
        "print(\"intensity = \", instance.intensity)\n",
        "print(\"sigma = \", instance.sigma)"
      ],
      "outputs": [],
      "execution_count": null
    },
    {
      "cell_type": "markdown",
      "metadata": {},
      "source": [
        "We can overwrite the priors defined in the config."
      ]
    },
    {
      "cell_type": "code",
      "metadata": {},
      "source": [
        "model.centre = af.UniformPrior(lower_limit=10.0, upper_limit=20.0)\n",
        "model.intensity = af.GaussianPrior(mean=5.0, sigma=7.0)\n",
        "model.sigma = af.LogUniformPrior(lower_limit=1.0, upper_limit=100.0)"
      ],
      "outputs": [],
      "execution_count": null
    },
    {
      "cell_type": "markdown",
      "metadata": {},
      "source": [
        "Our model, with all new priors, can again be used to map unit values to create a model instance."
      ]
    },
    {
      "cell_type": "code",
      "metadata": {},
      "source": [
        "instance = model.instance_from_unit_vector(unit_vector=[0.5, 0.3, 0.8])"
      ],
      "outputs": [],
      "execution_count": null
    },
    {
      "cell_type": "markdown",
      "metadata": {},
      "source": [
        "Its physical values are mapped using the new priors defined above and not those in the gaussians.ini config file."
      ]
    },
    {
      "cell_type": "code",
      "metadata": {},
      "source": [
        "print(\"Instance Parameters \\n\")\n",
        "print(\"x = \", instance.centre)\n",
        "print(\"intensity = \", instance.intensity)\n",
        "print(\"sigma = \", instance.sigma)"
      ],
      "outputs": [],
      "execution_count": null
    },
    {
      "cell_type": "markdown",
      "metadata": {},
      "source": [
        "We can also set physical limits on parameters, such that a model instance cannot generate parameters outside of a\n",
        "specified range.\n",
        "\n",
        "For example, a Gaussian cannot have a negative intensity, so we can set its lower limit to a value of 0.0."
      ]
    },
    {
      "cell_type": "code",
      "metadata": {},
      "source": [
        "model = af.PriorModel(gaussian.Gaussian)\n",
        "model.intensity = af.GaussianPrior(\n",
        "    mean=0.0, sigma=1.0, lower_limit=0.0, upper_limit=1000.0\n",
        ")"
      ],
      "outputs": [],
      "execution_count": null
    },
    {
      "cell_type": "markdown",
      "metadata": {},
      "source": [
        "The unit vector input below creates a negative intensity value, so the line below leads PyAutoFit to raise an error."
      ]
    },
    {
      "cell_type": "code",
      "metadata": {},
      "source": [
        "# instance = model.instance_from_unit_vector(unit_vector=[0.01, 0.01, 0.01])"
      ],
      "outputs": [],
      "execution_count": null
    },
    {
      "cell_type": "markdown",
      "metadata": {},
      "source": [
        "The config file 'autofit_workspace/howtofit/chapter_1_introduction/config/priors/limits/gaussian.json' also sets the\n",
        "default limits on all parameters of our model.\n",
        "\n",
        "\n",
        "And with that, you've completed tutorial 1!\n",
        "\n",
        "At this point, you might be wondering, whats the big deal? Sure, its cool that we set up a model and its nice that\n",
        "we can translate priors to parameters in this way, but how is this actually going to help me perform model fitting?\n",
        "With a bit of effort couldn't I have written some code to do this myself?\n",
        "\n",
        "Well, you're probably right, but this tutorial is covering just the backend of PyAutoFit, what holds everything\n",
        "together if you will. Once you start using PyAutoFit, you're ultimately never going to directly perform model\n",
        "mapping yourself, its the 'magic' behind the scenes that makes model-fitting work.\n",
        "\n",
        "So, we're pretty much ready to move on to tutorial 2, where we'll actually fit this model to some data. However,\n",
        "first, I want you to quickly think about the model you want to fit. How would you write it as a class using the\n",
        "PyAutoFit format above? What are the free parameters of you model? Are there multiple model components you are going\n",
        "to want to fit to your data?\n",
        "\n",
        "Below are two more classes one might use to perform model fitting, the first is the model of a linear-regression line\n",
        "of the form y = mx + c that you might fit to a 1D data-set:"
      ]
    },
    {
      "cell_type": "code",
      "metadata": {},
      "source": [
        "class LinearFit:\n",
        "    def __init__(self, gradient=1.0, intercept=0.0):\n",
        "\n",
        "        self.gradient = gradient\n",
        "        self.intercept = intercept\n"
      ],
      "outputs": [],
      "execution_count": null
    },
    {
      "cell_type": "markdown",
      "metadata": {},
      "source": [
        "The second example is a two-dimensional Gaussian. Here, the centre now has two coordinates (y,x), which in PyAutoFit\n",
        "is more suitably defined using a tuple."
      ]
    },
    {
      "cell_type": "code",
      "metadata": {},
      "source": [
        "class Gaussian2D:\n",
        "    def __init__(self, centre=(0.0, 0.0), intensity=0.1, sigma=1.0):\n",
        "\n",
        "        self.centre = centre\n",
        "        self.intensity = intensity\n",
        "        self.sigma = sigma\n"
      ],
      "outputs": [],
      "execution_count": null
    }
  ],
  "metadata": {
    "anaconda-cloud": {},
    "kernelspec": {
      "display_name": "Python 3",
      "language": "python",
      "name": "python3"
    },
    "language_info": {
      "codemirror_mode": {
        "name": "ipython",
        "version": 3
      },
      "file_extension": ".py",
      "mimetype": "text/x-python",
      "name": "python",
      "nbconvert_exporter": "python",
      "pygments_lexer": "ipython3",
      "version": "3.6.1"
    }
  },
  "nbformat": 4,
  "nbformat_minor": 1
}