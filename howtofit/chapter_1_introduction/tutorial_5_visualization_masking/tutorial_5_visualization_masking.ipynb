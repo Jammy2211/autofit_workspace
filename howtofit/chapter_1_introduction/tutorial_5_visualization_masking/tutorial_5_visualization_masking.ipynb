{
  "cells": [
    {
      "cell_type": "markdown",
      "metadata": {},
      "source": [
        "__Visualization Masking__\n",
        "\n",
        "In the previous tutorial, we wrote source code which used PyAutoFit to fit a 1D Gaussian model to a dataset. In this\n",
        "tutorial, we'll extend this source code's phase package to perform a number of additional tasks:\n",
        "\n",
        "    - Masking: The phase is passed a mask such that regions of the dataset are omitted by the log likelihood function.\n",
        "    - Visualization: Images showing the model fit are output on-the-fly during the non-linear search.\n",
        "\n",
        "These new features have lead to an additional module in the 'phase' package not present in tutorial 4, called\n",
        "'visualizer.py'. Before looking at this module, lets perform a fit to see the changed behaviour of PyAutoFit."
      ]
    },
    {
      "cell_type": "code",
      "metadata": {},
      "source": [
        "%matplotlib inline"
      ],
      "outputs": [],
      "execution_count": null
    },
    {
      "cell_type": "code",
      "metadata": {},
      "source": [
        "from autoconf import conf\n",
        "import autofit as af\n",
        "import numpy as np\n",
        "\n",
        "from howtofit.chapter_1_introduction.tutorial_5_visualization_masking.src.model import (\n",
        "    gaussian,\n",
        ")\n",
        "\n",
        "from howtofit.chapter_1_introduction.tutorial_5_visualization_masking.src.phase import (\n",
        "    phase as ph,\n",
        ")"
      ],
      "outputs": [],
      "execution_count": null
    },
    {
      "cell_type": "markdown",
      "metadata": {},
      "source": [
        "You need to change the path below to the workspace directory so we can load the dataset."
      ]
    },
    {
      "cell_type": "code",
      "metadata": {},
      "source": [
        "workspace_path = \"/home/jammy/PycharmProjects/PyAuto/autofit_workspace\"\n",
        "chapter_path = f\"{workspace_path}/howtofit/chapter_1_introduction\""
      ],
      "outputs": [],
      "execution_count": null
    },
    {
      "cell_type": "markdown",
      "metadata": {},
      "source": [
        "Setup the configs as we did in the previous tutorial, as well as the output folder for our non-linear search."
      ]
    },
    {
      "cell_type": "code",
      "metadata": {},
      "source": [
        "conf.instance = conf.Config(\n",
        "    config_path=f\"{workspace_path}/config\",\n",
        "    output_path=f\"{workspace_path}/output/howtofit\",\n",
        ")\n",
        "\n",
        "dataset_path = f\"{chapter_path}/dataset/gaussian_x1\"\n",
        "\n",
        "from howtofit.chapter_1_introduction.tutorial_5_visualization_masking.src.dataset import (\n",
        "    dataset as ds,\n",
        ")\n",
        "\n",
        "dataset = ds.Dataset.from_fits(\n",
        "    data_path=f\"{dataset_path}/data.fits\",\n",
        "    noise_map_path=f\"{dataset_path}/noise_map.fits\",\n",
        ")"
      ],
      "outputs": [],
      "execution_count": null
    },
    {
      "cell_type": "markdown",
      "metadata": {},
      "source": [
        "Before fitting data, we may want to mask it, removing regions of the data we know are defective or where there is no\n",
        "signal.\n",
        "\n",
        "To facilitate this we have added a new class to the module 'dataset.py'. This takes our dataset and a mask and combines \n",
        "the two to create a masked dataset. The fit.py module has also been updated to use a mask during the fit. Check them \n",
        "both out now to see how the mask is used! \n",
        "\n",
        "As mentioned in tutorial 4, if your model-fitting problem involves fitting masked data, you should be able to copy and \n",
        "paste the fit.py module for your own project.\n",
        "\n",
        "Masking occurs within the phase package of PyAutoFit, which we'll inspect at the end of the tutorial. However,\n",
        "for a phase to run it now requires that a mask is passed to it. For this tutorial, lets create a which removes the\n",
        "last 30 data-points in our data.\n",
        "\n",
        "(In our convention, a mask value of 'True' means it IS masked and thus removed from the fit)."
      ]
    },
    {
      "cell_type": "code",
      "metadata": {},
      "source": [
        "mask = np.full(fill_value=False, shape=dataset.data.shape)\n",
        "mask[-30:] = True"
      ],
      "outputs": [],
      "execution_count": null
    },
    {
      "cell_type": "markdown",
      "metadata": {},
      "source": [
        "Lets now reperform the fit from tutorial 4, but with a masked dataset and visualization."
      ]
    },
    {
      "cell_type": "code",
      "metadata": {},
      "source": [
        "phase = ph.Phase(\n",
        "    phase_name=\"phase_t5\", gaussian=af.PriorModel(gaussian.Gaussian), search=af.Emcee()\n",
        ")\n",
        "\n",
        "print(\n",
        "    \"Emcee has begun running - checkout the autofit_workspace/howtofit/chapter_1_introduction/output/phase_t4\"\n",
        "    \"folder for live output of the results.\"\n",
        "    \"This Jupyter notebook cell with progress once Emcee has completed - this could take a few minutes!\"\n",
        ")"
      ],
      "outputs": [],
      "execution_count": null
    },
    {
      "cell_type": "markdown",
      "metadata": {},
      "source": [
        "Note that we are passing our mask to the phase run function, which we did not in previous tutorials."
      ]
    },
    {
      "cell_type": "code",
      "metadata": {},
      "source": [
        "phase.run(dataset=dataset, mask=mask)\n",
        "\n",
        "print(\"Emcee has finished run - you may now continue the notebook.\")"
      ],
      "outputs": [],
      "execution_count": null
    },
    {
      "cell_type": "markdown",
      "metadata": {},
      "source": [
        "Lets check that this phase did indeed perform visualization. Navigate to the folder 'image' in the directory\n",
        "above. You should now see a set of folders containing visualization of the dataset and fit. As promised, our phase is\n",
        "now taking care of the visualization of our model.\n",
        "\n",
        "Visualization happens 'on-the-fly', such that during Emcee these images are output using the current maximum likelihood\n",
        "model Emcee has found. For models more complex than our 1D Gaussian this is useful, as it means we can check\n",
        "that Emcee has found reasonable solutions during a run and can thus cancel it early if it has ended up with an\n",
        "incorrect solution.\n",
        "\n",
        "How often does PyAutoFit output new images? This is set by the 'visualize_every_update' in the config file\n",
        "'config/visualize/general.ini'\n",
        "\n",
        "Finally, now inspect the 'phase.py', 'analysis.py' and 'visualizer.py' modules in the source code. These describe how \n",
        "the masked data is set up and how visualization is performed.\n",
        "\n",
        "And with that, we have completed this (fairly short) tutorial. There are two things worth ending on:\n",
        "\n",
        "    1) In tutorial 4, we introduced the 'plot' package that had functions specific to plotting attributes of\n",
        "    a data-set and fit. This project structure has again helped us, by making it straight forward to perform plotting with \n",
        "    the Visualizer. For your model-fitting project you should aim to strichtly adhere to performing all plots in a 'plot' \n",
        "    module - more benefits will become clear in tutorial 8.\n",
        "    \n",
        "    2) For our very simple 1D case, we used a 1D NumPy array to represent a mask. For projects with more complicated\n",
        "    datasets, one may require more complicated masks, warranting a 'mask' package and 'mask.py' module. In tutorial 9\n",
        "    we will show an example of this."
      ]
    }
  ],
  "metadata": {
    "anaconda-cloud": {},
    "kernelspec": {
      "display_name": "Python 3",
      "language": "python",
      "name": "python3"
    },
    "language_info": {
      "codemirror_mode": {
        "name": "ipython",
        "version": 3
      },
      "file_extension": ".py",
      "mimetype": "text/x-python",
      "name": "python",
      "nbconvert_exporter": "python",
      "pygments_lexer": "ipython3",
      "version": "3.6.1"
    }
  },
  "nbformat": 4,
  "nbformat_minor": 1
}