{
  "cells": [
    {
      "cell_type": "markdown",
      "metadata": {},
      "source": [
        "Tutorial 7: Phase Customization\n",
        "===============================\n",
        "\n",
        "In this tutorial, we're going to add input parameters to a Phase object that customizes the analysis. We'll use the\n",
        "specific example of two input parameters that trim our data-set from the left and right before fitting it. This\n",
        "example is somewhat trivial (we could achieve almost the same effect with masking), but it will serve to illustrate\n",
        "phase customization.\n",
        "\n",
        "When we customize a phase, we'll use these 'phase settings' to perform phase tagging. Here, we 'tag' the output\n",
        "path of the phase's results, such that every time a phase is run with a different customization a new set of\n",
        "unique results are stored for those settings. For a given data-set we are thus able to fit it multiple times using\n",
        "different settings to compare the results.\n",
        "\n",
        "These new features have led to additional modules in the 'phase' package called 'meta_dataset.py' and 'settings.py'.\n",
        "Before looking at these modules, lets first perform a series of Emcee fits to see how they change the behaviour\n",
        "of PyAutoFit."
      ]
    },
    {
      "cell_type": "code",
      "metadata": {},
      "source": [
        "%matplotlib inline\n",
        "\n",
        "from autoconf import conf\n",
        "import autofit as af\n",
        "import numpy as np\n",
        "\n",
        "from autofit_workspace.howtofit.chapter_1_introduction.tutorial_7_phase_customization import (\n",
        "    src as htf,\n",
        ")\n",
        "\n",
        "from pyprojroot import here\n",
        "\n",
        "workspace_path = str(here())\n",
        "print(\"Workspace Path: \", workspace_path)"
      ],
      "outputs": [],
      "execution_count": null
    },
    {
      "cell_type": "markdown",
      "metadata": {},
      "source": [
        "Setup the configs as we did in the previous tutorial, as well as the output folder for our non-linear search."
      ]
    },
    {
      "cell_type": "code",
      "metadata": {},
      "source": [
        "conf.instance = conf.Config(\n",
        "    config_path=f\"{workspace_path}/howtofit/config\",\n",
        "    output_path=f\"{workspace_path}/howtofit/output\",\n",
        ")"
      ],
      "outputs": [],
      "execution_count": null
    },
    {
      "cell_type": "markdown",
      "metadata": {},
      "source": [
        "We're now going to perform multiple fits, where each fit trims the data-set that is fitted.\n",
        "To do this, we'll set up phases with the phase-settings 'data_trim_left' and 'data_trim_right'.\n",
        "\n",
        "- data_trim_left:\n",
        "\n",
        "  The dataset's image and noise-map are trimmed and removed from the left (e.g. 1d index values from 0).\n",
        "  For example, if the dataset has shape (100,) and we set data_trim_left=10, the dataset that is fitted will have\n",
        "  shape (90,). The mask is trimmed in the same way.\n",
        "\n",
        "- data_trim_right:\n",
        "\n",
        "  This behaves the same as data_trim_left, however data is removed from the right (e.g. 1D index values from the\n",
        "  shape of the 1D data).\n",
        "\n",
        "For our first phase, we will omit both the phase setting (by setting it to None) and perform the fit from tutorial\n",
        "4 where we fit a single Gaussian profile to data composed of a single Gaussian (unlike tutorial 4, we'll use a\n",
        "CollectionPriorModel to do this)."
      ]
    },
    {
      "cell_type": "code",
      "metadata": {},
      "source": [
        "phase = htf.Phase(\n",
        "    phase_name=\"phase_t7\",\n",
        "    profiles=af.CollectionPriorModel(gaussian=htf.profiles.Gaussian),\n",
        "    settings=htf.PhaseSettings(data_trim_left=None, data_trim_right=None),\n",
        "    search=af.Emcee(),\n",
        ")"
      ],
      "outputs": [],
      "execution_count": null
    },
    {
      "cell_type": "markdown",
      "metadata": {},
      "source": [
        "Import the simulator module, set up the Dataset and mask and set up the dataset."
      ]
    },
    {
      "cell_type": "code",
      "metadata": {},
      "source": [
        "from autofit_workspace.howtofit.simulators.chapter_1 import gaussian_x1\n",
        "\n",
        "dataset = htf.Dataset(data=gaussian_x1.data, noise_map=gaussian_x1.noise_map)\n",
        "mask = np.full(fill_value=False, shape=dataset.data.shape)\n",
        "\n",
        "print(\n",
        "    \"Emcee has begun running - checkout the autofit_workspace/howtofit/chapter_1_introduction/output/phase_t6\"\n",
        "    \"folder for live output of the results.\"\n",
        "    \"This Jupyter notebook cell with progress once Emcee has completed - this could take a few minutes!\"\n",
        ")\n",
        "\n",
        "phase.run(dataset=dataset, mask=mask)\n",
        "\n",
        "print(\"Emcee has finished run - you may now continue the notebook.\")"
      ],
      "outputs": [],
      "execution_count": null
    },
    {
      "cell_type": "markdown",
      "metadata": {},
      "source": [
        "Okay, lets look at what happened differently in this phase. To begin, lets note the output directory:\n",
        "\n",
        "'autofit_workspace/howtofit/chapter_1_introduction/tutorial_7_phase_customization/output/phase_t7/settings'\n",
        "\n",
        "There is a small change to this directory compared to tutorial 6, there is a new folder 'settings' within which the\n",
        "results are stored. It'll be clear why this is in a moment.\n",
        "\n",
        "Next, we're going to customize and run a phase using the data_trim_left and right parameters. First, we create a \n",
        "PhaseSettings object using our input values of these parameters. "
      ]
    },
    {
      "cell_type": "code",
      "metadata": {},
      "source": [
        "settings = htf.PhaseSettings(data_trim_left=20, data_trim_right=30)"
      ],
      "outputs": [],
      "execution_count": null
    },
    {
      "cell_type": "markdown",
      "metadata": {},
      "source": [
        "We now create a new phase with these settings and run it (note that we haven't changed the phase_name from 'phase_t7', \n",
        "which you might think would cause conflicts in the path the results are output to)."
      ]
    },
    {
      "cell_type": "code",
      "metadata": {},
      "source": [
        "phase = htf.Phase(\n",
        "    phase_name=\"phase_t7\",\n",
        "    profiles=af.CollectionPriorModel(gaussian=htf.profiles.Gaussian),\n",
        "    settings=settings,\n",
        "    search=af.Emcee(),\n",
        ")\n",
        "\n",
        "print(\n",
        "    \"Emcee has begun running - checkout the autofit_workspace/howtofit/chapter_1_introduction/output/phase_t6\"\n",
        "    \"folder for live output of the results.\"\n",
        "    \"This Jupyter notebook cell with progress once Emcee has completed - this could take a few minutes!\"\n",
        ")\n",
        "\n",
        "phase.run(dataset=dataset, mask=mask)\n",
        "\n",
        "print(\"Emcee has finished run - you may now continue the notebook.\")"
      ],
      "outputs": [],
      "execution_count": null
    },
    {
      "cell_type": "markdown",
      "metadata": {},
      "source": [
        "You'll note the results are now in a slightly different directory to the fit performed above:\n",
        "\n",
        " 'autofit_workspace/howtofit/chapter_1_introduction/tutorial_7_phase_customization/output/phase_example/settings__trim_left_20__trim_right_30'\n",
        "\n",
        "By customizing the phase's settings, PyAutoFit has changed it output path using a tag for this phase. There are two\n",
        "reasons PyAutoFit does this:\n",
        "\n",
        " 1) Tags describes the analysis, making it explicit what was done to the dataset for the fit.\n",
        "\n",
        " 2) Tags create a unique output path, allowing you to compare results of phases that use different settings. Equally,\n",
        " if you run multiple phases with different settings this ensures the non-linear search (e.g. Emcee) won't\n",
        " inadvertantly use results generated via a different analysis method.\n",
        "\n",
        "You should now check out the 'settings.py' and 'meta_dataset.py' modules in the 'phase' package, to see how we \n",
        "implemented this.\n",
        "\n",
        "In this tutorial, the phase setting changed the data-set that was fitted. However, phase settings do not necessarily\n",
        "need to customize the data-set. For example, they could control some aspect of the model, for example the precision\n",
        "by which the model image is numerically calculated. For more complex fitting procedures, settings could control\n",
        "whether certain features are used, which when turned on / off reduce the accuracy of the model at the expensive of\n",
        "greater computational run-time.\n",
        "\n",
        "Phase settings are project specific and it could well be your modeling problem is simple enough not to need them.\n",
        "However, if it does, remember that phase settings are a powerful means to fit models using different settings and\n",
        "compare whether a setting does or does not change the model inferred. In later chapters, we'll discuss more complex\n",
        "model-fitting procedures that could use 'fast' less accurate settings to initialize the model-fit, but switch to\n",
        "slower more accurate settings later on."
      ]
    }
  ],
  "metadata": {
    "anaconda-cloud": {},
    "kernelspec": {
      "display_name": "Python 3",
      "language": "python",
      "name": "python3"
    },
    "language_info": {
      "codemirror_mode": {
        "name": "ipython",
        "version": 3
      },
      "file_extension": ".py",
      "mimetype": "text/x-python",
      "name": "python",
      "nbconvert_exporter": "python",
      "pygments_lexer": "ipython3",
      "version": "3.6.1"
    }
  },
  "nbformat": 4,
  "nbformat_minor": 1
}