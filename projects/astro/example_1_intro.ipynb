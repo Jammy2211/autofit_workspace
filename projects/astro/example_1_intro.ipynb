{
  "cells": [
    {
      "cell_type": "markdown",
      "metadata": {},
      "source": [
        "Project: Astro\n",
        "==============\n",
        "\n",
        "This project uses the astrophysical phenomena of Strong Gravitational Lensing to illustrate multi-level model\n",
        "composition and fitting with **PyAutoFit**.\n",
        "\n",
        "A strong gravitational lens is a system where two (or more) galaxies align perfectly down our line of sight from Earth\n",
        "such that the foreground galaxy's mass deflects the light of a background source galaxy(s).\n",
        "\n",
        "When the alignment is just right and the lens is massive enough, the background source galaxy appears multiple\n",
        "times. The schematic below shows such a system, where light-rays from the source are deflected around the lens galaxy\n",
        "to the observer following multiple distinct paths.\n",
        "\n",
        "![Schematic of Gravitational Lensing](https://raw.githubusercontent.com/Jammy2211/PyAutoLens/main/docs/overview/images/overview_1_lensing/schematic.jpg)\n",
        "**Credit: F. Courbin, S. G. Djorgovski, G. Meylan, et al., Caltech / EPFL / WMKO**\n",
        "https://www.astro.caltech.edu/~george/qsolens/\n",
        "\n",
        "As an observer, we don't see the source's true appearance (e.g. as the red round blob of light). Instead, we only\n",
        "observe its light after it has been deflected and lensed by the foreground galaxies (e.g. as the two distinct\n",
        "red multiple images in the image on the left). We will of course also see the emission of the foreground\n",
        "galaxy (in blue).\n",
        "\n",
        "You can read more about gravitational lensing as the following link:\n",
        "\n",
        "https://en.wikipedia.org/wiki/Gravitational_lens\n",
        "\n",
        "__PyAutoLens__\n",
        "\n",
        "Strong gravitational lensing is the original science case that sparked the development of **PyAutoFit**, which is\n",
        "a spin off of our astronomy software **PyAutoLens** `https://github.com/Jammy2211/PyAutoLens`.\n",
        "\n",
        "We'll use **PyAutoLens** to illustrate how the tools we developed with **PyAutoFit** allowed us to\n",
        "ensure **PyAutoLens**'s code-base was extensible and easy to maintain.\n",
        "\n",
        "__Multi-Level Models__\n",
        "\n",
        "Strong lensing is a great case study for using **PyAutoFit**, due to the multi-component nature of how one composes\n",
        "a strong lens model. To model a strong lens, one needs to model the light and mass of each galaxy in the system,\n",
        "where each galaxy is a model in itself, and the galaxies are combined into one overall \"lens model\".\n",
        "\n",
        "This example project uses **PyAutoFit** to compose and fit models of a strong lens, in particular highlighting\n",
        "**PyAutoFits** multi-level model composition. I recommend you check out the following description of this feature on\n",
        "our readthedocs first, which uses this strong lensing example to give a high-level overview of multi-level models:\n",
        "\n",
        "https://pyautofit.readthedocs.io/en/latest/graphical/composition.html\n",
        "\n",
        "__Strong Lens Modeling__\n",
        "\n",
        "The models are fitted to Hubble Space Telescope imaging of a real strong lens system and will allow us to come up\n",
        "with a description of how light is deflected on its path through the Universe.\n",
        "\n",
        "This project consists of two example scripts / notebooks:\n",
        "\n",
        " 1) `example_1_intro`: An introduction to strong lensing, and the various parts of the project's source code that are\n",
        " used to represent a strong lens galaxy.\n",
        "\n",
        " 2) `example_2_multi_level_model`: Using **PyAutoFit** to model a strong lens, with a strong emphasis on the\n",
        " multi-level model API.\n",
        "\n",
        "__This Example__\n",
        "\n",
        "This introduction primarily focuses on what strong lensing is, how we define the individual model-components and fit\n",
        "a strong lens model to data. It does not make much use of **PyAutoFit**, but it does provide a clear understanding of\n",
        "the model so that **PyAutoFit**'s use in example 2 is clear.\n",
        "\n",
        "Note that import `import src as astro`. The package `src` contains all the code we need for this example Astronomy\n",
        "use case, and can be thought of as the source-code you would write to perform model-fitting via **PyAutoFit**. The\n",
        "module `src/__init__.py` performs a series of imports that are used throughout this lecture to provide convenient\n",
        "access to different parts of the source code."
      ]
    },
    {
      "cell_type": "code",
      "metadata": {},
      "source": [
        "%matplotlib inline\n",
        "from pyprojroot import here\n",
        "workspace_path = str(here())\n",
        "%cd $workspace_path\n",
        "print(f\"Working Directory has been set to `{workspace_path}`\")\n",
        "\n",
        "import src as astro\n",
        "import matplotlib.pyplot as plt\n",
        "import numpy as np\n",
        "from os import path"
      ],
      "outputs": [],
      "execution_count": null
    },
    {
      "cell_type": "markdown",
      "metadata": {},
      "source": [
        "__Plot__\n",
        "\n",
        "We will plot a lot of arrays of 2D data and grids of 2D coordinates in this example, so lets make a convenience \n",
        "functions."
      ]
    },
    {
      "cell_type": "code",
      "metadata": {},
      "source": [
        "\n",
        "\n",
        "def plot_array(array, title=None, norm=None):\n",
        "    plt.imshow(array, norm=norm)\n",
        "    plt.colorbar()\n",
        "    plt.title(title)\n",
        "    plt.show()\n",
        "    plt.close()\n",
        "\n",
        "\n",
        "def plot_grid(grid, title=None):\n",
        "    plt.scatter(x=grid[:, :, 0], y=grid[:, :, 1], s=1)\n",
        "    plt.title(title)\n",
        "    plt.show()\n",
        "    plt.close()\n"
      ],
      "outputs": [],
      "execution_count": null
    },
    {
      "cell_type": "markdown",
      "metadata": {},
      "source": [
        "__Data__\n",
        "\n",
        "First, lets load and plot Hubble Space Telescope imaging data of the strong gravitational lens called SDSSJ2303+1422, \n",
        "where this data includes:\n",
        " \n",
        " 1) The image of the strong lens, which is the data we'll fit.\n",
        " 2) The noise in every pixel of this image, which will be used when evaluating the log likelihood."
      ]
    },
    {
      "cell_type": "code",
      "metadata": {},
      "source": [
        "dataset_path = path.join(\"projects\", \"astro\", \"dataset\")\n",
        "\n",
        "image = np.load(file=path.join(dataset_path, \"image.npy\"))\n",
        "noise_map = np.load(file=path.join(dataset_path, \"noise_map.npy\"))\n",
        "\n",
        "plot_array(array=image, title=\"Image of Strong Lens SDSSJ2303+1422\")\n",
        "plot_array(array=noise_map, title=\"Noise Map of Strong Lens SDSSJ2303+1422\")"
      ],
      "outputs": [],
      "execution_count": null
    },
    {
      "cell_type": "markdown",
      "metadata": {},
      "source": [
        "In the image of the strong lens two distinct objects can be seen:\n",
        "\n",
        " 1) A central blob of light, corresponding to the foreground lens galaxy whose mass is responsible for deflecting light.\n",
        " 2) A surrounding ring of light, which is the lensed background source.\n",
        " \n",
        "__Grid__\n",
        " \n",
        "To perform strong lensing, we need a grid of (x,y) coordinates which we map throughout the Universe as if their path\n",
        "is deflected. For this, we create a simple 2D grid of coordinates below where the origin is (0.0, 0.0) and the size of\n",
        "a pixel is 0.05, which corresponds to the resolution of our `image`.\n",
        "\n",
        "(The grid below is created using the python script `astro/dataset/grid.py` and is simply a uniform 2D grid of\n",
        "coordinates)."
      ]
    },
    {
      "cell_type": "code",
      "metadata": {},
      "source": [
        "grid = np.load(file=path.join(dataset_path, \"grid.npy\"))\n",
        "\n",
        "plot_grid(\n",
        "    grid=grid,\n",
        "    title=\"Cartesian grid of (x,y) coordinates aligned with strong lens dataset\",\n",
        ")"
      ],
      "outputs": [],
      "execution_count": null
    },
    {
      "cell_type": "markdown",
      "metadata": {},
      "source": [
        "__Light Profiles__\n",
        "\n",
        "Our model of a strong lens must include a description of the light of each galaxy, which we call a 'light profile'.\n",
        "In the source-code of this example project, specifically the module `src/light_profile_list.py` you will see there\n",
        "are two light profile classes named `LightDeVaucouleurs` and `LightExponential`.\n",
        "\n",
        "These Python classes are the model components we will use to represent each galaxy's light and they behave analogous \n",
        "to the `Gaussian` class seen in other tutorials. The input parameters of their `__init__` constructor (e.g. centre, \n",
        "axis_ratio, angle) are their model parameters that may be fitted for by a non-linear search.\n",
        "\n",
        "These classes also contain functions which create an image from the light profile if an input grid of (x,y) 2D \n",
        "coordinates are input, which we use below to create an image of a light profile."
      ]
    },
    {
      "cell_type": "code",
      "metadata": {},
      "source": [
        "light_profile = astro.lp.LightExponential(\n",
        "    centre=(0.01, 0.01), axis_ratio=0.7, angle=45.0, normalization=1.0, radius=2.0\n",
        ")\n",
        "light_image = light_profile.image_from_grid(grid=grid)\n",
        "\n",
        "plot_array(array=light_image, title=\"Image of an Exponential light profile.\")"
      ],
      "outputs": [],
      "execution_count": null
    },
    {
      "cell_type": "markdown",
      "metadata": {},
      "source": [
        "__Mass Profiles__\n",
        "\n",
        "Our model also includes the mass of the foreground lens galaxy, called a 'mass profile'. In the source-code of the \n",
        "example project, specifically the module `src/mass_profile_list.py` you will see there is a mass profile class named \n",
        "`MassIsothermal`. Like the light profile, this will be a model-component **PyAutoFit** fits via a non-linear search.\n",
        "\n",
        "The class also contains functions which create the 'deflections', which describes the angle that light is deflected by\n",
        "in the x and y components of its coordinates. A higher mass galaxy, which bends light more, will have higher values\n",
        "of the deflection angles plotted below:"
      ]
    },
    {
      "cell_type": "code",
      "metadata": {},
      "source": [
        "mass_profile = astro.mp.MassIsothermal(\n",
        "    centre=(0.01, 0.01), axis_ratio=0.7, angle=45.0, mass=0.5\n",
        ")\n",
        "mass_deflections = mass_profile.deflections_from_grid(grid=grid)\n",
        "\n",
        "plot_array(\n",
        "    array=mass_deflections[:, :, 0],\n",
        "    title=\"X-component of the deflection angles of a Isothermal mass profile.\",\n",
        ")\n",
        "plot_array(\n",
        "    array=mass_deflections[:, :, 1],\n",
        "    title=\"Y-component of the deflection angles of a Isothermal mass profile.\",\n",
        ")"
      ],
      "outputs": [],
      "execution_count": null
    },
    {
      "cell_type": "markdown",
      "metadata": {},
      "source": [
        "__Ray Tracing__\n",
        "\n",
        "The deflection angles describe how our (x,y) grid of coordinates are deflected by the mass of the foreground galaxy.\n",
        "We can therefore ray-trace the grid aligned with SDSSJ2303+1422 using the mass profile above and plot a grid of\n",
        "coordinates in the reference frame of before their light is gravitationally lensed:"
      ]
    },
    {
      "cell_type": "code",
      "metadata": {},
      "source": [
        "traced_grid = grid - mass_deflections\n",
        "\n",
        "plot_grid(grid=traced_grid, title=\"Cartesian grid of (x,y) traced coordinates.\")"
      ],
      "outputs": [],
      "execution_count": null
    },
    {
      "cell_type": "markdown",
      "metadata": {},
      "source": [
        "By inputting this traced grid of (x,y) coordinates into our light profile, we can create an image of the galaxy as if\n",
        "it were gravitationally lensed by the mass profile."
      ]
    },
    {
      "cell_type": "code",
      "metadata": {},
      "source": [
        "traced_light_image = light_profile.image_from_grid(grid=traced_grid)\n",
        "\n",
        "plot_array(\n",
        "    array=traced_light_image,\n",
        "    title=\"Image of a gravitationally lensed Exponential light profile.\",\n",
        ")"
      ],
      "outputs": [],
      "execution_count": null
    },
    {
      "cell_type": "markdown",
      "metadata": {},
      "source": [
        "__Galaxy__\n",
        "\n",
        "In the `src/galaxy.py` module we define the `Galaxy` class, which is a collection of light and mass profiles at an \n",
        "input redshift. For strong lens modeling, we have to use `Galaxy` objects, as the redshifts define how ray-tracing is\n",
        "performed.\n",
        "\n",
        "Below, we create two instances of the `Galaxy` class, representing the lens and source galaxies in a strong lens system."
      ]
    },
    {
      "cell_type": "code",
      "metadata": {},
      "source": [
        "light_profile = astro.lp.LightDeVaucouleurs(\n",
        "    centre=(0.01, 0.01), axis_ratio=0.9, angle=45.0, normalization=0.1, radius=1.0\n",
        ")\n",
        "mass_profile = astro.mp.MassIsothermal(\n",
        "    centre=(0.01, 0.01), axis_ratio=0.7, angle=45.0, mass=0.8\n",
        ")\n",
        "lens_galaxy = astro.Galaxy(\n",
        "    redshift=0.5, light_profile_list=[light_profile], mass_profile_list=[mass_profile]\n",
        ")\n",
        "\n",
        "light_profile = astro.lp.LightExponential(\n",
        "    centre=(0.1, 0.1), axis_ratio=0.5, angle=80.0, normalization=1.0, radius=5.0\n",
        ")\n",
        "source_galaxy = astro.Galaxy(\n",
        "    redshift=0.5, light_profile_list=[light_profile], mass_profile_list=[mass_profile]\n",
        ")"
      ],
      "outputs": [],
      "execution_count": null
    },
    {
      "cell_type": "markdown",
      "metadata": {},
      "source": [
        "A galaxy's image is the sum of its light profile images, and its deflection angles are the sum of its mass profile\n",
        "deflection angles.\n",
        "\n",
        "To illustrate this, lets plot the lens galaxy's light profile image:"
      ]
    },
    {
      "cell_type": "code",
      "metadata": {},
      "source": [
        "galaxy_image = lens_galaxy.image_from_grid(grid=grid)\n",
        "\n",
        "plot_array(array=galaxy_image, title=\"Image of the Lens Galaxy.\")"
      ],
      "outputs": [],
      "execution_count": null
    },
    {
      "cell_type": "markdown",
      "metadata": {},
      "source": [
        "__Data Fitting__\n",
        "\n",
        "We can create an overall image of the strong lens by:\n",
        "\n",
        " 1) Creating an image of the lens galaxy.\n",
        " 2) Computing the deflection angles of the lens galaxy.\n",
        " 3) Ray-tracing light to the source galaxy reference frame and using its light profile to make its image."
      ]
    },
    {
      "cell_type": "code",
      "metadata": {},
      "source": [
        "lens_image = lens_galaxy.image_from_grid(grid=grid)\n",
        "lens_deflections = lens_galaxy.deflections_from_grid(grid=grid)\n",
        "\n",
        "traced_grid = grid - lens_deflections\n",
        "\n",
        "source_image = source_galaxy.image_from_grid(grid=traced_grid)\n",
        "\n",
        "model_image = lens_image + source_image\n",
        "\n",
        "plot_array(array=model_image, title=\"Image of the overall Strong Lens System.\")"
      ],
      "outputs": [],
      "execution_count": null
    },
    {
      "cell_type": "markdown",
      "metadata": {},
      "source": [
        "By subtracting this model image from the data, we can create a 2D residual map. This is equivalent to the residual maps\n",
        "we made in the 1D Gaussian examples, except for 2D imaging data.\n",
        "\n",
        "Clearly, the random lens model we used in this example does not provide a good fit to SDSSJ2303+1422."
      ]
    },
    {
      "cell_type": "code",
      "metadata": {},
      "source": [
        "residual_map = image - model_image\n",
        "\n",
        "plot_array(array=residual_map, title=\"Residual Map of fit to SDSSJ2303+1422\")"
      ],
      "outputs": [],
      "execution_count": null
    },
    {
      "cell_type": "markdown",
      "metadata": {},
      "source": [
        "Just like we did for the 1D `Gaussian` fitting examples, we can use the noise-map to compute the normalized residuals \n",
        "and chi-squared map of the lens model."
      ]
    },
    {
      "cell_type": "code",
      "metadata": {},
      "source": [
        "normalized_residual_map = residual_map / noise_map\n",
        "chi_squared_map = (normalized_residual_map) ** 2.0\n",
        "\n",
        "plot_array(\n",
        "    array=normalized_residual_map,\n",
        "    title=\"Normalized Residual Map of fit to SDSSJ2303+1422\",\n",
        ")\n",
        "plot_array(array=chi_squared_map, title=\"Chi Squared Map of fit to SDSSJ2303+1422\")"
      ],
      "outputs": [],
      "execution_count": null
    },
    {
      "cell_type": "markdown",
      "metadata": {},
      "source": [
        "Finally, we can compute the log likelihood of this lens model, which we will use in the next example to fit the lens model \n",
        "to data with a non-linear search."
      ]
    },
    {
      "cell_type": "code",
      "metadata": {},
      "source": [
        "chi_squared = np.sum(chi_squared_map)\n",
        "noise_normalization = np.sum(np.log(2 * np.pi * noise_map**2.0))\n",
        "\n",
        "log_likelihood = -0.5 * (chi_squared + noise_normalization)\n",
        "\n",
        "print(log_likelihood)"
      ],
      "outputs": [],
      "execution_count": null
    },
    {
      "cell_type": "markdown",
      "metadata": {},
      "source": [
        "__Wrap Up__\n",
        "\n",
        "In this example, we introduced the astrophysical phenomena of strong gravitational lensing, and gave an overview of how\n",
        "one can create a model for a strong lens system and fit it to imaging data. \n",
        "\n",
        "We ended by defining the log likelihood of the model-fit, which will form the `log_likelihood_function` of the\n",
        "`Analysis` class we use in the next example, which fits this strong lens using **PyAutoFit**.\n",
        "\n",
        "There is one thing you should think about, how would we translate the above classes (e.g. `LightExponential`, \n",
        "`MassIsothermal` and `Galaxy`) using the **PyAutoFit** `Model` and `Collection` objects? The `Galaxy` class contained \n",
        "instances of the light and mass profile classes, meaning the standard use of the `Model` and `Collection` objects could \n",
        "not handle this.\n",
        "\n",
        "This is where multi-level models come in, as will be shown in the next example!"
      ]
    },
    {
      "cell_type": "code",
      "metadata": {},
      "source": [],
      "outputs": [],
      "execution_count": null
    }
  ],
  "metadata": {
    "anaconda-cloud": {},
    "kernelspec": {
      "display_name": "Python 3",
      "language": "python",
      "name": "python3"
    },
    "language_info": {
      "codemirror_mode": {
        "name": "ipython",
        "version": 3
      },
      "file_extension": ".py",
      "mimetype": "text/x-python",
      "name": "python",
      "nbconvert_exporter": "python",
      "pygments_lexer": "ipython3",
      "version": "3.6.1"
    }
  },
  "nbformat": 4,
  "nbformat_minor": 4
}