{
  "cells": [
    {
      "cell_type": "markdown",
      "metadata": {},
      "source": [
        "Project: Cosmology\n",
        "==================\n",
        "\n",
        "This project uses the astrophysical phenomena of Strong Gravitational Lensing to illustrate basic and advanced model\n",
        "composition and fitting with **PyAutoFit**. The first tutorial described what a strong gravitational lens is and how\n",
        "we build and fit a model of one.\n",
        "\n",
        "In this example, we use **PyAutoFit**'s multi-level models to compose a strong lens model consisting of a lens and\n",
        "source galaxy, and fit it to the data on SDSSJ2303+1422.\n",
        "\n",
        "__Config Path__\n",
        "\n",
        "We first set up the path to this projects config files, which is located at `autofit_workspace/projects/cosmology/config`.\n",
        "\n",
        "This includes the default priors for the lens model, check it out!"
      ]
    },
    {
      "cell_type": "code",
      "metadata": {},
      "source": [
        "\n",
        "import os\n",
        "from os import path\n",
        "from autoconf import conf\n",
        "\n",
        "cwd = os.getcwd()\n",
        "config_path = path.join(cwd, \"projects\", \"cosmology\", \"config\")\n",
        "conf.instance.push(new_path=config_path)\n",
        "\n",
        "%matplotlib inline\n",
        "from pyprojroot import here\n",
        "workspace_path = str(here())\n",
        "%cd $workspace_path\n",
        "print(f\"Working Directory has been set to `{workspace_path}`\")\n",
        "\n",
        "import autofit as af\n",
        "import src as cosmo\n",
        "import matplotlib.pyplot as plt\n",
        "import numpy as np"
      ],
      "outputs": [],
      "execution_count": null
    },
    {
      "cell_type": "markdown",
      "metadata": {},
      "source": [
        "__Plot__\n",
        "\n",
        "First, lets again define the plotting convenience functions we used in the previous example."
      ]
    },
    {
      "cell_type": "code",
      "metadata": {},
      "source": [
        "\n",
        "\n",
        "def plot_array(array, title=None, norm=None):\n",
        "    plt.imshow(array, norm=norm)\n",
        "    plt.colorbar()\n",
        "    plt.title(title)\n",
        "    plt.show()\n",
        "    plt.close()\n",
        "\n",
        "\n",
        "def plot_grid(grid, title=None):\n",
        "    plt.scatter(x=grid[:, :, 0], y=grid[:, :, 1], s=1)\n",
        "    plt.title(title)\n",
        "    plt.show()\n",
        "    plt.close()\n"
      ],
      "outputs": [],
      "execution_count": null
    },
    {
      "cell_type": "markdown",
      "metadata": {},
      "source": [
        "__Data__\n",
        "\n",
        "Now lets load and plot Hubble Space Telescope imaging data of the strong gravitational lens SDSSJ2303+1422."
      ]
    },
    {
      "cell_type": "code",
      "metadata": {},
      "source": [
        "dataset_path = path.join(\"projects\", \"cosmology\", \"dataset\")\n",
        "\n",
        "data = np.load(file=path.join(dataset_path, \"data.npy\"))\n",
        "plot_array(array=data, title=\"Image of Strong Lens SDSSJ2303+1422\")\n",
        "\n",
        "noise_map = np.load(file=path.join(dataset_path, \"noise_map.npy\"))\n",
        "plot_array(array=noise_map, title=\"Noise Map of Strong Lens SDSSJ2303+1422\")\n",
        "\n",
        "psf = np.load(file=path.join(dataset_path, \"psf.npy\"))\n",
        "plot_array(array=psf, title=\"Point Spread Function of Strong Lens SDSSJ2303+1422\")\n",
        "\n",
        "grid = np.load(file=path.join(dataset_path, \"grid.npy\"))\n",
        "\n",
        "plot_grid(\n",
        "    grid=grid,\n",
        "    title=\"Cartesian grid of (x,y) coordinates aligned with strong lens dataset\",\n",
        ")"
      ],
      "outputs": [],
      "execution_count": null
    },
    {
      "cell_type": "markdown",
      "metadata": {},
      "source": [
        "__Multi-level Model__\n",
        "\n",
        "In the previous example, we saw that we can use instances of the light profiles, mass profiles and galaxy objects to\n",
        "perform strong lens ray-tracing calculations:"
      ]
    },
    {
      "cell_type": "code",
      "metadata": {},
      "source": [
        "light_profile = cosmo.lp.LightDeVaucouleurs(\n",
        "    centre=(0.01, 0.01), axis_ratio=0.7, angle=45.0, intensity=1.0, effective_radius=2.0\n",
        ")\n",
        "mass_profile = cosmo.mp.MassIsothermal(\n",
        "    centre=(0.01, 0.01), axis_ratio=0.7, angle=45.0, mass=0.5\n",
        ")\n",
        "galaxy = cosmo.Galaxy(\n",
        "    redshift=0.5, light_profile_list=[light_profile], mass_profile_list=[mass_profile]\n",
        ")"
      ],
      "outputs": [],
      "execution_count": null
    },
    {
      "cell_type": "markdown",
      "metadata": {},
      "source": [
        "In this example, we want to perform a model-fit using a non-linear search, where the `Galaxy` is a `Model`, but it\n",
        "contains model subcomponents that are its individual light and mass profiles. \n",
        "\n",
        "Here is a pictoral representation of the model:\n",
        "\n",
        "![Strong Lens Model](https://github.com/rhayes777/PyAutoFit/blob/main/docs/overview/image/lens_model.png?raw=true \"cluster\")\n",
        "\n",
        "__Model Composition__\n",
        "\n",
        "How do we compose a strong lens model where a `Galaxy` is a `Model`, but it contains the light and mass profiles \n",
        "as `Model` themselves?\n",
        "\n",
        "We use **PyAutoFit**'s multi-level model composition:"
      ]
    },
    {
      "cell_type": "code",
      "metadata": {},
      "source": [
        "lens = af.Model(\n",
        "    cls=cosmo.Galaxy,  # The overall model object uses this input.\n",
        "    redshift=0.5,\n",
        "    light_profile_list=[\n",
        "        af.Model(cosmo.lp.LightDeVaucouleurs)\n",
        "    ],  # These will be subcomponents of the model.\n",
        "    mass_profile_list=[\n",
        "        af.Model(cosmo.mp.MassIsothermal)\n",
        "    ],  # These will be subcomponents of the model.\n",
        ")\n",
        "\n",
        "print(lens.info)"
      ],
      "outputs": [],
      "execution_count": null
    },
    {
      "cell_type": "markdown",
      "metadata": {},
      "source": [
        "Lets consider what is going on here:\n",
        "\n",
        " 1) We use a `Model` to create the overall model component. The `cls` input is the `Galaxy` class, therefore the \n",
        "    overall model that is created is a `Galaxy`.\n",
        "  \n",
        " 2) **PyAutoFit** next inspects whether the key word argument inputs to the `Model` match any of the `__init__` \n",
        "    constructor arguments of the `Galaxy` class. This determine if these inputs are to be composed as model \n",
        "    subcomponents of the overall `Galaxy` model. \n",
        "\n",
        " 3) **PyAutoFit** matches the `light_profile_list` and  `mass_profile_list` inputs, noting they are passed as separate \n",
        "    lists  containing the `LightDeVaucouleurs` and `MassIsothermal` class. They are both created as subcomponents of \n",
        "    the overall `Galaxy` model.\n",
        "  \n",
        " 4) It also matches the `redshift` input, making it a fixed value of 0.5 for the model and not treating it as a \n",
        "    free parameter.\n",
        " \n",
        "We can confirm this by printing the `total_free_parameters` of the lens, and noting it is 11 (6 parameters for \n",
        "the `LightDeVaucouleurs` and 5 for the `MassIsothermal`)."
      ]
    },
    {
      "cell_type": "code",
      "metadata": {},
      "source": [
        "print(lens.total_free_parameters)\n",
        "print(lens.light_profile_list[0].total_free_parameters)\n",
        "print(lens.mass_profile_list[0].total_free_parameters)"
      ],
      "outputs": [],
      "execution_count": null
    },
    {
      "cell_type": "markdown",
      "metadata": {},
      "source": [
        "The `lens` behaves exactly like the model-components we are used to previously. For example, we can unpack its \n",
        "individual parameters to customize the model, where below we:\n",
        "\n",
        " 1) Fix the light and mass profiles to the centre (0.0, 0.0).\n",
        " 2) Customize the prior on the light profile `axis_ratio`.\n",
        " 3) Fix the `axis_ratio` of the mass profile to 0.8."
      ]
    },
    {
      "cell_type": "code",
      "metadata": {},
      "source": [
        "\n",
        "lens.light_profile_list[0].centre = (0.0, 0.0)\n",
        "lens.light_profile_list[0].axis_ratio = af.UniformPrior(\n",
        "    lower_limit=0.7, upper_limit=0.9\n",
        ")\n",
        "lens.light_profile_list[0].angle = af.UniformPrior(lower_limit=0.0, upper_limit=180.0)\n",
        "lens.light_profile_list[0].intensity = af.LogUniformPrior(\n",
        "    lower_limit=1e-4, upper_limit=1e4\n",
        ")\n",
        "lens.light_profile_list[0].effective_radius = af.UniformPrior(\n",
        "    lower_limit=0.0, upper_limit=5.0\n",
        ")\n",
        "\n",
        "lens.mass_profile_list[0].centre = (0.0, 0.0)\n",
        "lens.mass_profile_list[0].axis_ratio = 0.8\n",
        "lens.mass_profile_list[0].angle = af.UniformPrior(lower_limit=0.0, upper_limit=180.0)\n",
        "lens.mass_profile_list[0].mass = af.UniformPrior(lower_limit=0.0, upper_limit=2.0)\n",
        "\n",
        "print(lens.info)"
      ],
      "outputs": [],
      "execution_count": null
    },
    {
      "cell_type": "markdown",
      "metadata": {},
      "source": [
        "__Alternative API__\n",
        "\n",
        "We can create the `Galaxy` model component with the exact same customization by creating each profile as a `Model` and\n",
        "passing these to the galaxy `Model`. "
      ]
    },
    {
      "cell_type": "code",
      "metadata": {},
      "source": [
        "light = af.Model(cosmo.lp.LightDeVaucouleurs)\n",
        "\n",
        "light.centre = af.UniformPrior(lower_limit=-0.05, upper_limit=0.05)\n",
        "light.axis_ratio = af.UniformPrior(lower_limit=0.7, upper_limit=0.9)\n",
        "light.angle = af.UniformPrior(lower_limit=0.0, upper_limit=180.0)\n",
        "light.intensity = af.LogUniformPrior(lower_limit=1e-4, upper_limit=1e4)\n",
        "light.effective_radius = af.UniformPrior(lower_limit=0.0, upper_limit=5.0)\n",
        "\n",
        "\n",
        "mass = af.Model(cosmo.mp.MassIsothermal)\n",
        "\n",
        "mass.centre = (0.0, 0.0)\n",
        "mass.axis_ratio = af.UniformPrior(lower_limit=0.7, upper_limit=1.0)\n",
        "mass.angle = af.UniformPrior(lower_limit=0.0, upper_limit=180.0)\n",
        "mass.mass = af.UniformPrior(lower_limit=0.0, upper_limit=4.0)\n",
        "\n",
        "lens = af.Model(\n",
        "    cosmo.Galaxy, redshift=0.5, light_profile_list=[light], mass_profile_list=[mass]\n",
        ")\n",
        "\n",
        "print(lens.info)"
      ],
      "outputs": [],
      "execution_count": null
    },
    {
      "cell_type": "markdown",
      "metadata": {},
      "source": [
        "We can now create a model of our source galaxy using the same API."
      ]
    },
    {
      "cell_type": "code",
      "metadata": {},
      "source": [
        "light = af.Model(cosmo.lp.LightExponential)\n",
        "\n",
        "light.centre.centre_0 = af.GaussianPrior(mean=0.0, sigma=0.3)\n",
        "light.centre.centre_1 = af.GaussianPrior(mean=0.0, sigma=0.3)\n",
        "light.axis_ratio = af.UniformPrior(lower_limit=0.7, upper_limit=1.0)\n",
        "light.angle = af.UniformPrior(lower_limit=0.0, upper_limit=180.0)\n",
        "light.intensity = af.LogUniformPrior(lower_limit=1e-4, upper_limit=1e4)\n",
        "light.effective_radius = af.UniformPrior(lower_limit=0.0, upper_limit=1.0)\n",
        "\n",
        "source = af.Model(cosmo.Galaxy, redshift=1.0, light_profile_list=[light])\n",
        "\n",
        "print(source.info)"
      ],
      "outputs": [],
      "execution_count": null
    },
    {
      "cell_type": "markdown",
      "metadata": {},
      "source": [
        "We can now create our overall strong lens model, using a `Collection` in the same way we have seen previously."
      ]
    },
    {
      "cell_type": "code",
      "metadata": {},
      "source": [
        "model = af.Collection(galaxies=af.Collection(lens=lens, source=source))\n",
        "\n",
        "print(model.info)"
      ],
      "outputs": [],
      "execution_count": null
    },
    {
      "cell_type": "markdown",
      "metadata": {},
      "source": [
        "The model contains both galaxies in the strong lens, alongside all of their light and mass profiles.\n",
        "\n",
        "For every iteration of the non-linear search **PyAutoFit** generates an instance of this model, where all of the\n",
        "`LightDeVaucouleurs`, `MassIsothermal` and `Galaxy` parameters of the are determined via their priors. \n",
        "\n",
        "An example instance is show below:"
      ]
    },
    {
      "cell_type": "code",
      "metadata": {},
      "source": [
        "instance = model.instance_from_prior_medians()\n",
        "\n",
        "print(\"Strong Lens Model Instance:\")\n",
        "print(\"Lens Galaxy = \", instance.galaxies.lens)\n",
        "print(\"Lens Galaxy Light = \", instance.galaxies.lens.profile_list)\n",
        "print(\"Lens Galaxy Light Centre = \", instance.galaxies.lens.profile_list[0].centre)\n",
        "print(\"Lens Galaxy Mass Centre = \", instance.galaxies.lens.mass_profile_list[0].centre)\n",
        "print(\"Source Galaxy = \", instance.galaxies.source)"
      ],
      "outputs": [],
      "execution_count": null
    },
    {
      "cell_type": "markdown",
      "metadata": {},
      "source": [
        "We have successfully composed a multi-level model, which we can fit via a non-linear search.\n",
        "\n",
        "At this point, you should check out the `Analysis` class of this example project, in the \n",
        "module `projects/cosmology/src/analysis.py`. This class serves the same purpose that we have seen in the Gaussian 1D \n",
        "examples, with the `log_likelihood_function` implementing the calculation we showed in the first tutorial.\n",
        "\n",
        "The `path_prefix1 and `name` inputs below sepciify the path and folder where the results of the model-fit are stored\n",
        "in the output folder `autolens_workspace/output`. Results for this tutorial are writtent to hard-disk, due to the \n",
        "longer run-times of the model-fit."
      ]
    },
    {
      "cell_type": "code",
      "metadata": {},
      "source": [
        "\n",
        "search = af.DynestyStatic(\n",
        "    path_prefix=path.join(\"projects\", \"cosmology\"),\n",
        "    name=\"multi_level\",\n",
        "    nlive=50,\n",
        "    iterations_per_update=2500,\n",
        ")\n",
        "\n",
        "analysis = cosmo.Analysis(data=data, noise_map=noise_map, psf=psf, grid=grid)"
      ],
      "outputs": [],
      "execution_count": null
    },
    {
      "cell_type": "markdown",
      "metadata": {},
      "source": [
        "If you comment out the code below, you will perform a lens model fit using the model and analysis class for \n",
        "this project. However, this model-fit is slow to run, and it isn't paramount that you run it yourself.\n",
        "\n",
        "The animation below shows a slide-show of the lens modeling procedure. Many lens models are fitted to the data over\n",
        "and over, gradually improving the quality of the fit to the data and looking more and more like the observed image.\n",
        "\n",
        "![Lens Modeling Animation](https://github.com/Jammy2211/auto_files/blob/main/lensmodel.gif?raw=true \"model\")"
      ]
    },
    {
      "cell_type": "code",
      "metadata": {},
      "source": [
        "\n",
        "result = search.fit(model=model, analysis=analysis)"
      ],
      "outputs": [],
      "execution_count": null
    },
    {
      "cell_type": "markdown",
      "metadata": {},
      "source": [
        "__Extensibility__\n",
        "\n",
        "This example project highlights how multi-level models can make certain model-fitting problem fully extensible. For \n",
        "example:\n",
        "\n",
        " 1) A `Galaxy` class can be created using any combination of light and mass profiles, because it can wrap their\n",
        " `image_from_grid` and `deflections_from_grid` methods as the sum of the individual profiles.\n",
        " \n",
        " 2) The overall strong lens model can contain any number of `Galaxy`'s, as their methods are used \n",
        "    to implement the lensing calculations in the `Analysis` class and `log_likelihood_function`.\n",
        "  \n",
        "For problems of this nature, we can design and write code in a way that fully utilizes **PyAutoFit**'s multi-level\n",
        "modeling features to compose and fits models of arbitrary complexity and dimensionality. \n",
        "\n",
        "__Galaxy Clusters__\n",
        "\n",
        "To illustrate this further, consider the following dataset which is called a \"strong lens galaxy cluster\":\n",
        "\n",
        "![Strong Lens Cluster](https://github.com/rhayes777/PyAutoFit/blob/main/docs/overview/image/cluster_example.jpg?raw=true \"cluster\")\n",
        "\n",
        "For this strong lens, there are many tens of strong lens galaxies as well as multiple background source galaxies. \n",
        "\n",
        "However, despite it being a significantly more complex system than the single-galaxy strong lens we modeled above,\n",
        "our use of multi-level models ensures that we can model such datasets without any additional code development, for\n",
        "example:\n",
        "\n",
        "The lensing calculations in the source code `Analysis` object did not properly account for multiple galaxies \n",
        "(called multi-plane ray tracing). This would need to be updated to properly model a galaxy cluster, but this\n",
        "tutorial shows how a model can be composed for such a system."
      ]
    },
    {
      "cell_type": "code",
      "metadata": {},
      "source": [
        "lens_0 = af.Model(\n",
        "    cosmo.Galaxy,\n",
        "    redshift=0.5,\n",
        "    light_profile_list=[cosmo.lp.LightDeVaucouleurs],\n",
        "    mass_profile_list=[cosmo.mp.MassIsothermal],\n",
        ")\n",
        "\n",
        "lens_1 = af.Model(\n",
        "    cosmo.Galaxy,\n",
        "    redshift=0.5,\n",
        "    light_profile_list=[cosmo.lp.LightDeVaucouleurs],\n",
        "    mass_profile_list=[cosmo.mp.MassIsothermal],\n",
        ")\n",
        "\n",
        "source_0 = af.Model(\n",
        "    cosmo.Galaxy, redshift=1.0, light_profile_list=[af.Model(cosmo.lp.LightExponential)]\n",
        ")\n",
        "\n",
        "# ... repeat for desired model complexity ...\n",
        "\n",
        "model = af.Collection(\n",
        "    galaxies=af.Collection(\n",
        "        lens_0=lens_0,\n",
        "        lens_1=lens_1,\n",
        "        source_0=source_0,\n",
        "        # ... repeat for desired model complexity ...\n",
        "    )\n",
        ")\n",
        "\n",
        "print(model.info)"
      ],
      "outputs": [],
      "execution_count": null
    },
    {
      "cell_type": "markdown",
      "metadata": {},
      "source": [
        "Here is a pictoral representation of a strong lens cluster as a multi-level model:\n",
        "\n",
        "![Strong Lens Cluster Model](https://github.com/rhayes777/PyAutoFit/blob/main/docs/overview/image/lens_model_cluster.png?raw=true \"cluster\")\n",
        "\n",
        "__Wrap Up__\n",
        "\n",
        "Strong gravitational lensing is a great example of a problem that can be approached using multi-level models. \n",
        "\n",
        "At the core of this is how there are many different models one could imagine defining which describe the light or mass \n",
        "of a galaxy. However, all of these models must derive the same fundamental property in order to fit the data, for\n",
        "example the image of a light profile or the deflection angles of the mass profile.\n",
        "\n",
        "The multi-level nature of strong lensing is not unique, and is commonly found in my Astronomy problems and the \n",
        "scientific literature in general. For example Astronomy problems:\n",
        "\n",
        " - Studies of galaxy structure, which represent the surface brightness distributions of galaxies as sums of Sersic\n",
        " profiles (or other parametric equations) to quantify whether they are bulge-like or disk-like.\n",
        " \n",
        " - Studies of galaxy dynamics, which represent the mass distribution of galaxies as sums of profiles like the Isothermal\n",
        " profile.\n",
        " \n",
        " - Studies of the activate galactic nuclei (AGN) of galaxies, where the different components of the AGN are represented\n",
        " as different model components."
      ]
    },
    {
      "cell_type": "code",
      "metadata": {},
      "source": [],
      "outputs": [],
      "execution_count": null
    }
  ],
  "metadata": {
    "anaconda-cloud": {},
    "kernelspec": {
      "display_name": "Python 3",
      "language": "python",
      "name": "python3"
    },
    "language_info": {
      "codemirror_mode": {
        "name": "ipython",
        "version": 3
      },
      "file_extension": ".py",
      "mimetype": "text/x-python",
      "name": "python",
      "nbconvert_exporter": "python",
      "pygments_lexer": "ipython3",
      "version": "3.6.1"
    }
  },
  "nbformat": 4,
  "nbformat_minor": 4
}