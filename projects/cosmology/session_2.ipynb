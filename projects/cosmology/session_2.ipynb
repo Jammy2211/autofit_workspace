{
  "cells": [
    {
      "cell_type": "markdown",
      "metadata": {},
      "source": [
        "Project: Cosmology\n",
        "==================\n",
        "\n",
        "This project uses the astrophysical phenomena of Strong Gravitational Lensing to illustrate multi-level model\n",
        "composition and fitting with **PyAutoFit**.\n",
        "\n",
        "A strong gravitational lens is a system where two (or more) galaxies align perfectly down our line of sight from Earth\n",
        "such that the foreground galaxy's mass deflects the light of a background source galaxy(s).\n",
        "\n",
        "When the alignment is just right and the lens is massive enough, the background source galaxy appears multiple\n",
        "times. The schematic below shows such a system, where light-rays from the source are deflected around the lens galaxy\n",
        "to the observer following multiple distinct paths.\n",
        "\n",
        "![Schematic of Gravitational Lensing](https://raw.githubusercontent.com/Jammy2211/PyAutoLens/main/docs/overview/images/overview_1_lensing/schematic.jpg)\n",
        "**Credit: F. Courbin, S. G. Djorgovski, G. Meylan, et al., Caltech / EPFL / WMKO**\n",
        "https://www.cosmology.caltech.edu/~george/qsolens/\n",
        "\n",
        "As an observer, we don't see the source's true appearance (e.g. the red round blob of light). We only observe its\n",
        "light after it has been deflected and lensed by the foreground galaxies (e.g. as the two distinct red multiple images\n",
        " in the image on the left). We also observe the emission of the foreground galaxy (in blue).\n",
        "\n",
        "You can read more about gravitational lensing as the following link:\n",
        "\n",
        "https://en.wikipedia.org/wiki/Gravitational_lens\n",
        "\n",
        "__PyAutoLens__\n",
        "\n",
        "Strong gravitational lensing is the original science case that sparked the development of **PyAutoFit**, which is\n",
        "a spin off of our astronomy software **PyAutoLens** `https://github.com/Jammy2211/PyAutoLens`.\n",
        "\n",
        "We'll use **PyAutoLens** to illustrate how the tools we developed with **PyAutoFit** allowed us to\n",
        "ensure **PyAutoLens**'s model fitting tools were extensible, easy to maintain and enabled intuitive model composition.\n",
        "\n",
        "__Multi-Level Models__\n",
        "\n",
        "Strong lensing is a great case study for using **PyAutoFit**, due to the multi-component nature of how one composes\n",
        "a strong lens model. A strong lens model consists of light and mass models of each galaxy in the lens system, where\n",
        "each galaxy is a model in itself. The galaxies are combined into one overall \"lens model\", which in later tutorials\n",
        "we will show may also have a Cosmological model.\n",
        "\n",
        "This example project uses **PyAutoFit** to compose and fit models of a strong lens, in particular highlighting\n",
        "**PyAutoFits** multi-level model composition.\n",
        "\n",
        "__Strong Lens Modeling__\n",
        "\n",
        "The models are fitted to Hubble Space Telescope imaging of a real strong lens system and will allow us to come up\n",
        "with a description of how light is deflected on its path through the Universe.\n",
        "\n",
        "This project consists of two example scripts / notebooks:\n",
        "\n",
        " 1) `example_1_intro`: An introduction to strong lensing, and the various parts of the project's source code that are\n",
        "    used to represent a strong lens galaxy.\n",
        "\n",
        " 2) `example_2_multi_level_model`: Using **PyAutoFit** to model a strong lens, with a strong emphasis on the\n",
        "    multi-level model API.\n",
        "\n",
        "__This Example__\n",
        "\n",
        "This introduction primarily focuses on what strong lensing is, how we define the individual model-components and fit\n",
        "a strong lens model to data. It does not make much use of **PyAutoFit**, but it does provide a clear understanding of\n",
        "the model so that **PyAutoFit**'s use in example 2 is clear.\n",
        "\n",
        "Note that import `import src as cosmo`. The package `src` contains all the code we need for this example Cosmology\n",
        "use case, and can be thought of as the source-code you would write to perform model-fitting via **PyAutoFit** for your\n",
        "problem of interest.\n",
        "\n",
        "The module `src/__init__.py` performs a series of imports that are used throughout this lecture to provide convenient\n",
        "access to different parts of the source code."
      ]
    },
    {
      "cell_type": "code",
      "metadata": {},
      "source": [
        "%matplotlib inline\n",
        "from pyprojroot import here\n",
        "workspace_path = str(here())\n",
        "%cd $workspace_path\n",
        "print(f\"Working Directory has been set to `{workspace_path}`\")\n",
        "\n",
        "import src as cosmo\n",
        "import matplotlib.pyplot as plt\n",
        "import numpy as np\n",
        "from scipy import signal\n",
        "from os import path"
      ],
      "outputs": [],
      "execution_count": null
    },
    {
      "cell_type": "markdown",
      "metadata": {},
      "source": [
        "__Plot__\n",
        "\n",
        "We will plot a lot of arrays of 2D data and grids of 2D coordinates in this example, so lets make a convenience \n",
        "functions."
      ]
    },
    {
      "cell_type": "code",
      "metadata": {},
      "source": [
        "\n",
        "\n",
        "def plot_array(array, title=None, norm=None):\n",
        "    plt.imshow(array, norm=norm)\n",
        "    plt.colorbar()\n",
        "    plt.title(title)\n",
        "    plt.show()\n",
        "    plt.close()\n",
        "\n",
        "\n",
        "def plot_grid(grid, title=None):\n",
        "    plt.scatter(x=grid[:, :, 0], y=grid[:, :, 1], s=1)\n",
        "    plt.title(title)\n",
        "    plt.show()\n",
        "    plt.close()\n"
      ],
      "outputs": [],
      "execution_count": null
    },
    {
      "cell_type": "markdown",
      "metadata": {},
      "source": [
        "__Data__\n",
        "\n",
        "First, lets load and plot Hubble Space Telescope imaging data of the strong gravitational lens called SDSSJ2303+1422, \n",
        "where this data includes:\n",
        "\n",
        " 1) The image of the strong lens, which is the data we'll fit.\n",
        " 2) The noise in every pixel of this image, which will be used when evaluating the log likelihood.\n",
        "\n",
        "__Masking__\n",
        "\n",
        "When fitting 2D imaging data, it is common to apply a mask which removes regions of the image that are not relevant to\n",
        "the model fitting.\n",
        "\n",
        "For example, when fitting the strong lens, we remove the edges of the image where the lens and source galaxy's light is \n",
        "not visible.\n",
        "\n",
        "In the strong lens image and noise map below, you can see this has already been performed, with the edge regions\n",
        "blank."
      ]
    },
    {
      "cell_type": "code",
      "metadata": {},
      "source": [
        "dataset_path = path.join(\"projects\", \"cosmology\", \"dataset\")\n",
        "\n",
        "data = np.load(file=path.join(dataset_path, \"data.npy\"))\n",
        "plot_array(array=data, title=\"Image of Strong Lens SDSSJ2303+1422\")\n",
        "\n",
        "noise_map = np.load(file=path.join(dataset_path, \"noise_map.npy\"))\n",
        "plot_array(array=noise_map, title=\"Noise Map of Strong Lens SDSSJ2303+1422\")"
      ],
      "outputs": [],
      "execution_count": null
    },
    {
      "cell_type": "markdown",
      "metadata": {},
      "source": [
        "In the image of the strong lens two distinct objects can be seen:\n",
        "\n",
        " 1) A central blob of light, corresponding to the foreground lens galaxy whose mass is responsible for deflecting light.\n",
        " 2) Two faint arcs of light in the bakcground, which is the lensed background source.\n",
        "\n",
        "__PSF__\n",
        "\n",
        "Another component of imaging data is the Point Spread Function (PSF), which describes how the light of the galaxies\n",
        "are blurred when they enter the Huble Space Telescope's. \n",
        "\n",
        "This is because diffraction occurs when the light enters HST's optics, causing the light to smear out. The PSF is\n",
        "a two dimensional array that describes this blurring via a 2D convolution kernel.\n",
        "\n",
        "When fitting the data below and in the `log_likelihood_function`, you'll see that the PSF is used when creating the \n",
        "model data. This is an example of how an `Analysis` class may be extended to include additional steps in the model\n",
        "fitting procedure."
      ]
    },
    {
      "cell_type": "code",
      "metadata": {},
      "source": [
        "psf = np.load(file=path.join(dataset_path, \"psf.npy\"))\n",
        "plot_array(array=psf, title=\"Point Spread Function of Strong Lens SDSSJ2303+1422\")"
      ],
      "outputs": [],
      "execution_count": null
    },
    {
      "cell_type": "markdown",
      "metadata": {},
      "source": [
        "__Grid__\n",
        "\n",
        "To perform strong lensing, we need a grid of (x,y) coordinates which we map throughout the Universe as if their path\n",
        "is deflected. \n",
        "\n",
        "For this, we create a simple 2D grid of coordinates below where the origin is (0.0, 0.0) and the size of\n",
        "a pixel is 0.05, which corresponds to the resolution of our image `data`. \n",
        "\n",
        "This grid only contains (y,x) coordinates within the cricular mask that was applied to the data, as we only need to\n",
        "perform ray-tracing within this region."
      ]
    },
    {
      "cell_type": "code",
      "metadata": {},
      "source": [
        "grid = np.load(file=path.join(dataset_path, \"grid.npy\"))\n",
        "\n",
        "plot_grid(\n",
        "    grid=grid,\n",
        "    title=\"Cartesian grid of (x,y) coordinates aligned with strong lens dataset\",\n",
        ")"
      ],
      "outputs": [],
      "execution_count": null
    },
    {
      "cell_type": "markdown",
      "metadata": {},
      "source": [
        "__Light Profiles__\n",
        "\n",
        "Our model of a strong lens must include a description of the light of each galaxy, which we call a \"light profile\".\n",
        "In the source-code of this example project, specifically the module `src/light_profiles.py` you will see there\n",
        "are two light profile classes named `LightDeVaucouleurs` and `LightExponential`.\n",
        "\n",
        "These Python classes are the model components we will use to represent each galaxy's light and they behave analogous \n",
        "to the `Gaussian` class seen in other tutorials. The input parameters of their `__init__` constructor (e.g. `centre`, \n",
        "`axis_ratio`, `angle`) are their model parameters that may be fitted for by a non-linear search.\n",
        "\n",
        "These classes also contain functions which create an image from the light profile if an input grid of (x,y) 2D \n",
        "coordinates are input, which we use below to create an image of a light profile."
      ]
    },
    {
      "cell_type": "code",
      "metadata": {},
      "source": [
        "light_profile = cosmo.lp.LightExponential(\n",
        "    centre=(0.01, 0.01), axis_ratio=0.7, angle=45.0, intensity=1.0, effective_radius=2.0\n",
        ")\n",
        "light_image = light_profile.image_from_grid(grid=grid)\n",
        "\n",
        "plot_array(array=light_image, title=\"Image of an Exponential light profile.\")"
      ],
      "outputs": [],
      "execution_count": null
    },
    {
      "cell_type": "markdown",
      "metadata": {},
      "source": [
        "__Mass Profiles__\n",
        "\n",
        "Our model also includes the mass of the foreground lens galaxy, called a 'mass profile'. In the source-code of the \n",
        "example project, specifically the module `src/mass_profiles.py` you will see there is a mass profile class named \n",
        "`MassIsothermal`. Like the light profile, this will be a model-component **PyAutoFit** fits via a non-linear search.\n",
        "\n",
        "The class also contains functions which create the \"deflections angles\", which describe the angles by which light is \n",
        "deflected when it passes the mass of the foreground lens galaxy. These are subtracted from the (y,x) grid above to\n",
        "determine the original coordinates of the source galaxy before lensing.\n",
        "\n",
        "A higher mass galaxy, which bends light more, will have higher values of the deflection angles plotted below:"
      ]
    },
    {
      "cell_type": "code",
      "metadata": {},
      "source": [
        "mass_profile = cosmo.mp.MassIsothermal(\n",
        "    centre=(0.01, 0.01), axis_ratio=0.7, angle=45.0, mass=0.5\n",
        ")\n",
        "mass_deflections = mass_profile.deflections_from_grid(grid=grid)\n",
        "\n",
        "plot_array(\n",
        "    array=mass_deflections[:, :, 0],\n",
        "    title=\"X-component of the deflection angles of a Isothermal mass profile.\",\n",
        ")\n",
        "plot_array(\n",
        "    array=mass_deflections[:, :, 1],\n",
        "    title=\"Y-component of the deflection angles of a Isothermal mass profile.\",\n",
        ")"
      ],
      "outputs": [],
      "execution_count": null
    },
    {
      "cell_type": "markdown",
      "metadata": {},
      "source": [
        "__Ray Tracing__\n",
        "\n",
        "The deflection angles describe how our (x,y) grid of coordinates are deflected by the mass of the foreground galaxy.\n",
        "\n",
        "We can therefore ray-trace the grid aligned with SDSSJ2303+1422 using the mass profile above and plot a grid of\n",
        "coordinates in the reference frame of before their light is gravitationally lensed:"
      ]
    },
    {
      "cell_type": "code",
      "metadata": {},
      "source": [
        "traced_grid = grid - mass_deflections\n",
        "\n",
        "plot_grid(grid=traced_grid, title=\"Cartesian grid of (x,y) traced coordinates.\")"
      ],
      "outputs": [],
      "execution_count": null
    },
    {
      "cell_type": "markdown",
      "metadata": {},
      "source": [
        "By inputting this traced grid of (x,y) coordinates into our light profile, we can create an image of the galaxy as if\n",
        "it were gravitationally lensed by the mass profile."
      ]
    },
    {
      "cell_type": "code",
      "metadata": {},
      "source": [
        "traced_light_image = light_profile.image_from_grid(grid=traced_grid)\n",
        "\n",
        "plot_array(\n",
        "    array=traced_light_image,\n",
        "    title=\"Image of a gravitationally lensed Exponential light profile.\",\n",
        ")"
      ],
      "outputs": [],
      "execution_count": null
    },
    {
      "cell_type": "markdown",
      "metadata": {},
      "source": [
        "__Galaxy__\n",
        "\n",
        "In the `src/galaxy.py` module we define the `Galaxy` class, which is a collection of light and mass profiles at an \n",
        "input redshift. For strong lens modeling, we have to use `Galaxy` objects, as the redshifts define how ray-tracing is\n",
        "performed.\n",
        "\n",
        "Below, we create two instances of the `Galaxy` class, representing the lens and source galaxies in a strong lens system."
      ]
    },
    {
      "cell_type": "code",
      "metadata": {},
      "source": [
        "light_profile = cosmo.lp.LightDeVaucouleurs(\n",
        "    centre=(0.01, 0.01), axis_ratio=0.9, angle=45.0, intensity=0.1, effective_radius=1.0\n",
        ")\n",
        "mass_profile = cosmo.mp.MassIsothermal(\n",
        "    centre=(0.01, 0.01), axis_ratio=0.7, angle=45.0, mass=0.8\n",
        ")\n",
        "lens_galaxy = cosmo.Galaxy(\n",
        "    redshift=0.5, light_profile_list=[light_profile], mass_profile_list=[mass_profile]\n",
        ")\n",
        "\n",
        "light_profile = cosmo.lp.LightExponential(\n",
        "    centre=(0.1, 0.1), axis_ratio=0.5, angle=80.0, intensity=1.0, effective_radius=5.0\n",
        ")\n",
        "source_galaxy = cosmo.Galaxy(\n",
        "    redshift=0.5, light_profile_list=[light_profile], mass_profile_list=[mass_profile]\n",
        ")"
      ],
      "outputs": [],
      "execution_count": null
    },
    {
      "cell_type": "markdown",
      "metadata": {},
      "source": [
        "A galaxy's image is the sum of its light profile images, and its deflection angles are the sum of its mass profile\n",
        "deflection angles.\n",
        "\n",
        "To illustrate this, lets plot the lens galaxy's light profile image:"
      ]
    },
    {
      "cell_type": "code",
      "metadata": {},
      "source": [
        "galaxy_image = lens_galaxy.image_from_grid(grid=grid)\n",
        "\n",
        "plot_array(array=galaxy_image, title=\"Image of the Lens Galaxy.\")"
      ],
      "outputs": [],
      "execution_count": null
    },
    {
      "cell_type": "markdown",
      "metadata": {},
      "source": [
        "__Data Fitting__\n",
        "\n",
        "We can create an overall image of the strong lens by:\n",
        "\n",
        " 1) Creating an image of the lens galaxy.\n",
        " 2) Computing the deflection angles of the lens galaxy.\n",
        " 3) Ray-tracing light to the source galaxy reference frame and using its light profile to make its image."
      ]
    },
    {
      "cell_type": "code",
      "metadata": {},
      "source": [
        "lens_image = lens_galaxy.image_from_grid(grid=grid)\n",
        "lens_deflections = lens_galaxy.deflections_from_grid(grid=grid)\n",
        "\n",
        "traced_grid = grid - lens_deflections\n",
        "\n",
        "source_image = source_galaxy.image_from_grid(grid=traced_grid)\n",
        "\n",
        "overall_image = lens_image + source_image\n",
        "\n",
        "plot_array(array=overall_image, title=\"Image of the overall Strong Lens System.\")"
      ],
      "outputs": [],
      "execution_count": null
    },
    {
      "cell_type": "markdown",
      "metadata": {},
      "source": [
        "__Model Data__\n",
        "\n",
        "To produce the `model_data`, we now convolution the overall image with the Point Spread Function (PSF) of our\n",
        "observations. This blurs the image to simulate the telescope optics and pixelization used to observe the image."
      ]
    },
    {
      "cell_type": "code",
      "metadata": {},
      "source": [
        "model_data = signal.convolve2d(overall_image, psf, mode=\"same\")\n",
        "\n",
        "plot_array(array=model_data, title=\"Image of the overall Strong Lens System.\")"
      ],
      "outputs": [],
      "execution_count": null
    },
    {
      "cell_type": "markdown",
      "metadata": {},
      "source": [
        "By subtracting this model image from the data, we can create a 2D residual map. This is equivalent to the residual maps\n",
        "we made in the 1D Gaussian examples, except for 2D imaging data.\n",
        "\n",
        "Clearly, the random lens model we used in this example does not provide a good fit to SDSSJ2303+1422."
      ]
    },
    {
      "cell_type": "code",
      "metadata": {},
      "source": [
        "residual_map = data - model_data\n",
        "\n",
        "plot_array(array=residual_map, title=\"Residual Map of fit to SDSSJ2303+1422\")"
      ],
      "outputs": [],
      "execution_count": null
    },
    {
      "cell_type": "markdown",
      "metadata": {},
      "source": [
        "Just like we did for the 1D `Gaussian` fitting examples, we can use the noise-map to compute the normalized residuals \n",
        "and chi-squared map of the lens model."
      ]
    },
    {
      "cell_type": "code",
      "metadata": {},
      "source": [
        "normalized_residual_map = residual_map / noise_map\n",
        "chi_squared_map = (normalized_residual_map) ** 2.0\n",
        "\n",
        "plot_array(\n",
        "    array=normalized_residual_map,\n",
        "    title=\"Normalized Residual Map of fit to SDSSJ2303+1422\",\n",
        ")\n",
        "plot_array(array=chi_squared_map, title=\"Chi Squared Map of fit to SDSSJ2303+1422\")"
      ],
      "outputs": [],
      "execution_count": null
    },
    {
      "cell_type": "markdown",
      "metadata": {},
      "source": [
        "Finally, we can compute the `log_likelihood` of this lens model, which we will use in the next example to fit the \n",
        "lens model to data with a non-linear search."
      ]
    },
    {
      "cell_type": "code",
      "metadata": {},
      "source": [
        "chi_squared = np.sum(chi_squared_map)\n",
        "noise_normalization = np.sum(np.log(2 * np.pi * noise_map**2.0))\n",
        "\n",
        "log_likelihood = -0.5 * (chi_squared + noise_normalization)\n",
        "\n",
        "print(log_likelihood)"
      ],
      "outputs": [],
      "execution_count": null
    },
    {
      "cell_type": "markdown",
      "metadata": {},
      "source": [
        "__Wrap Up__\n",
        "\n",
        "In this example, we introduced the astrophysical phenomena of strong gravitational lensing, and gave an overview of how\n",
        "one can create a model for a strong lens system and fit it to imaging data. \n",
        "\n",
        "We ended by defining the log likelihood of the model-fit, which will form the `log_likelihood_function` of the\n",
        "`Analysis` class we use in the next example, which fits this strong lens using **PyAutoFit**.\n",
        "\n",
        "There is one thing you should think about, how would we translate the above classes (e.g. `LightExponential`, \n",
        "`MassIsothermal` and `Galaxy`) using the **PyAutoFit** `Model` and `Collection` objects? The `Galaxy` class contained \n",
        "instances of the light and mass profile classes, meaning the standard use of the `Model` and `Collection` objects could \n",
        "not handle this.\n",
        "\n",
        "This is where multi-level models come in, as will be shown in the next example!"
      ]
    },
    {
      "cell_type": "code",
      "metadata": {},
      "source": [
        "\n",
        "# %%\n",
        "'''\n",
        "Project: Cosmology\n",
        "==================\n",
        "\n",
        "This project uses the astrophysical phenomena of Strong Gravitational Lensing to illustrate basic and advanced model\n",
        "composition and fitting with **PyAutoFit**. The first tutorial described what a strong gravitational lens is and how\n",
        "we build and fit a model of one.\n",
        "\n",
        "In this example, we use **PyAutoFit**'s multi-level models to compose a strong lens model consisting of a lens and\n",
        "source galaxy, and fit it to the data on SDSSJ2303+1422.\n",
        "\n",
        "__Config Path__\n",
        "\n",
        "We first set up the path to this projects config files, which is located at `autofit_workspace/projects/cosmology/config`.\n",
        "\n",
        "This includes the default priors for the lens model, check it out!\n",
        "'''"
      ],
      "outputs": [],
      "execution_count": null
    },
    {
      "cell_type": "code",
      "metadata": {},
      "source": [
        "import os\n",
        "from os import path\n",
        "from autoconf import conf\n",
        "\n",
        "cwd = os.getcwd()\n",
        "config_path = path.join(cwd, \"projects\", \"cosmology\", \"config\")\n",
        "conf.instance.push(new_path=config_path)\n",
        "\n",
        "%matplotlib inline\n",
        "from pyprojroot import here\n",
        "workspace_path = str(here())\n",
        "%cd $workspace_path\n",
        "print(f\"Working Directory has been set to `{workspace_path}`\")\n",
        "\n",
        "import autofit as af\n",
        "import src as cosmo\n",
        "import matplotlib.pyplot as plt\n",
        "import numpy as np"
      ],
      "outputs": [],
      "execution_count": null
    },
    {
      "cell_type": "markdown",
      "metadata": {},
      "source": [
        "__Plot__\n",
        "\n",
        "First, lets again define the plotting convenience functions we used in the previous example."
      ]
    },
    {
      "cell_type": "code",
      "metadata": {},
      "source": [
        "\n",
        "\n",
        "def plot_array(array, title=None, norm=None):\n",
        "    plt.imshow(array, norm=norm)\n",
        "    plt.colorbar()\n",
        "    plt.title(title)\n",
        "    plt.show()\n",
        "    plt.close()\n",
        "\n",
        "\n",
        "def plot_grid(grid, title=None):\n",
        "    plt.scatter(x=grid[:, :, 0], y=grid[:, :, 1], s=1)\n",
        "    plt.title(title)\n",
        "    plt.show()\n",
        "    plt.close()\n"
      ],
      "outputs": [],
      "execution_count": null
    },
    {
      "cell_type": "markdown",
      "metadata": {},
      "source": [
        "__Data__\n",
        "\n",
        "Now lets load and plot Hubble Space Telescope imaging data of the strong gravitational lens SDSSJ2303+1422."
      ]
    },
    {
      "cell_type": "code",
      "metadata": {},
      "source": [
        "dataset_path = path.join(\"projects\", \"cosmology\", \"dataset\")\n",
        "\n",
        "data = np.load(file=path.join(dataset_path, \"data.npy\"))\n",
        "plot_array(array=data, title=\"Image of Strong Lens SDSSJ2303+1422\")\n",
        "\n",
        "noise_map = np.load(file=path.join(dataset_path, \"noise_map.npy\"))\n",
        "plot_array(array=noise_map, title=\"Noise Map of Strong Lens SDSSJ2303+1422\")\n",
        "\n",
        "psf = np.load(file=path.join(dataset_path, \"psf.npy\"))\n",
        "plot_array(array=psf, title=\"Point Spread Function of Strong Lens SDSSJ2303+1422\")\n",
        "\n",
        "grid = np.load(file=path.join(dataset_path, \"grid.npy\"))\n",
        "\n",
        "plot_grid(\n",
        "    grid=grid,\n",
        "    title=\"Cartesian grid of (x,y) coordinates aligned with strong lens dataset\",\n",
        ")"
      ],
      "outputs": [],
      "execution_count": null
    },
    {
      "cell_type": "markdown",
      "metadata": {},
      "source": [
        "__Multi-level Model__\n",
        "\n",
        "In the previous example, we saw that we can use instances of the light profiles, mass profiles and galaxy objects to\n",
        "perform strong lens ray-tracing calculations:"
      ]
    },
    {
      "cell_type": "code",
      "metadata": {},
      "source": [
        "light_profile = cosmo.lp.LightDeVaucouleurs(\n",
        "    centre=(0.01, 0.01), axis_ratio=0.7, angle=45.0, intensity=1.0, effective_radius=2.0\n",
        ")\n",
        "mass_profile = cosmo.mp.MassIsothermal(\n",
        "    centre=(0.01, 0.01), axis_ratio=0.7, angle=45.0, mass=0.5\n",
        ")\n",
        "galaxy = cosmo.Galaxy(\n",
        "    redshift=0.5, light_profile_list=[light_profile], mass_profile_list=[mass_profile]\n",
        ")"
      ],
      "outputs": [],
      "execution_count": null
    },
    {
      "cell_type": "markdown",
      "metadata": {},
      "source": [
        "In this example, we want to perform a model-fit using a non-linear search, where the `Galaxy` is a `Model`, but it\n",
        "contains model subcomponents that are its individual light and mass profiles. \n",
        "\n",
        "Here is a pictoral representation of the model:\n",
        "\n",
        "![Strong Lens Model](https://github.com/rhayes777/PyAutoFit/blob/main/docs/overview/image/lens_model.png?raw=true \"cluster\")\n",
        "\n",
        "__Model Composition__\n",
        "\n",
        "How do we compose a strong lens model where a `Galaxy` is a `Model`, but it contains the light and mass profiles \n",
        "as `Model` themselves?\n",
        "\n",
        "We use **PyAutoFit**'s multi-level model composition:"
      ]
    },
    {
      "cell_type": "code",
      "metadata": {},
      "source": [
        "lens = af.Model(\n",
        "    cls=cosmo.Galaxy,  # The overall model object uses this input.\n",
        "    redshift=0.5,\n",
        "    light_profile_list=[\n",
        "        af.Model(cosmo.lp.LightDeVaucouleurs)\n",
        "    ],  # These will be subcomponents of the model.\n",
        "    mass_profile_list=[\n",
        "        af.Model(cosmo.mp.MassIsothermal)\n",
        "    ],  # These will be subcomponents of the model.\n",
        ")\n",
        "\n",
        "print(lens.info)"
      ],
      "outputs": [],
      "execution_count": null
    },
    {
      "cell_type": "markdown",
      "metadata": {},
      "source": [
        "Lets consider what is going on here:\n",
        "\n",
        " 1) We use a `Model` to create the overall model component. The `cls` input is the `Galaxy` class, therefore the \n",
        "    overall model that is created is a `Galaxy`.\n",
        "\n",
        " 2) **PyAutoFit** next inspects whether the key word argument inputs to the `Model` match any of the `__init__` \n",
        "    constructor arguments of the `Galaxy` class. This determine if these inputs are to be composed as model \n",
        "    subcomponents of the overall `Galaxy` model. \n",
        "\n",
        " 3) **PyAutoFit** matches the `light_profile_list` and  `mass_profile_list` inputs, noting they are passed as separate \n",
        "    lists  containing the `LightDeVaucouleurs` and `MassIsothermal` class. They are both created as subcomponents of \n",
        "    the overall `Galaxy` model.\n",
        "\n",
        " 4) It also matches the `redshift` input, making it a fixed value of 0.5 for the model and not treating it as a \n",
        "    free parameter.\n",
        "\n",
        "We can confirm this by printing the `total_free_parameters` of the lens, and noting it is 11 (6 parameters for \n",
        "the `LightDeVaucouleurs` and 5 for the `MassIsothermal`)."
      ]
    },
    {
      "cell_type": "code",
      "metadata": {},
      "source": [
        "print(lens.total_free_parameters)\n",
        "print(lens.light_profile_list[0].total_free_parameters)\n",
        "print(lens.mass_profile_list[0].total_free_parameters)"
      ],
      "outputs": [],
      "execution_count": null
    },
    {
      "cell_type": "markdown",
      "metadata": {},
      "source": [
        "The `lens` behaves exactly like the model-components we are used to previously. For example, we can unpack its \n",
        "individual parameters to customize the model, where below we:\n",
        "\n",
        " 1) Fix the light and mass profiles to the centre (0.0, 0.0).\n",
        " 2) Customize the prior on the light profile `axis_ratio`.\n",
        " 3) Fix the `axis_ratio` of the mass profile to 0.8."
      ]
    },
    {
      "cell_type": "code",
      "metadata": {},
      "source": [
        "\n",
        "lens.light_profile_list[0].centre = (0.0, 0.0)\n",
        "lens.light_profile_list[0].axis_ratio = af.UniformPrior(\n",
        "    lower_limit=0.7, upper_limit=0.9\n",
        ")\n",
        "lens.light_profile_list[0].angle = af.UniformPrior(lower_limit=0.0, upper_limit=180.0)\n",
        "lens.light_profile_list[0].intensity = af.LogUniformPrior(\n",
        "    lower_limit=1e-4, upper_limit=1e4\n",
        ")\n",
        "lens.light_profile_list[0].effective_radius = af.UniformPrior(\n",
        "    lower_limit=0.0, upper_limit=5.0\n",
        ")\n",
        "\n",
        "lens.mass_profile_list[0].centre = (0.0, 0.0)\n",
        "lens.mass_profile_list[0].axis_ratio = 0.8\n",
        "lens.mass_profile_list[0].angle = af.UniformPrior(lower_limit=0.0, upper_limit=180.0)\n",
        "lens.mass_profile_list[0].mass = af.UniformPrior(lower_limit=0.0, upper_limit=2.0)\n",
        "\n",
        "print(lens.info)"
      ],
      "outputs": [],
      "execution_count": null
    },
    {
      "cell_type": "markdown",
      "metadata": {},
      "source": [
        "__Alternative API__\n",
        "\n",
        "We can create the `Galaxy` model component with the exact same customization by creating each profile as a `Model` and\n",
        "passing these to the galaxy `Model`. "
      ]
    },
    {
      "cell_type": "code",
      "metadata": {},
      "source": [
        "light = af.Model(cosmo.lp.LightDeVaucouleurs)\n",
        "\n",
        "light.centre = af.UniformPrior(lower_limit=-0.05, upper_limit=0.05)\n",
        "light.axis_ratio = af.UniformPrior(lower_limit=0.7, upper_limit=0.9)\n",
        "light.angle = af.UniformPrior(lower_limit=0.0, upper_limit=180.0)\n",
        "light.intensity = af.LogUniformPrior(lower_limit=1e-4, upper_limit=1e4)\n",
        "light.effective_radius = af.UniformPrior(lower_limit=0.0, upper_limit=5.0)\n",
        "\n",
        "mass = af.Model(cosmo.mp.MassIsothermal)\n",
        "\n",
        "mass.centre = (0.0, 0.0)\n",
        "mass.axis_ratio = af.UniformPrior(lower_limit=0.7, upper_limit=1.0)\n",
        "mass.angle = af.UniformPrior(lower_limit=0.0, upper_limit=180.0)\n",
        "mass.mass = af.UniformPrior(lower_limit=0.0, upper_limit=4.0)\n",
        "\n",
        "lens = af.Model(\n",
        "    cosmo.Galaxy, redshift=0.5, light_profile_list=[light], mass_profile_list=[mass]\n",
        ")\n",
        "\n",
        "print(lens.info)"
      ],
      "outputs": [],
      "execution_count": null
    },
    {
      "cell_type": "markdown",
      "metadata": {},
      "source": [
        "We can now create a model of our source galaxy using the same API."
      ]
    },
    {
      "cell_type": "code",
      "metadata": {},
      "source": [
        "light = af.Model(cosmo.lp.LightExponential)\n",
        "\n",
        "light.centre.centre_0 = af.GaussianPrior(mean=0.0, sigma=0.3)\n",
        "light.centre.centre_1 = af.GaussianPrior(mean=0.0, sigma=0.3)\n",
        "light.axis_ratio = af.UniformPrior(lower_limit=0.7, upper_limit=1.0)\n",
        "light.angle = af.UniformPrior(lower_limit=0.0, upper_limit=180.0)\n",
        "light.intensity = af.LogUniformPrior(lower_limit=1e-4, upper_limit=1e4)\n",
        "light.effective_radius = af.UniformPrior(lower_limit=0.0, upper_limit=1.0)\n",
        "\n",
        "source = af.Model(cosmo.Galaxy, redshift=1.0, light_profile_list=[light])\n",
        "\n",
        "print(source.info)"
      ],
      "outputs": [],
      "execution_count": null
    },
    {
      "cell_type": "markdown",
      "metadata": {},
      "source": [
        "We can now create our overall strong lens model, using a `Collection` in the same way we have seen previously."
      ]
    },
    {
      "cell_type": "code",
      "metadata": {},
      "source": [
        "model = af.Collection(galaxies=af.Collection(lens=lens, source=source))\n",
        "\n",
        "print(model.info)"
      ],
      "outputs": [],
      "execution_count": null
    },
    {
      "cell_type": "markdown",
      "metadata": {},
      "source": [
        "The model contains both galaxies in the strong lens, alongside all of their light and mass profiles.\n",
        "\n",
        "For every iteration of the non-linear search **PyAutoFit** generates an instance of this model, where all of the\n",
        "`LightDeVaucouleurs`, `MassIsothermal` and `Galaxy` parameters of the are determined via their priors. \n",
        "\n",
        "An example instance is show below:"
      ]
    },
    {
      "cell_type": "code",
      "metadata": {},
      "source": [
        "instance = model.instance_from_prior_medians()\n",
        "\n",
        "print(\"Strong Lens Model Instance:\")\n",
        "print(\"Lens Galaxy = \", instance.galaxies.lens)\n",
        "print(\"Lens Galaxy Light = \", instance.galaxies.lens.light_profile_list)\n",
        "print(\n",
        "    \"Lens Galaxy Light Centre = \", instance.galaxies.lens.light_profile_list[0].centre\n",
        ")\n",
        "print(\"Lens Galaxy Mass Centre = \", instance.galaxies.lens.mass_profile_list[0].centre)\n",
        "print(\"Source Galaxy = \", instance.galaxies.source)"
      ],
      "outputs": [],
      "execution_count": null
    },
    {
      "cell_type": "markdown",
      "metadata": {},
      "source": [
        "We have successfully composed a multi-level model, which we can fit via a non-linear search.\n",
        "\n",
        "At this point, you should check out the `Analysis` class of this example project, in the \n",
        "module `projects/cosmology/src/analysis.py`. This class serves the same purpose that we have seen in the Gaussian 1D \n",
        "examples, with the `log_likelihood_function` implementing the calculation we showed in the first tutorial.\n",
        "\n",
        "The `path_prefix1 and `name` inputs below sepciify the path and folder where the results of the model-fit are stored\n",
        "in the output folder `autolens_workspace/output`. Results for this tutorial are writtent to hard-disk, due to the \n",
        "longer run-times of the model-fit."
      ]
    },
    {
      "cell_type": "code",
      "metadata": {},
      "source": [
        "\n",
        "search = af.DynestyStatic(\n",
        "    path_prefix=path.join(\"projects\", \"cosmology\"),\n",
        "    name=\"multi_level\",\n",
        "    nlive=50,\n",
        "    iterations_per_update=2500,\n",
        ")\n",
        "\n",
        "analysis = cosmo.Analysis(data=data, noise_map=noise_map, psf=psf, grid=grid)"
      ],
      "outputs": [],
      "execution_count": null
    },
    {
      "cell_type": "markdown",
      "metadata": {},
      "source": [
        "If you comment out the code below, you will perform a lens model fit using the model and analysis class for \n",
        "this project. However, this model-fit is slow to run, and it isn't paramount that you run it yourself.\n",
        "\n",
        "The animation below shows a slide-show of the lens modeling procedure. Many lens models are fitted to the data over\n",
        "and over, gradually improving the quality of the fit to the data and looking more and more like the observed image.\n",
        "\n",
        "![Lens Modeling Animation](https://github.com/Jammy2211/auto_files/blob/main/lensmodel.gif?raw=true \"model\")"
      ]
    },
    {
      "cell_type": "code",
      "metadata": {},
      "source": [
        "\n",
        "result = search.fit(model=model, analysis=analysis)"
      ],
      "outputs": [],
      "execution_count": null
    },
    {
      "cell_type": "markdown",
      "metadata": {},
      "source": [
        "__Extensibility__\n",
        "\n",
        "This example project highlights how multi-level models can make certain model-fitting problem fully extensible. For \n",
        "example:\n",
        "\n",
        " 1) A `Galaxy` class can be created using any combination of light and mass profiles, because it can wrap their\n",
        " `image_from_grid` and `deflections_from_grid` methods as the sum of the individual profiles.\n",
        "\n",
        " 2) The overall strong lens model can contain any number of `Galaxy`'s, as their methods are used \n",
        "    to implement the lensing calculations in the `Analysis` class and `log_likelihood_function`.\n",
        "\n",
        "For problems of this nature, we can design and write code in a way that fully utilizes **PyAutoFit**'s multi-level\n",
        "modeling features to compose and fits models of arbitrary complexity and dimensionality. \n",
        "\n",
        "__Galaxy Clusters__\n",
        "\n",
        "To illustrate this further, consider the following dataset which is called a \"strong lens galaxy cluster\":\n",
        "\n",
        "![Strong Lens Cluster](https://github.com/rhayes777/PyAutoFit/blob/main/docs/overview/image/cluster_example.jpg?raw=true \"cluster\")\n",
        "\n",
        "For this strong lens, there are many tens of strong lens galaxies as well as multiple background source galaxies. \n",
        "\n",
        "However, despite it being a significantly more complex system than the single-galaxy strong lens we modeled above,\n",
        "our use of multi-level models ensures that we can model such datasets without any additional code development, for\n",
        "example:\n",
        "\n",
        "The lensing calculations in the source code `Analysis` object did not properly account for multiple galaxies \n",
        "(called multi-plane ray tracing). This would need to be updated to properly model a galaxy cluster, but this\n",
        "tutorial shows how a model can be composed for such a system."
      ]
    },
    {
      "cell_type": "code",
      "metadata": {},
      "source": [
        "lens_0 = af.Model(\n",
        "    cosmo.Galaxy,\n",
        "    redshift=0.5,\n",
        "    light_profile_list=[cosmo.lp.LightDeVaucouleurs],\n",
        "    mass_profile_list=[cosmo.mp.MassIsothermal],\n",
        ")\n",
        "\n",
        "lens_1 = af.Model(\n",
        "    cosmo.Galaxy,\n",
        "    redshift=0.5,\n",
        "    light_profile_list=[cosmo.lp.LightDeVaucouleurs],\n",
        "    mass_profile_list=[cosmo.mp.MassIsothermal],\n",
        ")\n",
        "\n",
        "source_0 = af.Model(\n",
        "    cosmo.Galaxy, redshift=1.0, light_profile_list=[af.Model(cosmo.lp.LightExponential)]\n",
        ")\n",
        "\n",
        "# ... repeat for desired model complexity ...\n",
        "\n",
        "model = af.Collection(\n",
        "    galaxies=af.Collection(\n",
        "        lens_0=lens_0,\n",
        "        lens_1=lens_1,\n",
        "        source_0=source_0,\n",
        "        # ... repeat for desired model complexity ...\n",
        "    )\n",
        ")\n",
        "\n",
        "print(model.info)"
      ],
      "outputs": [],
      "execution_count": null
    },
    {
      "cell_type": "markdown",
      "metadata": {},
      "source": [
        "Here is a pictoral representation of a strong lens cluster as a multi-level model:\n",
        "\n",
        "![Strong Lens Cluster Model](https://github.com/rhayes777/PyAutoFit/blob/main/docs/overview/image/lens_model_cluster.png?raw=true \"cluster\")\n",
        "\n",
        "__Wrap Up__\n",
        "\n",
        "Strong gravitational lensing is a great example of a problem that can be approached using multi-level models. \n",
        "\n",
        "At the core of this is how there are many different models one could imagine defining which describe the light or mass \n",
        "of a galaxy. However, all of these models must derive the same fundamental property in order to fit the data, for\n",
        "example the image of a light profile or the deflection angles of the mass profile.\n",
        "\n",
        "The multi-level nature of strong lensing is not unique, and is commonly found in my Astronomy problems and the \n",
        "scientific literature in general. For example Astronomy problems:\n",
        "\n",
        " - Studies of galaxy structure, which represent the surface brightness distributions of galaxies as sums of Sersic\n",
        " profiles (or other parametric equations) to quantify whether they are bulge-like or disk-like.\n",
        "\n",
        " - Studies of galaxy dynamics, which represent the mass distribution of galaxies as sums of profiles like the Isothermal\n",
        " profile.\n",
        "\n",
        " - Studies of the activate galactic nuclei (AGN) of galaxies, where the different components of the AGN are represented\n",
        " as different model components."
      ]
    },
    {
      "cell_type": "code",
      "metadata": {},
      "source": [],
      "outputs": [],
      "execution_count": null
    }
  ],
  "metadata": {
    "anaconda-cloud": {},
    "kernelspec": {
      "display_name": "Python 3",
      "language": "python",
      "name": "python3"
    },
    "language_info": {
      "codemirror_mode": {
        "name": "ipython",
        "version": 3
      },
      "file_extension": ".py",
      "mimetype": "text/x-python",
      "name": "python",
      "nbconvert_exporter": "python",
      "pygments_lexer": "ipython3",
      "version": "3.6.1"
    }
  },
  "nbformat": 4,
  "nbformat_minor": 4
}