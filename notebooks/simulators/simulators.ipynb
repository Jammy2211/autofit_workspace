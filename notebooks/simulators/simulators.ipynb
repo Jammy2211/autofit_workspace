{
 "cells": [
  {
   "cell_type": "markdown",
   "metadata": {},
   "source": [
    "__Simulators__\n",
    "\n",
    "These scripts simulate the 1D Gaussian datasets used to demonstrate model-fitting."
   ]
  },
  {
   "cell_type": "code",
   "execution_count": 1,
   "metadata": {
    "execution": {
     "iopub.execute_input": "2021-03-06T14:13:08.696962Z",
     "iopub.status.busy": "2021-03-06T14:13:08.696463Z",
     "iopub.status.idle": "2021-03-06T14:13:09.592976Z",
     "shell.execute_reply": "2021-03-06T14:13:09.592577Z"
    }
   },
   "outputs": [
    {
     "name": "stdout",
     "output_type": "stream",
     "text": [
      "/mnt/c/Users/Jammy/Code/PyAuto/autofit_workspace\n",
      "Working Directory has been set to `/mnt/c/Users/Jammy/Code/PyAuto/autofit_workspace`\n"
     ]
    }
   ],
   "source": [
    "%matplotlib inline\n",
    "from pyprojroot import here\n",
    "workspace_path = str(here())\n",
    "%cd $workspace_path\n",
    "print(f\"Working Directory has been set to `{workspace_path}`\")\n",
    "\n",
    "import profiles\n",
    "import util\n",
    "from os import path"
   ]
  },
  {
   "cell_type": "markdown",
   "metadata": {},
   "source": [
    "__Gaussian x1__"
   ]
  },
  {
   "cell_type": "code",
   "execution_count": 2,
   "metadata": {
    "execution": {
     "iopub.execute_input": "2021-03-06T14:13:09.595995Z",
     "iopub.status.busy": "2021-03-06T14:13:09.595625Z",
     "iopub.status.idle": "2021-03-06T14:13:09.687103Z",
     "shell.execute_reply": "2021-03-06T14:13:09.687388Z"
    }
   },
   "outputs": [],
   "source": [
    "dataset_path = path.join(\"dataset\", \"example_1d\", \"gaussian_x1\")\n",
    "gaussian = profiles.Gaussian(centre=50.0, intensity=25.0, sigma=10.0)\n",
    "util.simulate_line_from_gaussian(gaussian=gaussian, dataset_path=dataset_path)"
   ]
  },
  {
   "cell_type": "markdown",
   "metadata": {},
   "source": [
    "__Gaussian x1 (0)__"
   ]
  },
  {
   "cell_type": "code",
   "execution_count": 3,
   "metadata": {
    "execution": {
     "iopub.execute_input": "2021-03-06T14:13:09.690159Z",
     "iopub.status.busy": "2021-03-06T14:13:09.689805Z",
     "iopub.status.idle": "2021-03-06T14:13:09.776065Z",
     "shell.execute_reply": "2021-03-06T14:13:09.775685Z"
    }
   },
   "outputs": [],
   "source": [
    "dataset_path = path.join(\"dataset\", \"example_1d\", \"gaussian_x1_0\")\n",
    "gaussian = profiles.Gaussian(centre=50.0, intensity=25.0, sigma=1.0)\n",
    "util.simulate_line_from_gaussian(gaussian=gaussian, dataset_path=dataset_path)"
   ]
  },
  {
   "cell_type": "markdown",
   "metadata": {},
   "source": [
    "__Gaussian x1 (1)__"
   ]
  },
  {
   "cell_type": "code",
   "execution_count": 4,
   "metadata": {
    "execution": {
     "iopub.execute_input": "2021-03-06T14:13:09.779617Z",
     "iopub.status.busy": "2021-03-06T14:13:09.779088Z",
     "iopub.status.idle": "2021-03-06T14:13:09.868095Z",
     "shell.execute_reply": "2021-03-06T14:13:09.868428Z"
    }
   },
   "outputs": [],
   "source": [
    "gaussian = profiles.Gaussian(centre=50.0, intensity=25.0, sigma=5.0)\n",
    "dataset_path = path.join(\"dataset\", \"example_1d\", \"gaussian_x1_1\")\n",
    "util.simulate_line_from_gaussian(gaussian=gaussian, dataset_path=dataset_path)"
   ]
  },
  {
   "cell_type": "markdown",
   "metadata": {},
   "source": [
    "__Gaussian x1 (2)__"
   ]
  },
  {
   "cell_type": "code",
   "execution_count": 5,
   "metadata": {
    "execution": {
     "iopub.execute_input": "2021-03-06T14:13:09.871722Z",
     "iopub.status.busy": "2021-03-06T14:13:09.871326Z",
     "iopub.status.idle": "2021-03-06T14:13:09.980294Z",
     "shell.execute_reply": "2021-03-06T14:13:09.980673Z"
    }
   },
   "outputs": [],
   "source": [
    "gaussian = profiles.Gaussian(centre=50.0, intensity=25.0, sigma=10.0)\n",
    "dataset_path = path.join(\"dataset\", \"example_1d\", \"gaussian_x1_2\")\n",
    "util.simulate_line_from_gaussian(gaussian=gaussian, dataset_path=dataset_path)"
   ]
  },
  {
   "cell_type": "markdown",
   "metadata": {},
   "source": [
    "__Gaussian x1 + Exponential x1__"
   ]
  },
  {
   "cell_type": "code",
   "execution_count": 6,
   "metadata": {
    "execution": {
     "iopub.execute_input": "2021-03-06T14:13:09.984220Z",
     "iopub.status.busy": "2021-03-06T14:13:09.983759Z",
     "iopub.status.idle": "2021-03-06T14:13:10.062502Z",
     "shell.execute_reply": "2021-03-06T14:13:10.062102Z"
    }
   },
   "outputs": [],
   "source": [
    "gaussian = profiles.Gaussian(centre=50.0, intensity=25.0, sigma=10.0)\n",
    "exponential = profiles.Exponential(centre=50.0, intensity=40.0, rate=0.05)\n",
    "dataset_path = path.join(\"dataset\", \"example_1d\", \"gaussian_x1__exponential_x1\")\n",
    "util.simulate_line_from_profiles(\n",
    "    profiles=[gaussian, exponential], dataset_path=dataset_path\n",
    ")"
   ]
  },
  {
   "cell_type": "markdown",
   "metadata": {},
   "source": [
    "__Gaussian x2 + Exponential x1__"
   ]
  },
  {
   "cell_type": "code",
   "execution_count": 7,
   "metadata": {
    "execution": {
     "iopub.execute_input": "2021-03-06T14:13:10.065815Z",
     "iopub.status.busy": "2021-03-06T14:13:10.065472Z",
     "iopub.status.idle": "2021-03-06T14:13:10.149229Z",
     "shell.execute_reply": "2021-03-06T14:13:10.148835Z"
    }
   },
   "outputs": [],
   "source": [
    "gaussian_0 = profiles.Gaussian(centre=50.0, intensity=25.0, sigma=10.0)\n",
    "gaussian_1 = profiles.Gaussian(centre=20.0, intensity=30.0, sigma=5.0)\n",
    "exponential = profiles.Exponential(centre=70.0, intensity=40.0, rate=0.005)\n",
    "dataset_path = path.join(\"dataset\", \"example_1d\", \"gaussian_x2__exponential_x1\")\n",
    "util.simulate_line_from_profiles(\n",
    "    profiles=[gaussian_0, gaussian_1, exponential], dataset_path=dataset_path\n",
    ")"
   ]
  },
  {
   "cell_type": "markdown",
   "metadata": {},
   "source": [
    "__Gaussian x3__"
   ]
  },
  {
   "cell_type": "code",
   "execution_count": 8,
   "metadata": {
    "execution": {
     "iopub.execute_input": "2021-03-06T14:13:10.153651Z",
     "iopub.status.busy": "2021-03-06T14:13:10.153030Z",
     "iopub.status.idle": "2021-03-06T14:13:10.245120Z",
     "shell.execute_reply": "2021-03-06T14:13:10.244705Z"
    }
   },
   "outputs": [],
   "source": [
    "gaussian_0 = profiles.Gaussian(centre=50.0, intensity=20.0, sigma=1.0)\n",
    "gaussian_1 = profiles.Gaussian(centre=50.0, intensity=40.0, sigma=5.0)\n",
    "gaussian_2 = profiles.Gaussian(centre=50.0, intensity=60.0, sigma=10.0)\n",
    "dataset_path = path.join(\"dataset\", \"example_1d\", \"gaussian_x3\")\n",
    "util.simulate_line_from_profiles(\n",
    "    profiles=[gaussian_0, gaussian_1, gaussian_2], dataset_path=dataset_path\n",
    ")"
   ]
  },
  {
   "cell_type": "markdown",
   "metadata": {},
   "source": [
    "__Gaussian x1 unconvolved__"
   ]
  },
  {
   "cell_type": "code",
   "execution_count": 9,
   "metadata": {
    "execution": {
     "iopub.execute_input": "2021-03-06T14:13:10.248748Z",
     "iopub.status.busy": "2021-03-06T14:13:10.248120Z",
     "iopub.status.idle": "2021-03-06T14:13:10.342378Z",
     "shell.execute_reply": "2021-03-06T14:13:10.341955Z"
    }
   },
   "outputs": [],
   "source": [
    "dataset_path = path.join(\"dataset\", \"example_1d\", \"gaussian_x1_unconvolved\")\n",
    "gaussian = profiles.Gaussian(centre=50.0, intensity=25.0, sigma=3.0)\n",
    "util.simulate_line_from_gaussian(gaussian=gaussian, dataset_path=dataset_path)"
   ]
  },
  {
   "cell_type": "markdown",
   "metadata": {},
   "source": [
    "__Gaussian x1 convolved__"
   ]
  },
  {
   "cell_type": "code",
   "execution_count": 10,
   "metadata": {
    "execution": {
     "iopub.execute_input": "2021-03-06T14:13:10.346181Z",
     "iopub.status.busy": "2021-03-06T14:13:10.345737Z",
     "iopub.status.idle": "2021-03-06T14:13:10.439035Z",
     "shell.execute_reply": "2021-03-06T14:13:10.438676Z"
    }
   },
   "outputs": [],
   "source": [
    "dataset_path = path.join(\"dataset\", \"example_1d\", \"gaussian_x1_convolved\")\n",
    "gaussian = profiles.Gaussian(centre=50.0, intensity=25.0, sigma=3.0)\n",
    "util.simulate_line_with_kernel_from_gaussian(\n",
    "    gaussian=gaussian, dataset_path=dataset_path\n",
    ")"
   ]
  },
  {
   "cell_type": "markdown",
   "metadata": {},
   "source": [
    "__Gaussian x1 with feature__"
   ]
  },
  {
   "cell_type": "code",
   "execution_count": 11,
   "metadata": {
    "execution": {
     "iopub.execute_input": "2021-03-06T14:13:10.442413Z",
     "iopub.status.busy": "2021-03-06T14:13:10.441984Z",
     "iopub.status.idle": "2021-03-06T14:13:10.522315Z",
     "shell.execute_reply": "2021-03-06T14:13:10.521935Z"
    }
   },
   "outputs": [],
   "source": [
    "dataset_path = path.join(\"dataset\", \"example_1d\", \"gaussian_x1_with_feature\")\n",
    "gaussian = profiles.Gaussian(centre=50.0, intensity=25.0, sigma=10.0)\n",
    "gaussian_feature = profiles.Gaussian(centre=70.0, intensity=0.3, sigma=0.5)\n",
    "util.simulate_line_from_profiles(\n",
    "    profiles=[gaussian, gaussian_feature], dataset_path=dataset_path\n",
    ")"
   ]
  },
  {
   "cell_type": "markdown",
   "metadata": {},
   "source": [
    "__Gaussian x2 split__"
   ]
  },
  {
   "cell_type": "code",
   "execution_count": 12,
   "metadata": {
    "execution": {
     "iopub.execute_input": "2021-03-06T14:13:10.525402Z",
     "iopub.status.busy": "2021-03-06T14:13:10.525015Z",
     "iopub.status.idle": "2021-03-06T14:13:10.620559Z",
     "shell.execute_reply": "2021-03-06T14:13:10.620223Z"
    }
   },
   "outputs": [],
   "source": [
    "dataset_path = path.join(\"dataset\", \"example_1d\", \"gaussian_x2_split\")\n",
    "gaussian_0 = profiles.Gaussian(centre=25.0, intensity=50.0, sigma=12.5)\n",
    "gaussian_1 = profiles.Gaussian(centre=75.0, intensity=50.0, sigma=12.5)\n",
    "util.simulate_line_from_profiles(\n",
    "    profiles=[gaussian_0, gaussian_1], dataset_path=dataset_path\n",
    ")"
   ]
  },
  {
   "cell_type": "markdown",
   "metadata": {},
   "source": [
    "__Gaussian x1 low snr (0)__"
   ]
  },
  {
   "cell_type": "code",
   "execution_count": 13,
   "metadata": {
    "execution": {
     "iopub.execute_input": "2021-03-06T14:13:10.624227Z",
     "iopub.status.busy": "2021-03-06T14:13:10.623794Z",
     "iopub.status.idle": "2021-03-06T14:13:10.719098Z",
     "shell.execute_reply": "2021-03-06T14:13:10.719531Z"
    }
   },
   "outputs": [],
   "source": [
    "dataset_path = path.join(\"dataset\", \"example_1d\", \"gaussian_x1_0__low_snr\")\n",
    "gaussian = profiles.Gaussian(centre=50.0, intensity=1.5, sigma=6.0)\n",
    "util.simulate_line_from_gaussian(gaussian=gaussian, dataset_path=dataset_path)"
   ]
  },
  {
   "cell_type": "markdown",
   "metadata": {},
   "source": [
    "__Gaussian x1 low snr (1)__"
   ]
  },
  {
   "cell_type": "code",
   "execution_count": 14,
   "metadata": {
    "execution": {
     "iopub.execute_input": "2021-03-06T14:13:10.723576Z",
     "iopub.status.busy": "2021-03-06T14:13:10.722967Z",
     "iopub.status.idle": "2021-03-06T14:13:10.844935Z",
     "shell.execute_reply": "2021-03-06T14:13:10.844591Z"
    }
   },
   "outputs": [],
   "source": [
    "gaussian = profiles.Gaussian(centre=50.0, intensity=2.0, sigma=8.0)\n",
    "dataset_path = path.join(\"dataset\", \"example_1d\", \"gaussian_x1_1__low_snr\")\n",
    "util.simulate_line_from_gaussian(gaussian=gaussian, dataset_path=dataset_path)"
   ]
  },
  {
   "cell_type": "markdown",
   "metadata": {},
   "source": [
    "__Gaussian x1 low snr (2)__"
   ]
  },
  {
   "cell_type": "code",
   "execution_count": 15,
   "metadata": {
    "execution": {
     "iopub.execute_input": "2021-03-06T14:13:10.848699Z",
     "iopub.status.busy": "2021-03-06T14:13:10.848297Z",
     "iopub.status.idle": "2021-03-06T14:13:10.955442Z",
     "shell.execute_reply": "2021-03-06T14:13:10.955768Z"
    }
   },
   "outputs": [],
   "source": [
    "gaussian = profiles.Gaussian(centre=50.0, intensity=5.0, sigma=15.0)\n",
    "dataset_path = path.join(\"dataset\", \"example_1d\", \"gaussian_x1_2__low_snr\")\n",
    "util.simulate_line_from_gaussian(gaussian=gaussian, dataset_path=dataset_path)"
   ]
  },
  {
   "cell_type": "markdown",
   "metadata": {},
   "source": [
    "Finish."
   ]
  },
  {
   "cell_type": "code",
   "execution_count": null,
   "metadata": {},
   "outputs": [],
   "source": []
  }
 ],
 "metadata": {
  "anaconda-cloud": {},
  "kernelspec": {
   "display_name": "Python 3",
   "language": "python",
   "name": "python3"
  },
  "language_info": {
   "codemirror_mode": {
    "name": "ipython",
    "version": 3
   },
   "file_extension": ".py",
   "mimetype": "text/x-python",
   "name": "python",
   "nbconvert_exporter": "python",
   "pygments_lexer": "ipython3",
   "version": "3.8.5"
  }
 },
 "nbformat": 4,
 "nbformat_minor": 4
}
