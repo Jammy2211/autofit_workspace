{
  "cells": [
    {
      "cell_type": "markdown",
      "metadata": {},
      "source": [
        "__Simulators__\n",
        "\n",
        "These scripts simulate the 1D Gaussian datasets used to demonstrate model-fitting."
      ]
    },
    {
      "cell_type": "code",
      "metadata": {},
      "source": [
        "%matplotlib inline\n",
        "from pyprojroot import here\n",
        "workspace_path = str(here())\n",
        "%cd $workspace_path\n",
        "print(f\"Working Directory has been set to `{workspace_path}`\")\n",
        "\n",
        "import profiles\n",
        "import util\n",
        "from os import path"
      ],
      "outputs": [],
      "execution_count": null
    },
    {
      "cell_type": "markdown",
      "metadata": {},
      "source": [
        "__Gaussian x1__"
      ]
    },
    {
      "cell_type": "code",
      "metadata": {},
      "source": [
        "dataset_path = path.join(\"dataset\", \"example_1d\", \"gaussian_x1\")\n",
        "gaussian = profiles.Gaussian(centre=50.0, intensity=25.0, sigma=10.0)\n",
        "util.simulate_line_from_gaussian(gaussian=gaussian, dataset_path=dataset_path)"
      ],
      "outputs": [],
      "execution_count": null
    },
    {
      "cell_type": "markdown",
      "metadata": {},
      "source": [
        "__Gaussian x1 (0)__"
      ]
    },
    {
      "cell_type": "code",
      "metadata": {},
      "source": [
        "dataset_path = path.join(\"dataset\", \"example_1d\", \"gaussian_x1_0\")\n",
        "gaussian = profiles.Gaussian(centre=50.0, intensity=25.0, sigma=1.0)\n",
        "util.simulate_line_from_gaussian(gaussian=gaussian, dataset_path=dataset_path)"
      ],
      "outputs": [],
      "execution_count": null
    },
    {
      "cell_type": "markdown",
      "metadata": {},
      "source": [
        "__Gaussian x1 (1)__"
      ]
    },
    {
      "cell_type": "code",
      "metadata": {},
      "source": [
        "gaussian = profiles.Gaussian(centre=50.0, intensity=25.0, sigma=5.0)\n",
        "dataset_path = path.join(\"dataset\", \"example_1d\", \"gaussian_x1_1\")\n",
        "util.simulate_line_from_gaussian(gaussian=gaussian, dataset_path=dataset_path)"
      ],
      "outputs": [],
      "execution_count": null
    },
    {
      "cell_type": "markdown",
      "metadata": {},
      "source": [
        "__Gaussian x1 (2)__"
      ]
    },
    {
      "cell_type": "code",
      "metadata": {},
      "source": [
        "gaussian = profiles.Gaussian(centre=50.0, intensity=25.0, sigma=10.0)\n",
        "dataset_path = path.join(\"dataset\", \"example_1d\", \"gaussian_x1_2\")\n",
        "util.simulate_line_from_gaussian(gaussian=gaussian, dataset_path=dataset_path)"
      ],
      "outputs": [],
      "execution_count": null
    },
    {
      "cell_type": "markdown",
      "metadata": {},
      "source": [
        "__Gaussian x1 + Exponential x1__"
      ]
    },
    {
      "cell_type": "code",
      "metadata": {},
      "source": [
        "gaussian = profiles.Gaussian(centre=50.0, intensity=25.0, sigma=10.0)\n",
        "exponential = profiles.Exponential(centre=50.0, intensity=40.0, rate=0.05)\n",
        "dataset_path = path.join(\"dataset\", \"example_1d\", \"gaussian_x1__exponential_x1\")\n",
        "util.simulate_line_from_profiles(\n",
        "    profiles=[gaussian, exponential], dataset_path=dataset_path\n",
        ")"
      ],
      "outputs": [],
      "execution_count": null
    },
    {
      "cell_type": "markdown",
      "metadata": {},
      "source": [
        "__Gaussian x2 + Exponential x1__"
      ]
    },
    {
      "cell_type": "code",
      "metadata": {},
      "source": [
        "gaussian_0 = profiles.Gaussian(centre=50.0, intensity=25.0, sigma=10.0)\n",
        "gaussian_1 = profiles.Gaussian(centre=20.0, intensity=30.0, sigma=5.0)\n",
        "exponential = profiles.Exponential(centre=70.0, intensity=40.0, rate=0.005)\n",
        "dataset_path = path.join(\"dataset\", \"example_1d\", \"gaussian_x2__exponential_x1\")\n",
        "util.simulate_line_from_profiles(\n",
        "    profiles=[gaussian_0, gaussian_1, exponential], dataset_path=dataset_path\n",
        ")"
      ],
      "outputs": [],
      "execution_count": null
    },
    {
      "cell_type": "markdown",
      "metadata": {},
      "source": [
        "__Gaussian x3__"
      ]
    },
    {
      "cell_type": "code",
      "metadata": {},
      "source": [
        "gaussian_0 = profiles.Gaussian(centre=50.0, intensity=20.0, sigma=1.0)\n",
        "gaussian_1 = profiles.Gaussian(centre=50.0, intensity=40.0, sigma=5.0)\n",
        "gaussian_2 = profiles.Gaussian(centre=50.0, intensity=60.0, sigma=10.0)\n",
        "dataset_path = path.join(\"dataset\", \"example_1d\", \"gaussian_x3\")\n",
        "util.simulate_line_from_profiles(\n",
        "    profiles=[gaussian_0, gaussian_1, gaussian_2], dataset_path=dataset_path\n",
        ")"
      ],
      "outputs": [],
      "execution_count": null
    },
    {
      "cell_type": "markdown",
      "metadata": {},
      "source": [
        "__Gaussian x1 unconvolved__"
      ]
    },
    {
      "cell_type": "code",
      "metadata": {},
      "source": [
        "dataset_path = path.join(\"dataset\", \"example_1d\", \"gaussian_x1_unconvolved\")\n",
        "gaussian = profiles.Gaussian(centre=50.0, intensity=25.0, sigma=3.0)\n",
        "util.simulate_line_from_gaussian(gaussian=gaussian, dataset_path=dataset_path)"
      ],
      "outputs": [],
      "execution_count": null
    },
    {
      "cell_type": "markdown",
      "metadata": {},
      "source": [
        "__Gaussian x1 convolved__"
      ]
    },
    {
      "cell_type": "code",
      "metadata": {},
      "source": [
        "dataset_path = path.join(\"dataset\", \"example_1d\", \"gaussian_x1_convolved\")\n",
        "gaussian = profiles.Gaussian(centre=50.0, intensity=25.0, sigma=3.0)\n",
        "util.simulate_line_with_kernel_from_gaussian(\n",
        "    gaussian=gaussian, dataset_path=dataset_path\n",
        ")"
      ],
      "outputs": [],
      "execution_count": null
    },
    {
      "cell_type": "markdown",
      "metadata": {},
      "source": [
        "__Gaussian x1 with feature__"
      ]
    },
    {
      "cell_type": "code",
      "metadata": {},
      "source": [
        "dataset_path = path.join(\"dataset\", \"example_1d\", \"gaussian_x1_with_feature\")\n",
        "gaussian = profiles.Gaussian(centre=50.0, intensity=25.0, sigma=10.0)\n",
        "gaussian_feature = profiles.Gaussian(centre=70.0, intensity=0.3, sigma=0.5)\n",
        "util.simulate_line_from_profiles(\n",
        "    profiles=[gaussian, gaussian_feature], dataset_path=dataset_path\n",
        ")"
      ],
      "outputs": [],
      "execution_count": null
    },
    {
      "cell_type": "markdown",
      "metadata": {},
      "source": [
        "__Gaussian x2 split__"
      ]
    },
    {
      "cell_type": "code",
      "metadata": {},
      "source": [
        "dataset_path = path.join(\"dataset\", \"example_1d\", \"gaussian_x2_split\")\n",
        "gaussian_0 = profiles.Gaussian(centre=25.0, intensity=50.0, sigma=12.5)\n",
        "gaussian_1 = profiles.Gaussian(centre=75.0, intensity=50.0, sigma=12.5)\n",
        "util.simulate_line_from_profiles(\n",
        "    profiles=[gaussian_0, gaussian_1], dataset_path=dataset_path\n",
        ")"
      ],
      "outputs": [],
      "execution_count": null
    },
    {
      "cell_type": "markdown",
      "metadata": {},
      "source": [
        "__Gaussian x1 low snr (0)__"
      ]
    },
    {
      "cell_type": "code",
      "metadata": {},
      "source": [
        "dataset_path = path.join(\"dataset\", \"example_1d\", \"gaussian_x1_0__low_snr\")\n",
        "gaussian = profiles.Gaussian(centre=50.0, intensity=1.5, sigma=6.0)\n",
        "util.simulate_line_from_gaussian(gaussian=gaussian, dataset_path=dataset_path)"
      ],
      "outputs": [],
      "execution_count": null
    },
    {
      "cell_type": "markdown",
      "metadata": {},
      "source": [
        "__Gaussian x1 low snr (1)__"
      ]
    },
    {
      "cell_type": "code",
      "metadata": {},
      "source": [
        "gaussian = profiles.Gaussian(centre=50.0, intensity=2.0, sigma=8.0)\n",
        "dataset_path = path.join(\"dataset\", \"example_1d\", \"gaussian_x1_1__low_snr\")\n",
        "util.simulate_line_from_gaussian(gaussian=gaussian, dataset_path=dataset_path)"
      ],
      "outputs": [],
      "execution_count": null
    },
    {
      "cell_type": "markdown",
      "metadata": {},
      "source": [
        "__Gaussian x1 low snr (2)__"
      ]
    },
    {
      "cell_type": "code",
      "metadata": {},
      "source": [
        "gaussian = profiles.Gaussian(centre=50.0, intensity=5.0, sigma=15.0)\n",
        "dataset_path = path.join(\"dataset\", \"example_1d\", \"gaussian_x1_2__low_snr\")\n",
        "util.simulate_line_from_gaussian(gaussian=gaussian, dataset_path=dataset_path)"
      ],
      "outputs": [],
      "execution_count": null
    },
    {
      "cell_type": "markdown",
      "metadata": {},
      "source": [
        "Finish."
      ]
    },
    {
      "cell_type": "code",
      "metadata": {},
      "source": [],
      "outputs": [],
      "execution_count": null
    }
  ],
  "metadata": {
    "anaconda-cloud": {},
    "kernelspec": {
      "display_name": "Python 3",
      "language": "python",
      "name": "python3"
    },
    "language_info": {
      "codemirror_mode": {
        "name": "ipython",
        "version": 3
      },
      "file_extension": ".py",
      "mimetype": "text/x-python",
      "name": "python",
      "nbconvert_exporter": "python",
      "pygments_lexer": "ipython3",
      "version": "3.6.1"
    }
  },
  "nbformat": 4,
  "nbformat_minor": 4
}