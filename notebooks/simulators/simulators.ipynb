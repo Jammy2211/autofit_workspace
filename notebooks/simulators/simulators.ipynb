{
 "cells": [
  {
   "cell_type": "markdown",
   "metadata": {},
   "source": [
    "__Simulators__\n",
    "\n",
    "These scripts simulate the 1D Gaussian datasets used to demonstrate model-fitting."
   ]
  },
  {
   "cell_type": "code",
   "execution_count": 1,
   "metadata": {
    "execution": {
     "iopub.execute_input": "2021-03-06T13:41:04.712062Z",
     "iopub.status.busy": "2021-03-06T13:41:04.711356Z",
     "iopub.status.idle": "2021-03-06T13:41:05.730864Z",
     "shell.execute_reply": "2021-03-06T13:41:05.731418Z"
    }
   },
   "outputs": [
    {
     "name": "stdout",
     "output_type": "stream",
     "text": [
      "/mnt/c/Users/Jammy/Code/PyAuto/autofit_workspace\n",
      "Working Directory has been set to `/mnt/c/Users/Jammy/Code/PyAuto/autofit_workspace`\n"
     ]
    }
   ],
   "source": [
    "%matplotlib inline\n",
    "from pyprojroot import here\n",
    "workspace_path = str(here())\n",
    "%cd $workspace_path\n",
    "print(f\"Working Directory has been set to `{workspace_path}`\")\n",
    "\n",
    "import profiles\n",
    "import util\n",
    "from os import path"
   ]
  },
  {
   "cell_type": "markdown",
   "metadata": {},
   "source": [
    "__Gaussian x1__"
   ]
  },
  {
   "cell_type": "code",
   "execution_count": 2,
   "metadata": {
    "execution": {
     "iopub.execute_input": "2021-03-06T13:41:05.735783Z",
     "iopub.status.busy": "2021-03-06T13:41:05.735352Z",
     "iopub.status.idle": "2021-03-06T13:41:05.841910Z",
     "shell.execute_reply": "2021-03-06T13:41:05.842252Z"
    }
   },
   "outputs": [],
   "source": [
    "dataset_path = path.join(\"dataset\", \"example_1d\", \"gaussian_x1\")\n",
    "gaussian = profiles.Gaussian(centre=50.0, intensity=25.0, sigma=10.0)\n",
    "util.simulate_line_from_gaussian(gaussian=gaussian, dataset_path=dataset_path)"
   ]
  },
  {
   "cell_type": "markdown",
   "metadata": {},
   "source": [
    "__Gaussian x1 (0)__"
   ]
  },
  {
   "cell_type": "code",
   "execution_count": 3,
   "metadata": {
    "execution": {
     "iopub.execute_input": "2021-03-06T13:41:05.845518Z",
     "iopub.status.busy": "2021-03-06T13:41:05.845112Z",
     "iopub.status.idle": "2021-03-06T13:41:05.933078Z",
     "shell.execute_reply": "2021-03-06T13:41:05.933391Z"
    }
   },
   "outputs": [],
   "source": [
    "dataset_path = path.join(\"dataset\", \"example_1d\", \"gaussian_x1_0\")\n",
    "gaussian = profiles.Gaussian(centre=50.0, intensity=25.0, sigma=1.0)\n",
    "util.simulate_line_from_gaussian(gaussian=gaussian, dataset_path=dataset_path)"
   ]
  },
  {
   "cell_type": "markdown",
   "metadata": {},
   "source": [
    "__Gaussian x1 (1)__"
   ]
  },
  {
   "cell_type": "code",
   "execution_count": 4,
   "metadata": {
    "execution": {
     "iopub.execute_input": "2021-03-06T13:41:05.936935Z",
     "iopub.status.busy": "2021-03-06T13:41:05.936508Z",
     "iopub.status.idle": "2021-03-06T13:41:06.027663Z",
     "shell.execute_reply": "2021-03-06T13:41:06.027252Z"
    }
   },
   "outputs": [],
   "source": [
    "gaussian = profiles.Gaussian(centre=50.0, intensity=25.0, sigma=5.0)\n",
    "dataset_path = path.join(\"dataset\", \"example_1d\", \"gaussian_x1_1\")\n",
    "util.simulate_line_from_gaussian(gaussian=gaussian, dataset_path=dataset_path)"
   ]
  },
  {
   "cell_type": "markdown",
   "metadata": {},
   "source": [
    "__Gaussian x1 (2)__"
   ]
  },
  {
   "cell_type": "code",
   "execution_count": 5,
   "metadata": {
    "execution": {
     "iopub.execute_input": "2021-03-06T13:41:06.030951Z",
     "iopub.status.busy": "2021-03-06T13:41:06.030561Z",
     "iopub.status.idle": "2021-03-06T13:41:06.158387Z",
     "shell.execute_reply": "2021-03-06T13:41:06.158737Z"
    }
   },
   "outputs": [],
   "source": [
    "gaussian = profiles.Gaussian(centre=50.0, intensity=25.0, sigma=10.0)\n",
    "dataset_path = path.join(\"dataset\", \"example_1d\", \"gaussian_x1_2\")\n",
    "util.simulate_line_from_gaussian(gaussian=gaussian, dataset_path=dataset_path)"
   ]
  },
  {
   "cell_type": "markdown",
   "metadata": {},
   "source": [
    "__Gaussian x1 + Exponential x1__"
   ]
  },
  {
   "cell_type": "code",
   "execution_count": 6,
   "metadata": {
    "execution": {
     "iopub.execute_input": "2021-03-06T13:41:06.162170Z",
     "iopub.status.busy": "2021-03-06T13:41:06.161787Z",
     "iopub.status.idle": "2021-03-06T13:41:06.254563Z",
     "shell.execute_reply": "2021-03-06T13:41:06.254879Z"
    }
   },
   "outputs": [],
   "source": [
    "gaussian = profiles.Gaussian(centre=50.0, intensity=25.0, sigma=10.0)\n",
    "exponential = profiles.Exponential(centre=50.0, intensity=40.0, rate=0.05)\n",
    "dataset_path = path.join(\"dataset\", \"example_1d\", \"gaussian_x1__exponential_x1\")\n",
    "util.simulate_line_from_profiles(\n",
    "    profiles=[gaussian, exponential], dataset_path=dataset_path\n",
    ")"
   ]
  },
  {
   "cell_type": "markdown",
   "metadata": {},
   "source": [
    "__Gaussian x2 + Exponential x1__"
   ]
  },
  {
   "cell_type": "code",
   "execution_count": 7,
   "metadata": {
    "execution": {
     "iopub.execute_input": "2021-03-06T13:41:06.259182Z",
     "iopub.status.busy": "2021-03-06T13:41:06.258509Z",
     "iopub.status.idle": "2021-03-06T13:41:06.351222Z",
     "shell.execute_reply": "2021-03-06T13:41:06.351686Z"
    }
   },
   "outputs": [],
   "source": [
    "gaussian_0 = profiles.Gaussian(centre=50.0, intensity=25.0, sigma=10.0)\n",
    "gaussian_1 = profiles.Gaussian(centre=20.0, intensity=30.0, sigma=5.0)\n",
    "exponential = profiles.Exponential(centre=70.0, intensity=40.0, rate=0.005)\n",
    "dataset_path = path.join(\"dataset\", \"example_1d\", \"gaussian_x2__exponential_x1\")\n",
    "util.simulate_line_from_profiles(\n",
    "    profiles=[gaussian_0, gaussian_1, exponential], dataset_path=dataset_path\n",
    ")"
   ]
  },
  {
   "cell_type": "markdown",
   "metadata": {},
   "source": [
    "__Gaussian x3__"
   ]
  },
  {
   "cell_type": "code",
   "execution_count": 8,
   "metadata": {
    "execution": {
     "iopub.execute_input": "2021-03-06T13:41:06.356002Z",
     "iopub.status.busy": "2021-03-06T13:41:06.355514Z",
     "iopub.status.idle": "2021-03-06T13:41:06.449154Z",
     "shell.execute_reply": "2021-03-06T13:41:06.449456Z"
    }
   },
   "outputs": [],
   "source": [
    "gaussian_0 = profiles.Gaussian(centre=50.0, intensity=20.0, sigma=1.0)\n",
    "gaussian_1 = profiles.Gaussian(centre=50.0, intensity=40.0, sigma=5.0)\n",
    "gaussian_2 = profiles.Gaussian(centre=50.0, intensity=60.0, sigma=10.0)\n",
    "dataset_path = path.join(\"dataset\", \"example_1d\", \"gaussian_x3\")\n",
    "util.simulate_line_from_profiles(\n",
    "    profiles=[gaussian_0, gaussian_1, gaussian_2], dataset_path=dataset_path\n",
    ")"
   ]
  },
  {
   "cell_type": "markdown",
   "metadata": {},
   "source": [
    "__Gaussian x1 unconvolved__"
   ]
  },
  {
   "cell_type": "code",
   "execution_count": 9,
   "metadata": {
    "execution": {
     "iopub.execute_input": "2021-03-06T13:41:06.452421Z",
     "iopub.status.busy": "2021-03-06T13:41:06.452035Z",
     "iopub.status.idle": "2021-03-06T13:41:06.545716Z",
     "shell.execute_reply": "2021-03-06T13:41:06.546036Z"
    }
   },
   "outputs": [],
   "source": [
    "dataset_path = path.join(\"dataset\", \"example_1d\", \"gaussian_x1_unconvolved\")\n",
    "gaussian = profiles.Gaussian(centre=50.0, intensity=25.0, sigma=3.0)\n",
    "util.simulate_line_from_gaussian(gaussian=gaussian, dataset_path=dataset_path)"
   ]
  },
  {
   "cell_type": "markdown",
   "metadata": {},
   "source": [
    "__Gaussian x1 convolved__"
   ]
  },
  {
   "cell_type": "code",
   "execution_count": 10,
   "metadata": {
    "execution": {
     "iopub.execute_input": "2021-03-06T13:41:06.549534Z",
     "iopub.status.busy": "2021-03-06T13:41:06.549142Z",
     "iopub.status.idle": "2021-03-06T13:41:06.643467Z",
     "shell.execute_reply": "2021-03-06T13:41:06.643785Z"
    }
   },
   "outputs": [],
   "source": [
    "dataset_path = path.join(\"dataset\", \"example_1d\", \"gaussian_x1_convolved\")\n",
    "gaussian = profiles.Gaussian(centre=50.0, intensity=25.0, sigma=3.0)\n",
    "util.simulate_line_with_kernel_from_gaussian(\n",
    "    gaussian=gaussian, dataset_path=dataset_path\n",
    ")"
   ]
  },
  {
   "cell_type": "markdown",
   "metadata": {},
   "source": [
    "__Gaussian x1 with feature__"
   ]
  },
  {
   "cell_type": "code",
   "execution_count": 11,
   "metadata": {
    "execution": {
     "iopub.execute_input": "2021-03-06T13:41:06.647067Z",
     "iopub.status.busy": "2021-03-06T13:41:06.646725Z",
     "iopub.status.idle": "2021-03-06T13:41:06.725879Z",
     "shell.execute_reply": "2021-03-06T13:41:06.725559Z"
    }
   },
   "outputs": [],
   "source": [
    "dataset_path = path.join(\"dataset\", \"example_1d\", \"gaussian_x1_with_feature\")\n",
    "gaussian = profiles.Gaussian(centre=50.0, intensity=25.0, sigma=10.0)\n",
    "gaussian_feature = profiles.Gaussian(centre=70.0, intensity=0.3, sigma=0.5)\n",
    "util.simulate_line_from_profiles(\n",
    "    profiles=[gaussian, gaussian_feature], dataset_path=dataset_path\n",
    ")"
   ]
  },
  {
   "cell_type": "markdown",
   "metadata": {},
   "source": [
    "__Gaussian x2 split__"
   ]
  },
  {
   "cell_type": "code",
   "execution_count": 12,
   "metadata": {
    "execution": {
     "iopub.execute_input": "2021-03-06T13:41:06.728833Z",
     "iopub.status.busy": "2021-03-06T13:41:06.728484Z",
     "iopub.status.idle": "2021-03-06T13:41:06.814831Z",
     "shell.execute_reply": "2021-03-06T13:41:06.815091Z"
    }
   },
   "outputs": [],
   "source": [
    "dataset_path = path.join(\"dataset\", \"example_1d\", \"gaussian_x2_split\")\n",
    "gaussian_0 = profiles.Gaussian(centre=25.0, intensity=50.0, sigma=12.5)\n",
    "gaussian_1 = profiles.Gaussian(centre=75.0, intensity=50.0, sigma=12.5)\n",
    "util.simulate_line_from_profiles(\n",
    "    profiles=[gaussian_0, gaussian_1], dataset_path=dataset_path\n",
    ")"
   ]
  },
  {
   "cell_type": "markdown",
   "metadata": {},
   "source": [
    "__Gaussian x1 low snr (0)__"
   ]
  },
  {
   "cell_type": "code",
   "execution_count": 13,
   "metadata": {
    "execution": {
     "iopub.execute_input": "2021-03-06T13:41:06.818122Z",
     "iopub.status.busy": "2021-03-06T13:41:06.817690Z",
     "iopub.status.idle": "2021-03-06T13:41:06.899617Z",
     "shell.execute_reply": "2021-03-06T13:41:06.899318Z"
    }
   },
   "outputs": [],
   "source": [
    "dataset_path = path.join(\"dataset\", \"example_1d\", \"gaussian_x1_0__low_snr\")\n",
    "gaussian = profiles.Gaussian(centre=50.0, intensity=1.5, sigma=6.0)\n",
    "util.simulate_line_from_gaussian(gaussian=gaussian, dataset_path=dataset_path)"
   ]
  },
  {
   "cell_type": "markdown",
   "metadata": {},
   "source": [
    "__Gaussian x1 low snr (1)__"
   ]
  },
  {
   "cell_type": "code",
   "execution_count": 14,
   "metadata": {
    "execution": {
     "iopub.execute_input": "2021-03-06T13:41:06.902558Z",
     "iopub.status.busy": "2021-03-06T13:41:06.902232Z",
     "iopub.status.idle": "2021-03-06T13:41:06.987907Z",
     "shell.execute_reply": "2021-03-06T13:41:06.988159Z"
    }
   },
   "outputs": [],
   "source": [
    "gaussian = profiles.Gaussian(centre=50.0, intensity=2.0, sigma=8.0)\n",
    "dataset_path = path.join(\"dataset\", \"example_1d\", \"gaussian_x1_1__low_snr\")\n",
    "util.simulate_line_from_gaussian(gaussian=gaussian, dataset_path=dataset_path)"
   ]
  },
  {
   "cell_type": "markdown",
   "metadata": {},
   "source": [
    "__Gaussian x1 low snr (2)__"
   ]
  },
  {
   "cell_type": "code",
   "execution_count": 15,
   "metadata": {
    "execution": {
     "iopub.execute_input": "2021-03-06T13:41:06.991236Z",
     "iopub.status.busy": "2021-03-06T13:41:06.990722Z",
     "iopub.status.idle": "2021-03-06T13:41:07.079059Z",
     "shell.execute_reply": "2021-03-06T13:41:07.078758Z"
    }
   },
   "outputs": [],
   "source": [
    "gaussian = profiles.Gaussian(centre=50.0, intensity=5.0, sigma=15.0)\n",
    "dataset_path = path.join(\"dataset\", \"example_1d\", \"gaussian_x1_2__low_snr\")\n",
    "util.simulate_line_from_gaussian(gaussian=gaussian, dataset_path=dataset_path)"
   ]
  },
  {
   "cell_type": "markdown",
   "metadata": {},
   "source": [
    "Finish."
   ]
  },
  {
   "cell_type": "code",
   "execution_count": null,
   "metadata": {},
   "outputs": [],
   "source": []
  }
 ],
 "metadata": {
  "anaconda-cloud": {},
  "kernelspec": {
   "display_name": "Python 3",
   "language": "python",
   "name": "python3"
  },
  "language_info": {
   "codemirror_mode": {
    "name": "ipython",
    "version": 3
   },
   "file_extension": ".py",
   "mimetype": "text/x-python",
   "name": "python",
   "nbconvert_exporter": "python",
   "pygments_lexer": "ipython3",
   "version": "3.8.5"
  }
 },
 "nbformat": 4,
 "nbformat_minor": 4
}
