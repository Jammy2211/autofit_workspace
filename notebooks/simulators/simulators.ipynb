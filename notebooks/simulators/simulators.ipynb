{
  "cells": [
    {
      "cell_type": "markdown",
      "metadata": {},
      "source": [
        "__Simulators__\n",
        "\n",
        "These scripts simulate the 1D Gaussian datasets used to demonstrate model-fitting."
      ]
    },
    {
      "cell_type": "code",
      "metadata": {},
      "source": [
        "\n",
        "%matplotlib inline\n",
        "from pyprojroot import here\n",
        "workspace_path = str(here())\n",
        "%cd $workspace_path\n",
        "print(f\"Working Directory has been set to `{workspace_path}`\")\n",
        "\n",
        "import util\n",
        "from os import path\n",
        "\n",
        "import autofit as af"
      ],
      "outputs": [],
      "execution_count": null
    },
    {
      "cell_type": "markdown",
      "metadata": {},
      "source": [
        "__Gaussian x1__"
      ]
    },
    {
      "cell_type": "code",
      "metadata": {},
      "source": [
        "dataset_path = path.join(\"dataset\", \"example_1d\", \"gaussian_x1\")\n",
        "gaussian = af.ex.Gaussian(centre=50.0, normalization=25.0, sigma=10.0)\n",
        "util.simulate_dataset_1d_via_gaussian_from(gaussian=gaussian, dataset_path=dataset_path)"
      ],
      "outputs": [],
      "execution_count": null
    },
    {
      "cell_type": "markdown",
      "metadata": {},
      "source": [
        "__Gaussian x1 (0)__"
      ]
    },
    {
      "cell_type": "code",
      "metadata": {},
      "source": [
        "dataset_path = path.join(\"dataset\", \"example_1d\", \"gaussian_x1_0\")\n",
        "gaussian = af.ex.Gaussian(centre=50.0, normalization=25.0, sigma=1.0)\n",
        "util.simulate_dataset_1d_via_gaussian_from(gaussian=gaussian, dataset_path=dataset_path)"
      ],
      "outputs": [],
      "execution_count": null
    },
    {
      "cell_type": "markdown",
      "metadata": {},
      "source": [
        "__Gaussian x1 (1)__"
      ]
    },
    {
      "cell_type": "code",
      "metadata": {},
      "source": [
        "gaussian = af.ex.Gaussian(centre=50.0, normalization=25.0, sigma=5.0)\n",
        "dataset_path = path.join(\"dataset\", \"example_1d\", \"gaussian_x1_1\")\n",
        "util.simulate_dataset_1d_via_gaussian_from(gaussian=gaussian, dataset_path=dataset_path)"
      ],
      "outputs": [],
      "execution_count": null
    },
    {
      "cell_type": "markdown",
      "metadata": {},
      "source": [
        "__Gaussian x1 (2)__"
      ]
    },
    {
      "cell_type": "code",
      "metadata": {},
      "source": [
        "gaussian = af.ex.Gaussian(centre=50.0, normalization=25.0, sigma=10.0)\n",
        "dataset_path = path.join(\"dataset\", \"example_1d\", \"gaussian_x1_2\")\n",
        "util.simulate_dataset_1d_via_gaussian_from(gaussian=gaussian, dataset_path=dataset_path)"
      ],
      "outputs": [],
      "execution_count": null
    },
    {
      "cell_type": "markdown",
      "metadata": {},
      "source": [
        "__Gaussian x1 (Identical 0)__"
      ]
    },
    {
      "cell_type": "code",
      "metadata": {},
      "source": [
        "dataset_path = path.join(\"dataset\", \"example_1d\", \"gaussian_x1_identical_0\")\n",
        "gaussian = af.ex.Gaussian(centre=50.0, normalization=25.0, sigma=10.0)\n",
        "util.simulate_dataset_1d_via_gaussian_from(gaussian=gaussian, dataset_path=dataset_path)"
      ],
      "outputs": [],
      "execution_count": null
    },
    {
      "cell_type": "markdown",
      "metadata": {},
      "source": [
        "__Gaussian x1 (Identical 1)__"
      ]
    },
    {
      "cell_type": "code",
      "metadata": {},
      "source": [
        "dataset_path = path.join(\"dataset\", \"example_1d\", \"gaussian_x1_identical_1\")\n",
        "gaussian = af.ex.Gaussian(centre=50.0, normalization=25.0, sigma=10.0)\n",
        "util.simulate_dataset_1d_via_gaussian_from(gaussian=gaussian, dataset_path=dataset_path)"
      ],
      "outputs": [],
      "execution_count": null
    },
    {
      "cell_type": "markdown",
      "metadata": {},
      "source": [
        "__Gaussian x1 (Identical 2)__"
      ]
    },
    {
      "cell_type": "code",
      "metadata": {},
      "source": [
        "dataset_path = path.join(\"dataset\", \"example_1d\", \"gaussian_x1_identical_2\")\n",
        "gaussian = af.ex.Gaussian(centre=50.0, normalization=25.0, sigma=10.0)\n",
        "util.simulate_dataset_1d_via_gaussian_from(gaussian=gaussian, dataset_path=dataset_path)"
      ],
      "outputs": [],
      "execution_count": null
    },
    {
      "cell_type": "markdown",
      "metadata": {},
      "source": [
        "__Gaussian x1 + Exponential x1__"
      ]
    },
    {
      "cell_type": "code",
      "metadata": {},
      "source": [
        "gaussian = af.ex.Gaussian(centre=50.0, normalization=25.0, sigma=10.0)\n",
        "exponential = af.ex.Exponential(centre=50.0, normalization=40.0, rate=0.05)\n",
        "dataset_path = path.join(\"dataset\", \"example_1d\", \"gaussian_x1__exponential_x1\")\n",
        "util.simulate_dataset_1d_via_profile_1d_list_from(\n",
        "    profile_1d_list=[gaussian, exponential], dataset_path=dataset_path\n",
        ")"
      ],
      "outputs": [],
      "execution_count": null
    },
    {
      "cell_type": "markdown",
      "metadata": {},
      "source": [
        "__Gaussian x2 + Exponential x1__"
      ]
    },
    {
      "cell_type": "code",
      "metadata": {},
      "source": [
        "gaussian_0 = af.ex.Gaussian(centre=50.0, normalization=25.0, sigma=10.0)\n",
        "gaussian_1 = af.ex.Gaussian(centre=20.0, normalization=30.0, sigma=5.0)\n",
        "exponential = af.ex.Exponential(centre=70.0, normalization=40.0, rate=0.005)\n",
        "dataset_path = path.join(\"dataset\", \"example_1d\", \"gaussian_x2__exponential_x1\")\n",
        "util.simulate_dataset_1d_via_profile_1d_list_from(\n",
        "    profile_1d_list=[gaussian_0, gaussian_1, exponential], dataset_path=dataset_path\n",
        ")"
      ],
      "outputs": [],
      "execution_count": null
    },
    {
      "cell_type": "markdown",
      "metadata": {},
      "source": [
        "__Gaussian x2__"
      ]
    },
    {
      "cell_type": "code",
      "metadata": {},
      "source": [
        "gaussian_0 = af.ex.Gaussian(centre=50.0, normalization=20.0, sigma=1.0)\n",
        "gaussian_1 = af.ex.Gaussian(centre=50.0, normalization=40.0, sigma=5.0)\n",
        "dataset_path = path.join(\"dataset\", \"example_1d\", \"gaussian_x2\")\n",
        "util.simulate_dataset_1d_via_profile_1d_list_from(\n",
        "    profile_1d_list=[gaussian_0, gaussian_1], dataset_path=dataset_path\n",
        ")"
      ],
      "outputs": [],
      "execution_count": null
    },
    {
      "cell_type": "markdown",
      "metadata": {},
      "source": [
        "__Gaussian x3__"
      ]
    },
    {
      "cell_type": "code",
      "metadata": {},
      "source": [
        "gaussian_0 = af.ex.Gaussian(centre=50.0, normalization=20.0, sigma=1.0)\n",
        "gaussian_1 = af.ex.Gaussian(centre=50.0, normalization=40.0, sigma=5.0)\n",
        "gaussian_2 = af.ex.Gaussian(centre=50.0, normalization=60.0, sigma=10.0)\n",
        "dataset_path = path.join(\"dataset\", \"example_1d\", \"gaussian_x3\")\n",
        "util.simulate_dataset_1d_via_profile_1d_list_from(\n",
        "    profile_1d_list=[gaussian_0, gaussian_1, gaussian_2], dataset_path=dataset_path\n",
        ")"
      ],
      "outputs": [],
      "execution_count": null
    },
    {
      "cell_type": "markdown",
      "metadata": {},
      "source": [
        "__Gaussian x5__"
      ]
    },
    {
      "cell_type": "code",
      "metadata": {},
      "source": [
        "gaussian_0 = af.ex.Gaussian(centre=50.0, normalization=20.0, sigma=1.0)\n",
        "gaussian_1 = af.ex.Gaussian(centre=50.0, normalization=40.0, sigma=5.0)\n",
        "gaussian_2 = af.ex.Gaussian(centre=50.0, normalization=60.0, sigma=10.0)\n",
        "gaussian_3 = af.ex.Gaussian(centre=50.0, normalization=80.0, sigma=15.0)\n",
        "gaussian_4 = af.ex.Gaussian(centre=50.0, normalization=100.0, sigma=20.0)\n",
        "dataset_path = path.join(\"dataset\", \"example_1d\", \"gaussian_x5\")\n",
        "util.simulate_dataset_1d_via_profile_1d_list_from(\n",
        "    profile_1d_list=[gaussian_0, gaussian_1, gaussian_2, gaussian_3, gaussian_4],\n",
        "    dataset_path=dataset_path,\n",
        ")"
      ],
      "outputs": [],
      "execution_count": null
    },
    {
      "cell_type": "markdown",
      "metadata": {},
      "source": [
        "__Gaussian x1 unconvolved__"
      ]
    },
    {
      "cell_type": "code",
      "metadata": {},
      "source": [
        "dataset_path = path.join(\"dataset\", \"example_1d\", \"gaussian_x1_unconvolved\")\n",
        "gaussian = af.ex.Gaussian(centre=50.0, normalization=25.0, sigma=3.0)\n",
        "util.simulate_dataset_1d_via_gaussian_from(gaussian=gaussian, dataset_path=dataset_path)"
      ],
      "outputs": [],
      "execution_count": null
    },
    {
      "cell_type": "markdown",
      "metadata": {},
      "source": [
        "__Gaussian x1 convolved__"
      ]
    },
    {
      "cell_type": "code",
      "metadata": {},
      "source": [
        "dataset_path = path.join(\"dataset\", \"example_1d\", \"gaussian_x1_convolved\")\n",
        "gaussian = af.ex.Gaussian(centre=50.0, normalization=25.0, sigma=3.0)\n",
        "util.simulate_data_1d_with_kernel_via_gaussian_from(\n",
        "    gaussian=gaussian, dataset_path=dataset_path\n",
        ")"
      ],
      "outputs": [],
      "execution_count": null
    },
    {
      "cell_type": "markdown",
      "metadata": {},
      "source": [
        "__Gaussian x1 with feature__"
      ]
    },
    {
      "cell_type": "code",
      "metadata": {},
      "source": [
        "dataset_path = path.join(\"dataset\", \"example_1d\", \"gaussian_x1_with_feature\")\n",
        "gaussian = af.ex.Gaussian(centre=50.0, normalization=25.0, sigma=10.0)\n",
        "gaussian_feature = af.ex.Gaussian(centre=70.0, normalization=0.3, sigma=0.5)\n",
        "util.simulate_dataset_1d_via_profile_1d_list_from(\n",
        "    profile_1d_list=[gaussian, gaussian_feature], dataset_path=dataset_path\n",
        ")"
      ],
      "outputs": [],
      "execution_count": null
    },
    {
      "cell_type": "markdown",
      "metadata": {},
      "source": [
        "__Gaussian x2 split__"
      ]
    },
    {
      "cell_type": "code",
      "metadata": {},
      "source": [
        "dataset_path = path.join(\"dataset\", \"example_1d\", \"gaussian_x2_split\")\n",
        "gaussian_0 = af.ex.Gaussian(centre=25.0, normalization=50.0, sigma=12.5)\n",
        "gaussian_1 = af.ex.Gaussian(centre=75.0, normalization=50.0, sigma=12.5)\n",
        "util.simulate_dataset_1d_via_profile_1d_list_from(\n",
        "    profile_1d_list=[gaussian_0, gaussian_1], dataset_path=dataset_path\n",
        ")\n"
      ],
      "outputs": [],
      "execution_count": null
    },
    {
      "cell_type": "markdown",
      "metadata": {},
      "source": [
        "__Gaussian x1 time__"
      ]
    },
    {
      "cell_type": "code",
      "metadata": {},
      "source": [
        "dataset_path = path.join(\"dataset\", \"example_1d\", \"gaussian_x1_time\", \"time_0\")\n",
        "gaussian = af.ex.Gaussian(centre=40.0, normalization=50.0, sigma=20.0)\n",
        "util.simulate_dataset_1d_via_gaussian_from(gaussian=gaussian, dataset_path=dataset_path)\n",
        "\n",
        "dataset_path = path.join(\"dataset\", \"example_1d\", \"gaussian_x1_time\", \"time_1\")\n",
        "gaussian = af.ex.Gaussian(centre=50.0, normalization=50.0, sigma=20.0)\n",
        "util.simulate_dataset_1d_via_gaussian_from(gaussian=gaussian, dataset_path=dataset_path)\n",
        "\n",
        "dataset_path = path.join(\"dataset\", \"example_1d\", \"gaussian_x1_time\", \"time_2\")\n",
        "gaussian = af.ex.Gaussian(centre=60.0, normalization=50.0, sigma=20.0)\n",
        "util.simulate_dataset_1d_via_gaussian_from(gaussian=gaussian, dataset_path=dataset_path)\n"
      ],
      "outputs": [],
      "execution_count": null
    },
    {
      "cell_type": "markdown",
      "metadata": {},
      "source": [
        "__Gaussian x1 time__"
      ]
    },
    {
      "cell_type": "code",
      "metadata": {},
      "source": [
        "dataset_path = path.join(\"dataset\", \"example_1d\", \"gaussian_x1_variable\", \"sigma_0\")\n",
        "gaussian = af.ex.Gaussian(centre=50.0, normalization=50.0, sigma=10.0)\n",
        "util.simulate_dataset_1d_via_gaussian_from(gaussian=gaussian, dataset_path=dataset_path)\n",
        "\n",
        "dataset_path = path.join(\"dataset\", \"example_1d\", \"gaussian_x1_variable\", \"sigma_1\")\n",
        "gaussian = af.ex.Gaussian(centre=50.0, normalization=50.0, sigma=20.0)\n",
        "util.simulate_dataset_1d_via_gaussian_from(gaussian=gaussian, dataset_path=dataset_path)\n",
        "\n",
        "dataset_path = path.join(\"dataset\", \"example_1d\", \"gaussian_x1_variable\", \"sigma_2\")\n",
        "gaussian = af.ex.Gaussian(centre=50.0, normalization=50.0, sigma=30.0)\n",
        "util.simulate_dataset_1d_via_gaussian_from(gaussian=gaussian, dataset_path=dataset_path)"
      ],
      "outputs": [],
      "execution_count": null
    },
    {
      "cell_type": "markdown",
      "metadata": {},
      "source": [
        "Finish."
      ]
    },
    {
      "cell_type": "code",
      "metadata": {},
      "source": [],
      "outputs": [],
      "execution_count": null
    }
  ],
  "metadata": {
    "anaconda-cloud": {},
    "kernelspec": {
      "display_name": "Python 3",
      "language": "python",
      "name": "python3"
    },
    "language_info": {
      "codemirror_mode": {
        "name": "ipython",
        "version": 3
      },
      "file_extension": ".py",
      "mimetype": "text/x-python",
      "name": "python",
      "nbconvert_exporter": "python",
      "pygments_lexer": "ipython3",
      "version": "3.6.1"
    }
  },
  "nbformat": 4,
  "nbformat_minor": 4
}