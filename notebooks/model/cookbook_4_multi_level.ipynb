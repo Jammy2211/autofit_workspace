{
  "cells": [
    {
      "cell_type": "markdown",
      "metadata": {},
      "source": [
        "Cookbook 4: Multi-level Models\n",
        "==============================\n",
        "\n",
        "A multi-level model component is written as a Python class where input arguments include one or more optional lists of\n",
        "Python classes that themselves are instantiated as model components.\n",
        "\n",
        "For example, the multi-level model below is a Python class that consists of a collection of 1D Gaussian's but has\n",
        "all of their centres as its own higher level parameter:"
      ]
    },
    {
      "cell_type": "code",
      "metadata": {},
      "source": [
        "%matplotlib inline\n",
        "from pyprojroot import here\n",
        "workspace_path = str(here())\n",
        "%cd $workspace_path\n",
        "print(f\"Working Directory has been set to `{workspace_path}`\")\n",
        "\n",
        "import json\n",
        "import os\n",
        "from os import path\n",
        "\n",
        "import autofit as af\n",
        "\n",
        "\n",
        "class Gaussian:\n",
        "    def __init__(\n",
        "        self,\n",
        "        normalization=1.0,  # <- **PyAutoFit** recognises these constructor arguments\n",
        "        sigma=5.0,  # <- are the Gaussian``s model parameters.\n",
        "    ):\n",
        "        self.normalization = normalization\n",
        "        self.sigma = sigma\n",
        "\n",
        "\n",
        "class MultiLevelGaussians:\n",
        "    def __init__(\n",
        "        self,\n",
        "        higher_level_centre=50.0,  # This is the centre of all Gaussians in this multi level component.\n",
        "        gaussian_list=None,  # This will contain a list of ``af.Model(Gaussian)``'s\n",
        "    ):\n",
        "        self.higher_level_centre = higher_level_centre\n",
        "\n",
        "        self.gaussian_list = gaussian_list\n"
      ],
      "outputs": [],
      "execution_count": null
    },
    {
      "cell_type": "markdown",
      "metadata": {},
      "source": [
        "__Composition__\n",
        "\n",
        "The multi-level model is instantiated via the af.Model() command, which is passed one or more Gaussian components:"
      ]
    },
    {
      "cell_type": "code",
      "metadata": {},
      "source": [
        "model = af.Model(\n",
        "    MultiLevelGaussians, gaussian_list=[af.Model(Gaussian), af.Model(Gaussian)]\n",
        ")"
      ],
      "outputs": [],
      "execution_count": null
    },
    {
      "cell_type": "markdown",
      "metadata": {},
      "source": [
        "The multi-level model consists of two `Gaussian`'s, however their centres are now shared as a high level parameter.\n",
        "\n",
        "Thus, the total number of parameters is N=5 (x2 `normalizations`, `x2 `sigma`'s and x1 `higher_level_centre`."
      ]
    },
    {
      "cell_type": "code",
      "metadata": {},
      "source": [
        "print(f\"Multi-level Model Prior Count = {model.prior_count}\")"
      ],
      "outputs": [],
      "execution_count": null
    },
    {
      "cell_type": "markdown",
      "metadata": {},
      "source": [
        "Printing the `info` attribute of the model gives us information on all of the parameters, their priors and the \n",
        "structure of the multi level model."
      ]
    },
    {
      "cell_type": "code",
      "metadata": {},
      "source": [
        "\n",
        "# %%\n",
        "'''\n",
        "__Instances__\n",
        "\n",
        "When we create an instance via a multi-level model.\n",
        "\n",
        "Its attributes are structured in a slightly different way to the `Collection` seen in previous cookbooks. \n",
        "'''"
      ],
      "outputs": [],
      "execution_count": null
    },
    {
      "cell_type": "code",
      "metadata": {},
      "source": [
        "instance = model.instance_from_vector(vector=[1.0, 2.0, 3.0, 4.0, 5.0])\n",
        "\n",
        "print(\"Model Instance: \\n\")\n",
        "print(instance)\n",
        "\n",
        "print(\"Instance Parameters \\n\")\n",
        "print(\"Normalization (Gaussian 0) = \", instance.gaussian_list[0].normalization)\n",
        "print(\"Sigma (Gaussian 0) = \", instance.gaussian_list[0].sigma)\n",
        "print(\"Normalization (Gaussian 0) = \", instance.gaussian_list[1].normalization)\n",
        "print(\"Sigma (Gaussian 0) = \", instance.gaussian_list[1].sigma)\n",
        "print(\"Higher Level Centre= \", instance.higher_level_centre)"
      ],
      "outputs": [],
      "execution_count": null
    },
    {
      "cell_type": "markdown",
      "metadata": {},
      "source": [
        "__Collection Equivalent__\n",
        "\n",
        "An identical model in terms of functionality could of been created via the `Collection` object as follows:"
      ]
    },
    {
      "cell_type": "code",
      "metadata": {},
      "source": [
        "\n",
        "\n",
        "class GaussianCentre:\n",
        "    def __init__(\n",
        "        self,\n",
        "        centre=30.0,  # <- **PyAutoFit** recognises these constructor arguments\n",
        "        normalization=1.0,  # <- are the Gaussian``s model parameters.\n",
        "        sigma=5.0,\n",
        "    ):\n",
        "        self.centre = centre\n",
        "        self.normalization = normalization\n",
        "        self.sigma = sigma\n",
        "\n",
        "\n",
        "model = af.Collection(gaussian_0=GaussianCentre, gaussian_1=GaussianCentre)\n",
        "\n",
        "model.gaussian_0.centre = model.gaussian_1.centre"
      ],
      "outputs": [],
      "execution_count": null
    },
    {
      "cell_type": "markdown",
      "metadata": {},
      "source": [
        "__When to Use a Multi Level Model?__\n",
        "\n",
        "This raises the question of when to use a `Collection` and when to use multi-level models.\n",
        "\n",
        "The answer depends on the structure of the models you are composing and fitting. It is common for many models to \n",
        "have a natural multi-level structure. \n",
        "\n",
        "For example, imagine we had a dataset with 3 groups of 1D `Gaussian`'s with shared centres, where each group had 3 \n",
        "`Gaussian`'s. \n",
        "\n",
        "This model is concise and easy to define using the multi-level API:"
      ]
    },
    {
      "cell_type": "code",
      "metadata": {},
      "source": [
        "multi_0 = af.Model(MultiLevelGaussians, gaussian_list=3 * [Gaussian])\n",
        "\n",
        "multi_1 = af.Model(MultiLevelGaussians, gaussian_list=3 * [Gaussian])\n",
        "\n",
        "multi_2 = af.Model(MultiLevelGaussians, gaussian_list=3 * [Gaussian])\n",
        "\n",
        "model = af.Collection(multi_0=multi_0, multi_1=multi_1, multi_2=multi_2)"
      ],
      "outputs": [],
      "execution_count": null
    },
    {
      "cell_type": "markdown",
      "metadata": {},
      "source": [
        "Composing the same model without the multi-level model is less concise, less readable and prone to error:"
      ]
    },
    {
      "cell_type": "code",
      "metadata": {},
      "source": [
        "multi_0 = af.Collection(\n",
        "    gaussian_0=GaussianCentre, gaussian_1=GaussianCentre, gaussian_2=GaussianCentre\n",
        ")\n",
        "\n",
        "multi_0.gaussian_0.centre = multi_0.gaussian_1.centre\n",
        "multi_0.gaussian_0.centre = multi_0.gaussian_2.centre\n",
        "multi_0.gaussian_1.centre = multi_0.gaussian_2.centre\n",
        "\n",
        "multi_1 = af.Collection(\n",
        "    gaussian_0=GaussianCentre, gaussian_1=GaussianCentre, gaussian_2=GaussianCentre\n",
        ")\n",
        "\n",
        "multi_1.gaussian_0.centre = multi_1.gaussian_1.centre\n",
        "multi_1.gaussian_0.centre = multi_1.gaussian_2.centre\n",
        "multi_1.gaussian_1.centre = multi_1.gaussian_2.centre\n",
        "\n",
        "multi_2 = af.Collection(\n",
        "    gaussian_0=GaussianCentre, gaussian_1=GaussianCentre, gaussian_2=GaussianCentre\n",
        ")\n",
        "\n",
        "multi_2.gaussian_0.centre = multi_2.gaussian_1.centre\n",
        "multi_2.gaussian_0.centre = multi_2.gaussian_2.centre\n",
        "multi_2.gaussian_1.centre = multi_2.gaussian_2.centre\n",
        "\n",
        "model = af.Collection(multi_0=multi_0, multi_1=multi_1, multi_2=multi_2)"
      ],
      "outputs": [],
      "execution_count": null
    },
    {
      "cell_type": "markdown",
      "metadata": {},
      "source": [
        "The multi-level model API is more **extensible**. \n",
        "\n",
        "For example, if I wanted to compose a model with more `Gaussians`, `Exponential`'s and other 1D profiles I would simply \n",
        "write:\n",
        "\n",
        "\n",
        "multi = af.Model(\n",
        "    MultiLevelGaussians, gaussian_list=[Gaussian, Gaussian, Exponential, YourProfileHere]\n",
        ")\n",
        "\n",
        "Composing the same model using just a `Model` and `Collection` is again possible, but would be even more cumbersome,\n",
        "less readable and is not an API that is anywhere near as extensible as the multi-level model API.\n",
        "\n",
        "__Multi Level Model Customization__\n",
        "\n",
        "To customize the higher level parameters of a multi-level the usual Model API is used:"
      ]
    },
    {
      "cell_type": "code",
      "metadata": {},
      "source": [
        "multi = af.Model(MultiLevelGaussians, gaussian_list=[Gaussian, Gaussian])\n",
        "\n",
        "multi.higher_level_centre = af.UniformPrior(lower_limit=0.0, upper_limit=100.0)"
      ],
      "outputs": [],
      "execution_count": null
    },
    {
      "cell_type": "markdown",
      "metadata": {},
      "source": [
        "To customize a multi-level model instantiated via lists, each model component is accessed via its index:"
      ]
    },
    {
      "cell_type": "code",
      "metadata": {},
      "source": [
        "multi = af.Model(MultiLevelGaussians, gaussian_list=[Gaussian, Gaussian])\n",
        "\n",
        "multi_level = af.Model(MultiLevelGaussians, gaussian_list=[Gaussian, Gaussian])\n",
        "\n",
        "multi_level.gaussian_list[0].normalization = multi_level.gaussian_list[1].normalization"
      ],
      "outputs": [],
      "execution_count": null
    },
    {
      "cell_type": "markdown",
      "metadata": {},
      "source": [
        "Any combination of the API\u2019s shown above can be used for customizing this model:"
      ]
    },
    {
      "cell_type": "code",
      "metadata": {},
      "source": [
        "gaussian_0 = af.Model(Gaussian)\n",
        "gaussian_1 = af.Model(Gaussian)\n",
        "\n",
        "gaussian_0.normalization = gaussian_1.normalization\n",
        "\n",
        "multi_level = af.Model(\n",
        "    MultiLevelGaussians, gaussian_list=[gaussian_0, gaussian_1, af.Model(Gaussian)]\n",
        ")\n",
        "\n",
        "multi_level.higher_level_centre = 1.0\n",
        "multi_level.gaussian_list[2].normalization = multi_level.gaussian_list[1].normalization"
      ],
      "outputs": [],
      "execution_count": null
    },
    {
      "cell_type": "markdown",
      "metadata": {},
      "source": [
        "__Alternative API__\n",
        "\n",
        "A multi-level model can be instantiated where each model sub-component is setup using a name (as opposed to a list).\n",
        "\n",
        "This means no list input parameter is required in the Python class of the model component, but we do need to include\n",
        "the `**kwargs` input."
      ]
    },
    {
      "cell_type": "code",
      "metadata": {},
      "source": [
        "\n",
        "\n",
        "class MultiLevelGaussians:\n",
        "    def __init__(self, higher_level_centre=1.0, **kwargs):\n",
        "        self.higher_level_centre = higher_level_centre\n",
        "\n",
        "\n",
        "model = af.Model(\n",
        "    MultiLevelGaussians, gaussian_0=af.Model(Gaussian), gaussian_1=af.Model(Gaussian)\n",
        ")\n",
        "\n",
        "print(f\"Multi-level Model Prior Count = {model.prior_count}\")\n",
        "\n",
        "instance = model.instance_from_vector(vector=[1.0, 2.0, 3.0, 4.0, 5.0])\n",
        "\n",
        "print(\"Instance Parameters \\n\")\n",
        "print(\"Normalization (Gaussian 0) = \", instance.gaussian_0.normalization)\n",
        "print(\"Sigma (Gaussian 0) = \", instance.gaussian_0.sigma)\n",
        "print(\"Normalization (Gaussian 0) = \", instance.gaussian_1.normalization)\n",
        "print(\"Sigma (Gaussian 0) = \", instance.gaussian_1.sigma)\n",
        "print(\"Higher Level Centre= \", instance.higher_level_centre)"
      ],
      "outputs": [],
      "execution_count": null
    },
    {
      "cell_type": "markdown",
      "metadata": {},
      "source": [
        "The use of Python dictionaries illustrated in previous cookbooks can also be used with multi-level models."
      ]
    },
    {
      "cell_type": "code",
      "metadata": {},
      "source": [
        "\n",
        "model_dict = {\"gaussian_0\": Gaussian, \"gaussian_1\": Gaussian}\n",
        "\n",
        "model = af.Model(MultiLevelGaussians, **model_dict)\n",
        "\n",
        "print(f\"Multi-level Model Prior Count = {model.prior_count}\")\n",
        "\n",
        "instance = model.instance_from_vector(vector=[1.0, 2.0, 3.0, 4.0, 5.0])\n",
        "\n",
        "print(\"Instance Parameters \\n\")\n",
        "print(\"Normalization (Gaussian 0) = \", instance.gaussian_0.normalization)\n",
        "print(\"Sigma (Gaussian 0) = \", instance.gaussian_0.sigma)\n",
        "print(\"Normalization (Gaussian 0) = \", instance.gaussian_1.normalization)\n",
        "print(\"Sigma (Gaussian 0) = \", instance.gaussian_1.sigma)\n",
        "print(\"Higher Level Centre= \", instance.higher_level_centre)"
      ],
      "outputs": [],
      "execution_count": null
    },
    {
      "cell_type": "markdown",
      "metadata": {},
      "source": [
        "__Model Dictionary__\n",
        "\n",
        "Multi level models also have a `dict` attribute, which express all information about the model as a Python dictionary.\n",
        "\n",
        "By printing this dictionary we can therefore get a concise summary of the model."
      ]
    },
    {
      "cell_type": "code",
      "metadata": {},
      "source": [
        "model = af.Model(Gaussian)\n",
        "\n",
        "print(model.dict())"
      ],
      "outputs": [],
      "execution_count": null
    },
    {
      "cell_type": "markdown",
      "metadata": {},
      "source": [
        "__JSon Outputs__\n",
        "\n",
        "This allows us to output and load multi-level models from hard-disk as .json files, as we did for `Model` \n",
        "and `Collection` objects in the previous cookbooks."
      ]
    },
    {
      "cell_type": "code",
      "metadata": {},
      "source": [
        "model_path = path.join(\"scripts\", \"model\", \"jsons\")\n",
        "\n",
        "os.makedirs(model_path, exist_ok=True)\n",
        "\n",
        "model_file = path.join(model_path, \"multi_level.json\")\n",
        "\n",
        "with open(model_file, \"w+\") as f:\n",
        "    json.dump(model.dict(), f, indent=4)"
      ],
      "outputs": [],
      "execution_count": null
    },
    {
      "cell_type": "markdown",
      "metadata": {},
      "source": [
        "We can load the model from its `.json` file.\n",
        "\n",
        "This means in **PyAutoFit** one can easily writen a model, save it to hard disk and load it else where."
      ]
    },
    {
      "cell_type": "code",
      "metadata": {},
      "source": [
        "model = af.Model.from_json(file=model_file)\n",
        "\n",
        "print(f\"\\n Multi Level Model via Json Prior Count = {model.prior_count}\")"
      ],
      "outputs": [],
      "execution_count": null
    },
    {
      "cell_type": "markdown",
      "metadata": {},
      "source": [
        "__Wrap Up__\n",
        "\n",
        "This cookbook shows how to compose multi-level models from hierarchies of Python classes.\n",
        "\n",
        "This is a compelling means by which to compose concise, readable and extendable models, if your modeling problem is\n",
        "multi-level in its structure."
      ]
    },
    {
      "cell_type": "code",
      "metadata": {},
      "source": [],
      "outputs": [],
      "execution_count": null
    }
  ],
  "metadata": {
    "anaconda-cloud": {},
    "kernelspec": {
      "display_name": "Python 3",
      "language": "python",
      "name": "python3"
    },
    "language_info": {
      "codemirror_mode": {
        "name": "ipython",
        "version": 3
      },
      "file_extension": ".py",
      "mimetype": "text/x-python",
      "name": "python",
      "nbconvert_exporter": "python",
      "pygments_lexer": "ipython3",
      "version": "3.6.1"
    }
  },
  "nbformat": 4,
  "nbformat_minor": 4
}