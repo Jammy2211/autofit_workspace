{
  "cells": [
    {
      "cell_type": "markdown",
      "metadata": {},
      "source": [
        "Cookbook 3: Multiple Datasets\n",
        "=============================\n",
        "\n",
        "__Prerequisites__\n",
        "\n",
        "You should be familiar with the multiple dataset model-fitting API detailed in the following scripts and docs:\n",
        "\n",
        "__Overview__\n",
        "\n",
        "When fitting multiple datasets, a single identical model can be fitted to all datasets simultaneously.\n",
        "\n",
        "Alternatively, models can be composed where certain variables vary across the datasets.\n",
        "\n",
        "This cookbook illustrates how these different models can be composed and fitting, by interfacing the model with a\n",
        "list of `Analysis` objects"
      ]
    },
    {
      "cell_type": "code",
      "metadata": {},
      "source": [
        "%matplotlib inline\n",
        "from pyprojroot import here\n",
        "workspace_path = str(here())\n",
        "%cd $workspace_path\n",
        "print(f\"Working Directory has been set to `{workspace_path}`\")\n",
        "\n",
        "import json\n",
        "import os\n",
        "from os import path\n",
        "\n",
        "import autofit as af"
      ],
      "outputs": [],
      "execution_count": null
    },
    {
      "cell_type": "markdown",
      "metadata": {},
      "source": [
        "__Identical Model Across Datasets__\n",
        "\n",
        "We first show how to compose a model which is fit to multiple datasets, with no variation in model parameters\n",
        "across the datasets. \n",
        "\n",
        "To perform a model-fit to multiple datasets, we interface the model with `Analysis` objects.\n",
        "\n",
        "To make the cookbook concise, we will use `Analysis` objects without real data and not perform the actual fit,\n",
        "instead simply passing `None` to the `data` and `noise_map` attributes."
      ]
    },
    {
      "cell_type": "code",
      "metadata": {},
      "source": [
        "total_datasets = 3\n",
        "\n",
        "analysis_list = []\n",
        "\n",
        "for i in range(total_datasets):\n",
        "    analysis = af.ex.Analysis(\n",
        "        data=None, noise_map=None\n",
        "    )  # real data should go here for a real model-fit.\n",
        "\n",
        "    analysis_list.append(analysis)"
      ],
      "outputs": [],
      "execution_count": null
    },
    {
      "cell_type": "markdown",
      "metadata": {},
      "source": [
        "To fit multiple datasets simultaneously, the analysis summing API is used:"
      ]
    },
    {
      "cell_type": "code",
      "metadata": {},
      "source": [
        "analysis = sum(analysis_list)"
      ],
      "outputs": [],
      "execution_count": null
    },
    {
      "cell_type": "markdown",
      "metadata": {},
      "source": [
        "To fit all datasets simultaneously with the same model, we simply compose this model via `af.Model()`\n",
        "\n",
        "This therefore does not require any specific model composition code."
      ]
    },
    {
      "cell_type": "code",
      "metadata": {},
      "source": [
        "\n",
        "\n",
        "class Gaussian:\n",
        "    def __init__(\n",
        "        self,\n",
        "        centre=30.0,  # <- **PyAutoFit** recognises these constructor arguments\n",
        "        normalization=1.0,  # <- are the Gaussian``s model parameters.\n",
        "        sigma=5.0,\n",
        "    ):\n",
        "        self.centre = centre\n",
        "        self.normalization = normalization\n",
        "        self.sigma = sigma\n",
        "\n",
        "\n",
        "model = af.Model(af.ex.Gaussian)"
      ],
      "outputs": [],
      "execution_count": null
    },
    {
      "cell_type": "markdown",
      "metadata": {},
      "source": [
        "A fit using this model could therefore be performed as follows (had real data been used):"
      ]
    },
    {
      "cell_type": "code",
      "metadata": {},
      "source": [
        "search = af.DynestyStatic(path_prefix=\"features\", name=\"multiple_datasets_simple\")\n",
        "\n",
        "# result_list = search.fit(model=model, analysis=analysis)"
      ],
      "outputs": [],
      "execution_count": null
    },
    {
      "cell_type": "markdown",
      "metadata": {},
      "source": [
        "__Variable Model Across Datasets__\n",
        "\n",
        "We now compose a model where the parameters vary across the datasets.\n",
        "\n",
        "We now compose a model where: \n",
        "\n",
        " - The `centre` and `normalization` values of the Gaussian fitted to every dataset in every `Analysis` object are\n",
        " identical. \n",
        " \n",
        " - The `sigma` value of the every Gaussian fitted to every dataset in every `Analysis` object are different.\n",
        "\n",
        "This means that the model has 5 free parameters in total, the shared `centre` and `normalization` and 5 unique\n",
        "`sigma` values, one for each dataset."
      ]
    },
    {
      "cell_type": "code",
      "metadata": {},
      "source": [
        "model = af.Collection(gaussian=af.Model(Gaussian))\n",
        "\n",
        "analysis = sum(analysis_list)\n",
        "\n",
        "analysis = analysis.with_free_parameters(model.gaussian.sigma)"
      ],
      "outputs": [],
      "execution_count": null
    },
    {
      "cell_type": "markdown",
      "metadata": {},
      "source": [
        "The code above does not immediately update the model. \n",
        "\n",
        "In fact, the model is modified immediately before a non-linear search begins (e.g. after we \n",
        "call `search.fit(model=model, analysis=analysis)`).\n",
        "\n",
        "So that we can show how the analysis modifies the model (by printing the `model.info` attribute) we therefore call\n",
        "the function below, that is called at the start of a search.\n",
        "\n",
        "The following line of code SHOULD NOT be called in your own model-fitting script, as it will occur automatically\n",
        "when the non-linear search begins."
      ]
    },
    {
      "cell_type": "code",
      "metadata": {},
      "source": [
        "model = analysis.modify_model(model)"
      ],
      "outputs": [],
      "execution_count": null
    },
    {
      "cell_type": "markdown",
      "metadata": {},
      "source": [
        "We can now inspect how the analysis list has altered the model to add free `sigma` parameters for every dataset."
      ]
    },
    {
      "cell_type": "code",
      "metadata": {},
      "source": [
        "print(model.prior_count)\n",
        "print(model.info)"
      ],
      "outputs": [],
      "execution_count": null
    },
    {
      "cell_type": "markdown",
      "metadata": {},
      "source": [
        "We can make multiple parameters free by simply adding them to the input list above."
      ]
    },
    {
      "cell_type": "code",
      "metadata": {},
      "source": [
        "model = af.Collection(gaussian=af.Model(Gaussian))\n",
        "\n",
        "analysis = sum(analysis_list)\n",
        "\n",
        "analysis = analysis.with_free_parameters(model.gaussian.sigma, model.gaussian.centre)\n"
      ],
      "outputs": [],
      "execution_count": null
    },
    {
      "cell_type": "markdown",
      "metadata": {},
      "source": [
        "__Variable Parameters As Relationship__\n",
        "\n",
        "In the model above, an extra free parameter `sigma` was added for every dataset. \n",
        "\n",
        "This was ok for the simple model fitted here to just 3 datasets, but for more complex models and problems with 10+\n",
        "datasets one will quick find that the model complexity increases dramatically.\n",
        "\n",
        "We can compose models where the free parameter(s) vary according to a user-specified function across the datasets.\n",
        "\n",
        "For example, we could make it so that `sigma` is computed according to:\n",
        "\n",
        " `y = m * x + c` : `sigma` = sigma_m * x + sigma_c`\n",
        " \n",
        "Where x is an integer number specifying the index of the dataset (e.g. 1, 2 and 3).\n",
        " \n",
        "By defining a relation of this form, `sigma_m` and `sigma_c` are the free parameters of the model. "
      ]
    },
    {
      "cell_type": "code",
      "metadata": {},
      "source": [
        "model = af.Collection(gaussian=af.Model(Gaussian))\n",
        "\n",
        "sigma_m = af.UniformPrior(lower_limit=-0.1, upper_limit=0.1)\n",
        "sigma_c = af.UniformPrior(lower_limit=-10.0, upper_limit=10.0)\n",
        "\n",
        "x_list = [1.0, 2.0, 3.0]\n",
        "\n",
        "analysis_with_relation_list = []\n",
        "\n",
        "for x, analysis in zip(x_list, analysis_list):\n",
        "    sigma_relation = (sigma_m * x) + sigma_c\n",
        "\n",
        "    analysis_with_relation = analysis.with_model(\n",
        "        model.replacing({model.gaussian.sigma: sigma_relation})\n",
        "    )\n",
        "\n",
        "    analysis_with_relation_list.append(analysis_with_relation)"
      ],
      "outputs": [],
      "execution_count": null
    },
    {
      "cell_type": "markdown",
      "metadata": {},
      "source": [
        "To print the model `info` and see how the code above changes its composition we again have to call the `modify_model`\n",
        "function first, which is automatically called before a non-linear search begins."
      ]
    },
    {
      "cell_type": "code",
      "metadata": {},
      "source": [
        "analysis_with_relation = sum(analysis_with_relation_list)\n",
        "\n",
        "model = analysis_with_relation.modify_model(model)\n",
        "\n",
        "print(model.info)"
      ],
      "outputs": [],
      "execution_count": null
    },
    {
      "cell_type": "markdown",
      "metadata": {},
      "source": [
        "We can use division, subtraction and logorithms to create more complex relations and apply them to different parameters, \n",
        "for example:\n",
        "\n",
        " `y = m * log10(x) - log(z) + c` : `sigma` = sigma_m * log10(x) - log(z) + sigma_c` \n",
        " `y = m * (x / z)` : `centre` = centre_m * (x / z)`"
      ]
    },
    {
      "cell_type": "code",
      "metadata": {},
      "source": [
        "model = af.Collection(gaussian=af.Model(Gaussian))\n",
        "\n",
        "sigma_m = af.UniformPrior(lower_limit=-0.1, upper_limit=0.1)\n",
        "sigma_c = af.UniformPrior(lower_limit=-10.0, upper_limit=10.0)\n",
        "\n",
        "centre_m = af.UniformPrior(lower_limit=-0.1, upper_limit=0.1)\n",
        "centre_c = af.UniformPrior(lower_limit=-10.0, upper_limit=10.0)\n",
        "\n",
        "x_list = [1.0, 10.0, 30.0]\n",
        "z_list = [2.0, 4.0, 6.0]\n",
        "\n",
        "analysis_with_relation_list = []\n",
        "\n",
        "for x, z, analysis in zip(x_list, z_list, analysis_list):\n",
        "    sigma_relation = (sigma_m * af.Log10(x) - af.Log(z)) + sigma_c\n",
        "    centre_relation = centre_m * (x / z)\n",
        "\n",
        "    analysis_with_relation = analysis.with_model(\n",
        "        model.replacing(\n",
        "            {\n",
        "                model.gaussian.sigma: sigma_relation,\n",
        "                model.gaussian.centre: centre_relation,\n",
        "            }\n",
        "        )\n",
        "    )\n",
        "\n",
        "    analysis_with_relation_list.append(analysis_with_relation)\n",
        "\n",
        "analysis_with_relation = sum(analysis_with_relation_list)\n",
        "\n",
        "model = analysis.modify_model(model)\n",
        "\n",
        "print(model.info)"
      ],
      "outputs": [],
      "execution_count": null
    },
    {
      "cell_type": "markdown",
      "metadata": {},
      "source": [
        "__Example Use Case__ \n",
        "\n",
        "An example use-case of such a model is time-varying data, whereby each dataset is an observation as a function of time.\n",
        "\n",
        "We may have knowledge that certain parameters do vary as a function of time, whereas others do not. We can therefore\n",
        "parameterize a model which varies as a function of `time=t` of the form:\n",
        "\n",
        "` `y = m * t + c` : `sigma` = sigma_m * t + sigma_c`"
      ]
    },
    {
      "cell_type": "code",
      "metadata": {},
      "source": [],
      "outputs": [],
      "execution_count": null
    }
  ],
  "metadata": {
    "anaconda-cloud": {},
    "kernelspec": {
      "display_name": "Python 3",
      "language": "python",
      "name": "python3"
    },
    "language_info": {
      "codemirror_mode": {
        "name": "ipython",
        "version": 3
      },
      "file_extension": ".py",
      "mimetype": "text/x-python",
      "name": "python",
      "nbconvert_exporter": "python",
      "pygments_lexer": "ipython3",
      "version": "3.6.1"
    }
  },
  "nbformat": 4,
  "nbformat_minor": 4
}