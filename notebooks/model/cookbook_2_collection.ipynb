{
  "cells": [
    {
      "cell_type": "markdown",
      "metadata": {},
      "source": [
        "Cookbook 2: Model Collections\n",
        "=============================\n",
        "\n",
        "This cookbook provides an overview of the basic model composition tools, specifically the `Collection` object,\n",
        "whuich groups together multiple `Model()` components in order to compose complex models.\n",
        "\n",
        "Examples using different PyAutoFit API\u2019s for model composition are provided, which produce more concise and readable\n",
        "code for different use-cases.\n",
        "\n",
        "__Python Class Template__\n",
        "\n",
        "A model component is written as a Python class using the following format:\n",
        "\n",
        " - The name of the class is the name of the model component, in this case, \u201cGaussian\u201d.\n",
        "\n",
        " - The input arguments of the constructor are the parameters of the mode (here centre, normalization and sigma).\n",
        "\n",
        " - The default values of the input arguments tell PyAutoFit whether a parameter is a single-valued float or a\n",
        " multi-valued tuple.\n",
        "\n",
        " Below, we define a 1D Gaussian and 1D Exponential model components, which are used throughout the **PyAutoFit**\n",
        " workspace to perform example model fits."
      ]
    },
    {
      "cell_type": "code",
      "metadata": {},
      "source": [
        "%matplotlib inline\n",
        "from pyprojroot import here\n",
        "workspace_path = str(here())\n",
        "%cd $workspace_path\n",
        "print(f\"Working Directory has been set to `{workspace_path}`\")\n",
        "\n",
        "import json\n",
        "import os\n",
        "from os import path\n",
        "\n",
        "import autofit as af\n",
        "\n",
        "\n",
        "class Gaussian:\n",
        "    def __init__(\n",
        "        self,\n",
        "        centre=30.0,  # <- **PyAutoFit** recognises these constructor arguments\n",
        "        normalization=1.0,  # <- are the Gaussian``s model parameters.\n",
        "        sigma=5.0,\n",
        "    ):\n",
        "        self.centre = centre\n",
        "        self.normalization = normalization\n",
        "        self.sigma = sigma\n",
        "\n",
        "\n",
        "class Exponential:\n",
        "    def __init__(\n",
        "        self,\n",
        "        centre=0.0,  # <- PyAutoFit recognises these constructor arguments are the model\n",
        "        normalization=0.1,  # <- parameters of the Exponential.\n",
        "        rate=0.01,\n",
        "    ):\n",
        "        self.centre = centre\n",
        "        self.normalization = normalization\n",
        "        self.rate = rate\n"
      ],
      "outputs": [],
      "execution_count": null
    },
    {
      "cell_type": "markdown",
      "metadata": {},
      "source": [
        "__Model Composition__\n",
        "\n",
        "To instantiate multiple Python classes into a combined model component we combine the `af.Collection()` and `af.Model()` \n",
        "objects.\n",
        "\n",
        "By passing the key word arguments `gaussian` and `exponential` below, these are used as the names of the attributes of \n",
        "instances created using this model (which is illustrated clearly below)."
      ]
    },
    {
      "cell_type": "code",
      "metadata": {},
      "source": [
        "gaussian = af.Model(Gaussian)\n",
        "exponential = af.Model(Exponential)\n",
        "\n",
        "model = af.Collection(gaussian=gaussian, exponential=exponential)"
      ],
      "outputs": [],
      "execution_count": null
    },
    {
      "cell_type": "markdown",
      "metadata": {},
      "source": [
        "We can check the model has a `prior_count` of 6, meaning the 3 parameters defined above (`centre`, `normalization`, \n",
        "`sigma` and `rate`) for both the `Gaussian` and `Exponential` classes all have priors associated with them .\n",
        "\n",
        "This also means each parameter is fitted for if we fitted the model to data via a non-linear search."
      ]
    },
    {
      "cell_type": "code",
      "metadata": {},
      "source": [
        "print(f\"Model Prior Count = {model.prior_count}\")"
      ],
      "outputs": [],
      "execution_count": null
    },
    {
      "cell_type": "markdown",
      "metadata": {},
      "source": [
        "Printing the `info` attribute of the model gives us information on all of the parameters, their priors and the \n",
        "structure of the model collection."
      ]
    },
    {
      "cell_type": "code",
      "metadata": {},
      "source": [
        "print(model.info)"
      ],
      "outputs": [],
      "execution_count": null
    },
    {
      "cell_type": "markdown",
      "metadata": {},
      "source": [
        "__Instances__\n",
        "\n",
        "We can create an instance of collection containing both the `Gaussian` and `Exponential` classes using this model.\n",
        "\n",
        "Below, we create an `instance` where: \n",
        "\n",
        "- The `Gaussian` class has`centre=30.0`, `normalization=2.0` and `sigma=3.0`.\n",
        "- The `Exponential` class has`centre=60.0`, `normalization=4.0` and `rate=1.0``."
      ]
    },
    {
      "cell_type": "code",
      "metadata": {},
      "source": [
        "instance = model.instance_from_vector(vector=[30.0, 2.0, 3.0, 60.0, 4.0, 1.0])"
      ],
      "outputs": [],
      "execution_count": null
    },
    {
      "cell_type": "markdown",
      "metadata": {},
      "source": [
        "Because we passed the key word arguments `gaussian` and `exponential` above, these are the names of the attributes of \n",
        "instances created using this model (e.g. this is why we write `instance.gaussian`):"
      ]
    },
    {
      "cell_type": "code",
      "metadata": {},
      "source": [
        "\n",
        "print(\"Model Instance: \\n\")\n",
        "print(instance)\n",
        "\n",
        "print(\"Instance Parameters \\n\")\n",
        "print(\"centre (Gaussian) = \", instance.gaussian.centre)\n",
        "print(\"normalization (Gaussian)  = \", instance.gaussian.normalization)\n",
        "print(\"sigma (Gaussian)  = \", instance.gaussian.sigma)\n",
        "print(\"centre (Exponential) = \", instance.exponential.centre)\n",
        "print(\"normalization (Exponential) = \", instance.exponential.normalization)\n",
        "print(\"sigma (Exponential) = \", instance.exponential.rate)"
      ],
      "outputs": [],
      "execution_count": null
    },
    {
      "cell_type": "markdown",
      "metadata": {},
      "source": [
        "Alternatively, the instance's variables can also be accessed as a list, whereby instead of using attribute names\n",
        "(e.g. `gaussian_0`) we input the list index.\n",
        "\n",
        "Note that the order of the instance model components is derived by the order the components are input into the model.\n",
        "\n",
        "For example, for the line `af.Collection(gaussian=gaussian, exponential=exponential)`, the first entry in the list\n",
        "is the gaussian because it is the first input to the `Collection`."
      ]
    },
    {
      "cell_type": "code",
      "metadata": {},
      "source": [
        "print(\"centre (Gaussian) = \", instance[0].centre)\n",
        "print(\"normalization (Gaussian)  = \", instance[0].normalization)\n",
        "print(\"sigma (Gaussian)  = \", instance[0].sigma)\n",
        "print(\"centre (Gaussian) = \", instance[1].centre)\n",
        "print(\"normalization (Gaussian) = \", instance[1].normalization)\n",
        "print(\"sigma (Exponential) = \", instance[1].rate)"
      ],
      "outputs": [],
      "execution_count": null
    },
    {
      "cell_type": "markdown",
      "metadata": {},
      "source": [
        "__Implicit Model__\n",
        "\n",
        "When creating a model via a `Collection`, there is no need to actually pass the python classes as an `af.Model()`\n",
        "because **PyAutoFit** implicitly assumes they are to be created as a `Model()`..\n",
        "\n",
        "This enables more concise code, whereby the following code:"
      ]
    },
    {
      "cell_type": "code",
      "metadata": {},
      "source": [
        "\n",
        "gaussian = af.Model(Gaussian)\n",
        "exponential = af.Model(Exponential)\n",
        "\n",
        "model = af.Collection(gaussian=gaussian, exponential=exponential)"
      ],
      "outputs": [],
      "execution_count": null
    },
    {
      "cell_type": "markdown",
      "metadata": {},
      "source": [
        "Can instead be written as:"
      ]
    },
    {
      "cell_type": "code",
      "metadata": {},
      "source": [
        "model = af.Collection(gaussian=Gaussian, exponential=Exponential)\n"
      ],
      "outputs": [],
      "execution_count": null
    },
    {
      "cell_type": "markdown",
      "metadata": {},
      "source": [
        "__Model Customization__\n",
        "\n",
        "By setting up each Model first the model can be customized using either of the af.Model API\u2019s shown above:"
      ]
    },
    {
      "cell_type": "code",
      "metadata": {},
      "source": [
        "gaussian = af.Model(Gaussian)\n",
        "gaussian.normalization = 1.0\n",
        "gaussian.sigma = af.GaussianPrior(mean=0.0, sigma=1.0)\n",
        "\n",
        "exponential = af.Model(Exponential)\n",
        "exponential.centre = 50.0\n",
        "exponential.add_assertion(exponential.rate > 5.0)\n",
        "\n",
        "model = af.Collection(gaussian=gaussian, exponential=exponential)\n",
        "\n",
        "print(f\"Model Prior Count After Customization = {model.prior_count}\")"
      ],
      "outputs": [],
      "execution_count": null
    },
    {
      "cell_type": "markdown",
      "metadata": {},
      "source": [
        "Below is an alternative API that can be used to create the same model as above:"
      ]
    },
    {
      "cell_type": "code",
      "metadata": {},
      "source": [
        "gaussian = af.Model(\n",
        "    Gaussian, normalization=1.0, sigma=af.GaussianPrior(mean=0.0, sigma=1.0)\n",
        ")\n",
        "exponential = af.Model(Exponential, centre=50.0)\n",
        "exponential.add_assertion(exponential.rate > 5.0)\n",
        "\n",
        "model = af.Collection(gaussian=gaussian, exponential=exponential)\n",
        "\n",
        "print(f\"Model Prior Count After Customization = {model.prior_count}\")"
      ],
      "outputs": [],
      "execution_count": null
    },
    {
      "cell_type": "markdown",
      "metadata": {},
      "source": [
        "__Model Customization After Collection__\n",
        "\n",
        "After creating the model as a `Collection` we can customize it afterwards:"
      ]
    },
    {
      "cell_type": "code",
      "metadata": {},
      "source": [
        "model = af.Collection(gaussian=Gaussian, exponential=Exponential)\n",
        "\n",
        "model.gaussian.normalization = 1.0\n",
        "model.gaussian.sigma = af.GaussianPrior(mean=0.0, sigma=1.0)\n",
        "\n",
        "model.exponential.centre = 50.0\n",
        "model.exponential.add_assertion(exponential.rate > 5.0)\n",
        "\n",
        "print(f\"Model Prior Count After Customization = {model.prior_count}\")"
      ],
      "outputs": [],
      "execution_count": null
    },
    {
      "cell_type": "markdown",
      "metadata": {},
      "source": [
        "__Many Components__\n",
        "\n",
        "There is no limit to the number of components we can use to set up a model via a `Collection`."
      ]
    },
    {
      "cell_type": "code",
      "metadata": {},
      "source": [
        "model = af.Collection(\n",
        "    gaussian_0=Gaussian,\n",
        "    gaussian_1=Gaussian,\n",
        "    exponential_0=Exponential,\n",
        "    exponential_1=Exponential,\n",
        "    exponential_2=Exponential,\n",
        ")\n",
        "\n",
        "print(f\"Model Prior Count = {model.prior_count}\")"
      ],
      "outputs": [],
      "execution_count": null
    },
    {
      "cell_type": "markdown",
      "metadata": {},
      "source": [
        "__Model Composition via Dictionaries__\n",
        "\n",
        "A model can be created via `af.Collection()` where a dictionary of `af.Model()` objects are passed to it.\n",
        "\n",
        "The two models created below are identical - one uses the API detailed above whereas the second uses a dictionary."
      ]
    },
    {
      "cell_type": "code",
      "metadata": {},
      "source": [
        "model = af.Collection(gaussian_0=Gaussian, gaussian_1=Gaussian)\n",
        "print(f\"Model Prior Count = {model.prior_count}\")\n",
        "\n",
        "\n",
        "model_dict = {\"gaussian_0\": Gaussian, \"gaussian_1\": Gaussian}\n",
        "model = af.Collection(**model_dict)\n",
        "print(f\"Model Prior Count = {model.prior_count}\")"
      ],
      "outputs": [],
      "execution_count": null
    },
    {
      "cell_type": "markdown",
      "metadata": {},
      "source": [
        "The keys of the dictionary passed to the model (e.g. `gaussian_0` and `gaussian_1` above) are used to create the\n",
        "names of the attributes of instances of the model."
      ]
    },
    {
      "cell_type": "code",
      "metadata": {},
      "source": [
        "instance = model.instance_from_vector(vector=[1.0, 2.0, 3.0, 4.0, 5.0, 6.0])\n",
        "\n",
        "print(\"Model Instance: \\n\")\n",
        "print(instance)\n",
        "\n",
        "print(\"Instance Parameters \\n\")\n",
        "print(\"centre (Gaussian) = \", instance.gaussian_0.centre)\n",
        "print(\"normalization (Gaussian)  = \", instance.gaussian_0.normalization)\n",
        "print(\"sigma (Gaussian)  = \", instance.gaussian_0.sigma)\n",
        "print(\"centre (Gaussian) = \", instance.gaussian_1.centre)\n",
        "print(\"normalization (Gaussian) = \", instance.gaussian_1.normalization)\n",
        "print(\"sigma (Gaussian) = \", instance.gaussian_1.sigma)"
      ],
      "outputs": [],
      "execution_count": null
    },
    {
      "cell_type": "markdown",
      "metadata": {},
      "source": [
        "__Model Composition via Lists__\n",
        "\n",
        "A list of model components can also be passed to an `af.Collection` to create a model:"
      ]
    },
    {
      "cell_type": "code",
      "metadata": {},
      "source": [
        "model = af.Collection([Gaussian, Gaussian])\n",
        "\n",
        "print(model.info)"
      ],
      "outputs": [],
      "execution_count": null
    },
    {
      "cell_type": "markdown",
      "metadata": {},
      "source": [
        "When a list is used, there is no string with which to name the model components (e.g. we do not input `gaussian_0`\n",
        "and `gaussian_1` anywhere.\n",
        "\n",
        "The `instance` therefore can only be accessed via list indexing."
      ]
    },
    {
      "cell_type": "code",
      "metadata": {},
      "source": [
        "instance = model.instance_from_vector(vector=[1.0, 2.0, 3.0, 4.0, 5.0, 6.0])\n",
        "\n",
        "print(\"Model Instance: \\n\")\n",
        "print(instance)\n",
        "\n",
        "print(\"Instance Parameters \\n\")\n",
        "print(\"centre (Gaussian) = \", instance[0].centre)\n",
        "print(\"normalization (Gaussian)  = \", instance[0].normalization)\n",
        "print(\"sigma (Gaussian)  = \", instance[0].sigma)\n",
        "print(\"centre (Gaussian) = \", instance[1].centre)\n",
        "print(\"normalization (Gaussian) = \", instance[1].normalization)\n",
        "print(\"sigma (Gaussian) = \", instance[1].sigma)"
      ],
      "outputs": [],
      "execution_count": null
    },
    {
      "cell_type": "markdown",
      "metadata": {},
      "source": [
        "__Model Dictionary__\n",
        "\n",
        "A `Collection` has a `dict` attribute, which express all information about the model as a Python dictionary.\n",
        "\n",
        "By printing this dictionary we can therefore get a concise summary of the model."
      ]
    },
    {
      "cell_type": "code",
      "metadata": {},
      "source": [
        "model = af.Model(Gaussian)\n",
        "\n",
        "print(model.dict())"
      ],
      "outputs": [],
      "execution_count": null
    },
    {
      "cell_type": "markdown",
      "metadata": {},
      "source": [
        "__JSon Outputs__\n",
        "\n",
        "Python dictionaries can easily be saved to hard disk as a `.json` file.\n",
        "\n",
        "This means we can save any **PyAutoFit** model to hard-disk.\n",
        "\n",
        "Checkout the file `autofit_workspace/*/model/jsons/model.json` to see the model written as a .json."
      ]
    },
    {
      "cell_type": "code",
      "metadata": {},
      "source": [
        "model_path = path.join(\"scripts\", \"model\", \"jsons\")\n",
        "\n",
        "os.makedirs(model_path, exist_ok=True)\n",
        "\n",
        "model_file = path.join(model_path, \"collection.json\")\n",
        "\n",
        "with open(model_file, \"w+\") as f:\n",
        "    json.dump(model.dict(), f, indent=4)"
      ],
      "outputs": [],
      "execution_count": null
    },
    {
      "cell_type": "markdown",
      "metadata": {},
      "source": [
        "We can load the model from its `.json` file.\n",
        "\n",
        "This means in **PyAutoFit** one can easily writen a model, save it to hard disk and load it else where."
      ]
    },
    {
      "cell_type": "code",
      "metadata": {},
      "source": [
        "model = af.Model.from_json(file=model_file)\n",
        "\n",
        "print(f\"\\n Model via Json Prior Count = {model.prior_count}\")"
      ],
      "outputs": [],
      "execution_count": null
    },
    {
      "cell_type": "markdown",
      "metadata": {},
      "source": [
        "__Wrap Up__\n",
        "\n",
        "This cookbook shows how to compose models consisting of multiple components using the `af.Collection()` object.\n",
        "\n",
        "The next cookbook describes how **PyAutoFit**'s model composition tools can be used to customize models which \n",
        "fit multiple datasets simultaneously."
      ]
    },
    {
      "cell_type": "code",
      "metadata": {},
      "source": [],
      "outputs": [],
      "execution_count": null
    }
  ],
  "metadata": {
    "anaconda-cloud": {},
    "kernelspec": {
      "display_name": "Python 3",
      "language": "python",
      "name": "python3"
    },
    "language_info": {
      "codemirror_mode": {
        "name": "ipython",
        "version": 3
      },
      "file_extension": ".py",
      "mimetype": "text/x-python",
      "name": "python",
      "nbconvert_exporter": "python",
      "pygments_lexer": "ipython3",
      "version": "3.6.1"
    }
  },
  "nbformat": 4,
  "nbformat_minor": 4
}