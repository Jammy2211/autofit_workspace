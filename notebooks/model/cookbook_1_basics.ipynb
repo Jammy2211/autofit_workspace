{
  "cells": [
    {
      "cell_type": "markdown",
      "metadata": {},
      "source": [
        "Cookbook 1: Model Composition Basics\n",
        "====================================\n",
        "\n",
        "This cookbook provides an overview of the basic model composition tools, specifically the `Model` object.\n",
        "\n",
        "Examples using different PyAutoFit API\u2019s for model composition are provided, which produce more concise and readable\n",
        "code for different use-cases.\n",
        "\n",
        "__Python Class Template__\n",
        "\n",
        "A model component is written as a Python class using the following format:\n",
        "\n",
        " - The name of the class is the name of the model component, in this case, \u201cGaussian\u201d.\n",
        "\n",
        " - The input arguments of the constructor are the parameters of the mode (here centre, normalization and sigma).\n",
        "\n",
        " - The default values of the input arguments tell PyAutoFit whether a parameter is a single-valued float or a\n",
        " multi-valued tuple.\n",
        "\n",
        "Below, we define a 1D Gaussian model component, which is used throughout the **PyAutoFit** workspace to perform\n",
        "example model fits."
      ]
    },
    {
      "cell_type": "code",
      "metadata": {},
      "source": [
        "%matplotlib inline\n",
        "from pyprojroot import here\n",
        "workspace_path = str(here())\n",
        "%cd $workspace_path\n",
        "print(f\"Working Directory has been set to `{workspace_path}`\")\n",
        "\n",
        "import json\n",
        "import os\n",
        "from os import path\n",
        "\n",
        "import autofit as af\n",
        "\n",
        "\n",
        "class Gaussian:\n",
        "    def __init__(\n",
        "        self,\n",
        "        centre=30.0,  # <- **PyAutoFit** recognises these constructor arguments\n",
        "        normalization=1.0,  # <- are the Gaussian``s model parameters.\n",
        "        sigma=5.0,\n",
        "    ):\n",
        "        self.centre = centre\n",
        "        self.normalization = normalization\n",
        "        self.sigma = sigma\n"
      ],
      "outputs": [],
      "execution_count": null
    },
    {
      "cell_type": "markdown",
      "metadata": {},
      "source": [
        "__Model Composition__\n",
        "\n",
        "We can instantiate a Python class as a model component using `af.Model()`."
      ]
    },
    {
      "cell_type": "code",
      "metadata": {},
      "source": [
        "model = af.Model(Gaussian)"
      ],
      "outputs": [],
      "execution_count": null
    },
    {
      "cell_type": "markdown",
      "metadata": {},
      "source": [
        "We can check the model has a `prior_count` of 3, meaning the 3 parameters defined above (`centre`, `normalization` and\n",
        "`sigma`) all have priors associated with them .\n",
        "\n",
        "This also means each parameter is fitted for if we fitted the model to data via a non-linear search."
      ]
    },
    {
      "cell_type": "code",
      "metadata": {},
      "source": [
        "print(f\"Model Prior Count = {model.prior_count}\")"
      ],
      "outputs": [],
      "execution_count": null
    },
    {
      "cell_type": "markdown",
      "metadata": {},
      "source": [
        "If we print the `info` attribute of the model we get information on all of the parameters and their priors."
      ]
    },
    {
      "cell_type": "code",
      "metadata": {},
      "source": [
        "print(model.info)"
      ],
      "outputs": [],
      "execution_count": null
    },
    {
      "cell_type": "markdown",
      "metadata": {},
      "source": [
        "__Instances__\n",
        "\n",
        "We can create an instance of the `Gaussian` class using this model.\n",
        "\n",
        "Below, we create an `instance` of the `Gaussian` class via the model where `centre=30.0`, `normalization=2.0` and\n",
        "`sigma=3.0`."
      ]
    },
    {
      "cell_type": "code",
      "metadata": {},
      "source": [
        "instance = model.instance_from_vector(vector=[30.0, 2.0, 3.0])\n",
        "\n",
        "print(\"Model Instance: \\n\")\n",
        "print(instance)\n",
        "\n",
        "print(\"Instance Parameters \\n\")\n",
        "print(\"centre = \", instance.centre)\n",
        "print(\"normalization = \", instance.normalization)\n",
        "print(\"sigma = \", instance.sigma)"
      ],
      "outputs": [],
      "execution_count": null
    },
    {
      "cell_type": "markdown",
      "metadata": {},
      "source": [
        "__Model Customization__\n",
        "\n",
        "We can overwrite the priors of one or more parameters from the default value assumed via configuration files:"
      ]
    },
    {
      "cell_type": "code",
      "metadata": {},
      "source": [
        "model = af.Model(Gaussian)\n",
        "model.centre = af.UniformPrior(lower_limit=0.0, upper_limit=1.0)\n",
        "model.normalization = af.LogUniformPrior(lower_limit=1e-4, upper_limit=1e4)\n",
        "model.sigma = af.GaussianPrior(mean=0.0, sigma=1.0, lower_limit=0.0, upper_limit=1e5)"
      ],
      "outputs": [],
      "execution_count": null
    },
    {
      "cell_type": "markdown",
      "metadata": {},
      "source": [
        "We can create an instance of the `Gaussian` by inputting unit values (e.g. between 0.0 and 1.0) which are mapped to\n",
        "physical values via the priors defined above.\n",
        "\n",
        "The inputs 0.5 below are mapped as follows:\n",
        "\n",
        " - `centre`: goes to 0.5 because this is the midpoint of the `UniformPrior`'s `lower_limit=0.0` and `upper_limit=1.0`.\n",
        " \n",
        " - `normalization` goes to > because this is the midpoint of \n",
        " the `LogUniformPrior`'s `lower_limit=1e-4` and `upper_limit=1e4` in log10 space.\n",
        " \n",
        " - `sigma`: goes to 0.5 because this is the mean of its `GaussianPrior`."
      ]
    },
    {
      "cell_type": "code",
      "metadata": {},
      "source": [
        "instance = model.instance_from_unit_vector(unit_vector=[0.5, 0.5, 0.5])\n",
        "\n",
        "print(\"Model Instance: \\n\")\n",
        "print(instance)\n",
        "\n",
        "print(\"Instance Parameters \\n\")\n",
        "print(\"centre = \", instance.centre)\n",
        "print(\"normalization = \", instance.normalization)\n",
        "print(\"sigma = \", instance.sigma)"
      ],
      "outputs": [],
      "execution_count": null
    },
    {
      "cell_type": "markdown",
      "metadata": {},
      "source": [
        "We can fix a free parameter to a specific value (reducing the dimensionality of parameter space by 1):"
      ]
    },
    {
      "cell_type": "code",
      "metadata": {},
      "source": [
        "model = af.Model(Gaussian)\n",
        "model.centre = 0.0\n",
        "\n",
        "print(f\"\\n Model Prior Count After Fixing Centre = {model.prior_count}\")"
      ],
      "outputs": [],
      "execution_count": null
    },
    {
      "cell_type": "markdown",
      "metadata": {},
      "source": [
        "We can link two parameters together such they always assume the same value (reducing the dimensionality of \n",
        "parameter space by 1):"
      ]
    },
    {
      "cell_type": "code",
      "metadata": {},
      "source": [
        "model = af.Model(Gaussian)\n",
        "model.centre = model.normalization\n",
        "\n",
        "print(f\"\\n Model Prior Count After Linking Parameters = {model.prior_count}\")"
      ],
      "outputs": [],
      "execution_count": null
    },
    {
      "cell_type": "markdown",
      "metadata": {},
      "source": [
        "Offsets between linked parameters or with certain values are possible:"
      ]
    },
    {
      "cell_type": "code",
      "metadata": {},
      "source": [
        "model = af.Model(Gaussian)\n",
        "model.centre = model.normalization + model.sigma\n",
        "\n",
        "print(f\"Model Prior Count After Linking Parameters = {model.prior_count}\")"
      ],
      "outputs": [],
      "execution_count": null
    },
    {
      "cell_type": "markdown",
      "metadata": {},
      "source": [
        "Assertions remove regions of parameter space:"
      ]
    },
    {
      "cell_type": "code",
      "metadata": {},
      "source": [
        "model = af.Model(Gaussian)\n",
        "model.add_assertion(model.sigma > 5.0)\n",
        "model.add_assertion(model.centre > model.normalization)"
      ],
      "outputs": [],
      "execution_count": null
    },
    {
      "cell_type": "markdown",
      "metadata": {},
      "source": [
        "__Instance Methods__\n",
        "\n",
        "We can create instances of the `Gaussian` using the median value of the prior of every parameter."
      ]
    },
    {
      "cell_type": "code",
      "metadata": {},
      "source": [
        "instance = model.instance_from_prior_medians()\n",
        "\n",
        "print(\"Instance Parameters \\n\")\n",
        "print(\"centre = \", instance.centre)\n",
        "print(\"normalization = \", instance.normalization)\n",
        "print(\"sigma = \", instance.sigma)"
      ],
      "outputs": [],
      "execution_count": null
    },
    {
      "cell_type": "markdown",
      "metadata": {},
      "source": [
        "We can create a random instance, where the random values are unit values drawn between 0.0 and 1.0.\n",
        " \n",
        "This means the parameter values of this instance are randomly drawn from the priors."
      ]
    },
    {
      "cell_type": "code",
      "metadata": {},
      "source": [
        "model = af.Model(Gaussian)\n",
        "instance = model.random_instance()"
      ],
      "outputs": [],
      "execution_count": null
    },
    {
      "cell_type": "markdown",
      "metadata": {},
      "source": [
        "__Alternative API__\n",
        "\n",
        "The overwriting of priors shown above can be achieved via the following alternative API:"
      ]
    },
    {
      "cell_type": "code",
      "metadata": {},
      "source": [
        "model = af.Model(\n",
        "    Gaussian,\n",
        "    centre=af.UniformPrior(lower_limit=0.0, upper_limit=1.0),\n",
        "    normalization=af.LogUniformPrior(lower_limit=1e-4, upper_limit=1e4),\n",
        "    sigma=af.GaussianPrior(mean=0.0, sigma=1.0),\n",
        ")"
      ],
      "outputs": [],
      "execution_count": null
    },
    {
      "cell_type": "markdown",
      "metadata": {},
      "source": [
        "This API can also be used for fixing a parameter to a certain value:"
      ]
    },
    {
      "cell_type": "code",
      "metadata": {},
      "source": [
        "model = af.Model(Gaussian, centre=0.0)"
      ],
      "outputs": [],
      "execution_count": null
    },
    {
      "cell_type": "markdown",
      "metadata": {},
      "source": [
        "__Model Dictionary__\n",
        "\n",
        "A model has a `dict` attribute, which express all information about the model as a Python .\n",
        "\n",
        "By printing this dictionary we can therefore get a concise summary of the model."
      ]
    },
    {
      "cell_type": "code",
      "metadata": {},
      "source": [
        "model = af.Model(Gaussian)\n",
        "\n",
        "print(model.dict())"
      ],
      "outputs": [],
      "execution_count": null
    },
    {
      "cell_type": "markdown",
      "metadata": {},
      "source": [
        "__JSon Outputs__\n",
        "\n",
        "Python dictionaries can easily be saved to hard disk as a `.json` file.\n",
        "\n",
        "This means we can save any **PyAutoFit** model to hard-disk.\n",
        "\n",
        "Checkout the file `autofit_workspace/*/model/jsons/model.json` to see the model written as a .json."
      ]
    },
    {
      "cell_type": "code",
      "metadata": {},
      "source": [
        "model_path = path.join(\"scripts\", \"model\", \"jsons\")\n",
        "\n",
        "os.makedirs(model_path, exist_ok=True)\n",
        "\n",
        "model_file = path.join(model_path, \"model.json\")\n",
        "\n",
        "with open(model_file, \"w+\") as f:\n",
        "    json.dump(model.dict(), f, indent=4)"
      ],
      "outputs": [],
      "execution_count": null
    },
    {
      "cell_type": "markdown",
      "metadata": {},
      "source": [
        "We can load the model from its `.json` file.\n",
        "\n",
        "This means in **PyAutoFit** one can easily writen a model, save it to hard disk and load it elsewhere."
      ]
    },
    {
      "cell_type": "code",
      "metadata": {},
      "source": [
        "model = af.Model.from_json(file=model_file)\n",
        "\n",
        "print(f\"\\n Model via Json Prior Count = {model.prior_count}\")"
      ],
      "outputs": [],
      "execution_count": null
    },
    {
      "cell_type": "markdown",
      "metadata": {},
      "source": [
        "__Wrap Up__\n",
        "\n",
        "This cookbook shows how to compose simple models using the `af.Model()` object.\n",
        "\n",
        "The next cookbook describes how to compose models from multiple model components using a `af.Collection()`."
      ]
    },
    {
      "cell_type": "code",
      "metadata": {},
      "source": [],
      "outputs": [],
      "execution_count": null
    }
  ],
  "metadata": {
    "anaconda-cloud": {},
    "kernelspec": {
      "display_name": "Python 3",
      "language": "python",
      "name": "python3"
    },
    "language_info": {
      "codemirror_mode": {
        "name": "ipython",
        "version": 3
      },
      "file_extension": ".py",
      "mimetype": "text/x-python",
      "name": "python",
      "nbconvert_exporter": "python",
      "pygments_lexer": "ipython3",
      "version": "3.6.1"
    }
  },
  "nbformat": 4,
  "nbformat_minor": 4
}