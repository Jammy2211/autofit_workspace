{
 "cells": [
  {
   "cell_type": "markdown",
   "metadata": {},
   "source": [
    "Feature: Database\n",
    "=================\n",
    "\n",
    "The default behaviour of **PyAutoFit** is for model-fitting results to be output to hard-disc in folders, which are\n",
    "straight forward to navigate and manually check the model-fitting results. For small model-fitting tasks this is\n",
    "sufficient, however many users have a need to perform many model fits to very large datasets, making the manual\n",
    "inspection of results time consuming.\n",
    "\n",
    "PyAutoFit's database feature outputs all model-fitting results as a\n",
    "sqlite3 (https://docs.python.org/3/library/sqlite3.html) relational database, such that all results\n",
    "can be efficiently loaded into a Jupyter notebook or Python script for inspection, analysis and interpretation. This\n",
    "database supports advanced querying, so that specific model-fits (e.g., which fit a certain model or dataset) can be\n",
    "loaded.\n",
    "\n",
    "This example extends our example of fitting a 1D `Gaussian` profile and fits 3 independent datasets each containing a\n",
    "1D Gaussian. The results will be written to a `.sqlite` database, which we will load to demonstrate the database.\n",
    "\n",
    "A full description of PyAutoFit's database tools is provided in the database chapter of the `HowToFit` lectures."
   ]
  },
  {
   "cell_type": "code",
   "execution_count": 1,
   "metadata": {
    "execution": {
     "iopub.execute_input": "2021-03-06T14:07:54.143983Z",
     "iopub.status.busy": "2021-03-06T14:07:54.143593Z",
     "iopub.status.idle": "2021-03-06T14:07:54.875822Z",
     "shell.execute_reply": "2021-03-06T14:07:54.875489Z"
    }
   },
   "outputs": [
    {
     "name": "stdout",
     "output_type": "stream",
     "text": [
      "/mnt/c/Users/Jammy/Code/PyAuto/autofit_workspace\n",
      "Working Directory has been set to `/mnt/c/Users/Jammy/Code/PyAuto/autofit_workspace`\n"
     ]
    }
   ],
   "source": [
    "%matplotlib inline\n",
    "from pyprojroot import here\n",
    "workspace_path = str(here())\n",
    "%cd $workspace_path\n",
    "print(f\"Working Directory has been set to `{workspace_path}`\")\n",
    "\n",
    "import autofit as af\n",
    "\n",
    "from os import path\n",
    "import numpy as np\n",
    "\n",
    "import model as m\n",
    "import analysis as a"
   ]
  },
  {
   "cell_type": "markdown",
   "metadata": {},
   "source": [
    "For each dataset we load it from hard-disc, set up its `Analysis` class and fit it with a non-linear search. \n",
    "\n",
    "The 3 datasets are in the `autofit_workspace/dataset/example_1d` folder.\n",
    "\n",
    "We want each results to be stored in the database with an entry specific to the dataset. We'll use the `Dataset`'s name \n",
    "string to do this, so lets create a list of the 3 dataset names."
   ]
  },
  {
   "cell_type": "code",
   "execution_count": 2,
   "metadata": {
    "execution": {
     "iopub.execute_input": "2021-03-06T14:07:54.878485Z",
     "iopub.status.busy": "2021-03-06T14:07:54.878060Z",
     "iopub.status.idle": "2021-03-06T14:07:54.879779Z",
     "shell.execute_reply": "2021-03-06T14:07:54.879401Z"
    }
   },
   "outputs": [],
   "source": [
    "dataset_names = [\"gaussian_x1_0\", \"gaussian_x1_1\", \"gaussian_x1_2\"]"
   ]
  },
  {
   "cell_type": "markdown",
   "metadata": {},
   "source": [
    "We can also attach information to the model-fit, by setting up an info dictionary. \n",
    "\n",
    "Information about our model-fit (e.g. the dataset) that isn't part of the model-fit is made accessible to the \n",
    "database. For example, below we write info on the dataset`s (hypothetical) data of observation and exposure time."
   ]
  },
  {
   "cell_type": "code",
   "execution_count": 3,
   "metadata": {
    "execution": {
     "iopub.execute_input": "2021-03-06T14:07:54.882104Z",
     "iopub.status.busy": "2021-03-06T14:07:54.881693Z",
     "iopub.status.idle": "2021-03-06T14:07:54.883563Z",
     "shell.execute_reply": "2021-03-06T14:07:54.883309Z"
    }
   },
   "outputs": [],
   "source": [
    "info = {\"date_of_observation\": \"01-02-18\", \"exposure_time\": 1000.0}"
   ]
  },
  {
   "cell_type": "markdown",
   "metadata": {},
   "source": [
    "__Model__\n",
    "\n",
    "Next, we create our model, which again corresponds to a single `Gaussian` with manual priors."
   ]
  },
  {
   "cell_type": "code",
   "execution_count": 4,
   "metadata": {
    "execution": {
     "iopub.execute_input": "2021-03-06T14:07:54.886357Z",
     "iopub.status.busy": "2021-03-06T14:07:54.886036Z",
     "iopub.status.idle": "2021-03-06T14:07:54.896895Z",
     "shell.execute_reply": "2021-03-06T14:07:54.897114Z"
    }
   },
   "outputs": [],
   "source": [
    "model = af.CollectionPriorModel(gaussian=m.Gaussian)\n",
    "\n",
    "model.gaussian.centre = af.UniformPrior(lower_limit=0.0, upper_limit=100.0)\n",
    "model.gaussian.intensity = af.LogUniformPrior(lower_limit=1e-2, upper_limit=1e2)\n",
    "model.gaussian.sigma = af.GaussianPrior(\n",
    "    mean=10.0, sigma=5.0, lower_limit=0.0, upper_limit=np.inf\n",
    ")"
   ]
  },
  {
   "cell_type": "markdown",
   "metadata": {},
   "source": [
    "This for loop runs over every dataset, checkout the comments below for how we set up the database entry of each fit."
   ]
  },
  {
   "cell_type": "code",
   "execution_count": 5,
   "metadata": {
    "execution": {
     "iopub.execute_input": "2021-03-06T14:07:54.900992Z",
     "iopub.status.busy": "2021-03-06T14:07:54.900542Z",
     "iopub.status.idle": "2021-03-06T14:07:56.482588Z",
     "shell.execute_reply": "2021-03-06T14:07:56.482917Z"
    }
   },
   "outputs": [
    {
     "name": "stderr",
     "output_type": "stream",
     "text": [
      "INFO:root: already completed, skipping non-linear search.\n"
     ]
    },
    {
     "name": "stdout",
     "output_type": "stream",
     "text": [
      "Emcee has begun running. This Jupyter notebook cell with progress once Emcee has completed, this could take a few minutes!\n"
     ]
    },
    {
     "name": "stderr",
     "output_type": "stream",
     "text": [
      "INFO:root: already completed, skipping non-linear search.\n"
     ]
    },
    {
     "name": "stdout",
     "output_type": "stream",
     "text": [
      "Emcee has begun running. This Jupyter notebook cell with progress once Emcee has completed, this could take a few minutes!\n"
     ]
    },
    {
     "name": "stderr",
     "output_type": "stream",
     "text": [
      "INFO:root: already completed, skipping non-linear search.\n"
     ]
    },
    {
     "name": "stdout",
     "output_type": "stream",
     "text": [
      "Emcee has begun running. This Jupyter notebook cell with progress once Emcee has completed, this could take a few minutes!\n",
      "Emcee has finished run - you may now continue the notebook.\n"
     ]
    }
   ],
   "source": [
    "for dataset_name in dataset_names:\n",
    "\n",
    "    \"\"\"\n",
    "    The code below loads the dataset and sets up the Analysis class.\n",
    "    \"\"\"\n",
    "    dataset_path = path.join(\"dataset\", \"example_1d\", dataset_name)\n",
    "\n",
    "    data = af.util.numpy_array_from_json(file_path=path.join(dataset_path, \"data.json\"))\n",
    "    noise_map = af.util.numpy_array_from_json(\n",
    "        file_path=path.join(dataset_path, \"noise_map.json\")\n",
    "    )\n",
    "\n",
    "    analysis = a.Analysis(data=data, noise_map=noise_map)\n",
    "\n",
    "    \"\"\"\n",
    "    In all examples so far, results have gone to the default output path, which was the `autofit_workspace/output` \n",
    "    folder and a folder named after the non linear search. In this example, we will repeat this process and then load\n",
    "    these results into the database and a `database.sqlite` file.\n",
    "    \n",
    "    However, results can be written directly to the `database.sqlite` file omitted hard-disc output entirely, which\n",
    "    can be important for performing large model-fitting tasks on high performance computing facilities where there\n",
    "    may be limits on the number of files allowed. The commented out code below shows how one would perform\n",
    "    direct output to the `.sqlite` file. \n",
    "    \n",
    "    [NOTE: direct writing to .sqlite not supported yet, so this fit currently outputs to hard-disc as per usual and\n",
    "    these outputs will be used to make the database.]\n",
    "    \"\"\"\n",
    "    emcee = af.Emcee(\n",
    "        paths=af.Paths(path_prefix=path.join(\"features\", \"database\", dataset_name)),\n",
    "        nwalkers=30,\n",
    "        nsteps=1000,\n",
    "        initializer=af.InitializerBall(lower_limit=0.49, upper_limit=0.51),\n",
    "        auto_correlation_check_for_convergence=True,\n",
    "        auto_correlation_check_size=100,\n",
    "        auto_correlation_required_length=50,\n",
    "        auto_correlation_change_threshold=0.01,\n",
    "        number_of_cores=1,\n",
    "    )\n",
    "\n",
    "    # INSERT CODE HERE.\n",
    "\n",
    "    print(\n",
    "        f\"Emcee has begun running. This Jupyter notebook cell with progress once Emcee has completed, this could take a \"\n",
    "        f\"few minutes!\"\n",
    "    )\n",
    "\n",
    "    result = emcee.fit(model=model, analysis=analysis, info=info)\n",
    "\n",
    "print(\"Emcee has finished run - you may now continue the notebook.\")"
   ]
  },
  {
   "cell_type": "markdown",
   "metadata": {},
   "source": [
    "We now load the results in the `output` folder into a sqlite database using the `Aggregator`. We simply point to the \n",
    "path where we want the database to be created and add the directory `autofit_workspace/output/features/database`.\n",
    "\n",
    "Checkout the output folder, you should see a `database.sqlite` file which contains the model-fits to the 3 `Gaussian`\n",
    "datasets."
   ]
  },
  {
   "cell_type": "code",
   "execution_count": 6,
   "metadata": {
    "execution": {
     "iopub.execute_input": "2021-03-06T14:07:56.486288Z",
     "iopub.status.busy": "2021-03-06T14:07:56.485824Z",
     "iopub.status.idle": "2021-03-06T14:07:57.249227Z",
     "shell.execute_reply": "2021-03-06T14:07:57.249532Z"
    }
   },
   "outputs": [
    {
     "name": "stdout",
     "output_type": "stream",
     "text": [
      "Aggregator loading phases... could take some time.\n",
      "\n",
      " A total of 3 phases and results were found.\n"
     ]
    }
   ],
   "source": [
    "from autofit.database.aggregator import Aggregator\n",
    "\n",
    "agg = Aggregator.from_database(\n",
    "    path.join(\"output\", \"features\", \"database\", \"database.sqlite\")\n",
    ")\n",
    "\n",
    "agg.add_directory(path.join(\"output\", \"features\", \"database\"))"
   ]
  },
  {
   "cell_type": "markdown",
   "metadata": {},
   "source": [
    "Before using the aggregator to inspect results, let me quickly cover Python generators. A generator is an object that \n",
    "iterates over a function when it is called. The aggregator creates all of the objects that it loads from the database \n",
    "as generators (as opposed to a list, or dictionary, or other Python type).\n",
    "\n",
    "Why? Because lists and dictionaries store every entry in memory simultaneously. If you fit many datasets, this will use \n",
    "a lot of memory and crash your laptop! On the other hand, a generator only stores the object in memory when it is used; \n",
    "Python is then free to overwrite it afterwards. Thus, your laptop won't crash!\n",
    "\n",
    "There are two things to bare in mind with generators:\n",
    "\n",
    "1) A generator has no length and to determine how many entries it contains you first must turn it into a list.\n",
    "\n",
    "2) Once we use a generator, we cannot use it again and need to remake it. For this reason, we typically avoid \n",
    " storing the generator as a variable and instead use the aggregator to create them on use.\n",
    "\n",
    "We can now create a `samples` generator of every fit. As we saw in the `result.py` example scripts, an instance of \n",
    "the `Samples` class acts as an interface to the results of the non-linear search."
   ]
  },
  {
   "cell_type": "code",
   "execution_count": 7,
   "metadata": {
    "execution": {
     "iopub.execute_input": "2021-03-06T14:07:57.252149Z",
     "iopub.status.busy": "2021-03-06T14:07:57.251790Z",
     "iopub.status.idle": "2021-03-06T14:08:00.489644Z",
     "shell.execute_reply": "2021-03-06T14:08:00.489308Z"
    }
   },
   "outputs": [],
   "source": [
    "samples_gen = agg.values(\"samples\")"
   ]
  },
  {
   "cell_type": "markdown",
   "metadata": {},
   "source": [
    "When we convert this generator to a list and it, the outputs are 3 different MCMCSamples instances. These correspond to \n",
    "the 3 model-fits performed above."
   ]
  },
  {
   "cell_type": "code",
   "execution_count": 8,
   "metadata": {
    "execution": {
     "iopub.execute_input": "2021-03-06T14:08:00.492762Z",
     "iopub.status.busy": "2021-03-06T14:08:00.492326Z",
     "iopub.status.idle": "2021-03-06T14:08:00.495104Z",
     "shell.execute_reply": "2021-03-06T14:08:00.494817Z"
    }
   },
   "outputs": [
    {
     "name": "stdout",
     "output_type": "stream",
     "text": [
      "Emcee Samples:\n",
      "\n",
      "[<autofit.non_linear.mcmc.emcee.EmceeSamples object at 0x7f3ff5090430>, <autofit.non_linear.mcmc.emcee.EmceeSamples object at 0x7f3ff1a161c0>, <autofit.non_linear.mcmc.emcee.EmceeSamples object at 0x7f3ff0763a30>, <autofit.non_linear.mcmc.emcee.EmceeSamples object at 0x7f3fef5382e0>, <autofit.non_linear.mcmc.emcee.EmceeSamples object at 0x7f3fee464b50>, <autofit.non_linear.mcmc.emcee.EmceeSamples object at 0x7f3fed319580>, <autofit.non_linear.mcmc.emcee.EmceeSamples object at 0x7f3fec1c6c70>, <autofit.non_linear.mcmc.emcee.EmceeSamples object at 0x7f3feb07b520>, <autofit.non_linear.mcmc.emcee.EmceeSamples object at 0x7f3fe9fa6f10>, <autofit.non_linear.mcmc.emcee.EmceeSamples object at 0x7f3fe8e5c640>, <autofit.non_linear.mcmc.emcee.EmceeSamples object at 0x7f3fe7d08fa0>, <autofit.non_linear.mcmc.emcee.EmceeSamples object at 0x7f3fe6bbe760>, <autofit.non_linear.mcmc.emcee.EmceeSamples object at 0x7f3fe5a73190>, <autofit.non_linear.mcmc.emcee.EmceeSamples object at 0x7f3fe49a0880>, <autofit.non_linear.mcmc.emcee.EmceeSamples object at 0x7f3fe38542b0>, <autofit.non_linear.mcmc.emcee.EmceeSamples object at 0x7f3fe2701b20>, <autofit.non_linear.mcmc.emcee.EmceeSamples object at 0x7f3fe15b7250>, <autofit.non_linear.mcmc.emcee.EmceeSamples object at 0x7f3fe04e3c40>]\n",
      "Total Samples Objects =  18 \n",
      "\n"
     ]
    }
   ],
   "source": [
    "print(\"Emcee Samples:\\n\")\n",
    "print(samples_gen)\n",
    "print(\"Total Samples Objects = \", len(list(samples_gen)), \"\\n\")"
   ]
  },
  {
   "cell_type": "markdown",
   "metadata": {},
   "source": [
    "The `Samples` class is described in the `result.py` example script. Using the `Aggregator` we can access all of the \n",
    "attributes described in that example, for example the value of every parameter.\n",
    "\n",
    "Refer to `result.py` for all the properties that are accessible via the `Aggregator`."
   ]
  },
  {
   "cell_type": "code",
   "execution_count": 9,
   "metadata": {
    "execution": {
     "iopub.execute_input": "2021-03-06T14:08:02.282830Z",
     "iopub.status.busy": "2021-03-06T14:08:01.505646Z",
     "iopub.status.idle": "2021-03-06T14:08:05.102133Z",
     "shell.execute_reply": "2021-03-06T14:08:05.102505Z"
    }
   },
   "outputs": [
    {
     "name": "stdout",
     "output_type": "stream",
     "text": [
      "All parameters of the very first sample\n",
      "[50.17570416290228, 0.9869558089032396, 10.0276991964512]\n",
      "The tenth sample`s third parameter\n",
      "10.111223683209603 \n",
      "\n",
      "All parameters of the very first sample\n",
      "[49.36700833150672, 0.9865358491589005, 10.062404606622472]\n",
      "The tenth sample`s third parameter\n",
      "9.9702230803709 \n",
      "\n",
      "All parameters of the very first sample\n",
      "[50.307614307571505, 0.9524003937708843, 10.12258470559654]\n",
      "The tenth sample`s third parameter\n",
      "10.08859498007356 \n",
      "\n",
      "All parameters of the very first sample\n",
      "[50.17570416290228, 0.9869558089032396, 10.0276991964512]\n",
      "The tenth sample`s third parameter\n",
      "10.111223683209603 \n",
      "\n",
      "All parameters of the very first sample\n",
      "[49.36700833150672, 0.9865358491589005, 10.062404606622472]\n",
      "The tenth sample`s third parameter\n",
      "9.9702230803709 \n",
      "\n",
      "All parameters of the very first sample\n",
      "[50.307614307571505, 0.9524003937708843, 10.12258470559654]\n",
      "The tenth sample`s third parameter\n",
      "10.08859498007356 \n",
      "\n",
      "All parameters of the very first sample\n",
      "[50.17570416290228, 0.9869558089032396, 10.0276991964512]\n",
      "The tenth sample`s third parameter\n",
      "10.111223683209603 \n",
      "\n",
      "All parameters of the very first sample\n",
      "[49.36700833150672, 0.9865358491589005, 10.062404606622472]\n",
      "The tenth sample`s third parameter\n",
      "9.9702230803709 \n",
      "\n",
      "All parameters of the very first sample\n",
      "[50.307614307571505, 0.9524003937708843, 10.12258470559654]\n",
      "The tenth sample`s third parameter\n",
      "10.08859498007356 \n",
      "\n",
      "All parameters of the very first sample\n",
      "[50.17570416290228, 0.9869558089032396, 10.0276991964512]\n",
      "The tenth sample`s third parameter\n",
      "10.111223683209603 \n",
      "\n",
      "All parameters of the very first sample\n",
      "[49.36700833150672, 0.9865358491589005, 10.062404606622472]\n",
      "The tenth sample`s third parameter\n",
      "9.9702230803709 \n",
      "\n",
      "All parameters of the very first sample\n",
      "[50.307614307571505, 0.9524003937708843, 10.12258470559654]\n",
      "The tenth sample`s third parameter\n",
      "10.08859498007356 \n",
      "\n",
      "All parameters of the very first sample\n",
      "[50.17570416290228, 0.9869558089032396, 10.0276991964512]\n",
      "The tenth sample`s third parameter\n",
      "10.111223683209603 \n",
      "\n",
      "All parameters of the very first sample\n",
      "[49.36700833150672, 0.9865358491589005, 10.062404606622472]\n",
      "The tenth sample`s third parameter\n",
      "9.9702230803709 \n",
      "\n",
      "All parameters of the very first sample\n",
      "[50.307614307571505, 0.9524003937708843, 10.12258470559654]\n",
      "The tenth sample`s third parameter\n",
      "10.08859498007356 \n",
      "\n",
      "All parameters of the very first sample\n",
      "[50.17570416290228, 0.9869558089032396, 10.0276991964512]\n",
      "The tenth sample`s third parameter\n",
      "10.111223683209603 \n",
      "\n",
      "All parameters of the very first sample\n",
      "[49.36700833150672, 0.9865358491589005, 10.062404606622472]\n",
      "The tenth sample`s third parameter\n",
      "9.9702230803709 \n",
      "\n",
      "All parameters of the very first sample\n",
      "[50.307614307571505, 0.9524003937708843, 10.12258470559654]\n",
      "The tenth sample`s third parameter\n",
      "10.08859498007356 \n",
      "\n"
     ]
    }
   ],
   "source": [
    "for samples in agg.values(\"samples\"):\n",
    "    print(\"All parameters of the very first sample\")\n",
    "    print(samples.parameters[0])\n",
    "    print(\"The tenth sample`s third parameter\")\n",
    "    print(samples.parameters[9][2], \"\\n\")"
   ]
  },
  {
   "cell_type": "markdown",
   "metadata": {},
   "source": [
    "__Querying__\n",
    "\n",
    "We can use the `Aggregator`'s to query the database and return only specific fits that we are interested in. We first \n",
    "do this, using the `info` object, whereby we can query any of its entries, for example the `dataset_name` string we \n",
    "input into the model-fit above. \n",
    "\n",
    "By querying using the string `gaussian_x1_1` the model-fit to only the second `Gaussian` dataset is returned:"
   ]
  },
  {
   "cell_type": "code",
   "execution_count": 10,
   "metadata": {
    "execution": {
     "iopub.execute_input": "2021-03-06T14:08:05.105152Z",
     "iopub.status.busy": "2021-03-06T14:08:05.104771Z",
     "iopub.status.idle": "2021-03-06T14:08:05.106428Z",
     "shell.execute_reply": "2021-03-06T14:08:05.106729Z"
    }
   },
   "outputs": [],
   "source": [
    "# FEature Missing\n",
    "\n",
    "# agg_query = agg.query(agg.directory.contains(\"gaussian_x1_1\"))\n",
    "# samples_gen = agg_query.values(\"samples\")"
   ]
  },
  {
   "cell_type": "markdown",
   "metadata": {},
   "source": [
    "As expected, this list now has only 1 MCMCSamples corresponding to the second dataset."
   ]
  },
  {
   "cell_type": "code",
   "execution_count": 11,
   "metadata": {
    "execution": {
     "iopub.execute_input": "2021-03-06T14:08:05.109957Z",
     "iopub.status.busy": "2021-03-06T14:08:05.109571Z",
     "iopub.status.idle": "2021-03-06T14:08:05.111770Z",
     "shell.execute_reply": "2021-03-06T14:08:05.112074Z"
    }
   },
   "outputs": [
    {
     "name": "stdout",
     "output_type": "stream",
     "text": [
      "[<autofit.non_linear.mcmc.emcee.EmceeSamples object at 0x7f3ff5090430>, <autofit.non_linear.mcmc.emcee.EmceeSamples object at 0x7f3ff1a161c0>, <autofit.non_linear.mcmc.emcee.EmceeSamples object at 0x7f3ff0763a30>, <autofit.non_linear.mcmc.emcee.EmceeSamples object at 0x7f3fef5382e0>, <autofit.non_linear.mcmc.emcee.EmceeSamples object at 0x7f3fee464b50>, <autofit.non_linear.mcmc.emcee.EmceeSamples object at 0x7f3fed319580>, <autofit.non_linear.mcmc.emcee.EmceeSamples object at 0x7f3fec1c6c70>, <autofit.non_linear.mcmc.emcee.EmceeSamples object at 0x7f3feb07b520>, <autofit.non_linear.mcmc.emcee.EmceeSamples object at 0x7f3fe9fa6f10>, <autofit.non_linear.mcmc.emcee.EmceeSamples object at 0x7f3fe8e5c640>, <autofit.non_linear.mcmc.emcee.EmceeSamples object at 0x7f3fe7d08fa0>, <autofit.non_linear.mcmc.emcee.EmceeSamples object at 0x7f3fe6bbe760>, <autofit.non_linear.mcmc.emcee.EmceeSamples object at 0x7f3fe5a73190>, <autofit.non_linear.mcmc.emcee.EmceeSamples object at 0x7f3fe49a0880>, <autofit.non_linear.mcmc.emcee.EmceeSamples object at 0x7f3fe38542b0>, <autofit.non_linear.mcmc.emcee.EmceeSamples object at 0x7f3fe2701b20>, <autofit.non_linear.mcmc.emcee.EmceeSamples object at 0x7f3fe15b7250>, <autofit.non_linear.mcmc.emcee.EmceeSamples object at 0x7f3fe04e3c40>]\n",
      "Total Samples Objects via dataset_name Query =  18 \n",
      "\n"
     ]
    }
   ],
   "source": [
    "print(samples_gen)\n",
    "print(\"Total Samples Objects via dataset_name Query = \", len(list(samples_gen)), \"\\n\")"
   ]
  },
  {
   "cell_type": "markdown",
   "metadata": {},
   "source": [
    "We can also query based on the model fitted. \n",
    "\n",
    "For example, we can load all results which fitted a `Gaussian` model-component, which in this simple example is all\n",
    "3 model-fits.\n",
    " \n",
    "The ability to query via the model is extremely powerful. It enalbes a user to perform many model-fits with many \n",
    "different model parameterizations to large datasets and efficiently load and inspect the results. \n",
    "\n",
    "[Note: the code `agg.gaussian` corresponds to the fact that in the `CollectionPriorModel` above, we named the model\n",
    "component `gaussian`. If this `CollectionPriorModel` had used a different name the code below would change \n",
    "correspondingly. Models with multiple model components (e.g., `gaussian` and `exponential`) are therefore also easily \n",
    "accessed via the database.]"
   ]
  },
  {
   "cell_type": "code",
   "execution_count": 12,
   "metadata": {
    "execution": {
     "iopub.execute_input": "2021-03-06T14:08:05.115398Z",
     "iopub.status.busy": "2021-03-06T14:08:05.115000Z",
     "iopub.status.idle": "2021-03-06T14:08:07.520591Z",
     "shell.execute_reply": "2021-03-06T14:08:07.520919Z"
    }
   },
   "outputs": [
    {
     "name": "stdout",
     "output_type": "stream",
     "text": [
      "Total Samples Objects via `Gaussian` model query =  18 \n",
      "\n"
     ]
    }
   ],
   "source": [
    "gaussian = agg.gaussian\n",
    "agg_query = agg.query(gaussian == m.Gaussian)\n",
    "samples_gen = agg_query.values(\"samples\")\n",
    "print(\"Total Samples Objects via `Gaussian` model query = \", len(list(samples_gen)), \"\\n\")"
   ]
  },
  {
   "cell_type": "markdown",
   "metadata": {},
   "source": [
    "Queries using the results of model-fitting are also supported. Below, we query the database to find all fits where the \n",
    "inferred value of `sigma` for the `Gaussian` is less than 3.0 (which returns only the first of the three model-fits)."
   ]
  },
  {
   "cell_type": "code",
   "execution_count": 13,
   "metadata": {
    "execution": {
     "iopub.execute_input": "2021-03-06T14:08:07.526798Z",
     "iopub.status.busy": "2021-03-06T14:08:07.525629Z",
     "iopub.status.idle": "2021-03-06T14:08:07.710807Z",
     "shell.execute_reply": "2021-03-06T14:08:07.711217Z"
    }
   },
   "outputs": [
    {
     "name": "stdout",
     "output_type": "stream",
     "text": [
      "Total Samples Objects In Query `gaussian.sigma < 3.0` =  0 \n",
      "\n"
     ]
    }
   ],
   "source": [
    "gaussian = agg.gaussian\n",
    "agg_query = agg.query(gaussian.sigma < 3.0)\n",
    "samples_gen = agg_query.values(\"samples\")\n",
    "print(\"Total Samples Objects In Query `gaussian.sigma < 3.0` = \", len(list(samples_gen)), \"\\n\")"
   ]
  },
  {
   "cell_type": "markdown",
   "metadata": {},
   "source": [
    "Advanced queries can be constructed using logic, for example we below we combine the two queries above to find all\n",
    "results which fitted a `Gaussian` AND (using the & symbol) inferred a value of sigma less than 3.0. \n",
    "\n",
    "The OR logical clause is also supported via the symbol |."
   ]
  },
  {
   "cell_type": "code",
   "execution_count": 14,
   "metadata": {
    "execution": {
     "iopub.execute_input": "2021-03-06T14:08:07.717295Z",
     "iopub.status.busy": "2021-03-06T14:08:07.716891Z",
     "iopub.status.idle": "2021-03-06T14:08:07.720811Z",
     "shell.execute_reply": "2021-03-06T14:08:07.720468Z"
    }
   },
   "outputs": [
    {
     "name": "stdout",
     "output_type": "stream",
     "text": [
      "Total Samples Objects In Query `Gaussian & sigma < 3.0` =  0 \n",
      "\n"
     ]
    }
   ],
   "source": [
    "gaussian = agg.gaussian\n",
    "agg_query = agg.query((gaussian == m.Gaussian) & (gaussian.sigma < 3.0))\n",
    "samples_gen = agg_query.values(\"samples\")\n",
    "print(\"Total Samples Objects In Query `Gaussian & sigma < 3.0` = \", len(list(samples_gen)), \"\\n\")"
   ]
  },
  {
   "cell_type": "markdown",
   "metadata": {},
   "source": [
    "Tutorial 3 complete! \n",
    "\n",
    "The API for querying is fairly self explanatory. Through the combination of info based queries, model based\n",
    "queries and result based queries a user has all the tools they need to fit extremely large datasets with many different\n",
    "models and load only the results they are interested in for inspection and analysis.\n",
    "\n",
    "Lets next try something more ambitious and create a plot of the inferred sigma values vs intensity of each\n",
    "Gaussian profile, including error bars at 3 sigma confidence.\n",
    "\n",
    "This will use many of the methods described in the `result.py` example scripts, so if anything below appears new or\n",
    "unclear checkout that script for a explanation."
   ]
  },
  {
   "cell_type": "code",
   "execution_count": 15,
   "metadata": {
    "execution": {
     "iopub.execute_input": "2021-03-06T14:08:08.402304Z",
     "iopub.status.busy": "2021-03-06T14:08:08.356546Z",
     "iopub.status.idle": "2021-03-06T14:08:16.173418Z",
     "shell.execute_reply": "2021-03-06T14:08:16.173744Z"
    }
   },
   "outputs": [
    {
     "name": "stdout",
     "output_type": "stream",
     "text": [
      "[<autofit.mapper.model.ModelInstance object at 0x7f3ff18824c0>, <autofit.mapper.model.ModelInstance object at 0x7f3fe7d55c40>, <autofit.mapper.model.ModelInstance object at 0x7f3fe7d55cd0>, <autofit.mapper.model.ModelInstance object at 0x7f3fe7d55d60>, <autofit.mapper.model.ModelInstance object at 0x7f3fe7d55df0>, <autofit.mapper.model.ModelInstance object at 0x7f3fe7d55e80>, <autofit.mapper.model.ModelInstance object at 0x7f3fe7d55f10>, <autofit.mapper.model.ModelInstance object at 0x7f3fe7d55fa0>, <autofit.mapper.model.ModelInstance object at 0x7f3fe7d559d0>, <autofit.mapper.model.ModelInstance object at 0x7f3fe7d55a30>, <autofit.mapper.model.ModelInstance object at 0x7f3fe7d55b20>, <autofit.mapper.model.ModelInstance object at 0x7f3fe7d5d220>, <autofit.mapper.model.ModelInstance object at 0x7f3fe7d5d2b0>, <autofit.mapper.model.ModelInstance object at 0x7f3fe7d5d340>, <autofit.mapper.model.ModelInstance object at 0x7f3fe7d5d3d0>, <autofit.mapper.model.ModelInstance object at 0x7f3fe7d5d460>, <autofit.mapper.model.ModelInstance object at 0x7f3fe7d5d4f0>, <autofit.mapper.model.ModelInstance object at 0x7f3fe7d5d580>]\n"
     ]
    },
    {
     "data": {
      "image/png": "[encoded data removed]",
      "text/plain": [
       "<Figure size 432x288 with 1 Axes>"
      ]
     },
     "metadata": {
      "needs_background": "light"
     },
     "output_type": "display_data"
    }
   ],
   "source": [
    "import matplotlib.pyplot as plt\n",
    "\n",
    "mp_instances = [samps.median_pdf_instance for samps in agg.values(\"samples\")]\n",
    "ue3_instances = [\n",
    "    out.error_instance_at_upper_sigma(sigma=3.0) for out in agg.values(\"samples\")\n",
    "]\n",
    "le3_instances = [\n",
    "    out.error_instance_at_lower_sigma(sigma=3.0) for out in agg.values(\"samples\")\n",
    "]\n",
    "\n",
    "print(mp_instances)\n",
    "\n",
    "mp_sigmas = [instance.gaussian.sigma for instance in mp_instances]\n",
    "ue3_sigmas = [instance.gaussian.sigma for instance in ue3_instances]\n",
    "le3_sigmas = [instance.gaussian.sigma for instance in le3_instances]\n",
    "mp_intensitys = [instance.gaussian.intensity for instance in mp_instances]\n",
    "ue3_intensitys = [instance.gaussian.intensity for instance in ue3_instances]\n",
    "le3_intensitys = [instance.gaussian.intensity for instance in le3_instances]\n",
    "\n",
    "plt.errorbar(\n",
    "    x=mp_sigmas,\n",
    "    y=mp_intensitys,\n",
    "    marker=\".\",\n",
    "    linestyle=\"\",\n",
    "    xerr=[le3_sigmas, ue3_sigmas],\n",
    "    yerr=[le3_intensitys, ue3_intensitys],\n",
    ")\n",
    "plt.title(\"Intensity vs Sigma for 3 model-fits to 1D Gaussians.\")\n",
    "plt.ylabel(\"Intensity\")\n",
    "plt.xlabel(\"Sigma\")\n",
    "plt.show()"
   ]
  },
  {
   "cell_type": "markdown",
   "metadata": {},
   "source": [
    "The Probability Density Functions (PDF's) of the results can be plotted using the library:\n",
    "\n",
    " corner.py: https://corner.readthedocs.io/en/latest/\n",
    "\n",
    "(In built visualization for PDF's and non-linear searches is a future feature of PyAutoFit, but for now you`ll have to \n",
    "use the libraries yourself!)."
   ]
  },
  {
   "cell_type": "code",
   "execution_count": 16,
   "metadata": {
    "execution": {
     "iopub.execute_input": "2021-03-06T14:08:16.177323Z",
     "iopub.status.busy": "2021-03-06T14:08:16.176884Z",
     "iopub.status.idle": "2021-03-06T14:08:19.211822Z",
     "shell.execute_reply": "2021-03-06T14:08:19.211425Z"
    }
   },
   "outputs": [
    {
     "name": "stderr",
     "output_type": "stream",
     "text": [
      "WARNING:root:Too few points to create valid contours\n",
      "WARNING:root:Too few points to create valid contours\n",
      "WARNING:root:Too few points to create valid contours\n"
     ]
    },
    {
     "data": {
      "image/png": "[encoded data removed]",
      "text/plain": [
       "<Figure size 547.2x547.2 with 9 Axes>"
      ]
     },
     "execution_count": 1,
     "metadata": {},
     "output_type": "execute_result"
    },
    {
     "data": {
      "image/png": "[encoded data removed]",
      "text/plain": [
       "<Figure size 547.2x547.2 with 9 Axes>"
      ]
     },
     "metadata": {
      "needs_background": "light"
     },
     "output_type": "display_data"
    }
   ],
   "source": [
    "import corner\n",
    "\n",
    "samples = list(agg.values(\"samples\"))[0]\n",
    "\n",
    "corner.corner(\n",
    "    xs=samples.parameters,\n",
    "    weights=samples.weights,\n",
    "    labels=samples.model.parameter_labels,\n",
    ")"
   ]
  },
  {
   "cell_type": "markdown",
   "metadata": {},
   "source": [
    "The Database chapter of the **HowToFit** Jupyter notebooks give a full description of the database feature, including \n",
    "examples of advanced queries and how to load and plot the results of a model-fit in more detail."
   ]
  },
  {
   "cell_type": "code",
   "execution_count": null,
   "metadata": {},
   "outputs": [],
   "source": [
    "\n"
   ]
  }
 ],
 "metadata": {
  "anaconda-cloud": {},
  "kernelspec": {
   "display_name": "Python 3",
   "language": "python",
   "name": "python3"
  },
  "language_info": {
   "codemirror_mode": {
    "name": "ipython",
    "version": 3
   },
   "file_extension": ".py",
   "mimetype": "text/x-python",
   "name": "python",
   "nbconvert_exporter": "python",
   "pygments_lexer": "ipython3",
   "version": "3.8.5"
  }
 },
 "nbformat": 4,
 "nbformat_minor": 4
}
