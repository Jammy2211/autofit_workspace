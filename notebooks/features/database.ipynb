{
  "cells": [
    {
      "cell_type": "markdown",
      "metadata": {},
      "source": [
        "Feature: Database\n",
        "=================\n",
        "\n",
        "The default behaviour of **PyAutoFit** is for model-fitting results to be output to hard-disc in folders, which are\n",
        "straight forward to navigate and manually check. For small model-fitting tasks this is sufficient, however many users\n",
        "have a need to perform many model fits to very large datasets, making manual inspection of results time consuming.\n",
        "\n",
        "PyAutoFit's database feature outputs all model-fitting results as a\n",
        "sqlite3 (https://docs.python.org/3/library/sqlite3.html) relational database, such that all results\n",
        "can be efficiently loaded into a Jupyter notebook or Python script for inspection, analysis and interpretation. This\n",
        "database supports advanced querying, so that specific model-fits (e.g., which fit a certain model or dataset) can be\n",
        "loaded.\n",
        "\n",
        "This example extends our example of fitting a 1D `Gaussian` profile and fits 3 independent datasets each containing a\n",
        "1D Gaussian. The results will be written to a `.sqlite` database, which we will load to demonstrate the database.\n",
        "\n",
        "A full description of PyAutoFit's database tools is provided in the database chapter of the `HowToFit` lectures.\n",
        "\n",
        "__Example Source Code (`af.ex`)__\n",
        "\n",
        "The **PyAutoFit** source code has the following example objects (accessed via `af.ex`) used in this tutorial:\n",
        "\n",
        " - `Analysis`: an analysis object which fits noisy 1D datasets, including `log_likelihood_function` and\n",
        " `visualize` functions.\n",
        "\n",
        " - `Gaussian`: a model component representing a 1D Gaussian profile.\n",
        "\n",
        "These are functionally identical to the `Analysis` and `Gaussian` objects you have seen elsewhere in the workspace."
      ]
    },
    {
      "cell_type": "code",
      "metadata": {},
      "source": [
        "%matplotlib inline\n",
        "from pyprojroot import here\n",
        "workspace_path = str(here())\n",
        "%cd $workspace_path\n",
        "print(f\"Working Directory has been set to `{workspace_path}`\")\n",
        "\n",
        "from os import path\n",
        "import numpy as np\n",
        "\n",
        "import autofit as af\n",
        "import autofit.plot as aplt"
      ],
      "outputs": [],
      "execution_count": null
    },
    {
      "cell_type": "markdown",
      "metadata": {},
      "source": [
        "__Dataset Names__\n",
        "\n",
        "For each dataset we load it from hard-disc, set up its `Analysis` class and fit it with a non-linear search. \n",
        "\n",
        "The 3 datasets are in the `autofit_workspace/dataset/example_1d` folder.\n",
        "\n",
        "We want each results to be stored in the database with an entry specific to the dataset, by generating the unique\n",
        "identifier using the name of the dataset. We'll use the `dataset_name` string to do this, so lets create a list of \n",
        "the 3 dataset names."
      ]
    },
    {
      "cell_type": "code",
      "metadata": {},
      "source": [
        "dataset_name_list = [\"gaussian_x1_0\", \"gaussian_x1_1\", \"gaussian_x1_2\"]"
      ],
      "outputs": [],
      "execution_count": null
    },
    {
      "cell_type": "markdown",
      "metadata": {},
      "source": [
        "__Info__\n",
        "\n",
        "Information about our model-fit that isn't part of the model-fit can be made accessible to the database, by passing \n",
        "an `info` dictionary. \n",
        "\n",
        "For example, below we write info on the dataset`s (hypothetical) data of observation and exposure time, which the\n",
        "database will be able to access."
      ]
    },
    {
      "cell_type": "code",
      "metadata": {},
      "source": [
        "info = {\"date_of_observation\": \"01-02-18\", \"exposure_time\": 1000.0}"
      ],
      "outputs": [],
      "execution_count": null
    },
    {
      "cell_type": "markdown",
      "metadata": {},
      "source": [
        "__Model__\n",
        "\n",
        "Next, we create our model, which again corresponds to a single `Gaussian` with manual priors."
      ]
    },
    {
      "cell_type": "code",
      "metadata": {},
      "source": [
        "model = af.Collection(gaussian=af.ex.Gaussian)\n",
        "\n",
        "model.gaussian.centre = af.UniformPrior(lower_limit=0.0, upper_limit=100.0)\n",
        "model.gaussian.normalization = af.LogUniformPrior(lower_limit=1e-2, upper_limit=1e2)\n",
        "model.gaussian.sigma = af.GaussianPrior(\n",
        "    mean=10.0, sigma=5.0, lower_limit=0.0, upper_limit=np.inf\n",
        ")"
      ],
      "outputs": [],
      "execution_count": null
    },
    {
      "cell_type": "markdown",
      "metadata": {},
      "source": [
        "___Session__\n",
        "\n",
        "To output results directly to the database, we start a session, which includes the name of the database `.sqlite` file\n",
        "where results are stored."
      ]
    },
    {
      "cell_type": "code",
      "metadata": {},
      "source": [
        "session = af.db.open_database(\"database.sqlite\")"
      ],
      "outputs": [],
      "execution_count": null
    },
    {
      "cell_type": "markdown",
      "metadata": {},
      "source": [
        "This for loop runs over every dataset, checkout the comments below for how we set up the database entry of each fit.\n",
        "\n",
        "Note how the `session` is passed to the `Dynesty` search."
      ]
    },
    {
      "cell_type": "code",
      "metadata": {},
      "source": [
        "for dataset_name in dataset_name_list:\n",
        "    \"\"\"\n",
        "    The code below loads the dataset and sets up the Analysis class.\n",
        "    \"\"\"\n",
        "    dataset_path = path.join(\"dataset\", \"example_1d\", dataset_name)\n",
        "\n",
        "    data = af.util.numpy_array_from_json(file_path=path.join(dataset_path, \"data.json\"))\n",
        "    noise_map = af.util.numpy_array_from_json(\n",
        "        file_path=path.join(dataset_path, \"noise_map.json\")\n",
        "    )\n",
        "\n",
        "    analysis = af.ex.Analysis(data=data, noise_map=noise_map)\n",
        "\n",
        "    \"\"\"\n",
        "    In all examples so far, results were written to the `autofit_workspace/output` folder with a path and folder \n",
        "    named after a unique identifier, which was derived from the non-linear search and model. This unique identifier\n",
        "    plays a vital role in the database: it is used to ensure every entry in the database is unique. \n",
        "    \n",
        "    In this example, results are written directly to the `database.sqlite` file after the model-fit is complete and \n",
        "    only stored in the output folder during the model-fit. This can be important for performing large model-fitting \n",
        "    tasks on high performance computing facilities where there may be limits on the number of files allowed, or there\n",
        "    are too many results to make navigating the output folder manually feasible.\n",
        "    \n",
        "    The `unique_tag` below uses the `dataset_name` to alter the unique identifier, which as we have seen is also \n",
        "    generated depending on the search settings and model. In this example, all three model fits use an identical \n",
        "    search and model, so this `unique_tag` is key for ensuring 3 separate sets of results for each model-fit are \n",
        "    stored in the output folder and written to the .sqlite database. \n",
        "    \"\"\"\n",
        "    search = af.DynestyStatic(\n",
        "        name=\"database_example\",\n",
        "        path_prefix=path.join(\"features\", \"database\"),\n",
        "        unique_tag=dataset_name,  # This makes the unique identifier use the dataset name\n",
        "        session=session,  # This instructs the search to write to the .sqlite database.\n",
        "        nlive=50,\n",
        "    )\n",
        "\n",
        "    print(\n",
        "        f\"The non-linear search has begun running. This Jupyter notebook cell with progress once search has completed, this could take a \"\n",
        "        f\"few minutes!\"\n",
        "    )\n",
        "\n",
        "    result = search.fit(model=model, analysis=analysis, info=info)\n",
        "\n",
        "print(\"Search has finished run - you may now continue the notebook.\")"
      ],
      "outputs": [],
      "execution_count": null
    },
    {
      "cell_type": "markdown",
      "metadata": {},
      "source": [
        "The results are not contained in the `output` folder after each search completes. Instead, they are\n",
        "contained in the `database.sqlite` file, which we can load using the `Aggregator`."
      ]
    },
    {
      "cell_type": "code",
      "metadata": {},
      "source": [
        "agg = af.Aggregator.from_database(\"database.sqlite\")"
      ],
      "outputs": [],
      "execution_count": null
    },
    {
      "cell_type": "markdown",
      "metadata": {},
      "source": [
        "__Generators__\n",
        "\n",
        "Before using the aggregator to inspect results, let me quickly cover Python generators. A generator is an object that \n",
        "iterates over a function when it is called. The aggregator creates all of the objects that it loads from the database \n",
        "as generators (as opposed to a list, or dictionary, or other Python type).\n",
        "\n",
        "Why? Because lists and dictionaries store every entry in memory simultaneously. If you fit many datasets, this will use \n",
        "a lot of memory and crash your laptop! On the other hand, a generator only stores the object in memory when it is used; \n",
        "Python is then free to overwrite it afterwards. Thus, your laptop won't crash!\n",
        "\n",
        "There are two things to bare in mind with generators:\n",
        "\n",
        " 1) A generator has no length and to determine how many entries it contains you first must turn it into a list.\n",
        "\n",
        " 2) Once we use a generator, we cannot use it again and need to remake it. For this reason, we typically avoid \n",
        " storing the generator as a variable and instead use the aggregator to create them on use.\n",
        "\n",
        "We can now create a `samples` generator of every fit. The `results` example scripts show how , an instance of \n",
        "the `Samples` class acts as an interface to the results of the non-linear search."
      ]
    },
    {
      "cell_type": "code",
      "metadata": {},
      "source": [
        "samples_gen = agg.values(\"samples\")"
      ],
      "outputs": [],
      "execution_count": null
    },
    {
      "cell_type": "markdown",
      "metadata": {},
      "source": [
        "__Samples__\n",
        "\n",
        "When we convert this generator to a list and it, the outputs are 3 different SamplesMCMC instances. These correspond to \n",
        "the 3 model-fits performed above."
      ]
    },
    {
      "cell_type": "code",
      "metadata": {},
      "source": [
        "print(\"Dynesty Samples:\\n\")\n",
        "print(samples_gen)\n",
        "print(\"Total Samples Objects = \", len(agg), \"\\n\")"
      ],
      "outputs": [],
      "execution_count": null
    },
    {
      "cell_type": "markdown",
      "metadata": {},
      "source": [
        "The `Samples` class is described in the `result.py` example script. Using the `Aggregator` we can access all of the \n",
        "attributes described in that example, for example the value of every parameter.\n",
        "\n",
        "Refer to `result.py` for all the properties that are accessible via the `Aggregator`."
      ]
    },
    {
      "cell_type": "code",
      "metadata": {},
      "source": [
        "for samples in agg.values(\"samples\"):\n",
        "    print(\"All parameters of the very first sample\")\n",
        "    print(samples.parameter_lists[0])\n",
        "    print(\"The tenth sample`s third parameter\")\n",
        "    print(samples.parameter_lists[9][2], \"\\n\")"
      ],
      "outputs": [],
      "execution_count": null
    },
    {
      "cell_type": "markdown",
      "metadata": {},
      "source": [
        "__Querying__\n",
        "\n",
        "We can use the `Aggregator`'s to query the database and return only specific fits that we are interested in. We first \n",
        "do this, using the `info` object, whereby we can query any of its entries, for example the `dataset_name` string we \n",
        "input into the model-fit above. \n",
        "\n",
        "By querying using the string `gaussian_x1_1` the model-fit to only the second `Gaussian` dataset is returned:"
      ]
    },
    {
      "cell_type": "code",
      "metadata": {},
      "source": [
        "unique_tag = agg.search.unique_tag\n",
        "agg_query = agg.query(unique_tag == \"gaussian_x1_1\")"
      ],
      "outputs": [],
      "execution_count": null
    },
    {
      "cell_type": "markdown",
      "metadata": {},
      "source": [
        "As expected, this list now has only 1 SamplesMCMC corresponding to the second dataset."
      ]
    },
    {
      "cell_type": "code",
      "metadata": {},
      "source": [
        "print(agg_query.values(\"samples\"))\n",
        "print(\"Total Samples Objects via dataset_name Query = \", len(agg_query), \"\\n\")"
      ],
      "outputs": [],
      "execution_count": null
    },
    {
      "cell_type": "markdown",
      "metadata": {},
      "source": [
        "__Unique Tag__\n",
        "\n",
        "If we query using an incorrect dataset name we get no results:"
      ]
    },
    {
      "cell_type": "code",
      "metadata": {},
      "source": [
        "unique_tag = agg.search.unique_tag\n",
        "agg_query = agg.query(unique_tag == \"incorrect_name\")\n",
        "samples_gen = agg_query.values(\"samples\")"
      ],
      "outputs": [],
      "execution_count": null
    },
    {
      "cell_type": "markdown",
      "metadata": {},
      "source": [
        "__Search Name__\n",
        "\n",
        "We can also use the `name` of the search used to fit to the model as a query. \n",
        "\n",
        "In this example, all three fits used the same search, which had the `name` `database_example`. Thus, using it as a \n",
        "query in this example is somewhat pointless. However, querying based on the search name is very useful for model-fits\n",
        "which use search chaining (see chapter 3 **HowToLens**), where the results of a particular fit in the chain can be\n",
        "instantly loaded.\n",
        "\n",
        "As expected, this query contains all 3 results."
      ]
    },
    {
      "cell_type": "code",
      "metadata": {},
      "source": [
        "name = agg.search.name\n",
        "agg_query = agg.query(name == \"database_example\")\n",
        "\n",
        "print(agg_query.values(\"samples\"))\n",
        "print(\"Total Samples Objects via name Query = \", len(agg_query), \"\\n\")"
      ],
      "outputs": [],
      "execution_count": null
    },
    {
      "cell_type": "markdown",
      "metadata": {},
      "source": [
        "__Model__\n",
        "\n",
        "We can also query based on the model fitted. \n",
        "\n",
        "For example, we can load all results which fitted a `Gaussian` model-component, which in this simple example is all\n",
        "3 model-fits.\n",
        " \n",
        "The ability to query via the model is extremely powerful. It enables a user to perform many model-fits with many \n",
        "different model parameterizations to large datasets and efficiently load and inspect the results. \n",
        "\n",
        "[Note: the code `agg.model.gaussian` corresponds to the fact that in the `Collection` above, we named the model\n",
        "component `gaussian`. If this `Collection` had used a different name the code below would change \n",
        "correspondingly. Models with multiple model components (e.g., `gaussian` and `exponential`) are therefore also easily \n",
        "accessed via the database.]"
      ]
    },
    {
      "cell_type": "code",
      "metadata": {},
      "source": [
        "gaussian = agg.model.gaussian\n",
        "agg_query = agg.query(gaussian == af.ex.Gaussian)\n",
        "print(\"Total Samples Objects via `Gaussian` model query = \", len(agg_query), \"\\n\")"
      ],
      "outputs": [],
      "execution_count": null
    },
    {
      "cell_type": "markdown",
      "metadata": {},
      "source": [
        "Queries using the results of model-fitting are also supported. Below, we query the database to find all fits where the \n",
        "inferred value of `sigma` for the `Gaussian` is less than 3.0 (which returns only the first of the three model-fits)."
      ]
    },
    {
      "cell_type": "code",
      "metadata": {},
      "source": [
        "gaussian = agg.model.gaussian\n",
        "agg_query = agg.query(gaussian.sigma < 3.0)\n",
        "print(\"Total Samples Objects In Query `gaussian.sigma < 3.0` = \", len(agg_query), \"\\n\")"
      ],
      "outputs": [],
      "execution_count": null
    },
    {
      "cell_type": "markdown",
      "metadata": {},
      "source": [
        "Advanced queries can be constructed using logic, for example we below we combine the two queries above to find all\n",
        "results which fitted a `Gaussian` AND (using the & symbol) inferred a value of sigma less than 3.0. \n",
        "\n",
        "The OR logical clause is also supported via the symbol |."
      ]
    },
    {
      "cell_type": "code",
      "metadata": {},
      "source": [
        "gaussian = agg.model.gaussian\n",
        "agg_query = agg.query((gaussian == af.ex.Gaussian) & (gaussian.sigma < 3.0))\n",
        "print(\n",
        "    \"Total Samples Objects In Query `Gaussian & sigma < 3.0` = \", len(agg_query), \"\\n\"\n",
        ")"
      ],
      "outputs": [],
      "execution_count": null
    },
    {
      "cell_type": "markdown",
      "metadata": {},
      "source": [
        "The Probability Density Functions of the results can be plotted using Dynesty's in-built visualization tools, \n",
        "which are wrapped via the `DynestyPlotter` object."
      ]
    },
    {
      "cell_type": "code",
      "metadata": {},
      "source": [
        "for samples in agg.values(\"samples\"):\n",
        "    search_plotter = aplt.DynestyPlotter(samples=samples)\n",
        "    search_plotter.cornerplot()\n",
        "    search_plotter.runplot()"
      ],
      "outputs": [],
      "execution_count": null
    },
    {
      "cell_type": "markdown",
      "metadata": {},
      "source": [
        "The API for querying is fairly self explanatory. Through the combination of info based queries, model based\n",
        "queries and result based queries a user has all the tools they need to fit extremely large datasets with many different\n",
        "models and load only the results they are interested in for inspection and analysis.\n",
        "\n",
        "The Database chapter of the **HowToFit** Jupyter notebooks give a full description of the database feature, including \n",
        "examples of advanced queries and how to load and plot the results of a model-fit in more detail."
      ]
    },
    {
      "cell_type": "code",
      "metadata": {},
      "source": [],
      "outputs": [],
      "execution_count": null
    }
  ],
  "metadata": {
    "anaconda-cloud": {},
    "kernelspec": {
      "display_name": "Python 3",
      "language": "python",
      "name": "python3"
    },
    "language_info": {
      "codemirror_mode": {
        "name": "ipython",
        "version": 3
      },
      "file_extension": ".py",
      "mimetype": "text/x-python",
      "name": "python",
      "nbconvert_exporter": "python",
      "pygments_lexer": "ipython3",
      "version": "3.6.1"
    }
  },
  "nbformat": 4,
  "nbformat_minor": 4
}