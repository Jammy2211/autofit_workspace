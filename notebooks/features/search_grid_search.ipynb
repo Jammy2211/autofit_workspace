{
 "cells": [
  {
   "cell_type": "markdown",
   "metadata": {},
   "source": [
    "Feature: Search Grid Search\n",
    "===========================\n",
    "\n",
    "A classic method to perform model-fitting is a grid search, where the parameters of a model are divided on to a grid of\n",
    "values and the likelihood of each set of parameters on this grid is sampled. For low dimensionality problems this\n",
    "simple approach can be sufficient to locate high likelihood solutions, however it scales poorly to higher dimensional\n",
    "problems.\n",
    "\n",
    "**PyAutoFit** can perform a search grid search, which allows one to perform a grid-search over a subset of parameters\n",
    "within a model, but use a non-linear search to fit for the other parameters. The parameters over which the grid-search\n",
    "is performed are also included in the model fit and their values are simply confined to the boundaries of their grid\n",
    "cell by setting these as the lower and upper limits of a `UniformPrior`.\n",
    "\n",
    "The benefits of using a search grid search are:\n",
    "\n",
    " - For problems with complex and multi-model parameters spaces it can be difficult to robustly and efficiently perform\n",
    " model-fitting. If specific parameters are known to drive the multi-modality then sampling over a grid can ensure the\n",
    " parameter space of each individual model-fit is not multi-modal and therefore sampled more accurately and efficiently.\n",
    "\n",
    " - It can provide a goodness-of-fit measure (e.g. the Bayesian evidence) of many model-fits over the grid. This can\n",
    " provide additional insight into where the model does and does not fit the data well, in a way that a standard\n",
    " non-linear search does not.\n",
    "\n",
    " - The search grid search is embarrassingly parallel, and if sufficient computing facilities are available one can\n",
    " perform model-fitting faster in real-time than a single non-linear search. The **PyAutoFit** search grid search\n",
    " includes an option for parallel model-fitting via the Python `multiprocessing` module.\n",
    "\n",
    "In this example we will demonstrate the search grid search feature, again using the example of fitting 1D Gaussian's\n",
    "in noisy data."
   ]
  },
  {
   "cell_type": "code",
   "execution_count": 1,
   "metadata": {
    "execution": {
     "iopub.execute_input": "2021-02-06T12:50:16.493649Z",
     "iopub.status.busy": "2021-02-06T12:50:16.492656Z",
     "iopub.status.idle": "2021-02-06T12:50:17.994297Z",
     "shell.execute_reply": "2021-02-06T12:50:17.993777Z"
    }
   },
   "outputs": [
    {
     "name": "stdout",
     "output_type": "stream",
     "text": [
      "/mnt/c/Users/Jammy/Code/PyAuto/autofit_workspace\n",
      "Working Directory has been set to `/mnt/c/Users/Jammy/Code/PyAuto/autofit_workspace`\n"
     ]
    }
   ],
   "source": [
    "%matplotlib inline\n",
    "from pyprojroot import here\n",
    "workspace_path = str(here())\n",
    "%cd $workspace_path\n",
    "print(f\"Working Directory has been set to `{workspace_path}`\")\n",
    "\n",
    "import autofit as af\n",
    "import model as m\n",
    "import analysis as a\n",
    "\n",
    "import matplotlib.pyplot as plt\n",
    "import numpy as np\n",
    "from os import path"
   ]
  },
  {
   "cell_type": "markdown",
   "metadata": {},
   "source": [
    "__Data__\n",
    "\n",
    "First, lets load data of a 1D Gaussian, by loading it from a .json file in the directory \n",
    "`autofit_workspace/dataset/gaussian_x1_with_feature`.\n",
    "\n",
    "This 1D data includes a small feature to the right of the central `Gaussian`. This feature is a second `Gaussian` \n",
    "centred on pixel 70. "
   ]
  },
  {
   "cell_type": "code",
   "execution_count": 2,
   "metadata": {
    "execution": {
     "iopub.execute_input": "2021-02-06T12:50:17.999516Z",
     "iopub.status.busy": "2021-02-06T12:50:17.998983Z",
     "iopub.status.idle": "2021-02-06T12:50:18.002494Z",
     "shell.execute_reply": "2021-02-06T12:50:18.003103Z"
    }
   },
   "outputs": [],
   "source": [
    "dataset_path = path.join(\"dataset\", \"example_1d\", \"gaussian_x1_with_feature\")\n",
    "data = af.util.numpy_array_from_json(file_path=path.join(dataset_path, \"data.json\"))\n",
    "noise_map = af.util.numpy_array_from_json(\n",
    "    file_path=path.join(dataset_path, \"noise_map.json\")\n",
    ")"
   ]
  },
  {
   "cell_type": "markdown",
   "metadata": {},
   "source": [
    "Now lets plot the data, including its error bars. \n",
    "\n",
    "The feature on pixel 70 is clearly visible."
   ]
  },
  {
   "cell_type": "code",
   "execution_count": 3,
   "metadata": {
    "execution": {
     "iopub.execute_input": "2021-02-06T12:50:18.050607Z",
     "iopub.status.busy": "2021-02-06T12:50:18.025418Z",
     "iopub.status.idle": "2021-02-06T12:50:18.170710Z",
     "shell.execute_reply": "2021-02-06T12:50:18.171107Z"
    }
   },
   "outputs": [
    {
     "data": {
      "image/png": "[encoded data removed]",
      "text/plain": [
       "<Figure size 432x288 with 1 Axes>"
      ]
     },
     "metadata": {
      "needs_background": "light"
     },
     "output_type": "display_data"
    }
   ],
   "source": [
    "xvalues = range(data.shape[0])\n",
    "\n",
    "plt.errorbar(\n",
    "    x=xvalues, y=data, yerr=noise_map, color=\"k\", ecolor=\"k\", elinewidth=1, capsize=2\n",
    ")\n",
    "plt.title(\"1D Gaussian Data With Feature at pixel 70.\")\n",
    "plt.xlabel(\"x values of profile\")\n",
    "plt.ylabel(\"Profile intensity\")\n",
    "plt.show()\n",
    "plt.close()"
   ]
  },
  {
   "cell_type": "markdown",
   "metadata": {},
   "source": [
    "__Model__\n",
    "\n",
    "Next, we create the model, which in this case corresponds to two `Gaussian`'s, one for the main signal seen in the\n",
    "data and one for the feature on pixel 70."
   ]
  },
  {
   "cell_type": "code",
   "execution_count": 4,
   "metadata": {
    "execution": {
     "iopub.execute_input": "2021-02-06T12:50:18.174940Z",
     "iopub.status.busy": "2021-02-06T12:50:18.174460Z",
     "iopub.status.idle": "2021-02-06T12:50:18.201283Z",
     "shell.execute_reply": "2021-02-06T12:50:18.200853Z"
    }
   },
   "outputs": [],
   "source": [
    "model = af.CollectionPriorModel(gaussian_main=m.Gaussian, gaussian_feature=m.Gaussian)"
   ]
  },
  {
   "cell_type": "markdown",
   "metadata": {},
   "source": [
    "__Analysis__\n",
    "\n",
    "Our Analysis class is described in `analysis.py` and is the same used in the `overview/complex` example. \n",
    "\n",
    "It fits the data as the sum of the two `Gaussian`'s in the model."
   ]
  },
  {
   "cell_type": "code",
   "execution_count": 5,
   "metadata": {
    "execution": {
     "iopub.execute_input": "2021-02-06T12:50:18.205103Z",
     "iopub.status.busy": "2021-02-06T12:50:18.204397Z",
     "iopub.status.idle": "2021-02-06T12:50:18.206899Z",
     "shell.execute_reply": "2021-02-06T12:50:18.206238Z"
    }
   },
   "outputs": [],
   "source": [
    "analysis = a.Analysis(data=data, noise_map=noise_map)"
   ]
  },
  {
   "cell_type": "markdown",
   "metadata": {},
   "source": [
    "__Search__\n",
    "\n",
    "We will now fit the data using a single non-linear search, to demonstrate the behaviour of the fit before we invoke\n",
    "the search grid search."
   ]
  },
  {
   "cell_type": "code",
   "execution_count": 6,
   "metadata": {
    "execution": {
     "iopub.execute_input": "2021-02-06T12:50:18.211665Z",
     "iopub.status.busy": "2021-02-06T12:50:18.210887Z",
     "iopub.status.idle": "2021-02-06T12:50:18.212890Z",
     "shell.execute_reply": "2021-02-06T12:50:18.213465Z"
    }
   },
   "outputs": [],
   "source": [
    "dynesty = af.DynestyStatic(\n",
    "    name=\"single_fit\",\n",
    "    path_prefix=path.join(\"features\", \"search_grid_search\"),\n",
    "    n_live_points=100,\n",
    "    iterations_per_update=500,\n",
    "    maxcall=30000,\n",
    ")"
   ]
  },
  {
   "cell_type": "markdown",
   "metadata": {},
   "source": [
    "To perform the fit with Dynesty, we pass it our model and analysis and we`re good to go!\n",
    "\n",
    "Checkout the folder `autofit_workspace/output/features.search_grid_search/single_fit`, where the `NonLinearSearch` \n",
    "results, visualization and information can be found.\n",
    "\n",
    "For test runs on my laptop it is 'hit or miss' whether the feature is fitted correctly. This is because although models\n",
    "including the feature corresponds to the highest likelihood solutions, they occupy a small volume in parameter space\n",
    "which the non linear search may miss. Furthemore, it is common for the model-fit to get stuck in local maxima where\n",
    "both `Gaussian`'s go to a centre value of 50.0.\n",
    "\n",
    "The fit can also take a very long time to run, therefore I limited `Dynesty` to 30000 iterations above."
   ]
  },
  {
   "cell_type": "code",
   "execution_count": 7,
   "metadata": {
    "execution": {
     "iopub.execute_input": "2021-02-06T12:50:18.217653Z",
     "iopub.status.busy": "2021-02-06T12:50:18.216911Z",
     "iopub.status.idle": "2021-02-06T12:50:18.353410Z",
     "shell.execute_reply": "2021-02-06T12:50:18.353996Z"
    }
   },
   "outputs": [
    {
     "name": "stderr",
     "output_type": "stream",
     "text": [
      "INFO:root:single_fit already completed, skipping non-linear search.\n"
     ]
    }
   ],
   "source": [
    "result = dynesty.fit(model=model, analysis=analysis)"
   ]
  },
  {
   "cell_type": "markdown",
   "metadata": {},
   "source": [
    "__Result__\n",
    "\n",
    "If you ran the fit above, you can now plot the result. "
   ]
  },
  {
   "cell_type": "code",
   "execution_count": 8,
   "metadata": {
    "execution": {
     "iopub.execute_input": "2021-02-06T12:50:18.375554Z",
     "iopub.status.busy": "2021-02-06T12:50:18.373402Z",
     "iopub.status.idle": "2021-02-06T12:50:18.540634Z",
     "shell.execute_reply": "2021-02-06T12:50:18.540215Z"
    }
   },
   "outputs": [
    {
     "data": {
      "image/png": "[encoded data removed]",
      "text/plain": [
       "<Figure size 432x288 with 1 Axes>"
      ]
     },
     "metadata": {
      "needs_background": "light"
     },
     "output_type": "display_data"
    }
   ],
   "source": [
    "instance = result.max_log_likelihood_instance\n",
    "\n",
    "gaussian_main = instance.gaussian_main.profile_from_xvalues(\n",
    "    xvalues=np.arange(data.shape[0])\n",
    ")\n",
    "gaussian_feature = instance.gaussian_feature.profile_from_xvalues(\n",
    "    xvalues=np.arange(data.shape[0])\n",
    ")\n",
    "model_data = gaussian_main + gaussian_feature\n",
    "\n",
    "plt.errorbar(\n",
    "    x=xvalues, y=data, yerr=noise_map, color=\"k\", ecolor=\"k\", elinewidth=1, capsize=2\n",
    ")\n",
    "plt.plot(range(data.shape[0]), model_data, color=\"r\")\n",
    "plt.plot(range(data.shape[0]), gaussian_main, \"--\")\n",
    "plt.plot(range(data.shape[0]), gaussian_feature, \"--\")\n",
    "plt.title(\"Dynesty model fit to 1D Gaussian with feature dataset.\")\n",
    "plt.xlabel(\"x values of profile\")\n",
    "plt.ylabel(\"Profile intensity\")\n",
    "plt.show()\n",
    "plt.close()"
   ]
  },
  {
   "cell_type": "markdown",
   "metadata": {},
   "source": [
    "__Search Grid Search__\n",
    "\n",
    "We will now perform the search grid search. \n",
    "\n",
    "We will use the same `Dynesty` settings, but change its `name`."
   ]
  },
  {
   "cell_type": "code",
   "execution_count": 9,
   "metadata": {
    "execution": {
     "iopub.execute_input": "2021-02-06T12:50:18.545375Z",
     "iopub.status.busy": "2021-02-06T12:50:18.544642Z",
     "iopub.status.idle": "2021-02-06T12:50:18.546974Z",
     "shell.execute_reply": "2021-02-06T12:50:18.546488Z"
    }
   },
   "outputs": [],
   "source": [
    "dynesty = af.DynestyStatic(\n",
    "    name=\"grid_fit\",\n",
    "    path_prefix=path.join(\"features\", \"search_grid_search\"),\n",
    "    n_live_points=100,\n",
    "    iterations_per_update=500,\n",
    "    maxcall=30000,\n",
    ")"
   ]
  },
  {
   "cell_type": "markdown",
   "metadata": {},
   "source": [
    "To set up the search grid search we specify two additional settings:\n",
    "\n",
    "`number_of_steps`: The number of steps in the grid search that are performedm which is set to 5 below. \n",
    " \n",
    "Because the prior on the parameter `centre` is a `UniformPrior` from 0.0 -> 100.0, this means the first grid search\n",
    "will set the prior on the centre to be a `UniformPrior` from 0.0 -> 20.0. The second will run from 20.0 -> 40.0,\n",
    "the third 40.0 -> 60.0, and so on.\n",
    "   \n",
    "`parallel`: If `True`, each grid search is performed in parallel on your laptop. \n",
    "\n",
    "In the config file `config/non_linear/GridSearch.ini` you can set the `number_of_cores`, which is the maximum number \n",
    "of cores the grid search will parallelize the run over. 1 core is reserved as a farmer, so if `number_of_cores=4` \n",
    "then up to 3 searches will be run in parallel. In case your laptop has limited hardware resources we do not run in \n",
    "parallel in this example by default, but feel free to change the option to `True` if you have a lot of CPUs and memory!"
   ]
  },
  {
   "cell_type": "code",
   "execution_count": 10,
   "metadata": {
    "execution": {
     "iopub.execute_input": "2021-02-06T12:50:18.550353Z",
     "iopub.status.busy": "2021-02-06T12:50:18.549878Z",
     "iopub.status.idle": "2021-02-06T12:50:18.552462Z",
     "shell.execute_reply": "2021-02-06T12:50:18.552866Z"
    }
   },
   "outputs": [],
   "source": [
    "grid_search = af.SearchGridSearch(search=dynesty, number_of_steps=5, parallel=False)"
   ]
  },
  {
   "cell_type": "markdown",
   "metadata": {},
   "source": [
    "We can now run the grid search.\n",
    "\n",
    "This is where we specify the parameter over which the grid search is performed, in this case the `centre` of the \n",
    "`gaussian_feature` in our model.\n",
    "\n",
    "On my laptop, each model fit performed by the grid search takes ~15000 iterations, whereas the fit above\n",
    "required ~ 40000 iterations. Thus, in this simple example, the grid search did not speed up the overall analysis \n",
    "(unless it is run in parallel). However, more complex and realistic model-fitting problems, the grid search has the\n",
    "potential to give huge performance improvements if used effectively."
   ]
  },
  {
   "cell_type": "code",
   "execution_count": 11,
   "metadata": {
    "execution": {
     "iopub.execute_input": "2021-02-06T12:50:18.557711Z",
     "iopub.status.busy": "2021-02-06T12:50:18.557236Z",
     "iopub.status.idle": "2021-02-06T12:53:32.375143Z",
     "shell.execute_reply": "2021-02-06T12:53:32.375380Z"
    }
   },
   "outputs": [
    {
     "name": "stderr",
     "output_type": "stream",
     "text": [
      "INFO:root:grid_fit/dynesty_static[nlive_100__bound_multi_vol_dec_0.5_vol_check_2.0__enlarge_1.0__sample_auto]/gaussian_feature_centre_0.00_20.00 already completed, skipping non-linear search.\n",
      "INFO:root:grid_fit/dynesty_static[nlive_100__bound_multi_vol_dec_0.5_vol_check_2.0__enlarge_1.0__sample_auto]/gaussian_feature_centre_20.00_40.00 already completed, skipping non-linear search.\n",
      "INFO:root:Existing Dynesty samples found, resuming non-linear search.\n",
      "INFO:root:500 Iterations: Performing update (Visualization, outputting samples, etc.).\n",
      "INFO:root:1000 Iterations: Performing update (Visualization, outputting samples, etc.).\n",
      "INFO:root:Generating initial samples of model, which are subject to prior limits and other constraints.\n",
      "INFO:root:No Dynesty samples found, beginning new non-linear search. \n",
      "3005it [00:36, 82.85it/s, +100 | bound: 65 | nc: 1 | ncall: 13955 | eff(%): 22.250 | loglstar:   -inf < -44.403 <    inf | logz: -72.062 +/-  0.669 | dlogz:  0.001 >  0.109]\n",
      "INFO:root:500 Iterations: Performing update (Visualization, outputting samples, etc.).\n",
      "3005it [00:00, 959857.10it/s, +100 | bound: 65 | nc: 1 | ncall: 13955 | eff(%): 22.250 | loglstar:   -inf < -44.403 <    inf | logz: -72.062 +/-  0.669 | dlogz:  0.001 >  0.109]\n",
      "INFO:root:1000 Iterations: Performing update (Visualization, outputting samples, etc.).\n",
      "INFO:root:1500 Iterations: Performing update (Visualization, outputting samples, etc.).\n",
      "INFO:root:Generating initial samples of model, which are subject to prior limits and other constraints.\n",
      "INFO:root:No Dynesty samples found, beginning new non-linear search. \n",
      "1928it [00:29, 65.05it/s, +100 | bound: 31 | nc: 1 | ncall: 8444 | eff(%): 24.017 | loglstar:   -inf < -55.059 <    inf | logz: -71.997 +/-  0.555 | dlogz:  0.001 >  0.109]\n",
      "INFO:root:500 Iterations: Performing update (Visualization, outputting samples, etc.).\n",
      "1928it [00:00, 567123.79it/s, +100 | bound: 31 | nc: 1 | ncall: 8444 | eff(%): 24.017 | loglstar:   -inf < -55.059 <    inf | logz: -71.997 +/-  0.555 | dlogz:  0.001 >  0.109]\n",
      "INFO:root:1000 Iterations: Performing update (Visualization, outputting samples, etc.).\n",
      "INFO:root:1500 Iterations: Performing update (Visualization, outputting samples, etc.).\n"
     ]
    },
    {
     "data": {
      "text/plain": [
       "<Figure size 432x288 with 0 Axes>"
      ]
     },
     "metadata": {},
     "output_type": "display_data"
    }
   ],
   "source": [
    "grid_search_result = grid_search.fit(\n",
    "    model=model, analysis=analysis, grid_priors=[model.gaussian_feature.centre]\n",
    ")"
   ]
  },
  {
   "cell_type": "markdown",
   "metadata": {},
   "source": [
    "This returns a `GridSearchResult`, which includes information on every model-fit performed on the grid.\n",
    "\n",
    "Below, we print:\n",
    " \n",
    " - The central value of the `UniformPrior` on the `centre` of the gaussian_feature` for each fit performed on the\n",
    " grid search. \n",
    " \n",
    " - The maximum log likelihood value of each of the 5 fits. \n",
    " \n",
    " - The Bayesian evidence of each (this is accessible because we used a nested sampling algorithm).\n",
    "\n",
    "You should see that the highest likelihood and evidence values correspond to run 4, where the `UniformPrior` on the\n",
    "centre parameter ran from 60 -> 80 and therefore captured the true value of 70.0."
   ]
  },
  {
   "cell_type": "code",
   "execution_count": 12,
   "metadata": {
    "execution": {
     "iopub.execute_input": "2021-02-06T12:53:32.381582Z",
     "iopub.status.busy": "2021-02-06T12:53:32.381192Z",
     "iopub.status.idle": "2021-02-06T12:53:32.382916Z",
     "shell.execute_reply": "2021-02-06T12:53:32.383180Z"
    }
   },
   "outputs": [
    {
     "name": "stdout",
     "output_type": "stream",
     "text": [
      "[[10.000000000000004], [30.000000000000004], [50.0], [70.00000000000001], [90.0]]\n",
      "[-55.16656836 -54.61031758 -55.3790769  -44.40288216 -55.05935077]\n",
      "[-72.54788184 -72.04067762 -70.5123504  -72.06243928 -71.99657637]\n"
     ]
    }
   ],
   "source": [
    "print(grid_search_result.physical_centres_lists)\n",
    "print(grid_search_result.max_log_likelihood_values)\n",
    "print(grid_search_result.log_evidence_values)"
   ]
  },
  {
   "cell_type": "markdown",
   "metadata": {},
   "source": [
    "We can also access the `best_result` and `best_model`."
   ]
  },
  {
   "cell_type": "code",
   "execution_count": 13,
   "metadata": {
    "execution": {
     "iopub.execute_input": "2021-02-06T12:53:32.388050Z",
     "iopub.status.busy": "2021-02-06T12:53:32.387671Z",
     "iopub.status.idle": "2021-02-06T12:53:32.573572Z",
     "shell.execute_reply": "2021-02-06T12:53:32.572971Z"
    }
   },
   "outputs": [
    {
     "name": "stdout",
     "output_type": "stream",
     "text": [
      "Analysis Result:\n",
      "samples: <autofit.non_linear.samples.NestSamples object at 0x7f50da2600a0>\n",
      "previous_model: Gaussian (centre, UniformPrior, lower_limit = 0.0, upper_limit = 100.0), (intensity, LogUniformPrior, lower_limit = 1e-06, upper_limit = 1000000.0), (sigma, UniformPrior, lower_limit = 0.0, upper_limit = 25.0), Gaussian (centre, UniformPrior, lower_limit = 60.00000000000001, upper_limit = 80.0), (intensity, LogUniformPrior, lower_limit = 1e-06, upper_limit = 1000000.0), (sigma, UniformPrior, lower_limit = 0.0, upper_limit = 25.0)\n",
      "search: <autofit.non_linear.nest.dynesty.DynestyStatic object at 0x7f50dab164c0>\n",
      "_Result__model: None\n",
      "_instance: <autofit.mapper.model.ModelInstance object at 0x7f50dc41e310>\n",
      "Gaussian (centre, GaussianPrior, mean = 49.806135134753326, sigma = 20.0), (intensity, GaussianPrior, mean = 25.33117532830411, sigma = 12.665587664152055), (sigma, GaussianPrior, mean = 10.248301087180177, sigma = 5.124150543590089), Gaussian (centre, GaussianPrior, mean = 69.9604652140113, sigma = 20.0), (intensity, GaussianPrior, mean = 0.08631337810954184, sigma = 0.9527009865079169), (sigma, GaussianPrior, mean = 1.4704945561636749, sigma = 23.424372067747388)\n",
      "GaussianPrior, mean = 49.806135134753326, sigma = 20.0\n",
      "GaussianPrior, mean = 25.33117532830411, sigma = 12.665587664152055\n",
      "GaussianPrior, mean = 10.248301087180177, sigma = 5.124150543590089\n",
      "GaussianPrior, mean = 69.9604652140113, sigma = 20.0\n",
      "GaussianPrior, mean = 0.08631337810954184, sigma = 0.9527009865079169\n",
      "GaussianPrior, mean = 1.4704945561636749, sigma = 23.424372067747388\n"
     ]
    }
   ],
   "source": [
    "print(grid_search_result.best_result)\n",
    "print(grid_search_result.best_model)\n",
    "print(grid_search_result.best_model.gaussian_main.centre)\n",
    "print(grid_search_result.best_model.gaussian_main.intensity)\n",
    "print(grid_search_result.best_model.gaussian_main.sigma)\n",
    "print(grid_search_result.best_model.gaussian_feature.centre)\n",
    "print(grid_search_result.best_model.gaussian_feature.intensity)\n",
    "print(grid_search_result.best_model.gaussian_feature.sigma)"
   ]
  },
  {
   "cell_type": "markdown",
   "metadata": {},
   "source": [
    "By plotting the `best_model` we can confirm the grid search fitted the feature at pixel 70."
   ]
  },
  {
   "cell_type": "code",
   "execution_count": 14,
   "metadata": {
    "execution": {
     "iopub.execute_input": "2021-02-06T12:53:32.591748Z",
     "iopub.status.busy": "2021-02-06T12:53:32.591301Z",
     "iopub.status.idle": "2021-02-06T12:53:32.699596Z",
     "shell.execute_reply": "2021-02-06T12:53:32.699932Z"
    }
   },
   "outputs": [
    {
     "data": {
      "image/png": "[encoded data removed]",
      "text/plain": [
       "<Figure size 432x288 with 1 Axes>"
      ]
     },
     "metadata": {
      "needs_background": "light"
     },
     "output_type": "display_data"
    }
   ],
   "source": [
    "instance = grid_search_result.best_result.instance\n",
    "\n",
    "gaussian_main = instance.gaussian_main.profile_from_xvalues(\n",
    "    xvalues=np.arange(data.shape[0])\n",
    ")\n",
    "gaussian_feature = instance.gaussian_feature.profile_from_xvalues(\n",
    "    xvalues=np.arange(data.shape[0])\n",
    ")\n",
    "model_data = gaussian_main + gaussian_feature\n",
    "\n",
    "plt.errorbar(\n",
    "    x=xvalues, y=data, yerr=noise_map, color=\"k\", ecolor=\"k\", elinewidth=1, capsize=2\n",
    ")\n",
    "plt.plot(range(data.shape[0]), model_data, color=\"r\")\n",
    "plt.plot(range(data.shape[0]), gaussian_main, \"--\")\n",
    "plt.plot(range(data.shape[0]), gaussian_feature, \"--\")\n",
    "plt.title(\"Dynesty model fit to 1D Gaussian with feature dataset.\")\n",
    "plt.xlabel(\"x values of profile\")\n",
    "plt.ylabel(\"Profile intensity\")\n",
    "plt.show()\n",
    "plt.close()"
   ]
  },
  {
   "cell_type": "markdown",
   "metadata": {},
   "source": [
    "A multi-dimensional grid search can be easily performed by adding more parameters to the `grid_priors` input.\n",
    "\n",
    "The fit below belows performs a 5x5 grid search over the `centres` of both `Gaussians`. This would take quite a long\n",
    "time to run, so I've commented it out, but feel free to run it!"
   ]
  },
  {
   "cell_type": "code",
   "execution_count": 15,
   "metadata": {
    "execution": {
     "iopub.execute_input": "2021-02-06T12:53:32.703668Z",
     "iopub.status.busy": "2021-02-06T12:53:32.703134Z",
     "iopub.status.idle": "2021-02-06T12:53:32.704900Z",
     "shell.execute_reply": "2021-02-06T12:53:32.705274Z"
    }
   },
   "outputs": [],
   "source": [
    "# grid_search_result = grid_search.fit(\n",
    "#     model=model,\n",
    "#     analysis=analysis,\n",
    "#     grid_priors=[model.gaussian_feature.centre, model.gaussian_main.centre],\n",
    "# )"
   ]
  },
  {
   "cell_type": "markdown",
   "metadata": {},
   "source": [
    "Finish."
   ]
  }
 ],
 "metadata": {
  "anaconda-cloud": {},
  "kernelspec": {
   "display_name": "Python 3",
   "language": "python",
   "name": "python3"
  },
  "language_info": {
   "codemirror_mode": {
    "name": "ipython",
    "version": 3
   },
   "file_extension": ".py",
   "mimetype": "text/x-python",
   "name": "python",
   "nbconvert_exporter": "python",
   "pygments_lexer": "ipython3",
   "version": "3.8.5"
  }
 },
 "nbformat": 4,
 "nbformat_minor": 4
}
