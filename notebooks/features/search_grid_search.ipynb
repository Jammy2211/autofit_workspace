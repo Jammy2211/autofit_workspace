{
 "cells": [
  {
   "cell_type": "markdown",
   "metadata": {},
   "source": [
    "Feature: Search Grid Search\n",
    "===========================\n",
    "\n",
    "A classic method to perform model-fitting is a grid search, where the parameters of a model are divided on to a grid of\n",
    "values and the likelihood of each set of parameters on this grid is sampled. For low dimensionality problems this\n",
    "simple approach can be sufficient to locate high likelihood solutions, however it scales poorly to higher dimensional\n",
    "problems.\n",
    "\n",
    "**PyAutoFit** can perform a search grid search, which allows one to perform a grid-search over a subset of parameters\n",
    "within a model, but use a non-linear search to fit for the other parameters. The parameters over which the grid-search\n",
    "is performed are also included in the model fit and their values are simply confined to the boundaries of their grid\n",
    "cell by setting these as the lower and upper limits of a `UniformPrior`.\n",
    "\n",
    "The benefits of using a search grid search are:\n",
    "\n",
    " - For problems with complex and multi-model parameters spaces it can be difficult to robustly and efficiently perform\n",
    " model-fitting. If specific parameters are known to drive the multi-modality then sampling over a grid can ensure the\n",
    " parameter space of each individual model-fit is not multi-modal and therefore sampled more accurately and efficiently.\n",
    "\n",
    " - It can provide a goodness-of-fit measure (e.g. the Bayesian evidence) of many model-fits over the grid. This can\n",
    " provide additional insight into where the model does and does not fit the data well, in a way that a standard\n",
    " non-linear search does not.\n",
    "\n",
    " - The search grid search is embarrassingly parallel, and if sufficient computing facilities are available one can\n",
    " perform model-fitting faster in real-time than a single non-linear search. The **PyAutoFit** search grid search\n",
    " includes an option for parallel model-fitting via the Python `multiprocessing` module.\n",
    "\n",
    "In this example we will demonstrate the search grid search feature, again using the example of fitting 1D Gaussian's\n",
    "in noisy data."
   ]
  },
  {
   "cell_type": "code",
   "execution_count": 1,
   "metadata": {
    "execution": {
     "iopub.execute_input": "2021-03-06T13:35:54.541969Z",
     "iopub.status.busy": "2021-03-06T13:35:54.541630Z",
     "iopub.status.idle": "2021-03-06T13:35:55.347339Z",
     "shell.execute_reply": "2021-03-06T13:35:55.347621Z"
    }
   },
   "outputs": [
    {
     "name": "stdout",
     "output_type": "stream",
     "text": [
      "/mnt/c/Users/Jammy/Code/PyAuto/autofit_workspace\n",
      "Working Directory has been set to `/mnt/c/Users/Jammy/Code/PyAuto/autofit_workspace`\n"
     ]
    }
   ],
   "source": [
    "%matplotlib inline\n",
    "from pyprojroot import here\n",
    "workspace_path = str(here())\n",
    "%cd $workspace_path\n",
    "print(f\"Working Directory has been set to `{workspace_path}`\")\n",
    "\n",
    "import autofit as af\n",
    "import model as m\n",
    "import analysis as a\n",
    "\n",
    "import matplotlib.pyplot as plt\n",
    "import numpy as np\n",
    "from os import path"
   ]
  },
  {
   "cell_type": "markdown",
   "metadata": {},
   "source": [
    "__Data__\n",
    "\n",
    "First, lets load data of a 1D Gaussian, by loading it from a .json file in the directory \n",
    "`autofit_workspace/dataset/gaussian_x1_with_feature`.\n",
    "\n",
    "This 1D data includes a small feature to the right of the central `Gaussian`. This feature is a second `Gaussian` \n",
    "centred on pixel 70. "
   ]
  },
  {
   "cell_type": "code",
   "execution_count": 2,
   "metadata": {
    "execution": {
     "iopub.execute_input": "2021-03-06T13:35:55.350450Z",
     "iopub.status.busy": "2021-03-06T13:35:55.350114Z",
     "iopub.status.idle": "2021-03-06T13:35:55.352923Z",
     "shell.execute_reply": "2021-03-06T13:35:55.352650Z"
    }
   },
   "outputs": [],
   "source": [
    "dataset_path = path.join(\"dataset\", \"example_1d\", \"gaussian_x1_with_feature\")\n",
    "data = af.util.numpy_array_from_json(file_path=path.join(dataset_path, \"data.json\"))\n",
    "noise_map = af.util.numpy_array_from_json(\n",
    "    file_path=path.join(dataset_path, \"noise_map.json\")\n",
    ")"
   ]
  },
  {
   "cell_type": "markdown",
   "metadata": {},
   "source": [
    "Now lets plot the data, including its error bars. \n",
    "\n",
    "The feature on pixel 70 is clearly visible."
   ]
  },
  {
   "cell_type": "code",
   "execution_count": 3,
   "metadata": {
    "execution": {
     "iopub.execute_input": "2021-03-06T13:35:55.362989Z",
     "iopub.status.busy": "2021-03-06T13:35:55.362662Z",
     "iopub.status.idle": "2021-03-06T13:35:55.458887Z",
     "shell.execute_reply": "2021-03-06T13:35:55.459119Z"
    }
   },
   "outputs": [
    {
     "data": {
      "image/png": "[encoded data removed]",
      "text/plain": [
       "<Figure size 432x288 with 1 Axes>"
      ]
     },
     "metadata": {
      "needs_background": "light"
     },
     "output_type": "display_data"
    }
   ],
   "source": [
    "xvalues = range(data.shape[0])\n",
    "\n",
    "plt.errorbar(\n",
    "    x=xvalues, y=data, yerr=noise_map, color=\"k\", ecolor=\"k\", elinewidth=1, capsize=2\n",
    ")\n",
    "plt.title(\"1D Gaussian Data With Feature at pixel 70.\")\n",
    "plt.xlabel(\"x values of profile\")\n",
    "plt.ylabel(\"Profile intensity\")\n",
    "plt.show()\n",
    "plt.close()"
   ]
  },
  {
   "cell_type": "markdown",
   "metadata": {},
   "source": [
    "__Model__\n",
    "\n",
    "Next, we create the model, which in this case corresponds to two `Gaussian`'s, one for the main signal seen in the\n",
    "data and one for the feature on pixel 70."
   ]
  },
  {
   "cell_type": "code",
   "execution_count": 4,
   "metadata": {
    "execution": {
     "iopub.execute_input": "2021-03-06T13:35:55.461888Z",
     "iopub.status.busy": "2021-03-06T13:35:55.461468Z",
     "iopub.status.idle": "2021-03-06T13:35:55.480442Z",
     "shell.execute_reply": "2021-03-06T13:35:55.480688Z"
    }
   },
   "outputs": [],
   "source": [
    "model = af.CollectionPriorModel(gaussian_main=m.Gaussian, gaussian_feature=m.Gaussian)"
   ]
  },
  {
   "cell_type": "markdown",
   "metadata": {},
   "source": [
    "__Analysis__\n",
    "\n",
    "Our Analysis class is described in `analysis.py` and is the same used in the `overview/complex` example. \n",
    "\n",
    "It fits the data as the sum of the two `Gaussian`'s in the model."
   ]
  },
  {
   "cell_type": "code",
   "execution_count": 5,
   "metadata": {
    "execution": {
     "iopub.execute_input": "2021-03-06T13:35:55.483189Z",
     "iopub.status.busy": "2021-03-06T13:35:55.482884Z",
     "iopub.status.idle": "2021-03-06T13:35:55.484483Z",
     "shell.execute_reply": "2021-03-06T13:35:55.484719Z"
    }
   },
   "outputs": [],
   "source": [
    "analysis = a.Analysis(data=data, noise_map=noise_map)"
   ]
  },
  {
   "cell_type": "markdown",
   "metadata": {},
   "source": [
    "__Search__\n",
    "\n",
    "We will now fit the data using a single non-linear search, to demonstrate the behaviour of the fit before we invoke\n",
    "the search grid search."
   ]
  },
  {
   "cell_type": "code",
   "execution_count": 6,
   "metadata": {
    "execution": {
     "iopub.execute_input": "2021-03-06T13:35:55.487210Z",
     "iopub.status.busy": "2021-03-06T13:35:55.486894Z",
     "iopub.status.idle": "2021-03-06T13:35:55.488472Z",
     "shell.execute_reply": "2021-03-06T13:35:55.488689Z"
    }
   },
   "outputs": [],
   "source": [
    "dynesty = af.DynestyStatic(\n",
    "    name=\"single_fit\",\n",
    "    path_prefix=path.join(\"features\", \"search_grid_search\"),\n",
    "    n_live_points=100,\n",
    "    iterations_per_update=500,\n",
    "    maxcall=30000,\n",
    ")"
   ]
  },
  {
   "cell_type": "markdown",
   "metadata": {},
   "source": [
    "To perform the fit with Dynesty, we pass it our model and analysis and we`re good to go!\n",
    "\n",
    "Checkout the folder `autofit_workspace/output/features.search_grid_search/single_fit`, where the `NonLinearSearch` \n",
    "results, visualization and information can be found.\n",
    "\n",
    "For test runs on my laptop it is 'hit or miss' whether the feature is fitted correctly. This is because although models\n",
    "including the feature corresponds to the highest likelihood solutions, they occupy a small volume in parameter space\n",
    "which the non linear search may miss. Furthemore, it is common for the model-fit to get stuck in local maxima where\n",
    "both `Gaussian`'s go to a centre value of 50.0.\n",
    "\n",
    "The fit can also take a very long time to run, therefore I limited `Dynesty` to 30000 iterations above."
   ]
  },
  {
   "cell_type": "code",
   "execution_count": 7,
   "metadata": {
    "execution": {
     "iopub.execute_input": "2021-03-06T13:35:55.490783Z",
     "iopub.status.busy": "2021-03-06T13:35:55.490491Z",
     "iopub.status.idle": "2021-03-06T13:35:55.548281Z",
     "shell.execute_reply": "2021-03-06T13:35:55.548508Z"
    }
   },
   "outputs": [
    {
     "name": "stderr",
     "output_type": "stream",
     "text": [
      "INFO:root:single_fit already completed, skipping non-linear search.\n"
     ]
    }
   ],
   "source": [
    "result = dynesty.fit(model=model, analysis=analysis)"
   ]
  },
  {
   "cell_type": "markdown",
   "metadata": {},
   "source": [
    "__Result__\n",
    "\n",
    "If you ran the fit above, you can now plot the result. "
   ]
  },
  {
   "cell_type": "code",
   "execution_count": 8,
   "metadata": {
    "execution": {
     "iopub.execute_input": "2021-03-06T13:35:55.559664Z",
     "iopub.status.busy": "2021-03-06T13:35:55.558677Z",
     "iopub.status.idle": "2021-03-06T13:35:55.647108Z",
     "shell.execute_reply": "2021-03-06T13:35:55.646788Z"
    }
   },
   "outputs": [
    {
     "data": {
      "image/png": "[encoded data removed]",
      "text/plain": [
       "<Figure size 432x288 with 1 Axes>"
      ]
     },
     "metadata": {
      "needs_background": "light"
     },
     "output_type": "display_data"
    }
   ],
   "source": [
    "instance = result.max_log_likelihood_instance\n",
    "\n",
    "gaussian_main = instance.gaussian_main.profile_from_xvalues(\n",
    "    xvalues=np.arange(data.shape[0])\n",
    ")\n",
    "gaussian_feature = instance.gaussian_feature.profile_from_xvalues(\n",
    "    xvalues=np.arange(data.shape[0])\n",
    ")\n",
    "model_data = gaussian_main + gaussian_feature\n",
    "\n",
    "plt.errorbar(\n",
    "    x=xvalues, y=data, yerr=noise_map, color=\"k\", ecolor=\"k\", elinewidth=1, capsize=2\n",
    ")\n",
    "plt.plot(range(data.shape[0]), model_data, color=\"r\")\n",
    "plt.plot(range(data.shape[0]), gaussian_main, \"--\")\n",
    "plt.plot(range(data.shape[0]), gaussian_feature, \"--\")\n",
    "plt.title(\"Dynesty model fit to 1D Gaussian with feature dataset.\")\n",
    "plt.xlabel(\"x values of profile\")\n",
    "plt.ylabel(\"Profile intensity\")\n",
    "plt.show()\n",
    "plt.close()"
   ]
  },
  {
   "cell_type": "markdown",
   "metadata": {},
   "source": [
    "__Search Grid Search__\n",
    "\n",
    "We will now perform the search grid search. \n",
    "\n",
    "We will use the same `Dynesty` settings, but change its `name`."
   ]
  },
  {
   "cell_type": "code",
   "execution_count": 9,
   "metadata": {
    "execution": {
     "iopub.execute_input": "2021-03-06T13:35:55.649715Z",
     "iopub.status.busy": "2021-03-06T13:35:55.649408Z",
     "iopub.status.idle": "2021-03-06T13:35:55.651321Z",
     "shell.execute_reply": "2021-03-06T13:35:55.651024Z"
    }
   },
   "outputs": [],
   "source": [
    "dynesty = af.DynestyStatic(\n",
    "    name=\"grid_fit\",\n",
    "    path_prefix=path.join(\"features\", \"search_grid_search\"),\n",
    "    n_live_points=100,\n",
    "    iterations_per_update=500,\n",
    "    maxcall=30000,\n",
    ")"
   ]
  },
  {
   "cell_type": "markdown",
   "metadata": {},
   "source": [
    "To set up the search grid search we specify two additional settings:\n",
    "\n",
    "`number_of_steps`: The number of steps in the grid search that are performedm which is set to 5 below. \n",
    " \n",
    "Because the prior on the parameter `centre` is a `UniformPrior` from 0.0 -> 100.0, this means the first grid search\n",
    "will set the prior on the centre to be a `UniformPrior` from 0.0 -> 20.0. The second will run from 20.0 -> 40.0,\n",
    "the third 40.0 -> 60.0, and so on.\n",
    "   \n",
    "`parallel`: If `True`, each grid search is performed in parallel on your laptop. \n",
    "\n",
    "`number_of_cores`: The number of cores the grid search will parallelize the run over. If `number_of_cores=1`, the\n",
    "search is run in serial. For > 1 core, 1 core is reserved as a farmer, e.g., if `number_of_cores=4` then up to 3 \n",
    "searches will be run in parallel. In case your laptop has limited hardware resources we do not run in parallel in \n",
    "this example by default, but feel free to change the option to `True` if you have a lot of CPUs and memory!"
   ]
  },
  {
   "cell_type": "code",
   "execution_count": 10,
   "metadata": {
    "execution": {
     "iopub.execute_input": "2021-03-06T13:35:55.653501Z",
     "iopub.status.busy": "2021-03-06T13:35:55.653214Z",
     "iopub.status.idle": "2021-03-06T13:35:55.654715Z",
     "shell.execute_reply": "2021-03-06T13:35:55.654929Z"
    }
   },
   "outputs": [],
   "source": [
    "grid_search = af.SearchGridSearch(search=dynesty, number_of_steps=5, number_of_cores=1)"
   ]
  },
  {
   "cell_type": "markdown",
   "metadata": {},
   "source": [
    "We can now run the grid search.\n",
    "\n",
    "This is where we specify the parameter over which the grid search is performed, in this case the `centre` of the \n",
    "`gaussian_feature` in our model.\n",
    "\n",
    "On my laptop, each model fit performed by the grid search takes ~15000 iterations, whereas the fit above\n",
    "required ~ 40000 iterations. Thus, in this simple example, the grid search did not speed up the overall analysis \n",
    "(unless it is run in parallel). However, more complex and realistic model-fitting problems, the grid search has the\n",
    "potential to give huge performance improvements if used effectively."
   ]
  },
  {
   "cell_type": "code",
   "execution_count": 11,
   "metadata": {
    "execution": {
     "iopub.execute_input": "2021-03-06T13:35:55.657836Z",
     "iopub.status.busy": "2021-03-06T13:35:55.657495Z",
     "iopub.status.idle": "2021-03-06T13:35:56.070477Z",
     "shell.execute_reply": "2021-03-06T13:35:56.070712Z"
    }
   },
   "outputs": [
    {
     "name": "stderr",
     "output_type": "stream",
     "text": [
      "INFO:root:grid_fit/dynesty_static[nlive_100__bound_multi_vol_dec_0.5_vol_check_2.0__enlarge_1.0__sample_auto]/gaussian_feature_centre_0.00_20.00 already completed, skipping non-linear search.\n",
      "INFO:root:grid_fit/dynesty_static[nlive_100__bound_multi_vol_dec_0.5_vol_check_2.0__enlarge_1.0__sample_auto]/gaussian_feature_centre_20.00_40.00 already completed, skipping non-linear search.\n",
      "INFO:root:grid_fit/dynesty_static[nlive_100__bound_multi_vol_dec_0.5_vol_check_2.0__enlarge_1.0__sample_auto]/gaussian_feature_centre_40.00_60.00 already completed, skipping non-linear search.\n",
      "INFO:root:grid_fit/dynesty_static[nlive_100__bound_multi_vol_dec_0.5_vol_check_2.0__enlarge_1.0__sample_auto]/gaussian_feature_centre_60.00_80.00 already completed, skipping non-linear search.\n",
      "INFO:root:grid_fit/dynesty_static[nlive_100__bound_multi_vol_dec_0.5_vol_check_2.0__enlarge_1.0__sample_auto]/gaussian_feature_centre_80.00_100.00 already completed, skipping non-linear search.\n"
     ]
    }
   ],
   "source": [
    "grid_search_result = grid_search.fit(\n",
    "    model=model, analysis=analysis, grid_priors=[model.gaussian_feature.centre]\n",
    ")"
   ]
  },
  {
   "cell_type": "markdown",
   "metadata": {},
   "source": [
    "This returns a `GridSearchResult`, which includes information on every model-fit performed on the grid.\n",
    "\n",
    "Below, we print:\n",
    " \n",
    " - The central value of the `UniformPrior` on the `centre` of the gaussian_feature` for each fit performed on the\n",
    " grid search. \n",
    " \n",
    " - The maximum log likelihood value of each of the 5 fits. \n",
    " \n",
    " - The Bayesian evidence of each (this is accessible because we used a nested sampling algorithm).\n",
    "\n",
    "You should see that the highest likelihood and evidence values correspond to run 4, where the `UniformPrior` on the\n",
    "centre parameter ran from 60 -> 80 and therefore captured the true value of 70.0."
   ]
  },
  {
   "cell_type": "code",
   "execution_count": 12,
   "metadata": {
    "execution": {
     "iopub.execute_input": "2021-03-06T13:35:56.075778Z",
     "iopub.status.busy": "2021-03-06T13:35:56.075369Z",
     "iopub.status.idle": "2021-03-06T13:35:56.077234Z",
     "shell.execute_reply": "2021-03-06T13:35:56.077520Z"
    }
   },
   "outputs": [
    {
     "name": "stdout",
     "output_type": "stream",
     "text": [
      "[[10.000000000000004], [30.000000000000004], [50.0], [70.00000000000001], [90.0]]\n",
      "[-53.247361   -53.1049094  -40.80457287 -40.92801451 -51.65045258]\n",
      "[-70.91906204 -70.7684405  -67.59167606 -67.92054919 -70.64174455]\n"
     ]
    }
   ],
   "source": [
    "print(grid_search_result.physical_centres_lists)\n",
    "print(grid_search_result.max_log_likelihood_values)\n",
    "print(grid_search_result.log_evidence_values)"
   ]
  },
  {
   "cell_type": "markdown",
   "metadata": {},
   "source": [
    "We can also access the `best_result` and `best_model`."
   ]
  },
  {
   "cell_type": "code",
   "execution_count": 13,
   "metadata": {
    "execution": {
     "iopub.execute_input": "2021-03-06T13:35:56.097634Z",
     "iopub.status.busy": "2021-03-06T13:35:56.097301Z",
     "iopub.status.idle": "2021-03-06T13:35:56.231698Z",
     "shell.execute_reply": "2021-03-06T13:35:56.231941Z"
    }
   },
   "outputs": [
    {
     "name": "stdout",
     "output_type": "stream",
     "text": [
      "Analysis Result:\n",
      "samples: <autofit.non_linear.samples.NestSamples object at 0x7fc84f0dc250>\n",
      "previous_model: Gaussian (centre, UniformPrior, lower_limit = 0.0, upper_limit = 100.0), (intensity, LogUniformPrior, lower_limit = 1e-06, upper_limit = 1000000.0), (sigma, UniformPrior, lower_limit = 0.0, upper_limit = 25.0), Gaussian (centre, UniformPrior, lower_limit = 40.0, upper_limit = 60.00000000000001), (intensity, LogUniformPrior, lower_limit = 1e-06, upper_limit = 1000000.0), (sigma, UniformPrior, lower_limit = 0.0, upper_limit = 25.0)\n",
      "search: <autofit.non_linear.nest.dynesty.DynestyStatic object at 0x7fc84f0dc520>\n",
      "_Result__model: None\n",
      "_instance: <autofit.mapper.model.ModelInstance object at 0x7fc84f0dc910>\n",
      "Gaussian (centre, GaussianPrior, mean = 69.75882047187383, sigma = 68.64901602400867), (intensity, GaussianPrior, mean = 0.1730082159721804, sigma = 1.3504241146009384), (sigma, GaussianPrior, mean = 5.880710879880471, sigma = 18.867438534909628), Gaussian (centre, GaussianPrior, mean = 50.0076425854643, sigma = 20.0), (intensity, GaussianPrior, mean = 25.089376909703546, sigma = 12.544688454851773), (sigma, GaussianPrior, mean = 9.962432554502255, sigma = 4.981216277251128)\n",
      "GaussianPrior, mean = 69.75882047187383, sigma = 68.64901602400867\n",
      "GaussianPrior, mean = 0.1730082159721804, sigma = 1.3504241146009384\n",
      "GaussianPrior, mean = 5.880710879880471, sigma = 18.867438534909628\n",
      "GaussianPrior, mean = 50.0076425854643, sigma = 20.0\n",
      "GaussianPrior, mean = 25.089376909703546, sigma = 12.544688454851773\n",
      "GaussianPrior, mean = 9.962432554502255, sigma = 4.981216277251128\n"
     ]
    }
   ],
   "source": [
    "print(grid_search_result.best_result)\n",
    "print(grid_search_result.best_model)\n",
    "print(grid_search_result.best_model.gaussian_main.centre)\n",
    "print(grid_search_result.best_model.gaussian_main.intensity)\n",
    "print(grid_search_result.best_model.gaussian_main.sigma)\n",
    "print(grid_search_result.best_model.gaussian_feature.centre)\n",
    "print(grid_search_result.best_model.gaussian_feature.intensity)\n",
    "print(grid_search_result.best_model.gaussian_feature.sigma)"
   ]
  },
  {
   "cell_type": "markdown",
   "metadata": {},
   "source": [
    "By plotting the `best_model` we can confirm the grid search fitted the feature at pixel 70."
   ]
  },
  {
   "cell_type": "code",
   "execution_count": 14,
   "metadata": {
    "execution": {
     "iopub.execute_input": "2021-03-06T13:35:56.243347Z",
     "iopub.status.busy": "2021-03-06T13:35:56.237231Z",
     "iopub.status.idle": "2021-03-06T13:35:56.337941Z",
     "shell.execute_reply": "2021-03-06T13:35:56.337612Z"
    }
   },
   "outputs": [
    {
     "data": {
      "image/png": "[encoded data removed]",
      "text/plain": [
       "<Figure size 432x288 with 1 Axes>"
      ]
     },
     "metadata": {
      "needs_background": "light"
     },
     "output_type": "display_data"
    }
   ],
   "source": [
    "instance = grid_search_result.best_result.instance\n",
    "\n",
    "gaussian_main = instance.gaussian_main.profile_from_xvalues(\n",
    "    xvalues=np.arange(data.shape[0])\n",
    ")\n",
    "gaussian_feature = instance.gaussian_feature.profile_from_xvalues(\n",
    "    xvalues=np.arange(data.shape[0])\n",
    ")\n",
    "model_data = gaussian_main + gaussian_feature\n",
    "\n",
    "plt.errorbar(\n",
    "    x=xvalues, y=data, yerr=noise_map, color=\"k\", ecolor=\"k\", elinewidth=1, capsize=2\n",
    ")\n",
    "plt.plot(range(data.shape[0]), model_data, color=\"r\")\n",
    "plt.plot(range(data.shape[0]), gaussian_main, \"--\")\n",
    "plt.plot(range(data.shape[0]), gaussian_feature, \"--\")\n",
    "plt.title(\"Dynesty model fit to 1D Gaussian with feature dataset.\")\n",
    "plt.xlabel(\"x values of profile\")\n",
    "plt.ylabel(\"Profile intensity\")\n",
    "plt.show()\n",
    "plt.close()"
   ]
  },
  {
   "cell_type": "markdown",
   "metadata": {},
   "source": [
    "A multi-dimensional grid search can be easily performed by adding more parameters to the `grid_priors` input.\n",
    "\n",
    "The fit below belows performs a 5x5 grid search over the `centres` of both `Gaussians`. This would take quite a long\n",
    "time to run, so I've commented it out, but feel free to run it!"
   ]
  },
  {
   "cell_type": "code",
   "execution_count": 15,
   "metadata": {
    "execution": {
     "iopub.execute_input": "2021-03-06T13:35:56.340048Z",
     "iopub.status.busy": "2021-03-06T13:35:56.339701Z",
     "iopub.status.idle": "2021-03-06T13:35:56.341175Z",
     "shell.execute_reply": "2021-03-06T13:35:56.341441Z"
    }
   },
   "outputs": [],
   "source": [
    "# grid_search_result = grid_search.fit(\n",
    "#     model=model,\n",
    "#     analysis=analysis,\n",
    "#     grid_priors=[model.gaussian_feature.centre, model.gaussian_main.centre],\n",
    "# )"
   ]
  },
  {
   "cell_type": "markdown",
   "metadata": {},
   "source": [
    "Finish."
   ]
  },
  {
   "cell_type": "code",
   "execution_count": null,
   "metadata": {},
   "outputs": [],
   "source": []
  }
 ],
 "metadata": {
  "anaconda-cloud": {},
  "kernelspec": {
   "display_name": "Python 3",
   "language": "python",
   "name": "python3"
  },
  "language_info": {
   "codemirror_mode": {
    "name": "ipython",
    "version": 3
   },
   "file_extension": ".py",
   "mimetype": "text/x-python",
   "name": "python",
   "nbconvert_exporter": "python",
   "pygments_lexer": "ipython3",
   "version": "3.8.5"
  }
 },
 "nbformat": 4,
 "nbformat_minor": 4
}
