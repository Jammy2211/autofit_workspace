{
 "cells": [
  {
   "cell_type": "markdown",
   "metadata": {},
   "source": [
    "Tutorial 10: Filtering\n",
    "=====================\n",
    "\n",
    "In the previous tutorial, the `Aggregator` loaded all of the results of all 3 fits.\n",
    "\n",
    "However, suppose we had the results of other fits in the output folder and we *only* wanted fits which used\n",
    "a certain search. Or, imagine we want the results of a fit to 1 specific data. In this tutorial, we'll learn how to use\n",
    "the `Aggregator`'s `filter` tool, which filters the results and provides us with only the results we want."
   ]
  },
  {
   "cell_type": "code",
   "execution_count": 1,
   "metadata": {
    "execution": {
     "iopub.execute_input": "2021-02-06T13:07:30.844018Z",
     "iopub.status.busy": "2021-02-06T13:07:30.843588Z",
     "iopub.status.idle": "2021-02-06T13:07:31.718641Z",
     "shell.execute_reply": "2021-02-06T13:07:31.718222Z"
    }
   },
   "outputs": [
    {
     "name": "stdout",
     "output_type": "stream",
     "text": [
      "/mnt/c/Users/Jammy/Code/PyAuto/autofit_workspace\n",
      "Working Directory has been set to `/mnt/c/Users/Jammy/Code/PyAuto/autofit_workspace`\n"
     ]
    }
   ],
   "source": [
    "%matplotlib inline\n",
    "from pyprojroot import here\n",
    "workspace_path = str(here())\n",
    "%cd $workspace_path\n",
    "print(f\"Working Directory has been set to `{workspace_path}`\")\n",
    "\n",
    "from os import path\n",
    "import autofit as af"
   ]
  },
  {
   "cell_type": "markdown",
   "metadata": {},
   "source": [
    "When we load the `Aggregator`, in this tutorial the `output_path` does not include the `/chapter_1/database` on the \n",
    "end, like it did in the previous tutorial. \n",
    "\n",
    "This means that, without filters, the `Aggregator` will load all results in the output folder, including those from \n",
    "chapter 1 and the previous tutorials in this chapter.\n",
    "\n",
    "We can first filter results to only include completed results. By including `completed_only` below, any results which \n",
    "are in the middle of a `NonLinearSearch` will be omitted and not loaded in the `Aggregator`."
   ]
  },
  {
   "cell_type": "code",
   "execution_count": 2,
   "metadata": {
    "execution": {
     "iopub.execute_input": "2021-02-06T13:07:31.721356Z",
     "iopub.status.busy": "2021-02-06T13:07:31.721021Z",
     "iopub.status.idle": "2021-02-06T13:07:32.152697Z",
     "shell.execute_reply": "2021-02-06T13:07:32.152300Z"
    }
   },
   "outputs": [
    {
     "name": "stdout",
     "output_type": "stream",
     "text": [
      "Aggregator loading phases... could take some time.\n",
      "\n",
      " A total of 3 phases and results were found.\n"
     ]
    }
   ],
   "source": [
    "agg = af.Aggregator(\n",
    "    directory=path.join(\"output\", \"howtofit\", \"chapter_1\", \"database\"),\n",
    "    completed_only=True,\n",
    ")"
   ]
  },
  {
   "cell_type": "markdown",
   "metadata": {},
   "source": [
    "First, lets print the number of `Samples` objects the `Aggregator` finds. Now we are pointing the `Aggregator` to the\n",
    "output folder, depending on what results are there this should find in excess of 3 sets of results, corresponding to\n",
    "results from chapter 1 and tutorial 1 of chapter 2."
   ]
  },
  {
   "cell_type": "code",
   "execution_count": 3,
   "metadata": {
    "execution": {
     "iopub.execute_input": "2021-02-06T13:07:32.155379Z",
     "iopub.status.busy": "2021-02-06T13:07:32.155024Z",
     "iopub.status.idle": "2021-02-06T13:07:33.210843Z",
     "shell.execute_reply": "2021-02-06T13:07:33.211121Z"
    }
   },
   "outputs": [
    {
     "name": "stdout",
     "output_type": "stream",
     "text": [
      "Emcee Samples:\n",
      "\n",
      "Total Samples Objects =  3 \n",
      "\n"
     ]
    }
   ],
   "source": [
    "print(\"Emcee Samples:\\n\")\n",
    "print(\"Total Samples Objects = \", len(list(agg.values(\"samples\"))), \"\\n\")"
   ]
  },
  {
   "cell_type": "markdown",
   "metadata": {},
   "source": [
    "We can filter using strings, requiring that the string appears in the full path of the output results. This is useful \n",
    "if you fit a large sample of data where:\n",
    "\n",
    " - Multiple results, corresponding to different phases and model-fits are stored in the same path.\n",
    " \n",
    " - Different runs using different `SettingsPhase` are in the same path.\n",
    " \n",
    " - Fits using different `NonLinearSearch`s, with different settings, are contained in the same path.\n",
    "\n",
    "The example below shows us using the `contains` method to filter the results of the fit to only the first `Dataset`. "
   ]
  },
  {
   "cell_type": "code",
   "execution_count": 4,
   "metadata": {
    "execution": {
     "iopub.execute_input": "2021-02-06T13:07:33.214256Z",
     "iopub.status.busy": "2021-02-06T13:07:33.213890Z",
     "iopub.status.idle": "2021-02-06T13:07:33.216717Z",
     "shell.execute_reply": "2021-02-06T13:07:33.217068Z"
    }
   },
   "outputs": [
    {
     "name": "stdout",
     "output_type": "stream",
     "text": [
      "Filter found a total of 0 results\n",
      "Directory Contains Filtered NestedSampler Samples: \n",
      "\n",
      "Total Samples Objects =  0 \n",
      "\n",
      "\n"
     ]
    }
   ],
   "source": [
    "agg_filter_contains = agg.filter(\n",
    "    agg.directory.contains(\"phase_t2_agg\"), agg.directory.contains(\"gaussian_x1_0\")\n",
    ")\n",
    "print(\"Directory Contains Filtered NestedSampler Samples: \\n\")\n",
    "print(\n",
    "    \"Total Samples Objects = \", len(list(agg_filter_contains.values(\"samples\"))), \"\\n\\n\"\n",
    ")"
   ]
  },
  {
   "cell_type": "markdown",
   "metadata": {},
   "source": [
    "You can also filter by the type of `NonLinearSearch` used, so that if you were to fit the same model to the same \n",
    "dataset with different `NonLinearSearch`s you could load and compare their results."
   ]
  },
  {
   "cell_type": "code",
   "execution_count": 5,
   "metadata": {
    "execution": {
     "iopub.execute_input": "2021-02-06T13:07:33.219775Z",
     "iopub.status.busy": "2021-02-06T13:07:33.219358Z",
     "iopub.status.idle": "2021-02-06T13:07:34.231747Z",
     "shell.execute_reply": "2021-02-06T13:07:34.231383Z"
    }
   },
   "outputs": [
    {
     "name": "stdout",
     "output_type": "stream",
     "text": [
      "Filter found a total of 3 results\n",
      "Directory Contains Filtered NestedSampler Samples: \n",
      "\n",
      "Total Samples Objects =  3 \n",
      "\n",
      "\n"
     ]
    }
   ],
   "source": [
    "agg_filter_contains = agg.filter(agg.non_linear_search == \"emcee\")\n",
    "print(\"Directory Contains Filtered NestedSampler Samples: \\n\")\n",
    "print(\n",
    "    \"Total Samples Objects = \", len(list(agg_filter_contains.values(\"samples\"))), \"\\n\\n\"\n",
    ")"
   ]
  },
  {
   "cell_type": "markdown",
   "metadata": {},
   "source": [
    "Filters can be combined to load precisely only the result that you want, below we use all the above filters to \n",
    "load only the results of the fit to the first lens in our sample."
   ]
  },
  {
   "cell_type": "code",
   "execution_count": 6,
   "metadata": {
    "execution": {
     "iopub.execute_input": "2021-02-06T13:07:34.234646Z",
     "iopub.status.busy": "2021-02-06T13:07:34.234309Z",
     "iopub.status.idle": "2021-02-06T13:07:34.548215Z",
     "shell.execute_reply": "2021-02-06T13:07:34.548452Z"
    }
   },
   "outputs": [
    {
     "name": "stdout",
     "output_type": "stream",
     "text": [
      "Filter found a total of 1 results\n",
      "Multiple Filter NestedSampler Samples: \n",
      "\n",
      "\n",
      "Total Samples Objects =  1 \n",
      "\n",
      "\n"
     ]
    }
   ],
   "source": [
    "agg_filter_multiple = agg.filter(\n",
    "    agg.directory.contains(\"tutorial_7_multi\"), agg.directory.contains(\"gaussian_x1_0\")\n",
    ")\n",
    "print(\"Multiple Filter NestedSampler Samples: \\n\")\n",
    "print()\n",
    "print(\n",
    "    \"Total Samples Objects = \", len(list(agg_filter_multiple.values(\"samples\"))), \"\\n\\n\"\n",
    ")"
   ]
  },
  {
   "cell_type": "markdown",
   "metadata": {},
   "source": [
    "Finish."
   ]
  }
 ],
 "metadata": {
  "anaconda-cloud": {},
  "kernelspec": {
   "display_name": "Python 3",
   "language": "python",
   "name": "python3"
  },
  "language_info": {
   "codemirror_mode": {
    "name": "ipython",
    "version": 3
   },
   "file_extension": ".py",
   "mimetype": "text/x-python",
   "name": "python",
   "nbconvert_exporter": "python",
   "pygments_lexer": "ipython3",
   "version": "3.8.5"
  }
 },
 "nbformat": 4,
 "nbformat_minor": 4
}
