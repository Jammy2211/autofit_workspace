{
 "cells": [
  {
   "cell_type": "markdown",
   "metadata": {},
   "source": [
    "Tutorial 9: Aggregator\n",
    "======================\n",
    "\n",
    "In the previous tutorial, we fitted 3 datasets with an identical `NonLinearSearch`, outputting the results of each to a\n",
    "unique folder on our hard disk.\n",
    "\n",
    "In this tutorial, we'll use the `Aggregator` to load the `Result`'s and manipulate / plot them using our Jupyter\n",
    "notebook. The API for using `Result`'s follow closely tutorial 1 of this chapter."
   ]
  },
  {
   "cell_type": "code",
   "execution_count": 1,
   "metadata": {
    "execution": {
     "iopub.execute_input": "2021-02-06T13:08:42.108477Z",
     "iopub.status.busy": "2021-02-06T13:08:42.108073Z",
     "iopub.status.idle": "2021-02-06T13:08:43.322032Z",
     "shell.execute_reply": "2021-02-06T13:08:43.301686Z"
    }
   },
   "outputs": [
    {
     "name": "stdout",
     "output_type": "stream",
     "text": [
      "/mnt/c/Users/Jammy/Code/PyAuto/autofit_workspace\n",
      "Working Directory has been set to `/mnt/c/Users/Jammy/Code/PyAuto/autofit_workspace`\n"
     ]
    }
   ],
   "source": [
    "%matplotlib inline\n",
    "from pyprojroot import here\n",
    "workspace_path = str(here())\n",
    "%cd $workspace_path\n",
    "print(f\"Working Directory has been set to `{workspace_path}`\")\n",
    "\n",
    "from os import path\n",
    "import autofit as af"
   ]
  },
  {
   "cell_type": "markdown",
   "metadata": {},
   "source": [
    "To load the results of the previous tutorial into the `Aggregator`, we simply point the `Aggregator` class to the path \n",
    "of the results we want it to load."
   ]
  },
  {
   "cell_type": "code",
   "execution_count": 2,
   "metadata": {
    "execution": {
     "iopub.execute_input": "2021-02-06T13:08:43.326989Z",
     "iopub.status.busy": "2021-02-06T13:08:43.326468Z",
     "iopub.status.idle": "2021-02-06T13:08:43.854092Z",
     "shell.execute_reply": "2021-02-06T13:08:43.853717Z"
    }
   },
   "outputs": [
    {
     "name": "stdout",
     "output_type": "stream",
     "text": [
      "Aggregator loading phases... could take some time.\n",
      "\n",
      " A total of 3 phases and results were found.\n"
     ]
    }
   ],
   "source": [
    "agg = af.Aggregator(directory=path.join(\"output\", \"howtofit\", \"chapter_1\", \"database\"))"
   ]
  },
  {
   "cell_type": "markdown",
   "metadata": {},
   "source": [
    "To begin, let me quickly explain what a generator is in Python, for those unaware. A generator is an object that \n",
    "iterates over a function when it is called. The `Aggregator` creates all objects as generators, rather than lists, or \n",
    "dictionaries, or whatever.\n",
    "\n",
    "Why? Because lists and dictionaries store every entry in memory simultaneously. If you fit many `Dataset`s, you'll \n",
    "have lots of results and therefore use a lot of memory. This will crash your laptop! On the other hand, a generator \n",
    "only stores the object in memory when it runs the function; it is free to overwrite it afterwards. Thus, your laptop \n",
    "won't crash!\n",
    "\n",
    "There are two things to bare in mind with generators:\n",
    "\n",
    " 1) A generator has no length, thus to determine how many entries of data it corresponds to you first must turn it to a \n",
    "    list.\n",
    "\n",
    " 2) Once we use a generator, we cannot use it again and we'll need to remake it. For this reason, we typically avoid \n",
    "    storing the generator as a variable and instead use the `Aggregator` to create them on use.\n",
    "\n",
    "We can now create a `Samples` generator of every fit. This creates instances of the `Samples` class we manipulated in\n",
    "tutorial 1, which with the `Aggregator` now acts as an interface between the results of the non-linear fit on your \n",
    "hard-disk and Python."
   ]
  },
  {
   "cell_type": "code",
   "execution_count": 3,
   "metadata": {
    "execution": {
     "iopub.execute_input": "2021-02-06T13:08:43.856752Z",
     "iopub.status.busy": "2021-02-06T13:08:43.856401Z",
     "iopub.status.idle": "2021-02-06T13:08:43.858172Z",
     "shell.execute_reply": "2021-02-06T13:08:43.858450Z"
    }
   },
   "outputs": [],
   "source": [
    "samples_gen = agg.values(\"samples\")"
   ]
  },
  {
   "cell_type": "markdown",
   "metadata": {},
   "source": [
    "When we print this list of outputs you should see over 3 different `NestSamples` instances, corresponding to the 3\n",
    "model-fits we performed in the previous tutorial."
   ]
  },
  {
   "cell_type": "code",
   "execution_count": 4,
   "metadata": {
    "execution": {
     "iopub.execute_input": "2021-02-06T13:08:43.861080Z",
     "iopub.status.busy": "2021-02-06T13:08:43.860726Z",
     "iopub.status.idle": "2021-02-06T13:08:45.162873Z",
     "shell.execute_reply": "2021-02-06T13:08:45.163222Z"
    }
   },
   "outputs": [
    {
     "name": "stdout",
     "output_type": "stream",
     "text": [
      "Emcee Samples:\n",
      "\n",
      "<map object at 0x7f7d3f0bc3d0>\n",
      "Total Samples Objects =  3 \n",
      "\n"
     ]
    }
   ],
   "source": [
    "print(\"Emcee Samples:\\n\")\n",
    "print(samples_gen)\n",
    "print(\"Total Samples Objects = \", len(list(samples_gen)), \"\\n\")"
   ]
  },
  {
   "cell_type": "markdown",
   "metadata": {},
   "source": [
    "We've encountered the `Samples` class in previous tutorials. As we saw in tutorial 1, the `Samples` class contains all \n",
    "the accepted parameter samples of the `NonLinearSearch`, which is a list of lists where:\n",
    "\n",
    " - The outer list is the size of the total number of samples.\n",
    " - The inner list is the size of the number of free parameters in the fit.\n",
    "\n",
    "With the `Aggregator` we can now get information on the `Samples` of all 3 model-fits, as opposed to just 1 fit using \n",
    "its `Result` object."
   ]
  },
  {
   "cell_type": "code",
   "execution_count": 5,
   "metadata": {
    "execution": {
     "iopub.execute_input": "2021-02-06T13:08:45.166692Z",
     "iopub.status.busy": "2021-02-06T13:08:45.166199Z",
     "iopub.status.idle": "2021-02-06T13:08:47.247375Z",
     "shell.execute_reply": "2021-02-06T13:08:47.247639Z"
    }
   },
   "outputs": [
    {
     "name": "stdout",
     "output_type": "stream",
     "text": [
      "All parameters of the very first sample\n",
      "[49.6632910231864, 0.8618035893686871, 12.602216229469207]\n",
      "The tenth sample`s third parameter\n",
      "12.636204866076458\n",
      "\n",
      "All parameters of the very first sample\n",
      "[50.1496243468997, 0.8390986324234752, 12.547823615031259]\n",
      "The tenth sample`s third parameter\n",
      "12.357047646547441\n",
      "\n",
      "All parameters of the very first sample\n",
      "[50.75650444519518, 0.8929583544673789, 12.267112925772201]\n",
      "The tenth sample`s third parameter\n",
      "12.003658695808276\n",
      "\n"
     ]
    }
   ],
   "source": [
    "for samples in agg.values(\"samples\"):\n",
    "    print(\"All parameters of the very first sample\")\n",
    "    print(samples.parameters[0])\n",
    "    print(\"The tenth sample`s third parameter\")\n",
    "    print(samples.parameters[9][2])\n",
    "    print()"
   ]
  },
  {
   "cell_type": "markdown",
   "metadata": {},
   "source": [
    "We can use the `Aggregator` to get information on the `log_likelihoods`, log_priors`, `weights`, etc. of every fit."
   ]
  },
  {
   "cell_type": "code",
   "execution_count": 6,
   "metadata": {
    "execution": {
     "iopub.execute_input": "2021-02-06T13:08:47.250559Z",
     "iopub.status.busy": "2021-02-06T13:08:47.250210Z",
     "iopub.status.idle": "2021-02-06T13:08:48.951055Z",
     "shell.execute_reply": "2021-02-06T13:08:48.950329Z"
    }
   },
   "outputs": [
    {
     "name": "stdout",
     "output_type": "stream",
     "text": [
      "log(likelihood), log(prior), log(posterior) and weight of the tenth sample.\n",
      "-53993.4624030837\n",
      "1.0450015261383183\n",
      "-53992.41740155756\n",
      "1.0\n",
      "\n",
      "log(likelihood), log(prior), log(posterior) and weight of the tenth sample.\n",
      "-10313.865277064278\n",
      "1.0562758383713635\n",
      "-10312.809001225907\n",
      "1.0\n",
      "\n",
      "log(likelihood), log(prior), log(posterior) and weight of the tenth sample.\n",
      "-4902.90726399055\n",
      "0.7864236821512738\n",
      "-4902.120840308398\n",
      "1.0\n",
      "\n"
     ]
    }
   ],
   "source": [
    "for samples in agg.values(\"samples\"):\n",
    "    print(\"log(likelihood), log(prior), log(posterior) and weight of the tenth sample.\")\n",
    "    print(samples.log_likelihoods[9])\n",
    "    print(samples.log_priors[9])\n",
    "    print(samples.log_posteriors[9])\n",
    "    print(samples.weights[9])\n",
    "    print()"
   ]
  },
  {
   "cell_type": "markdown",
   "metadata": {},
   "source": [
    "We can use the `Sample`'s to create a list of the `max_log_likelihood_vector` of each fit to our three images."
   ]
  },
  {
   "cell_type": "code",
   "execution_count": 7,
   "metadata": {
    "execution": {
     "iopub.execute_input": "2021-02-06T13:08:48.955135Z",
     "iopub.status.busy": "2021-02-06T13:08:48.954360Z",
     "iopub.status.idle": "2021-02-06T13:08:50.276000Z",
     "shell.execute_reply": "2021-02-06T13:08:50.275620Z"
    }
   },
   "outputs": [
    {
     "name": "stdout",
     "output_type": "stream",
     "text": [
      "Maximum Log Likelihood Parameter Lists:\n",
      "\n",
      "[[49.99896775323861, 24.834900281017386, 0.9953674831882762], [49.87665666174239, 24.813040448460082, 4.965611694771138], [49.77629874225814, 24.636228640254046, 9.628206185901684]] \n",
      "\n"
     ]
    }
   ],
   "source": [
    "vector = [samps.max_log_likelihood_vector for samps in agg.values(\"samples\")]\n",
    "print(\"Maximum Log Likelihood Parameter Lists:\\n\")\n",
    "print(vector, \"\\n\")"
   ]
  },
  {
   "cell_type": "markdown",
   "metadata": {},
   "source": [
    "As discussed in tutorial 1, using vectors isn't too much use, as we can`t be sure which values correspond to which \n",
    "parameters.\n",
    "\n",
    "We can use the `Aggregator` to create the `max_log_likelihood_instance` of every fit."
   ]
  },
  {
   "cell_type": "code",
   "execution_count": 8,
   "metadata": {
    "execution": {
     "iopub.execute_input": "2021-02-06T13:08:50.279129Z",
     "iopub.status.busy": "2021-02-06T13:08:50.278646Z",
     "iopub.status.idle": "2021-02-06T13:08:51.906443Z",
     "shell.execute_reply": "2021-02-06T13:08:51.906066Z"
    }
   },
   "outputs": [
    {
     "name": "stdout",
     "output_type": "stream",
     "text": [
      "Maximum Log Likelihood Model Instances:\n",
      "\n",
      "[<autofit.mapper.model.ModelInstance object at 0x7f7d3a761f40>, <autofit.mapper.model.ModelInstance object at 0x7f7d55f7ce80>, <autofit.mapper.model.ModelInstance object at 0x7f7d32ec4250>] \n",
      "\n"
     ]
    }
   ],
   "source": [
    "instances = [samps.max_log_likelihood_instance for samps in agg.values(\"samples\")]\n",
    "print(\"Maximum Log Likelihood Model Instances:\\n\")\n",
    "print(instances, \"\\n\")"
   ]
  },
  {
   "cell_type": "markdown",
   "metadata": {},
   "source": [
    "The model instance contains all the model components of our fit which for the fits above was a single `Gaussian`\n",
    "profile (the word `gaussian` comes from what we called it in the `CollectionPriorModel` above)."
   ]
  },
  {
   "cell_type": "code",
   "execution_count": 9,
   "metadata": {
    "execution": {
     "iopub.execute_input": "2021-02-06T13:08:51.909244Z",
     "iopub.status.busy": "2021-02-06T13:08:51.908901Z",
     "iopub.status.idle": "2021-02-06T13:08:51.911038Z",
     "shell.execute_reply": "2021-02-06T13:08:51.911318Z"
    }
   },
   "outputs": [
    {
     "name": "stdout",
     "output_type": "stream",
     "text": [
      "<profiles.Gaussian object at 0x7f7d3a761f70>\n",
      "<profiles.Gaussian object at 0x7f7d6c431550>\n",
      "<profiles.Gaussian object at 0x7f7d32ec4580>\n"
     ]
    }
   ],
   "source": [
    "print(instances[0].gaussian)\n",
    "print(instances[1].gaussian)\n",
    "print(instances[2].gaussian)"
   ]
  },
  {
   "cell_type": "markdown",
   "metadata": {},
   "source": [
    "This, of course, gives us access to any individual parameter of our maximum log likelihood `instance`. Below, we see \n",
    "that the 3 `Gaussian`s were simulated using `sigma` values of 1.0, 5.0 and 10.0."
   ]
  },
  {
   "cell_type": "code",
   "execution_count": 10,
   "metadata": {
    "execution": {
     "iopub.execute_input": "2021-02-06T13:08:51.913987Z",
     "iopub.status.busy": "2021-02-06T13:08:51.913530Z",
     "iopub.status.idle": "2021-02-06T13:08:51.915697Z",
     "shell.execute_reply": "2021-02-06T13:08:51.915408Z"
    }
   },
   "outputs": [
    {
     "name": "stdout",
     "output_type": "stream",
     "text": [
      "0.9953674831882762\n",
      "4.965611694771138\n",
      "9.628206185901684\n"
     ]
    }
   ],
   "source": [
    "print(instances[0].gaussian.sigma)\n",
    "print(instances[1].gaussian.sigma)\n",
    "print(instances[2].gaussian.sigma)"
   ]
  },
  {
   "cell_type": "markdown",
   "metadata": {},
   "source": [
    "We can also access the `median_pdf` model via the `Aggregator`, as we saw for the `Samples` object in tutorial 1."
   ]
  },
  {
   "cell_type": "code",
   "execution_count": 11,
   "metadata": {
    "execution": {
     "iopub.execute_input": "2021-02-06T13:08:51.918242Z",
     "iopub.status.busy": "2021-02-06T13:08:51.917883Z",
     "iopub.status.idle": "2021-02-06T13:08:55.130404Z",
     "shell.execute_reply": "2021-02-06T13:08:55.130048Z"
    }
   },
   "outputs": [
    {
     "name": "stdout",
     "output_type": "stream",
     "text": [
      "Median PDF Model Parameter Lists:\n",
      "\n",
      "[[49.99923367067804, 24.842288298352784, 0.9954992244756227], [49.87603848875523, 24.81612173795271, 4.966723220833882], [49.78544124791978, 24.656534958320172, 9.628973281225084]] \n",
      "\n",
      "Most probable Model Instances:\n",
      "\n",
      "[<autofit.mapper.model.ModelInstance object at 0x7f7d3aaaf670>, <autofit.mapper.model.ModelInstance object at 0x7f7d3a2622b0>, <autofit.mapper.model.ModelInstance object at 0x7f7d32ed0340>] \n",
      "\n"
     ]
    }
   ],
   "source": [
    "mp_vectors = [samps.median_pdf_vector for samps in agg.values(\"samples\")]\n",
    "mp_instances = [samps.median_pdf_instance for samps in agg.values(\"samples\")]\n",
    "\n",
    "print(\"Median PDF Model Parameter Lists:\\n\")\n",
    "print(mp_vectors, \"\\n\")\n",
    "print(\"Most probable Model Instances:\\n\")\n",
    "print(mp_instances, \"\\n\")"
   ]
  },
  {
   "cell_type": "markdown",
   "metadata": {},
   "source": [
    "We can also print the `model_results` of all phases, which is string that summarizes every fit`s model providing\n",
    "quick inspection of all results."
   ]
  },
  {
   "cell_type": "code",
   "execution_count": 12,
   "metadata": {
    "execution": {
     "iopub.execute_input": "2021-02-06T13:08:55.132842Z",
     "iopub.status.busy": "2021-02-06T13:08:55.132502Z",
     "iopub.status.idle": "2021-02-06T13:08:55.137604Z",
     "shell.execute_reply": "2021-02-06T13:08:55.137258Z"
    }
   },
   "outputs": [
    {
     "name": "stdout",
     "output_type": "stream",
     "text": [
      "Model Results Summary:\n",
      "\n",
      "\n",
      "\n",
      "Maximum Likelihood                                                                        178.59641704\n",
      "\n",
      "Maximum Log Likelihood Model:\n",
      "\n",
      "gaussian\n",
      "    centre                                                                                49.999\n",
      "    intensity                                                                             24.835\n",
      "    sigma                                                                                 0.995\n",
      "\n",
      "\n",
      "Summary (3.0 sigma limits):\n",
      "\n",
      "gaussian\n",
      "    centre                                                                                50.00 (49.99, 50.01)\n",
      "    intensity                                                                             24.84 (24.61, 25.09)\n",
      "    sigma                                                                                 1.00 (0.98, 1.01)\n",
      "\n",
      "\n",
      "Summary (1.0 sigma limits):\n",
      "\n",
      "gaussian\n",
      "    centre                                                                                50.00 (50.00, 50.00)\n",
      "    intensity                                                                             24.84 (24.80, 24.88)\n",
      "    sigma                                                                                 1.00 (0.99, 1.00)\n",
      "\n",
      "instances\n",
      "\n",
      "\n",
      "\n",
      "\n",
      "\n",
      "Maximum Likelihood                                                                        181.19478931\n",
      "\n",
      "Maximum Log Likelihood Model:\n",
      "\n",
      "gaussian\n",
      "    centre                                                                                49.877\n",
      "    intensity                                                                             24.813\n",
      "    sigma                                                                                 4.966\n",
      "\n",
      "\n",
      "Summary (3.0 sigma limits):\n",
      "\n",
      "gaussian\n",
      "    centre                                                                                49.88 (49.74, 50.02)\n",
      "    intensity                                                                             24.82 (24.25, 25.37)\n",
      "    sigma                                                                                 4.97 (4.84, 5.09)\n",
      "\n",
      "\n",
      "Summary (1.0 sigma limits):\n",
      "\n",
      "gaussian\n",
      "    centre                                                                                49.88 (49.85, 49.90)\n",
      "    intensity                                                                             24.82 (24.71, 24.91)\n",
      "    sigma                                                                                 4.97 (4.94, 4.99)\n",
      "\n",
      "instances\n",
      "\n",
      "\n",
      "\n",
      "\n",
      "\n",
      "Maximum Likelihood                                                                        168.43567931\n",
      "\n",
      "Maximum Log Likelihood Model:\n",
      "\n",
      "gaussian\n",
      "    centre                                                                                49.776\n",
      "    intensity                                                                             24.636\n",
      "    sigma                                                                                 9.628\n",
      "\n",
      "\n",
      "Summary (3.0 sigma limits):\n",
      "\n",
      "gaussian\n",
      "    centre                                                                                49.79 (49.44, 50.13)\n",
      "    intensity                                                                             24.66 (23.86, 25.40)\n",
      "    sigma                                                                                 9.63 (9.28, 10.01)\n",
      "\n",
      "\n",
      "Summary (1.0 sigma limits):\n",
      "\n",
      "gaussian\n",
      "    centre                                                                                49.79 (49.72, 49.85)\n",
      "    intensity                                                                             24.66 (24.53, 24.79)\n",
      "    sigma                                                                                 9.63 (9.57, 9.69)\n",
      "\n",
      "instances\n",
      "\n",
      " \n",
      "\n"
     ]
    }
   ],
   "source": [
    "results = agg.model_results\n",
    "print(\"Model Results Summary:\\n\")\n",
    "print(results, \"\\n\")"
   ]
  },
  {
   "cell_type": "markdown",
   "metadata": {},
   "source": [
    "Lets end the tutorial with something more ambitious. Lets create a plot of the inferred `sigma` values vs `intensity` \n",
    "of each `Gaussian` profile, including error bars at $3\\sigma$ confidence."
   ]
  },
  {
   "cell_type": "code",
   "execution_count": 13,
   "metadata": {
    "execution": {
     "iopub.execute_input": "2021-02-06T13:08:55.141470Z",
     "iopub.status.busy": "2021-02-06T13:08:55.141116Z",
     "iopub.status.idle": "2021-02-06T13:09:00.579284Z",
     "shell.execute_reply": "2021-02-06T13:09:00.578889Z"
    }
   },
   "outputs": [
    {
     "data": {
      "image/png": "[encoded data removed]",
      "text/plain": [
       "<Figure size 432x288 with 1 Axes>"
      ]
     },
     "metadata": {
      "needs_background": "light"
     },
     "output_type": "display_data"
    }
   ],
   "source": [
    "import matplotlib.pyplot as plt\n",
    "\n",
    "mp_instances = [samps.median_pdf_instance for samps in agg.values(\"samples\")]\n",
    "ue3_instances = [\n",
    "    samp.error_instance_at_upper_sigma(sigma=3.0) for samp in agg.values(\"samples\")\n",
    "]\n",
    "le3_instances = [\n",
    "    samp.error_instance_at_lower_sigma(sigma=3.0) for samp in agg.values(\"samples\")\n",
    "]\n",
    "\n",
    "mp_sigmas = [instance.gaussian.sigma for instance in mp_instances]\n",
    "ue3_sigmas = [instance.gaussian.sigma for instance in ue3_instances]\n",
    "le3_sigmas = [instance.gaussian.sigma for instance in le3_instances]\n",
    "mp_intensitys = [instance.gaussian.sigma for instance in mp_instances]\n",
    "ue3_intensitys = [instance.gaussian.sigma for instance in ue3_instances]\n",
    "le3_intensitys = [instance.gaussian.intensity for instance in le3_instances]\n",
    "\n",
    "plt.errorbar(\n",
    "    x=mp_sigmas,\n",
    "    y=mp_intensitys,\n",
    "    marker=\".\",\n",
    "    linestyle=\"\",\n",
    "    xerr=[le3_sigmas, ue3_sigmas],\n",
    "    yerr=[le3_intensitys, ue3_intensitys],\n",
    ")\n",
    "plt.show()"
   ]
  },
  {
   "cell_type": "markdown",
   "metadata": {},
   "source": [
    "Finish."
   ]
  }
 ],
 "metadata": {
  "anaconda-cloud": {},
  "kernelspec": {
   "display_name": "Python 3",
   "language": "python",
   "name": "python3"
  },
  "language_info": {
   "codemirror_mode": {
    "name": "ipython",
    "version": 3
   },
   "file_extension": ".py",
   "mimetype": "text/x-python",
   "name": "python",
   "nbconvert_exporter": "python",
   "pygments_lexer": "ipython3",
   "version": "3.8.5"
  }
 },
 "nbformat": 4,
 "nbformat_minor": 4
}
