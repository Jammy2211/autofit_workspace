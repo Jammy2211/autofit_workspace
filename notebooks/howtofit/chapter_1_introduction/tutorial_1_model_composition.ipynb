{
  "cells": [
    {
      "cell_type": "markdown",
      "metadata": {},
      "source": [
        "Tutorial 1: Models\n",
        "==================\n",
        "\n",
        "At the heart of model-fitting is the model: a set of equations, numerical processes and assumptions describing a\n",
        "physical system of interest. The goal of model-fitting is to understand this physical system more, ultimately\n",
        "develop more complex models which describe more aspects of the system more accurately.\n",
        "\n",
        "In Astronomy, a model may describe the distribution of stars within a galaxy. In biology, is may describe the\n",
        "interaction of proteins within a cell. In finance, it may describe the evolution of stock prices in a market.\n",
        "Your model depends on your topic of study, but in all cases the model acts as the mathematical description of\n",
        "some physical system you seek understand better, and hope ultimately to make new predictions of.\n",
        "\n",
        "Whatever your model, the equations that underpin will be defined by \"free parameters\". Changing these parameters\n",
        "changes the prediction of the model.\n",
        "\n",
        "For example, an Astronomy model of the distribution of stars may contain a\n",
        "parameter describing the brightness of the stars, a second parameter defining their number density and a third\n",
        "parameter describing their colors. If we multiplied the parameter describribing the brightness of the stars by 2,\n",
        "the stars would therefore appear twice as bright.\n",
        "\n",
        "Once the model (e.g. the undrlying equations) is defined and a values for the free parameters have been chosen, the\n",
        "model can create \"model data\". This data is a realization of how the physical system appears for that model with\n",
        "those parameters.\n",
        "\n",
        "For example, a model of the distribution of stars within a galaxy can be used to create a model image of that galaxy.\n",
        "By changing the parameters governing the distribution of stars, it can produce many different model images, with\n",
        "different brightness, colors, sizes, etc.\n",
        "\n",
        "In this tutorial, we will learn the basics of defining a model, and we will in particular:\n",
        "\n",
        " - Define a simple model, described by few single equations.\n",
        "\n",
        " - Show that this model is described by 3 or more free parameters.\n",
        "\n",
        " - Use the model, with different sets of parameters, to generate model data.\n",
        "\n",
        "This will all be performed using the **PyAutoFit** API for model composition, which forms the basis of all model\n",
        "fitting performed by **PyAutoFit**."
      ]
    },
    {
      "cell_type": "code",
      "metadata": {},
      "source": [
        "import autofit as af\n",
        "import numpy as np\n",
        "import matplotlib.pyplot as plt"
      ],
      "outputs": [],
      "execution_count": null
    },
    {
      "cell_type": "markdown",
      "metadata": {},
      "source": [
        "__Paths__\n",
        "\n",
        "**PyAutoFit** assumes the current working directory is `/path/to/autofit_workspace/` on your hard-disk (or in Binder). \n",
        "\n",
        "This is so that it can:\n",
        " \n",
        " - Load configuration settings from config files in the `autofit_workspace/config` folder.\n",
        " \n",
        " - Load example data from the `autofit_workspace/dataset` folder.\n",
        " \n",
        " - Output the results of models fits to your hard-disk to the `autofit/output` folder. \n",
        "\n",
        "If you don't have an `autofit_workspace` (perhaps you cloned / forked the **PyAutoFit** GitHub repository?) you can\n",
        "download it here:\n",
        " \n",
        " https://github.com/Jammy2211/autofit_workspace\n",
        "\n",
        "At the top of every tutorial notebook, you will see the following cell. \n",
        "\n",
        "This cell uses the project `pyprojroot` to locate the path to the workspace on your computer and use it to set the \n",
        "working directory of the notebook."
      ]
    },
    {
      "cell_type": "code",
      "metadata": {},
      "source": [
        "%matplotlib inline\n",
        "from pyprojroot import here\n",
        "workspace_path = str(here())\n",
        "%cd $workspace_path\n",
        "print(f\"Working Directory has been set to `{workspace_path}`\")\n",
        "\n",
        "from os import path"
      ],
      "outputs": [],
      "execution_count": null
    },
    {
      "cell_type": "markdown",
      "metadata": {},
      "source": [
        "__Model Parameterization__\n",
        "\n",
        "A model is a set of equations, numerical processes and assumptions that describe a physical system and dataset.\n",
        "\n",
        "We can pretty much consider anything is a model. In this example, our model will simply be one or more 1 dimensional\n",
        "Gaussian, defined by the following equaiton:\n",
        "\n",
        "\\begin{equation*}\n",
        "g(x, I, \\sigma) = \\frac{N}{\\sigma\\sqrt{2\\pi}} \\exp{(-0.5 (x / \\sigma)^2)}\n",
        "\\end{equation*}\n",
        "\n",
        "Where:\n",
        "\n",
        "`x`: Is the x-axis coordinate where the `Gaussian` is evaluated.\n",
        "\n",
        "`N`: Describes the overall normalization of the Gaussian.\n",
        "\n",
        "$\\sigma$: Describes the size of the Gaussian (Full Width Half Maximum = $\\mathrm {FWHM}$ = $2{\\sqrt {2\\ln 2}}\\;\\sigma$)\n",
        "\n",
        "Whilst a 1D Gaussian may seem like a somewhat rudimentary model, it actually has a lot of real-world applicaiton\n",
        "in signal process, where 1D Gausians are fitted to 1D datasets in order to quantify the size of a signal. Our\n",
        "model is therefore a realstic representation of a real world modeling problrem!\n",
        "\n",
        "We therefore now have a model, which as expected is a set of equations (just one in this case) that describes a \n",
        "dataset.\n",
        "\n",
        "The model has 3 parameters, $(x, N, \\sigma)$, where using different combinations of these parameters creates different \n",
        "realizations of the model.\n",
        "\n",
        "So, how do we compose this model is **PyAutoFit**?\n",
        "\n",
        "__Model Composition__\n",
        "\n",
        "To define a \"model component\" in **PyAutoFit** we simply write it as a Python class using the format shown below:"
      ]
    },
    {
      "cell_type": "code",
      "metadata": {},
      "source": [
        "\n",
        "\n",
        "class Gaussian:\n",
        "    def __init__(\n",
        "        self,\n",
        "        centre=30.0,  # <- **PyAutoFit** recognises these constructor arguments\n",
        "        normalization=1.0,  # <- are the Gaussian`s model parameters.\n",
        "        sigma=5.0,\n",
        "    ):\n",
        "        \"\"\"\n",
        "        Represents a 1D Gaussian profile.\n",
        "\n",
        "        This is a model-component of example models in the **HowToFit** lectures and is used to fit example datasets\n",
        "        via a non-linear search.\n",
        "\n",
        "        Parameters\n",
        "        ----------\n",
        "        centre\n",
        "            The x coordinate of the profile centre.\n",
        "        normalization\n",
        "            Overall normalization of the profile.\n",
        "        sigma\n",
        "            The sigma value controlling the size of the Gaussian.\n",
        "        \"\"\"\n",
        "        self.centre = centre\n",
        "        self.normalization = normalization\n",
        "        self.sigma = sigma\n",
        "\n",
        "    def model_data_1d_via_xvalues_from(self, xvalues: np.ndarray):\n",
        "        \"\"\"\n",
        "\n",
        "        Returns a 1D Gaussian on an input list of Cartesian x coordinates.\n",
        "\n",
        "        The input xvalues are translated to a coordinate system centred on the Gaussian, via its `centre`.\n",
        "\n",
        "        The output is referred to as the `model_data` to signify that it is a representation of the data from the\n",
        "        model.\n",
        "\n",
        "        Parameters\n",
        "        ----------\n",
        "        xvalues\n",
        "            The x coordinates in the original reference frame of the data.\n",
        "        \"\"\"\n",
        "        transformed_xvalues = np.subtract(xvalues, self.centre)\n",
        "        return np.multiply(\n",
        "            np.divide(self.normalization, self.sigma * np.sqrt(2.0 * np.pi)),\n",
        "            np.exp(-0.5 * np.square(np.divide(transformed_xvalues, self.sigma))),\n",
        "        )\n"
      ],
      "outputs": [],
      "execution_count": null
    },
    {
      "cell_type": "markdown",
      "metadata": {},
      "source": [
        "The format of this Python class defines how **PyAutoFit** will compose the `Gaussian` as a model, where:\n",
        "\n",
        "- The name of the class is the name of the model component, in this case, \"Gaussian\".\n",
        "\n",
        "- The input arguments of the constructor (the `__init__` method) are the parameters of the model, in the\n",
        "  example above `centre`, `normalization` and `sigma`.\n",
        "  \n",
        "- The default values of the input arguments define whether a parameter is a single-valued `float` or a \n",
        "  multi-valued `tuple`. For the `Gaussian` class above, no input parameters are a tuple, but later examples use tuples. \n",
        "  \n",
        "- It includes functions associated with that model component, specifically the `model_data_1d_via_xvalues_from` \n",
        "  function. When we create instances of a `Gaussian` below, this is used to generate 1D representation of it as a \n",
        "  NumPy array.\n",
        "\n",
        "To compose a model using the `Gaussian` class above we use the `af.Model` object."
      ]
    },
    {
      "cell_type": "code",
      "metadata": {},
      "source": [
        "model = af.Model(Gaussian)\n",
        "print(\"Model `Gaussian` object: \\n\")\n",
        "print(model)"
      ],
      "outputs": [],
      "execution_count": null
    },
    {
      "cell_type": "markdown",
      "metadata": {},
      "source": [
        "The model has a total of 3 parameters:"
      ]
    },
    {
      "cell_type": "code",
      "metadata": {},
      "source": [
        "print(model.total_free_parameters)"
      ],
      "outputs": [],
      "execution_count": null
    },
    {
      "cell_type": "markdown",
      "metadata": {},
      "source": [
        "All model information is given by printing its `info` attribute.\n",
        "\n",
        "This includes model parameters have priors, which are described fully in tutorial 3 of this chapter.\n",
        "\n",
        "[The `info` below may not display optimally on your computer screen, for example the whitespace between parameter\n",
        "names on the left and parameter priors on the right may lead them to appear across multiple lines. This is a\n",
        "common issue in Jupyter notebooks.\n",
        "\n",
        "The`info_whitespace_length` parameter in the file `config/general.yaml` in the [output] section can be changed to \n",
        "increase or decrease the amount of whitespace (The Jupyter notebook kernel will need to be reset for this change to \n",
        "appear in a notebook).]"
      ]
    },
    {
      "cell_type": "code",
      "metadata": {},
      "source": [
        "print(model.info)"
      ],
      "outputs": [],
      "execution_count": null
    },
    {
      "cell_type": "markdown",
      "metadata": {},
      "source": [
        "__Model Mapping__\n",
        "\n",
        "Instances of model components created via the `af.Model` object can be created, where an input `vector` of\n",
        "parameters is mapped to the Python class the model object was created using.\n",
        "\n",
        "We first need to know the order of parameters in the model, so we know how to define the input `vector`. This\n",
        "information is contained in the models `paths` attribute:"
      ]
    },
    {
      "cell_type": "code",
      "metadata": {},
      "source": [
        "print(model.paths)"
      ],
      "outputs": [],
      "execution_count": null
    },
    {
      "cell_type": "markdown",
      "metadata": {},
      "source": [
        "We input values for the 3 free parameters of our model following the order of paths \n",
        "above (`centre=30.0`, `normalization=2.0` and `sigma=3.0`), creating an `instance` of the `Gaussian` via the model."
      ]
    },
    {
      "cell_type": "code",
      "metadata": {},
      "source": [
        "instance = model.instance_from_vector(vector=[30.0, 2.0, 3.0])"
      ],
      "outputs": [],
      "execution_count": null
    },
    {
      "cell_type": "markdown",
      "metadata": {},
      "source": [
        "This is an instance of the `Gaussian` class."
      ]
    },
    {
      "cell_type": "code",
      "metadata": {},
      "source": [
        "print(\"Model Instance: \\n\")\n",
        "print(instance)"
      ],
      "outputs": [],
      "execution_count": null
    },
    {
      "cell_type": "markdown",
      "metadata": {},
      "source": [
        "It has the parameters of the `Gaussian` with the values input above."
      ]
    },
    {
      "cell_type": "code",
      "metadata": {},
      "source": [
        "print(\"Instance Parameters \\n\")\n",
        "print(\"x = \", instance.centre)\n",
        "print(\"normalization = \", instance.normalization)\n",
        "print(\"sigma = \", instance.sigma)"
      ],
      "outputs": [],
      "execution_count": null
    },
    {
      "cell_type": "markdown",
      "metadata": {},
      "source": [
        "We can use functions associated with the class, specifically the `model_data_1d_via_xvalues_from` function, to \n",
        "create a realization of the `Gaussian` and plot it."
      ]
    },
    {
      "cell_type": "code",
      "metadata": {},
      "source": [
        "xvalues = np.arange(0.0, 100.0, 1.0)\n",
        "\n",
        "model_data = instance.model_data_1d_via_xvalues_from(xvalues=xvalues)\n",
        "\n",
        "plt.plot(xvalues, model_data, color=\"r\")\n",
        "plt.title(\"1D Gaussian Model Data.\")\n",
        "plt.xlabel(\"x values of profile\")\n",
        "plt.ylabel(\"Gaussian Value\")\n",
        "plt.show()\n",
        "plt.clf()"
      ],
      "outputs": [],
      "execution_count": null
    },
    {
      "cell_type": "markdown",
      "metadata": {},
      "source": [
        "__More Complex Models__\n",
        "\n",
        "The code above seemed like a lot of work just to create an instance of the `Guassian` class. Couldn't we have\n",
        "just done the following instead?\n",
        "\n",
        " `instance = Gaussian(centre=30.0, normalization=2.0, sigma=3.0)`.\n",
        " \n",
        "Yes, we could have. \n",
        "\n",
        "However, the model composition API used above is designed to make composing complex models, made of multiple \n",
        "components with many free parameters, straightforward and scalable.\n",
        "\n",
        "To illustrate this, lets end the tutorial by composing a model made of multiple Gaussians and also another 1D\n",
        "profile, an Exponential, which is defined following the equation:\n",
        "\n",
        "\\begin{equation*}\n",
        "g(x, I, \\lambda) = N \\lambda \\exp{- \\lambda x }\n",
        "\\end{equation*}\n",
        "\n",
        "Where:\n",
        "\n",
        "`x`: Is the x-axis coordinate where the `Exponential` is evaluated.\n",
        "\n",
        "`N`: Describes the overall normalization of the `Exponential`\n",
        "\n",
        "$\\lambda$: Describes the rate of decay of the exponential.\n",
        "\n",
        "We first define the `Exponential` using the same format as above. "
      ]
    },
    {
      "cell_type": "code",
      "metadata": {},
      "source": [
        "\n",
        "\n",
        "class Exponential:\n",
        "    def __init__(\n",
        "        self,\n",
        "        centre=30.0,  # <- **PyAutoFit** recognises these constructor arguments\n",
        "        normalization=1.0,  # <- are the Gaussian`s model parameters.\n",
        "        rate=0.01,\n",
        "    ):\n",
        "        \"\"\"\n",
        "        Represents a 1D Exponential profile.\n",
        "\n",
        "        This is a model-component of example models in the **HowToFit** lectures and is used to fit example datasets\n",
        "        via a non-linear search.\n",
        "\n",
        "        Parameters\n",
        "        ----------\n",
        "        centre\n",
        "            The x coordinate of the profile centre.\n",
        "        normalization\n",
        "            Overall normalization of the profile.\n",
        "        ratw\n",
        "            The decay rate controlling has fast the Exponential declines.\n",
        "        \"\"\"\n",
        "        self.centre = centre\n",
        "        self.normalization = normalization\n",
        "        self.rate = rate\n",
        "\n",
        "    def model_data_1d_via_xvalues_from(self, xvalues: np.ndarray):\n",
        "        \"\"\"\n",
        "        Returns a 1D Gaussian on an input list of Cartesian x coordinates.\n",
        "\n",
        "        The input xvalues are translated to a coordinate system centred on the Gaussian, via its `centre`.\n",
        "\n",
        "        The output is referred to as the `model_data` to signify that it is a representation of the data from the\n",
        "        model.\n",
        "\n",
        "        Parameters\n",
        "        ----------\n",
        "        xvalues\n",
        "            The x coordinates in the original reference frame of the data.\n",
        "        \"\"\"\n",
        "        transformed_xvalues = np.subtract(xvalues, self.centre)\n",
        "        return self.normalization * np.multiply(\n",
        "            self.rate, np.exp(-1.0 * self.rate * abs(transformed_xvalues))\n",
        "        )\n"
      ],
      "outputs": [],
      "execution_count": null
    },
    {
      "cell_type": "markdown",
      "metadata": {},
      "source": [
        "We can easily compose a model consisting of 1 `Gaussian` object and 1 `Exponential` object using the `af.Collection`\n",
        "object:"
      ]
    },
    {
      "cell_type": "code",
      "metadata": {},
      "source": [
        "model = af.Collection(gaussian=af.Model(Gaussian), exponential=af.Model(Exponential))"
      ],
      "outputs": [],
      "execution_count": null
    },
    {
      "cell_type": "markdown",
      "metadata": {},
      "source": [
        "All of the information about the model created via the collection can be printed at once using its `info` attribute:"
      ]
    },
    {
      "cell_type": "code",
      "metadata": {},
      "source": [
        "print(model.info)"
      ],
      "outputs": [],
      "execution_count": null
    },
    {
      "cell_type": "markdown",
      "metadata": {},
      "source": [
        "Because the `Gaussian` and `Exponential` are being passed to a `Collection` they are automatically \n",
        "assigned as `Model` objects.\n",
        "\n",
        "We can therefore omit the `af.Model` method when passing classes to a `Collection`, making the Python code more\n",
        "concise and readable."
      ]
    },
    {
      "cell_type": "code",
      "metadata": {},
      "source": [
        "model = af.Collection(gaussian=Gaussian, exponential=Exponential)"
      ],
      "outputs": [],
      "execution_count": null
    },
    {
      "cell_type": "markdown",
      "metadata": {},
      "source": [
        "The `model.info` appears identical to the previous example."
      ]
    },
    {
      "cell_type": "code",
      "metadata": {},
      "source": [
        "print(model.info)"
      ],
      "outputs": [],
      "execution_count": null
    },
    {
      "cell_type": "markdown",
      "metadata": {},
      "source": [
        "A `Collection` behaves analogous to a `Model`, but it contains a multiple model components.\n",
        "\n",
        "We can see this by printing its `paths` attribute, where paths to all 6 free parameters via both model components\n",
        "are shown.\n",
        "\n",
        "The reason the paths have the entries `.gaussian.` and `.expoential.` is becuase these are the names we input into \n",
        "the `af.Collection` object above. If you change the input from `gaussian=` to `gaussian_edited=` this will be reflected \n",
        "in the `paths` below."
      ]
    },
    {
      "cell_type": "code",
      "metadata": {},
      "source": [
        "print(model.paths)"
      ],
      "outputs": [],
      "execution_count": null
    },
    {
      "cell_type": "markdown",
      "metadata": {},
      "source": [
        "A model instance can again be created by mapping an input `vector`, which now has 6 entries."
      ]
    },
    {
      "cell_type": "code",
      "metadata": {},
      "source": [
        "instance = model.instance_from_vector(vector=[0.1, 0.2, 0.3, 0.4, 0.5, 0.01])"
      ],
      "outputs": [],
      "execution_count": null
    },
    {
      "cell_type": "markdown",
      "metadata": {},
      "source": [
        "This `instance` contains each of the model components we defined above, using the input argument name of the\n",
        "`Collection` to define the attributes in the `instance`:"
      ]
    },
    {
      "cell_type": "code",
      "metadata": {},
      "source": [
        "print(\"Instance Parameters \\n\")\n",
        "print(\"x (Gaussian) = \", instance.gaussian.centre)\n",
        "print(\"normalization (Gaussian) = \", instance.gaussian.normalization)\n",
        "print(\"sigma (Gaussian) = \", instance.gaussian.sigma)\n",
        "print(\"x (Exponential) = \", instance.exponential.centre)\n",
        "print(\"normalization (Exponential) = \", instance.exponential.normalization)\n",
        "print(\"sigma (Exponential) = \", instance.exponential.rate)"
      ],
      "outputs": [],
      "execution_count": null
    },
    {
      "cell_type": "markdown",
      "metadata": {},
      "source": [
        "In the context of the equations that define the model, the model is simply the sum of the two equations that define\n",
        "the `Gaussian` and `Exponential`.\n",
        "\n",
        "Generating the `model_data` therefore requires us to simply sum each individual model component`s `model_data`, which\n",
        "we do and visualize below."
      ]
    },
    {
      "cell_type": "code",
      "metadata": {},
      "source": [
        "xvalues = np.arange(0.0, 100.0, 1.0)\n",
        "\n",
        "model_data_0 = instance.gaussian.model_data_1d_via_xvalues_from(xvalues=xvalues)\n",
        "model_data_1 = instance.exponential.model_data_1d_via_xvalues_from(xvalues=xvalues)\n",
        "\n",
        "model_data = model_data_0 + model_data_1\n",
        "\n",
        "plt.plot(xvalues, model_data, color=\"r\")\n",
        "plt.plot(xvalues, model_data_0, \"b\", \"--\")\n",
        "plt.plot(xvalues, model_data_1, \"k\", \"--\")\n",
        "plt.title(\"1D Gaussian + Exponential Model Data.\")\n",
        "plt.xlabel(\"x values of profile\")\n",
        "plt.ylabel(\"Value\")\n",
        "plt.show()\n",
        "plt.clf()"
      ],
      "outputs": [],
      "execution_count": null
    },
    {
      "cell_type": "markdown",
      "metadata": {},
      "source": [
        "__Extensibility__\n",
        "\n",
        "It is hopefully now clear why we use `Model` and `Collection` objects to compose our model.\n",
        "\n",
        "They can easily be extended to compose complex models with many components and parameters. For example, we could\n",
        "input more `Gaussian` and `Exponential` components into the `Collection`, or we could write new Python classes\n",
        "that represent new model components with more parameters.\n",
        "\n",
        "These objects serve many other key purposes that we will cover in later tutorials, \n",
        "\n",
        "__Wrap Up__\n",
        "\n",
        "In this tutorial, we introduced how to define and compose a model, which we can generate model data from. \n",
        "\n",
        "To end, have a think about your particular field of study and the problem you are hoping to solve through \n",
        "model-fitting., What is the model you might want to fit? What Python class using the format above are requird to\n",
        "compose the right model? What are the free parameters of you model?\n",
        "\n",
        "If you decide to add a new model-component to the `autofit_workspace` specific to your model-fitting task, first\n",
        "checkout the following script, which explains how to set up the **PyAutoFit** configuration files associated with \n",
        "your model.\n",
        "\n",
        "`autofit_workspace/*/overview/new_model_component/new_model_component.ipynb`\n",
        "\n",
        "Below are two more example Python classes one might define to perform model fitting, the first is the model of a \n",
        "linear-regression line of the form $y = mx + c$ that you might fit to a 1D data-set:"
      ]
    },
    {
      "cell_type": "code",
      "metadata": {},
      "source": [
        "\n",
        "\n",
        "class LinearFit:\n",
        "    def __init__(self, gradient=1.0, intercept=0.0):\n",
        "        self.gradient = gradient\n",
        "        self.intercept = intercept\n"
      ],
      "outputs": [],
      "execution_count": null
    },
    {
      "cell_type": "markdown",
      "metadata": {},
      "source": [
        "The second example is a two-dimensional Gaussian. Here, the centre now has two coordinates (y,x), which in \n",
        "**PyAutoFit** is more suitably defined using a tuple."
      ]
    },
    {
      "cell_type": "code",
      "metadata": {},
      "source": [
        "\n",
        "\n",
        "class Gaussian2D:\n",
        "    def __init__(self, centre=(0.0, 0.0), normalization=0.1, sigma=1.0):\n",
        "        self.centre = centre\n",
        "        self.normalization = normalization\n",
        "        self.sigma = sigma\n"
      ],
      "outputs": [],
      "execution_count": null
    },
    {
      "cell_type": "markdown",
      "metadata": {},
      "source": [
        "Finish."
      ]
    },
    {
      "cell_type": "code",
      "metadata": {},
      "source": [],
      "outputs": [],
      "execution_count": null
    }
  ],
  "metadata": {
    "anaconda-cloud": {},
    "kernelspec": {
      "display_name": "Python 3",
      "language": "python",
      "name": "python3"
    },
    "language_info": {
      "codemirror_mode": {
        "name": "ipython",
        "version": 3
      },
      "file_extension": ".py",
      "mimetype": "text/x-python",
      "name": "python",
      "nbconvert_exporter": "python",
      "pygments_lexer": "ipython3",
      "version": "3.6.1"
    }
  },
  "nbformat": 4,
  "nbformat_minor": 4
}