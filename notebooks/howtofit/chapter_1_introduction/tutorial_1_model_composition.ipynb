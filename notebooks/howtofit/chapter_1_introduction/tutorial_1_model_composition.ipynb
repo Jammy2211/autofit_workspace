{
  "cells": [
    {
      "cell_type": "markdown",
      "metadata": {},
      "source": [
        "Tutorial 1: Model Composition\n",
        "=============================\n",
        "\n",
        "In this tutorial, we'll compose a simple model and show how **PyAutoFit** allows us to generate instances of the model,\n",
        "which will allow us to fit the model to data in later tutorials."
      ]
    },
    {
      "cell_type": "code",
      "metadata": {},
      "source": [
        "import autofit as af\n",
        "import numpy as np\n",
        "import matplotlib.pyplot as plt"
      ],
      "outputs": [],
      "execution_count": null
    },
    {
      "cell_type": "markdown",
      "metadata": {},
      "source": [
        "__Paths__\n",
        "\n",
        "**PyAutoFit** assumes the current working directory is `/path/to/autofit_workspace/` on your hard-disk (or in Binder). \n",
        "This is so that it can:\n",
        " \n",
        " - Load configuration settings from config files in the `autofit_workspace/config` folder.\n",
        " - Load example data from the `autofit_workspace/dataset` folder.\n",
        " - Output the results of models fits to your hard-disk to the `autofit/output` folder. \n",
        "\n",
        "If you don't have an autofit_workspace (perhaps you cloned / forked the **PyAutoFit** GitHub repository?) you can\n",
        "download it here:\n",
        " \n",
        " https://github.com/Jammy2211/autofit_workspace\n",
        "\n",
        "At the top of every tutorial notebook, you'll see the following cell. This cell uses the project `pyprojroot` to\n",
        "locate the path to the workspace on your computer and use it to set the working directory of the notebook."
      ]
    },
    {
      "cell_type": "code",
      "metadata": {},
      "source": [
        "%matplotlib inline\n",
        "from pyprojroot import here\n",
        "workspace_path = str(here())\n",
        "%cd $workspace_path\n",
        "print(f\"Working Directory has been set to `{workspace_path}`\")\n",
        "\n",
        "from os import path"
      ],
      "outputs": [],
      "execution_count": null
    },
    {
      "cell_type": "markdown",
      "metadata": {},
      "source": [
        "__Data__\n",
        "\n",
        "Throughout these tutorials we will fit noisy 1D data containing a signal, where the signal was generated using a \n",
        "Gaussian. \n",
        "\n",
        "These are loaded from .json files, where:\n",
        "\n",
        " - The data is a 1D numpy array of values corresponding to the observed counts of the Gaussian.\n",
        " - The noise-map corresponds to the expected noise value in every data point.\n",
        " \n",
        "These datasets were created using the scripts in `autofit_workspace/howtofit/simulators`, feel free to check them out!"
      ]
    },
    {
      "cell_type": "code",
      "metadata": {},
      "source": [
        "dataset_path = path.join(\"dataset\", \"example_1d\", \"gaussian_x1\")\n",
        "\n",
        "data = af.util.numpy_array_from_json(file_path=path.join(dataset_path, \"data.json\"))\n",
        "noise_map = af.util.numpy_array_from_json(\n",
        "    file_path=path.join(dataset_path, \"noise_map.json\")\n",
        ")"
      ],
      "outputs": [],
      "execution_count": null
    },
    {
      "cell_type": "markdown",
      "metadata": {},
      "source": [
        "Lets plot the `Gaussian` via Matplotlib. \n",
        "\n",
        "The 1D signal is observed on a line of uniformly spaced xvalues, which we'll compute using the shape of the data and \n",
        "plot as the x-axis. "
      ]
    },
    {
      "cell_type": "code",
      "metadata": {},
      "source": [
        "xvalues = np.arange(data.shape[0])\n",
        "plt.plot(xvalues, data, color=\"k\")\n",
        "plt.title(\"1D Gaussian dataset.\")\n",
        "plt.xlabel(\"x values of profile\")\n",
        "plt.ylabel(\"Signal Normalization\")\n",
        "plt.show()"
      ],
      "outputs": [],
      "execution_count": null
    },
    {
      "cell_type": "markdown",
      "metadata": {},
      "source": [
        "We can also plot its `noise_map` (which in this example are all constant values) as a standalone 1D plot or\n",
        "as error bars on the `data`."
      ]
    },
    {
      "cell_type": "code",
      "metadata": {},
      "source": [
        "plt.plot(xvalues, noise_map, color=\"k\")\n",
        "plt.title(\"Noise-map\")\n",
        "plt.xlabel(\"x values of noise-map\")\n",
        "plt.ylabel(\"Noise-map value (Root mean square error)\")\n",
        "plt.show()\n",
        "\n",
        "plt.errorbar(\n",
        "    xvalues, data, yerr=noise_map, color=\"k\", ecolor=\"k\", elinewidth=1, capsize=2\n",
        ")\n",
        "plt.title(\"1D Gaussian dataset with errors from the noise-map.\")\n",
        "plt.xlabel(\"x values of profile\")\n",
        "plt.ylabel(\"Profile Normalization\")\n",
        "plt.show()"
      ],
      "outputs": [],
      "execution_count": null
    },
    {
      "cell_type": "markdown",
      "metadata": {},
      "source": [
        "__Model Parameterization__\n",
        "\n",
        "We now wish to define a model that can fit the signal in this data. \n",
        "\n",
        "What model could fit this data? The obvious choice is a one-dimensional `Gaussian` defined as:\n",
        "\n",
        "\\begin{equation*}\n",
        "g(x, I, \\sigma) = \\frac{N}{\\sigma\\sqrt{2\\pi}} \\exp{(-0.5 (x / \\sigma)^2)}\n",
        "\\end{equation*}\n",
        "\n",
        "Where:\n",
        "\n",
        "x - Is an x-axis coordinate where the `Gaussian` is evaluated.\n",
        "N - Describes the overall normalization of the Gaussian.\n",
        "$\\sigma$ - Describes the size of the Gaussian.\n",
        "\n",
        "This simple equation describes our model, a 1D `Gaussian`, and it has 3 parameters, $(x, N, \\sigma)$. Using different\n",
        "values of these 3 parameters we can create a realization of any 1D Gaussian.\n",
        "\n",
        "__Model Composition__\n",
        "\n",
        "We now compose the 1D `Gaussian` above as a model in **PyAutoFit**. \n",
        "\n",
        "First, we write a Python class as follows:"
      ]
    },
    {
      "cell_type": "code",
      "metadata": {},
      "source": [
        "\n",
        "\n",
        "class Gaussian:\n",
        "    def __init__(\n",
        "        self,\n",
        "        centre=30.0,  # <- **PyAutoFit** recognises these constructor arguments\n",
        "        normalization=1.0,  # <- are the Gaussian`s model parameters.\n",
        "        sigma=5.0,\n",
        "    ):\n",
        "        self.centre = centre\n",
        "        self.normalization = normalization\n",
        "        self.sigma = sigma\n",
        "\n",
        "    def model_data_1d_via_xvalues_from(self, xvalues: np.ndarray):\n",
        "        \"\"\"\n",
        "        Calculate the normalization of the light profile on a line of Cartesian x coordinates.\n",
        "\n",
        "        The input xvalues are translated to a coordinate system centred on the Gaussian, using its centre.\n",
        "\n",
        "        Parameters\n",
        "        ----------\n",
        "        xvalues\n",
        "            The x coordinates in the original reference frame of the data.\n",
        "        \"\"\"\n",
        "        transformed_xvalues = np.subtract(xvalues, self.centre)\n",
        "        return np.multiply(\n",
        "            np.divide(self.normalization, self.sigma * np.sqrt(2.0 * np.pi)),\n",
        "            np.exp(-0.5 * np.square(np.divide(transformed_xvalues, self.sigma))),\n",
        "        )\n"
      ],
      "outputs": [],
      "execution_count": null
    },
    {
      "cell_type": "markdown",
      "metadata": {},
      "source": [
        "The format of this Python class defines how **PyAutoFit** will compose it as a model, where:\n",
        "\n",
        "- The name of the class is the name of the model component, in this case, \"Gaussian\".\n",
        "\n",
        "- The input arguments of the constructor are the parameters of the model, which we will vary when we fit it to our\n",
        " data. In this case, the free parameters are `centre`, `normalization` and `sigma`.\n",
        "  \n",
        "- The default values of the input arguments tell **PyAutoFit** whether a parameter is a single-valued `float` or a \n",
        "  multi-valued `tuple`. For the `Gaussian` class, no input parameters are a tuple and we will show an example of a \n",
        "  tuple  input in a later tutorial). \n",
        "  \n",
        "- It includes functions associated with that model component, for example the `model_data_1d_via_xvalues_from` function, which\n",
        "  allows an instance of a `Gaussian` to create its 1D representation as a NumPy array.\n",
        "\n",
        "To compose the model using the `Gaussian` class above we use the **PyAutoFit** `Model` object."
      ]
    },
    {
      "cell_type": "code",
      "metadata": {},
      "source": [
        "model = af.Model(Gaussian)\n",
        "print(\"Model `Gaussian` object: \\n\")\n",
        "print(model)"
      ],
      "outputs": [],
      "execution_count": null
    },
    {
      "cell_type": "markdown",
      "metadata": {},
      "source": [
        "We can inspect the model to note that it indeed has a total of 3 parameters (why this is called `prior_count` will be\n",
        "explained in tutorial 3):"
      ]
    },
    {
      "cell_type": "code",
      "metadata": {},
      "source": [
        "print(model.prior_count)"
      ],
      "outputs": [],
      "execution_count": null
    },
    {
      "cell_type": "markdown",
      "metadata": {},
      "source": [
        "All of the information about the model can be printed at once using its `info` attribute:"
      ]
    },
    {
      "cell_type": "code",
      "metadata": {},
      "source": [
        "print(model.info)"
      ],
      "outputs": [],
      "execution_count": null
    },
    {
      "cell_type": "markdown",
      "metadata": {},
      "source": [
        "__Model Mapping__\n",
        "\n",
        "At the core of **PyAutoFit** is how it map Python classes that are set up via the `Model` object to instances of\n",
        "that Python classes, where the values of its parameters are set during this mapping. \n",
        "\n",
        "For example, we below create an `instance` of the model, by mapping a list of physical values of each parameter as \n",
        "follows."
      ]
    },
    {
      "cell_type": "code",
      "metadata": {},
      "source": [
        "instance = model.instance_from_vector(vector=[30.0, 2.0, 3.0])"
      ],
      "outputs": [],
      "execution_count": null
    },
    {
      "cell_type": "markdown",
      "metadata": {},
      "source": [
        "This is an instance of the `Gaussian` class."
      ]
    },
    {
      "cell_type": "code",
      "metadata": {},
      "source": [
        "print(\"Model Instance: \\n\")\n",
        "print(instance)"
      ],
      "outputs": [],
      "execution_count": null
    },
    {
      "cell_type": "markdown",
      "metadata": {},
      "source": [
        "It has the parameters of the `Gaussian` with the values input above."
      ]
    },
    {
      "cell_type": "code",
      "metadata": {},
      "source": [
        "print(\"Instance Parameters \\n\")\n",
        "print(\"x = \", instance.centre)\n",
        "print(\"normalization = \", instance.normalization)\n",
        "print(\"sigma = \", instance.sigma)"
      ],
      "outputs": [],
      "execution_count": null
    },
    {
      "cell_type": "markdown",
      "metadata": {},
      "source": [
        "We can use the functions associated with this class, specifically the `model_data_1d_via_xvalues_from` function, to create a \n",
        "realization of the Gaussian and plot it."
      ]
    },
    {
      "cell_type": "code",
      "metadata": {},
      "source": [
        "realization = instance.model_data_1d_via_xvalues_from(xvalues=xvalues)\n",
        "\n",
        "plt.plot(xvalues, realization, color=\"r\")\n",
        "plt.title(\"1D Gaussian Realization.\")\n",
        "plt.xlabel(\"x values of profile\")\n",
        "plt.ylabel(\"Profile Normalization\")\n",
        "plt.show()\n",
        "plt.clf()"
      ],
      "outputs": [],
      "execution_count": null
    },
    {
      "cell_type": "markdown",
      "metadata": {},
      "source": [
        "__Discussion__\n",
        "\n",
        "Whilst the simple example above is informative, it may be somewhat underwhelming. Afterall, how difficult would it \n",
        "have been to write Python code that defines this `Gaussian` with those values yourself? Why bother setting up the\n",
        "`Gaussian` as a `Model` and using the `model.instance_from_vector` command when you could of just set up an instance\n",
        "of the Gaussian by passing it the parameters manually yourself, e.g.:\n",
        "\n",
        "`instance = Gaussian(centre=30.0, normalization=2.0, sigma=3.0)`\n",
        "\n",
        "The reason, is because model composition and mapping get very complicated very quickly. In tutorial 3, we'll introduce \n",
        "priors, which also need to be fully for when performing model mapping. Later tutorials will compose models with 10+ \n",
        "parameters, which require high levels of customization in their parameterization. At the end of chapter 1 we'll use \n",
        "**PyAutoFit** to build multi-level models from hierarchies of Python classes that potentially comprise hundreds of \n",
        "parameters!\n",
        "\n",
        "Therefore, things might seem somewhat and unnecessary right now, but the tools we're covering now will enable very \n",
        "complex models to be composed, mapped and fitted by the end of this chapter! \n",
        "\n",
        "__Wrap Up__\n",
        "\n",
        "In this tutorial, we introduced how to parameterize and compose a model and define priors for each of its parameters.\n",
        "This used Python classes and allowed us to map input values to instances of this Python class. Nothing we've introduced \n",
        "in this tutorial was particularly remarkable, but it has presented us with the core interface we'll use to do advanced\n",
        "model fitting in later tutorials. \n",
        "\n",
        "Finally, quickly think about a model you might want to fit. How would you write it as a Python class using the format \n",
        "above? What are the free parameters of you model? Are there multiple model components you are going to want to fit to \n",
        "your data data?\n",
        "\n",
        "If you decide to add a new model-component to the `autofit_workspace` specific to your model-fitting task, first\n",
        "checkout the following script, which explains how to set up the **PyAutoFit** configuration files associated with \n",
        "your model.\n",
        "\n",
        "`autofit_workspace/*/overview/new_model_component/new_model_component.ipynb`\n",
        "\n",
        "Below are two more example Python classes one might define to perform model fitting, the first is the model of a \n",
        "linear-regression line of the form $y = mx + c$ that you might fit to a 1D data-set:"
      ]
    },
    {
      "cell_type": "code",
      "metadata": {},
      "source": [
        "\n",
        "\n",
        "class LinearFit:\n",
        "    def __init__(self, gradient=1.0, intercept=0.0):\n",
        "        self.gradient = gradient\n",
        "        self.intercept = intercept\n"
      ],
      "outputs": [],
      "execution_count": null
    },
    {
      "cell_type": "markdown",
      "metadata": {},
      "source": [
        "The second example is a two-dimensional Gaussian. Here, the centre now has two coordinates (y,x), which in \n",
        "**PyAutoFit** is more suitably defined using a tuple."
      ]
    },
    {
      "cell_type": "code",
      "metadata": {},
      "source": [
        "\n",
        "\n",
        "class Gaussian2D:\n",
        "    def __init__(self, centre=(0.0, 0.0), normalization=0.1, sigma=1.0):\n",
        "        self.centre = centre\n",
        "        self.normalization = normalization\n",
        "        self.sigma = sigma\n"
      ],
      "outputs": [],
      "execution_count": null
    }
  ],
  "metadata": {
    "anaconda-cloud": {},
    "kernelspec": {
      "display_name": "Python 3",
      "language": "python",
      "name": "python3"
    },
    "language_info": {
      "codemirror_mode": {
        "name": "ipython",
        "version": 3
      },
      "file_extension": ".py",
      "mimetype": "text/x-python",
      "name": "python",
      "nbconvert_exporter": "python",
      "pygments_lexer": "ipython3",
      "version": "3.6.1"
    }
  },
  "nbformat": 4,
  "nbformat_minor": 4
}