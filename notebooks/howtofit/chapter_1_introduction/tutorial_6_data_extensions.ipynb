{
  "cells": [
    {
      "cell_type": "markdown",
      "metadata": {},
      "source": [
        "Tutorial 6: Data Extensions\n",
        "===========================\n",
        "\n",
        "In the previous tutorial we illustrated how we can compose and fit complex models in PyAutoFit. We had full\n",
        "customization of the model we composed, how it was fitted as well as options on how to visualization its results.\n",
        "\n",
        "In this tutorial, we'll demonstrate how the `Analysis` class can be easily extended for problems with a dataset that is\n",
        "more complicated than some `data` and a `noise_map`. I suspect your model-fitting problem's dataset consists of many\n",
        "more components than just the data itself and the noise-map, so lets look at how we would incorporate them into\n",
        "**PyAutoFit**!\n",
        "\n",
        "To illustrate this, we will stick to our toy-model of fitting 1D datasets. However, we will now suppose that when we\n",
        "acquired this data it underwent a process that effectively convolved it with a kernel of some description. Lets\n",
        "take a look at such a dataset:"
      ]
    },
    {
      "cell_type": "code",
      "metadata": {},
      "source": [
        "%matplotlib inline\n",
        "from pyprojroot import here\n",
        "workspace_path = str(here())\n",
        "%cd $workspace_path\n",
        "print(f\"Working Directory has been set to `{workspace_path}`\")\n",
        "\n",
        "import autofit as af\n",
        "import os\n",
        "from os import path\n",
        "import numpy as np\n",
        "import matplotlib.pyplot as plt"
      ],
      "outputs": [],
      "execution_count": null
    },
    {
      "cell_type": "markdown",
      "metadata": {},
      "source": [
        "Load the dataset from the `autofit_workspace/dataset` folder. \n",
        "\n",
        "We also load the unblurred `Gaussian` for comparison."
      ]
    },
    {
      "cell_type": "code",
      "metadata": {},
      "source": [
        "dataset_convolved_path = path.join(\"dataset\", \"example_1d\", \"gaussian_x1_convolved\")\n",
        "data_convolved = af.util.numpy_array_from_json(\n",
        "    file_path=path.join(dataset_convolved_path, \"data.json\")\n",
        ")\n",
        "noise_map_convolved = af.util.numpy_array_from_json(\n",
        "    file_path=path.join(dataset_convolved_path, \"noise_map.json\")\n",
        ")\n",
        "\n",
        "dataset_unconvolved_path = path.join(\"dataset\", \"example_1d\", \"gaussian_x1_unconvolved\")\n",
        "data_unconvolved = af.util.numpy_array_from_json(\n",
        "    file_path=path.join(dataset_unconvolved_path, \"data.json\")\n",
        ")\n",
        "noise_map_unconvolved = af.util.numpy_array_from_json(\n",
        "    file_path=path.join(dataset_unconvolved_path, \"noise_map.json\")\n",
        ")"
      ],
      "outputs": [],
      "execution_count": null
    },
    {
      "cell_type": "markdown",
      "metadata": {},
      "source": [
        "Now lets plot the convolved and unconvolved datasets.\n",
        " \n",
        "To do this we use the `plot_line` convenience method fom the previous tutorial, but extend it to plot two p."
      ]
    },
    {
      "cell_type": "code",
      "metadata": {},
      "source": [
        "\n",
        "\n",
        "def plot_lines(\n",
        "    xvalues, line_0, line_1, errors_0=None, errors_1=None, title=None, ylabel=None\n",
        "):\n",
        "\n",
        "    plt.errorbar(\n",
        "        x=xvalues,\n",
        "        y=line_0,\n",
        "        yerr=errors_0,\n",
        "        color=\"k\",\n",
        "        ecolor=\"k\",\n",
        "        elinewidth=1,\n",
        "        capsize=2,\n",
        "    )\n",
        "    plt.errorbar(\n",
        "        x=xvalues,\n",
        "        y=line_1,\n",
        "        yerr=errors_1,\n",
        "        color=\"b\",\n",
        "        ecolor=\"b\",\n",
        "        elinewidth=1,\n",
        "        capsize=2,\n",
        "    )\n",
        "    plt.title(title)\n",
        "    plt.xlabel(\"x value of profile\")\n",
        "    plt.ylabel(ylabel)\n",
        "    plt.show()\n",
        "    plt.clf()\n",
        "\n",
        "\n",
        "xvalues = np.arange(data_convolved.shape[0])\n",
        "\n",
        "plot_lines(\n",
        "    xvalues=xvalues,\n",
        "    line_0=data_convolved,\n",
        "    line_1=data_unconvolved,\n",
        "    errors_0=noise_map_convolved,\n",
        "    errors_1=noise_map_unconvolved,\n",
        "    title=\"Data\",\n",
        "    ylabel=\"Data\",\n",
        ")"
      ],
      "outputs": [],
      "execution_count": null
    },
    {
      "cell_type": "markdown",
      "metadata": {},
      "source": [
        "Finish."
      ]
    },
    {
      "cell_type": "code",
      "metadata": {},
      "source": [],
      "outputs": [],
      "execution_count": null
    }
  ],
  "metadata": {
    "anaconda-cloud": {},
    "kernelspec": {
      "display_name": "Python 3",
      "language": "python",
      "name": "python3"
    },
    "language_info": {
      "codemirror_mode": {
        "name": "ipython",
        "version": 3
      },
      "file_extension": ".py",
      "mimetype": "text/x-python",
      "name": "python",
      "nbconvert_exporter": "python",
      "pygments_lexer": "ipython3",
      "version": "3.6.1"
    }
  },
  "nbformat": 4,
  "nbformat_minor": 4
}