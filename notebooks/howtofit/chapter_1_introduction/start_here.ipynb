{
  "cells": [
    {
      "cell_type": "markdown",
      "metadata": {},
      "source": [
        "HowToFit Lectures\n",
        "=================\n",
        "\n",
        "Welcome to the HowToFit Jupyter Notebook lectures!\n",
        "\n",
        "At the core of data science is fitting a model to data. This process extracts meaningful patterns, relationships,\n",
        "and insights, enabling accurate predictions, decision-making, and understanding of underlying processes.\n",
        "\n",
        "However, data science can be quite challenging. With a vast array of statistical methods to choose from, it can be\n",
        "difficult to determine the right one for your problem. Interpreting large volumes of results is complex, and managing big datasets requires significant computational power and sophisticated statistical methods.\n",
        "\n",
        "The HowToFit lectures teach you how to perform effective data science analysis. Designed at an undergraduate level,\n",
        "these lectures assume no prior knowledge of model-fitting, Bayesian statistics, or scientific analysis. They\n",
        "introduce core concepts without formal statistical equations, aiming to provide an understanding of the\n",
        "phenomenological methods used in data science. By the end of the lectures, you'll be equipped to perform your own\n",
        "data analysis.\n",
        "\n",
        "The lectures use the probabilistic programming language PyAutoFit, an open-source library for model-fitting,\n",
        "scientific analysis, and big data analysis (https://github.com/rhayes777/PyAutoFit).\n",
        "\n",
        "The HowToFit lectures are composed of 3 chapters:\n",
        "\n",
        "**Chapter 1: Introduction**: How to fit a model to data, perform statistical inference, and interpret the results\n",
        "for scientific analysis.\n",
        "\n",
        "**Chapter 2: Scientific Workflow**: Scaling model-fitting to big datasets while ensuring detailed scientific analysis\n",
        "of the results.\n",
        "\n",
        "**Chapter 3: Graphical Models**: Simultaneous model fitting of large datasets, scaling up to models with tens of\n",
        "thousands of parameters.\n",
        "\n",
        "After each chapter, it is advised that you apply what you've learned to your own model-fitting analysis based on\n",
        "your scientific problem to build confidence in the techniques. Once confident, proceed to the next chapter.\n",
        "\n",
        "__Chapter 1: Introduction__\n",
        "\n",
        "The first chapter of the HowToFit lectures covers the basics of model-fitting, statistical inference, and scientific\n",
        "interpretation. The chapter includes:\n",
        "\n",
        "`tutorial_1_models.py`: What probabilistic models are and how to compose them using PyAutoFit.\n",
        "\n",
        "`tutorial_2_fitting_data.py`: Fitting a model with an input set of parameters to data and quantifying the goodness of fit.\n",
        "\n",
        "`tutorial_3_non_linear_search.py`: Searching non-linear parameter spaces to find the best-fit model.\n",
        "\n",
        "`tutorial_4_why_modeling_is_hard.py`: Why modeling becomes difficult and how to over model-fitting problems.\n",
        "\n",
        "`tutorial_5_results_and_samples.py`: Interpreting model-fit results and using the samples for scientific analysis.\n",
        "\n",
        "`tutorial_8_astronomy_examples.py`: Applying the techniques to a real-world astronomy problem."
      ]
    },
    {
      "cell_type": "code",
      "metadata": {},
      "source": [],
      "outputs": [],
      "execution_count": null
    }
  ],
  "metadata": {
    "anaconda-cloud": {},
    "kernelspec": {
      "display_name": "Python 3",
      "language": "python",
      "name": "python3"
    },
    "language_info": {
      "codemirror_mode": {
        "name": "ipython",
        "version": 3
      },
      "file_extension": ".py",
      "mimetype": "text/x-python",
      "name": "python",
      "nbconvert_exporter": "python",
      "pygments_lexer": "ipython3",
      "version": "3.6.1"
    }
  },
  "nbformat": 4,
  "nbformat_minor": 4
}