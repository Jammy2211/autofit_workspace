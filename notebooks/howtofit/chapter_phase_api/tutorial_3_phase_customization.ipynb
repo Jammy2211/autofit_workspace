{
 "cells": [
  {
   "cell_type": "markdown",
   "metadata": {},
   "source": [
    "Tutorial 3: Phase Customization\n",
    "===============================\n",
    "\n",
    "In this tutorial, we're going to use the `Settings` object of our `Phase` object to customize the analysis. we'll use\n",
    "the specific example of two input parameters that trim our `Dataset` from the left and right before fitting it. This\n",
    "example is somewhat trivial, but it will serve to illustrate `Phase` settings and customization.\n",
    "\n",
    "When we customize a `Phase`, we'll use `SettingsPhase` to perform `tagging`. Here, we `tag` the output\n",
    "path of the `Phase`'s `Result`'s, such that every time a `Phase` is run with a different customization a new set of\n",
    "unique `Result`'s are stored for those `PhaseSetting`'s. For a given `Dataset` we are thus able to fit it multiple\n",
    "times using different settings to compare the results.\n",
    "\n",
    "These new features have led to an additional module in the `phase` package called `settings.py`, as well as extensions\n",
    "to the `dataset.py` module. Before looking at these modules, lets first perform a series of `Emcee` fits to see how\n",
    "they change the behaviour of **PyAutoFit**."
   ]
  },
  {
   "cell_type": "code",
   "execution_count": 1,
   "metadata": {
    "execution": {
     "iopub.execute_input": "2021-03-06T13:38:03.794494Z",
     "iopub.status.busy": "2021-03-06T13:38:03.794125Z",
     "iopub.status.idle": "2021-03-06T13:38:04.054456Z",
     "shell.execute_reply": "2021-03-06T13:38:04.054714Z"
    }
   },
   "outputs": [
    {
     "name": "stdout",
     "output_type": "stream",
     "text": [
      "/mnt/c/Users/Jammy/Code/PyAuto/autofit_workspace\n",
      "Working Directory has been set to `/mnt/c/Users/Jammy/Code/PyAuto/autofit_workspace`\n"
     ]
    }
   ],
   "source": [
    "%matplotlib inline\n",
    "from pyprojroot import here\n",
    "\n",
    "workspace_path = str(here())\n",
    "%cd $workspace_path\n",
    "print(f\"Working Directory has been set to `{workspace_path}`\")"
   ]
  },
  {
   "cell_type": "markdown",
   "metadata": {},
   "source": [
    "We again need to tell PyAutoFit where the project config files are."
   ]
  },
  {
   "cell_type": "code",
   "execution_count": 2,
   "metadata": {
    "execution": {
     "iopub.execute_input": "2021-03-06T13:38:04.057422Z",
     "iopub.status.busy": "2021-03-06T13:38:04.057038Z",
     "iopub.status.idle": "2021-03-06T13:38:04.720649Z",
     "shell.execute_reply": "2021-03-06T13:38:04.720146Z"
    }
   },
   "outputs": [],
   "source": [
    "from os import path\n",
    "from autoconf import conf\n",
    "\n",
    "conf.instance.push(\n",
    "    new_path=path.join(workspace_path, \"howtofit\", \"chapter_phase_api\", \"src\", \"config\")\n",
    ")\n",
    "\n",
    "import autofit as af\n",
    "\n",
    "import src as htf"
   ]
  },
  {
   "cell_type": "markdown",
   "metadata": {},
   "source": [
    "We're now going to perform multiple fits, where each fit trims the `Dataset` that is fitted.\n",
    "\n",
    "To do this, we'll set up `Phase`'s using a new class called `SettingsDataset`, which contains the settings that \n",
    "customize how a `Dataset` is created. This has two inputs, `data_trim_left` and `data_trim_right`:\n",
    "\n",
    "- `data_trim_left`:\n",
    "\n",
    "  The `Dataset`'s `image` and `noise_map` are trimmed and removed from the left (e.g. 1d index values from 0).\n",
    "  \n",
    "  For example, if the `Dataset` has shape (100,) and we set `data_trim_left=10`, the `Dataset` that is fitted \n",
    "  will have shape (90,). The `mask` is trimmed in the same way.\n",
    "\n",
    "- `data_trim_right`:\n",
    "\n",
    "  This behaves the same as `data_trim_left`, however `data` is removed from the right (e.g. 1D index values from the\n",
    "  shape[0] value of the 1D data).\n",
    "\n",
    "For our first phase, we will omit both of these settings (by passing them as `None`) and perform the fit using a \n",
    "single `Gaussian` profile."
   ]
  },
  {
   "cell_type": "code",
   "execution_count": 3,
   "metadata": {
    "execution": {
     "iopub.execute_input": "2021-03-06T13:38:04.724288Z",
     "iopub.status.busy": "2021-03-06T13:38:04.723954Z",
     "iopub.status.idle": "2021-03-06T13:38:04.734730Z",
     "shell.execute_reply": "2021-03-06T13:38:04.734946Z"
    }
   },
   "outputs": [],
   "source": [
    "settings_dataset = htf.SettingsDataset(data_trim_left=None, data_trim_right=None)\n",
    "\n",
    "settings = htf.SettingsPhase(settings_dataset=settings_dataset)\n",
    "\n",
    "phase = htf.Phase(\n",
    "    search=af.Emcee(\n",
    "        path_prefix=path.join(\"howtofit\"), name=\"phase_tutorial_3_customization\"\n",
    "    ),\n",
    "    settings=settings,\n",
    "    profiles=af.CollectionPriorModel(gaussian=htf.Gaussian),\n",
    ")"
   ]
  },
  {
   "cell_type": "markdown",
   "metadata": {},
   "source": [
    "Set up the`Dataset`."
   ]
  },
  {
   "cell_type": "code",
   "execution_count": 4,
   "metadata": {
    "execution": {
     "iopub.execute_input": "2021-03-06T13:38:04.737682Z",
     "iopub.status.busy": "2021-03-06T13:38:04.737360Z",
     "iopub.status.idle": "2021-03-06T13:38:06.389213Z",
     "shell.execute_reply": "2021-03-06T13:38:06.388909Z"
    }
   },
   "outputs": [
    {
     "name": "stderr",
     "output_type": "stream",
     "text": [
      "INFO:root:phase_tutorial_3_customization already completed, skipping non-linear search.\n"
     ]
    },
    {
     "name": "stdout",
     "output_type": "stream",
     "text": [
      "Emcee has begun running, checkout:\n",
      " autofit_workspace/output/howtofit/chapter_phase_api/phase_t3\n",
      "for live output of the results.\n",
      "This Jupyter notebook cell with progress once Emcee has completed - this could take a few minutes!\n",
      "\n",
      "Emcee has finished run - you may now continue the notebook.\n"
     ]
    }
   ],
   "source": [
    "dataset_path = path.join(\"dataset\", \"example_1d\", \"gaussian_x1\")\n",
    "data = af.util.numpy_array_from_json(file_path=path.join(dataset_path, \"data.json\"))\n",
    "noise_map = af.util.numpy_array_from_json(\n",
    "    file_path=path.join(dataset_path, \"noise_map.json\")\n",
    ")\n",
    "\n",
    "dataset = htf.Dataset(data=data, noise_map=noise_map)\n",
    "\n",
    "print(\n",
    "    \"Emcee has begun running, checkout:\\n \"\n",
    "    \"autofit_workspace/output/howtofit/chapter_phase_api/phase_t3\\n\"\n",
    "    \"for live output of the results.\\n\"\n",
    "    \"This Jupyter notebook cell with progress once Emcee has completed - this could take a few minutes!\\n\"\n",
    ")\n",
    "\n",
    "phase.run(dataset=dataset)\n",
    "\n",
    "print(\"Emcee has finished run - you may now continue the notebook.\")"
   ]
  },
  {
   "cell_type": "markdown",
   "metadata": {},
   "source": [
    "Okay, what happened differently in this `Phase`? To begin, lets note the output directory:\n",
    "\n",
    "`autofit_workspace/output/howtofit/chapter_phase_api/phase_t3/settings`\n",
    "\n",
    "There is a small change to this directory compared to chapter 1, there is a new folder `settings` within which the\n",
    "results are stored. It`ll be clear why this is in a moment.\n",
    "\n",
    "Next, we're going to customize and run a phase using the `data_trim_left` and `data_trim_right` parameters. First, we \n",
    "create a `SettingsDataset` and `SettingsPhase` object using our input values of these parameters. "
   ]
  },
  {
   "cell_type": "code",
   "execution_count": 5,
   "metadata": {
    "execution": {
     "iopub.execute_input": "2021-03-06T13:38:06.391722Z",
     "iopub.status.busy": "2021-03-06T13:38:06.391396Z",
     "iopub.status.idle": "2021-03-06T13:38:06.393288Z",
     "shell.execute_reply": "2021-03-06T13:38:06.393539Z"
    }
   },
   "outputs": [],
   "source": [
    "settings_dataset = htf.SettingsDataset(data_trim_left=20, data_trim_right=30)\n",
    "\n",
    "settings = htf.SettingsPhase(settings_dataset=settings_dataset)"
   ]
  },
  {
   "cell_type": "markdown",
   "metadata": {},
   "source": [
    "We now create a new `Phase` with these settings and run it (note that we haven't changed the `name` from \n",
    "`phase_t3`, which you might think would cause conflicts in the path the results are output to)."
   ]
  },
  {
   "cell_type": "code",
   "execution_count": 6,
   "metadata": {
    "execution": {
     "iopub.execute_input": "2021-03-06T13:38:06.396258Z",
     "iopub.status.busy": "2021-03-06T13:38:06.395953Z",
     "iopub.status.idle": "2021-03-06T13:38:08.261350Z",
     "shell.execute_reply": "2021-03-06T13:38:08.261605Z"
    }
   },
   "outputs": [
    {
     "name": "stderr",
     "output_type": "stream",
     "text": [
      "INFO:root:phase_tutorial_3_customization already completed, skipping non-linear search.\n"
     ]
    },
    {
     "name": "stdout",
     "output_type": "stream",
     "text": [
      "Emcee has begun running, checkout:\n",
      " autofit_workspace/output/howtofit/chapter_phase_api/phase_t3\n",
      "for live output of the results.\n",
      "This Jupyter notebook cell with progress once Emcee has completed - this could take a few minutes!\n",
      "\n",
      "Emcee has finished run - you may now continue the notebook.\n"
     ]
    }
   ],
   "source": [
    "phase = htf.Phase(\n",
    "    search=af.Emcee(\n",
    "        path_prefix=path.join(\"howtofit\"), name=\"phase_tutorial_3_customization\"\n",
    "    ),\n",
    "    settings=settings,\n",
    "    profiles=af.CollectionPriorModel(gaussian=htf.Gaussian),\n",
    ")\n",
    "\n",
    "print(\n",
    "    \"Emcee has begun running, checkout:\\n \"\n",
    "    \"autofit_workspace/output/howtofit/chapter_phase_api/phase_t3\\n\"\n",
    "    \"for live output of the results.\\n\"\n",
    "    \"This Jupyter notebook cell with progress once Emcee has completed - this could take a few minutes!\\n\"\n",
    ")\n",
    "\n",
    "phase.run(dataset=dataset)\n",
    "\n",
    "print(\"Emcee has finished run - you may now continue the notebook.\")"
   ]
  },
  {
   "cell_type": "markdown",
   "metadata": {},
   "source": [
    "You'll note the results are now in a slightly different directory to the fit performed above:\n",
    "\n",
    " `autofit_workspace/output/howtofit/chapter_phase_api/phase_t3/settings__dataset[trim_left_20__trim_right_30]`\n",
    "\n",
    "By customizing the `PhaseSetting`'s, **PyAutoFit** has changed the output path using a `tag`. There are two reasons \n",
    "**PyAutoFit** does this:\n",
    "\n",
    " 1) Tags describes the analysis, making it explicit what was done to the `Dataset` for the fit.\n",
    "\n",
    " 2) Tags create a unique output path, allowing you to compare results of `Phase`'s that use different `SettingsPhase`. \n",
    "    Equally, if you run multiple phases with different `PhaseSetting`'s this ensures the `NonLinearSearch` won't\n",
    "    use results generated via a different analysis method.\n",
    "\n",
    "You should now check out the `settings.py` and `dataset.py` modules, to see how we implemented this.\n",
    "\n",
    "\n",
    "When reading through this tutorial's example source code, you may have felt it was a bit clunky having multiple \n",
    "`Settings` classes each of which was set up separately to customize the `Dataset` or the `Phase`. \n",
    "\n",
    "In terms of the source code, it actually is quite clunky and could certainly be refactored to make the source code \n",
    "more clean. However, through experience we have found this design creates a much better API for a user when choosing \n",
    "settings, which will be emphasized seen in the next tutorial. \n",
    "\n",
    "For your model-fitting project, these `Settings` objects may customize more than just the `Dataset`, but perhaps \n",
    "details of how the model is fitted, or a mask applied to the data, or something else entirely. We recommend you adopt \n",
    "the settings API of the template project for your project!"
   ]
  },
  {
   "cell_type": "code",
   "execution_count": null,
   "metadata": {},
   "outputs": [],
   "source": []
  }
 ],
 "metadata": {
  "anaconda-cloud": {},
  "kernelspec": {
   "display_name": "Python 3",
   "language": "python",
   "name": "python3"
  },
  "language_info": {
   "codemirror_mode": {
    "name": "ipython",
    "version": 3
   },
   "file_extension": ".py",
   "mimetype": "text/x-python",
   "name": "python",
   "nbconvert_exporter": "python",
   "pygments_lexer": "ipython3",
   "version": "3.8.5"
  }
 },
 "nbformat": 4,
 "nbformat_minor": 4
}
