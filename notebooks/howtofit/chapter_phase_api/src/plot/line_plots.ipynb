{
  "cells": [
    {
      "cell_type": "code",
      "metadata": {},
      "source": [
        "import os\n",
        "from os import path\n",
        "import matplotlib.pyplot as plt"
      ],
      "outputs": [],
      "execution_count": null
    },
    {
      "cell_type": "markdown",
      "metadata": {},
      "source": [
        "This is the `plot_line` function we saw in chapter 1."
      ]
    },
    {
      "cell_type": "code",
      "metadata": {},
      "source": [
        "\n",
        "\n",
        "def figure(\n",
        "    xvalues,\n",
        "    line,\n",
        "    title=None,\n",
        "    ylabel=None,\n",
        "    errors=None,\n",
        "    color=\"k\",\n",
        "    output_path=None,\n",
        "    output_filename=None,\n",
        "    output_format=\"show\",\n",
        "    bypass_show=False,\n",
        "):\n",
        "    \"\"\"Plot a 1D line of data on a plot of x versus y, where the x-axis is the x coordinate of the line and the y-axis\n",
        "    is the intensity of the line at that coordinate.\n",
        "\n",
        "    The function include options to output the image to the hard-disk as a .png.\n",
        "\n",
        "    Parameters\n",
        "    ----------\n",
        "    xvalues : np.ndarray\n",
        "        The x-coordinates the profile is defined on.\n",
        "    line : np.ndarray\n",
        "        The intensity values of the profile which are plotted.\n",
        "    ylabel : str\n",
        "        The y-label of the plot.\n",
        "    output_path : str\n",
        "        The path the image is to be output to hard-disk as a .png.\n",
        "    output_filename : str\n",
        "        The filename of the file if it is output as a .png.\n",
        "    output_format : str\n",
        "        Determines where the plot is displayed on your screen (\"show\") or output to the hard-disk as a png (\"png\").\n",
        "    bypass_show : bool\n",
        "        If `True` the show or savefig function is bypassed. This is used when plotting subplots.\n",
        "    \"\"\"\n",
        "    plt.errorbar(\n",
        "        x=xvalues, y=line, yerr=errors, color=color, ecolor=\"k\", elinewidth=1, capsize=2\n",
        "    )\n",
        "    plt.title(title)\n",
        "    plt.xlabel(\"x value of profile\")\n",
        "    plt.ylabel(ylabel)\n",
        "\n",
        "    if not bypass_show:\n",
        "\n",
        "        if \"show\" in output_format:\n",
        "            plt.show()\n",
        "        elif \"png\" in output_format:\n",
        "            if not path.exists(output_path):\n",
        "                os.makedirs(output_path)\n",
        "            plt.savefig(path.join(output_path, f\"{output_filename}.png\"))\n",
        "\n",
        "        plt.clf()\n"
      ],
      "outputs": [],
      "execution_count": null
    }
  ],
  "metadata": {
    "anaconda-cloud": {},
    "kernelspec": {
      "display_name": "Python 3",
      "language": "python",
      "name": "python3"
    },
    "language_info": {
      "codemirror_mode": {
        "name": "ipython",
        "version": 3
      },
      "file_extension": ".py",
      "mimetype": "text/x-python",
      "name": "python",
      "nbconvert_exporter": "python",
      "pygments_lexer": "ipython3",
      "version": "3.6.1"
    }
  },
  "nbformat": 4,
  "nbformat_minor": 4
}