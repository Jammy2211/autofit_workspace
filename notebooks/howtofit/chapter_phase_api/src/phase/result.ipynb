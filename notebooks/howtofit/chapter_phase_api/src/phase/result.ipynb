{
  "cells": [
    {
      "cell_type": "code",
      "metadata": {},
      "source": [
        "import autofit as af\n",
        "from src.phase.analysis import Analysis\n",
        "\n",
        "import numpy as np"
      ],
      "outputs": [],
      "execution_count": null
    },
    {
      "cell_type": "markdown",
      "metadata": {},
      "source": [
        "The Result class stores the results of a `NonLinearSearch`, which are inherited from PyAutoFit`s Result object. In\n",
        "chapter 1 we described the results this object contains.\n",
        "\n",
        "By using the PyAutoFit phase API, we are able to extend the Result object returned by a phase`s `NonLinearSearch` to\n",
        "include model-specific properties of the fit. Below, we include method that return the model data and fit of the\n",
        "maximum log likelihood model, which we use in the main tutorial script to plot the results. In chapter 1 we had to\n",
        "create these manually; the phase API means we can provide these convenience methods for our users."
      ]
    },
    {
      "cell_type": "code",
      "metadata": {},
      "source": [
        "\n",
        "\n",
        "class Result(af.Result):\n",
        "    def __init__(\n",
        "        self,\n",
        "        samples: af.PDFSamples,\n",
        "        previous_model: af.ModelMapper,\n",
        "        search: af.NonLinearSearch,\n",
        "        analysis: Analysis,\n",
        "    ):\n",
        "        \"\"\"\n",
        "        The results of a `NonLinearSearch` performed by a phase.\n",
        "\n",
        "        Parameters\n",
        "        ----------\n",
        "        samples : af.Samples\n",
        "            A class containing the samples of the `NonLinearSearch`, including methods to get the maximum log\n",
        "            likelihood model, errors, etc.\n",
        "        analysis : Analysis\n",
        "            The Analysis class used by this model-fit to fit the model to the data.\n",
        "        \"\"\"\n",
        "        super().__init__(samples=samples, previous_model=previous_model, search=search)\n",
        "        self.analysis = analysis\n",
        "\n",
        "    @property\n",
        "    def max_log_likelihood_model_data(self) -> np.ndarray:\n",
        "        return self.analysis.model_data_from_instance(\n",
        "            instance=self.samples.max_log_likelihood_instance\n",
        "        )\n",
        "\n",
        "    @property\n",
        "    def max_log_likelihood_fit(self) -> np.ndarray:\n",
        "        return self.analysis.fit_from_model_data(\n",
        "            model_data=self.max_log_likelihood_model_data\n",
        "        )\n"
      ],
      "outputs": [],
      "execution_count": null
    }
  ],
  "metadata": {
    "anaconda-cloud": {},
    "kernelspec": {
      "display_name": "Python 3",
      "language": "python",
      "name": "python3"
    },
    "language_info": {
      "codemirror_mode": {
        "name": "ipython",
        "version": 3
      },
      "file_extension": ".py",
      "mimetype": "text/x-python",
      "name": "python",
      "nbconvert_exporter": "python",
      "pygments_lexer": "ipython3",
      "version": "3.6.1"
    }
  },
  "nbformat": 4,
  "nbformat_minor": 4
}