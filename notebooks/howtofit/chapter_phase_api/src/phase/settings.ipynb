{
  "cells": [
    {
      "cell_type": "code",
      "metadata": {},
      "source": [
        "import autofit as af\n",
        "\n",
        "from src.dataset import dataset as ds"
      ],
      "outputs": [],
      "execution_count": null
    },
    {
      "cell_type": "markdown",
      "metadata": {},
      "source": [
        "This module create tags for phases settings that customize the analysis. We tag phases for two reasons:\n",
        "\n",
        "    1) Tags describes the phase settings, making it explicit what analysis was used to create the results.\n",
        "\n",
        "    2) Tags create unique output paths, ensuring that if you run multiple phases on the same data with different settings\n",
        "       each `NonLinearSearch` (e.g. Emcee) won't inadvertently use results generated via a different analysis method.\n",
        "       \n",
        "The settings of a `SettingsPhase` use the settings objects of individual parts of the code. For example, below, it uses\n",
        "as input a `SettingsDataset` object, which in the module `dataset/dataset.py` can be seen contains the inputs and\n",
        "tags required for trimming data.\n",
        "\n",
        "You may be surprised to see us using classes like `SettingsDataset` and `SettingsPhase`, as the use of a class\n",
        "may appear somewhat unecessary. We will discuss the use of classes and structure of the code at the end of the \n",
        "tutorial script."
      ]
    },
    {
      "cell_type": "code",
      "metadata": {},
      "source": [
        "\n",
        "\n",
        "class SettingsPhase(af.AbstractSettingsPhase):\n",
        "    def __init__(self, settings_dataset=ds.SettingsDataset()):\n",
        "\n",
        "        super().__init__()\n",
        "\n",
        "        self.settings_dataset = settings_dataset\n",
        "\n",
        "    \"\"\"\n",
        "    This function generates a string we'll use to `tag` a phase which uses this setting, thus ensuring results are\n",
        "    output to a unique path.\n",
        "    \n",
        "    It uses the tag of the `SettingsDataset` to do this.\n",
        "    \"\"\"\n",
        "\n",
        "    @property\n",
        "    def tag(self) -> str:\n",
        "\n",
        "        \"\"\"You may well have many more tags which appear here.\"\"\"\n",
        "        return f\"settings{self.settings_dataset.tag}\"\n"
      ],
      "outputs": [],
      "execution_count": null
    }
  ],
  "metadata": {
    "anaconda-cloud": {},
    "kernelspec": {
      "display_name": "Python 3",
      "language": "python",
      "name": "python3"
    },
    "language_info": {
      "codemirror_mode": {
        "name": "ipython",
        "version": 3
      },
      "file_extension": ".py",
      "mimetype": "text/x-python",
      "name": "python",
      "nbconvert_exporter": "python",
      "pygments_lexer": "ipython3",
      "version": "3.6.1"
    }
  },
  "nbformat": 4,
  "nbformat_minor": 4
}