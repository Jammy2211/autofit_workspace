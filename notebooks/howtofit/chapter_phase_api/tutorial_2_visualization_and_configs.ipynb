{
 "cells": [
  {
   "cell_type": "markdown",
   "metadata": {},
   "source": [
    "Tutorial 2: Visualization and Configs\n",
    "=====================================\n",
    "\n",
    "In chapter 1, we used the `visualize` method of the `Analysis` class to perform on-the-fly visualization of our\n",
    "model-fit. The template project of this chapter uses this method, however it defines a `Visualizer` in the `phase`\n",
    "package and `visualizer.py` module to handle visualization. Furthermore, the plotting functions defined in the `plot`\n",
    "package are designed to plot the individual attributes of classes such as `FitDataset` and `Dataset.\n",
    "\n",
    "If you checkout the `visualizer.py` module now, you'll see that the images that are output during a model-fit are\n",
    "depending on configuration files found in the directory `src/config/plots.ini`. Entries from this configuration file\n",
    "are loaded using our parent project **PyAutoConf** as follows:\n",
    "\n",
    " `conf.instance[\"visualize\"][\"plots\"][\"dataset\"][\"subplot_dataset\"]`\n",
    "\n",
    "In the previous tutorial, you'lll have noted we told **PyAutoFit** where to load these configs from with the following\n",
    "Python code:\n",
    "\n",
    " from autoconf import conf\n",
    " conf.instance.push(new_path=path.join(workspace_path, \"howtofit\", \"chapter_phase_api\", \"src\", \"config\"))\n",
    "\n",
    "When you or a user uses your model-fitting software, there are lots of settings that one may wish to customize when\n",
    "performing model-fitting. This use of config files ensures this is possible, but avoids the user needing to know about\n",
    "these settings the first time they use the project.\n",
    "\n",
    "We recommend that you use configuration files to control any aspects of your project which fit this remit. That is,\n",
    "settings someone may want to change, but are not critical to the project the first time they use it. **PyAutoConf**\n",
    "can easily be used to do this, whereby adding configuration files following the same structure as the `visualize`\n",
    "configs above will handle this.\n",
    "\n",
    "For example, if you had a configuration file in the folder:\n",
    "\n",
    " `config/folder1/folder2/file.ini`\n",
    "\n",
    "And the configuration file read as follows:\n",
    "\n",
    "[section1]\n",
    "setting1=True\n",
    "\n",
    "[section2]\n",
    "setting2=False\n",
    "\n",
    "You can load the settings from this configuration file as follows:\n",
    "\n",
    " conf.instance[\"folder1\"][\"folder2\"][\"file\"][\"section1\"][\"setting1\"]\n",
    " conf.instance[\"folder1\"][\"folder2\"][\"file\"][\"section2\"][\"setting2\"]"
   ]
  }
 ],
 "metadata": {
  "anaconda-cloud": {},
  "kernelspec": {
   "display_name": "Python 3",
   "language": "python",
   "name": "python3"
  },
  "language_info": {
   "codemirror_mode": {
    "name": "ipython",
    "version": 3
   },
   "file_extension": ".py",
   "mimetype": "text/x-python",
   "name": "python",
   "nbconvert_exporter": "python",
   "pygments_lexer": "ipython3",
   "version": "3.8.5"
  }
 },
 "nbformat": 4,
 "nbformat_minor": 4
}
