{
 "cells": [
  {
   "cell_type": "markdown",
   "metadata": {},
   "source": [
    "Tutorial 2: Aggregator\n",
    "======================\n",
    "\n",
    "In the previous tutorial, we fitted 3 datasets with an identical `NonLinearSearch`, outputting the results of each to a\n",
    "unique folder on our hard disk.\n",
    "\n",
    "In this tutorial, we'll use the `Aggregator` to load the `Result`'s and manipulate them using our Jupyter\n",
    "notebook. The API for using a `Result` is described fully in tutorial 6 of chapter 1 of **HowToFit**."
   ]
  },
  {
   "cell_type": "code",
   "execution_count": 1,
   "metadata": {
    "execution": {
     "iopub.execute_input": "2021-03-06T13:37:03.436561Z",
     "iopub.status.busy": "2021-03-06T13:37:03.436178Z",
     "iopub.status.idle": "2021-03-06T13:37:04.180263Z",
     "shell.execute_reply": "2021-03-06T13:37:04.179918Z"
    }
   },
   "outputs": [
    {
     "name": "stdout",
     "output_type": "stream",
     "text": [
      "/mnt/c/Users/Jammy/Code/PyAuto/autofit_workspace\n",
      "Working Directory has been set to `/mnt/c/Users/Jammy/Code/PyAuto/autofit_workspace`\n"
     ]
    }
   ],
   "source": [
    "%matplotlib inline\n",
    "from pyprojroot import here\n",
    "workspace_path = str(here())\n",
    "%cd $workspace_path\n",
    "print(f\"Working Directory has been set to `{workspace_path}`\")\n",
    "\n",
    "from os import path\n",
    "import autofit as af"
   ]
  },
  {
   "cell_type": "markdown",
   "metadata": {},
   "source": [
    "We now load the results in the `output` folder into a sqlite database using the `Aggregator`. We simply point to the \n",
    "path where we want the database to be created and add the directory `autofit_workspace/output/howtofit/database`.\n",
    "\n",
    "Checkout the output folder, you should see a `database.sqlite` file which contains the model-fits to the 3 `Gaussian`\n",
    "datasets."
   ]
  },
  {
   "cell_type": "code",
   "execution_count": 2,
   "metadata": {
    "execution": {
     "iopub.execute_input": "2021-03-06T13:37:04.183004Z",
     "iopub.status.busy": "2021-03-06T13:37:04.182681Z",
     "iopub.status.idle": "2021-03-06T13:37:05.848786Z",
     "shell.execute_reply": "2021-03-06T13:37:05.848412Z"
    }
   },
   "outputs": [
    {
     "name": "stdout",
     "output_type": "stream",
     "text": [
      "Aggregator loading phases... could take some time.\n",
      "\n",
      " A total of 6 phases and results were found.\n"
     ]
    }
   ],
   "source": [
    "from autofit.database.aggregator import Aggregator\n",
    "\n",
    "agg = Aggregator.from_database(\n",
    "    path.join(\"output\", \"howtofit\", \"database\", \"database.sqlite\")\n",
    ")\n",
    "\n",
    "agg.add_directory(path.join(\"output\", \"howtofit\", \"database\"))"
   ]
  },
  {
   "cell_type": "markdown",
   "metadata": {},
   "source": [
    "Before using the aggregator to inspect results, let me quickly cover Python generators. A generator is an object that \n",
    "iterates over a function when it is called. The aggregator creates all of the objects that it loads from the database \n",
    "as generators (as opposed to a list, or dictionary, or other Python type).\n",
    "\n",
    "Why? Because lists and dictionaries store every entry in memory simultaneously. If you fit many datasets, this will use \n",
    "a lot of memory and crash your laptop! On the other hand, a generator only stores the object in memory when it is used; \n",
    "Python is then free to overwrite it afterwards. Thus, your laptop won't crash!\n",
    "\n",
    "There are two things to bare in mind with generators:\n",
    "\n",
    "1) A generator has no length and to determine how many entries it contains you first must turn it into a list.\n",
    "\n",
    "2) Once we use a generator, we cannot use it again and need to remake it. For this reason, we typically avoid \n",
    " storing the generator as a variable and instead use the aggregator to create them on use.\n",
    "\n",
    "We can now create a `samples` generator of every fit. As we saw in the `result.py` example scripts, an instance of \n",
    "the `Samples` class acts as an interface to the results of the non-linear search."
   ]
  },
  {
   "cell_type": "code",
   "execution_count": 3,
   "metadata": {
    "execution": {
     "iopub.execute_input": "2021-03-06T13:37:05.851398Z",
     "iopub.status.busy": "2021-03-06T13:37:05.851066Z",
     "iopub.status.idle": "2021-03-06T13:37:06.978926Z",
     "shell.execute_reply": "2021-03-06T13:37:06.978625Z"
    }
   },
   "outputs": [],
   "source": [
    "samples_gen = agg.values(\"samples\")"
   ]
  },
  {
   "cell_type": "markdown",
   "metadata": {},
   "source": [
    "When we print this list of outputs you should see over 3 different `NestSamples` instances, corresponding to the 3\n",
    "model-fits we performed in the previous tutorial."
   ]
  },
  {
   "cell_type": "code",
   "execution_count": 4,
   "metadata": {
    "execution": {
     "iopub.execute_input": "2021-03-06T13:37:06.981680Z",
     "iopub.status.busy": "2021-03-06T13:37:06.981323Z",
     "iopub.status.idle": "2021-03-06T13:37:06.983492Z",
     "shell.execute_reply": "2021-03-06T13:37:06.983167Z"
    }
   },
   "outputs": [
    {
     "name": "stdout",
     "output_type": "stream",
     "text": [
      "Emcee Samples:\n",
      "\n",
      "[<autofit.non_linear.samples.NestSamples object at 0x7f86806e1430>, <autofit.non_linear.mcmc.emcee.EmceeSamples object at 0x7f86806d02e0>, <autofit.non_linear.samples.NestSamples object at 0x7f864dd00e50>, <autofit.non_linear.mcmc.emcee.EmceeSamples object at 0x7f864dd07370>, <autofit.non_linear.samples.NestSamples object at 0x7f864a246b50>, <autofit.non_linear.mcmc.emcee.EmceeSamples object at 0x7f864a246dc0>]\n",
      "Total Samples Objects =  6 \n",
      "\n"
     ]
    }
   ],
   "source": [
    "print(\"Emcee Samples:\\n\")\n",
    "print(samples_gen)\n",
    "print(\"Total Samples Objects = \", len(list(samples_gen)), \"\\n\")"
   ]
  },
  {
   "cell_type": "markdown",
   "metadata": {},
   "source": [
    "We've encountered the `Samples` class in previous tutorials. As we saw in chapter 1, the `Samples` class contains all \n",
    "the accepted parameter samples of the `NonLinearSearch`, which is a list of lists where:\n",
    "\n",
    " - The outer list is the size of the total number of samples.\n",
    " - The inner list is the size of the number of free parameters in the fit.\n",
    "\n",
    "With the `Aggregator` we can now get information on the `Samples` of all 3 model-fits, as opposed to just 1 fit using \n",
    "its `Result` object."
   ]
  },
  {
   "cell_type": "code",
   "execution_count": 5,
   "metadata": {
    "execution": {
     "iopub.execute_input": "2021-03-06T13:37:08.125397Z",
     "iopub.status.busy": "2021-03-06T13:37:08.101322Z",
     "iopub.status.idle": "2021-03-06T13:37:08.793220Z",
     "shell.execute_reply": "2021-03-06T13:37:08.793488Z"
    }
   },
   "outputs": [
    {
     "name": "stdout",
     "output_type": "stream",
     "text": [
      "All parameters of the very first sample\n",
      "[65.95026538924505, 84.46752489397355, 8.519546449640536]\n",
      "The tenth sample`s third parameter\n",
      "12.471138793833159\n",
      "\n",
      "All parameters of the very first sample\n",
      "[50.36548580092695, 1.147144326988933, 12.676992066070337]\n",
      "The tenth sample`s third parameter\n",
      "12.389610751230718\n",
      "\n",
      "All parameters of the very first sample\n",
      "[22.996048559422665, 99.8961923249971, 1.1791926685170786]\n",
      "The tenth sample`s third parameter\n",
      "14.468103396633165\n",
      "\n",
      "All parameters of the very first sample\n",
      "[50.69594362438223, 0.9986705659953211, 12.594223208976068]\n",
      "The tenth sample`s third parameter\n",
      "12.603177252081913\n",
      "\n",
      "All parameters of the very first sample\n",
      "[21.42288926065249, 52.49540784721225, 7.601942715803046]\n",
      "The tenth sample`s third parameter\n",
      "15.0511210983322\n",
      "\n",
      "All parameters of the very first sample\n",
      "[49.51572183124327, 1.079324970640063, 12.605609932298005]\n",
      "The tenth sample`s third parameter\n",
      "12.666967109350335\n",
      "\n"
     ]
    }
   ],
   "source": [
    "for samples in agg.values(\"samples\"):\n",
    "    print(\"All parameters of the very first sample\")\n",
    "    print(samples.parameters[0])\n",
    "    print(\"The tenth sample`s third parameter\")\n",
    "    print(samples.parameters[9][2])\n",
    "    print()"
   ]
  },
  {
   "cell_type": "markdown",
   "metadata": {},
   "source": [
    "We can use the `Aggregator` to get information on the `log_likelihoods`, log_priors`, `weights`, etc. of every fit."
   ]
  },
  {
   "cell_type": "code",
   "execution_count": 6,
   "metadata": {
    "execution": {
     "iopub.execute_input": "2021-03-06T13:37:09.853824Z",
     "iopub.status.busy": "2021-03-06T13:37:09.297881Z",
     "iopub.status.idle": "2021-03-06T13:37:10.002815Z",
     "shell.execute_reply": "2021-03-06T13:37:10.002468Z"
    }
   },
   "outputs": [
    {
     "name": "stdout",
     "output_type": "stream",
     "text": [
      "log(likelihood), log(prior), log(posterior) and weight of the tenth sample.\n",
      "-55276.75806926772\n",
      "0.26494937998264356\n",
      "-55276.49311988774\n",
      "0.0\n",
      "\n",
      "log(likelihood), log(prior), log(posterior) and weight of the tenth sample.\n",
      "-54591.722165678904\n",
      "1.0818540469069806\n",
      "-54590.640311632\n",
      "1.0\n",
      "\n",
      "log(likelihood), log(prior), log(posterior) and weight of the tenth sample.\n",
      "-10971.129524047577\n",
      "0.5157961088830134\n",
      "-10970.613727938695\n",
      "0.0\n",
      "\n",
      "log(likelihood), log(prior), log(posterior) and weight of the tenth sample.\n",
      "-10246.101102447286\n",
      "0.9001904231079301\n",
      "-10245.200912024178\n",
      "1.0\n",
      "\n",
      "log(likelihood), log(prior), log(posterior) and weight of the tenth sample.\n",
      "-6576.161151944584\n",
      "0.5581074497177271\n",
      "-6575.6030444948665\n",
      "0.0\n",
      "\n",
      "log(likelihood), log(prior), log(posterior) and weight of the tenth sample.\n",
      "-4826.2761336708445\n",
      "1.2956098242841416\n",
      "-4824.980523846561\n",
      "1.0\n",
      "\n"
     ]
    }
   ],
   "source": [
    "for samples in agg.values(\"samples\"):\n",
    "    print(\"log(likelihood), log(prior), log(posterior) and weight of the tenth sample.\")\n",
    "    print(samples.log_likelihoods[9])\n",
    "    print(samples.log_priors[9])\n",
    "    print(samples.log_posteriors[9])\n",
    "    print(samples.weights[9])\n",
    "    print()"
   ]
  },
  {
   "cell_type": "markdown",
   "metadata": {},
   "source": [
    "We can use the `Sample`'s to create a list of the `max_log_likelihood_vector` of each fit to our three images."
   ]
  },
  {
   "cell_type": "code",
   "execution_count": 7,
   "metadata": {
    "execution": {
     "iopub.execute_input": "2021-03-06T13:37:11.050143Z",
     "iopub.status.busy": "2021-03-06T13:37:10.975246Z",
     "iopub.status.idle": "2021-03-06T13:37:11.051752Z",
     "shell.execute_reply": "2021-03-06T13:37:11.051445Z"
    }
   },
   "outputs": [
    {
     "name": "stdout",
     "output_type": "stream",
     "text": [
      "Maximum Log Likelihood Parameter Lists:\n",
      "\n",
      "[[46.563472489550094, 40.19271233698261, 10.324294825239022], [49.99917201747321, 24.982210232645606, 0.9963688588783448], [48.01758208098854, 31.201571090402656, 11.782052813492967], [49.922247514249484, 24.77114836677721, 4.95193674565392], [46.554463879849806, 22.06453752833443, 7.666750159832245], [50.016303754655084, 24.308323215984156, 9.840938375521471]] \n",
      "\n"
     ]
    }
   ],
   "source": [
    "vector = [samps.max_log_likelihood_vector for samps in agg.values(\"samples\")]\n",
    "print(\"Maximum Log Likelihood Parameter Lists:\\n\")\n",
    "print(vector, \"\\n\")"
   ]
  },
  {
   "cell_type": "markdown",
   "metadata": {},
   "source": [
    "As discussed in chapter 1, vectors are not ideal because we can`t be sure which values correspond to which parameters.\n",
    "\n",
    "We can use the `Aggregator` to create the `max_log_likelihood_instance` of every fit."
   ]
  },
  {
   "cell_type": "code",
   "execution_count": 8,
   "metadata": {
    "execution": {
     "iopub.execute_input": "2021-03-06T13:37:12.176279Z",
     "iopub.status.busy": "2021-03-06T13:37:12.091513Z",
     "iopub.status.idle": "2021-03-06T13:37:12.179480Z",
     "shell.execute_reply": "2021-03-06T13:37:12.179071Z"
    }
   },
   "outputs": [
    {
     "name": "stdout",
     "output_type": "stream",
     "text": [
      "Maximum Log Likelihood Model Instances:\n",
      "\n",
      "[<autofit.mapper.model.ModelInstance object at 0x7f863c963550>, <autofit.mapper.model.ModelInstance object at 0x7f863ece35b0>, <autofit.mapper.model.ModelInstance object at 0x7f863ece34c0>, <autofit.mapper.model.ModelInstance object at 0x7f863c9634f0>, <autofit.mapper.model.ModelInstance object at 0x7f863ece3700>, <autofit.mapper.model.ModelInstance object at 0x7f864689beb0>] \n",
      "\n"
     ]
    }
   ],
   "source": [
    "instances = [samps.max_log_likelihood_instance for samps in agg.values(\"samples\")]\n",
    "print(\"Maximum Log Likelihood Model Instances:\\n\")\n",
    "print(instances, \"\\n\")"
   ]
  },
  {
   "cell_type": "markdown",
   "metadata": {},
   "source": [
    "The model instance contains all the model components of our fit which for the fits above was a single `Gaussian`\n",
    "profile (the word `gaussian` comes from what we called it in the `CollectionPriorModel` above)."
   ]
  },
  {
   "cell_type": "code",
   "execution_count": 9,
   "metadata": {
    "execution": {
     "iopub.execute_input": "2021-03-06T13:37:12.182587Z",
     "iopub.status.busy": "2021-03-06T13:37:12.182184Z",
     "iopub.status.idle": "2021-03-06T13:37:12.184740Z",
     "shell.execute_reply": "2021-03-06T13:37:12.184407Z"
    }
   },
   "outputs": [
    {
     "name": "stdout",
     "output_type": "stream",
     "text": [
      "<profiles.Gaussian object at 0x7f863ece3730>\n",
      "<profiles.Gaussian object at 0x7f863ece37c0>\n",
      "<profiles.Gaussian object at 0x7f863ece3850>\n"
     ]
    }
   ],
   "source": [
    "print(instances[0].gaussian)\n",
    "print(instances[1].gaussian)\n",
    "print(instances[2].gaussian)"
   ]
  },
  {
   "cell_type": "markdown",
   "metadata": {},
   "source": [
    "This, of course, gives us access to any individual parameter of our maximum log likelihood `instance`. Below, we see \n",
    "that the 3 `Gaussian`s were simulated using `sigma` values of 1.0, 5.0 and 10.0."
   ]
  },
  {
   "cell_type": "code",
   "execution_count": 10,
   "metadata": {
    "execution": {
     "iopub.execute_input": "2021-03-06T13:37:12.187700Z",
     "iopub.status.busy": "2021-03-06T13:37:12.187189Z",
     "iopub.status.idle": "2021-03-06T13:37:12.189298Z",
     "shell.execute_reply": "2021-03-06T13:37:12.189590Z"
    }
   },
   "outputs": [
    {
     "name": "stdout",
     "output_type": "stream",
     "text": [
      "10.324294825239022\n",
      "0.9963688588783448\n",
      "11.782052813492967\n"
     ]
    }
   ],
   "source": [
    "print(instances[0].gaussian.sigma)\n",
    "print(instances[1].gaussian.sigma)\n",
    "print(instances[2].gaussian.sigma)"
   ]
  },
  {
   "cell_type": "markdown",
   "metadata": {},
   "source": [
    "We can also access the `median_pdf` model via the `Aggregator`, as we saw for the `Samples` object in chapter 1."
   ]
  },
  {
   "cell_type": "code",
   "execution_count": 11,
   "metadata": {
    "execution": {
     "iopub.execute_input": "2021-03-06T13:37:13.151285Z",
     "iopub.status.busy": "2021-03-06T13:37:13.150920Z",
     "iopub.status.idle": "2021-03-06T13:37:14.379373Z",
     "shell.execute_reply": "2021-03-06T13:37:14.379042Z"
    }
   },
   "outputs": [
    {
     "name": "stdout",
     "output_type": "stream",
     "text": [
      "Median PDF Model Parameter Lists:\n",
      "\n",
      "[[46.563472489550094, 40.19271233698261, 10.324294825239022], [49.99910549461242, 24.97839181016635, 0.9963634182693135], [48.01758208098854, 31.201571090402656, 11.782052813492967], [49.92418409579551, 24.774805598126754, 4.952581941964734], [46.554463879849806, 22.06453752833443, 7.666750159832245], [50.02403534463948, 24.28166675532924, 9.830393914808749]] \n",
      "\n",
      "Most probable Model Instances:\n",
      "\n",
      "[<autofit.mapper.model.ModelInstance object at 0x7f8642692190>, <autofit.mapper.model.ModelInstance object at 0x7f863ed68730>, <autofit.mapper.model.ModelInstance object at 0x7f863ed68c40>, <autofit.mapper.model.ModelInstance object at 0x7f863ed68970>, <autofit.mapper.model.ModelInstance object at 0x7f863ed68d60>, <autofit.mapper.model.ModelInstance object at 0x7f863ed685e0>] \n",
      "\n"
     ]
    }
   ],
   "source": [
    "mp_vectors = [samps.median_pdf_vector for samps in agg.values(\"samples\")]\n",
    "mp_instances = [samps.median_pdf_instance for samps in agg.values(\"samples\")]\n",
    "\n",
    "print(\"Median PDF Model Parameter Lists:\\n\")\n",
    "print(mp_vectors, \"\\n\")\n",
    "print(\"Most probable Model Instances:\\n\")\n",
    "print(mp_instances, \"\\n\")"
   ]
  },
  {
   "cell_type": "markdown",
   "metadata": {},
   "source": [
    "We can also print the `model_results` of all phases, which is string that summarizes every fit`s model providing\n",
    "quick inspection of all results."
   ]
  },
  {
   "cell_type": "code",
   "execution_count": 12,
   "metadata": {
    "execution": {
     "iopub.execute_input": "2021-03-06T13:37:14.381945Z",
     "iopub.status.busy": "2021-03-06T13:37:14.381566Z",
     "iopub.status.idle": "2021-03-06T13:37:14.383343Z",
     "shell.execute_reply": "2021-03-06T13:37:14.383812Z"
    }
   },
   "outputs": [
    {
     "name": "stdout",
     "output_type": "stream",
     "text": [
      "Model Results Summary:\n",
      "\n",
      "o.id IN (SELECT parent_id FROM object AS o WHERE o.name = 'model_results') \n",
      "\n"
     ]
    }
   ],
   "source": [
    "results = agg.model_results\n",
    "print(\"Model Results Summary:\\n\")\n",
    "print(results, \"\\n\")"
   ]
  },
  {
   "cell_type": "markdown",
   "metadata": {},
   "source": [
    "Lets end the tutorial with something more ambitious. Lets create a plot of the inferred `sigma` values vs `intensity` \n",
    "of each `Gaussian` profile, including error bars at $3\\sigma$ confidence."
   ]
  },
  {
   "cell_type": "code",
   "execution_count": 13,
   "metadata": {
    "execution": {
     "iopub.execute_input": "2021-03-06T13:37:15.394754Z",
     "iopub.status.busy": "2021-03-06T13:37:15.394414Z",
     "iopub.status.idle": "2021-03-06T13:37:17.917740Z",
     "shell.execute_reply": "2021-03-06T13:37:17.917410Z"
    }
   },
   "outputs": [
    {
     "data": {
      "image/png": "[encoded data removed]",
      "text/plain": [
       "<Figure size 432x288 with 1 Axes>"
      ]
     },
     "metadata": {
      "needs_background": "light"
     },
     "output_type": "display_data"
    }
   ],
   "source": [
    "import matplotlib.pyplot as plt\n",
    "\n",
    "mp_instances = [samps.median_pdf_instance for samps in agg.values(\"samples\")]\n",
    "ue3_instances = [\n",
    "    samp.error_instance_at_upper_sigma(sigma=3.0) for samp in agg.values(\"samples\")\n",
    "]\n",
    "le3_instances = [\n",
    "    samp.error_instance_at_lower_sigma(sigma=3.0) for samp in agg.values(\"samples\")\n",
    "]\n",
    "\n",
    "mp_sigmas = [instance.gaussian.sigma for instance in mp_instances]\n",
    "ue3_sigmas = [instance.gaussian.sigma for instance in ue3_instances]\n",
    "le3_sigmas = [instance.gaussian.sigma for instance in le3_instances]\n",
    "mp_intensitys = [instance.gaussian.intensity for instance in mp_instances]\n",
    "ue3_intensitys = [instance.gaussian.intensity for instance in ue3_instances]\n",
    "le3_intensitys = [instance.gaussian.intensity for instance in le3_instances]\n",
    "\n",
    "plt.errorbar(\n",
    "    x=mp_sigmas,\n",
    "    y=mp_intensitys,\n",
    "    marker=\".\",\n",
    "    linestyle=\"\",\n",
    "    xerr=[le3_sigmas, ue3_sigmas],\n",
    "    yerr=[le3_intensitys, ue3_intensitys],\n",
    ")\n",
    "plt.show()"
   ]
  },
  {
   "cell_type": "markdown",
   "metadata": {},
   "source": [
    "With that, tutorial 2 is complete. \n",
    "\n",
    "The take home point of this tutorial is that everything that is available in a `Result` or `Samples` object is \n",
    "accessible via the `Aggregator`. "
   ]
  },
  {
   "cell_type": "code",
   "execution_count": null,
   "metadata": {},
   "outputs": [],
   "source": []
  }
 ],
 "metadata": {
  "anaconda-cloud": {},
  "kernelspec": {
   "display_name": "Python 3",
   "language": "python",
   "name": "python3"
  },
  "language_info": {
   "codemirror_mode": {
    "name": "ipython",
    "version": 3
   },
   "file_extension": ".py",
   "mimetype": "text/x-python",
   "name": "python",
   "nbconvert_exporter": "python",
   "pygments_lexer": "ipython3",
   "version": "3.8.5"
  }
 },
 "nbformat": 4,
 "nbformat_minor": 4
}
