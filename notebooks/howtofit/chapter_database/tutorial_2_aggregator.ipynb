{
 "cells": [
  {
   "cell_type": "markdown",
   "metadata": {},
   "source": [
    "Tutorial 2: Aggregator\n",
    "======================\n",
    "\n",
    "In the previous tutorial, we fitted 3 datasets with an identical `NonLinearSearch`, outputting the results of each to a\n",
    "unique folder on our hard disk.\n",
    "\n",
    "In this tutorial, we'll use the `Aggregator` to load the `Result`'s and manipulate them using our Jupyter\n",
    "notebook. The API for using a `Result` is described fully in tutorial 6 of chapter 1 of **HowToFit**."
   ]
  },
  {
   "cell_type": "code",
   "execution_count": 1,
   "metadata": {
    "execution": {
     "iopub.execute_input": "2021-03-06T14:09:47.815351Z",
     "iopub.status.busy": "2021-03-06T14:09:47.814814Z",
     "iopub.status.idle": "2021-03-06T14:09:48.637480Z",
     "shell.execute_reply": "2021-03-06T14:09:48.637770Z"
    }
   },
   "outputs": [
    {
     "name": "stdout",
     "output_type": "stream",
     "text": [
      "/mnt/c/Users/Jammy/Code/PyAuto/autofit_workspace\n",
      "Working Directory has been set to `/mnt/c/Users/Jammy/Code/PyAuto/autofit_workspace`\n"
     ]
    }
   ],
   "source": [
    "%matplotlib inline\n",
    "from pyprojroot import here\n",
    "workspace_path = str(here())\n",
    "%cd $workspace_path\n",
    "print(f\"Working Directory has been set to `{workspace_path}`\")\n",
    "\n",
    "from os import path\n",
    "import autofit as af"
   ]
  },
  {
   "cell_type": "markdown",
   "metadata": {},
   "source": [
    "We now load the results in the `output` folder into a sqlite database using the `Aggregator`. We simply point to the \n",
    "path where we want the database to be created and add the directory `autofit_workspace/output/howtofit/database`.\n",
    "\n",
    "Checkout the output folder, you should see a `database.sqlite` file which contains the model-fits to the 3 `Gaussian`\n",
    "datasets."
   ]
  },
  {
   "cell_type": "code",
   "execution_count": 2,
   "metadata": {
    "execution": {
     "iopub.execute_input": "2021-03-06T14:09:48.640865Z",
     "iopub.status.busy": "2021-03-06T14:09:48.640497Z",
     "iopub.status.idle": "2021-03-06T14:09:48.887162Z",
     "shell.execute_reply": "2021-03-06T14:09:48.886842Z"
    }
   },
   "outputs": [
    {
     "name": "stdout",
     "output_type": "stream",
     "text": [
      "Aggregator loading phases... could take some time.\n",
      "\n",
      " A total of 3 phases and results were found.\n"
     ]
    }
   ],
   "source": [
    "from autofit.database.aggregator import Aggregator\n",
    "\n",
    "agg = Aggregator.from_database(\n",
    "    path.join(\"output\", \"howtofit\", \"database\", \"database.sqlite\")\n",
    ")\n",
    "\n",
    "agg.add_directory(path.join(\"output\", \"howtofit\", \"database\"))"
   ]
  },
  {
   "cell_type": "markdown",
   "metadata": {},
   "source": [
    "Before using the aggregator to inspect results, let me quickly cover Python generators. A generator is an object that \n",
    "iterates over a function when it is called. The aggregator creates all of the objects that it loads from the database \n",
    "as generators (as opposed to a list, or dictionary, or other Python type).\n",
    "\n",
    "Why? Because lists and dictionaries store every entry in memory simultaneously. If you fit many datasets, this will use \n",
    "a lot of memory and crash your laptop! On the other hand, a generator only stores the object in memory when it is used; \n",
    "Python is then free to overwrite it afterwards. Thus, your laptop won't crash!\n",
    "\n",
    "There are two things to bare in mind with generators:\n",
    "\n",
    "1) A generator has no length and to determine how many entries it contains you first must turn it into a list.\n",
    "\n",
    "2) Once we use a generator, we cannot use it again and need to remake it. For this reason, we typically avoid \n",
    " storing the generator as a variable and instead use the aggregator to create them on use.\n",
    "\n",
    "We can now create a `samples` generator of every fit. As we saw in the `result.py` example scripts, an instance of \n",
    "the `Samples` class acts as an interface to the results of the non-linear search."
   ]
  },
  {
   "cell_type": "code",
   "execution_count": 3,
   "metadata": {
    "execution": {
     "iopub.execute_input": "2021-03-06T14:09:48.889966Z",
     "iopub.status.busy": "2021-03-06T14:09:48.889557Z",
     "iopub.status.idle": "2021-03-06T14:09:48.895718Z",
     "shell.execute_reply": "2021-03-06T14:09:48.896013Z"
    }
   },
   "outputs": [],
   "source": [
    "samples_gen = agg.values(\"samples\")"
   ]
  },
  {
   "cell_type": "markdown",
   "metadata": {},
   "source": [
    "When we print this list of outputs you should see over 3 different `NestSamples` instances, corresponding to the 3\n",
    "model-fits we performed in the previous tutorial."
   ]
  },
  {
   "cell_type": "code",
   "execution_count": 4,
   "metadata": {
    "execution": {
     "iopub.execute_input": "2021-03-06T14:09:48.899690Z",
     "iopub.status.busy": "2021-03-06T14:09:48.899186Z",
     "iopub.status.idle": "2021-03-06T14:09:48.901033Z",
     "shell.execute_reply": "2021-03-06T14:09:48.901311Z"
    }
   },
   "outputs": [
    {
     "name": "stdout",
     "output_type": "stream",
     "text": [
      "Emcee Samples:\n",
      "\n",
      "[<autofit.non_linear.samples.NestSamples object at 0x7fff5f6dba30>, <autofit.non_linear.samples.NestSamples object at 0x7fff604c3040>, <autofit.non_linear.samples.NestSamples object at 0x7fff5f7ae580>]\n",
      "Total Samples Objects =  3 \n",
      "\n"
     ]
    }
   ],
   "source": [
    "print(\"Emcee Samples:\\n\")\n",
    "print(samples_gen)\n",
    "print(\"Total Samples Objects = \", len(list(samples_gen)), \"\\n\")"
   ]
  },
  {
   "cell_type": "markdown",
   "metadata": {},
   "source": [
    "We've encountered the `Samples` class in previous tutorials. As we saw in chapter 1, the `Samples` class contains all \n",
    "the accepted parameter samples of the `NonLinearSearch`, which is a list of lists where:\n",
    "\n",
    " - The outer list is the size of the total number of samples.\n",
    " - The inner list is the size of the number of free parameters in the fit.\n",
    "\n",
    "With the `Aggregator` we can now get information on the `Samples` of all 3 model-fits, as opposed to just 1 fit using \n",
    "its `Result` object."
   ]
  },
  {
   "cell_type": "code",
   "execution_count": 5,
   "metadata": {
    "execution": {
     "iopub.execute_input": "2021-03-06T14:09:48.905843Z",
     "iopub.status.busy": "2021-03-06T14:09:48.905412Z",
     "iopub.status.idle": "2021-03-06T14:09:48.908114Z",
     "shell.execute_reply": "2021-03-06T14:09:48.908411Z"
    }
   },
   "outputs": [
    {
     "name": "stdout",
     "output_type": "stream",
     "text": [
      "All parameters of the very first sample\n",
      "[62.2343297678339, 28.81732165353385, 0.816104317088227]\n",
      "The tenth sample`s third parameter\n",
      "16.65850688229399\n",
      "\n",
      "All parameters of the very first sample\n",
      "[8.840468919269007, 56.36570847747622, 2.3866162959748847]\n",
      "The tenth sample`s third parameter\n",
      "9.951695781561366\n",
      "\n",
      "All parameters of the very first sample\n",
      "[58.595734295009535, 77.6810087731121, 5.19648115393476]\n",
      "The tenth sample`s third parameter\n",
      "20.2912871411448\n",
      "\n"
     ]
    }
   ],
   "source": [
    "for samples in agg.values(\"samples\"):\n",
    "    print(\"All parameters of the very first sample\")\n",
    "    print(samples.parameters[0])\n",
    "    print(\"The tenth sample`s third parameter\")\n",
    "    print(samples.parameters[9][2])\n",
    "    print()"
   ]
  },
  {
   "cell_type": "markdown",
   "metadata": {},
   "source": [
    "We can use the `Aggregator` to get information on the `log_likelihoods`, log_priors`, `weights`, etc. of every fit."
   ]
  },
  {
   "cell_type": "code",
   "execution_count": 6,
   "metadata": {
    "execution": {
     "iopub.execute_input": "2021-03-06T14:09:48.912306Z",
     "iopub.status.busy": "2021-03-06T14:09:48.911906Z",
     "iopub.status.idle": "2021-03-06T14:09:48.915822Z",
     "shell.execute_reply": "2021-03-06T14:09:48.916093Z"
    }
   },
   "outputs": [
    {
     "name": "stdout",
     "output_type": "stream",
     "text": [
      "log(likelihood), log(prior), log(posterior) and weight of the tenth sample.\n",
      "-56052.06404677583\n",
      "0.9587350713899617\n",
      "-56051.105311704436\n",
      "0.0\n",
      "\n",
      "log(likelihood), log(prior), log(posterior) and weight of the tenth sample.\n",
      "-10800.329846444985\n",
      "0.17903748872652034\n",
      "-10800.15080895626\n",
      "0.0\n",
      "\n",
      "log(likelihood), log(prior), log(posterior) and weight of the tenth sample.\n",
      "-5878.54952975972\n",
      "2.1648696512946546\n",
      "-5876.384660108425\n",
      "0.0\n",
      "\n"
     ]
    }
   ],
   "source": [
    "for samples in agg.values(\"samples\"):\n",
    "    print(\"log(likelihood), log(prior), log(posterior) and weight of the tenth sample.\")\n",
    "    print(samples.log_likelihoods[9])\n",
    "    print(samples.log_priors[9])\n",
    "    print(samples.log_posteriors[9])\n",
    "    print(samples.weights[9])\n",
    "    print()"
   ]
  },
  {
   "cell_type": "markdown",
   "metadata": {},
   "source": [
    "We can use the `Sample`'s to create a list of the `max_log_likelihood_vector` of each fit to our three images."
   ]
  },
  {
   "cell_type": "code",
   "execution_count": 7,
   "metadata": {
    "execution": {
     "iopub.execute_input": "2021-03-06T14:09:48.920442Z",
     "iopub.status.busy": "2021-03-06T14:09:48.920070Z",
     "iopub.status.idle": "2021-03-06T14:09:48.922473Z",
     "shell.execute_reply": "2021-03-06T14:09:48.922175Z"
    }
   },
   "outputs": [
    {
     "name": "stdout",
     "output_type": "stream",
     "text": [
      "Maximum Log Likelihood Parameter Lists:\n",
      "\n",
      "[[49.00191873661372, 12.630397876864443, 14.089522616345224], [50.22204651884778, 41.09639350720066, 12.168587995737028], [45.26392164388221, 26.767514200505783, 10.39682758262918]] \n",
      "\n"
     ]
    }
   ],
   "source": [
    "vector = [samps.max_log_likelihood_vector for samps in agg.values(\"samples\")]\n",
    "print(\"Maximum Log Likelihood Parameter Lists:\\n\")\n",
    "print(vector, \"\\n\")"
   ]
  },
  {
   "cell_type": "markdown",
   "metadata": {},
   "source": [
    "As discussed in chapter 1, vectors are not ideal because we can`t be sure which values correspond to which parameters.\n",
    "\n",
    "We can use the `Aggregator` to create the `max_log_likelihood_instance` of every fit."
   ]
  },
  {
   "cell_type": "code",
   "execution_count": 8,
   "metadata": {
    "execution": {
     "iopub.execute_input": "2021-03-06T14:09:48.927000Z",
     "iopub.status.busy": "2021-03-06T14:09:48.926627Z",
     "iopub.status.idle": "2021-03-06T14:09:48.928929Z",
     "shell.execute_reply": "2021-03-06T14:09:48.928538Z"
    }
   },
   "outputs": [
    {
     "name": "stdout",
     "output_type": "stream",
     "text": [
      "Maximum Log Likelihood Model Instances:\n",
      "\n",
      "[<autofit.mapper.model.ModelInstance object at 0x7fff5f732640>, <autofit.mapper.model.ModelInstance object at 0x7fff5f65a340>, <autofit.mapper.model.ModelInstance object at 0x7fff5f65a3d0>] \n",
      "\n"
     ]
    }
   ],
   "source": [
    "instances = [samps.max_log_likelihood_instance for samps in agg.values(\"samples\")]\n",
    "print(\"Maximum Log Likelihood Model Instances:\\n\")\n",
    "print(instances, \"\\n\")"
   ]
  },
  {
   "cell_type": "markdown",
   "metadata": {},
   "source": [
    "The model instance contains all the model components of our fit which for the fits above was a single `Gaussian`\n",
    "profile (the word `gaussian` comes from what we called it in the `CollectionPriorModel` above)."
   ]
  },
  {
   "cell_type": "code",
   "execution_count": 9,
   "metadata": {
    "execution": {
     "iopub.execute_input": "2021-03-06T14:09:48.931817Z",
     "iopub.status.busy": "2021-03-06T14:09:48.931448Z",
     "iopub.status.idle": "2021-03-06T14:09:48.933239Z",
     "shell.execute_reply": "2021-03-06T14:09:48.933513Z"
    }
   },
   "outputs": [
    {
     "name": "stdout",
     "output_type": "stream",
     "text": [
      "<profiles.Gaussian object at 0x7fff5f65a9d0>\n",
      "<profiles.Gaussian object at 0x7fff5f65a430>\n",
      "<profiles.Gaussian object at 0x7fff5f655460>\n"
     ]
    }
   ],
   "source": [
    "print(instances[0].gaussian)\n",
    "print(instances[1].gaussian)\n",
    "print(instances[2].gaussian)"
   ]
  },
  {
   "cell_type": "markdown",
   "metadata": {},
   "source": [
    "This, of course, gives us access to any individual parameter of our maximum log likelihood `instance`. Below, we see \n",
    "that the 3 `Gaussian`s were simulated using `sigma` values of 1.0, 5.0 and 10.0."
   ]
  },
  {
   "cell_type": "code",
   "execution_count": 10,
   "metadata": {
    "execution": {
     "iopub.execute_input": "2021-03-06T14:09:48.936394Z",
     "iopub.status.busy": "2021-03-06T14:09:48.936029Z",
     "iopub.status.idle": "2021-03-06T14:09:48.938259Z",
     "shell.execute_reply": "2021-03-06T14:09:48.937902Z"
    }
   },
   "outputs": [
    {
     "name": "stdout",
     "output_type": "stream",
     "text": [
      "14.089522616345224\n",
      "12.168587995737028\n",
      "10.39682758262918\n"
     ]
    }
   ],
   "source": [
    "print(instances[0].gaussian.sigma)\n",
    "print(instances[1].gaussian.sigma)\n",
    "print(instances[2].gaussian.sigma)"
   ]
  },
  {
   "cell_type": "markdown",
   "metadata": {},
   "source": [
    "We can also access the `median_pdf` model via the `Aggregator`, as we saw for the `Samples` object in chapter 1."
   ]
  },
  {
   "cell_type": "code",
   "execution_count": 11,
   "metadata": {
    "execution": {
     "iopub.execute_input": "2021-03-06T14:09:48.944415Z",
     "iopub.status.busy": "2021-03-06T14:09:48.944050Z",
     "iopub.status.idle": "2021-03-06T14:09:48.945930Z",
     "shell.execute_reply": "2021-03-06T14:09:48.946195Z"
    }
   },
   "outputs": [
    {
     "name": "stdout",
     "output_type": "stream",
     "text": [
      "Median PDF Model Parameter Lists:\n",
      "\n",
      "[[49.00191873661372, 12.630397876864443, 14.089522616345224], [50.22204651884778, 41.09639350720066, 12.168587995737028], [45.26392164388221, 26.767514200505783, 10.39682758262918]] \n",
      "\n",
      "Most probable Model Instances:\n",
      "\n",
      "[<autofit.mapper.model.ModelInstance object at 0x7fff5f655100>, <autofit.mapper.model.ModelInstance object at 0x7fff5f732700>, <autofit.mapper.model.ModelInstance object at 0x7fff5f65aaf0>] \n",
      "\n"
     ]
    }
   ],
   "source": [
    "mp_vectors = [samps.median_pdf_vector for samps in agg.values(\"samples\")]\n",
    "mp_instances = [samps.median_pdf_instance for samps in agg.values(\"samples\")]\n",
    "\n",
    "print(\"Median PDF Model Parameter Lists:\\n\")\n",
    "print(mp_vectors, \"\\n\")\n",
    "print(\"Most probable Model Instances:\\n\")\n",
    "print(mp_instances, \"\\n\")"
   ]
  },
  {
   "cell_type": "markdown",
   "metadata": {},
   "source": [
    "We can also print the `model_results` of all phases, which is string that summarizes every fit`s model providing\n",
    "quick inspection of all results."
   ]
  },
  {
   "cell_type": "code",
   "execution_count": 12,
   "metadata": {
    "execution": {
     "iopub.execute_input": "2021-03-06T14:09:48.948848Z",
     "iopub.status.busy": "2021-03-06T14:09:48.948501Z",
     "iopub.status.idle": "2021-03-06T14:09:48.950083Z",
     "shell.execute_reply": "2021-03-06T14:09:48.950347Z"
    }
   },
   "outputs": [
    {
     "name": "stdout",
     "output_type": "stream",
     "text": [
      "Model Results Summary:\n",
      "\n",
      "o.id IN (SELECT parent_id FROM object AS o WHERE o.name = 'model_results') \n",
      "\n"
     ]
    }
   ],
   "source": [
    "results = agg.model_results\n",
    "print(\"Model Results Summary:\\n\")\n",
    "print(results, \"\\n\")"
   ]
  },
  {
   "cell_type": "markdown",
   "metadata": {},
   "source": [
    "Lets end the tutorial with something more ambitious. Lets create a plot of the inferred `sigma` values vs `intensity` \n",
    "of each `Gaussian` profile, including error bars at $3\\sigma$ confidence."
   ]
  },
  {
   "cell_type": "code",
   "execution_count": 13,
   "metadata": {
    "execution": {
     "iopub.execute_input": "2021-03-06T14:09:48.971580Z",
     "iopub.status.busy": "2021-03-06T14:09:48.971172Z",
     "iopub.status.idle": "2021-03-06T14:09:49.061414Z",
     "shell.execute_reply": "2021-03-06T14:09:49.061741Z"
    }
   },
   "outputs": [
    {
     "data": {
      "image/png": "[encoded data removed]",
      "text/plain": [
       "<Figure size 432x288 with 1 Axes>"
      ]
     },
     "metadata": {
      "needs_background": "light"
     },
     "output_type": "display_data"
    }
   ],
   "source": [
    "import matplotlib.pyplot as plt\n",
    "\n",
    "mp_instances = [samps.median_pdf_instance for samps in agg.values(\"samples\")]\n",
    "ue3_instances = [\n",
    "    samp.error_instance_at_upper_sigma(sigma=3.0) for samp in agg.values(\"samples\")\n",
    "]\n",
    "le3_instances = [\n",
    "    samp.error_instance_at_lower_sigma(sigma=3.0) for samp in agg.values(\"samples\")\n",
    "]\n",
    "\n",
    "mp_sigmas = [instance.gaussian.sigma for instance in mp_instances]\n",
    "ue3_sigmas = [instance.gaussian.sigma for instance in ue3_instances]\n",
    "le3_sigmas = [instance.gaussian.sigma for instance in le3_instances]\n",
    "mp_intensitys = [instance.gaussian.intensity for instance in mp_instances]\n",
    "ue3_intensitys = [instance.gaussian.intensity for instance in ue3_instances]\n",
    "le3_intensitys = [instance.gaussian.intensity for instance in le3_instances]\n",
    "\n",
    "plt.errorbar(\n",
    "    x=mp_sigmas,\n",
    "    y=mp_intensitys,\n",
    "    marker=\".\",\n",
    "    linestyle=\"\",\n",
    "    xerr=[le3_sigmas, ue3_sigmas],\n",
    "    yerr=[le3_intensitys, ue3_intensitys],\n",
    ")\n",
    "plt.show()"
   ]
  },
  {
   "cell_type": "markdown",
   "metadata": {},
   "source": [
    "With that, tutorial 2 is complete. \n",
    "\n",
    "The take home point of this tutorial is that everything that is available in a `Result` or `Samples` object is \n",
    "accessible via the `Aggregator`. "
   ]
  },
  {
   "cell_type": "code",
   "execution_count": null,
   "metadata": {},
   "outputs": [],
   "source": []
  }
 ],
 "metadata": {
  "anaconda-cloud": {},
  "kernelspec": {
   "display_name": "Python 3",
   "language": "python",
   "name": "python3"
  },
  "language_info": {
   "codemirror_mode": {
    "name": "ipython",
    "version": 3
   },
   "file_extension": ".py",
   "mimetype": "text/x-python",
   "name": "python",
   "nbconvert_exporter": "python",
   "pygments_lexer": "ipython3",
   "version": "3.8.5"
  }
 },
 "nbformat": 4,
 "nbformat_minor": 4
}
