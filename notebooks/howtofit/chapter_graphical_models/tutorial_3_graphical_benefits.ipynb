{
  "cells": [
    {
      "cell_type": "markdown",
      "metadata": {},
      "source": [
        "Tutorial 3: Graphical Benefits\n",
        "==============================\n",
        "\n",
        "In the previous tutorials, we fitted a dataset containing 5 noisy 1D Gaussian which had a shared `centre` value and\n",
        "compared different approaches to estimate the shared `centre`. This included a simple approach fitting each dataset\n",
        "one-by-one and estimating the centre via a weighted average or posterior multiplication and a more complicated\n",
        "approach using a graphical model.\n",
        "\n",
        "The estimates were consistent with one another, making it hard to justify the use of the more complicated graphical\n",
        "model. However, the model fitted in the previous tutorial was extremely simple, and by making it slightly more complex\n",
        "we will show the benefits of the graphical model.\n",
        "\n",
        "__The Model__\n",
        "\n",
        "In this tutorial, each dataset now contains two Gaussians, and they all have the same shared centres, located at\n",
        "pixels 40 and 60."
      ]
    },
    {
      "cell_type": "code",
      "metadata": {},
      "source": [
        "%matplotlib inline\n",
        "from pyprojroot import here\n",
        "workspace_path = str(here())\n",
        "%cd $workspace_path\n",
        "print(f\"Working Directory has been set to `{workspace_path}`\")\n",
        "\n",
        "import numpy as np\n",
        "from os import path\n",
        "\n",
        "import autofit as af\n",
        "import autofit.plot as aplt"
      ],
      "outputs": [],
      "execution_count": null
    },
    {
      "cell_type": "markdown",
      "metadata": {},
      "source": [
        "__Example Source Code (`af.ex`)__\n",
        "\n",
        "The **PyAutoFit** source code has the following example objects (accessed via `af.ex`) used in this tutorial:\n",
        "\n",
        " - `Analysis`: an analysis object which fits noisy 1D datasets, including `log_likelihood_function` and \n",
        " `visualize` functions.\n",
        "\n",
        " - `Gaussian`: a model component representing a 1D Gaussian profile.\n",
        "\n",
        " - `plot_profile_1d`: a function for plotting 1D profile datasets including their noise.\n",
        "\n",
        "These are functionally identical to the `Analysis`, `Gaussian` and `plot_profile_1d` objects and functions you have seen \n",
        "and used elsewhere throughout the workspace.\n",
        "\n",
        "__Dataset__\n",
        "\n",
        "For each dataset we now set up the correct path and load it. \n",
        "\n",
        "Note that we are loading a new dataset called `gaussian_x2__offset_centres`."
      ]
    },
    {
      "cell_type": "code",
      "metadata": {},
      "source": [
        "total_datasets = 5\n",
        "\n",
        "dataset_name_list = []\n",
        "data_list = []\n",
        "noise_map_list = []\n",
        "\n",
        "for dataset_index in range(total_datasets):\n",
        "    dataset_name = f\"dataset_{dataset_index}\"\n",
        "\n",
        "    dataset_path = path.join(\n",
        "        \"dataset\", \"example_1d\", \"gaussian_x2__offset_centres\", dataset_name\n",
        "    )\n",
        "\n",
        "    data = af.util.numpy_array_from_json(file_path=path.join(dataset_path, \"data.json\"))\n",
        "    noise_map = af.util.numpy_array_from_json(\n",
        "        file_path=path.join(dataset_path, \"noise_map.json\")\n",
        "    )\n",
        "\n",
        "    dataset_name_list.append(dataset_name)\n",
        "    data_list.append(data)\n",
        "    noise_map_list.append(noise_map)"
      ],
      "outputs": [],
      "execution_count": null
    },
    {
      "cell_type": "markdown",
      "metadata": {},
      "source": [
        "By plotting the datasets we see that each dataset contains two Gaussians. \n",
        "\n",
        "Their centres are offset from one another and not located at pixel 50, like in the previous tutorials. \n",
        "\n",
        "As discussed above, the Gaussians in every dataset are in facted centred at pixels 40 and 60."
      ]
    },
    {
      "cell_type": "code",
      "metadata": {},
      "source": [
        "for dataset_name, data in zip(dataset_name_list, data_list):\n",
        "    af.ex.plot_profile_1d(\n",
        "        xvalues=np.arange(data.shape[0]),\n",
        "        profile_1d=data,\n",
        "        title=dataset_name,\n",
        "        ylabel=\"Data Values\",\n",
        "        color=\"k\",\n",
        "    )"
      ],
      "outputs": [],
      "execution_count": null
    },
    {
      "cell_type": "markdown",
      "metadata": {},
      "source": [
        "__Analysis__\n",
        "\n",
        "For each dataset we now create a corresponding `Analysis` class. "
      ]
    },
    {
      "cell_type": "code",
      "metadata": {},
      "source": [
        "analysis_list = []\n",
        "\n",
        "for data, noise_map in zip(data_list, noise_map_list):\n",
        "    analysis = af.ex.Analysis(data=data, noise_map=noise_map)\n",
        "\n",
        "    analysis_list.append(analysis)"
      ],
      "outputs": [],
      "execution_count": null
    },
    {
      "cell_type": "markdown",
      "metadata": {},
      "source": [
        "__Model (one-by-one)__\n",
        "\n",
        "We are first going to fit each dataset one by one.\n",
        "\n",
        "Our model therefore now has two 1D `Gaussian`'s.\n",
        "\n",
        "To remove solutions where the Gaussians flip locations and fit the other Gaussian, we set uniform priors on the\n",
        "`centre`'s which ensures one Gaussian stays on the left side of the data (fitting the Gaussian at pixel 40) \n",
        "whilst the other stays on the right (fitting the Gaussian at pixel 60)."
      ]
    },
    {
      "cell_type": "code",
      "metadata": {},
      "source": [
        "gaussian_0 = af.Model(af.ex.Gaussian)\n",
        "\n",
        "gaussian_0.centre = af.UniformPrior(lower_limit=0.0, upper_limit=50.0)\n",
        "\n",
        "gaussian_1 = af.Model(af.ex.Gaussian)\n",
        "\n",
        "gaussian_1.centre = af.UniformPrior(lower_limit=50.0, upper_limit=100.0)\n",
        "\n",
        "model = af.Collection(gaussian_0=gaussian_0, gaussian_1=gaussian_1)"
      ],
      "outputs": [],
      "execution_count": null
    },
    {
      "cell_type": "markdown",
      "metadata": {},
      "source": [
        "__Model Fits (one-by-one)__\n",
        "\n",
        "For every dataset we now create an `Analysis` and fit it with a `Gaussian`.\n",
        "\n",
        "The `Result` is stored in the list `result_list`."
      ]
    },
    {
      "cell_type": "code",
      "metadata": {},
      "source": [
        "result_list = []\n",
        "\n",
        "for i, analysis in enumerate(analysis_list):\n",
        "    \"\"\"\n",
        "    Create the `DynestyStatic` non-linear search and use it to fit the data.\n",
        "\n",
        "    We use custom dynesty settings which ensure the posterior is explored fully and that our error estimates are robust.\n",
        "    \"\"\"\n",
        "    search = af.DynestyStatic(\n",
        "        name=f\"individual_fit_{i}\",\n",
        "        path_prefix=path.join(\n",
        "            \"howtofit\", \"chapter_graphical_models\", \"tutorial_3_graphical_benefits\"\n",
        "        ),\n",
        "        nlive=200,\n",
        "        dlogz=1e-4,\n",
        "        sample=\"rwalk\",\n",
        "        walks=10,\n",
        "    )\n",
        "\n",
        "    print(\n",
        "        f\"The non-linear search has begun running, checkout \\n\"\n",
        "        f\"autofit_workspace/output/howtofit/chapter_graphical_models/tutorial_3_graphical_benefits/{dataset_name} for live \\n\"\n",
        "        f\"output of the results. This Jupyter notebook cell with progress once search has completed, this could take a \\n\"\n",
        "        f\"few minutes!\"\n",
        "    )\n",
        "\n",
        "    result_list.append(search.fit(model=model, analysis=analysis))"
      ],
      "outputs": [],
      "execution_count": null
    },
    {
      "cell_type": "markdown",
      "metadata": {},
      "source": [
        "__Centre Estimates (Weighted Average)__\n",
        "\n",
        "We can now compute the centre estimate of both Gaussians, including their errors, from the individual model fits\n",
        "performed above."
      ]
    },
    {
      "cell_type": "code",
      "metadata": {},
      "source": [
        "samples_list = [result.samples for result in result_list]\n",
        "\n",
        "mp_instances = [samps.median_pdf() for samps in samples_list]\n",
        "\n",
        "mp_centres_0 = [instance.gaussian_0.centre for instance in mp_instances]\n",
        "mp_centres_1 = [instance.gaussian_1.centre for instance in mp_instances]\n",
        "\n",
        "ue1_instances = [samp.values_at_upper_sigma(sigma=1.0) for samp in samples_list]\n",
        "le1_instances = [samp.values_at_lower_sigma(sigma=1.0) for samp in samples_list]\n",
        "\n",
        "ue1_centres_0 = [instance.gaussian_0.centre for instance in ue1_instances]\n",
        "le1_centres_0 = [instance.gaussian_0.centre for instance in le1_instances]\n",
        "\n",
        "error_0_list = [ue1 - le1 for ue1, le1 in zip(ue1_centres_0, le1_centres_0)]\n",
        "\n",
        "values_0 = np.asarray(mp_centres_0)\n",
        "sigmas_0 = np.asarray(error_0_list)\n",
        "\n",
        "weights_0 = 1 / sigmas_0**2.0\n",
        "weight_averaged_0 = np.sum(1.0 / sigmas_0**2)\n",
        "\n",
        "weighted_centre_0 = np.sum(values_0 * weights_0) / np.sum(weights_0, axis=0)\n",
        "weighted_error_0 = 1.0 / np.sqrt(weight_averaged_0)\n",
        "\n",
        "ue1_centres_1 = [instance.gaussian_1.centre for instance in ue1_instances]\n",
        "le1_centres_1 = [instance.gaussian_1.centre for instance in le1_instances]\n",
        "\n",
        "error_1_list = [ue1 - le1 for ue1, le1 in zip(ue1_centres_1, le1_centres_1)]\n",
        "\n",
        "values_1 = np.asarray(mp_centres_1)\n",
        "sigmas_1 = np.asarray(error_1_list)\n",
        "\n",
        "weights_1 = 1 / sigmas_1**2.0\n",
        "weight_averaged_1 = np.sum(1.0 / sigmas_1**2)\n",
        "\n",
        "weighted_centre_1 = np.sum(values_1 * weights_1) / np.sum(weights_1, axis=0)\n",
        "weighted_error_1 = 1.0 / np.sqrt(weight_averaged_1)\n",
        "\n",
        "\n",
        "print(\n",
        "    f\"Centre 0 via Weighted Average: {weighted_centre_0} ({weighted_error_0}) [1.0 sigma confidence intervals]\"\n",
        ")\n",
        "print(\n",
        "    f\"Centre 1 via Weighted Average: {weighted_centre_1} ({weighted_error_1}) [1.0 sigma confidence intervals]\"\n",
        ")"
      ],
      "outputs": [],
      "execution_count": null
    },
    {
      "cell_type": "markdown",
      "metadata": {},
      "source": [
        "The estimate of the centres is not accurate, with both estimates well offset from the input values of 40 and 60.\n",
        "\n",
        "We will next show that the graphical model offers a notable improvement, but first lets consider why this\n",
        "approach is suboptimal.\n",
        "\n",
        "The most important difference between this model and the model fitted in the previous tutorial is that there are now\n",
        "two shared parameters we are trying to estimate, which are degenerate with one another.\n",
        "\n",
        "We can see this by inspecting the probability distribution function (PDF) of the fit, placing particular focus on the \n",
        "2D degeneracy between the Gaussians centres. "
      ]
    },
    {
      "cell_type": "code",
      "metadata": {},
      "source": [
        "search_plotter = aplt.DynestyPlotter(samples=result_list[0].samples)\n",
        "search_plotter.cornerplot()"
      ],
      "outputs": [],
      "execution_count": null
    },
    {
      "cell_type": "markdown",
      "metadata": {},
      "source": [
        "The problem is that the simple approach of taking a weighted average does not capture the curved banana-like shape\n",
        "of the PDF between the two centres. This leads to significant error over estimation and biased inferences on the centre.\n",
        "\n",
        "__Discussion__\n",
        "\n",
        "Let us now consider other downsides of fitting each dataset one-by-one, from a statistical perspective. We \n",
        "will contrast these to the graphical model later in the tutorial:\n",
        "\n",
        "1) By fitting each dataset one-by-one this means that each model-fit fails to fully exploit the information we know \n",
        "about the global model. We know that there are only two single shared values of `centre` across the full dataset \n",
        "that we want to estimate. However, each individual fit has its own `centre` value which is able to assume different \n",
        "values than the `centre` values used to fit the other datasets. This means that large degeneracies between the two \n",
        "centres are present in each model-fit.\n",
        "\n",
        "By not fitting our model as a global model, we do not maximize the amount of information that we can extract from the \n",
        "dataset as a whole. If a model fits dataset 1 poorly, this should be reflected in how we interpret how well the model \n",
        "fits datasets 2 and 3. Our non-linear search should have a global view of how well the model fits the whole dataset. \n",
        "This is the crucial aspect of fitting each dataset individually that we miss, and what a graphical model addresses.\n",
        "\n",
        "2) When we combined the result to estimate the global `centre` value via a weighted average, we marginalized over \n",
        "the samples in 1D. As showed above, when there are strong degeneracies between models parameters the information on \n",
        "the covariance between these parameters is lost when computing the global `centre`. This increases the inferred \n",
        "uncertainties. A graphical model performs no such 1D marginalization and therefore fully samples the\n",
        "parameter covariances.\n",
        " \n",
        "3) In Bayesian inference it is important that we define priors on all of the model parameters. By estimating the \n",
        "global `centre` after the model-fits are completed it is unclear what prior the global `centre` actually has! We\n",
        "actually defined the prior five times -- once for each fit -- which is not a well defined prior. In a graphical model \n",
        "the prior is clearly defined.\n",
        "\n",
        "What would have happened if we had estimate the shared centres via 2D posterior multiplication using a KDE? We\n",
        "will discuss this at the end of the tutorial after fitting a graphical model.\n",
        "\n",
        "__Model (Graphical)__\n",
        "\n",
        "We now compose a graphical model and fit it.\n",
        "\n",
        "Our model now consists of two Gaussians with two `centre_shared_prior` variables, such that the same centres are\n",
        "used for each Gaussians across all datasets. \n",
        "\n",
        "We again restrict one Gaussian's centre between pixels 0 -> 50 and the other 50 -> 100 to remove solutions where\n",
        "the Gaussians flip location."
      ]
    },
    {
      "cell_type": "code",
      "metadata": {},
      "source": [
        "centre_0_shared_prior = af.UniformPrior(lower_limit=0.0, upper_limit=50.0)\n",
        "centre_1_shared_prior = af.UniformPrior(lower_limit=50.0, upper_limit=100.0)"
      ],
      "outputs": [],
      "execution_count": null
    },
    {
      "cell_type": "markdown",
      "metadata": {},
      "source": [
        "We now set up a list of `Model`'s, each of which contain two `Gaussian`'s that are used to fit each of the datasets \n",
        "loaded above.\n",
        "\n",
        "All of these `Model`'s use the `centre_shared_prior`'s abpve. This means all model-components use the same value \n",
        "of `centre` for every model composed and fitted. \n",
        "\n",
        "For a fit to five datasets (each using two Gaussians), this reduces the dimensionality of parameter space \n",
        "from N=30 (e.g. 6 parameters per pair of Gaussians) to N=22 (e.g. 10 `sigma`'s 10 `normalizations` and 2 `centre`'s)."
      ]
    },
    {
      "cell_type": "code",
      "metadata": {},
      "source": [
        "model_list = []\n",
        "\n",
        "for model_index in range(len(data_list)):\n",
        "    gaussian_0 = af.Model(af.ex.Gaussian)\n",
        "    gaussian_1 = af.Model(af.ex.Gaussian)\n",
        "\n",
        "    gaussian_0.centre = centre_0_shared_prior  # This prior is used by all Gaussians!\n",
        "    gaussian_1.centre = centre_1_shared_prior  # This prior is used by all Gaussians!\n",
        "\n",
        "    model = af.Collection(gaussian_0=gaussian_0, gaussian_1=gaussian_1)\n",
        "\n",
        "    model_list.append(model)"
      ],
      "outputs": [],
      "execution_count": null
    },
    {
      "cell_type": "markdown",
      "metadata": {},
      "source": [
        "__Analysis Factors__\n",
        "\n",
        "We again create the graphical model using `AnalysisFactor` objects."
      ]
    },
    {
      "cell_type": "code",
      "metadata": {},
      "source": [
        "analysis_factor_list = []\n",
        "\n",
        "for model, analysis in zip(model_list, analysis_list):\n",
        "    analysis_factor = af.AnalysisFactor(prior_model=model, analysis=analysis)\n",
        "\n",
        "    analysis_factor_list.append(analysis_factor)"
      ],
      "outputs": [],
      "execution_count": null
    },
    {
      "cell_type": "markdown",
      "metadata": {},
      "source": [
        "__Factor Graph__\n",
        "\n",
        "The analysis factors are then used to create the factor graph."
      ]
    },
    {
      "cell_type": "code",
      "metadata": {},
      "source": [
        "factor_graph = af.FactorGraphModel(*analysis_factor_list)"
      ],
      "outputs": [],
      "execution_count": null
    },
    {
      "cell_type": "markdown",
      "metadata": {},
      "source": [
        "The factor graph model can again be printed via the `info` attribute, which shows that there are two shared\n",
        "parameters across the datasets."
      ]
    },
    {
      "cell_type": "code",
      "metadata": {},
      "source": [
        "print(factor_graph.global_prior_model.info)"
      ],
      "outputs": [],
      "execution_count": null
    },
    {
      "cell_type": "markdown",
      "metadata": {},
      "source": [
        "__Search__\n",
        "\n",
        "We can now create a non-linear search and use it to the fit the factor graph, again using its `global_prior_model` \n",
        "property."
      ]
    },
    {
      "cell_type": "code",
      "metadata": {},
      "source": [
        "search = af.DynestyStatic(\n",
        "    path_prefix=path.join(\"howtofit\", \"chapter_graphical_models\"),\n",
        "    name=\"tutorial_3_graphical_benefits\",\n",
        "    sample=\"rwalk\",\n",
        ")\n",
        "\n",
        "result = search.fit(model=factor_graph.global_prior_model, analysis=factor_graph)"
      ],
      "outputs": [],
      "execution_count": null
    },
    {
      "cell_type": "markdown",
      "metadata": {},
      "source": [
        "__Result__\n",
        "\n",
        "The result's `info` attribute shows that the result is expressed following the same structure of analysis factors\n",
        "that the `global_prior_model.info` attribute revealed above."
      ]
    },
    {
      "cell_type": "code",
      "metadata": {},
      "source": [
        "print(result.info)"
      ],
      "outputs": [],
      "execution_count": null
    },
    {
      "cell_type": "markdown",
      "metadata": {},
      "source": [
        "We can now inspect the inferred `centre` values and compare this to the values estimated above via a weighted average.  \n",
        "\n",
        "(The errors of the weighted average is what was estimated for a run on my PC, yours may be slightly different!)"
      ]
    },
    {
      "cell_type": "code",
      "metadata": {},
      "source": [
        "centre_0 = result.samples.median_pdf()[0].gaussian_0.centre\n",
        "\n",
        "u1_error_0 = result.samples.values_at_upper_sigma(sigma=1.0)[0].gaussian_0.centre\n",
        "l1_error_0 = result.samples.values_at_lower_sigma(sigma=1.0)[0].gaussian_0.centre\n",
        "\n",
        "u3_error_0 = result.samples.values_at_upper_sigma(sigma=3.0)[0].gaussian_0.centre\n",
        "l3_error_0 = result.samples.values_at_lower_sigma(sigma=3.0)[0].gaussian_0.centre\n",
        "\n",
        "centre_1 = result.samples.median_pdf()[0].gaussian_1.centre\n",
        "\n",
        "u1_error_1 = result.samples.values_at_upper_sigma(sigma=1.0)[0].gaussian_1.centre\n",
        "l1_error_1 = result.samples.values_at_lower_sigma(sigma=1.0)[0].gaussian_1.centre\n",
        "\n",
        "u3_error_1 = result.samples.values_at_upper_sigma(sigma=3.0)[0].gaussian_1.centre\n",
        "l3_error_1 = result.samples.values_at_lower_sigma(sigma=3.0)[0].gaussian_1.centre\n",
        "\n",
        "\n",
        "print(\n",
        "    f\"Centre 0 via Weighted Average: 29.415828686393333 (15.265325182888517) [1.0 sigma confidence intervals] \\n\"\n",
        ")\n",
        "print(\n",
        "    f\"Centre 1 via Weighted Average: 54.13825075629124 (2.3460686758693234) [1.0 sigma confidence intervals] \\n\"\n",
        ")\n",
        "\n",
        "print(\n",
        "    f\"Inferred value of Gaussian 0's shared centre via a graphical fit to {total_datasets} datasets: \\n\"\n",
        ")\n",
        "print(\n",
        "    f\"{centre_0} ({l1_error_0} {u1_error_0}) ({u1_error_0 - l1_error_0}) [1.0 sigma confidence intervals]\"\n",
        ")\n",
        "print(\n",
        "    f\"{centre_0} ({l3_error_0} {u3_error_0}) ({u3_error_0 - l3_error_0}) [3.0 sigma confidence intervals]\"\n",
        ")\n",
        "\n",
        "print(\n",
        "    f\"Inferred value of Gaussian 1's shared centre via a graphical fit to {total_datasets} datasets: \\n\"\n",
        ")\n",
        "print(\n",
        "    f\"{centre_1} ({l1_error_1} {u1_error_1}) ({u1_error_1 - l1_error_1}) [1.0 sigma confidence intervals]\"\n",
        ")\n",
        "print(\n",
        "    f\"{centre_1} ({l3_error_1} {u3_error_1}) ({u3_error_1 - l3_error_1}) [3.0 sigma confidence intervals]\"\n",
        ")"
      ],
      "outputs": [],
      "execution_count": null
    },
    {
      "cell_type": "markdown",
      "metadata": {},
      "source": [
        "As expected, using a graphical model allows us to infer a more precise and accurate model.\n",
        "\n",
        "__Discussion__\n",
        "\n",
        "Unlike a fit to each dataset one-by-one, the graphical model:\n",
        "\n",
        "1) Infers a PDF on the global centre that fully accounts for the degeneracies between the models fitted to different \n",
        "datasets. This reduces significantly the large 2D degeneracies between the two centres we saw when inspecting the PDFs \n",
        "of each individual fit.\n",
        "\n",
        "2) Fully exploits the information we know about the global model, for example that the centre of every Gaussian in every \n",
        "dataset is aligned. Now, the fit of the Gaussian in dataset 1 informs the fits in datasets 2 and 3, and visa versa.\n",
        "\n",
        "3) Has a well defined prior on the global centre, instead of 5 independent priors on the centre of each dataset.\n",
        "\n",
        "__Posterior Multiplication__\n",
        "\n",
        "What if we had combined the results of the individual model fits using 2D posterior multiplication via a KDE?\n",
        "\n",
        "This would produce an inaccurate estimate of the error, because each posterior contains the prior on the centre five \n",
        "times which given the properties of this model should not be repeated.\n",
        "\n",
        "However, it is possible to convert each posterior to a likelihood (by dividing by its prior), combining these 5\n",
        "likelihoods to form a joint likelihood via 2D KDE multiplication and then insert just one prior back (again using a 2D\n",
        "KDE) at the end to get a posterior which does not have repeated priors. \n",
        "\n",
        "This posterior, in theory, should be equivalent to the graphical model, giving the same accurate estimates of the\n",
        "centres with precise errors. The process extracts the same information, fully accounting for the 2D structure of the\n",
        "PDF between the two centres for each fit.\n",
        "\n",
        "However, in practise, this will likely not work well. Every time we use a KDE to represent and multiply a posterior, we \n",
        "make an approximation which will impact our inferred errors. The removal of the prior before combining the likelihood\n",
        "and reinserting it after also introduces approximations, especially because the fit performed by the non-linear search\n",
        "is informed by the prior. \n",
        "\n",
        "Crucially, whilst posterior multiplication can work in two dimensions, for models with many more dimensions and \n",
        "degeneracies between parameters that are in 3D, 4D of more dimensions it will introduce more and more numerical\n",
        "inaccuracies.\n",
        "\n",
        "A graphical model fully samples all of the information a large dataset contains about the model, without making \n",
        "such large approximation. Therefore, irrespective of how complex the model gets, it extracts significantly more \n",
        "information contained in the dataset.\n",
        "\n",
        "__Wrap Up__\n",
        "\n",
        "In this tutorial, we demonstrated the strengths of a graphical model over fitting each dataset one-by-one. \n",
        "\n",
        "We argued that irrespective of how one may try to combine the results of many individual fits, the approximations that \n",
        "are made will always lead to a suboptimal estimation of the model parameters and fail to fully extract all information\n",
        "from the dataset. \n",
        "\n",
        "We argued that for high dimensional complex models a graphical model is the only way to fully extract all of the \n",
        "information contained in the dataset.\n",
        "\n",
        "In the next tutorial, we will consider a natural extension of a graphical model called a hierarchical model."
      ]
    },
    {
      "cell_type": "code",
      "metadata": {},
      "source": [],
      "outputs": [],
      "execution_count": null
    }
  ],
  "metadata": {
    "anaconda-cloud": {},
    "kernelspec": {
      "display_name": "Python 3",
      "language": "python",
      "name": "python3"
    },
    "language_info": {
      "codemirror_mode": {
        "name": "ipython",
        "version": 3
      },
      "file_extension": ".py",
      "mimetype": "text/x-python",
      "name": "python",
      "nbconvert_exporter": "python",
      "pygments_lexer": "ipython3",
      "version": "3.6.1"
    }
  },
  "nbformat": 4,
  "nbformat_minor": 4
}