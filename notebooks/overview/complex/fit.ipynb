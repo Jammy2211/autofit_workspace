{
 "cells": [
  {
   "cell_type": "markdown",
   "metadata": {},
   "source": [
    "Overview: Complex Fit\n",
    "=====================\n",
    "\n",
    "In this example, we'll fit 1D data of a `Gaussian` and Exponential profile with a 1D `Gaussian` + Exponential model\n",
    "using MCMC, nested sampling and optimization non-linear searches."
   ]
  },
  {
   "cell_type": "code",
   "metadata": {},
   "source": [
    "%matplotlib inline\n",
    "\n",
    "import autofit as af\n",
    "\n",
    "import matplotlib.pyplot as plt\n",
    "import numpy as np\n",
    "import os\n",
    "from os import path"
   ],
   "outputs": [],
   "execution_count": 1
  },
  {
   "cell_type": "markdown",
   "source": [
    "At the top of every tutorial notebook, you'll see the following cell. This cell uses the project `pyprojroot` to\n",
    "locate the path to the workspace on your computer and use it to set the working directory of the notebook."
   ],
   "metadata": {
    "collapsed": false
   }
  },
  {
   "cell_type": "code",
   "execution_count": 2,
   "outputs": [
    {
     "name": "stdout",
     "output_type": "stream",
     "text": [
      "C:\\Users\\Jammy\\Code\\PyAuto\\autofit_workspace\n",
      "Working Directory has been set to `C:\\Users\\Jammy\\Code\\PyAuto\\autofit_workspace`\n"
     ]
    }
   ],
   "source": [
    "from pyprojroot import here\n",
    "workspace_path = str(here())\n",
    "%cd $workspace_path\n",
    "print(f\"Working Directory has been set to `{workspace_path}`\")"
   ],
   "metadata": {
    "collapsed": false,
    "pycharm": {
     "name": "#%%\n"
    }
   }
  },
  {
   "cell_type": "markdown",
   "metadata": {},
   "source": [
    "__Data__\n",
    "\n",
    "First, lets load data of a 1D `Gaussian` + 1D `Exponential`, by loading it from a .json file in the directory\n",
    "`autofit_workspace/dataset//gaussian_x1__exponential_x1`."
   ]
  },
  {
   "cell_type": "code",
   "metadata": {},
   "source": [
    "dataset_path = path.join(\"dataset\", \"example_1d\", \"gaussian_x1__exponential_x1\")\n",
    "\n",
    "data = af.util.numpy_array_from_json(file_path=path.join(dataset_path, \"data.json\"))\n",
    "noise_map = af.util.numpy_array_from_json(\n",
    "    file_path=path.join(dataset_path, \"noise_map.json\")\n",
    ")"
   ],
   "outputs": [],
   "execution_count": 3
  },
  {
   "cell_type": "markdown",
   "metadata": {},
   "source": [
    "Now lets plot the data, including its error bars. We'll use its shape to determine the xvalues of the\n",
    "data for the plot."
   ]
  },
  {
   "cell_type": "code",
   "metadata": {},
   "source": [
    "xvalues = range(data.shape[0])\n",
    "plt.errorbar(\n",
    "    x=xvalues, y=data, yerr=noise_map, color=\"k\", ecolor=\"k\", elinewidth=1, capsize=2\n",
    ")\n",
    "plt.title(\"1D Gaussian + Exponential dataset.\")\n",
    "plt.xlabel(\"x values of profile\")\n",
    "plt.ylabel(\"Profile intensity\")\n",
    "plt.show()\n",
    "plt.close()"
   ],
   "outputs": [
    {
     "data": {
      "text/plain": "<Figure size 432x288 with 1 Axes>",
      "image/png": "[encoded data removed]"
     },
     "metadata": {
      "needs_background": "light"
     },
     "output_type": "display_data"
    }
   ],
   "execution_count": 4
  },
  {
   "cell_type": "markdown",
   "metadata": {},
   "source": [
    "__Model__\n",
    "\n",
    "Next, we create our model, which in this case corresponds to a `Gaussian` + Exponential.\n",
    "\n",
    "We therefore need two classes, one for each model component."
   ]
  },
  {
   "cell_type": "code",
   "execution_count": 5,
   "outputs": [],
   "source": [
    "class Gaussian:\n",
    "\n",
    "    def __init__(\n",
    "        self,\n",
    "        centre=0.0,  # <- PyAutoFit recognises these constructor arguments\n",
    "        intensity=0.1,  # <- are the Gaussian`s model parameters.\n",
    "        sigma=0.01,\n",
    "    ):\n",
    "        \"\"\"Represents a 1D `Gaussian` profile, which may be treated as a model-component of PyAutoFit the\n",
    "        parameters of which are fitted for by a non-linear search.\n",
    "\n",
    "        Parameters\n",
    "        ----------\n",
    "        centre : float\n",
    "            The x coordinate of the profile centre.\n",
    "        intensity : float\n",
    "            Overall intensity normalisation of the `Gaussian` profile.\n",
    "        sigma : float\n",
    "            The sigma value controlling the size of the Gaussian.\n",
    "        \"\"\"\n",
    "\n",
    "        self.centre = centre\n",
    "        self.intensity = intensity\n",
    "        self.sigma = sigma\n",
    "\n",
    "    def profile_from_xvalues(self, xvalues):\n",
    "        \"\"\"\n",
    "        Calculate the intensity of the profile on a line of Cartesian x coordinates.\n",
    "\n",
    "        The input xvalues are translated to a coordinate system centred on the Gaussian, using its centre.\n",
    "\n",
    "        Parameters\n",
    "        ----------\n",
    "        values : np.ndarray\n",
    "            The x coordinates in the original reference frame of the grid.\n",
    "        \"\"\"\n",
    "        transformed_xvalues = np.subtract(xvalues, self.centre)\n",
    "        return np.multiply(\n",
    "            np.divide(self.intensity, self.sigma * np.sqrt(2.0 * np.pi)),\n",
    "            np.exp(-0.5 * np.square(np.divide(transformed_xvalues, self.sigma))),\n",
    "        )"
   ],
   "metadata": {
    "collapsed": false,
    "pycharm": {
     "name": "#%%\n"
    }
   }
  },
  {
   "cell_type": "code",
   "execution_count": 6,
   "outputs": [],
   "source": [
    "class Exponential:\n",
    "    def __init__(\n",
    "        self,\n",
    "        centre=0.0,  # <- PyAutoFit recognises these constructor arguments are the model\n",
    "        intensity=0.1,  # <- parameters of the Exponential.\n",
    "        rate=0.01,\n",
    "    ):\n",
    "        \"\"\"Represents a 1D Exponential profile symmetric about a centre, which may be treated as a model-component\n",
    "        of PyAutoFit the parameters of which are fitted for by a non-linear search.\n",
    "\n",
    "        Parameters\n",
    "        ----------\n",
    "        centre : float\n",
    "            The x coordinate of the profile centre.\n",
    "        intensity : float\n",
    "            Overall intensity normalisation of the `Gaussian` profile.\n",
    "        ratw : float\n",
    "            The decay rate controlling has fast the Exponential declines.\n",
    "        \"\"\"\n",
    "\n",
    "        self.centre = centre\n",
    "        self.intensity = intensity\n",
    "        self.rate = rate\n",
    "\n",
    "    def profile_from_xvalues(self, xvalues):\n",
    "        \"\"\"\n",
    "        Calculate the intensity of the profile on a line of Cartesian x coordinates.\n",
    "\n",
    "        The input xvalues are translated to a coordinate system centred on the Exponential, using its centre.\n",
    "\n",
    "        Parameters\n",
    "        ----------\n",
    "        values : np.ndarray\n",
    "            The x coordinates in the original reference frame of the grid.\n",
    "        \"\"\"\n",
    "        transformed_xvalues = np.subtract(xvalues, self.centre)\n",
    "        return self.intensity * np.multiply(\n",
    "            self.rate, np.exp(-1.0 * self.rate * abs(transformed_xvalues))\n",
    "        )"
   ],
   "metadata": {
    "collapsed": false,
    "pycharm": {
     "name": "#%%\n"
    }
   }
  },
  {
   "cell_type": "markdown",
   "source": [
    "The `Gaussian` has 3 parameters (centre, intensity and sigma) and Exponential 3 parameters (centre, intensity and\n",
    "rate). These are the free parameters of our model that the `NonLinearSearch` fits for, meaning the non-linear\n",
    "parameter space has dimensionality = 6.\n",
    "\n",
    "In the simple example tutorial, we used a `PriorModel` to create the model of the Gaussian. `PriorModel'`s do not compose\n",
    "models from multiple model components and for this example we must instead use the `CollectionPriorModel`."
   ],
   "metadata": {
    "collapsed": false
   }
  },
  {
   "cell_type": "code",
   "metadata": {},
   "source": [
    "model = af.CollectionPriorModel(gaussian=Gaussian, exponential=Exponential)"
   ],
   "outputs": [],
   "execution_count": 7
  },
  {
   "cell_type": "markdown",
   "source": [
    "The priors for the `Gaussian` module component are loaded from the priors specified\n",
    "in `autofit_workspace/config/priors`, which we can print to view."
   ],
   "metadata": {
    "collapsed": false
   }
  },
  {
   "cell_type": "code",
   "execution_count": 8,
   "outputs": [
    {
     "name": "stdout",
     "output_type": "stream",
     "text": [
      "Gaussian (centre, UniformPrior, lower_limit = 0.0, upper_limit = 100.0), (intensity, LogUniformPrior, lower_limit = 1e-06, upper_limit = 1000000.0), (sigma, UniformPrior, lower_limit = 0.0, upper_limit = 25.0), Exponential (centre, UniformPrior, lower_limit = 0.0, upper_limit = 100.0), (intensity, LogUniformPrior, lower_limit = 1e-06, upper_limit = 1000000.0), (rate, UniformPrior, lower_limit = 0.0, upper_limit = 1.0)\n"
     ]
    }
   ],
   "source": [
    "print(model)"
   ],
   "metadata": {
    "collapsed": false,
    "pycharm": {
     "name": "#%%\n"
    }
   }
  },
  {
   "cell_type": "markdown",
   "metadata": {},
   "source": [
    "More details on prior configs are given in the **HowToFit** tutorials.\n",
    "\n",
    "We can manually over-ride the priors with our own as follows:\n"
   ]
  },
  {
   "cell_type": "code",
   "metadata": {},
   "source": [
    "model.gaussian.centre = af.UniformPrior(lower_limit=0.0, upper_limit=100.0)\n",
    "model.gaussian.intensity = af.UniformPrior(lower_limit=0.0, upper_limit=1e2)\n",
    "model.gaussian.sigma = af.UniformPrior(lower_limit=0.0, upper_limit=30.0)\n",
    "model.exponential.centre = af.UniformPrior(lower_limit=0.0, upper_limit=100.0)\n",
    "model.exponential.intensity = af.UniformPrior(lower_limit=0.0, upper_limit=1e2)\n",
    "model.exponential.rate = af.UniformPrior(lower_limit=0.0, upper_limit=1.0)\n",
    "\n",
    "print(model)"
   ],
   "outputs": [
    {
     "name": "stdout",
     "output_type": "stream",
     "text": [
      "Gaussian (centre, UniformPrior, lower_limit = 0.0, upper_limit = 100.0), (intensity, UniformPrior, lower_limit = 0.0, upper_limit = 100.0), (sigma, UniformPrior, lower_limit = 0.0, upper_limit = 30.0), Exponential (centre, UniformPrior, lower_limit = 0.0, upper_limit = 100.0), (intensity, UniformPrior, lower_limit = 0.0, upper_limit = 100.0), (rate, UniformPrior, lower_limit = 0.0, upper_limit = 1.0)\n"
     ]
    }
   ],
   "execution_count": 9
  },
  {
   "cell_type": "markdown",
   "metadata": {},
   "source": [
    "Above, we named our model-components: we called the `Gaussian` component `gaussian` and Exponential component\n",
    "`exponential`. We could have chosen anything for these names, as shown by the code below."
   ]
  },
  {
   "cell_type": "code",
   "metadata": {},
   "source": [
    "model_custom_names = af.CollectionPriorModel(custom_name=Gaussian, another_custom_name=Exponential)\n",
    "\n",
    "model_custom_names.custom_name.centre = af.UniformPrior(lower_limit=0.0, upper_limit=100.0)\n",
    "model_custom_names.custom_name.intensity = af.UniformPrior(lower_limit=0.0, upper_limit=1e2)\n",
    "model_custom_names.custom_name.sigma = af.UniformPrior(lower_limit=0.0, upper_limit=30.0)\n",
    "model_custom_names.another_custom_name.centre = af.UniformPrior(lower_limit=0.0, upper_limit=100.0)\n",
    "model_custom_names.another_custom_name.intensity = af.UniformPrior(lower_limit=0.0, upper_limit=1e2)\n",
    "model_custom_names.another_custom_name.rate = af.UniformPrior(lower_limit=0.0, upper_limit=1.0)\n",
    "\n",
    "print(model)"
   ],
   "outputs": [
    {
     "name": "stdout",
     "output_type": "stream",
     "text": [
      "Gaussian (centre, UniformPrior, lower_limit = 0.0, upper_limit = 100.0), (intensity, UniformPrior, lower_limit = 0.0, upper_limit = 100.0), (sigma, UniformPrior, lower_limit = 0.0, upper_limit = 30.0), Exponential (centre, UniformPrior, lower_limit = 0.0, upper_limit = 100.0), (intensity, UniformPrior, lower_limit = 0.0, upper_limit = 100.0), (rate, UniformPrior, lower_limit = 0.0, upper_limit = 1.0)\n"
     ]
    }
   ],
   "execution_count": 10
  },
  {
   "cell_type": "markdown",
   "metadata": {},
   "source": [
    "The naming of model components is important - as these names will are adotped by the instance pass to the Analysis\n",
    "class and the results returned by the non-linear search.\n",
    "\n",
    "we'll use the `model` variable from here on, with the more sensible names of `gaussian` and `exponential`."
   ]
  },
  {
   "cell_type": "markdown",
   "metadata": {},
   "source": [
    "__Analysis__\n",
    "\n",
    "We now set up our Analysis, which describes how given an instance of our model (a `Gaussian` + Exponential) we fit the\n",
    "data and return a log likelihood value."
   ]
  },
  {
   "cell_type": "code",
   "execution_count": 11,
   "outputs": [],
   "source": [
    "class Analysis(af.Analysis):\n",
    "\n",
    "    \"\"\"\n",
    "    In this example the Analysis only contains the data and noise-map. It can be easily extended however, for more\n",
    "    complex data-sets and model fitting problems.\n",
    "    \"\"\"\n",
    "\n",
    "    def __init__(self, data, noise_map):\n",
    "\n",
    "        super().__init__()\n",
    "\n",
    "        self.data = data\n",
    "        self.noise_map = noise_map\n",
    "\n",
    "    \"\"\"\n",
    "    In the log_likelihood_function function below, `instance` is an instance of our model, which in this example is\n",
    "    an instance of the `Gaussian` class and Exponential class in `model.py`. Their parameters are set via the\n",
    "    non-linear search. This gives us the instance of the model we need to fit our data!\n",
    "    \"\"\"\n",
    "\n",
    "    def log_likelihood_function(self, instance):\n",
    "        \"\"\"\n",
    "        Determine the log likelihood of a fit of multiple profiles to the dataset.\n",
    "\n",
    "        Parameters\n",
    "        ----------\n",
    "        instance : af.CollectionPriorModel\n",
    "            The model instances of the profiles.\n",
    "\n",
    "        Returnsn\n",
    "        -------\n",
    "        fit : Fit.log_likelihood\n",
    "            The log likelihood value indicating how well this model fit the dataset.\n",
    "        \"\"\"\n",
    "\n",
    "        \"\"\"\n",
    "        The `instance` that comes into this method is a CollectionPriorModel. It contains instances of every class\n",
    "        we instantiated it with, where each instance is named following the names given to the CollectionPriorModel,\n",
    "        which in this example is a `Gaussian` (with name `gaussian) and Exponential (with name `exponential`):\n",
    "        \"\"\"\n",
    "\n",
    "        # print(\"Gaussian Instance:\")\n",
    "        # print(\"Centre = \", instance.gaussian.centre)\n",
    "        # print(\"Intensity = \", instance.gaussian.intensity)\n",
    "        # print(\"Sigma = \", instance.gaussian.sigma)\n",
    "\n",
    "        # print(\"Exponential Instance:\")\n",
    "        # print(\"Centre = \", instance.exponential.centre)\n",
    "        # print(\"Intensity = \", instance.exponential.intensity)\n",
    "        # print(\"Rate = \", instance.exponential.rate)\n",
    "\n",
    "        \"\"\"Get the range of x-values the data is defined on, to evaluate the model of the profiles.\"\"\"\n",
    "        xvalues = np.arange(self.data.shape[0])\n",
    "\n",
    "        \"\"\"\n",
    "        The simplest way to create the summed profile is to add the profile of each model component. If we\n",
    "        know we are going to fit a `Gaussian` + Exponential we can do the following:\n",
    "\n",
    "            model_data_gaussian = instance.gaussian.profile_from_xvalues(xvalues=xvalues)\n",
    "            model_data_exponential = instance.exponential.profile_from_xvalues(xvalues=xvalues)\n",
    "            model_data = model_data_gaussian + model_data_exponential\n",
    "\n",
    "        However, this does not work if we change our model components. However, the *instance* variable is a list of\n",
    "        our model components. We can iterate over this list, calling their profile_from_xvalues and summing the result\n",
    "        to compute the summed profile of any model.\n",
    "        \"\"\"\n",
    "\n",
    "        \"\"\"Use these xvalues to create model data of our profiles.\"\"\"\n",
    "        model_data = sum(\n",
    "            [line.profile_from_xvalues(xvalues=xvalues) for line in instance]\n",
    "        )\n",
    "\n",
    "        \"\"\"Fit the model profile data to the observed data, computing the residuals and chi-squareds.\"\"\"\n",
    "        residual_map = self.data - model_data\n",
    "        chi_squared_map = (residual_map / self.noise_map) ** 2.0\n",
    "        log_likelihood = -0.5 * sum(chi_squared_map)\n",
    "\n",
    "        return log_likelihood\n",
    "\n",
    "    def visualize(self, paths, instance, during_analysis):\n",
    "\n",
    "        \"\"\"\n",
    "        During a model-fit, the `visualize` method is called throughout the non-linear search. The `instance` passed\n",
    "        into the visualize method is maximum log likelihood solution obtained by the model-fit so far and it can be\n",
    "        used to provide on-the-fly images showing how the model-fit is going.\n",
    "        \"\"\"\n",
    "\n",
    "        xvalues = np.arange(self.data.shape[0])\n",
    "\n",
    "        model_datas = [line.profile_from_xvalues(xvalues=xvalues) for line in instance]\n",
    "        model_data = sum(model_datas)\n",
    "\n",
    "        plt.errorbar(\n",
    "            x=xvalues, y=self.data, yerr=self.noise_map, color=\"k\", ecolor=\"k\", elinewidth=1, capsize=2\n",
    "        )\n",
    "        plt.plot(range(self.data.shape[0]), model_data, color=\"r\")\n",
    "        for model_data_individual in model_datas:\n",
    "            plt.plot(range(self.data.shape[0]), model_data_individual, \"--\")\n",
    "        plt.title(\"Dynesty model fit to 1D Gaussian + Exponential dataset.\")\n",
    "        plt.xlabel(\"x values of profile\")\n",
    "        plt.ylabel(\"Profile intensity\")\n",
    "\n",
    "        os.makedirs(paths.image_path, exist_ok=True)\n",
    "        plt.savefig(path.join(paths.image_path, \"model_fit.png\"))\n",
    "        plt.clf()"
   ],
   "metadata": {
    "collapsed": false,
    "pycharm": {
     "name": "#%%\n"
    }
   }
  },
  {
   "cell_type": "markdown",
   "source": [
    "For this simple example, we only have to pass it the data and its noise-map."
   ],
   "metadata": {
    "collapsed": false
   }
  },
  {
   "cell_type": "code",
   "metadata": {},
   "source": [
    "analysis = Analysis(data=data, noise_map=noise_map)"
   ],
   "outputs": [],
   "execution_count": 12
  },
  {
   "cell_type": "markdown",
   "metadata": {},
   "source": [
    "NESTED SAMPLING\n",
    "---------------\n",
    "\n",
    "We finally choose and set up our non-linear search. we'll first fit the data with the nested sampling algorithm\n",
    "Dynesty. Below, we manually specify all of the Dynesty settings, however if we omitted them the default values\n",
    "found in the config file `config/non_linear/Dynesty.ini` would be used.\n",
    "\n",
    "For a full description of Dynesty checkout its Github and documentation webpages:\n",
    "\n",
    "https://github.com/joshspeagle/dynesty\n",
    "https://dynesty.readthedocs.io/en/latest/index.html"
   ]
  },
  {
   "cell_type": "code",
   "metadata": {},
   "source": [
    "dynesty = af.DynestyStatic(\n",
    "    path_prefix=path.join(\"overview\", \"complex\"),\n",
    "    nlive=60,\n",
    "    bound=\"multi\",\n",
    "    sample=\"auto\",\n",
    "    bootstrap=None,\n",
    "    enlarge=None,\n",
    "    update_interval=None,\n",
    "    vol_dec=0.5,\n",
    "    vol_check=2.0,\n",
    "    walks=25,\n",
    "    facc=0.5,\n",
    "    slices=5,\n",
    "    fmove=0.9,\n",
    "    max_move=100,\n",
    "    iterations_per_update=500,\n",
    "    number_of_cores=1,\n",
    ")"
   ],
   "outputs": [],
   "execution_count": 13
  },
  {
   "cell_type": "markdown",
   "metadata": {},
   "source": [
    "To perform the fit with Dynesty, we pass it our model and analysis and we`re good to go!\n",
    "\n",
    "Checkout the folder `autofit_workspace/output/dynestystatic`, where the `NonLinearSearch` results, visualization and\n",
    "information can be found."
   ]
  },
  {
   "cell_type": "code",
   "metadata": {},
   "source": [
    "result = dynesty.fit(model=model, analysis=analysis)"
   ],
   "outputs": [
    {
     "name": "stderr",
     "output_type": "stream",
     "text": [
      "INFO:root: already completed, skipping non-linear search.\n"
     ]
    }
   ],
   "execution_count": 14
  },
  {
   "cell_type": "markdown",
   "metadata": {},
   "source": [
    "The result object returned by the fit provides information on the results of the non-linear search. Lets use it to\n",
    "compare the maximum log likelihood `Gaussian` + Exponential model to the data."
   ]
  },
  {
   "cell_type": "code",
   "metadata": {},
   "source": [
    "instance = result.max_log_likelihood_instance\n",
    "\n",
    "model_gaussian = instance.gaussian.profile_from_xvalues(\n",
    "    xvalues=np.arange(data.shape[0])\n",
    ")\n",
    "model_exponential = instance.exponential.profile_from_xvalues(\n",
    "    xvalues=np.arange(data.shape[0])\n",
    ")\n",
    "model_data = model_gaussian + model_exponential\n",
    "\n",
    "plt.errorbar(\n",
    "    x=xvalues, y=data, yerr=noise_map, color=\"k\", ecolor=\"k\", elinewidth=1, capsize=2\n",
    ")\n",
    "plt.plot(range(data.shape[0]), model_data, color=\"r\")\n",
    "plt.plot(range(data.shape[0]), model_gaussian, \"--\")\n",
    "plt.plot(range(data.shape[0]), model_exponential, \"--\")\n",
    "plt.title(\"Dynesty model fit to 1D Gaussian + Exponential dataset.\")\n",
    "plt.xlabel(\"x values of profile\")\n",
    "plt.ylabel(\"Profile intensity\")\n",
    "plt.show()\n",
    "plt.close()"
   ],
   "outputs": [
    {
     "data": {
      "text/plain": "<Figure size 432x288 with 1 Axes>",
      "image/png": "[encoded data removed]"
     },
     "metadata": {
      "needs_background": "light"
     },
     "output_type": "display_data"
    }
   ],
   "execution_count": 15
  },
  {
   "cell_type": "markdown",
   "metadata": {},
   "source": [
    "We discuss in more detail how to use a results object in the files `autofit_workspace/example/results`."
   ]
  },
  {
   "cell_type": "markdown",
   "metadata": {},
   "source": [
    "MCMC\n",
    "----\n",
    "\n",
    "To use a different non-linear we simply use call a different search from **PyAutoFit**, passing it the same the model\n",
    "and analysis as we did before to perform the fit. Below, we fit the same dataset using the MCMC sampler Emcee.\n",
    "Again, we manually specify all of the Emcee settings, however if they were omitted the values found in the config\n",
    "file `config/non_linear/Emcee.ini` would be used instead.\n",
    "\n",
    "For a full description of Emcee, checkout its Github and readthedocs webpages:\n",
    "\n",
    "https://github.com/dfm/emcee\n",
    "https://emcee.readthedocs.io/en/stable/\n",
    "\n",
    "**PyAutoFit** extends **emcee** by providing an option to check the auto-correlation length of the samples\n",
    "during the run and terminating sampling early if these meet a specified threshold. See this page\n",
    "(https://emcee.readthedocs.io/en/stable/tutorials/autocorr/#autocorr) for a description of how this is implemented."
   ]
  },
  {
   "cell_type": "code",
   "metadata": {},
   "source": [
    "emcee = af.Emcee(\n",
    "    path_prefix=path.join(\"overview\", \"complex\"),\n",
    "    nwalkers=50,\n",
    "    nsteps=2000,\n",
    "    initializer=af.InitializerBall(lower_limit=0.49, upper_limit=0.51),\n",
    "    auto_correlation_check_for_convergence=True,\n",
    "    auto_correlation_check_size=100,\n",
    "    auto_correlation_required_length=50,\n",
    "    auto_correlation_change_threshold=0.01,\n",
    "    number_of_cores=1,\n",
    ")"
   ],
   "outputs": [],
   "execution_count": 16
  },
  {
   "cell_type": "code",
   "metadata": {},
   "source": [
    "result = emcee.fit(model=model, analysis=analysis)"
   ],
   "outputs": [
    {
     "name": "stderr",
     "output_type": "stream",
     "text": [
      "INFO:root: already completed, skipping non-linear search.\n"
     ]
    }
   ],
   "execution_count": 17
  },
  {
   "cell_type": "markdown",
   "metadata": {},
   "source": [
    "The result object returned by Emcee`s fit is similar in structure to the Dynesty result above - it again provides\n",
    "us with the maximum log likelihood instance."
   ]
  },
  {
   "cell_type": "code",
   "metadata": {},
   "source": [
    "instance = result.max_log_likelihood_instance\n",
    "\n",
    "model_gaussian = instance.gaussian.profile_from_xvalues(\n",
    "    xvalues=np.arange(data.shape[0])\n",
    ")\n",
    "model_exponential = instance.exponential.profile_from_xvalues(\n",
    "    xvalues=np.arange(data.shape[0])\n",
    ")\n",
    "model_data = model_gaussian + model_exponential\n",
    "\n",
    "plt.errorbar(\n",
    "    x=xvalues, y=data, yerr=noise_map, color=\"k\", ecolor=\"k\", elinewidth=1, capsize=2\n",
    ")\n",
    "plt.plot(range(data.shape[0]), model_data, color=\"r\")\n",
    "plt.plot(range(data.shape[0]), model_gaussian, \"--\")\n",
    "plt.plot(range(data.shape[0]), model_exponential, \"--\")\n",
    "plt.title(\"Emcee model fit to 1D Gaussian + Exponential dataset.\")\n",
    "plt.xlabel(\"x values of profile\")\n",
    "plt.ylabel(\"Profile intensity\")\n",
    "plt.show()\n",
    "plt.close()"
   ],
   "outputs": [
    {
     "data": {
      "text/plain": "<Figure size 432x288 with 1 Axes>",
      "image/png": "[encoded data removed]"
     },
     "metadata": {
      "needs_background": "light"
     },
     "output_type": "display_data"
    }
   ],
   "execution_count": 18
  },
  {
   "cell_type": "markdown",
   "metadata": {},
   "source": [
    "Optimizer\n",
    "---------\n",
    "\n",
    "**PyAutoFit** also supports optimizer searches, which aim to find the global (or local) maxima likelihood solution.\n",
    "Unlike nested samplers and MCMC algorithms, they do not extensively map out parameter space. This means they can find\n",
    "the best solution a lot faster than these algorithms, but they do not properly quantify the errors on each parameter.\n",
    "\n",
    "we'll use the Particle Swarm Optimization algorithm PySwarms. For a full description of PySwarms, checkout its Github \n",
    "and readthedocs webpages:\n",
    "\n",
    "https://github.com/ljvmiranda921/pyswarms\n",
    "https://pyswarms.readthedocs.io/en/latest/index.html\n",
    "\n",
    "**PyAutoFit** extends *PySwarms* by allowing runs to be terminated and resumed from the point of termination, as well\n",
    "as providing different options for the initial distribution of particles."
   ]
  },
  {
   "cell_type": "code",
   "metadata": {},
   "source": [
    "pso = af.PySwarmsGlobal(\n",
    "    path_prefix=path.join(\"overview\", \"complex\"),\n",
    "    n_particles=500,\n",
    "    iters=300,\n",
    "    cognitive=0.5,\n",
    "    social=0.3,\n",
    "    inertia=0.9,\n",
    "    ftol=-np.inf,\n",
    "    initializer=af.InitializerPrior(),\n",
    "    number_of_cores=1,\n",
    ")\n",
    "result = pso.fit(model=model, analysis=analysis)"
   ],
   "outputs": [
    {
     "name": "stderr",
     "output_type": "stream",
     "text": [
      "2021-02-06 13:09:39,026 - root - INFO - Generating initial samples of model, which are subject to prior limits and other constraints.\n",
      "2021-02-06 13:09:39,814 - root - INFO - No PySwarms samples found, beginning new non-linear search. \n",
      "2021-02-06 13:09:39,815 - root - INFO - Running PySwarmsGlobal Optimizer...\n",
      "2021-02-06 13:09:39,821 - pyswarms.single.global_best - INFO - Optimize for 300 iters with {'c1': 0.5, 'c2': 0.3, 'w': 0.9}\n",
      "pyswarms.single.global_best: 100%|██████████|300/300, best_cost=92.7 \n",
      "2021-02-06 13:12:53,565 - pyswarms.single.global_best - INFO - Optimization finished | best cost: 92.66028563201525, best pos: [4.97512979e+01 2.72954370e+01 9.95611527e+00 5.03816505e+01\n",
      " 3.94774325e+01 4.75072148e-02]\n",
      "2021-02-06 13:12:53,579 - root - INFO - 500 Iterations: Performing update (Visualization, outputting samples, etc.).\n",
      "2021-02-06 13:13:06,800 - root - INFO - PySwarmsGlobal complete\n",
      "2021-02-06 13:13:06,805 - root - INFO - 1000 Iterations: Performing update (Visualization, outputting samples, etc.).\n"
     ]
    },
    {
     "data": {
      "text/plain": "<Figure size 432x288 with 0 Axes>"
     },
     "metadata": {},
     "output_type": "display_data"
    }
   ],
   "execution_count": 22
  },
  {
   "cell_type": "markdown",
   "metadata": {},
   "source": [
    "The result object returned by PSO is again very similar in structure to previous results."
   ]
  },
  {
   "cell_type": "code",
   "metadata": {},
   "source": [
    "instance = result.max_log_likelihood_instance\n",
    "\n",
    "model_gaussian = instance.gaussian.profile_from_xvalues(\n",
    "    xvalues=np.arange(data.shape[0])\n",
    ")\n",
    "model_exponential = instance.exponential.profile_from_xvalues(\n",
    "    xvalues=np.arange(data.shape[0])\n",
    ")\n",
    "model_data = model_gaussian + model_exponential\n",
    "\n",
    "plt.errorbar(\n",
    "    x=xvalues, y=data, yerr=noise_map, color=\"k\", ecolor=\"k\", elinewidth=1, capsize=2\n",
    ")\n",
    "plt.plot(range(data.shape[0]), model_data, color=\"r\")\n",
    "plt.plot(range(data.shape[0]), model_gaussian, \"--\")\n",
    "plt.plot(range(data.shape[0]), model_exponential, \"--\")\n",
    "plt.title(\"PySwarms model fit to 1D Gaussian + Exponential dataset.\")\n",
    "plt.xlabel(\"x values of profile\")\n",
    "plt.ylabel(\"Profile intensity\")\n",
    "plt.show()\n",
    "plt.close()"
   ],
   "outputs": [
    {
     "data": {
      "text/plain": "<Figure size 432x288 with 1 Axes>",
      "image/png": "[encoded data removed]"
     },
     "metadata": {
      "needs_background": "light"
     },
     "output_type": "display_data"
    }
   ],
   "execution_count": 23
  },
  {
   "cell_type": "markdown",
   "metadata": {},
   "source": [
    "__Other Searches__\n",
    "\n",
    "Checkout https://pyautofit.readthedocs.io/en/latest for the non-linear searches available in **PyAutoFit**."
   ]
  }
 ],
 "metadata": {
  "anaconda-cloud": {},
  "kernelspec": {
   "display_name": "Python 3",
   "language": "python",
   "name": "python3"
  },
  "language_info": {
   "codemirror_mode": {
    "name": "ipython",
    "version": 3
   },
   "file_extension": ".py",
   "mimetype": "text/x-python",
   "name": "python",
   "nbconvert_exporter": "python",
   "pygments_lexer": "ipython3",
   "version": "3.6.1"
  }
 },
 "nbformat": 4,
 "nbformat_minor": 4
}