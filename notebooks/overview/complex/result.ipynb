{
 "cells": [
  {
   "cell_type": "markdown",
   "metadata": {},
   "source": [
    "Overview: Result\n",
    "================\n",
    "\n",
    "In this example, we'll repeat the fit performed in `fit.py` of 1D data of a `Gaussian` + Exponential profile with 1D line\n",
    "data using the  non-linear  search emcee and inspect the *Result* object that is returned in detail.\n",
    "\n",
    "If you haven't already, you should checkout the notebook `overview/fit.ipynb` to see how the fit is performed by the\n",
    "code below. The first section of code below is simply repeating the commands in\n",
    "`overview/fit.ipynb`, so feel free to skip over it until you his the `Result`'s section.\n",
    "\n",
    "The attributes of the Result object are described in `overview/simple/result.ipynb`. This example will not cover the\n",
    "attributes in full, and instead only focus on how the use of a more complex model changes the Result object."
   ]
  },
  {
   "cell_type": "code",
   "metadata": {},
   "source": [
    "%matplotlib inline\n",
    "\n",
    "import autofit as af\n",
    "\n",
    "from os import path\n",
    "import matplotlib.pyplot as plt\n",
    "import numpy as np"
   ],
   "outputs": [],
   "execution_count": 1
  },
  {
   "cell_type": "markdown",
   "source": [
    "At the top of every tutorial notebook, you'll see the following cell. This cell uses the project `pyprojroot` to\n",
    "locate the path to the workspace on your computer and use it to set the working directory of the notebook."
   ],
   "metadata": {
    "collapsed": false
   }
  },
  {
   "cell_type": "code",
   "execution_count": 2,
   "outputs": [
    {
     "name": "stdout",
     "output_type": "stream",
     "text": [
      "C:\\Users\\Jammy\\Code\\PyAuto\\autofit_workspace\n",
      "Working Directory has been set to `C:\\Users\\Jammy\\Code\\PyAuto\\autofit_workspace`\n"
     ]
    }
   ],
   "source": [
    "from pyprojroot import here\n",
    "workspace_path = str(here())\n",
    "%cd $workspace_path\n",
    "print(f\"Working Directory has been set to `{workspace_path}`\")"
   ],
   "metadata": {
    "collapsed": false,
    "pycharm": {
     "name": "#%%\n"
    }
   }
  },
  {
   "cell_type": "markdown",
   "metadata": {},
   "source": [
    "__Data__\n",
    "\n",
    "First, lets load data of a 1D `Gaussian` + 1D Exponential, by loading it from a .json file in the directory \n",
    "`autofit_workspace/dataset/`, which simulates the noisy data we fit (check it out to see how we simulate the \n",
    "data)."
   ]
  },
  {
   "cell_type": "code",
   "metadata": {},
   "source": [
    "dataset_path = path.join(\"dataset\", \"example_1d\", \"gaussian_x1__exponential_x1\")\n",
    "\n",
    "data = af.util.numpy_array_from_json(file_path=path.join(dataset_path, \"data.json\"))\n",
    "noise_map = af.util.numpy_array_from_json(\n",
    "    file_path=path.join(dataset_path, \"noise_map.json\")\n",
    ")"
   ],
   "outputs": [],
   "execution_count": 3
  },
  {
   "cell_type": "markdown",
   "source": [
    "__Model + Analysis__\n",
    "\n",
    "We create the same model and analysis classes use in the example `autofit_workspace/notebooks/overview/complex/fit.ipynb`."
   ],
   "metadata": {
    "collapsed": false
   }
  },
  {
   "cell_type": "code",
   "execution_count": 4,
   "outputs": [],
   "source": [
    "class Gaussian:\n",
    "\n",
    "    def __init__(\n",
    "        self,\n",
    "        centre=0.0,  # <- PyAutoFit recognises these constructor arguments\n",
    "        intensity=0.1,  # <- are the Gaussian`s model parameters.\n",
    "        sigma=0.01,\n",
    "    ):\n",
    "        \"\"\"Represents a 1D `Gaussian` profile, which may be treated as a model-component of PyAutoFit the\n",
    "        parameters of which are fitted for by a non-linear search.\n",
    "\n",
    "        Parameters\n",
    "        ----------\n",
    "        centre : float\n",
    "            The x coordinate of the profile centre.\n",
    "        intensity : float\n",
    "            Overall intensity normalisation of the `Gaussian` profile.\n",
    "        sigma : float\n",
    "            The sigma value controlling the size of the Gaussian.\n",
    "        \"\"\"\n",
    "\n",
    "        self.centre = centre\n",
    "        self.intensity = intensity\n",
    "        self.sigma = sigma\n",
    "\n",
    "    def profile_from_xvalues(self, xvalues):\n",
    "        \"\"\"\n",
    "        Calculate the intensity of the profile on a line of Cartesian x coordinates.\n",
    "\n",
    "        The input xvalues are translated to a coordinate system centred on the Gaussian, using its centre.\n",
    "\n",
    "        Parameters\n",
    "        ----------\n",
    "        values : np.ndarray\n",
    "            The x coordinates in the original reference frame of the grid.\n",
    "        \"\"\"\n",
    "        transformed_xvalues = np.subtract(xvalues, self.centre)\n",
    "        return np.multiply(\n",
    "            np.divide(self.intensity, self.sigma * np.sqrt(2.0 * np.pi)),\n",
    "            np.exp(-0.5 * np.square(np.divide(transformed_xvalues, self.sigma))),\n",
    "        )"
   ],
   "metadata": {
    "collapsed": false,
    "pycharm": {
     "name": "#%%\n"
    }
   }
  },
  {
   "cell_type": "code",
   "execution_count": 5,
   "outputs": [],
   "source": [
    "class Exponential:\n",
    "    def __init__(\n",
    "        self,\n",
    "        centre=0.0,  # <- PyAutoFit recognises these constructor arguments are the model\n",
    "        intensity=0.1,  # <- parameters of the Exponential.\n",
    "        rate=0.01,\n",
    "    ):\n",
    "        \"\"\"Represents a 1D Exponential profile symmetric about a centre, which may be treated as a model-component\n",
    "        of PyAutoFit the parameters of which are fitted for by a non-linear search.\n",
    "\n",
    "        Parameters\n",
    "        ----------\n",
    "        centre : float\n",
    "            The x coordinate of the profile centre.\n",
    "        intensity : float\n",
    "            Overall intensity normalisation of the `Gaussian` profile.\n",
    "        ratw : float\n",
    "            The decay rate controlling has fast the Exponential declines.\n",
    "        \"\"\"\n",
    "\n",
    "        self.centre = centre\n",
    "        self.intensity = intensity\n",
    "        self.rate = rate\n",
    "\n",
    "    def profile_from_xvalues(self, xvalues):\n",
    "        \"\"\"\n",
    "        Calculate the intensity of the profile on a line of Cartesian x coordinates.\n",
    "\n",
    "        The input xvalues are translated to a coordinate system centred on the Exponential, using its centre.\n",
    "\n",
    "        Parameters\n",
    "        ----------\n",
    "        values : np.ndarray\n",
    "            The x coordinates in the original reference frame of the grid.\n",
    "        \"\"\"\n",
    "        transformed_xvalues = np.subtract(xvalues, self.centre)\n",
    "        return self.intensity * np.multiply(\n",
    "            self.rate, np.exp(-1.0 * self.rate * abs(transformed_xvalues))\n",
    "        )"
   ],
   "metadata": {
    "collapsed": false,
    "pycharm": {
     "name": "#%%\n"
    }
   }
  },
  {
   "cell_type": "code",
   "execution_count": 6,
   "outputs": [],
   "source": [
    "class Analysis(af.Analysis):\n",
    "\n",
    "    def __init__(self, data, noise_map):\n",
    "\n",
    "        super().__init__()\n",
    "\n",
    "        self.data = data\n",
    "        self.noise_map = noise_map\n",
    "\n",
    "    def log_likelihood_function(self, instance):\n",
    "        \"\"\"\n",
    "        Determine the log likelihood of a fit of multiple profiles to the dataset.\n",
    "\n",
    "        Parameters\n",
    "        ----------\n",
    "        instance : af.CollectionPriorModel\n",
    "            The model instances of the profiles.\n",
    "\n",
    "        Returnsn\n",
    "        -------\n",
    "        fit : Fit.log_likelihood\n",
    "            The log likelihood value indicating how well this model fit the dataset.\n",
    "        \"\"\"\n",
    "\n",
    "        xvalues = np.arange(self.data.shape[0])\n",
    "\n",
    "        model_data = sum(\n",
    "            [line.profile_from_xvalues(xvalues=xvalues) for line in instance]\n",
    "        )\n",
    "\n",
    "        residual_map = self.data - model_data\n",
    "        chi_squared_map = (residual_map / self.noise_map) ** 2.0\n",
    "        log_likelihood = -0.5 * sum(chi_squared_map)\n",
    "\n",
    "        return log_likelihood"
   ],
   "metadata": {
    "collapsed": false,
    "pycharm": {
     "name": "#%%\n"
    }
   }
  },
  {
   "cell_type": "code",
   "metadata": {},
   "source": [
    "model = af.CollectionPriorModel(gaussian=Gaussian, exponential=Exponential)\n",
    "analysis = Analysis(data=data, noise_map=noise_map)\n"
   ],
   "outputs": [],
   "execution_count": 7
  },
  {
   "cell_type": "markdown",
   "metadata": {},
   "source": [
    "Returns the non-linear object for emcee and perform the fit."
   ]
  },
  {
   "cell_type": "code",
   "metadata": {},
   "source": [
    "emcee = af.Emcee(\n",
    "    path_prefix=path.join(\"overview\", \"complex\"),\n",
    "    nwalkers=50,\n",
    "    nsteps=2000,\n",
    "    initializer=af.InitializerBall(lower_limit=0.49, upper_limit=0.51),\n",
    "    auto_correlation_check_for_convergence=True,\n",
    "    auto_correlation_check_size=100,\n",
    "    auto_correlation_required_length=50,\n",
    "    auto_correlation_change_threshold=0.01,\n",
    "    number_of_cores=1,\n",
    ")\n",
    "\n",
    "result = emcee.fit(model=model, analysis=analysis)"
   ],
   "outputs": [
    {
     "name": "stderr",
     "output_type": "stream",
     "text": [
      "INFO:root: already completed, skipping non-linear search.\n"
     ]
    }
   ],
   "execution_count": 8
  },
  {
   "cell_type": "markdown",
   "metadata": {},
   "source": [
    "__RESULT__\n",
    "\n",
    "Here, we'll look in detail at how the information contained in the result changes when we fit a more complex model. If\n",
    "you are unfamiliar with the result object, first read through `examples/simple/result.py`.\n",
    "\n",
    "First, we can note that the parameters list of lists now has 6 entries in the parameters column, given the \n",
    "dimensionality of the model has increased from N=3 to N=6."
   ]
  },
  {
   "cell_type": "code",
   "metadata": {},
   "source": [
    "samples = result.samples\n",
    "print(\"All Parameters:\")\n",
    "print(samples.parameters)\n",
    "print(\"\\nSample 10`s sixth parameter value (Exponential -> rate)\")\n",
    "print(samples.parameters[9][5], \"\\n\")"
   ],
   "outputs": [
    {
     "name": "stdout",
     "output_type": "stream",
     "text": [
      "All Parameters:\n"
     ]
    },
    {
     "name": "stderr",
     "output_type": "stream",
     "text": [
      "IOPub data rate exceeded.\n",
      "The notebook server will temporarily stop sending output\n",
      "to the client in order to avoid crashing it.\n",
      "To change this limit, set the config variable\n",
      "`--NotebookApp.iopub_data_rate_limit`.\n",
      "\n",
      "Current values:\n",
      "NotebookApp.iopub_data_rate_limit=1000000.0 (bytes/sec)\n",
      "NotebookApp.rate_limit_window=3.0 (secs)\n",
      "\n"
     ]
    }
   ],
   "execution_count": 9
  },
  {
   "cell_type": "markdown",
   "metadata": {},
   "source": [
    "The vectors containing models have the same meaning as before, but they are also now of size 6 given the increase in\n",
    "model complexity."
   ]
  },
  {
   "cell_type": "code",
   "metadata": {},
   "source": [
    "print(\"Result and Error Vectors:\")\n",
    "print(samples.median_pdf_vector)\n",
    "print(samples.max_log_likelihood_vector)\n",
    "print(samples.max_log_posterior_vector)\n",
    "print(samples.vector_at_upper_sigma(sigma=3.0))\n",
    "print(samples.vector_at_lower_sigma(sigma=3.0))\n",
    "print(samples.error_vector_at_upper_sigma(sigma=3.0))\n",
    "print(samples.error_vector_at_lower_sigma(sigma=3.0), \"\\n\")"
   ],
   "outputs": [
    {
     "name": "stdout",
     "output_type": "stream",
     "text": [
      "Result and Error Vectors:\n",
      "[49.94644714913798, 26.341203791124563, 9.916350226331438, 50.222476697040925, 39.81827867053955, 0.04813675989379663]\n",
      "[49.863255031794004, 25.98905181145413, 9.902857257024161, 50.257046396015234, 40.00549959159537, 0.048311642406452575]\n",
      "[49.863255031794004, 25.98905181145413, 9.902857257024161, 50.257046396015234, 40.00549959159537, 0.048311642406452575]\n",
      "[51.82519530557767, 83.1588825732119, 21.555200682524145, 50.74972955320037, 42.061841377650694, 0.13641099671630819]\n",
      "[49.256999227725245, 21.34623472476286, 9.399288744131365, 28.424372997424907, 2.6310147251250817, 0.02481567906299053]\n",
      "[1.8787481564396913, 56.817678782087334, 11.638850456192706, 0.5272528561594427, 2.2435627071111455, 0.08827423682251156]\n",
      "[0.6894479214127358, 4.994969066361705, 0.5170614822000736, 21.798103699616018, 37.187263945414465, 0.0233210808308061] \n",
      "\n"
     ]
    }
   ],
   "execution_count": 10
  },
  {
   "cell_type": "markdown",
   "metadata": {},
   "source": [
    "The parameter names and labels now contain 6 entries, including the Exponential class that was not included in the\n",
    "simple model example."
   ]
  },
  {
   "cell_type": "code",
   "metadata": {},
   "source": [
    "print(samples.model.model_component_and_parameter_names)\n",
    "print(samples.model.parameter_labels)\n",
    "print(\"\\n\")"
   ],
   "outputs": [
    {
     "name": "stdout",
     "output_type": "stream",
     "text": [
      "['gaussian_centre', 'gaussian_intensity', 'gaussian_sigma', 'exponential_centre', 'exponential_intensity', 'exponential_rate']\n",
      "['x', 'I', 'sigma', 'x', 'I', '\\\\lambda']\n",
      "\n",
      "\n"
     ]
    }
   ],
   "execution_count": 11
  },
  {
   "cell_type": "markdown",
   "metadata": {},
   "source": [
    "When we return a result as an instance, it provides us with instances of the model using the Python classes used to\n",
    "compose it. Because our fit uses a CollectionPriorModel (as opposed to a `PriorModel` in the simple example) the instance\n",
    "returned a dictionary named acoording to the names given to the CollectionPriorModel, which above were `gaussian` and\n",
    "`exponential`."
   ]
  },
  {
   "cell_type": "code",
   "metadata": {},
   "source": [
    "max_log_likelihood_instance = samples.max_log_likelihood_instance\n",
    "\n",
    "print(\"Max Log Likelihood `Gaussian` Instance:\")\n",
    "print(\"Centre = \", max_log_likelihood_instance.gaussian.centre)\n",
    "print(\"Intensity = \", max_log_likelihood_instance.gaussian.intensity)\n",
    "print(\"Sigma = \", max_log_likelihood_instance.gaussian.sigma, \"\\n\")\n",
    "print(\"Max Log Likelihood Exponential Instance:\")\n",
    "print(\"Centre = \", max_log_likelihood_instance.exponential.centre)\n",
    "print(\"Intensity = \", max_log_likelihood_instance.exponential.intensity)\n",
    "print(\"Sigma = \", max_log_likelihood_instance.exponential.rate, \"\\n\")"
   ],
   "outputs": [
    {
     "name": "stdout",
     "output_type": "stream",
     "text": [
      "Max Log Likelihood `Gaussian` Instance:\n",
      "Centre =  49.863255031794004\n",
      "Intensity =  25.98905181145413\n",
      "Sigma =  9.902857257024161 \n",
      "\n",
      "Max Log Likelihood Exponential Instance:\n",
      "Centre =  50.257046396015234\n",
      "Intensity =  40.00549959159537\n",
      "Sigma =  0.048311642406452575 \n",
      "\n"
     ]
    }
   ],
   "execution_count": 12
  },
  {
   "cell_type": "markdown",
   "metadata": {},
   "source": [
    "For our example problem of fitting a 1D `Gaussian` + Exponential profile, this makes it straight forward to plot \n",
    "the maximum likelihood model:"
   ]
  },
  {
   "cell_type": "code",
   "metadata": {},
   "source": [
    "model_gaussian = max_log_likelihood_instance.gaussian.profile_from_xvalues(\n",
    "    xvalues=np.arange(data.shape[0])\n",
    ")\n",
    "model_exponential = max_log_likelihood_instance.exponential.profile_from_xvalues(\n",
    "    xvalues=np.arange(data.shape[0])\n",
    ")\n",
    "model_data = model_gaussian + model_exponential\n",
    "\n",
    "xvalues = range(data.shape[0])\n",
    "plt.errorbar(\n",
    "    x=xvalues, y=data, yerr=noise_map, color=\"k\", ecolor=\"k\", elinewidth=1, capsize=2\n",
    ")\n",
    "plt.plot(range(data.shape[0]), model_data, color=\"r\")\n",
    "plt.plot(range(data.shape[0]), model_gaussian, \"--\")\n",
    "plt.plot(range(data.shape[0]), model_exponential, \"--\")\n",
    "plt.title(\"Illustrative model fit to 1D `Gaussian` + Exponential profile data.\")\n",
    "plt.xlabel(\"x values of profile\")\n",
    "plt.ylabel(\"Profile intensity\")\n",
    "plt.show()\n",
    "plt.close()"
   ],
   "outputs": [
    {
     "data": {
      "text/plain": "<Figure size 432x288 with 1 Axes>",
      "image/png": "[encoded data removed]"
     },
     "metadata": {
      "needs_background": "light"
     },
     "output_type": "display_data"
    }
   ],
   "execution_count": 13
  },
  {
   "cell_type": "markdown",
   "metadata": {},
   "source": [
    "All methods which give instances give us the same instance of a CollectionPriorModel:"
   ]
  },
  {
   "cell_type": "code",
   "metadata": {},
   "source": [
    "print(samples.median_pdf_instance)\n",
    "print(samples.instance_at_upper_sigma)\n",
    "print(samples.instance_at_lower_sigma)\n",
    "print(samples.error_instance_at_upper_sigma)\n",
    "print(samples.error_instance_at_lower_sigma)\n",
    "print(samples.instance_from_sample_index(sample_index=500))"
   ],
   "outputs": [
    {
     "name": "stdout",
     "output_type": "stream",
     "text": [
      "<autofit.mapper.model.ModelInstance object at 0x000002079E09D8B0>\n",
      "<bound method PDFSamples.instance_at_upper_sigma of <autofit.non_linear.mcmc.emcee.EmceeSamples object at 0x00000207E5A03340>>\n",
      "<bound method PDFSamples.instance_at_lower_sigma of <autofit.non_linear.mcmc.emcee.EmceeSamples object at 0x00000207E5A03340>>\n",
      "<bound method PDFSamples.error_instance_at_upper_sigma of <autofit.non_linear.mcmc.emcee.EmceeSamples object at 0x00000207E5A03340>>\n",
      "<bound method PDFSamples.error_instance_at_lower_sigma of <autofit.non_linear.mcmc.emcee.EmceeSamples object at 0x00000207E5A03340>>\n",
      "<autofit.mapper.model.ModelInstance object at 0x00000207E5A03FA0>\n"
     ]
    }
   ],
   "execution_count": 14
  },
  {
   "cell_type": "markdown",
   "metadata": {},
   "source": [
    "So that is that - adding model complexity doesn`t change a whole lot about the Result object, other than the switch\n",
    "to CollectionPriorModels meaning that our instances now have named entries.\n",
    "\n",
    "The take home point should be that when you name your model components, you should make sure to give them descriptive\n",
    "and information names that make the use of a result object clear and intuitive!"
   ]
  }
 ],
 "metadata": {
  "anaconda-cloud": {},
  "kernelspec": {
   "display_name": "Python 3",
   "language": "python",
   "name": "python3"
  },
  "language_info": {
   "codemirror_mode": {
    "name": "ipython",
    "version": 3
   },
   "file_extension": ".py",
   "mimetype": "text/x-python",
   "name": "python",
   "nbconvert_exporter": "python",
   "pygments_lexer": "ipython3",
   "version": "3.6.1"
  }
 },
 "nbformat": 4,
 "nbformat_minor": 4
}