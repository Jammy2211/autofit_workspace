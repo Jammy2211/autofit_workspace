{
  "cells": [
    {
      "cell_type": "markdown",
      "metadata": {},
      "source": [
        "Overview: Scientific Workflow\n",
        "-----------------------------\n",
        "\n",
        "NOTE: A complete describtion of the scientific workflow, including Python code extracts and visuals, is not complete\n",
        "yet. It will be written in the near future. This script gives a concise overview of how **PyAutoFit** can be used to\n",
        "perform a scientific workflow.\n",
        "\n",
        "The functionality necessary to develop an effective scientific workflow is described in the cookbooks, which are\n",
        "available on readthedocs and in the `cookbooks` package of the workspace.\n",
        "\n",
        "\n",
        "A scientific workflow is the series of tasks that someone performs to undertake scientific study though model fitting.\n",
        "This includes fitting model a dataset, interpret the results and gaining insight and intuition for what works for their\n",
        "problem.\n",
        "\n",
        "Initially, the study will be performed on a small number of datasets (e.g. ~10s of datasets), as the user develops\n",
        "their model and gains insight into what works well. This is a manual process of trial and error, which often involves\n",
        "fitting many different models to the datasets and inspecting the result to gain insight on what models are good.\n",
        "Their scientific workflow must be flexible enough to allow them to quickly fit many different models to their data,\n",
        "and output the results in a format that is quick and easy to inspect and interpret.\n",
        "\n",
        "Eventually, one may then scale up to a large number of datasets (e.g. ~1000s of datasets). Manual inspection of\n",
        "individual results becomes infeasible, and the scientific workflow requires a more automated apporach to model fitting\n",
        "and interpretation. This may also see the analysis move to a high performance computing, meaning that result output\n",
        "must be suitable for this environment.\n",
        "\n",
        "**PyAutoFit** enables the development of effective scientific workflows for both small and large datasets, thanks\n",
        "to the following features:\n",
        "\n",
        "- **On The Fly Feedback**: The results of a model-fit are shown to the user on-the-fly in Jupiter notebooks, providing\n",
        "  quick feedback allowing them adapt their scientific workflow accordingly.\n",
        "\n",
        "- **Hard-disk Output**: All results of an analysis can output to hard-disk with high levels of customization, ensuring\n",
        "  that quick inspection of results ~100s of datasets is feasible.\n",
        "\n",
        "- **Visualization**: Results output includes model specific visualization, allowing the user to produce custom\n",
        "  plots that further streamline result inspection.\n",
        "\n",
        "- **Model Composition**: The API for model composition is extensible, meaning a user can easily experiment with\n",
        " different model assumptions and priors, as well as comparing many different models.\n",
        "\n",
        "- **Searches**: Support for a wide variety of non-linear searches (nested sampling, MCMC etc.) means a user can find\n",
        "  the fitting algorithm that is optimal for their model and dataset.\n",
        "\n",
        "- **Multiple Datasets**: Dedicated support for simultaneously fitting multiple datasets simultaneously means a user\n",
        "  can easily combine different datasets in their analysis in order to fit more complex models.\n",
        "\n",
        "- **Database**: The results of a model-fit can be output to a relational sqlite3 database, meaning that once you are\n",
        "  ready to scale up to large datasets you can easily do so."
      ]
    },
    {
      "cell_type": "code",
      "metadata": {},
      "source": [],
      "outputs": [],
      "execution_count": null
    }
  ],
  "metadata": {
    "anaconda-cloud": {},
    "kernelspec": {
      "display_name": "Python 3",
      "language": "python",
      "name": "python3"
    },
    "language_info": {
      "codemirror_mode": {
        "name": "ipython",
        "version": 3
      },
      "file_extension": ".py",
      "mimetype": "text/x-python",
      "name": "python",
      "nbconvert_exporter": "python",
      "pygments_lexer": "ipython3",
      "version": "3.6.1"
    }
  },
  "nbformat": 4,
  "nbformat_minor": 4
}