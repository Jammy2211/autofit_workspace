{
  "cells": [
    {
      "cell_type": "markdown",
      "metadata": {},
      "source": [
        "Overview: The Basics\n",
        "--------------------\n",
        "\n",
        "PyAutoFit is a Python based probabilistic programming language which enables detailed Bayesian analysis of scientific\n",
        "datasets, with everything necessary to scale-up Bayesian analysis to very complex models and extremely large datasets.\n",
        "\n",
        "In this overview, we introduce the basic API for model-fitting with **PyAutoFit**, including how to define a likelihood\n",
        "function, compose a probabilistic model, and fit it to data via a non-linear fitting algorithm (e.g.\n",
        "Markov Chain Monta Carlo (MCMC), maximum likelihood estimator, nested sampling).\n",
        "\n",
        "If you have previous experience performing model-fitting and Bayesian inference there will be nothing new here, but\n",
        "we'll highlight some benefits of using **PyAutoFit** instead of setting up the modeling manually\n",
        "yourself (e.g. by wrapping an MCMC library with your likelihood function).\n",
        "\n",
        "The biggest benefits of using **PyAutoFit** are presented in the next two overviews once the API is clear. The first\n",
        "focuses on the \"scientific workflow\", which streamlines the Bayesian analysis of large datasets. The second gives a\n",
        "run through of numerous statistical inference methods, for example Bayesian hierarchical analysis."
      ]
    },
    {
      "cell_type": "code",
      "metadata": {},
      "source": [
        "%matplotlib inline\n",
        "from pyprojroot import here\n",
        "workspace_path = str(here())\n",
        "%cd $workspace_path\n",
        "print(f\"Working Directory has been set to `{workspace_path}`\")\n",
        "\n",
        "import autofit as af\n",
        "import autofit.plot as aplt\n",
        "\n",
        "import matplotlib.pyplot as plt\n",
        "import numpy as np\n",
        "import os\n",
        "from os import path"
      ],
      "outputs": [],
      "execution_count": null
    },
    {
      "cell_type": "markdown",
      "metadata": {},
      "source": [
        "__Example: Noisy 1D Signal__\n",
        "\n",
        "To illustrate **PyAutoFit** we'll use the example modeling problem of fitting a noisy 1D signal. \n",
        "\n",
        "We load the example 1D data containing this noisy signal below, which is included with the `autofit_workspace`\n",
        "in .json files."
      ]
    },
    {
      "cell_type": "code",
      "metadata": {},
      "source": [
        "dataset_path = path.join(\"dataset\", \"example_1d\", \"gaussian_x1\")\n",
        "data = af.util.numpy_array_from_json(file_path=path.join(dataset_path, \"data.json\"))\n",
        "noise_map = af.util.numpy_array_from_json(\n",
        "    file_path=path.join(dataset_path, \"noise_map.json\")\n",
        ")"
      ],
      "outputs": [],
      "execution_count": null
    },
    {
      "cell_type": "markdown",
      "metadata": {},
      "source": [
        "We plot the data containing the noisy 1D signal."
      ]
    },
    {
      "cell_type": "code",
      "metadata": {},
      "source": [
        "xvalues = range(data.shape[0])\n",
        "\n",
        "plt.errorbar(\n",
        "    x=xvalues, y=data, yerr=noise_map, color=\"k\", ecolor=\"k\", elinewidth=1, capsize=2\n",
        ")\n",
        "plt.show()\n",
        "plt.close()"
      ],
      "outputs": [],
      "execution_count": null
    },
    {
      "cell_type": "markdown",
      "metadata": {},
      "source": [
        "The 1D signal was generated using a 1D Gaussian profile of the form:\n",
        "\n",
        "\\begin{equation*}\n",
        "g(x, I, \\sigma) = \\frac{N}{\\sigma\\sqrt{2\\pi}} \\exp{(-0.5 (x / \\sigma)^2)}\n",
        "\\end{equation*}\n",
        "\n",
        "Where:\n",
        "\n",
        "`x`: Is the x-axis coordinate where the `Gaussian` is evaluated.\n",
        "\n",
        "`N`: Describes the overall normalization of the Gaussian.\n",
        "\n",
        "$\\sigma$: Describes the size of the Gaussian (Full Width Half Maximum = $\\mathrm {FWHM}$ = $2{\\sqrt {2\\ln 2}}\\;\\sigma$)\n",
        "\n",
        "Our modeling task is to fit the signal with a 1D Gaussian and recover its parameters (`x`, `N`, `sigma`).\n",
        "\n",
        "__Model__\n",
        "\n",
        "We therefore need to define a 1D Gaussian as a model component in **PyAutoFit**.\n",
        "\n",
        "A model component is written as a Python class in *PyAutoFit** using the following format:\n",
        "\n",
        "- The name of the class is the name of the model component, in this case, \"Gaussian\".\n",
        "\n",
        "- The input arguments of the constructor (the `__init__` method) are the parameters of the model, in the\n",
        "  example above `centre`, `normalization` and `sigma`.\n",
        "  \n",
        "- The default values of the input arguments define whether a parameter is a single-valued `float` or a \n",
        "  multi-valued `tuple`. For the `Gaussian` class above, no input parameters are a tuple, but later examples use tuples. \n",
        "  \n",
        "- It includes functions associated with that model component, specifically the `model_data_1d_via_xvalues_from` \n",
        "  function. When we create instances of a `Gaussian` below, this is used to generate 1D representation of it as a \n",
        "  NumPy array."
      ]
    },
    {
      "cell_type": "code",
      "metadata": {},
      "source": [
        "class Gaussian:\n",
        "    def __init__(\n",
        "        self,\n",
        "        centre=0.0,  # <- PyAutoFit recognises these constructor arguments\n",
        "        normalization=0.1,  # <- are the Gaussian`s model parameters.\n",
        "        sigma=0.01,\n",
        "    ):\n",
        "        \"\"\"\n",
        "        Represents a 1D `Gaussian` profile, which may be treated as a model-component of PyAutoFit the\n",
        "        parameters of which are fitted for by a non-linear search.\n",
        "\n",
        "        Parameters\n",
        "        ----------\n",
        "        centre\n",
        "            The x coordinate of the profile centre.\n",
        "        normalization\n",
        "            Overall normalization of the `Gaussian` profile.\n",
        "        sigma\n",
        "            The sigma value controlling the size of the Gaussian.\n",
        "        \"\"\"\n",
        "        self.centre = centre\n",
        "        self.normalization = normalization\n",
        "        self.sigma = sigma\n",
        "\n",
        "    def model_data_1d_via_xvalues_from(self, xvalues):\n",
        "        \"\"\"\n",
        "        Calculate the 1D Gaussian profile on a line of Cartesian x coordinates.\n",
        "\n",
        "        The input xvalues are translated to a coordinate system centred on the Gaussian, using its centre.\n",
        "\n",
        "        Parameters\n",
        "        ----------\n",
        "        xvalues\n",
        "            The x coordinates in the original reference frame of the grid.\n",
        "        \"\"\"\n",
        "        transformed_xvalues = xvalues - self.centre\n",
        "\n",
        "        return np.multiply(\n",
        "            np.divide(self.normalization, self.sigma * np.sqrt(2.0 * np.pi)),\n",
        "            np.exp(-0.5 * np.square(np.divide(transformed_xvalues, self.sigma))),\n",
        "        )"
      ],
      "outputs": [],
      "execution_count": null
    },
    {
      "cell_type": "markdown",
      "metadata": {},
      "source": [
        "To compose a model using the `Gaussian` class above we use the `af.Model` object."
      ]
    },
    {
      "cell_type": "code",
      "metadata": {},
      "source": [
        "model = af.Model(Gaussian)\n",
        "print(\"Model `Gaussian` object: \\n\")\n",
        "print(model)"
      ],
      "outputs": [],
      "execution_count": null
    },
    {
      "cell_type": "markdown",
      "metadata": {},
      "source": [
        "The model has a total of 3 parameters:"
      ]
    },
    {
      "cell_type": "code",
      "metadata": {},
      "source": [
        "print(model.total_free_parameters)"
      ],
      "outputs": [],
      "execution_count": null
    },
    {
      "cell_type": "markdown",
      "metadata": {},
      "source": [
        "All model information is given by printing its `info` attribute.\n",
        "\n",
        "This shows that ech model parameter has an associated prior.\n",
        "\n",
        "[The `info` below may not display optimally on your computer screen, for example the whitespace between parameter\n",
        "names on the left and parameter priors on the right may lead them to appear across multiple lines. This is a\n",
        "common issue in Jupyter notebooks.\n",
        "\n",
        "The`info_whitespace_length` parameter in the file `config/general.yaml` in the [output] section can be changed to \n",
        "increase or decrease the amount of whitespace (The Jupyter notebook kernel will need to be reset for this change to \n",
        "appear in a notebook).]"
      ]
    },
    {
      "cell_type": "code",
      "metadata": {},
      "source": [
        "print(model.info)"
      ],
      "outputs": [],
      "execution_count": null
    },
    {
      "cell_type": "markdown",
      "metadata": {},
      "source": [
        "__Model Mapping__\n",
        "\n",
        "Instances of model components created via the `af.Model` object can be created, where an input `vector` of\n",
        "parameters is mapped to the Python class the model object was created using.\n",
        "\n",
        "We first need to know the order of parameters in the model, so we know how to define the input `vector`. This\n",
        "information is contained in the models `paths` attribute:"
      ]
    },
    {
      "cell_type": "code",
      "metadata": {},
      "source": [
        "print(model.paths)"
      ],
      "outputs": [],
      "execution_count": null
    },
    {
      "cell_type": "markdown",
      "metadata": {},
      "source": [
        "We input values for the 3 free parameters of our model following the order of paths above (`centre=30.0`, \n",
        "`normalization=2.0` and `sigma=3.0`), creating an `instance` of the model Gaussian. \n",
        "\n",
        "The notion of a model mapping to an `instance` in **PyAutoFit** is an important one, and is used below to fit the model\n",
        "to data."
      ]
    },
    {
      "cell_type": "code",
      "metadata": {},
      "source": [
        "instance = model.instance_from_vector(vector=[30.0, 2.0, 3.0])"
      ],
      "outputs": [],
      "execution_count": null
    },
    {
      "cell_type": "markdown",
      "metadata": {},
      "source": [
        "This is an instance of the `Gaussian` class."
      ]
    },
    {
      "cell_type": "code",
      "metadata": {},
      "source": [
        "print(\"Model Instance: \\n\")\n",
        "print(instance)"
      ],
      "outputs": [],
      "execution_count": null
    },
    {
      "cell_type": "markdown",
      "metadata": {},
      "source": [
        "It has the parameters of the `Gaussian` with the values input above."
      ]
    },
    {
      "cell_type": "code",
      "metadata": {},
      "source": [
        "print(\"Instance Parameters \\n\")\n",
        "print(\"x = \", instance.centre)\n",
        "print(\"normalization = \", instance.normalization)\n",
        "print(\"sigma = \", instance.sigma)"
      ],
      "outputs": [],
      "execution_count": null
    },
    {
      "cell_type": "markdown",
      "metadata": {},
      "source": [
        "We can use functions associated with the class, specifically the `model_data_1d_via_xvalues_from` function, to \n",
        "create a realization of the `Gaussian` and plot it."
      ]
    },
    {
      "cell_type": "code",
      "metadata": {},
      "source": [
        "xvalues = np.arange(0.0, 100.0, 1.0)\n",
        "\n",
        "model_data = instance.model_data_1d_via_xvalues_from(xvalues=xvalues)\n",
        "\n",
        "plt.plot(xvalues, model_data, color=\"r\")\n",
        "plt.title(\"1D Gaussian Model Data.\")\n",
        "plt.xlabel(\"x values of profile\")\n",
        "plt.ylabel(\"Gaussian Value\")\n",
        "plt.show()\n",
        "plt.clf()"
      ],
      "outputs": [],
      "execution_count": null
    },
    {
      "cell_type": "markdown",
      "metadata": {},
      "source": [
        "__Analysis__\n",
        "\n",
        "Now we've defined a model which can be mapped to instances of PYthon classes, we need to tell **PyAutoFit** how to \n",
        "fit the model to data. \n",
        "\n",
        "We therefore define an `Analysis` class, which includes:\n",
        "\n",
        " - An `__init__` constructor which takes as input the `data`, `noise_map` and can be extended to include any other \n",
        " quantities necessary to fit the model to the data.\n",
        "\n",
        " - A `log_likelihood_function` defining how given an `instance` of the model we fit it to the data and return a \n",
        " log likelihood value.\n",
        "\n",
        "Read the comments and docstrings of the `Analysis` object below in detail for more insights into how this object\n",
        "works."
      ]
    },
    {
      "cell_type": "code",
      "metadata": {},
      "source": [],
      "outputs": [],
      "execution_count": null
    }
  ],
  "metadata": {
    "anaconda-cloud": {},
    "kernelspec": {
      "display_name": "Python 3",
      "language": "python",
      "name": "python3"
    },
    "language_info": {
      "codemirror_mode": {
        "name": "ipython",
        "version": 3
      },
      "file_extension": ".py",
      "mimetype": "text/x-python",
      "name": "python",
      "nbconvert_exporter": "python",
      "pygments_lexer": "ipython3",
      "version": "3.6.1"
    }
  },
  "nbformat": 4,
  "nbformat_minor": 4
}