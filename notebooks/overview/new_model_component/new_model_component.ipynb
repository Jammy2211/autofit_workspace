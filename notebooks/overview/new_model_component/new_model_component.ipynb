{
  "cells": [
    {
      "cell_type": "markdown",
      "metadata": {},
      "source": [
        "Adding a Model Component\n",
        "========================\n",
        "\n",
        "The `autofit_workspace` comes ready for fitting 1D `Gaussian` and `Exponential` profiles, complete with configuration\n",
        "files, analysis classes and example scripts.\n",
        "\n",
        "However, once you're familiar with **PyAutoFit**, you will want to add your own model-components, specific to your\n",
        "model-fitting task. There are a couple of extra steps that come with doing this, associated with configuration files,\n",
        "that this brief guide explains.\n",
        "\n",
        "Adding a class\n",
        "--------------\n",
        "\n",
        "The model-component we are going to add will perform a `y = mx + c` linear fit to noisy data drawn from a straight\n",
        "line. We're only going to focus on the steps necessary to add this new model component, so we'll omit writing an\n",
        "`Analysis` class and performing the actual fit itself."
      ]
    },
    {
      "cell_type": "code",
      "metadata": {},
      "source": [
        "%matplotlib inline\n",
        "from pyprojroot import here\n",
        "workspace_path = str(here())\n",
        "%cd $workspace_path\n",
        "print(f\"Working Directory has been set to `{workspace_path}`\")\n",
        "\n",
        "import autofit as af"
      ],
      "outputs": [],
      "execution_count": null
    },
    {
      "cell_type": "markdown",
      "metadata": {},
      "source": [
        "To perform a linear fit, we require a `LinearFit` model-component that fits the data with a \n",
        "line `y = mx + c` or equivalently `y = (gradient * x) + intercept`."
      ]
    },
    {
      "cell_type": "code",
      "metadata": {},
      "source": [
        "\n",
        "\n",
        "class LinearFit:\n",
        "    def __init__(self, gradient=1.0, intercept=0.0):\n",
        "        self.gradient = gradient\n",
        "        self.intercept = intercept\n",
        "\n",
        "    def model_data_1d_via_xvalues_from(self, xvalues):\n",
        "        return (self.gradient * xvalues) + self.intercept\n"
      ],
      "outputs": [],
      "execution_count": null
    },
    {
      "cell_type": "markdown",
      "metadata": {},
      "source": [
        "As should be clear on by now, the class `LinearFit` defines our model-component which has free parameters  `gradient` \n",
        "and `intercept`.\n",
        "\n",
        "However, if we try to make this a `Model` PyAutoFit raises an error (I've commented this out, but feel free to\n",
        "uncomment the code and run it to see the error).\n",
        "\n",
        "The error will read something like `KeyError: 'No prior config found for class LinearFit and path gradient \n",
        "in directories C:\\\\Users\\\\Jammy\\\\Code\\\\PyAuto\\\\autofit_workspace\\\\config\\\\priors'`"
      ]
    },
    {
      "cell_type": "code",
      "metadata": {},
      "source": [
        "# model = af.Model(LinearFit)"
      ],
      "outputs": [],
      "execution_count": null
    },
    {
      "cell_type": "markdown",
      "metadata": {},
      "source": [
        "**PyAutoFit** is informing us that it cannot find prior configuration files for the `LinearFit` model-component and that \n",
        "they are therefore missing from the folder `autofit_workspace/config/priors`.\n",
        "\n",
        "Every model-component must have a `.json` config file in the `autofit_workspace/config/priors` folder, so \n",
        "that **PyAutoFit** knows the default priors to associate with the model-component. If we do not manually override \n",
        "priors, these are the priors that will be used by default when a model-fit is performed.\n",
        "\n",
        "Next, inspect the `TemplateObject.json` configuration file in `autofit_workspace/config/priors`. You should see\n",
        "the following `.json` text:"
      ]
    },
    {
      "cell_type": "code",
      "metadata": {},
      "source": [
        "{\n",
        "    \"parameter0\": {\"type\": \"Uniform\", \"lower_limit\": 0.0, \"upper_limit\": 1.0},\n",
        "    \"parameter1\": {\n",
        "        \"type\": \"Gaussian\",\n",
        "        \"mean\": 0.0,\n",
        "        \"sigma\": 0.1,\n",
        "        \"lower_limit\": \"-inf\",\n",
        "        \"upper_limit\": \"inf\",\n",
        "    },\n",
        "}"
      ],
      "outputs": [],
      "execution_count": null
    },
    {
      "cell_type": "markdown",
      "metadata": {},
      "source": [
        "This specifies the default priors on two parameters, named `parameter0` and `parameter1`. The `type` is the type of \n",
        "prior assumed by **PyAutoFit** by default for its corresponding parameter. \n",
        "\n",
        "In the example above: \n",
        "\n",
        "- `parameter0` is given a `UniformPrior` with limits between 0.0 and 1.0. \n",
        "- `parameter1` a `GaussianPrior` with mean 0.0 and sigma 1.0.\n",
        "\n",
        "The `lower_limit` and `upper_limit` of a `GaussianPrior` define the boundaries of what parameter values are \n",
        "physically allowed. If a model-component is given a value outside these limits during model-fitting the model is\n",
        "instantly resampled and discarded.\n",
        " \n",
        "We can easily adapt this template for our `LinearFit` model component. First, copy and paste the `TemplateObject.json`\n",
        "file to create a new file called `LinearFit.json`. \n",
        "\n",
        "**PyAutoFit** matches the name of the class to the name of the configuration file, therefore it is a requirement that \n",
        "the configuration file is named `LinearFit.json`.\n",
        "\n",
        "Next, rename `parameter0` to `gradient`, `parameter1` to `intercept` and make it so both assume a `UniformPrior` \n",
        "between -10.0 to 10.0.\n",
        "\n",
        "The `.json` file should read as follows:"
      ]
    },
    {
      "cell_type": "code",
      "metadata": {},
      "source": [
        "{\n",
        "    \"gradient\": {\"type\": \"Uniform\", \"lower_limit\": -10.0, \"upper_limit\": 10.0},\n",
        "    \"intercept\": {\"type\": \"Uniform\", \"lower_limit\": -10.0, \"upper_limit\": 10.0},\n",
        "}"
      ],
      "outputs": [],
      "execution_count": null
    },
    {
      "cell_type": "markdown",
      "metadata": {},
      "source": [
        "We should now be able to make a `Model` of the `LinearFit` class."
      ]
    },
    {
      "cell_type": "code",
      "metadata": {},
      "source": [
        "model = af.Model(LinearFit)"
      ],
      "outputs": [],
      "execution_count": null
    },
    {
      "cell_type": "markdown",
      "metadata": {},
      "source": [
        "Adding a Module\n",
        "---------------\n",
        "\n",
        "For larger projects, it is not ideal to have to write all the model-component classes in a single Python script, \n",
        "especially as we may have many different model components. We instead would prefer them to be in their own dedicated \n",
        "Python module.\n",
        "\n",
        "open the file:\n",
        "\n",
        "- `autofit_workspace/*/overview/adding_a_model_component/linear_fit.py`  OR\n",
        "- `autofit_workspace/*/overview/adding_a_model_component/linear_fit.py`\n",
        "\n",
        "Here, you will see the `LinearFit` class above is contained in the module `linear_fit.py`. There is also a `PowerFit` \n",
        "class, fits the function `y = m (x**p) + c`.\n",
        "\n",
        "If we import this module and try to make a  `Model` of the `linear_fit.LinearFit` or `linear_fit.PowerFit` \n",
        "classes, we receive the same configuration error as before."
      ]
    },
    {
      "cell_type": "code",
      "metadata": {},
      "source": [
        "import linear_fit\n",
        "\n",
        "# model = af.Model(linear_fit.LinearFit)\n",
        "# model = af.Model(linear_fit.PowerFit)"
      ],
      "outputs": [],
      "execution_count": null
    },
    {
      "cell_type": "markdown",
      "metadata": {},
      "source": [
        "This is because if a model-component is contained in a Python module, the prior configuration file must be named after\n",
        "that `module` and structured to contain Python class itself.\n",
        "\n",
        "Open the file `autofit_workspace/config/priors/template_module.json`, which reads as follows:"
      ]
    },
    {
      "cell_type": "code",
      "metadata": {},
      "source": [
        "{\n",
        "    \"ModelComponent0\": {\n",
        "        \"parameter0\": {\"type\": \"Uniform\", \"lower_limit\": 0.0, \"upper_limit\": 1.0},\n",
        "        \"parameter1\": {\"type\": \"LogUniform\", \"lower_limit\": 1e-06, \"upper_limit\": 1e6},\n",
        "        \"parameter2\": {\"type\": \"Uniform\", \"lower_limit\": 0.0, \"upper_limit\": 25.0},\n",
        "    },\n",
        "    \"ModelComponent1\": {\n",
        "        \"parameter0\": {\"type\": \"Uniform\", \"lower_limit\": 0.0, \"upper_limit\": 1.0},\n",
        "        \"parameter1\": {\"type\": \"LogUniform\", \"lower_limit\": 1e-06, \"upper_limit\": 1e6},\n",
        "        \"parameter2\": {\"type\": \"Uniform\", \"lower_limit\": 0.0, \"upper_limit\": 1.0},\n",
        "    },\n",
        "}"
      ],
      "outputs": [],
      "execution_count": null
    },
    {
      "cell_type": "markdown",
      "metadata": {},
      "source": [
        "This looks very similar to `TemplateObject`, the only differences are:\n",
        "\n",
        " - It now contains the model-component class name in the configuration file, e.g. `ModelComponent0`, `ModelComponent1`.\n",
        " - It includes multiple model-components, whereas `TemplateObject.json` corresponded to only one model component.\n",
        " \n",
        "We can again easily adapt this template for our `linear_fit.py` module. Copy, paste and rename the `.json` file to\n",
        "`linear_fit.json` (noting again that **PyAutoFit** matches the module name to the configuration file) and update the\n",
        "parameters as follows:"
      ]
    },
    {
      "cell_type": "code",
      "metadata": {},
      "source": [
        "{\n",
        "    \"LinearFit\": {\n",
        "        \"gradient\": {\"type\": \"Uniform\", \"lower_limit\": -10.0, \"upper_limit\": 10.0},\n",
        "        \"intercept\": {\"type\": \"Uniform\", \"lower_limit\": -10.0, \"upper_limit\": 10.0},\n",
        "    },\n",
        "    \"PowerFit\": {\n",
        "        \"gradient\": {\"type\": \"Uniform\", \"lower_limit\": -10.0, \"upper_limit\": 10.0},\n",
        "        \"intercept\": {\"type\": \"Uniform\", \"lower_limit\": -10.0, \"upper_limit\": 10.0},\n",
        "        \"power\": {\"type\": \"Uniform\", \"lower_limit\": 0.0, \"upper_limit\": 10.0},\n",
        "    },\n",
        "}"
      ],
      "outputs": [],
      "execution_count": null
    },
    {
      "cell_type": "markdown",
      "metadata": {},
      "source": [
        "We are now able to create both the `linear_fit.LinearFit` and `linear_fit.PowerFit` objects as `Model`'s."
      ]
    },
    {
      "cell_type": "code",
      "metadata": {},
      "source": [
        "model = af.Model(linear_fit.LinearFit)\n",
        "model = af.Model(linear_fit.PowerFit)"
      ],
      "outputs": [],
      "execution_count": null
    },
    {
      "cell_type": "markdown",
      "metadata": {},
      "source": [
        "Optional Configs\n",
        "----------------\n",
        "\n",
        "There are a couple more configuration files you can optionally update, which change how results are output. Open the \n",
        "following configuration files:\n",
        "\n",
        "`autofit_workspace/config/notation/label.yaml`\n",
        "`autofit_workspace/config/notation/label_format.yaml`\n",
        "\n",
        "\n",
        "These configuration files include the following additional settings for our model components:\n",
        "\n",
        "`label_ini` -> [label]: \n",
        "   This is a short-hand label for each parameter of each model-component used by certain **PyAutoFit** output files.\n",
        "\n",
        "`label_ini` -> [superscript]: \n",
        "   A subscript for the model-component used by certain **PyAutoFit** output files.\n",
        "\n",
        "`label_format.yaml` -> [format]\n",
        "   The format that the values of a parameter appear in the `model.results` file.\n",
        "\n",
        "\n",
        "For our `LinearFit` update the `label.yaml` config as follows:\n",
        "\n",
        "[label]\n",
        "centre=x\n",
        "normalization=I\n",
        "sigma=sigma\n",
        "rate=\\lambda\n",
        "gradient=m\n",
        "intercept=c\n",
        "power=p\n",
        "\n",
        "[superscript]\n",
        "Gaussian=g\n",
        "Exponential=e\n",
        "LinearFit=lin\n",
        "PowerFit=pow\n",
        "\n",
        "and `label_format.yaml` as:\n",
        "\n",
        "[format]\n",
        "centre={:.2f}\n",
        "normalization={:.2f}\n",
        "sigma={:.2f}\n",
        "rate={:.2f}\n",
        "gradient={:.2f}\n",
        "intercept={:.2f}\n",
        "power={:.2f}\n",
        "\n",
        "You should now be able to add your own model-components to your **PyAutoFit** project!"
      ]
    },
    {
      "cell_type": "code",
      "metadata": {},
      "source": [],
      "outputs": [],
      "execution_count": null
    }
  ],
  "metadata": {
    "anaconda-cloud": {},
    "kernelspec": {
      "display_name": "Python 3",
      "language": "python",
      "name": "python3"
    },
    "language_info": {
      "codemirror_mode": {
        "name": "ipython",
        "version": 3
      },
      "file_extension": ".py",
      "mimetype": "text/x-python",
      "name": "python",
      "nbconvert_exporter": "python",
      "pygments_lexer": "ipython3",
      "version": "3.6.1"
    }
  },
  "nbformat": 4,
  "nbformat_minor": 4
}