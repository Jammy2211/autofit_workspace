{
  "cells": [
    {
      "cell_type": "code",
      "metadata": {},
      "source": [
        "class LinearFit:\n",
        "    def __init__(self, gradient=1.0, intercept=0.0):\n",
        "        self.gradient = gradient\n",
        "        self.intercept = intercept\n",
        "\n",
        "    def line_from_xvalues(self, xvalues):\n",
        "        return self.gradient * xvalues + self.intercept\n",
        "\n",
        "\n",
        "class PowerFit:\n",
        "    def __init__(self, gradient=1.0, intercept=0.0, power=1.0):\n",
        "        self.gradient = gradient\n",
        "        self.intercept = intercept\n",
        "        self.power = power\n",
        "\n",
        "    def line_from_xvalues(self, xvalues):\n",
        "        return self.gradient * ((xvalues) ** self.power) + self.intercept\n"
      ],
      "outputs": [],
      "execution_count": null
    }
  ],
  "metadata": {
    "anaconda-cloud": {},
    "kernelspec": {
      "display_name": "Python 3",
      "language": "python",
      "name": "python3"
    },
    "language_info": {
      "codemirror_mode": {
        "name": "ipython",
        "version": 3
      },
      "file_extension": ".py",
      "mimetype": "text/x-python",
      "name": "python",
      "nbconvert_exporter": "python",
      "pygments_lexer": "ipython3",
      "version": "3.6.1"
    }
  },
  "nbformat": 4,
  "nbformat_minor": 4
}