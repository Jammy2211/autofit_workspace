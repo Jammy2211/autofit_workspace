{
  "cells": [
    {
      "cell_type": "markdown",
      "metadata": {},
      "source": [
        "__Example: Result__\n",
        "\n",
        "In this example, we'll repeat the fit of 1D data of a `Gaussian` profile with a 1D `Gaussian` model using the non-linear\n",
        "search emcee and inspect the *Result* object that is returned in detail.\n",
        "\n",
        "If you haven't already, you should checkout the files `example/model.py`,`example/analysis.py` and `example/fit.py` to\n",
        "see how the fit is performed by the code below. The first section of code below is simmply repeating the commands in\n",
        "`example/fit.py`, so feel free to skip over it until you his the `Result`'s section."
      ]
    },
    {
      "cell_type": "code",
      "metadata": {},
      "source": [
        "%matplotlib inline\n",
        "from pyprojroot import here\n",
        "workspace_path = str(here())\n",
        "%cd $workspace_path\n",
        "print(f\"Working Directory has been set to `{workspace_path}`\")\n",
        "\n",
        "import autofit as af\n",
        "import autofit.plot as aplt\n",
        "\n",
        "from os import path\n",
        "import matplotlib.pyplot as plt\n",
        "import numpy as np"
      ],
      "outputs": [],
      "execution_count": null
    },
    {
      "cell_type": "markdown",
      "metadata": {},
      "source": [
        "__Data__\n",
        "\n",
        "First, lets load data of a 1D Gaussian, by loading it from a .json file in the directory \n",
        "`autofit_workspace/dataset/`, which  simulates the noisy data we fit (check it out to see how we simulate the \n",
        "data)."
      ]
    },
    {
      "cell_type": "code",
      "metadata": {},
      "source": [
        "dataset_path = path.join(\"dataset\", \"example_1d\", \"gaussian_x1\")\n",
        "data = af.util.numpy_array_from_json(file_path=path.join(dataset_path, \"data.json\"))\n",
        "noise_map = af.util.numpy_array_from_json(\n",
        "    file_path=path.join(dataset_path, \"noise_map.json\")\n",
        ")"
      ],
      "outputs": [],
      "execution_count": null
    },
    {
      "cell_type": "markdown",
      "metadata": {},
      "source": [
        "__Model__\n",
        "\n",
        "Next, we create our model, which in this case corresponds to a single Gaussian. \n",
        "\n",
        "We use the `af.ex` package to create the `Gaussian`, where `af.ex` stands for **PyAutoFit** example objects used\n",
        "in example scripts such as this one. \n",
        "\n",
        "The `Gaussian` model below is  identical 1D `Gaussian` to the one used in the `fit.py` example script."
      ]
    },
    {
      "cell_type": "code",
      "metadata": {},
      "source": [
        "model = af.Model(af.ex.Gaussian)"
      ],
      "outputs": [],
      "execution_count": null
    },
    {
      "cell_type": "markdown",
      "metadata": {},
      "source": [
        "Checkout `autofit_workspace/config/priors` - this config file defines the default priors of all our model\n",
        "components. However, we can overwrite priors before running the `NonLinearSearch` as shown below."
      ]
    },
    {
      "cell_type": "code",
      "metadata": {},
      "source": [
        "model.centre = af.UniformPrior(lower_limit=0.0, upper_limit=100.0)\n",
        "model.normalization = af.LogUniformPrior(lower_limit=1e-2, upper_limit=1e2)\n",
        "model.sigma = af.GaussianPrior(\n",
        "    mean=10.0, sigma=5.0, lower_limit=0.0, upper_limit=np.inf\n",
        ")"
      ],
      "outputs": [],
      "execution_count": null
    },
    {
      "cell_type": "markdown",
      "metadata": {},
      "source": [
        "__Analysis__\n",
        "\n",
        "We now set up our `Analysis`, which describes how given an instance of our model (a Gaussian) we fit the data and \n",
        "return a log likelihood value. \n",
        "\n",
        "We use the `af.ex` package to create the `Analysis`, where `af.ex` stands for **PyAutoFit** example objects used\n",
        "in example scripts such as this one. \n",
        "\n",
        "The `Analysis` below is an identical to the one used in the `fit.py` example script."
      ]
    },
    {
      "cell_type": "code",
      "metadata": {},
      "source": [
        "analysis = af.ex.Analysis(data=data, noise_map=noise_map)"
      ],
      "outputs": [],
      "execution_count": null
    },
    {
      "cell_type": "markdown",
      "metadata": {},
      "source": [
        "We now create the `Emcee` non-linear search and perform a model-fit to get the result."
      ]
    },
    {
      "cell_type": "code",
      "metadata": {},
      "source": [
        "search = af.Emcee(\n",
        "    nwalkers=30,\n",
        "    nsteps=1000,\n",
        "    initializer=af.InitializerBall(lower_limit=0.49, upper_limit=0.51),\n",
        "    auto_correlations_settings=af.AutoCorrelationsSettings(\n",
        "        check_for_convergence=True,\n",
        "        check_size=100,\n",
        "        required_length=50,\n",
        "        change_threshold=0.01,\n",
        "    ),\n",
        "    number_of_cores=1,\n",
        ")\n",
        "\n",
        "result = search.fit(model=model, analysis=analysis)"
      ],
      "outputs": [],
      "execution_count": null
    },
    {
      "cell_type": "markdown",
      "metadata": {},
      "source": [
        "__Result__\n",
        "\n",
        "Here, we'll look in detail at what information is contained in the `Result`.\n",
        "\n",
        "It contains an `info` attribute which prints the result in readable format."
      ]
    },
    {
      "cell_type": "code",
      "metadata": {},
      "source": [
        "print(result.info)"
      ],
      "outputs": [],
      "execution_count": null
    },
    {
      "cell_type": "markdown",
      "metadata": {},
      "source": [
        "__Samples__\n",
        "\n",
        "The result contains a `Samples` object, which contains all of the non-linear search samples. \n",
        "\n",
        "Each sample corresponds to a set of model parameters that were evaluated and accepted by our non linear search, \n",
        "in this example emcee. \n",
        "\n",
        "This also includes their log likelihoods, which are used for computing additional information about the model-fit,\n",
        "for example the error on every parameter. \n",
        "\n",
        "Our model-fit used the MCMC algorithm Emcee, so the `Samples` object returned is a `SamplesMCMC` object."
      ]
    },
    {
      "cell_type": "code",
      "metadata": {},
      "source": [
        "samples = result.samples\n",
        "\n",
        "print(\"MCMC Samples: \\n\")\n",
        "print(samples)"
      ],
      "outputs": [],
      "execution_count": null
    },
    {
      "cell_type": "markdown",
      "metadata": {},
      "source": [
        "__Parameters__\n",
        "\n",
        "The parameters are stored as a list of lists, where:\n",
        "\n",
        " - The outer list is the size of the total number of samples.\n",
        " - The inner list is the size of the number of free parameters in the fit."
      ]
    },
    {
      "cell_type": "code",
      "metadata": {},
      "source": [
        "samples = result.samples\n",
        "print(\"Sample 5's second parameter value (Gaussian -> normalization):\")\n",
        "print(samples.parameter_lists[4][1])\n",
        "print(\"Sample 10`s third parameter value (Gaussian -> sigma)\")\n",
        "print(samples.parameter_lists[9][2], \"\\n\")"
      ],
      "outputs": [],
      "execution_count": null
    },
    {
      "cell_type": "markdown",
      "metadata": {},
      "source": [
        "__Figures of Merit__\n",
        "\n",
        "The Samples class also contains the log likelihood, log prior, log posterior and weight_list of every accepted sample, \n",
        "where:\n",
        "\n",
        "- The log likelihood is the value evaluated from the likelihood function (e.g. -0.5 * chi_squared + the noise \n",
        "normalized).\n",
        "\n",
        "- The log prior encodes information on how the priors on the parameters maps the log likelihood value to the log \n",
        "posterior value.\n",
        "\n",
        "- The log posterior is log_likelihood + log_prior.\n",
        "\n",
        "- The weight gives information on how samples should be combined to estimate the posterior. The weight values depend on \n",
        "the sampler used, for MCMC samples they are all 1 (e.g. all weighted equally).\n",
        "     \n",
        "Lets inspect the last 10 values of each for the analysis.     "
      ]
    },
    {
      "cell_type": "code",
      "metadata": {},
      "source": [
        "print(\"log(likelihood), log(prior), log(posterior) and weight of the tenth sample.\")\n",
        "print(samples.log_likelihood_list[9])\n",
        "print(samples.log_prior_list[9])\n",
        "print(samples.log_posterior_list[9])\n",
        "print(samples.weight_list[9])"
      ],
      "outputs": [],
      "execution_count": null
    },
    {
      "cell_type": "markdown",
      "metadata": {},
      "source": [
        "__Instances__\n",
        "\n",
        "The `Samples` contains many results which are returned as an instance of the model, using the Python class structure\n",
        "of the model composition.\n",
        "\n",
        "For example, we can return the model parameters corresponding to the maximum log likelihood sample."
      ]
    },
    {
      "cell_type": "code",
      "metadata": {},
      "source": [
        "max_lh_instance = samples.max_log_likelihood()\n",
        "\n",
        "print(\"Max Log Likelihood `Gaussian` Instance:\")\n",
        "print(\"Centre = \", max_lh_instance.centre)\n",
        "print(\"Normalization = \", max_lh_instance.normalization)\n",
        "print(\"Sigma = \", max_lh_instance.sigma, \"\\n\")"
      ],
      "outputs": [],
      "execution_count": null
    },
    {
      "cell_type": "markdown",
      "metadata": {},
      "source": [
        "__Vectors__\n",
        "\n",
        "All results can alternatively be returned as a 1D vector of values, by passing `as_instance=False`:"
      ]
    },
    {
      "cell_type": "code",
      "metadata": {},
      "source": [
        "max_lh_vector = samples.max_log_likelihood(as_instance=False)\n",
        "print(\"Max Log Likelihood Model Parameters: \\n\")\n",
        "print(max_lh_vector, \"\\n\\n\")"
      ],
      "outputs": [],
      "execution_count": null
    },
    {
      "cell_type": "markdown",
      "metadata": {},
      "source": [
        "__Labels__\n",
        "\n",
        "Vectors return a lists of all model parameters, but do not tell us which values correspond to which parameters.\n",
        "\n",
        "The following quantities are available in the `Model`, where the order of their entries correspond to the parameters \n",
        "in the `ml_vector` above:\n",
        " \n",
        " - `paths`: a list of tuples which give the path of every parameter in the `Model`.\n",
        " - `parameter_names`: a list of shorthand parameter names derived from the `paths`.\n",
        " - `parameter_labels`: a list of parameter labels used when visualizing non-linear search results (see below).\n",
        "\n",
        "For simple models like the one fitted in this tutorial, the quantities below are somewhat redundant. For the\n",
        "more complex models illustrated in other tutorials their utility will become clear."
      ]
    },
    {
      "cell_type": "code",
      "metadata": {},
      "source": [
        "model = samples.model\n",
        "\n",
        "print(model.paths)\n",
        "print(model.parameter_names)\n",
        "print(model.parameter_labels)\n",
        "print(model.model_component_and_parameter_names)\n",
        "print(\"\\n\")"
      ],
      "outputs": [],
      "execution_count": null
    },
    {
      "cell_type": "markdown",
      "metadata": {},
      "source": [
        "From here on, we will returned all results information as instances, but every method below can be returned as a\n",
        "vector via the `as_instance=False` input.\n",
        "\n",
        "__Posterior / PDF__\n",
        "\n",
        "The ``Result`` object contains the full posterior information of our non-linear search, which can be used for\n",
        "parameter estimation. \n",
        "\n",
        "The median pdf vector is available from the `Samples` object, which estimates the every parameter via 1D \n",
        "marginalization of their PDFs."
      ]
    },
    {
      "cell_type": "code",
      "metadata": {},
      "source": [
        "median_pdf_instance = samples.median_pdf()\n",
        "\n",
        "print(\"Median PDF `Gaussian` Instance:\")\n",
        "print(\"Centre = \", median_pdf_instance.centre)\n",
        "print(\"Normalization = \", median_pdf_instance.normalization)\n",
        "print(\"Sigma = \", median_pdf_instance.sigma, \"\\n\")"
      ],
      "outputs": [],
      "execution_count": null
    },
    {
      "cell_type": "markdown",
      "metadata": {},
      "source": [
        "For our example problem of fitting a 1D `Gaussian` profile, this makes it straight forward to plot the maximum\n",
        "likelihood model:"
      ]
    },
    {
      "cell_type": "code",
      "metadata": {},
      "source": [
        "model_data = samples.max_log_likelihood().model_data_1d_via_xvalues_from(\n",
        "    xvalues=np.arange(data.shape[0])\n",
        ")\n",
        "\n",
        "plt.plot(range(data.shape[0]), data)\n",
        "plt.plot(range(data.shape[0]), model_data)\n",
        "plt.title(\"Illustrative model fit to 1D `Gaussian` profile data.\")\n",
        "plt.xlabel(\"x values of profile\")\n",
        "plt.ylabel(\"Profile normalization\")\n",
        "plt.show()\n",
        "plt.close()"
      ],
      "outputs": [],
      "execution_count": null
    },
    {
      "cell_type": "markdown",
      "metadata": {},
      "source": [
        "__Errors__\n",
        "\n",
        "The samples include methods for computing the error estimates of all parameters, via 1D marginalization at an \n",
        "input sigma confidence limit. "
      ]
    },
    {
      "cell_type": "code",
      "metadata": {},
      "source": [
        "errors_at_upper_sigma_instance = samples.errors_at_upper_sigma(sigma=3.0)\n",
        "errors_at_lower_sigma_instance = samples.errors_at_lower_sigma(sigma=3.0)\n",
        "\n",
        "print(\"Upper Error values (at 3.0 sigma confidence):\")\n",
        "print(\"Centre = \", errors_at_upper_sigma_instance.centre)\n",
        "print(\"Normalization = \", errors_at_upper_sigma_instance.normalization)\n",
        "print(\"Sigma = \", errors_at_upper_sigma_instance.sigma, \"\\n\")\n",
        "\n",
        "print(\"lower Error values (at 3.0 sigma confidence):\")\n",
        "print(\"Centre = \", errors_at_lower_sigma_instance.centre)\n",
        "print(\"Normalization = \", errors_at_lower_sigma_instance.normalization)\n",
        "print(\"Sigma = \", errors_at_lower_sigma_instance.sigma, \"\\n\")"
      ],
      "outputs": [],
      "execution_count": null
    },
    {
      "cell_type": "markdown",
      "metadata": {},
      "source": [
        "They can also be returned at the values of the parameters at their error values:"
      ]
    },
    {
      "cell_type": "code",
      "metadata": {},
      "source": [
        "values_at_upper_sigma_instance = samples.values_at_upper_sigma(sigma=3.0)\n",
        "values_at_lower_sigma_instance = samples.values_at_lower_sigma(sigma=3.0)\n",
        "\n",
        "print(\"Upper Parameter values w/ error (at 3.0 sigma confidence):\")\n",
        "print(\"Centre = \", values_at_upper_sigma_instance.centre)\n",
        "print(\"Normalization = \", values_at_upper_sigma_instance.normalization)\n",
        "print(\"Sigma = \", values_at_upper_sigma_instance.sigma, \"\\n\")\n",
        "\n",
        "print(\"lower Parameter values w/ errors (at 3.0 sigma confidence):\")\n",
        "print(\"Centre = \", values_at_lower_sigma_instance.centre)\n",
        "print(\"Normalization = \", values_at_lower_sigma_instance.normalization)\n",
        "print(\"Sigma = \", values_at_lower_sigma_instance.sigma, \"\\n\")"
      ],
      "outputs": [],
      "execution_count": null
    },
    {
      "cell_type": "markdown",
      "metadata": {},
      "source": [
        "__Plot__\n",
        "\n",
        "Because results are returned as instances, it is straight forward to use them and their associated functionality\n",
        "to make plots of the results:"
      ]
    },
    {
      "cell_type": "code",
      "metadata": {},
      "source": [
        "model_data = max_lh_instance.model_data_1d_via_xvalues_from(\n",
        "    xvalues=np.arange(data.shape[0])\n",
        ")\n",
        "\n",
        "plt.plot(range(data.shape[0]), data)\n",
        "plt.plot(range(data.shape[0]), model_data)\n",
        "plt.title(\"Illustrative model fit to 1D `Gaussian` data.\")\n",
        "plt.xlabel(\"x values of profile\")\n",
        "plt.ylabel(\"Profile normalization\")\n",
        "plt.show()\n",
        "plt.close()"
      ],
      "outputs": [],
      "execution_count": null
    },
    {
      "cell_type": "markdown",
      "metadata": {},
      "source": [
        "__Search Plots__\n",
        "\n",
        "The Probability Density Functions (PDF's) of the results can be plotted using the Emcee's visualization \n",
        "tool `corner.py`, which is wrapped via the `EmceePlotter` object."
      ]
    },
    {
      "cell_type": "code",
      "metadata": {},
      "source": [
        "search_plotter = aplt.EmceePlotter(samples=result.samples)\n",
        "search_plotter.corner()"
      ],
      "outputs": [],
      "execution_count": null
    },
    {
      "cell_type": "markdown",
      "metadata": {},
      "source": [
        "__Other Results__\n",
        "\n",
        "The samples contain many useful vectors, including the samples with the highest posterior values."
      ]
    },
    {
      "cell_type": "code",
      "metadata": {},
      "source": [
        "max_log_posterior_instance = samples.max_log_posterior()\n",
        "\n",
        "print(\"Maximum Log Posterior Vector:\")\n",
        "print(\"Centre = \", max_log_posterior_instance.centre)\n",
        "print(\"Normalization = \", max_log_posterior_instance.normalization)\n",
        "print(\"Sigma = \", max_log_posterior_instance.sigma, \"\\n\")\n"
      ],
      "outputs": [],
      "execution_count": null
    },
    {
      "cell_type": "markdown",
      "metadata": {},
      "source": [
        "All methods above are available as a vector:"
      ]
    },
    {
      "cell_type": "code",
      "metadata": {},
      "source": [
        "median_pdf_instance = samples.median_pdf(as_instance=False)\n",
        "values_at_upper_sigma = samples.values_at_upper_sigma(sigma=3.0, as_instance=False)\n",
        "values_at_lower_sigma = samples.values_at_lower_sigma(sigma=3.0, as_instance=False)\n",
        "errors_at_upper_sigma = samples.errors_at_upper_sigma(sigma=3.0, as_instance=False)\n",
        "errors_at_lower_sigma = samples.errors_at_lower_sigma(sigma=3.0, as_instance=False)"
      ],
      "outputs": [],
      "execution_count": null
    },
    {
      "cell_type": "markdown",
      "metadata": {},
      "source": [
        "__Sample Instance__\n",
        "\n",
        "A non-linear search retains every model that is accepted during the model-fit.\n",
        "\n",
        "We can create an instance of any model -- below we create an instance of the last accepted model."
      ]
    },
    {
      "cell_type": "code",
      "metadata": {},
      "source": [
        "instance = samples.from_sample_index(sample_index=-1)\n",
        "\n",
        "print(\"Gaussian Instance of last sample\")\n",
        "print(\"Centre = \", instance.centre)\n",
        "print(\"Normalization = \", instance.normalization)\n",
        "print(\"Sigma = \", instance.sigma, \"\\n\")"
      ],
      "outputs": [],
      "execution_count": null
    },
    {
      "cell_type": "markdown",
      "metadata": {},
      "source": [
        "__Bayesian Evidence__\n",
        "\n",
        "If a nested sampling `NonLinearSearch` is used, the evidence of the model is also available which enables Bayesian\n",
        "model comparison to be performed (given we are using Emcee, which is not a nested sampling algorithm, the log evidence \n",
        "is None).:"
      ]
    },
    {
      "cell_type": "code",
      "metadata": {},
      "source": [
        "log_evidence = samples.log_evidence"
      ],
      "outputs": [],
      "execution_count": null
    },
    {
      "cell_type": "markdown",
      "metadata": {},
      "source": [
        "__Derived Errors (Advanced)__\n",
        "\n",
        "Computing the errors of a quantity like the `sigma` of the Gaussian is simple, because it is sampled by the non-linear \n",
        "search. Thus, to get their errors above we used the `Samples` object to simply marginalize over all over parameters \n",
        "via the 1D Probability Density Function (PDF).\n",
        "\n",
        "Computing errors on derived quantitys is more tricky, because it is not sampled directly by the non-linear search. \n",
        "For example, what if we want the error on the full width half maximum (FWHM) of the Gaussian? In order to do this\n",
        "we need to create the PDF of that derived quantity, which we can then marginalize over using the same function we\n",
        "use to marginalize model parameters.\n",
        "\n",
        "Below, we compute the FWHM of every accepted model sampled by the non-linear search and use this determine the PDF \n",
        "of the FWHM. When combining the FWHM's we weight each value by its `weight`. For Emcee, an MCMC algorithm, the\n",
        "weight of every sample is 1, but weights may take different values for other non-linear searches.\n",
        "\n",
        "In order to pass these samples to the function `marginalize`, which marginalizes over the PDF of the FWHM to compute \n",
        "its error, we also pass the weight list of the samples.\n",
        "\n",
        "(Computing the error on the FWHM could be done in much simpler ways than creating its PDF from the list of every\n",
        "sample. We chose this example for simplicity, in order to show this functionality, which can easily be extended to more\n",
        "complicated derived quantities.)"
      ]
    },
    {
      "cell_type": "code",
      "metadata": {},
      "source": [
        "fwhm_list = []\n",
        "\n",
        "for sample in samples.sample_list:\n",
        "    instance = sample.instance_for_model(model=samples.model)\n",
        "\n",
        "    sigma = instance.sigma\n",
        "\n",
        "    fwhm = 2 * np.sqrt(2 * np.log(2)) * sigma\n",
        "\n",
        "    fwhm_list.append(fwhm)\n",
        "\n",
        "median_fwhm, upper_fwhm, lower_fwhm = af.marginalize(\n",
        "    parameter_list=fwhm_list, sigma=3.0, weight_list=samples.weight_list\n",
        ")\n",
        "\n",
        "print(f\"FWHM = {median_fwhm} ({upper_fwhm} {lower_fwhm}\")"
      ],
      "outputs": [],
      "execution_count": null
    },
    {
      "cell_type": "markdown",
      "metadata": {},
      "source": [
        "__Latex__\n",
        "\n",
        "If you are writing modeling results up in a paper, you can use PyAutoFit's inbuilt latex tools to create latex table \n",
        "code which you can copy to your .tex document.\n",
        "\n",
        "By combining this with the filtering tools below, specific parameters can be included or removed from the latex.\n",
        "\n",
        "Remember that the superscripts of a parameter are loaded from the config file `notation/label.yaml`, providing high\n",
        "levels of customization for how the parameter names appear in the latex table. This is especially useful if your model\n",
        "uses the same model components with the same parameter, which therefore need to be distinguished via superscripts."
      ]
    },
    {
      "cell_type": "code",
      "metadata": {},
      "source": [
        "latex = af.text.Samples.latex(\n",
        "    samples=result.samples,\n",
        "    median_pdf_model=True,\n",
        "    sigma=3.0,\n",
        "    name_to_label=True,\n",
        "    include_name=True,\n",
        "    include_quickmath=True,\n",
        "    prefix=\"Example Prefix \",\n",
        "    suffix=\" \\\\[-2pt]\",\n",
        ")\n",
        "\n",
        "print(latex)"
      ],
      "outputs": [],
      "execution_count": null
    },
    {
      "cell_type": "markdown",
      "metadata": {},
      "source": [
        "__Result Extensions (Advanced)__\n",
        "\n",
        "You might be wondering what else the results contains, as nearly everything we discussed above was a part of its \n",
        "`samples` property! The answer is, not much, however the result can be extended to include  model-specific results for \n",
        "your project. \n",
        "\n",
        "We detail how to do this in the **HowToFit** lectures, but for the example of fitting a 1D Gaussian we could extend\n",
        "the result to include the maximum log likelihood profile:\n",
        "\n",
        "(The commented out functions below are llustrative of the API we can create by extending a result)."
      ]
    },
    {
      "cell_type": "code",
      "metadata": {},
      "source": [
        "# max_log_likelihood_profile = results.max_log_likelihood_profile"
      ],
      "outputs": [],
      "execution_count": null
    },
    {
      "cell_type": "markdown",
      "metadata": {},
      "source": [
        "__Database__\n",
        "\n",
        "For large-scaling model-fitting problems to large datasets, the results of the many model-fits performed can be output\n",
        "and stored in a queryable sqlite3 database. The `Result` and `Samples` objects have been designed to streamline the \n",
        "analysis and interpretation of model-fits to large datasets using the database.\n",
        "\n",
        "Checkout `notebooks/features/database.ipynb` for an illustration of using\n",
        "this tool."
      ]
    },
    {
      "cell_type": "code",
      "metadata": {},
      "source": [],
      "outputs": [],
      "execution_count": null
    }
  ],
  "metadata": {
    "anaconda-cloud": {},
    "kernelspec": {
      "display_name": "Python 3",
      "language": "python",
      "name": "python3"
    },
    "language_info": {
      "codemirror_mode": {
        "name": "ipython",
        "version": 3
      },
      "file_extension": ".py",
      "mimetype": "text/x-python",
      "name": "python",
      "nbconvert_exporter": "python",
      "pygments_lexer": "ipython3",
      "version": "3.6.1"
    }
  },
  "nbformat": 4,
  "nbformat_minor": 4
}