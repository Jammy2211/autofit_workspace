{
 "cells": [
  {
   "cell_type": "markdown",
   "metadata": {},
   "source": [
    "Overview: Result\n",
    "================\n",
    "\n",
    "In this example, we'll repeat the fit of 1D data of a `Gaussian` profile with a 1D `Gaussian` model using the non-linear\n",
    "search emcee and inspect the *Result* object that is returned in detail.\n",
    "\n",
    "If you haven't already, you should checkout the notebook `overview/fit.ipynb` to  see how the fit is performed by the\n",
    "code below. The first section of code below is simmply repeating the commands in `example/fit.py`, so feel free to\n",
    "skip over it until you his the `Result`'s section."
   ]
  },
  {
   "cell_type": "code",
   "execution_count": 1,
   "metadata": {
    "execution": {
     "iopub.execute_input": "2021-03-06T14:12:55.483441Z",
     "iopub.status.busy": "2021-03-06T14:12:55.482967Z",
     "iopub.status.idle": "2021-03-06T14:12:56.095011Z",
     "shell.execute_reply": "2021-03-06T14:12:56.095299Z"
    }
   },
   "outputs": [],
   "source": [
    "%matplotlib inline\n",
    "\n",
    "import autofit as af\n",
    "\n",
    "from os import path\n",
    "import matplotlib.pyplot as plt\n",
    "import numpy as np"
   ]
  },
  {
   "cell_type": "markdown",
   "metadata": {
    "collapsed": false
   },
   "source": [
    "At the top of every tutorial notebook, you'll see the following cell. This cell uses the project `pyprojroot` to\n",
    "locate the path to the workspace on your computer and use it to set the working directory of the notebook."
   ]
  },
  {
   "cell_type": "code",
   "execution_count": 2,
   "metadata": {
    "collapsed": false,
    "execution": {
     "iopub.execute_input": "2021-03-06T14:12:56.098468Z",
     "iopub.status.busy": "2021-03-06T14:12:56.098067Z",
     "iopub.status.idle": "2021-03-06T14:12:56.107574Z",
     "shell.execute_reply": "2021-03-06T14:12:56.107835Z"
    },
    "pycharm": {
     "name": "#%%\n"
    }
   },
   "outputs": [
    {
     "name": "stdout",
     "output_type": "stream",
     "text": [
      "/mnt/c/Users/Jammy/Code/PyAuto/autofit_workspace\n",
      "Working Directory has been set to `/mnt/c/Users/Jammy/Code/PyAuto/autofit_workspace`\n"
     ]
    }
   ],
   "source": [
    "from pyprojroot import here\n",
    "workspace_path = str(here())\n",
    "%cd $workspace_path\n",
    "print(f\"Working Directory has been set to `{workspace_path}`\")"
   ]
  },
  {
   "cell_type": "markdown",
   "metadata": {},
   "source": [
    "__Data__\n",
    "\n",
    "First, lets load data of a 1D Gaussian, by loading it from a .json file in the directory \n",
    "`autofit_workspace/dataset/`, which  simulates the noisy data we fit (check it out to see how we simulate the \n",
    "data)."
   ]
  },
  {
   "cell_type": "code",
   "execution_count": 3,
   "metadata": {
    "execution": {
     "iopub.execute_input": "2021-03-06T14:12:56.110386Z",
     "iopub.status.busy": "2021-03-06T14:12:56.110031Z",
     "iopub.status.idle": "2021-03-06T14:12:56.113000Z",
     "shell.execute_reply": "2021-03-06T14:12:56.113292Z"
    }
   },
   "outputs": [],
   "source": [
    "dataset_path = path.join(\"dataset\", \"example_1d\", \"gaussian_x1\")\n",
    "\n",
    "data = af.util.numpy_array_from_json(file_path=path.join(dataset_path, \"data.json\"))\n",
    "noise_map = af.util.numpy_array_from_json(\n",
    "    file_path=path.join(dataset_path, \"noise_map.json\")\n",
    ")"
   ]
  },
  {
   "cell_type": "markdown",
   "metadata": {},
   "source": [
    "__Model + Analysis__\n",
    "\n",
    "We create the same model and analysis classes use in the example `autofit_workspace/notebooks/overview/simple/fit.ipynb`."
   ]
  },
  {
   "cell_type": "code",
   "execution_count": 4,
   "metadata": {
    "collapsed": false,
    "execution": {
     "iopub.execute_input": "2021-03-06T14:12:56.117533Z",
     "iopub.status.busy": "2021-03-06T14:12:56.117176Z",
     "iopub.status.idle": "2021-03-06T14:12:56.118637Z",
     "shell.execute_reply": "2021-03-06T14:12:56.118903Z"
    },
    "pycharm": {
     "name": "#%%\n"
    }
   },
   "outputs": [],
   "source": [
    "class Gaussian:\n",
    "    def __init__(\n",
    "        self,\n",
    "        centre=0.0,  # <- PyAutoFit recognises these constructor arguments\n",
    "        intensity=0.1,  # <- are the Gaussian`s model parameters.\n",
    "        sigma=0.01,\n",
    "    ):\n",
    "        \"\"\"Represents a 1D `Gaussian` profile, which may be treated as a model-component of PyAutoFit the\n",
    "        parameters of which are fitted for by a non-linear search.\n",
    "\n",
    "        Parameters\n",
    "        ----------\n",
    "        centre : float\n",
    "            The x coordinate of the profile centre.\n",
    "        intensity : float\n",
    "            Overall intensity normalisation of the `Gaussian` profile.\n",
    "        sigma : float\n",
    "            The sigma value controlling the size of the Gaussian.\n",
    "        \"\"\"\n",
    "\n",
    "        self.centre = centre\n",
    "        self.intensity = intensity\n",
    "        self.sigma = sigma\n",
    "\n",
    "    def profile_from_xvalues(self, xvalues):\n",
    "        \"\"\"\n",
    "        Calculate the intensity of the profile on a line of Cartesian x coordinates.\n",
    "\n",
    "        The input xvalues are translated to a coordinate system centred on the Gaussian, using its centre.\n",
    "\n",
    "        Parameters\n",
    "        ----------\n",
    "        xvalues : np.ndarray\n",
    "            The x coordinates in the original reference frame of the grid.\n",
    "        \"\"\"\n",
    "\n",
    "        transformed_xvalues = xvalues - self.centre\n",
    "\n",
    "        return np.multiply(\n",
    "            np.divide(self.intensity, self.sigma * np.sqrt(2.0 * np.pi)),\n",
    "            np.exp(-0.5 * np.square(np.divide(transformed_xvalues, self.sigma))),\n",
    "        )"
   ]
  },
  {
   "cell_type": "code",
   "execution_count": 5,
   "metadata": {
    "collapsed": false,
    "execution": {
     "iopub.execute_input": "2021-03-06T14:12:56.122144Z",
     "iopub.status.busy": "2021-03-06T14:12:56.121755Z",
     "iopub.status.idle": "2021-03-06T14:12:56.123821Z",
     "shell.execute_reply": "2021-03-06T14:12:56.124258Z"
    },
    "pycharm": {
     "name": "#%%\n"
    }
   },
   "outputs": [],
   "source": [
    "class Analysis(af.Analysis):\n",
    "\n",
    "    def __init__(self, data, noise_map):\n",
    "\n",
    "        super().__init__()\n",
    "\n",
    "        self.data = data\n",
    "        self.noise_map = noise_map\n",
    "\n",
    "    def log_likelihood_function(self, instance):\n",
    "        \"\"\"\n",
    "        Determine the log likelihood of a fit of a `Gaussian` to the dataset, using a model instance of the Gaussian.\n",
    "\n",
    "        Parameters\n",
    "        ----------\n",
    "        instance : model.Gaussian\n",
    "            The `Gaussian` model instance.\n",
    "\n",
    "        Returnsn\n",
    "        -------\n",
    "        fit : Fit.log_likelihood\n",
    "            The log likelihood value indicating how well this model fit the dataset.\n",
    "        \"\"\"\n",
    "\n",
    "        xvalues = np.arange(self.data.shape[0])\n",
    "        model_data = instance.profile_from_xvalues(xvalues=xvalues)\n",
    "        residual_map = self.data - model_data\n",
    "        chi_squared_map = (residual_map / self.noise_map) ** 2.0\n",
    "        log_likelihood = -0.5 * sum(chi_squared_map)\n",
    "\n",
    "        return log_likelihood\n"
   ]
  },
  {
   "cell_type": "code",
   "execution_count": 6,
   "metadata": {
    "execution": {
     "iopub.execute_input": "2021-03-06T14:12:56.126810Z",
     "iopub.status.busy": "2021-03-06T14:12:56.126431Z",
     "iopub.status.idle": "2021-03-06T14:12:56.133926Z",
     "shell.execute_reply": "2021-03-06T14:12:56.134226Z"
    }
   },
   "outputs": [],
   "source": [
    "model = af.PriorModel(Gaussian)\n",
    "analysis = Analysis(data=data, noise_map=noise_map)"
   ]
  },
  {
   "cell_type": "markdown",
   "metadata": {},
   "source": [
    "We now perform the fit to get a `Result` object."
   ]
  },
  {
   "cell_type": "code",
   "execution_count": 7,
   "metadata": {
    "execution": {
     "iopub.execute_input": "2021-03-06T14:12:56.137402Z",
     "iopub.status.busy": "2021-03-06T14:12:56.137032Z",
     "iopub.status.idle": "2021-03-06T14:12:56.640259Z",
     "shell.execute_reply": "2021-03-06T14:12:56.639965Z"
    }
   },
   "outputs": [
    {
     "name": "stderr",
     "output_type": "stream",
     "text": [
      "INFO:root: already completed, skipping non-linear search.\n"
     ]
    }
   ],
   "source": [
    "emcee = af.Emcee(\n",
    "    path_prefix=path.join(\"overview\", \"simple\"),\n",
    "    nwalkers=30,\n",
    "    nsteps=1000,\n",
    "    initializer=af.InitializerBall(lower_limit=0.49, upper_limit=0.51),\n",
    "    auto_correlation_check_for_convergence=True,\n",
    "    auto_correlation_check_size=100,\n",
    "    auto_correlation_required_length=50,\n",
    "    auto_correlation_change_threshold=0.01,\n",
    "    number_of_cores=1,\n",
    ")\n",
    "\n",
    "result = emcee.fit(model=model, analysis=analysis)"
   ]
  },
  {
   "cell_type": "markdown",
   "metadata": {},
   "source": [
    "__Result__\n",
    "\n",
    "Here, we'll look in detail at what information is contained in the result.\n",
    "\n",
    "It contains a `Samples` object, which contains information on the non-linear sampling, for example the parameters. \n",
    "The parameters are stored as a list of lists, where the first entry corresponds to the sample index and second entry\n",
    "the parameter index."
   ]
  },
  {
   "cell_type": "code",
   "execution_count": 8,
   "metadata": {
    "execution": {
     "iopub.execute_input": "2021-03-06T14:12:56.711384Z",
     "iopub.status.busy": "2021-03-06T14:12:56.710896Z",
     "iopub.status.idle": "2021-03-06T14:12:56.713371Z",
     "shell.execute_reply": "2021-03-06T14:12:56.713087Z"
    }
   },
   "outputs": [
    {
     "name": "stdout",
     "output_type": "stream",
     "text": [
      "Final 10 Parameters:\n",
      "[[49.81760940791169, 25.380801636474146, 10.113064132601512], [49.96772415736225, 25.1196190312827, 10.199594863761089], [50.03866941020159, 25.44147322971663, 10.389446642448489], [50.06533288426526, 25.05436395387136, 9.989428778730497], [49.94140762629154, 25.35855800100092, 10.203190745616782], [49.973765013025165, 25.505662195761783, 10.13612429889066], [50.112124120965106, 25.583576779167718, 10.247306980129702], [49.94597874084403, 25.35286700428, 9.961142913300327], [49.97163614603085, 25.79503873034016, 10.07556567931268], [50.01138824995274, 25.113691823543455, 9.959799316155438]]\n",
      "\n",
      "Sample 10`s third parameter value (Gaussian -> sigma)\n",
      "10.168967232724343 \n",
      "\n"
     ]
    }
   ],
   "source": [
    "samples = result.samples\n",
    "\n",
    "print(\"Final 10 Parameters:\")\n",
    "print(samples.parameters[-10:])\n",
    "\n",
    "print(\"\\nSample 10`s third parameter value (Gaussian -> sigma)\")\n",
    "print(samples.parameters[9][2], \"\\n\")"
   ]
  },
  {
   "cell_type": "markdown",
   "metadata": {},
   "source": [
    "The Samples class also contains the log likelihood, log prior, log posterior and weights of every accepted sample,\n",
    "where:\n",
    "\n",
    "   - The log likelihood is the value evaluated from the likelihood function (e.g. -0.5 * chi_squared + the noise\n",
    "     normalized).\n",
    "\n",
    "   - The log prior encodes information on how the priors on the parameters maps the log likelihood value to the log\n",
    "     posterior value.\n",
    "\n",
    "   - The log posterior is log_likelihood + log_prior.\n",
    "\n",
    "   - The weight gives information on how samples should be combined to estimate the posterior. The weight values\n",
    "     depend on the sampler used, for MCMC samples they are all 1 (e.g. all weighted equally).\n",
    "\n",
    "Lets inspect the last 10 values of each for the analysis."
   ]
  },
  {
   "cell_type": "code",
   "execution_count": 9,
   "metadata": {
    "execution": {
     "iopub.execute_input": "2021-03-06T14:12:56.727477Z",
     "iopub.status.busy": "2021-03-06T14:12:56.720454Z",
     "iopub.status.idle": "2021-03-06T14:12:56.730020Z",
     "shell.execute_reply": "2021-03-06T14:12:56.729634Z"
    }
   },
   "outputs": [
    {
     "name": "stdout",
     "output_type": "stream",
     "text": [
      "Final 10 Log Likelihoods:\n",
      "[-50.6270819017806, -51.43311063173146, -52.87664128274471, -50.90341306621794, -50.43203763301802, -50.10973079048656, -51.11636212530744, -50.82823117336086, -51.874299709975645, -50.69307625748373]\n",
      "Final 10 Log Priors:\n",
      "[0.039655528733727866, 0.040606283139537055, 0.04233927364330974, 0.03991544142589404, 0.04026014852501372, 0.03957757698129332, 0.04031079078167333, 0.039473468310823066, 0.03888134817652031, 0.03985123849008368]\n",
      "Final 10 Log Posteriors:\n",
      "[-50.587426373046874, -51.39250434859192, -52.8343020091014, -50.86349762479204, -50.391777484493005, -50.070153213505264, -51.076051334525765, -50.78875770505004, -51.83541836179913, -50.653225018993645]\n",
      "Final 10 Sample Weights:\n",
      "[1.0, 1.0, 1.0, 1.0, 1.0, 1.0, 1.0, 1.0, 1.0, 1.0] \n",
      "\n"
     ]
    }
   ],
   "source": [
    "print(\"Final 10 Log Likelihoods:\")\n",
    "print(samples.log_likelihoods[-10:])\n",
    "\n",
    "print(\"Final 10 Log Priors:\")\n",
    "print(samples.log_priors[-10:])\n",
    "\n",
    "print(\"Final 10 Log Posteriors:\")\n",
    "print(samples.log_posteriors[-10:])\n",
    "\n",
    "print(\"Final 10 Sample Weights:\")\n",
    "print(samples.weights[-10:], \"\\n\")"
   ]
  },
  {
   "cell_type": "markdown",
   "metadata": {},
   "source": [
    "The median pdf vector is readily available from the `Samples` object for you convenience (and if a nested sampling\n",
    "`NonLinearSearch` is used instead, it will use an appropriate method to estimate the parameters):"
   ]
  },
  {
   "cell_type": "code",
   "execution_count": 10,
   "metadata": {
    "execution": {
     "iopub.execute_input": "2021-03-06T14:12:56.732993Z",
     "iopub.status.busy": "2021-03-06T14:12:56.732588Z",
     "iopub.status.idle": "2021-03-06T14:12:56.747688Z",
     "shell.execute_reply": "2021-03-06T14:12:56.747972Z"
    }
   },
   "outputs": [
    {
     "name": "stdout",
     "output_type": "stream",
     "text": [
      "Median PDF Vector:\n",
      "[49.96194110514262, 25.34803868941411, 10.105398424036814] \n",
      "\n"
     ]
    }
   ],
   "source": [
    "median_pdf_vector = samples.median_pdf_vector\n",
    "print(\"Median PDF Vector:\")\n",
    "print(median_pdf_vector, \"\\n\")"
   ]
  },
  {
   "cell_type": "markdown",
   "metadata": {},
   "source": [
    "The samples contain many useful vectors, including the samples with the highest likelihood and posterior values:"
   ]
  },
  {
   "cell_type": "code",
   "execution_count": 11,
   "metadata": {
    "execution": {
     "iopub.execute_input": "2021-03-06T14:12:56.775802Z",
     "iopub.status.busy": "2021-03-06T14:12:56.774158Z",
     "iopub.status.idle": "2021-03-06T14:12:56.777856Z",
     "shell.execute_reply": "2021-03-06T14:12:56.777582Z"
    }
   },
   "outputs": [
    {
     "name": "stdout",
     "output_type": "stream",
     "text": [
      "Maximum Log Likelihood Vector:\n",
      "[49.96625377393723, 25.386655215156036, 10.108701758622068]\n",
      "\n",
      "Maximum Log Posterior Vector:\n",
      "[49.96625377393723, 25.386655215156036, 10.108701758622068]\n"
     ]
    }
   ],
   "source": [
    "max_log_likelihood_vector = samples.max_log_likelihood_vector\n",
    "max_log_posterior_vector = samples.max_log_posterior_vector\n",
    "\n",
    "print(\"Maximum Log Likelihood Vector:\")\n",
    "print(max_log_likelihood_vector)\n",
    "\n",
    "print(\"\\nMaximum Log Posterior Vector:\")\n",
    "print(max_log_posterior_vector)\n"
   ]
  },
  {
   "cell_type": "markdown",
   "metadata": {},
   "source": [
    "It also provides methods for computing the error estimates of all parameters at an input sigma confidence limit, which\n",
    "can be returned at the values of the parameters including their errors or the size of the errors on each parameter:"
   ]
  },
  {
   "cell_type": "code",
   "execution_count": 12,
   "metadata": {
    "execution": {
     "iopub.execute_input": "2021-03-06T14:12:56.780569Z",
     "iopub.status.busy": "2021-03-06T14:12:56.780241Z",
     "iopub.status.idle": "2021-03-06T14:12:56.826306Z",
     "shell.execute_reply": "2021-03-06T14:12:56.826028Z"
    }
   },
   "outputs": [
    {
     "name": "stdout",
     "output_type": "stream",
     "text": [
      "Upper Parameter values w/ error (at 3.0 sigma confidence):\n",
      "[50.320222071180325, 26.206520409347487, 10.489729973810912]\n",
      "lower Parameter values w/ errors (at 3.0 sigma confidence):\n",
      "[49.62512825499476, 24.607446268766772, 9.804260518184657] \n",
      "\n",
      "Upper Error values (at 3.0 sigma confidence):\n",
      "[0.35828096603770376, 0.8584817199333763, 0.3843315497740978]\n",
      "lower Error values (at 3.0 sigma confidence):\n",
      "[0.336812850147858, 0.7405924206473387, 0.3011379058521566] \n",
      "\n"
     ]
    }
   ],
   "source": [
    "vector_at_upper_sigma = samples.vector_at_upper_sigma(sigma=3.0)\n",
    "vector_at_lower_sigma = samples.vector_at_lower_sigma(sigma=3.0)\n",
    "\n",
    "print(\"Upper Parameter values w/ error (at 3.0 sigma confidence):\")\n",
    "print(vector_at_upper_sigma)\n",
    "\n",
    "print(\"lower Parameter values w/ errors (at 3.0 sigma confidence):\")\n",
    "print(vector_at_lower_sigma, \"\\n\")\n",
    "\n",
    "error_vector_at_upper_sigma = samples.error_vector_at_upper_sigma(sigma=3.0)\n",
    "error_vector_at_lower_sigma = samples.error_vector_at_lower_sigma(sigma=3.0)\n",
    "\n",
    "print(\"Upper Error values (at 3.0 sigma confidence):\")\n",
    "print(error_vector_at_upper_sigma)\n",
    "\n",
    "print(\"lower Error values (at 3.0 sigma confidence):\")\n",
    "print(error_vector_at_lower_sigma, \"\\n\")"
   ]
  },
  {
   "cell_type": "markdown",
   "metadata": {},
   "source": [
    "Results vectors return the results as a list, which means you need to know the parameter ordering. The list of\n",
    "parameter names are available as a property of the `Samples`, as are parameter labels which can be used for labeling\n",
    "figures:"
   ]
  },
  {
   "cell_type": "code",
   "execution_count": 13,
   "metadata": {
    "execution": {
     "iopub.execute_input": "2021-03-06T14:12:56.829226Z",
     "iopub.status.busy": "2021-03-06T14:12:56.828911Z",
     "iopub.status.idle": "2021-03-06T14:12:56.831134Z",
     "shell.execute_reply": "2021-03-06T14:12:56.830864Z"
    }
   },
   "outputs": [
    {
     "name": "stdout",
     "output_type": "stream",
     "text": [
      "['centre', 'intensity', 'sigma']\n",
      "\n",
      "\n",
      "['x', 'I', 'sigma']\n",
      "\n",
      "\n"
     ]
    }
   ],
   "source": [
    "print(samples.model.model_component_and_parameter_names)\n",
    "print(\"\\n\")\n",
    "print(samples.model.parameter_labels)\n",
    "print(\"\\n\")"
   ]
  },
  {
   "cell_type": "markdown",
   "metadata": {},
   "source": [
    "Results can instead be returned as an instance, which is an instance of the model using the Python classes used to\n",
    "compose it:"
   ]
  },
  {
   "cell_type": "code",
   "execution_count": 14,
   "metadata": {
    "execution": {
     "iopub.execute_input": "2021-03-06T14:12:56.836974Z",
     "iopub.status.busy": "2021-03-06T14:12:56.836650Z",
     "iopub.status.idle": "2021-03-06T14:12:56.838487Z",
     "shell.execute_reply": "2021-03-06T14:12:56.838222Z"
    }
   },
   "outputs": [
    {
     "name": "stdout",
     "output_type": "stream",
     "text": [
      "Max Log Likelihood `Gaussian` Instance:\n",
      "Centre =  49.96625377393723\n",
      "Intensity =  25.386655215156036\n",
      "Sigma =  10.108701758622068 \n",
      "\n"
     ]
    }
   ],
   "source": [
    "max_log_likelihood_instance = samples.max_log_likelihood_instance\n",
    "\n",
    "print(\"Max Log Likelihood `Gaussian` Instance:\")\n",
    "print(\"Centre = \", max_log_likelihood_instance.centre)\n",
    "print(\"Intensity = \", max_log_likelihood_instance.intensity)\n",
    "print(\"Sigma = \", max_log_likelihood_instance.sigma, \"\\n\")"
   ]
  },
  {
   "cell_type": "markdown",
   "metadata": {},
   "source": [
    "For our example problem of fitting a 1D `Gaussian` profile, this makes it straight forward to plot the maximum\n",
    "likelihood model:"
   ]
  },
  {
   "cell_type": "code",
   "execution_count": 15,
   "metadata": {
    "execution": {
     "iopub.execute_input": "2021-03-06T14:12:56.850833Z",
     "iopub.status.busy": "2021-03-06T14:12:56.847858Z",
     "iopub.status.idle": "2021-03-06T14:12:56.947182Z",
     "shell.execute_reply": "2021-03-06T14:12:56.946845Z"
    }
   },
   "outputs": [
    {
     "data": {
      "image/png": "[encoded data removed]",
      "text/plain": [
       "<Figure size 432x288 with 1 Axes>"
      ]
     },
     "metadata": {
      "needs_background": "light"
     },
     "output_type": "display_data"
    }
   ],
   "source": [
    "model_data = samples.max_log_likelihood_instance.profile_from_xvalues(\n",
    "    xvalues=np.arange(data.shape[0])\n",
    ")\n",
    "\n",
    "xvalues = range(data.shape[0])\n",
    "plt.errorbar(\n",
    "    x=xvalues, y=data, yerr=noise_map, color=\"k\", ecolor=\"k\", elinewidth=1, capsize=2\n",
    ")\n",
    "plt.plot(xvalues, model_data, color=\"r\")\n",
    "plt.title(\"Model fit to 1D `Gaussian` profile data.\")\n",
    "plt.xlabel(\"x values of profile\")\n",
    "plt.ylabel(\"Profile intensity\")\n",
    "plt.show()\n",
    "plt.close()\n"
   ]
  },
  {
   "cell_type": "markdown",
   "metadata": {},
   "source": [
    "All methods above are available as an instance:"
   ]
  },
  {
   "cell_type": "code",
   "execution_count": 16,
   "metadata": {
    "execution": {
     "iopub.execute_input": "2021-03-06T14:12:56.949345Z",
     "iopub.status.busy": "2021-03-06T14:12:56.949041Z",
     "iopub.status.idle": "2021-03-06T14:12:56.962367Z",
     "shell.execute_reply": "2021-03-06T14:12:56.962024Z"
    }
   },
   "outputs": [],
   "source": [
    "median_pdf_instance = samples.median_pdf_instance\n",
    "instance_at_upper_sigma = samples.instance_at_upper_sigma\n",
    "instance_at_lower_sigma = samples.instance_at_lower_sigma\n",
    "error_instance_at_upper_sigma = samples.error_instance_at_upper_sigma\n",
    "error_instance_at_lower_sigma = samples.error_instance_at_lower_sigma"
   ]
  },
  {
   "cell_type": "markdown",
   "metadata": {},
   "source": [
    "An instance of any accepted sample can be created:"
   ]
  },
  {
   "cell_type": "code",
   "execution_count": 17,
   "metadata": {
    "execution": {
     "iopub.execute_input": "2021-03-06T14:12:57.010343Z",
     "iopub.status.busy": "2021-03-06T14:12:57.009936Z",
     "iopub.status.idle": "2021-03-06T14:12:57.013269Z",
     "shell.execute_reply": "2021-03-06T14:12:57.012882Z"
    }
   },
   "outputs": [
    {
     "name": "stdout",
     "output_type": "stream",
     "text": [
      "Gaussian Instance of sample 5000:\n",
      "Centre =  55.445356660510434\n",
      "Intensity =  1.4474216513748008\n",
      "Sigma =  9.941517619578546 \n",
      "\n"
     ]
    }
   ],
   "source": [
    "instance = samples.instance_from_sample_index(sample_index=500)\n",
    "print(\"Gaussian Instance of sample 5000:\")\n",
    "print(\"Centre = \", instance.centre)\n",
    "print(\"Intensity = \", instance.intensity)\n",
    "print(\"Sigma = \", instance.sigma, \"\\n\")"
   ]
  },
  {
   "cell_type": "markdown",
   "metadata": {},
   "source": [
    "If a nested sampling `NonLinearSearch` is used, the evidence of the model is also available which enables Bayesian\n",
    "model comparison to be performed (given we are using Emcee, which is not a nested sampling algorithm, the log evidence \n",
    "is None).:"
   ]
  },
  {
   "cell_type": "code",
   "execution_count": 18,
   "metadata": {
    "execution": {
     "iopub.execute_input": "2021-03-06T14:12:57.015799Z",
     "iopub.status.busy": "2021-03-06T14:12:57.015454Z",
     "iopub.status.idle": "2021-03-06T14:12:57.017352Z",
     "shell.execute_reply": "2021-03-06T14:12:57.017591Z"
    }
   },
   "outputs": [
    {
     "name": "stdout",
     "output_type": "stream",
     "text": [
      "None\n"
     ]
    }
   ],
   "source": [
    "print(samples.log_evidence)"
   ]
  },
  {
   "cell_type": "markdown",
   "metadata": {},
   "source": [
    "At this point, you might be wondering what else the results contains - pretty much everything we discussed above was a\n",
    "part of its *samples* property! For projects which use **PyAutoFit**'s phase API (see the howtofit tutrials), the \n",
    "`Result`'s object can be extended to include model-specific results.\n",
    "\n",
    "For example, we may extend the results of our 1D `Gaussian` example to include properties containing the maximum\n",
    "log likelihood of the summed model data and for every individual profile in the model.\n",
    "\n",
    "(The commented out functions below are llustrative of the API we can create, but do not work in this example given we \n",
    "are not using the phase API.)"
   ]
  },
  {
   "cell_type": "code",
   "execution_count": 19,
   "metadata": {
    "execution": {
     "iopub.execute_input": "2021-03-06T14:12:57.019391Z",
     "iopub.status.busy": "2021-03-06T14:12:57.019069Z",
     "iopub.status.idle": "2021-03-06T14:12:57.020650Z",
     "shell.execute_reply": "2021-03-06T14:12:57.020392Z"
    },
    "pycharm": {
     "name": "#%%\n"
    }
   },
   "outputs": [],
   "source": [
    "# max_log_likelihood_profile = results.max_log_likelihood_profile\n",
    "# max_log_likelihood_profile_list = results.max_log_likelihood_profile_list\n"
   ]
  }
 ],
 "metadata": {
  "anaconda-cloud": {},
  "kernelspec": {
   "display_name": "Python 3",
   "language": "python",
   "name": "python3"
  },
  "language_info": {
   "codemirror_mode": {
    "name": "ipython",
    "version": 3
   },
   "file_extension": ".py",
   "mimetype": "text/x-python",
   "name": "python",
   "nbconvert_exporter": "python",
   "pygments_lexer": "ipython3",
   "version": "3.8.5"
  }
 },
 "nbformat": 4,
 "nbformat_minor": 4
}
