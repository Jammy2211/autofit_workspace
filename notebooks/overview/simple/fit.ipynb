{
 "cells": [
  {
   "cell_type": "markdown",
   "metadata": {},
   "source": [
    "Overview: Simple Fit\n",
    "====================\n",
    "\n",
    "In this example, we'll fit 1D data of a `Gaussian` profile with a 1D `Gaussian` model using MCMC, nested sampling and\n",
    "optimization non-linear searches."
   ]
  },
  {
   "cell_type": "code",
   "metadata": {},
   "source": [
    "%matplotlib inline\n",
    "\n",
    "import autofit as af\n",
    "\n",
    "import matplotlib.pyplot as plt\n",
    "import numpy as np\n",
    "import os\n",
    "from os import path"
   ],
   "outputs": [],
   "execution_count": 30
  },
  {
   "cell_type": "markdown",
   "source": [
    "At the top of every tutorial notebook, you'll see the following cell. This cell uses the project `pyprojroot` to\n",
    "locate the path to the workspace on your computer and use it to set the working directory of the notebook.\n"
   ],
   "metadata": {
    "collapsed": false
   }
  },
  {
   "cell_type": "code",
   "execution_count": 31,
   "outputs": [
    {
     "name": "stdout",
     "output_type": "stream",
     "text": [
      "C:\\Users\\Jammy\\Code\\PyAuto\\autofit_workspace\n",
      "Working Directory has been set to `C:\\Users\\Jammy\\Code\\PyAuto\\autofit_workspace`\n"
     ]
    }
   ],
   "source": [
    "from pyprojroot import here\n",
    "workspace_path = str(here())\n",
    "%cd $workspace_path\n",
    "print(f\"Working Directory has been set to `{workspace_path}`\")"
   ],
   "metadata": {
    "collapsed": false,
    "pycharm": {
     "name": "#%%\n"
    }
   }
  },
  {
   "cell_type": "markdown",
   "metadata": {},
   "source": [
    "__Data__\n",
    "\n",
    "First, lets load data of a 1D Gaussian, by loading it from a .json file in the directory \n",
    "`autofit_workspace/dataset//gaussian_x1`."
   ]
  },
  {
   "cell_type": "code",
   "metadata": {},
   "source": [
    "dataset_path = path.join(\"dataset\", \"example_1d\", \"gaussian_x1\")\n",
    "\n",
    "data = af.util.numpy_array_from_json(file_path=path.join(dataset_path, \"data.json\"))\n",
    "\n",
    "noise_map = af.util.numpy_array_from_json(\n",
    "    file_path=path.join(dataset_path, \"noise_map.json\")\n",
    ")"
   ],
   "outputs": [],
   "execution_count": 32
  },
  {
   "cell_type": "markdown",
   "metadata": {},
   "source": [
    "Now lets plot the data, including its error bars. We'll use its shape to determine the xvalues of the data for the plot."
   ]
  },
  {
   "cell_type": "code",
   "metadata": {},
   "source": [
    "xvalues = range(data.shape[0])\n",
    "\n",
    "plt.errorbar(\n",
    "    x=xvalues, y=data, yerr=noise_map, color=\"k\", ecolor=\"k\", elinewidth=1, capsize=2\n",
    ")\n",
    "plt.show()\n",
    "plt.close()"
   ],
   "outputs": [
    {
     "data": {
      "text/plain": "<Figure size 432x288 with 1 Axes>",
      "image/png": "[encoded data removed]"
     },
     "metadata": {
      "needs_background": "light"
     },
     "output_type": "display_data"
    }
   ],
   "execution_count": 33
  },
  {
   "cell_type": "markdown",
   "metadata": {},
   "source": [
    "__Model__\n",
    "\n",
    "Next, we create our model, which in this case corresponds to a single Gaussian.\n",
    "\n",
    "We write our model component below. which has 3 parameters (centre, intensity and sigma). These are the free\n",
    "parameters of our model that the non-linear search fits for, meaning the non-linear parameter space\n",
    "has dimensionality = 3."
   ]
  },
  {
   "cell_type": "code",
   "execution_count": 34,
   "outputs": [],
   "source": [
    "class Gaussian:\n",
    "    def __init__(\n",
    "        self,\n",
    "        centre=0.0,  # <- PyAutoFit recognises these constructor arguments\n",
    "        intensity=0.1,  # <- are the Gaussian`s model parameters.\n",
    "        sigma=0.01,\n",
    "    ):\n",
    "        \"\"\"Represents a 1D `Gaussian` profile, which may be treated as a model-component of PyAutoFit the\n",
    "        parameters of which are fitted for by a non-linear search.\n",
    "\n",
    "        Parameters\n",
    "        ----------\n",
    "        centre : float\n",
    "            The x coordinate of the profile centre.\n",
    "        intensity : float\n",
    "            Overall intensity normalisation of the `Gaussian` profile.\n",
    "        sigma : float\n",
    "            The sigma value controlling the size of the Gaussian.\n",
    "        \"\"\"\n",
    "\n",
    "        self.centre = centre\n",
    "        self.intensity = intensity\n",
    "        self.sigma = sigma\n",
    "\n",
    "    def profile_from_xvalues(self, xvalues):\n",
    "        \"\"\"\n",
    "        Calculate the intensity of the profile on a line of Cartesian x coordinates.\n",
    "\n",
    "        The input xvalues are translated to a coordinate system centred on the Gaussian, using its centre.\n",
    "\n",
    "        Parameters\n",
    "        ----------\n",
    "        xvalues : np.ndarray\n",
    "            The x coordinates in the original reference frame of the grid.\n",
    "        \"\"\"\n",
    "\n",
    "        transformed_xvalues = xvalues - self.centre\n",
    "\n",
    "        return np.multiply(\n",
    "            np.divide(self.intensity, self.sigma * np.sqrt(2.0 * np.pi)),\n",
    "            np.exp(-0.5 * np.square(np.divide(transformed_xvalues, self.sigma))),\n",
    "        )"
   ],
   "metadata": {
    "collapsed": false,
    "pycharm": {
     "name": "#%%\n"
    }
   }
  },
  {
   "cell_type": "markdown",
   "source": [
    "We pass the class above to a `PriorModel` to compose it as a model-component that we can fit for."
   ],
   "metadata": {
    "collapsed": false
   }
  },
  {
   "cell_type": "code",
   "metadata": {},
   "source": [
    "model = af.PriorModel(Gaussian)"
   ],
   "outputs": [],
   "execution_count": 35
  },
  {
   "cell_type": "markdown",
   "metadata": {},
   "source": [
    "The priors for the `Gaussian` module component are loaded from the priors specified\n",
    "in `autofit_workspace/config/priors`, which we can print to view."
   ]
  },
  {
   "cell_type": "code",
   "execution_count": 36,
   "outputs": [
    {
     "name": "stdout",
     "output_type": "stream",
     "text": [
      "Gaussian (centre, UniformPrior, lower_limit = 0.0, upper_limit = 100.0), (intensity, LogUniformPrior, lower_limit = 1e-06, upper_limit = 1000000.0), (sigma, UniformPrior, lower_limit = 0.0, upper_limit = 25.0)\n"
     ]
    }
   ],
   "source": [
    "print(model)"
   ],
   "metadata": {
    "collapsed": false,
    "pycharm": {
     "name": "#%%\n"
    }
   }
  },
  {
   "cell_type": "markdown",
   "source": [
    "More details on prior configs are given in the **HowToFit** tutorials.\n",
    "\n",
    "We can manually over-ride the priors with our own as follows:"
   ],
   "metadata": {
    "collapsed": false
   }
  },
  {
   "cell_type": "code",
   "metadata": {},
   "source": [
    "model.centre = af.UniformPrior(lower_limit=0.0, upper_limit=100.0)\n",
    "model.intensity = af.LogUniformPrior(lower_limit=1e-2, upper_limit=1e2)\n",
    "model.sigma = af.GaussianPrior(\n",
    "    mean=10.0, sigma=5.0, lower_limit=0.0, upper_limit=np.inf\n",
    ")\n",
    "\n",
    "print(model)"
   ],
   "outputs": [
    {
     "name": "stdout",
     "output_type": "stream",
     "text": [
      "Gaussian (centre, UniformPrior, lower_limit = 0.0, upper_limit = 100.0), (intensity, LogUniformPrior, lower_limit = 0.01, upper_limit = 100.0), (sigma, GaussianPrior, mean = 10.0, sigma = 5.0)\n"
     ]
    }
   ],
   "execution_count": 37
  },
  {
   "cell_type": "markdown",
   "metadata": {},
   "source": [
    "__Analysis__\n",
    "\n",
    "We now set up our Analysis, which describes how given an instance of our model (a Gaussian) we fit the data and\n",
    "return a log likelihood value."
   ]
  },
  {
   "cell_type": "code",
   "execution_count": 38,
   "outputs": [],
   "source": [
    "class Analysis(af.Analysis):\n",
    "\n",
    "    \"\"\"\n",
    "    In this example the Analysis only contains the data and noise-map. It can be easily extended however, for more\n",
    "    complex data-sets and model fitting problems.\n",
    "    \"\"\"\n",
    "\n",
    "    def __init__(self, data, noise_map):\n",
    "\n",
    "        super().__init__()\n",
    "\n",
    "        self.data = data\n",
    "        self.noise_map = noise_map\n",
    "\n",
    "    \"\"\"\n",
    "    In the log_likelihood_function function below, `instance` is an instance of our model, which in this example is\n",
    "    an instance of the `Gaussian` class in `model.py`. The parameters of the `Gaussian` are set via the non-linear\n",
    "    search. This gives us the instance of our model we need to fit our data!\n",
    "    \"\"\"\n",
    "\n",
    "    def log_likelihood_function(self, instance):\n",
    "        \"\"\"\n",
    "        Determine the log likelihood of a fit of a `Gaussian` to the dataset, using a model instance of the Gaussian.\n",
    "\n",
    "        Parameters\n",
    "        ----------\n",
    "        instance : model.Gaussian\n",
    "            The `Gaussian` model instance.\n",
    "\n",
    "        Returnsn\n",
    "        -------\n",
    "        fit : Fit.log_likelihood\n",
    "            The log likelihood value indicating how well this model fit the dataset.\n",
    "        \"\"\"\n",
    "\n",
    "        \"\"\"\n",
    "        The `instance` that comes into this method is an instance of the `Gaussian` class. To convince yourself of this,\n",
    "        go ahead and uncomment the lines below and run the non-linear search.\n",
    "        \"\"\"\n",
    "\n",
    "        # print(\"Gaussian Instance:\")\n",
    "        # print(\"Centre = \", instance.centre)\n",
    "        # print(\"Intensity = \", instance.intensity)\n",
    "        # print(\"Sigma = \", instance.sigma)\n",
    "\n",
    "        \"\"\"Get the range of x-values the data is defined on, to evaluate the model of the Gaussian.\"\"\"\n",
    "        xvalues = np.arange(self.data.shape[0])\n",
    "\n",
    "        \"\"\"Use these xvalues to create model data of our Gaussian.\"\"\"\n",
    "        model_data = instance.profile_from_xvalues(xvalues=xvalues)\n",
    "\n",
    "        \"\"\"Fit the model gaussian line data to the observed data, computing the residuals and chi-squareds.\"\"\"\n",
    "        residual_map = self.data - model_data\n",
    "        chi_squared_map = (residual_map / self.noise_map) ** 2.0\n",
    "        log_likelihood = -0.5 * sum(chi_squared_map)\n",
    "\n",
    "        return log_likelihood\n",
    "\n",
    "    def visualize(self, paths, instance, during_analysis):\n",
    "\n",
    "        \"\"\"\n",
    "        During a model-fit, the `visualize` method is called throughout the non-linear search. The `instance` passed\n",
    "        into the visualize method is maximum log likelihood solution obtained by the model-fit so far and it can be\n",
    "        used to provide on-the-fly images showing how the model-fit is going.\n",
    "        \"\"\"\n",
    "\n",
    "        xvalues = np.arange(self.data.shape[0])\n",
    "\n",
    "        model_data = instance.profile_from_xvalues(xvalues=xvalues)\n",
    "\n",
    "        plt.errorbar(\n",
    "            x=xvalues, y=self.data, yerr=self.noise_map, color=\"k\", ecolor=\"k\", elinewidth=1, capsize=2\n",
    "        )\n",
    "        plt.plot(xvalues, model_data, color=\"r\")\n",
    "        plt.title(\"Model fit to 1D Gaussian dataset.\")\n",
    "        plt.xlabel(\"x values of profile\")\n",
    "        plt.ylabel(\"Profile intensity\")\n",
    "\n",
    "        os.makedirs(paths.image_path, exist_ok=True)\n",
    "        plt.savefig(path.join(paths.image_path, \"model_fit.png\"))\n",
    "        plt.clf()"
   ],
   "metadata": {
    "collapsed": false,
    "pycharm": {
     "name": "#%%\n"
    }
   }
  },
  {
   "cell_type": "markdown",
   "source": [
    "For this simple example, we only have to pass it the data and its noise-map."
   ],
   "metadata": {
    "collapsed": false
   }
  },
  {
   "cell_type": "code",
   "metadata": {},
   "source": [
    "analysis = Analysis(data=data, noise_map=noise_map)"
   ],
   "outputs": [],
   "execution_count": 39
  },
  {
   "cell_type": "markdown",
   "metadata": {},
   "source": [
    "NESTED SAMPLING\n",
    "---------------\n",
    "\n",
    "We finally choose and set up our non-linear search. we'll first fit the data with the nested sampling algorithm\n",
    "Dynesty. Below, we manually specify all of the Dynesty settings, however if we omitted them the default values\n",
    "found in the config file `config/non_linear/Dynesty.ini` would be used.\n",
    "\n",
    "We also specify a `path_prefix`, so that our results go to the folder `autofit_workspace/output/overview/simple`.\n",
    "\n",
    "For a full description of Dynesty checkout its Github and documentation webpages:\n",
    "\n",
    "https://github.com/joshspeagle/dynesty\n",
    "\n",
    "https://dynesty.readthedocs.io/en/latest/index.html"
   ]
  },
  {
   "cell_type": "code",
   "metadata": {},
   "source": [
    "dynesty = af.DynestyStatic(\n",
    "    path_prefix=path.join(\"overview\", \"simple\"),\n",
    "    n_live_points=100,\n",
    "    bound=\"multi\",\n",
    "    sample=\"auto\",\n",
    "    bootstrap=0,\n",
    "    enlarge=-1,\n",
    "    update_interval=-1.0,\n",
    "    vol_dec=0.5,\n",
    "    vol_check=2.0,\n",
    "    walks=25,\n",
    "    facc=0.5,\n",
    "    slices=5,\n",
    "    fmove=0.9,\n",
    "    max_move=100,\n",
    "    iterations_per_update=500,\n",
    "    number_of_cores=1,\n",
    ")"
   ],
   "outputs": [],
   "execution_count": 40
  },
  {
   "cell_type": "markdown",
   "metadata": {},
   "source": [
    "To perform the fit with Dynesty, we pass it our model and analysis and we`re good to go!\n",
    "\n",
    "Checkout the folder `autofit_workspace/output/dynestystatic`, where the `NonLinearSearch` results, visualization and\n",
    "information can be found."
   ]
  },
  {
   "cell_type": "code",
   "metadata": {},
   "source": [
    "result = dynesty.fit(model=model, analysis=analysis)"
   ],
   "outputs": [
    {
     "name": "stderr",
     "output_type": "stream",
     "text": [
      "2021-02-06 13:00:51,342 - root - INFO -  already completed, skipping non-linear search.\n"
     ]
    }
   ],
   "execution_count": 41
  },
  {
   "cell_type": "markdown",
   "metadata": {},
   "source": [
    "The result object returned by the fit provides information on the results of the non-linear search. Lets use it to\n",
    "compare the maximum log likelihood `Gaussian` to the data."
   ]
  },
  {
   "cell_type": "code",
   "metadata": {},
   "source": [
    "model_data = result.max_log_likelihood_instance.profile_from_xvalues(\n",
    "    xvalues=np.arange(data.shape[0])\n",
    ")\n",
    "\n",
    "plt.errorbar(\n",
    "    x=xvalues, y=data, yerr=noise_map, color=\"k\", ecolor=\"k\", elinewidth=1, capsize=2\n",
    ")\n",
    "plt.plot(xvalues, model_data, color=\"r\")\n",
    "plt.title(\"Dynesty model fit to 1D Gaussian dataset.\")\n",
    "plt.xlabel(\"x values of profile\")\n",
    "plt.ylabel(\"Profile intensity\")\n",
    "plt.show()\n",
    "plt.close()"
   ],
   "outputs": [
    {
     "data": {
      "text/plain": "<Figure size 432x288 with 1 Axes>",
      "image/png": "[encoded data removed]"
     },
     "metadata": {
      "needs_background": "light"
     },
     "output_type": "display_data"
    }
   ],
   "execution_count": 42
  },
  {
   "cell_type": "markdown",
   "metadata": {},
   "source": [
    "We discuss in more detail how to use a results object in the files `autofit_workspace/example/simple/result.py`."
   ]
  },
  {
   "cell_type": "markdown",
   "metadata": {},
   "source": [
    "MCMC\n",
    "----\n",
    "\n",
    "To use a different non-linear we simply use call a different search from PyAutoFit, passing it the same the model\n",
    "and analysis as we did before to perform the fit. Below, we fit the same dataset using the MCMC sampler Emcee.\n",
    "Again, we manually specify all of the Emcee settings, however if they were omitted the values found in the config\n",
    "file `config/non_linear/Emcee.ini` would be used instead.\n",
    "\n",
    "For a full description of Emcee, checkout its Github and readthedocs webpages:\n",
    "\n",
    "https://github.com/dfm/emcee\n",
    "https://emcee.readthedocs.io/en/stable/\n",
    "\n",
    "**PyAutoFit** extends **emcee** by providing an option to check the auto-correlation length of the samples\n",
    "during the run and terminating sampling early if these meet a specified threshold. See this page\n",
    "(https://emcee.readthedocs.io/en/stable/tutorials/autocorr/#autocorr) for a description of how this is implemented."
   ]
  },
  {
   "cell_type": "code",
   "metadata": {},
   "source": [
    "emcee = af.Emcee(\n",
    "    path_prefix=path.join(\"overview\", \"simple\"),\n",
    "    nwalkers=30,\n",
    "    nsteps=1000,\n",
    "    initializer=af.InitializerBall(lower_limit=0.49, upper_limit=0.51),\n",
    "    auto_correlation_check_for_convergence=True,\n",
    "    auto_correlation_check_size=100,\n",
    "    auto_correlation_required_length=50,\n",
    "    auto_correlation_change_threshold=0.01,\n",
    "    iterations_per_update=500,\n",
    "    number_of_cores=1,\n",
    ")\n",
    "\n",
    "result = emcee.fit(model=model, analysis=analysis)"
   ],
   "outputs": [
    {
     "name": "stderr",
     "output_type": "stream",
     "text": [
      "2021-02-06 13:00:52,364 - root - INFO -  already completed, skipping non-linear search.\n"
     ]
    }
   ],
   "execution_count": 43
  },
  {
   "cell_type": "markdown",
   "metadata": {},
   "source": [
    "The result object returned by Emcee`s fit is similar in structure to the Dynesty result above, it again provides\n",
    "us with the maximum log likelihood instance."
   ]
  },
  {
   "cell_type": "code",
   "metadata": {},
   "source": [
    "model_data = result.max_log_likelihood_instance.profile_from_xvalues(\n",
    "    xvalues=np.arange(data.shape[0])\n",
    ")\n",
    "\n",
    "plt.errorbar(\n",
    "    x=xvalues, y=data, yerr=noise_map, color=\"k\", ecolor=\"k\", elinewidth=1, capsize=2\n",
    ")\n",
    "plt.plot(xvalues, model_data, color=\"r\")\n",
    "plt.title(\"Emcee model fit to 1D Gaussian dataset.\")\n",
    "plt.xlabel(\"x values of profile\")\n",
    "plt.ylabel(\"Profile intensity\")\n",
    "plt.show()\n",
    "plt.close()"
   ],
   "outputs": [
    {
     "data": {
      "text/plain": "<Figure size 432x288 with 1 Axes>",
      "image/png": "[encoded data removed]"
     },
     "metadata": {
      "needs_background": "light"
     },
     "output_type": "display_data"
    }
   ],
   "execution_count": 44
  },
  {
   "cell_type": "markdown",
   "metadata": {},
   "source": [
    "Optimizer\n",
    "---------\n",
    "\n",
    "**PyAutoFit** also supports optimizer searches, which aim to find the global (or local) maxima likelihood solution.\n",
    "Unlike nested samplers and MCMC algorithms, they do not extensively map out parameter space. This means they can find\n",
    "the best solution a lot faster than these algorithms, but they do not properly quantify the errors on each parameter.\n",
    "\n",
    "we'll use the Particle Swarm Optimization algorithm PySwarms. For a full description of PySwarms, checkout its Github \n",
    "and readthedocs webpages:\n",
    "\n",
    "https://github.com/ljvmiranda921/pyswarms\n",
    "https://pyswarms.readthedocs.io/en/latest/index.html\n",
    "\n",
    "**PyAutoFit** extends *PySwarms* by allowing runs to be terminated and resumed from the point of termination, as well\n",
    "as providing different options for the initial distribution of particles."
   ]
  },
  {
   "cell_type": "code",
   "metadata": {},
   "source": [
    "pso = af.PySwarmsGlobal(\n",
    "    path_prefix=path.join(\"overview\", \"simple\"),\n",
    "    n_particles=50,\n",
    "    iters=100,\n",
    "    cognitive=0.5,\n",
    "    social=0.3,\n",
    "    inertia=0.9,\n",
    "    ftol=-np.inf,\n",
    "    initializer=af.InitializerPrior(),\n",
    "    number_of_cores=1,\n",
    ")\n",
    "\n",
    "result = pso.fit(model=model, analysis=analysis)"
   ],
   "outputs": [
    {
     "name": "stderr",
     "output_type": "stream",
     "text": [
      "2021-02-06 13:00:53,181 - root - INFO -  already completed, skipping non-linear search.\n"
     ]
    }
   ],
   "execution_count": 45
  },
  {
   "cell_type": "markdown",
   "metadata": {},
   "source": [
    "The result object returned by PSO is again very similar in structure to previous results."
   ]
  },
  {
   "cell_type": "code",
   "metadata": {},
   "source": [
    "model_data = result.max_log_likelihood_instance.profile_from_xvalues(\n",
    "    xvalues=np.arange(data.shape[0])\n",
    ")\n",
    "\n",
    "plt.errorbar(\n",
    "    x=xvalues, y=data, yerr=noise_map, color=\"k\", ecolor=\"k\", elinewidth=1, capsize=2\n",
    ")\n",
    "plt.plot(xvalues, model_data, color=\"r\")\n",
    "plt.title(\"PySwarms model fit to 1D Gaussian dataset.\")\n",
    "plt.xlabel(\"x values of profile\")\n",
    "plt.ylabel(\"Profile intensity\")\n",
    "plt.show()\n",
    "plt.close()"
   ],
   "outputs": [
    {
     "data": {
      "text/plain": "<Figure size 432x288 with 1 Axes>",
      "image/png": "[encoded data removed]"
     },
     "metadata": {
      "needs_background": "light"
     },
     "output_type": "display_data"
    }
   ],
   "execution_count": 46
  },
  {
   "cell_type": "markdown",
   "metadata": {
    "pycharm": {
     "name": "#%% md\n"
    }
   },
   "source": [
    "__Other Searches__\n",
    "\n",
    "Checkout https://pyautofit.readthedocs.io/en/latest for the non-linear searches available in **PyAutoFit**.\n",
    "\n"
   ]
  }
 ],
 "metadata": {
  "anaconda-cloud": {},
  "kernelspec": {
   "display_name": "Python 3",
   "language": "python",
   "name": "python3"
  },
  "language_info": {
   "codemirror_mode": {
    "name": "ipython",
    "version": 3
   },
   "file_extension": ".py",
   "mimetype": "text/x-python",
   "name": "python",
   "nbconvert_exporter": "python",
   "pygments_lexer": "ipython3",
   "version": "3.6.1"
  }
 },
 "nbformat": 4,
 "nbformat_minor": 4
}