{
  "cells": [
    {
      "cell_type": "markdown",
      "metadata": {},
      "source": [
        "Plots: NestPlotter\n",
        "=====================\n",
        "\n",
        "This example illustrates how to plot visualization summarizing the results of a dynesty non-linear search using\n",
        "a `NestPlotter`."
      ]
    },
    {
      "cell_type": "code",
      "metadata": {},
      "source": [
        "%matplotlib inline\n",
        "from pyprojroot import here\n",
        "workspace_path = str(here())\n",
        "%cd $workspace_path\n",
        "print(f\"Working Directory has been set to `{workspace_path}`\")\n",
        "\n",
        "from os import path\n",
        "\n",
        "import autofit as af\n",
        "import autofit.plot as aplt"
      ],
      "outputs": [],
      "execution_count": null
    },
    {
      "cell_type": "markdown",
      "metadata": {},
      "source": [
        "First, lets create a result via dynesty by repeating the simple model-fit that is performed in \n",
        "the `overview/simple/fit.py` example."
      ]
    },
    {
      "cell_type": "code",
      "metadata": {},
      "source": [
        "dataset_path = path.join(\"dataset\", \"example_1d\", \"gaussian_x1\")\n",
        "data = af.util.numpy_array_from_json(file_path=path.join(dataset_path, \"data.json\"))\n",
        "noise_map = af.util.numpy_array_from_json(\n",
        "    file_path=path.join(dataset_path, \"noise_map.json\")\n",
        ")\n",
        "\n",
        "model = af.Model(af.ex.Gaussian)\n",
        "\n",
        "analysis = af.ex.Analysis(data=data, noise_map=noise_map)\n",
        "\n",
        "search = af.DynestyStatic(path_prefix=\"plot\", name=\"NestPlotter\")\n",
        "\n",
        "result = search.fit(model=model, analysis=analysis)\n",
        "\n",
        "samples = result.samples"
      ],
      "outputs": [],
      "execution_count": null
    },
    {
      "cell_type": "markdown",
      "metadata": {},
      "source": [
        "__Plotting__\n",
        "\n",
        "We now pass the samples to a `NestPlotter` which will allow us to use dynesty's in-built plotting libraries to \n",
        "make figures.\n",
        "\n",
        "The dynesty readthedocs describes fully all of the methods used below \n",
        "\n",
        " - https://dynesty.readthedocs.io/en/latest/quickstart.html\n",
        " - https://dynesty.readthedocs.io/en/latest/api.html#module-dynesty.plotting\n",
        " \n",
        "In all the examples below, we use the `kwargs` of this function to pass in any of the input parameters that are \n",
        "described in the API docs.\n",
        "\n",
        "Dynesty plotters use `_kwargs` dictionaries to pass visualization settings to matplotlib lib. For example, below,\n",
        "we:\n",
        "\n",
        " - Set the fontsize of the x and y labels by passing `label_kwargs={\"fontsize\": 16}`.\n",
        " - Set the fontsize of the title by passing `title_kwargs={\"fontsize\": \"10\"}`.\n",
        " \n",
        "There are other `_kwargs` inputs we pass as None, you should check out the Dynesty docs if you need to customize your\n",
        "figure."
      ]
    },
    {
      "cell_type": "code",
      "metadata": {},
      "source": [
        "plotter = aplt.NestPlotter(samples=samples)"
      ],
      "outputs": [],
      "execution_count": null
    },
    {
      "cell_type": "markdown",
      "metadata": {},
      "source": [
        "The `corner_anesthetic` method produces a triangle of 1D and 2D PDF's of every parameter using the library `anesthetic`."
      ]
    },
    {
      "cell_type": "code",
      "metadata": {},
      "source": [
        "plotter.corner_anesthetic()"
      ],
      "outputs": [],
      "execution_count": null
    },
    {
      "cell_type": "markdown",
      "metadata": {},
      "source": [
        "The `corner_cornerpy` method produces a triangle of 1D and 2D PDF's of every parameter using the library `corner.py`."
      ]
    },
    {
      "cell_type": "code",
      "metadata": {},
      "source": [
        "plotter.corner_cornerpy(\n",
        "    dims=None,\n",
        "    span=None,\n",
        "    quantiles=[0.025, 0.5, 0.975],\n",
        "    color=\"black\",\n",
        "    smooth=0.02,\n",
        "    quantiles_2d=None,\n",
        "    hist_kwargs=None,\n",
        "    hist2d_kwargs=None,\n",
        "    label_kwargs={\"fontsize\": 16},\n",
        "    show_titles=True,\n",
        "    title_fmt=\".2f\",\n",
        "    title_kwargs={\"fontsize\": \"10\"},\n",
        "    truths=None,\n",
        "    truth_color=\"red\",\n",
        "    truth_kwargs=None,\n",
        "    max_n_ticks=5,\n",
        "    top_ticks=False,\n",
        "    use_math_text=False,\n",
        "    verbose=False,\n",
        ")"
      ],
      "outputs": [],
      "execution_count": null
    },
    {
      "cell_type": "markdown",
      "metadata": {},
      "source": [
        "Finish."
      ]
    },
    {
      "cell_type": "code",
      "metadata": {},
      "source": [],
      "outputs": [],
      "execution_count": null
    }
  ],
  "metadata": {
    "anaconda-cloud": {},
    "kernelspec": {
      "display_name": "Python 3",
      "language": "python",
      "name": "python3"
    },
    "language_info": {
      "codemirror_mode": {
        "name": "ipython",
        "version": 3
      },
      "file_extension": ".py",
      "mimetype": "text/x-python",
      "name": "python",
      "nbconvert_exporter": "python",
      "pygments_lexer": "ipython3",
      "version": "3.6.1"
    }
  },
  "nbformat": 4,
  "nbformat_minor": 4
}