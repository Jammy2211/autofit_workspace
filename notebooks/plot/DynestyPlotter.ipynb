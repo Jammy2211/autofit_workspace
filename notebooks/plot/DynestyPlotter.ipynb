{
  "cells": [
    {
      "cell_type": "markdown",
      "metadata": {},
      "source": [
        "Plots: DynestyPlotter\n",
        "=====================\n",
        "\n",
        "This example illustrates how to plot visualization summarizing the results of a dynesty non-linear search using\n",
        "a `DynestyPlotter`."
      ]
    },
    {
      "cell_type": "code",
      "metadata": {},
      "source": [
        "%matplotlib inline\n",
        "from pyprojroot import here\n",
        "workspace_path = str(here())\n",
        "%cd $workspace_path\n",
        "print(f\"Working Directory has been set to `{workspace_path}`\")\n",
        "\n",
        "from os import path\n",
        "\n",
        "import autofit as af\n",
        "import autofit.plot as aplt"
      ],
      "outputs": [],
      "execution_count": null
    },
    {
      "cell_type": "markdown",
      "metadata": {},
      "source": [
        "First, lets create a result via dynesty by repeating the simple model-fit that is performed in \n",
        "the `overview/simple/fit.py` example."
      ]
    },
    {
      "cell_type": "code",
      "metadata": {},
      "source": [
        "dataset_path = path.join(\"dataset\", \"example_1d\", \"gaussian_x1\")\n",
        "data = af.util.numpy_array_from_json(file_path=path.join(dataset_path, \"data.json\"))\n",
        "noise_map = af.util.numpy_array_from_json(\n",
        "    file_path=path.join(dataset_path, \"noise_map.json\")\n",
        ")\n",
        "\n",
        "model = af.Model(af.ex.Gaussian)\n",
        "\n",
        "analysis = af.ex.Analysis(data=data, noise_map=noise_map)\n",
        "\n",
        "search = af.DynestyStatic(path_prefix=\"plot\", name=\"DynestyPlotter\")\n",
        "\n",
        "result = search.fit(model=model, analysis=analysis)\n",
        "\n",
        "samples = result.samples"
      ],
      "outputs": [],
      "execution_count": null
    },
    {
      "cell_type": "markdown",
      "metadata": {},
      "source": [
        "We now pass the samples to a `DynestyPlotter` which will allow us to use dynesty's in-built plotting libraries to \n",
        "make figures.\n",
        "\n",
        "The dynesty readthedocs describes fully all of the methods used below \n",
        "\n",
        " - https://dynesty.readthedocs.io/en/latest/quickstart.html\n",
        " - https://dynesty.readthedocs.io/en/latest/api.html#module-dynesty.plotting\n",
        " \n",
        "In all the examples below, we use the `kwargs` of this function to pass in any of the input parameters that are \n",
        "described in the API docs.\n",
        "\n",
        "Dynesty plotters use `_kwargs` dictionaries to pass visualization settings to matplotlib lib. For example, below,\n",
        "we:\n",
        "\n",
        " - Set the fontsize of the x and y labels by passing `label_kwargs={\"fontsize\": 16}`.\n",
        " - Set the fontsize of the title by passing `title_kwargs={\"fontsize\": \"10\"}`.\n",
        " \n",
        "There are other `_kwargs` inputs we pass as None, you should check out the Dynesty docs if you need to customize your\n",
        "figure."
      ]
    },
    {
      "cell_type": "code",
      "metadata": {},
      "source": [
        "search_plotter = aplt.DynestyPlotter(samples=samples)"
      ],
      "outputs": [],
      "execution_count": null
    },
    {
      "cell_type": "markdown",
      "metadata": {},
      "source": [
        "The `cornerplot` method produces a triangle of 1D and 2D PDF's of every parameter in the model fit."
      ]
    },
    {
      "cell_type": "code",
      "metadata": {},
      "source": [
        "search_plotter.cornerplot(\n",
        "    dims=None,\n",
        "    span=None,\n",
        "    quantiles=[0.025, 0.5, 0.975],\n",
        "    color=\"black\",\n",
        "    smooth=0.02,\n",
        "    quantiles_2d=None,\n",
        "    hist_kwargs=None,\n",
        "    hist2d_kwargs=None,\n",
        "    label_kwargs={\"fontsize\": 16},\n",
        "    show_titles=True,\n",
        "    title_fmt=\".2f\",\n",
        "    title_kwargs={\"fontsize\": \"10\"},\n",
        "    truths=None,\n",
        "    truth_color=\"red\",\n",
        "    truth_kwargs=None,\n",
        "    max_n_ticks=5,\n",
        "    top_ticks=False,\n",
        "    use_math_text=False,\n",
        "    verbose=False,\n",
        ")"
      ],
      "outputs": [],
      "execution_count": null
    },
    {
      "cell_type": "markdown",
      "metadata": {},
      "source": [
        "The `runplot` method shows how the estimates of the log evidence and other quantities progress as a function of\n",
        "iteration number during the dynesty model-fit."
      ]
    },
    {
      "cell_type": "code",
      "metadata": {},
      "source": [
        "search_plotter.runplot(\n",
        "    span=None,\n",
        "    logplot=False,\n",
        "    kde=True,\n",
        "    nkde=1000,\n",
        "    color=\"blue\",\n",
        "    plot_kwargs=None,\n",
        "    label_kwargs={\"fontsize\": 16},\n",
        "    lnz_error=True,\n",
        "    lnz_truth=None,\n",
        "    truth_color=\"red\",\n",
        "    truth_kwargs=None,\n",
        "    max_x_ticks=8,\n",
        "    max_y_ticks=3,\n",
        "    use_math_text=True,\n",
        "    mark_final_live=True,\n",
        "    fig=None,\n",
        ")"
      ],
      "outputs": [],
      "execution_count": null
    },
    {
      "cell_type": "markdown",
      "metadata": {},
      "source": [
        "The `traceplot` method shows how the live points of each parameter converged alongside their PDF."
      ]
    },
    {
      "cell_type": "code",
      "metadata": {},
      "source": [
        "search_plotter.traceplot(\n",
        "    span=None,\n",
        "    quantiles=[0.025, 0.5, 0.975],\n",
        "    smooth=0.02,\n",
        "    thin=1,\n",
        "    dims=None,\n",
        "    post_color=\"blue\",\n",
        "    post_kwargs=None,\n",
        "    kde=True,\n",
        "    nkde=1000,\n",
        "    trace_cmap=\"plasma\",\n",
        "    trace_color=None,\n",
        "    trace_kwargs=None,\n",
        "    connect=False,\n",
        "    connect_highlight=10,\n",
        "    connect_color=\"red\",\n",
        "    connect_kwargs=None,\n",
        "    max_n_ticks=5,\n",
        "    use_math_text=False,\n",
        "    label_kwargs={\"fontsize\": 16},\n",
        "    show_titles=True,\n",
        "    title_fmt=\".2f\",\n",
        "    title_kwargs={\"fontsize\": \"10\"},\n",
        "    truths=None,\n",
        "    truth_color=\"red\",\n",
        "    truth_kwargs=None,\n",
        "    verbose=False,\n",
        "    fig=None,\n",
        ")\n"
      ],
      "outputs": [],
      "execution_count": null
    },
    {
      "cell_type": "markdown",
      "metadata": {},
      "source": [
        "The `cornerpoints` method produces a triangle of 1D and 2D plots of the weight points of every parameter in the model \n",
        "fit."
      ]
    },
    {
      "cell_type": "code",
      "metadata": {},
      "source": [
        "search_plotter.cornerpoints(\n",
        "    dims=None,\n",
        "    thin=1,\n",
        "    span=None,\n",
        "    cmap=\"plasma\",\n",
        "    color=None,\n",
        "    kde=True,\n",
        "    nkde=1000,\n",
        "    plot_kwargs=None,\n",
        "    label_kwargs={\"fontsize\": 16},\n",
        "    truths=None,\n",
        "    truth_color=\"red\",\n",
        "    truth_kwargs=None,\n",
        "    max_n_ticks=5,\n",
        "    use_math_text=False,\n",
        "    fig=None,\n",
        ")"
      ],
      "outputs": [],
      "execution_count": null
    },
    {
      "cell_type": "markdown",
      "metadata": {},
      "source": [
        "The `boundplot` method produces a plot of the bounding distribution used to draw a live point at a given iteration `it`\n",
        "of the sample or of a dead point `idx`."
      ]
    },
    {
      "cell_type": "code",
      "metadata": {},
      "source": [
        "search_plotter.boundplot(\n",
        "    dims=(2, 2),\n",
        "    it=100,\n",
        "    idx=None,\n",
        "    prior_transform=None,\n",
        "    periodic=None,\n",
        "    reflective=None,\n",
        "    ndraws=5000,\n",
        "    color=\"gray\",\n",
        "    plot_kwargs=None,\n",
        "    label_kwargs={\"fontsize\": 16},\n",
        "    max_n_ticks=5,\n",
        "    use_math_text=False,\n",
        "    show_live=False,\n",
        "    live_color=\"darkviolet\",\n",
        "    live_kwargs=None,\n",
        "    span=None,\n",
        "    fig=None,\n",
        ")"
      ],
      "outputs": [],
      "execution_count": null
    },
    {
      "cell_type": "markdown",
      "metadata": {},
      "source": [
        "The `cornerbound` method produces the bounding distribution used to draw points at an input iteration `it` or used to\n",
        "specify a dead point via `idx`."
      ]
    },
    {
      "cell_type": "code",
      "metadata": {},
      "source": [
        "search_plotter.cornerbound(\n",
        "    it=100,\n",
        "    idx=None,\n",
        "    dims=None,\n",
        "    prior_transform=None,\n",
        "    periodic=None,\n",
        "    reflective=None,\n",
        "    ndraws=5000,\n",
        "    color=\"gray\",\n",
        "    plot_kwargs=None,\n",
        "    label_kwargs={\"fontsize\": 16},\n",
        "    max_n_ticks=5,\n",
        "    use_math_text=False,\n",
        "    show_live=False,\n",
        "    live_color=\"darkviolet\",\n",
        "    live_kwargs=None,\n",
        "    span=None,\n",
        "    fig=None,\n",
        ")"
      ],
      "outputs": [],
      "execution_count": null
    },
    {
      "cell_type": "markdown",
      "metadata": {},
      "source": [
        "Finish."
      ]
    },
    {
      "cell_type": "code",
      "metadata": {},
      "source": [],
      "outputs": [],
      "execution_count": null
    }
  ],
  "metadata": {
    "anaconda-cloud": {},
    "kernelspec": {
      "display_name": "Python 3",
      "language": "python",
      "name": "python3"
    },
    "language_info": {
      "codemirror_mode": {
        "name": "ipython",
        "version": 3
      },
      "file_extension": ".py",
      "mimetype": "text/x-python",
      "name": "python",
      "nbconvert_exporter": "python",
      "pygments_lexer": "ipython3",
      "version": "3.6.1"
    }
  },
  "nbformat": 4,
  "nbformat_minor": 4
}