{
  "cells": [
    {
      "cell_type": "markdown",
      "metadata": {},
      "source": [
        "Plots: DynestyPlotter\n",
        "======================\n",
        "\n",
        "This example illustrates how to plot visualization summarizing the results of a nautilus non-linear search using\n",
        "a `MCMCPlotter`."
      ]
    },
    {
      "cell_type": "code",
      "metadata": {},
      "source": [
        "\n",
        "%matplotlib inline\n",
        "from pyprojroot import here\n",
        "workspace_path = str(here())\n",
        "%cd $workspace_path\n",
        "print(f\"Working Directory has been set to `{workspace_path}`\")\n",
        "\n",
        "import numpy as np\n",
        "from os import path\n",
        "\n",
        "import autofit as af\n",
        "import autofit.plot as aplt"
      ],
      "outputs": [],
      "execution_count": null
    },
    {
      "cell_type": "markdown",
      "metadata": {},
      "source": [
        "First, lets create a result via nautilus by repeating the simple model-fit that is performed in \n",
        "the `overview/simple/fit.py` example."
      ]
    },
    {
      "cell_type": "code",
      "metadata": {},
      "source": [
        "dataset_path = path.join(\"dataset\", \"example_1d\", \"gaussian_x1\")\n",
        "data = af.util.numpy_array_from_json(file_path=path.join(dataset_path, \"data.json\"))\n",
        "noise_map = af.util.numpy_array_from_json(\n",
        "    file_path=path.join(dataset_path, \"noise_map.json\")\n",
        ")\n",
        "\n",
        "model = af.Model(af.ex.Gaussian)\n",
        "\n",
        "analysis = af.ex.Analysis(data=data, noise_map=noise_map)\n",
        "\n",
        "search = af.Nautilus(\n",
        "    path_prefix=\"plot\",\n",
        "    name=\"NestPlotter\",\n",
        "    n_live=100,  # Number of so-called live points. New bounds are constructed so that they encompass the live points.\n",
        ")\n",
        "\n",
        "result = search.fit(model=model, analysis=analysis)\n",
        "\n",
        "samples = result.samples"
      ],
      "outputs": [],
      "execution_count": null
    },
    {
      "cell_type": "markdown",
      "metadata": {},
      "source": [
        "__Notation__\n",
        "\n",
        "Plot are labeled with short hand parameter names (e.g. the `centre` parameters are plotted using an `x`). \n",
        "\n",
        "The mappings of every parameter to its shorthand symbol for plots is specified in the `config/notation.yaml` file \n",
        "and can be customized.\n",
        "\n",
        "Each label also has a superscript corresponding to the model component the parameter originates from. For example,\n",
        "Gaussians are given the superscript `g`. This can also be customized in the `config/notation.yaml` file.\n",
        "\n",
        "__Plotting__\n",
        "\n",
        "We now pass the samples to a `NestPlotter` which will allow us to use nautilus's in-built plotting libraries to \n",
        "make figures.\n",
        "\n",
        "The nautilus readthedocs describes fully all of the methods used below \n",
        "\n",
        " - https://nautilus-sampler.readthedocs.io/en/stable/guides/crash_course.html\n",
        " \n",
        "In all the examples below, we use the `kwargs` of this function to pass in any of the input parameters that are \n",
        "described in the API docs.\n",
        "\n",
        "Nautilus plotters use `_kwargs` dictionaries to pass visualization settings to matplotlib lib. For example, below,\n",
        "we:\n",
        "\n",
        " - Set the fontsize of the x and y labels by passing `label_kwargs={\"fontsize\": 16}`.\n",
        " - Set the fontsize of the title by passing `title_kwargs={\"fontsize\": \"10\"}`.\n",
        " \n",
        "There are other `_kwargs` inputs we pass as None, you should check out the Nautilus docs if you need to customize your\n",
        "figure."
      ]
    },
    {
      "cell_type": "code",
      "metadata": {},
      "source": [
        "plotter = aplt.NestPlotter(\n",
        "    samples=samples,\n",
        ")"
      ],
      "outputs": [],
      "execution_count": null
    },
    {
      "cell_type": "markdown",
      "metadata": {},
      "source": [
        "The `corner_anesthetic` method produces a triangle of 1D and 2D PDF's of every parameter using the library `anesthetic`."
      ]
    },
    {
      "cell_type": "code",
      "metadata": {},
      "source": [
        "plotter.corner_anesthetic()"
      ],
      "outputs": [],
      "execution_count": null
    },
    {
      "cell_type": "markdown",
      "metadata": {},
      "source": [
        "The `corner` method produces a triangle of 1D and 2D PDF's of every parameter using the library `corner.py`."
      ]
    },
    {
      "cell_type": "code",
      "metadata": {},
      "source": [
        "plotter.corner_cornerpy(\n",
        "    panelsize=3.5,\n",
        "    yticksize=16,\n",
        "    xticksize=16,\n",
        "    bins=20,\n",
        "    plot_datapoints=False,\n",
        "    plot_density=False,\n",
        "    fill_contours=True,\n",
        "    levels=(0.68, 0.95),\n",
        "    labelpad=0.02,\n",
        "    range=np.ones(model.total_free_parameters) * 0.999,\n",
        "    label_kwargs={\"fontsize\": 24},\n",
        ")"
      ],
      "outputs": [],
      "execution_count": null
    },
    {
      "cell_type": "markdown",
      "metadata": {},
      "source": [
        "__Search Specific Visualization__\n",
        "\n",
        "The internal sampler can be used to plot the results of the non-linear search. \n",
        "\n",
        "We do this using the `search_internal` attribute which contains the sampler in its native form.\n",
        "\n",
        "The first time you run a search, the `search_internal` attribute will be available because it is passed ot the\n",
        "result via memory. \n",
        "\n",
        "If you rerun the fit on a completed result, it will not be available in memory, and therefore\n",
        "will be loaded from the `files/search_internal` folder. The `search_internal` entry of the `output.yaml` must be true \n",
        "for this to be possible."
      ]
    },
    {
      "cell_type": "code",
      "metadata": {},
      "source": [
        "search_internal = result.search_internal"
      ],
      "outputs": [],
      "execution_count": null
    },
    {
      "cell_type": "markdown",
      "metadata": {},
      "source": [
        "__Plots__\n",
        "\n",
        "Nautilus example plots are not shown explicitly below, so checkout their docs for examples!"
      ]
    },
    {
      "cell_type": "code",
      "metadata": {},
      "source": [],
      "outputs": [],
      "execution_count": null
    }
  ],
  "metadata": {
    "anaconda-cloud": {},
    "kernelspec": {
      "display_name": "Python 3",
      "language": "python",
      "name": "python3"
    },
    "language_info": {
      "codemirror_mode": {
        "name": "ipython",
        "version": 3
      },
      "file_extension": ".py",
      "mimetype": "text/x-python",
      "name": "python",
      "nbconvert_exporter": "python",
      "pygments_lexer": "ipython3",
      "version": "3.6.1"
    }
  },
  "nbformat": 4,
  "nbformat_minor": 4
}