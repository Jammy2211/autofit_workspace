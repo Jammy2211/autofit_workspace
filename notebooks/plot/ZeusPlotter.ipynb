{
  "cells": [
    {
      "cell_type": "markdown",
      "metadata": {},
      "source": [
        "Plots: MCMCPlotter\n",
        "==================\n",
        "\n",
        "This example illustrates how to plot visualization summarizing the results of a zeus non-linear search using\n",
        "a `MCMCPlotter`."
      ]
    },
    {
      "cell_type": "code",
      "metadata": {},
      "source": [
        "%matplotlib inline\n",
        "from pyprojroot import here\n",
        "workspace_path = str(here())\n",
        "%cd $workspace_path\n",
        "print(f\"Working Directory has been set to `{workspace_path}`\")\n",
        "\n",
        "from os import path\n",
        "\n",
        "import autofit as af\n",
        "import autofit.plot as aplt"
      ],
      "outputs": [],
      "execution_count": null
    },
    {
      "cell_type": "markdown",
      "metadata": {},
      "source": [
        "First, lets create a result via zeus by repeating the simple model-fit that is performed in \n",
        "the `overview/simple/fit.py` example."
      ]
    },
    {
      "cell_type": "code",
      "metadata": {},
      "source": [
        "dataset_path = path.join(\"dataset\", \"example_1d\", \"gaussian_x1\")\n",
        "data = af.util.numpy_array_from_json(file_path=path.join(dataset_path, \"data.json\"))\n",
        "noise_map = af.util.numpy_array_from_json(\n",
        "    file_path=path.join(dataset_path, \"noise_map.json\")\n",
        ")\n",
        "\n",
        "model = af.Model(af.ex.Gaussian)\n",
        "\n",
        "model.centre = af.UniformPrior(lower_limit=0.0, upper_limit=100.0)\n",
        "model.normalization = af.UniformPrior(lower_limit=1e-2, upper_limit=1e2)\n",
        "model.sigma = af.UniformPrior(lower_limit=0.0, upper_limit=30.0)\n",
        "\n",
        "analysis = af.ex.Analysis(data=data, noise_map=noise_map)\n",
        "\n",
        "search = af.Zeus(\n",
        "    path_prefix=path.join(\"plot\"), name=\"MCMCPlotter\", nwalkers=100, nsteps=10000\n",
        ")\n",
        "\n",
        "result = search.fit(model=model, analysis=analysis)\n",
        "\n",
        "samples = result.samples"
      ],
      "outputs": [],
      "execution_count": null
    },
    {
      "cell_type": "markdown",
      "metadata": {},
      "source": [
        "__Notation__\n",
        "\n",
        "Plot are labeled with short hand parameter names (e.g. the `centre` parameters are plotted using an `x`). \n",
        "\n",
        "The mappings of every parameter to its shorthand symbol for plots is specified in the `config/notation.yaml` file \n",
        "and can be customized.\n",
        "\n",
        "Each label also has a superscript corresponding to the model component the parameter originates from. For example,\n",
        "Gaussians are given the superscript `g`. This can also be customized in the `config/notation.yaml` file.\n",
        "\n",
        "__Plotting__\n",
        "\n",
        "We now pass the samples to a `MCMCPlotter` which will allow us to use dynesty's in-built plotting libraries to \n",
        "make figures.\n",
        "\n",
        "The zeus readthedocs describes fully all of the methods used below \n",
        "\n",
        " - https://zeus-mcmc.readthedocs.io/en/latest/api/plotting.html#cornerplot\n",
        " - https://zeus-mcmc.readthedocs.io/en/latest/notebooks/normal_distribution.html\n",
        " \n",
        " The plotter wraps the `corner` method of the library `corner.py` to make corner plots of the PDF:\n",
        "\n",
        "- https://corner.readthedocs.io/en/latest/index.html\n",
        " \n",
        "In all the examples below, we use the `kwargs` of this function to pass in any of the input parameters that are \n",
        "described in the API docs."
      ]
    },
    {
      "cell_type": "code",
      "metadata": {},
      "source": [
        "plotter = aplt.MCMCPlotter(samples=samples)"
      ],
      "outputs": [],
      "execution_count": null
    },
    {
      "cell_type": "markdown",
      "metadata": {},
      "source": [
        "The `corner` method produces a triangle of 1D and 2D PDF's of every parameter using the library `corner.py`."
      ]
    },
    {
      "cell_type": "code",
      "metadata": {},
      "source": [
        "plotter.corner_cornerpy(\n",
        "    weight_list=None,\n",
        "    levels=None,\n",
        "    span=None,\n",
        "    quantiles=[0.025, 0.5, 0.975],\n",
        "    truth=None,\n",
        "    color=None,\n",
        "    alpha=0.5,\n",
        "    linewidth=1.5,\n",
        "    fill=True,\n",
        "    fontsize=10,\n",
        "    show_titles=True,\n",
        "    title_fmt=\".2f\",\n",
        "    title_fontsize=12,\n",
        "    cut=3,\n",
        "    fig=None,\n",
        "    size=(10, 10),\n",
        ")\n"
      ],
      "outputs": [],
      "execution_count": null
    },
    {
      "cell_type": "markdown",
      "metadata": {},
      "source": [
        "__Search Specific Visualization__\n",
        "\n",
        "The internal sampler can be used to plot the results of the non-linear search. \n",
        "\n",
        "The first time you run a search, the `search_internal` attribute will be available because it is passed ot the\n",
        "result via memory. \n",
        "\n",
        "If you rerun the fit on a completed result, it will not be available in memory, and therefore\n",
        "will be loaded from the `files/search_internal` folder. The `search_internal` entry of the `output.yaml` must be true \n",
        "for this to be possible."
      ]
    },
    {
      "cell_type": "code",
      "metadata": {},
      "source": [
        "search_internal = result.search_internal"
      ],
      "outputs": [],
      "execution_count": null
    },
    {
      "cell_type": "markdown",
      "metadata": {},
      "source": [
        "The method below shows a 2D projection of the walker trajectories."
      ]
    },
    {
      "cell_type": "code",
      "metadata": {},
      "source": [
        "fig, axes = plt.subplots(result.model.prior_count, figsize=(10, 7))\n",
        "\n",
        "for i in range(result.model.prior_count):\n",
        "    for walker_index in range(search_internal.get_log_prob().shape[1]):\n",
        "        ax = axes[i]\n",
        "        ax.plot(\n",
        "            search_internal.get_chain()[:, walker_index, i],\n",
        "            search_internal.get_log_prob()[:, walker_index],\n",
        "            alpha=0.3,\n",
        "        )\n",
        "\n",
        "    ax.set_ylabel(\"Log Likelihood\")\n",
        "    ax.set_xlabel(result.model.parameter_labels_with_superscripts_latex[i])\n",
        "\n",
        "plt.show()"
      ],
      "outputs": [],
      "execution_count": null
    },
    {
      "cell_type": "markdown",
      "metadata": {},
      "source": [
        "This method shows the likelihood as a series of steps."
      ]
    },
    {
      "cell_type": "code",
      "metadata": {},
      "source": [
        "\n",
        "fig, axes = plt.subplots(1, figsize=(10, 7))\n",
        "\n",
        "for walker_index in range(search_internal.get_log_prob().shape[1]):\n",
        "    axes.plot(search_internal.get_log_prob()[:, walker_index], alpha=0.3)\n",
        "\n",
        "axes.set_ylabel(\"Log Likelihood\")\n",
        "axes.set_xlabel(\"step number\")\n",
        "\n",
        "plt.show()"
      ],
      "outputs": [],
      "execution_count": null
    },
    {
      "cell_type": "markdown",
      "metadata": {},
      "source": [
        "This method shows the parameter values of every walker at every step."
      ]
    },
    {
      "cell_type": "code",
      "metadata": {},
      "source": [
        "fig, axes = plt.subplots(result.samples.model.prior_count, figsize=(10, 7), sharex=True)\n",
        "\n",
        "for i in range(result.samples.model.prior_count):\n",
        "    ax = axes[i]\n",
        "    ax.plot(search_internal.get_chain()[:, :, i], alpha=0.3)\n",
        "    ax.set_ylabel(result.model.parameter_labels_with_superscripts_latex[i])\n",
        "\n",
        "axes[-1].set_xlabel(\"step number\")\n",
        "\n",
        "plt.show()"
      ],
      "outputs": [],
      "execution_count": null
    },
    {
      "cell_type": "markdown",
      "metadata": {},
      "source": [
        "Finish."
      ]
    },
    {
      "cell_type": "code",
      "metadata": {},
      "source": [],
      "outputs": [],
      "execution_count": null
    }
  ],
  "metadata": {
    "anaconda-cloud": {},
    "kernelspec": {
      "display_name": "Python 3",
      "language": "python",
      "name": "python3"
    },
    "language_info": {
      "codemirror_mode": {
        "name": "ipython",
        "version": 3
      },
      "file_extension": ".py",
      "mimetype": "text/x-python",
      "name": "python",
      "nbconvert_exporter": "python",
      "pygments_lexer": "ipython3",
      "version": "3.6.1"
    }
  },
  "nbformat": 4,
  "nbformat_minor": 4
}