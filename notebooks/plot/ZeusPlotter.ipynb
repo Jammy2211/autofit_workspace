{
  "cells": [
    {
      "cell_type": "markdown",
      "metadata": {},
      "source": [
        "Plots: MCMCPlotter\n",
        "==================\n",
        "\n",
        "This example illustrates how to plot visualization summarizing the results of a zeus non-linear search using\n",
        "a `MCMCPlotter`."
      ]
    },
    {
      "cell_type": "code",
      "metadata": {},
      "source": [
        "%matplotlib inline\n",
        "from pyprojroot import here\n",
        "workspace_path = str(here())\n",
        "%cd $workspace_path\n",
        "print(f\"Working Directory has been set to `{workspace_path}`\")\n",
        "\n",
        "from os import path\n",
        "\n",
        "import autofit as af\n",
        "import autofit.plot as aplt"
      ],
      "outputs": [],
      "execution_count": null
    },
    {
      "cell_type": "markdown",
      "metadata": {},
      "source": [
        "First, lets create a result via zeus by repeating the simple model-fit that is performed in \n",
        "the `overview/simple/fit.py` example."
      ]
    },
    {
      "cell_type": "code",
      "metadata": {},
      "source": [
        "dataset_path = path.join(\"dataset\", \"example_1d\", \"gaussian_x1\")\n",
        "data = af.util.numpy_array_from_json(file_path=path.join(dataset_path, \"data.json\"))\n",
        "noise_map = af.util.numpy_array_from_json(\n",
        "    file_path=path.join(dataset_path, \"noise_map.json\")\n",
        ")\n",
        "\n",
        "model = af.Model(af.ex.Gaussian)\n",
        "\n",
        "model.centre = af.UniformPrior(lower_limit=0.0, upper_limit=100.0)\n",
        "model.normalization = af.UniformPrior(lower_limit=1e-2, upper_limit=1e2)\n",
        "model.sigma = af.UniformPrior(lower_limit=0.0, upper_limit=30.0)\n",
        "\n",
        "analysis = af.ex.Analysis(data=data, noise_map=noise_map)\n",
        "\n",
        "search = af.Zeus(\n",
        "    path_prefix=path.join(\"plot\"), name=\"MCMCPlotter\", nwalkers=100, nsteps=10000\n",
        ")\n",
        "\n",
        "result = search.fit(model=model, analysis=analysis)\n",
        "\n",
        "samples = result.samples"
      ],
      "outputs": [],
      "execution_count": null
    },
    {
      "cell_type": "markdown",
      "metadata": {},
      "source": [
        "We now pass the samples to a `MCMCPlotter` which will allow us to use dynesty's in-built plotting libraries to \n",
        "make figures.\n",
        "\n",
        "The zeus readthedocs describes fully all of the methods used below \n",
        "\n",
        " - https://zeus-mcmc.readthedocs.io/en/latest/api/plotting.html#cornerplot\n",
        " - https://zeus-mcmc.readthedocs.io/en/latest/notebooks/normal_distribution.html\n",
        " \n",
        " The plotter wraps the `corner` method of the library `corner.py` to make corner plots of the PDF:\n",
        "\n",
        "- https://corner.readthedocs.io/en/latest/index.html\n",
        " \n",
        "In all the examples below, we use the `kwargs` of this function to pass in any of the input parameters that are \n",
        "described in the API docs."
      ]
    },
    {
      "cell_type": "code",
      "metadata": {},
      "source": [
        "plotter = aplt.MCMCPlotter(samples=samples)"
      ],
      "outputs": [],
      "execution_count": null
    },
    {
      "cell_type": "markdown",
      "metadata": {},
      "source": [
        "The `corner` method produces a triangle of 1D and 2D PDF's of every parameter using the library `corner.py`."
      ]
    },
    {
      "cell_type": "code",
      "metadata": {},
      "source": [
        "plotter.corner_cornerpy(\n",
        "    weight_list=None,\n",
        "    levels=None,\n",
        "    span=None,\n",
        "    quantiles=[0.025, 0.5, 0.975],\n",
        "    truth=None,\n",
        "    color=None,\n",
        "    alpha=0.5,\n",
        "    linewidth=1.5,\n",
        "    fill=True,\n",
        "    fontsize=10,\n",
        "    show_titles=True,\n",
        "    title_fmt=\".2f\",\n",
        "    title_fontsize=12,\n",
        "    cut=3,\n",
        "    fig=None,\n",
        "    size=(10, 10),\n",
        ")"
      ],
      "outputs": [],
      "execution_count": null
    },
    {
      "cell_type": "markdown",
      "metadata": {},
      "source": [
        "Finish."
      ]
    },
    {
      "cell_type": "code",
      "metadata": {},
      "source": [],
      "outputs": [],
      "execution_count": null
    }
  ],
  "metadata": {
    "anaconda-cloud": {},
    "kernelspec": {
      "display_name": "Python 3",
      "language": "python",
      "name": "python3"
    },
    "language_info": {
      "codemirror_mode": {
        "name": "ipython",
        "version": 3
      },
      "file_extension": ".py",
      "mimetype": "text/x-python",
      "name": "python",
      "nbconvert_exporter": "python",
      "pygments_lexer": "ipython3",
      "version": "3.6.1"
    }
  },
  "nbformat": 4,
  "nbformat_minor": 4
}