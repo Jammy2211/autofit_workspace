{
  "cells": [
    {
      "cell_type": "markdown",
      "metadata": {},
      "source": [
        "Searches: UltraNest\n",
        "=======================\n",
        "\n",
        "This example illustrates how to use the nested sampling algorithm UltraNest.\n",
        "\n",
        "UltraNest is an optional requirement and must be installed manually via the command `pip install ultranest`.\n",
        "It is optional as it has certain dependencies which are generally straight forward to install (e.g. Cython).\n",
        "\n",
        "Information about UltraNest can be found at the following links:\n",
        "\n",
        " - https://github.com/JohannesBuchner/UltraNest\n",
        " - https://johannesbuchner.github.io/UltraNest/readme.html"
      ]
    },
    {
      "cell_type": "code",
      "metadata": {},
      "source": [
        "%matplotlib inline\n",
        "from pyprojroot import here\n",
        "workspace_path = str(here())\n",
        "%cd $workspace_path\n",
        "print(f\"Working Directory has been set to `{workspace_path}`\")\n",
        "\n",
        "import matplotlib.pyplot as plt\n",
        "import numpy as np\n",
        "from os import path\n",
        "\n",
        "import autofit as af"
      ],
      "outputs": [],
      "execution_count": null
    },
    {
      "cell_type": "markdown",
      "metadata": {},
      "source": [
        "__Data__\n",
        "\n",
        "This example fits a single 1D Gaussian, we therefore load and plot data containing one Gaussian."
      ]
    },
    {
      "cell_type": "code",
      "metadata": {},
      "source": [
        "dataset_path = path.join(\"dataset\", \"example_1d\", \"gaussian_x1\")\n",
        "data = af.util.numpy_array_from_json(file_path=path.join(dataset_path, \"data.json\"))\n",
        "noise_map = af.util.numpy_array_from_json(\n",
        "    file_path=path.join(dataset_path, \"noise_map.json\")\n",
        ")\n",
        "\n",
        "plt.errorbar(\n",
        "    x=range(data.shape[0]),\n",
        "    y=data,\n",
        "    yerr=noise_map,\n",
        "    color=\"k\",\n",
        "    ecolor=\"k\",\n",
        "    elinewidth=1,\n",
        "    capsize=2,\n",
        ")\n",
        "plt.show()\n",
        "plt.close()"
      ],
      "outputs": [],
      "execution_count": null
    },
    {
      "cell_type": "markdown",
      "metadata": {},
      "source": [
        "__Model + Analysis__\n",
        "\n",
        "We create the model and analysis, which in this example is a single `Gaussian` and therefore has dimensionality N=3."
      ]
    },
    {
      "cell_type": "code",
      "metadata": {},
      "source": [
        "model = af.Model(af.ex.Gaussian)\n",
        "\n",
        "model.centre = af.UniformPrior(lower_limit=0.0, upper_limit=100.0)\n",
        "model.normalization = af.LogUniformPrior(lower_limit=1e-2, upper_limit=1e2)\n",
        "model.sigma = af.UniformPrior(lower_limit=0.0, upper_limit=30.0)\n",
        "\n",
        "analysis = af.ex.Analysis(data=data, noise_map=noise_map)"
      ],
      "outputs": [],
      "execution_count": null
    },
    {
      "cell_type": "markdown",
      "metadata": {},
      "source": [
        "__Search__\n",
        "\n",
        "We now create and run the `UltraNest` object which acts as our non-linear search. \n",
        "\n",
        "We manually specify all of the Dynesty settings, descriptions of which are provided at the following webpage:\n",
        "\n",
        "- https://johannesbuchner.github.io/UltraNest/readme.html\n",
        "- https://johannesbuchner.github.io/UltraNest/ultranest.html#ultranest.integrator.ReactiveNestedSampler"
      ]
    },
    {
      "cell_type": "code",
      "metadata": {},
      "source": [
        "search = af.UltraNest(\n",
        "    path_prefix=\"searches\",\n",
        "    name=\"UltraNest\",\n",
        "    resume=True,\n",
        "    run_num=None,\n",
        "    num_test_samples=2,\n",
        "    draw_multiple=True,\n",
        "    num_bootstraps=30,\n",
        "    vectorized=False,\n",
        "    ndraw_min=128,\n",
        "    ndraw_max=65536,\n",
        "    storage_backend=\"hdf5\",\n",
        "    warmstart_max_tau=-1,\n",
        "    update_interval_volume_fraction=0.8,\n",
        "    update_interval_ncall=None,\n",
        "    log_interval=None,\n",
        "    show_status=True,\n",
        "    viz_callback=\"auto\",\n",
        "    dlogz=0.5,\n",
        "    dKL=0.5,\n",
        "    frac_remain=0.01,\n",
        "    Lepsilon=0.001,\n",
        "    min_ess=400,\n",
        "    max_iters=None,\n",
        "    max_ncalls=None,\n",
        "    max_num_improvement_loops=-1,\n",
        "    min_num_live_points=50,\n",
        "    cluster_num_live_points=40,\n",
        "    insertion_test_window=10,\n",
        "    insertion_test_zscore_threshold=2,\n",
        "    stepsampler_cls=\"RegionMHSampler\",\n",
        "    nsteps=11,\n",
        "    number_of_cores=1,\n",
        ")\n",
        "\n",
        "result = search.fit(model=model, analysis=analysis)"
      ],
      "outputs": [],
      "execution_count": null
    },
    {
      "cell_type": "markdown",
      "metadata": {},
      "source": [
        "__Result__\n",
        "\n",
        "The result object returned by the fit provides information on the results of the non-linear search. Lets use it to\n",
        "compare the maximum log likelihood `Gaussian` to the data."
      ]
    },
    {
      "cell_type": "code",
      "metadata": {},
      "source": [
        "model_data = result.max_log_likelihood_instance.model_data_1d_via_xvalues_from(\n",
        "    xvalues=np.arange(data.shape[0])\n",
        ")\n",
        "\n",
        "plt.errorbar(\n",
        "    x=range(data.shape[0]),\n",
        "    y=data,\n",
        "    yerr=noise_map,\n",
        "    color=\"k\",\n",
        "    ecolor=\"k\",\n",
        "    elinewidth=1,\n",
        "    capsize=2,\n",
        ")\n",
        "plt.plot(range(data.shape[0]), model_data, color=\"r\")\n",
        "plt.title(\"UltraNest model fit to 1D Gaussian dataset.\")\n",
        "plt.xlabel(\"x values of profile\")\n",
        "plt.ylabel(\"Profile normalization\")\n",
        "plt.show()\n",
        "plt.close()\n"
      ],
      "outputs": [],
      "execution_count": null
    }
  ],
  "metadata": {
    "anaconda-cloud": {},
    "kernelspec": {
      "display_name": "Python 3",
      "language": "python",
      "name": "python3"
    },
    "language_info": {
      "codemirror_mode": {
        "name": "ipython",
        "version": 3
      },
      "file_extension": ".py",
      "mimetype": "text/x-python",
      "name": "python",
      "nbconvert_exporter": "python",
      "pygments_lexer": "ipython3",
      "version": "3.6.1"
    }
  },
  "nbformat": 4,
  "nbformat_minor": 4
}